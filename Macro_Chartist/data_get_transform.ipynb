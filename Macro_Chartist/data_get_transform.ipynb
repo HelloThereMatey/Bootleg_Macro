{
 "cells": [
  {
   "cell_type": "code",
   "execution_count": 4,
   "metadata": {},
   "outputs": [
    {
     "name": "stderr",
     "output_type": "stream",
     "text": [
      "you are using nologin method, data you access may be limited\n"
     ]
    },
    {
     "name": "stdout",
     "output_type": "stream",
     "text": [
      "[{'symbol': 'CNLIVRR', 'description': 'China Liquidity Injections Via Reverse Repo', 'type': 'economic', 'exchange': 'ECONOMICS', 'currency_code': 'CNY', 'logoid': 'country/CN', 'provider_id': 'economics', 'economic_category': {'id': 'mny', 'name': 'Money'}, 'source2': {'id': 'CNCB', 'name': 'CB, China', 'description': 'Central Bank'}, 'source_id': 'CNCB', 'country': 'CN', 'params': ['eod']}]\n"
     ]
    }
   ],
   "source": [
    "import sys; sys.path.append(\"/Users/jamesbishop/Documents/Python/TempVenv/Bootleg_Macro/MacroBackend\")\n",
    "from tvDatafeedz import TvDatafeed, Interval\n",
    "\n",
    "cat = TvDatafeed()\n",
    "ticker = cat.search_symbol(\"CNLIVRR\")\n",
    "print(ticker)\n"
   ]
  },
  {
   "cell_type": "code",
   "execution_count": 5,
   "metadata": {},
   "outputs": [],
   "source": [
    "import pandas as pd\n",
    "import os\n",
    "fdel = os.path.sep\n",
    "\n",
    "dataname = 'CPIAUCSL'\n",
    "dataPath = '/Users/jamesbishop/Documents/Python/Bootleg_Macro/Macro_Chartist/SavedData'\n",
    "cpi = pd.Series(pd.read_excel(dataPath+fdel+dataname+'.xlsx', sheet_name='Closing_Price', index_col=0).squeeze(), name = 'CPI')\n",
    "SeriesInfo = pd.Series(pd.read_excel(dataPath+fdel+dataname+'.xlsx', sheet_name='SeriesInfo', index_col=0).squeeze(), name = 'SeriesInfo')\n",
    "cpi_mom = cpi.pct_change() + 1\n",
    "norm_index = [1]\n",
    "\n",
    "for i in range(1, len(cpi), 1): \n",
    "   norm_index.append(norm_index[i-1]*cpi_mom[i])\n",
    "\n",
    "cpi_norm_index = pd.Series(norm_index, name = 'CPI_chained_1_1990', index = cpi.index)   \n",
    "\n",
    "saveName = 'CPI_Norm.xlsx'\n",
    "cpi_norm_index.to_excel(dataPath+fdel+saveName,sheet_name='Closing_Price')\n",
    "with pd.ExcelWriter(dataPath+fdel+saveName, engine='openpyxl', mode='a') as writer:  \n",
    "    SeriesInfo.to_excel(writer, sheet_name='SeriesInfo')\n"
   ]
  },
  {
   "cell_type": "code",
   "execution_count": null,
   "metadata": {},
   "outputs": [],
   "source": []
  }
 ],
 "metadata": {
  "kernelspec": {
   "display_name": "Python 3",
   "language": "python",
   "name": "python3"
  },
  "language_info": {
   "codemirror_mode": {
    "name": "ipython",
    "version": 3
   },
   "file_extension": ".py",
   "mimetype": "text/x-python",
   "name": "python",
   "nbconvert_exporter": "python",
   "pygments_lexer": "ipython3",
   "version": "3.9.6"
  }
 },
 "nbformat": 4,
 "nbformat_minor": 2
}
