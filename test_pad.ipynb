{
 "cells": [
  {
   "cell_type": "code",
   "execution_count": 6,
   "metadata": {},
   "outputs": [
    {
     "name": "stdout",
     "output_type": "stream",
     "text": [
      "Looking for api keys in SystemInfo folder... /Users/jamesbishop/Documents/Python/Bootleg_Macro/MacroBackend/SystemInfo/API_Keys.json\n",
      "Key file found, all good bruv. \n",
      "{'fred': 'f632119c4e0599a3229fec5a9ac83b1c', 'glassnode': '2RpkhVDN1GXAgTNG23u9lhHQCJL', 'bea': '779F26DA-1DB0-4CC2-94DD-2AE3492DA4FC', 'quandl': 'ChHHNTWkY4rb3aYoYepw'}\n"
     ]
    }
   ],
   "source": [
    "import pandas as pd\n",
    "import matplotlib.pyplot as plt\n",
    "wd = %pwd\n",
    "import os\n",
    "fdel = os.path.sep\n",
    "\n",
    "from MacroBackend import Utilities, PriceImporter, Pull_Data, Charting\n",
    "import datetime\n",
    "\n",
    "keys = Utilities.api_keys()\n",
    "print(keys.keys)\n",
    "myFredAPI_key = keys.keys['fred']\n",
    "DataStart = \"2021-01-01\"\n",
    "EndDateStr = datetime.date.today().strftime(\"%Y-%m-%d\")\n"
   ]
  },
  {
   "cell_type": "code",
   "execution_count": 8,
   "metadata": {},
   "outputs": [
    {
     "name": "stdout",
     "output_type": "stream",
     "text": [
      "date\n",
      "2021-01-06      0.000\n",
      "2021-01-07      0.000\n",
      "2021-01-08      0.000\n",
      "2021-01-09      0.000\n",
      "2021-01-10      0.000\n",
      "               ...   \n",
      "2024-03-09    164.022\n",
      "2024-03-10    164.022\n",
      "2024-03-11    164.022\n",
      "2024-03-12    164.022\n",
      "2024-03-13    167.463\n",
      "Freq: D, Name: H41RESPPALDKNWW, Length: 1163, dtype: float64\n"
     ]
    },
    {
     "data": {
      "text/plain": [
       "date\n",
       "2021-01-06      0.000\n",
       "2021-01-07      0.000\n",
       "2021-01-08      0.000\n",
       "2021-01-09      0.000\n",
       "2021-01-10      0.000\n",
       "               ...   \n",
       "2024-03-09    164.022\n",
       "2024-03-10    164.022\n",
       "2024-03-11    164.022\n",
       "2024-03-12    164.022\n",
       "2024-03-13    167.463\n",
       "Freq: D, Name: H41RESPPALDKNWW, Length: 1163, dtype: float64"
      ]
     },
     "execution_count": 8,
     "metadata": {},
     "output_type": "execute_result"
    }
   ],
   "source": [
    "btfp_meta, btfp = PriceImporter.PullFredSeries(\"H41RESPPALDKNWW\",myFredAPI_key,start=DataStart,end=EndDateStr,Con2Bil=True)\n",
    "btfp_d = btfp.resample('D').ffill()\n",
    "print(btfp_d)\n",
    "btfp_d"
   ]
  },
  {
   "cell_type": "code",
   "execution_count": null,
   "metadata": {},
   "outputs": [],
   "source": []
  }
 ],
 "metadata": {
  "kernelspec": {
   "display_name": "Python 3",
   "language": "python",
   "name": "python3"
  },
  "language_info": {
   "codemirror_mode": {
    "name": "ipython",
    "version": 3
   },
   "file_extension": ".py",
   "mimetype": "text/x-python",
   "name": "python",
   "nbconvert_exporter": "python",
   "pygments_lexer": "ipython3",
   "version": "3.9.6"
  }
 },
 "nbformat": 4,
 "nbformat_minor": 2
}
