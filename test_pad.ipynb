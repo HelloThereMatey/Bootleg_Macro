{
 "cells": [
  {
   "cell_type": "markdown",
   "metadata": {},
   "source": [
    "# Bootleg Macro Testing Ground :dog: :cat: :bird: :eggplant:\n",
    "\n",
    "## Explore various functionalities here.\n",
    "\n",
    "### Searching for asset ticker symbols and building watchlists."
   ]
  },
  {
   "cell_type": "code",
   "execution_count": 2,
   "metadata": {},
   "outputs": [
    {
     "name": "stdout",
     "output_type": "stream",
     "text": [
      "/Users/jamesbishop/Documents/Python/Bootleg_Macro/MacroBackend /Users/jamesbishop/Documents/Python/Bootleg_Macro\n",
      "Looking for api keys in SystemInfo folder... /Users/jamesbishop/Documents/Python/Bootleg_Macro/MacroBackend/SystemInfo/API_Keys.json\n",
      "API_keys found but the \"API_Keys_demo.json\" file is still present... Delete that file to silence this warning.\n",
      "{'fred': 'f632119c4e0599a3229fec5a9ac83b1c', 'glassnode': '2RpkhVDN1GXAgTNG23u9lhHQCJL', 'bea': '779F26DA-1DB0-4CC2-94DD-2AE3492DA4FC', 'quandl': 'ChHHNTWkY4rb3aYoYepw'}\n"
     ]
    }
   ],
   "source": [
    "import pandas as pd\n",
    "import matplotlib.pyplot as plt\n",
    "wd = %pwd\n",
    "import os\n",
    "fdel = os.path.sep\n",
    "\n",
    "from MacroBackend import Utilities, PriceImporter, Pull_Data, Charting\n",
    "import datetime\n",
    "\n",
    "keys = Utilities.api_keys()\n",
    "print(keys.keys)\n",
    "myFredAPI_key = keys.keys['fred']\n",
    "DataStart = \"2021-01-01\"\n",
    "EndDateStr = datetime.date.today().strftime(\"%Y-%m-%d\")\n"
   ]
  },
  {
   "cell_type": "markdown",
   "metadata": {},
   "source": [
    "## Pull data series from the Federal Reserve Economic Database (FRED)"
   ]
  },
  {
   "cell_type": "code",
   "execution_count": 3,
   "metadata": {},
   "outputs": [
    {
     "name": "stdout",
     "output_type": "stream",
     "text": [
      "FRED API response:  200\n",
      "date\n",
      "2021-01-06      0.000\n",
      "2021-01-07      0.000\n",
      "2021-01-08      0.000\n",
      "2021-01-09      0.000\n",
      "2021-01-10      0.000\n",
      "               ...   \n",
      "2024-05-04    124.117\n",
      "2024-05-05    124.117\n",
      "2024-05-06    124.117\n",
      "2024-05-07    124.117\n",
      "2024-05-08    112.663\n",
      "Freq: D, Name: H41RESPPALDKNWW, Length: 1219, dtype: float64\n"
     ]
    },
    {
     "data": {
      "text/plain": [
       "date\n",
       "2021-01-06      0.000\n",
       "2021-01-07      0.000\n",
       "2021-01-08      0.000\n",
       "2021-01-09      0.000\n",
       "2021-01-10      0.000\n",
       "               ...   \n",
       "2024-05-04    124.117\n",
       "2024-05-05    124.117\n",
       "2024-05-06    124.117\n",
       "2024-05-07    124.117\n",
       "2024-05-08    112.663\n",
       "Freq: D, Name: H41RESPPALDKNWW, Length: 1219, dtype: float64"
      ]
     },
     "execution_count": 3,
     "metadata": {},
     "output_type": "execute_result"
    }
   ],
   "source": [
    "btfp_meta, btfp = PriceImporter.PullFredSeries(\"H41RESPPALDKNWW\",myFredAPI_key,start=DataStart,end=EndDateStr,Con2Bil=True)\n",
    "btfp_d = btfp.resample('D').ffill()\n",
    "print(btfp_d)\n",
    "btfp_d"
   ]
  },
  {
   "cell_type": "markdown",
   "metadata": {},
   "source": [
    "## Get Data from Yahoo Finance via Web scrapers.\n",
    "\n",
    "### Earnings data, price history and more..."
   ]
  },
  {
   "cell_type": "code",
   "execution_count": 4,
   "metadata": {},
   "outputs": [],
   "source": [
    "from yahoofinancials import YahooFinancials as yf\n",
    "import datetime\n",
    "\n",
    "start_date = \"2018-01-01\"\n",
    "end_date = datetime.date.today().strftime(\"%Y-%m-%d\")\n",
    "ticker = yf(\"TSLA\")\n",
    "#data = ticker.get_historical_price_data(\"2000-01-01\", end_date, \"daily\")\n",
    "\n",
    "#data\n",
    "data = ticker.get_historical_price_data(start_date, end_date, \"daily\")"
   ]
  },
  {
   "cell_type": "code",
   "execution_count": 5,
   "metadata": {
    "tags": [
     "{     \"tags\": [         \"hide-cell\"     ] }",
     "hide-cell",
     "\"hide-cell\""
    ]
   },
   "outputs": [],
   "source": [
    "data.keys()\n",
    "data[\"TSLA\"].keys()\n",
    "df = pd.DataFrame(data[\"TSLA\"][\"prices\"]).set_index(\"formatted_date\", drop=True).drop(\"date\", axis=1)\n"
   ]
  },
  {
   "cell_type": "code",
   "execution_count": 6,
   "metadata": {},
   "outputs": [
    {
     "name": "stdout",
     "output_type": "stream",
     "text": [
      "Looking for api keys in SystemInfo folder... /Users/jamesbishop/Documents/Python/Bootleg_Macro/MacroBackend/SystemInfo/API_Keys.json\n",
      "API_keys found but the \"API_Keys_demo.json\" file is still present... Delete that file to silence this warning.\n",
      "FRED API response:  200\n",
      "Looking for api keys in SystemInfo folder... /Users/jamesbishop/Documents/Python/Bootleg_Macro/MacroBackend/SystemInfo/API_Keys.json\n",
      "API_keys found but the \"API_Keys_demo.json\" file is still present... Delete that file to silence this warning.\n",
      "Trying yfinance package to get historical data for  GME\n"
     ]
    },
    {
     "data": {
      "text/plain": [
       "2022-01-03    38.209999\n",
       "2022-01-04    37.227501\n",
       "2022-01-05    32.342499\n",
       "2022-01-06    32.757500\n",
       "2022-01-07    35.154999\n",
       "                ...    \n",
       "2024-05-09    18.010000\n",
       "2024-05-10    17.459999\n",
       "2024-05-13    30.450001\n",
       "2024-05-14    48.750000\n",
       "2024-05-15    39.549999\n",
       "Name: GME, Length: 595, dtype: float64"
      ]
     },
     "execution_count": 6,
     "metadata": {},
     "output_type": "execute_result"
    }
   ],
   "source": [
    "interest = Pull_Data.dataset(\"fred\", \"BOGZ1FA316130001Q\", \"1970-01-01\").data\n",
    "gme = Pull_Data.dataset(\"yfinance\", \"GME\", \"2022-01-01\").data\n",
    "gme\n",
    "#interest\n"
   ]
  },
  {
   "cell_type": "code",
   "execution_count": 16,
   "metadata": {},
   "outputs": [
    {
     "ename": "AttributeError",
     "evalue": "'DataFrame' object has no attribute 'to_list'",
     "output_type": "error",
     "traceback": [
      "\u001b[0;31m---------------------------------------------------------------------------\u001b[0m",
      "\u001b[0;31mAttributeError\u001b[0m                            Traceback (most recent call last)",
      "\u001b[0;32m/var/folders/lj/yg38j90s0mq9l9mk98st457m0000gn/T/ipykernel_45316/3682779047.py\u001b[0m in \u001b[0;36m?\u001b[0;34m()\u001b[0m\n\u001b[1;32m      1\u001b[0m \u001b[0mindex\u001b[0m \u001b[0;34m=\u001b[0m \u001b[0mpd\u001b[0m\u001b[0;34m.\u001b[0m\u001b[0mdate_range\u001b[0m\u001b[0;34m(\u001b[0m\u001b[0mstart\u001b[0m\u001b[0;34m=\u001b[0m\u001b[0;34m\"2022-01-01\"\u001b[0m\u001b[0;34m,\u001b[0m \u001b[0mend\u001b[0m \u001b[0;34m=\u001b[0m \u001b[0mdatetime\u001b[0m\u001b[0;34m.\u001b[0m\u001b[0mdate\u001b[0m\u001b[0;34m.\u001b[0m\u001b[0mtoday\u001b[0m\u001b[0;34m(\u001b[0m\u001b[0;34m)\u001b[0m\u001b[0;34m.\u001b[0m\u001b[0mstrftime\u001b[0m\u001b[0;34m(\u001b[0m\u001b[0;34m\"%Y-%m-%d\"\u001b[0m\u001b[0;34m)\u001b[0m\u001b[0;34m,\u001b[0m \u001b[0mperiods\u001b[0m \u001b[0;34m=\u001b[0m \u001b[0mlen\u001b[0m\u001b[0;34m(\u001b[0m\u001b[0mgme\u001b[0m\u001b[0;34m)\u001b[0m\u001b[0;34m)\u001b[0m\u001b[0;34m\u001b[0m\u001b[0;34m\u001b[0m\u001b[0m\n\u001b[1;32m      2\u001b[0m \u001b[0miNteReSt\u001b[0m \u001b[0;34m=\u001b[0m \u001b[0minterest\u001b[0m\u001b[0;34m.\u001b[0m\u001b[0mreset_index\u001b[0m\u001b[0;34m(\u001b[0m\u001b[0;34m)\u001b[0m\u001b[0;34m.\u001b[0m\u001b[0mreindex\u001b[0m\u001b[0;34m(\u001b[0m\u001b[0mrange\u001b[0m\u001b[0;34m(\u001b[0m\u001b[0mlen\u001b[0m\u001b[0;34m(\u001b[0m\u001b[0mgme\u001b[0m\u001b[0;34m)\u001b[0m\u001b[0;34m)\u001b[0m\u001b[0;34m,\u001b[0m \u001b[0mmethod\u001b[0m\u001b[0;34m=\u001b[0m\u001b[0;34m\"ffill\"\u001b[0m\u001b[0;34m)\u001b[0m\u001b[0;34m.\u001b[0m\u001b[0msqueeze\u001b[0m\u001b[0;34m(\u001b[0m\u001b[0;34m)\u001b[0m\u001b[0;34m\u001b[0m\u001b[0;34m\u001b[0m\u001b[0m\n\u001b[1;32m      3\u001b[0m \u001b[0;34m\u001b[0m\u001b[0m\n\u001b[0;32m----> 4\u001b[0;31m \u001b[0miNteReSt\u001b[0m \u001b[0;34m=\u001b[0m \u001b[0mpd\u001b[0m\u001b[0;34m.\u001b[0m\u001b[0mSeries\u001b[0m\u001b[0;34m(\u001b[0m\u001b[0miNteReSt\u001b[0m\u001b[0;34m.\u001b[0m\u001b[0mto_list\u001b[0m\u001b[0;34m(\u001b[0m\u001b[0;34m)\u001b[0m\u001b[0;34m,\u001b[0m \u001b[0mindex\u001b[0m \u001b[0;34m=\u001b[0m \u001b[0mindex\u001b[0m\u001b[0;34m)\u001b[0m\u001b[0;34m\u001b[0m\u001b[0;34m\u001b[0m\u001b[0m\n\u001b[0m\u001b[1;32m      5\u001b[0m \u001b[0;31m#iNteReSt.to_excel(\"dumbcts.xlsx\")\u001b[0m\u001b[0;34m\u001b[0m\u001b[0;34m\u001b[0m\u001b[0m\n",
      "\u001b[0;32m~/Documents/miniconda3/envs/financial/lib/python3.12/site-packages/pandas/core/generic.py\u001b[0m in \u001b[0;36m?\u001b[0;34m(self, name)\u001b[0m\n\u001b[1;32m   6295\u001b[0m             \u001b[0;32mand\u001b[0m \u001b[0mname\u001b[0m \u001b[0;32mnot\u001b[0m \u001b[0;32min\u001b[0m \u001b[0mself\u001b[0m\u001b[0;34m.\u001b[0m\u001b[0m_accessors\u001b[0m\u001b[0;34m\u001b[0m\u001b[0;34m\u001b[0m\u001b[0m\n\u001b[1;32m   6296\u001b[0m             \u001b[0;32mand\u001b[0m \u001b[0mself\u001b[0m\u001b[0;34m.\u001b[0m\u001b[0m_info_axis\u001b[0m\u001b[0;34m.\u001b[0m\u001b[0m_can_hold_identifiers_and_holds_name\u001b[0m\u001b[0;34m(\u001b[0m\u001b[0mname\u001b[0m\u001b[0;34m)\u001b[0m\u001b[0;34m\u001b[0m\u001b[0;34m\u001b[0m\u001b[0m\n\u001b[1;32m   6297\u001b[0m         \u001b[0;34m)\u001b[0m\u001b[0;34m:\u001b[0m\u001b[0;34m\u001b[0m\u001b[0;34m\u001b[0m\u001b[0m\n\u001b[1;32m   6298\u001b[0m             \u001b[0;32mreturn\u001b[0m \u001b[0mself\u001b[0m\u001b[0;34m[\u001b[0m\u001b[0mname\u001b[0m\u001b[0;34m]\u001b[0m\u001b[0;34m\u001b[0m\u001b[0;34m\u001b[0m\u001b[0m\n\u001b[0;32m-> 6299\u001b[0;31m         \u001b[0;32mreturn\u001b[0m \u001b[0mobject\u001b[0m\u001b[0;34m.\u001b[0m\u001b[0m__getattribute__\u001b[0m\u001b[0;34m(\u001b[0m\u001b[0mself\u001b[0m\u001b[0;34m,\u001b[0m \u001b[0mname\u001b[0m\u001b[0;34m)\u001b[0m\u001b[0;34m\u001b[0m\u001b[0;34m\u001b[0m\u001b[0m\n\u001b[0m",
      "\u001b[0;31mAttributeError\u001b[0m: 'DataFrame' object has no attribute 'to_list'"
     ]
    }
   ],
   "source": [
    "index = pd.date_range(start=\"2022-01-01\", end = datetime.date.today().strftime(\"%Y-%m-%d\"), periods = len(gme))\n",
    "iNteReSt = interest.reset_index(drop=True).reindex(range(len(gme)), method=\"ffill\").squeeze()\n",
    "\n",
    "iNteReSt = pd.Series(iNteReSt.to_list(), index = index)\n",
    "#iNteReSt.to_excel(\"dumbcts.xlsx\")"
   ]
  },
  {
   "cell_type": "code",
   "execution_count": 13,
   "metadata": {},
   "outputs": [
    {
     "name": "stdout",
     "output_type": "stream",
     "text": [
      "/Users/jamesbishop/Documents/Python/Bootleg_Macro\n"
     ]
    }
   ],
   "source": [
    "print(os.getcwd())\n",
    "#plt.plot(interest)\n",
    "plt.plot(iNteReSt)\n",
    "plt.show()"
   ]
  },
  {
   "cell_type": "code",
   "execution_count": 9,
   "metadata": {},
   "outputs": [
    {
     "data": {
      "text/plain": [
       "2022-01-01 00:00:00.000000000     635564.0\n",
       "2022-01-02 10:59:23.636363636     635564.0\n",
       "2022-01-03 21:58:47.272727272     635564.0\n",
       "2022-01-05 08:58:10.909090909     635564.0\n",
       "2022-01-06 19:57:34.545454545     635564.0\n",
       "                                   ...    \n",
       "2024-05-10 04:02:25.454545456    1025796.0\n",
       "2024-05-11 15:01:49.090909088    1025796.0\n",
       "2024-05-13 02:01:12.727272720    1025796.0\n",
       "2024-05-14 13:00:36.363636368    1025796.0\n",
       "2024-05-16 00:00:00.000000000    1025796.0\n",
       "Name: BOGZ1FA316130001Q, Length: 595, dtype: float64"
      ]
     },
     "execution_count": 9,
     "metadata": {},
     "output_type": "execute_result"
    }
   ],
   "source": [
    "gme = pd.read_excel(\"GME.xlsx\", index_col=0)\n",
    "iNteReSt"
   ]
  }
 ],
 "metadata": {
  "kernelspec": {
   "display_name": "Python 3",
   "language": "python",
   "name": "python3"
  },
  "language_info": {
   "codemirror_mode": {
    "name": "ipython",
    "version": 3
   },
   "file_extension": ".py",
   "mimetype": "text/x-python",
   "name": "python",
   "nbconvert_exporter": "python",
   "pygments_lexer": "ipython3",
   "version": "3.12.2"
  }
 },
 "nbformat": 4,
 "nbformat_minor": 2
}
