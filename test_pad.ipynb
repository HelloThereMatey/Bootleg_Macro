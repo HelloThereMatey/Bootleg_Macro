{
 "cells": [
  {
   "cell_type": "code",
   "execution_count": 1,
   "metadata": {},
   "outputs": [
    {
     "name": "stdout",
     "output_type": "stream",
     "text": [
      "/Users/jamesbishop/Documents/Python/Bootleg_Macro/MacroBackend /Users/jamesbishop/Documents/Python/Bootleg_Macro\n"
     ]
    },
    {
     "ename": "ModuleNotFoundError",
     "evalue": "No module named 'rpy2'",
     "output_type": "error",
     "traceback": [
      "\u001b[0;31m---------------------------------------------------------------------------\u001b[0m",
      "\u001b[0;31mModuleNotFoundError\u001b[0m                       Traceback (most recent call last)",
      "Cell \u001b[0;32mIn[1], line 7\u001b[0m\n\u001b[1;32m      4\u001b[0m \u001b[38;5;28;01mimport\u001b[39;00m \u001b[38;5;21;01mos\u001b[39;00m\n\u001b[1;32m      5\u001b[0m fdel \u001b[38;5;241m=\u001b[39m os\u001b[38;5;241m.\u001b[39mpath\u001b[38;5;241m.\u001b[39msep\n\u001b[0;32m----> 7\u001b[0m \u001b[38;5;28;01mfrom\u001b[39;00m \u001b[38;5;21;01mMacroBackend\u001b[39;00m \u001b[38;5;28;01mimport\u001b[39;00m Utilities, PriceImporter, Pull_Data, Charting\n\u001b[1;32m      8\u001b[0m \u001b[38;5;28;01mimport\u001b[39;00m \u001b[38;5;21;01mdatetime\u001b[39;00m\n\u001b[1;32m     10\u001b[0m keys \u001b[38;5;241m=\u001b[39m Utilities\u001b[38;5;241m.\u001b[39mapi_keys()\n",
      "File \u001b[0;32m~/Documents/Python/Bootleg_Macro/MacroBackend/Pull_Data.py:21\u001b[0m\n\u001b[1;32m     18\u001b[0m \u001b[38;5;28;01mfrom\u001b[39;00m \u001b[38;5;21;01myahoofinancials\u001b[39;00m \u001b[38;5;28;01mimport\u001b[39;00m YahooFinancials \u001b[38;5;28;01mas\u001b[39;00m yf\n\u001b[1;32m     20\u001b[0m \u001b[38;5;66;03m# These will let us use R packages:\u001b[39;00m\n\u001b[0;32m---> 21\u001b[0m \u001b[38;5;28;01mimport\u001b[39;00m \u001b[38;5;21;01mrpy2\u001b[39;00m\u001b[38;5;21;01m.\u001b[39;00m\u001b[38;5;21;01mrobjects\u001b[39;00m \u001b[38;5;28;01mas\u001b[39;00m \u001b[38;5;21;01mro\u001b[39;00m\n\u001b[1;32m     22\u001b[0m \u001b[38;5;28;01mfrom\u001b[39;00m \u001b[38;5;21;01mrpy2\u001b[39;00m\u001b[38;5;21;01m.\u001b[39;00m\u001b[38;5;21;01mrobjects\u001b[39;00m\u001b[38;5;21;01m.\u001b[39;00m\u001b[38;5;21;01mpackages\u001b[39;00m \u001b[38;5;28;01mimport\u001b[39;00m importr\n\u001b[1;32m     23\u001b[0m \u001b[38;5;28;01mfrom\u001b[39;00m \u001b[38;5;21;01mrpy2\u001b[39;00m\u001b[38;5;21;01m.\u001b[39;00m\u001b[38;5;21;01mrobjects\u001b[39;00m \u001b[38;5;28;01mimport\u001b[39;00m pandas2ri\n",
      "\u001b[0;31mModuleNotFoundError\u001b[0m: No module named 'rpy2'"
     ]
    }
   ],
   "source": [
    "import pandas as pd\n",
    "import matplotlib.pyplot as plt\n",
    "wd = %pwd\n",
    "import os\n",
    "fdel = os.path.sep\n",
    "\n",
    "from MacroBackend import Utilities, PriceImporter, Pull_Data, Charting\n",
    "import datetime\n",
    "\n",
    "keys = Utilities.api_keys()\n",
    "print(keys.keys)\n",
    "myFredAPI_key = keys.keys['fred']\n",
    "DataStart = \"2021-01-01\"\n",
    "EndDateStr = datetime.date.today().strftime(\"%Y-%m-%d\")\n"
   ]
  },
  {
   "cell_type": "code",
   "execution_count": null,
   "metadata": {},
   "outputs": [],
   "source": [
    "btfp_meta, btfp = PriceImporter.PullFredSeries(\"H41RESPPALDKNWW\",myFredAPI_key,start=DataStart,end=EndDateStr,Con2Bil=True)\n",
    "btfp_d = btfp.resample('D').ffill()\n",
    "print(btfp_d)\n",
    "btfp_d"
   ]
  },
  {
   "cell_type": "code",
   "execution_count": null,
   "metadata": {},
   "outputs": [],
   "source": [
    "from yahoofinancials import YahooFinancials as yf\n",
    "import datetime\n",
    "\n",
    "end_date = datetime.date.today().strftime(\"%Y-%m-%d\")\n",
    "ticker = yf(\"TSLA\")\n",
    "#data = ticker.get_historical_price_data(\"2000-01-01\", end_date, \"daily\")\n",
    "\n",
    "#data\n",
    "\n",
    "ticker.get_summary_data()"
   ]
  },
  {
   "cell_type": "code",
   "execution_count": null,
   "metadata": {},
   "outputs": [],
   "source": []
  }
 ],
 "metadata": {
  "kernelspec": {
   "display_name": "Python 3",
   "language": "python",
   "name": "python3"
  },
  "language_info": {
   "codemirror_mode": {
    "name": "ipython",
    "version": 3
   },
   "file_extension": ".py",
   "mimetype": "text/x-python",
   "name": "python",
   "nbconvert_exporter": "python",
   "pygments_lexer": "ipython3",
   "version": "3.9.6"
  }
 },
 "nbformat": 4,
 "nbformat_minor": 2
}
