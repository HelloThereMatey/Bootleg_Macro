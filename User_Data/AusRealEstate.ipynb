{
 "cells": [
  {
   "cell_type": "markdown",
   "metadata": {},
   "source": [
    "## STANDARD BOOTLEG MACRO RESEARCH TEMPLATE\n",
    "The cell below imports the standard stuff and make a button to bring up the search_symbol_gui. \n",
    "With this you can search for asset data and create watchlists. "
   ]
  },
  {
   "cell_type": "code",
   "execution_count": null,
   "metadata": {},
   "outputs": [
    {
     "name": "stderr",
     "output_type": "stream",
     "text": [
      "INFO - tedata package initialized successfully!\n"
     ]
    },
    {
     "name": "stdout",
     "output_type": "stream",
     "text": [
      "/home/imbobbilly/Documents/Coding/Bootleg_Macro/MacroBackend /home/imbobbilly/Documents/Coding/Bootleg_Macro\n"
     ]
    },
    {
     "name": "stderr",
     "output_type": "stream",
     "text": [
      "/home/imbobbilly/miniconda3/envs/bm/lib/python3.11/site-packages/fuzzywuzzy/fuzz.py:11: UserWarning: Using slow pure-python SequenceMatcher. Install python-Levenshtein to remove this warning\n",
      "  warnings.warn('Using slow pure-python SequenceMatcher. Install python-Levenshtein to remove this warning')\n",
      "/home/imbobbilly/miniconda3/envs/bm/lib/python3.11/site-packages/pydantic/_internal/_config.py:373: UserWarning: Valid config keys have changed in V2:\n",
      "* 'allow_population_by_field_name' has been renamed to 'validate_by_name'\n",
      "  warnings.warn(message, UserWarning)\n"
     ]
    },
    {
     "name": "stdout",
     "output_type": "stream",
     "text": [
      "System information:  linux , directory delimiter:  / , working directory:  /home/imbobbilly/Documents/Coding/Bootleg_Macro/MacroBackend/Glassnode\n"
     ]
    },
    {
     "data": {
      "application/vnd.jupyter.widget-view+json": {
       "model_id": "d45fd478ba8e4a08978fb7a54b220fcc",
       "version_major": 2,
       "version_minor": 0
      },
      "text/plain": [
       "Button(description='Search for symbols, load and create watchlists', layout=Layout(width='350px'), style=Butto…"
      ]
     },
     "metadata": {},
     "output_type": "display_data"
    }
   ],
   "source": [
    "import numpy as np\n",
    "import pandas as pd\n",
    "import matplotlib.pyplot as plt\n",
    "plt.style.available\n",
    "plt.style.use('seaborn-v0_8')\n",
    "plt.rcParams[\"font.family\"] = \"serif\"\n",
    "#%load_ext autoreload\n",
    "#%autoreload 2\n",
    "\n",
    "import os\n",
    "wd = %pwd\n",
    "parent = os.path.dirname(wd); grampa = os.path.dirname(parent)\n",
    "fdel = os.path.sep\n",
    "import sys\n",
    "sys.path.append(grampa)\n",
    "\n",
    "from MacroBackend import Utilities, search_symbol_gui, watchlist, charting_plotly  ## This is the bootleg_maco package mostly here\n",
    "import datetime\n",
    "import ipywidgets as widgets\n",
    "from IPython.display import display, HTML, Image, Markdown, clear_output\n",
    "\n",
    "keys = Utilities.api_keys()\n",
    "\n",
    "######Code to run the symbol search GUI below\n",
    "%gui qt\n",
    "# Declare a global variable to hold the UI dictionary\n",
    "watched = None\n",
    " \n",
    "def run_search_symbol_gui(b):\n",
    "    global watched  # Declare the use of the global variable\n",
    "    print(\"Running the symbol finder gui... \")\n",
    "    gui = search_symbol_gui.run_app()\n",
    "    watched = gui  # Update the global variable with the returned ui dictionary\n",
    "\n",
    "# Step 3: Create a Button widget\n",
    "button = widgets.Button(description=\"Search for symbols, load and create watchlists\")\n",
    "button2 = widgets.Button(description=\"Load watchlist\")\n",
    "# Step 4: Define an on_click event handler\n",
    "button.on_click(run_search_symbol_gui)\n",
    "# Step 5: Use HBox to position buttons next to each other\n",
    "button.layout.width = '350px'\n",
    "display(button)"
   ]
  },
  {
   "cell_type": "code",
   "execution_count": 2,
   "metadata": {},
   "outputs": [
    {
     "data": {
      "application/vnd.jupyter.widget-view+json": {
       "model_id": "fe7db83dda54475b9650a0f26b680b96",
       "version_major": 2,
       "version_minor": 0
      },
      "text/plain": [
       "Button(description='Load watchlist', style=ButtonStyle())"
      ]
     },
     "metadata": {},
     "output_type": "display_data"
    }
   ],
   "source": [
    "######Code to run the symbol search GUI below\n",
    "\n",
    "def load_watchlist(b) -> watchlist.Watchlist:\n",
    "    global watched  # Declare the use of the global variable\n",
    "    print(\"Choose your cunt you fuckstick.\")\n",
    "    watch = watchlist.Watchlist()\n",
    "    watch.load_watchlist()\n",
    "    if watch[\"watchlist\"].empty:\n",
    "        print(\"No watchlist loaded.\")\n",
    "    else:\n",
    "        print(\"Successfully loaded watchlist.\")\n",
    "        watched = watch\n",
    "\n",
    "button2 = widgets.Button(description=\"Load watchlist\")\n",
    "button2.on_click(load_watchlist)\n",
    "display(button2)"
   ]
  },
  {
   "cell_type": "code",
   "execution_count": 3,
   "metadata": {},
   "outputs": [
    {
     "data": {
      "text/html": [
       "<div>\n",
       "<style scoped>\n",
       "    .dataframe tbody tr th:only-of-type {\n",
       "        vertical-align: middle;\n",
       "    }\n",
       "\n",
       "    .dataframe tbody tr th {\n",
       "        vertical-align: top;\n",
       "    }\n",
       "\n",
       "    .dataframe thead th {\n",
       "        text-align: right;\n",
       "    }\n",
       "</style>\n",
       "<table border=\"1\" class=\"dataframe\">\n",
       "  <thead>\n",
       "    <tr style=\"text-align: right;\">\n",
       "      <th></th>\n",
       "      <th>id</th>\n",
       "      <th>title</th>\n",
       "      <th>source</th>\n",
       "    </tr>\n",
       "    <tr>\n",
       "      <th>index</th>\n",
       "      <th></th>\n",
       "      <th></th>\n",
       "      <th></th>\n",
       "    </tr>\n",
       "  </thead>\n",
       "  <tbody>\n",
       "    <tr>\n",
       "      <th>australia/corelogic-dwelling-prices-mom</th>\n",
       "      <td>australia/corelogic-dwelling-prices-mom</td>\n",
       "      <td>Australia Cotality Dwelling Prices MoM</td>\n",
       "      <td>tedata</td>\n",
       "    </tr>\n",
       "    <tr>\n",
       "      <th>australia/core-inflation-rate</th>\n",
       "      <td>australia/core-inflation-rate</td>\n",
       "      <td>Australia RBA Trimmed Mean CPI YoY</td>\n",
       "      <td>tedata</td>\n",
       "    </tr>\n",
       "    <tr>\n",
       "      <th>australia/building-permits</th>\n",
       "      <td>australia/building-permits</td>\n",
       "      <td>Australia Building Permits</td>\n",
       "      <td>tedata</td>\n",
       "    </tr>\n",
       "    <tr>\n",
       "      <th>australia/average-house-prices</th>\n",
       "      <td>australia/average-house-prices</td>\n",
       "      <td>Australia Mean Dwelling Price</td>\n",
       "      <td>tedata</td>\n",
       "    </tr>\n",
       "    <tr>\n",
       "      <th>australia/residential-property-prices</th>\n",
       "      <td>australia/residential-property-prices</td>\n",
       "      <td>Australia Residential Property Prices</td>\n",
       "      <td>tedata</td>\n",
       "    </tr>\n",
       "    <tr>\n",
       "      <th>australia/gdp</th>\n",
       "      <td>australia/gdp</td>\n",
       "      <td>Australia GDP</td>\n",
       "      <td>tedata</td>\n",
       "    </tr>\n",
       "    <tr>\n",
       "      <th>australia/government-debt-to-gdp</th>\n",
       "      <td>australia/government-debt-to-gdp</td>\n",
       "      <td>Australia Government Net Debt to GDP</td>\n",
       "      <td>tedata</td>\n",
       "    </tr>\n",
       "    <tr>\n",
       "      <th>australia/gdp-constant-prices</th>\n",
       "      <td>australia/gdp-constant-prices</td>\n",
       "      <td>Australia GDP Constant Prices</td>\n",
       "      <td>tedata</td>\n",
       "    </tr>\n",
       "    <tr>\n",
       "      <th>australia/private-debt-to-gdp</th>\n",
       "      <td>australia/private-debt-to-gdp</td>\n",
       "      <td>Australia Private Debt to GDP</td>\n",
       "      <td>tedata</td>\n",
       "    </tr>\n",
       "    <tr>\n",
       "      <th>australia/government-spending-to-gdp</th>\n",
       "      <td>australia/government-spending-to-gdp</td>\n",
       "      <td>Australia Government Spending To GDP</td>\n",
       "      <td>tedata</td>\n",
       "    </tr>\n",
       "    <tr>\n",
       "      <th>australia/households-debt-to-gdp</th>\n",
       "      <td>australia/households-debt-to-gdp</td>\n",
       "      <td>Australia Households Debt To GDP</td>\n",
       "      <td>tedata</td>\n",
       "    </tr>\n",
       "    <tr>\n",
       "      <th>australia/population</th>\n",
       "      <td>australia/population</td>\n",
       "      <td>Australia Population</td>\n",
       "      <td>tedata</td>\n",
       "    </tr>\n",
       "    <tr>\n",
       "      <th>A128478317T</th>\n",
       "      <td>A128478317T</td>\n",
       "      <td>Index Numbers   All groups CPI   Australia</td>\n",
       "      <td>abs_series</td>\n",
       "    </tr>\n",
       "    <tr>\n",
       "      <th>GCPIAG</th>\n",
       "      <td>GCPIAG</td>\n",
       "      <td>Consumer price index</td>\n",
       "      <td>rba_series</td>\n",
       "    </tr>\n",
       "    <tr>\n",
       "      <th>AUSCPIALLQINMEI</th>\n",
       "      <td>AUSCPIALLQINMEI</td>\n",
       "      <td>Consumer Price Indices (CPIs, HICPs), COICOP 1...</td>\n",
       "      <td>fred</td>\n",
       "    </tr>\n",
       "    <tr>\n",
       "      <th>AUSCPALTT01IXNBQ</th>\n",
       "      <td>AUSCPALTT01IXNBQ</td>\n",
       "      <td>Consumer Price Index: All Items: Total for Aus...</td>\n",
       "      <td>fred</td>\n",
       "    </tr>\n",
       "    <tr>\n",
       "      <th>A83728606K</th>\n",
       "      <td>A83728606K</td>\n",
       "      <td>Value of dwelling stock Owned by All Sectors  ...</td>\n",
       "      <td>abs_series</td>\n",
       "    </tr>\n",
       "    <tr>\n",
       "      <th>A83728611C</th>\n",
       "      <td>A83728611C</td>\n",
       "      <td>Value of dwelling stock Owned by All Sectors  ...</td>\n",
       "      <td>abs_series</td>\n",
       "    </tr>\n",
       "    <tr>\n",
       "      <th>A83728616R</th>\n",
       "      <td>A83728616R</td>\n",
       "      <td>Value of dwelling stock Owned by All Sectors  ...</td>\n",
       "      <td>abs_series</td>\n",
       "    </tr>\n",
       "    <tr>\n",
       "      <th>A83728545T</th>\n",
       "      <td>A83728545T</td>\n",
       "      <td>Median Price of Established House Transfers (U...</td>\n",
       "      <td>abs_series</td>\n",
       "    </tr>\n",
       "    <tr>\n",
       "      <th>A83728546V</th>\n",
       "      <td>A83728546V</td>\n",
       "      <td>Median Price of Attached Dwelling Transfers (U...</td>\n",
       "      <td>abs_series</td>\n",
       "    </tr>\n",
       "    <tr>\n",
       "      <th>A83728607L</th>\n",
       "      <td>A83728607L</td>\n",
       "      <td>Mean price of residential dwellings   New Sout...</td>\n",
       "      <td>abs_series</td>\n",
       "    </tr>\n",
       "    <tr>\n",
       "      <th>A83728605J</th>\n",
       "      <td>A83728605J</td>\n",
       "      <td>Number of residential dwellings   New South Wales</td>\n",
       "      <td>abs_series</td>\n",
       "    </tr>\n",
       "    <tr>\n",
       "      <th>A83728543L</th>\n",
       "      <td>A83728543L</td>\n",
       "      <td>Number of Established House Transfers   Sydney</td>\n",
       "      <td>abs_series</td>\n",
       "    </tr>\n",
       "    <tr>\n",
       "      <th>A2422340L</th>\n",
       "      <td>A2422340L</td>\n",
       "      <td>Gross rent - Imputed rent for owner-occupiers</td>\n",
       "      <td>abs_series</td>\n",
       "    </tr>\n",
       "    <tr>\n",
       "      <th>A2422341R</th>\n",
       "      <td>A2422341R</td>\n",
       "      <td>Gross rent - Actual rent for housing</td>\n",
       "      <td>abs_series</td>\n",
       "    </tr>\n",
       "    <tr>\n",
       "      <th>A2422342T</th>\n",
       "      <td>A2422342T</td>\n",
       "      <td>Total gross rent</td>\n",
       "      <td>abs_series</td>\n",
       "    </tr>\n",
       "    <tr>\n",
       "      <th>A2326751F</th>\n",
       "      <td>A2326751F</td>\n",
       "      <td>Error_A2326751F</td>\n",
       "      <td>abs_series</td>\n",
       "    </tr>\n",
       "  </tbody>\n",
       "</table>\n",
       "</div>"
      ],
      "text/plain": [
       "                                                                              id  \\\n",
       "index                                                                              \n",
       "australia/corelogic-dwelling-prices-mom  australia/corelogic-dwelling-prices-mom   \n",
       "australia/core-inflation-rate                      australia/core-inflation-rate   \n",
       "australia/building-permits                            australia/building-permits   \n",
       "australia/average-house-prices                    australia/average-house-prices   \n",
       "australia/residential-property-prices      australia/residential-property-prices   \n",
       "australia/gdp                                                      australia/gdp   \n",
       "australia/government-debt-to-gdp                australia/government-debt-to-gdp   \n",
       "australia/gdp-constant-prices                      australia/gdp-constant-prices   \n",
       "australia/private-debt-to-gdp                      australia/private-debt-to-gdp   \n",
       "australia/government-spending-to-gdp        australia/government-spending-to-gdp   \n",
       "australia/households-debt-to-gdp                australia/households-debt-to-gdp   \n",
       "australia/population                                        australia/population   \n",
       "A128478317T                                                          A128478317T   \n",
       "GCPIAG                                                                    GCPIAG   \n",
       "AUSCPIALLQINMEI                                                  AUSCPIALLQINMEI   \n",
       "AUSCPALTT01IXNBQ                                                AUSCPALTT01IXNBQ   \n",
       "A83728606K                                                            A83728606K   \n",
       "A83728611C                                                            A83728611C   \n",
       "A83728616R                                                            A83728616R   \n",
       "A83728545T                                                            A83728545T   \n",
       "A83728546V                                                            A83728546V   \n",
       "A83728607L                                                            A83728607L   \n",
       "A83728605J                                                            A83728605J   \n",
       "A83728543L                                                            A83728543L   \n",
       "A2422340L                                                              A2422340L   \n",
       "A2422341R                                                              A2422341R   \n",
       "A2422342T                                                              A2422342T   \n",
       "A2326751F                                                              A2326751F   \n",
       "\n",
       "                                                                                     title  \\\n",
       "index                                                                                        \n",
       "australia/corelogic-dwelling-prices-mom             Australia Cotality Dwelling Prices MoM   \n",
       "australia/core-inflation-rate                           Australia RBA Trimmed Mean CPI YoY   \n",
       "australia/building-permits                                      Australia Building Permits   \n",
       "australia/average-house-prices                               Australia Mean Dwelling Price   \n",
       "australia/residential-property-prices                Australia Residential Property Prices   \n",
       "australia/gdp                                                                Australia GDP   \n",
       "australia/government-debt-to-gdp                      Australia Government Net Debt to GDP   \n",
       "australia/gdp-constant-prices                                Australia GDP Constant Prices   \n",
       "australia/private-debt-to-gdp                                Australia Private Debt to GDP   \n",
       "australia/government-spending-to-gdp                  Australia Government Spending To GDP   \n",
       "australia/households-debt-to-gdp                          Australia Households Debt To GDP   \n",
       "australia/population                                                  Australia Population   \n",
       "A128478317T                                     Index Numbers   All groups CPI   Australia   \n",
       "GCPIAG                                                                Consumer price index   \n",
       "AUSCPIALLQINMEI                          Consumer Price Indices (CPIs, HICPs), COICOP 1...   \n",
       "AUSCPALTT01IXNBQ                         Consumer Price Index: All Items: Total for Aus...   \n",
       "A83728606K                               Value of dwelling stock Owned by All Sectors  ...   \n",
       "A83728611C                               Value of dwelling stock Owned by All Sectors  ...   \n",
       "A83728616R                               Value of dwelling stock Owned by All Sectors  ...   \n",
       "A83728545T                               Median Price of Established House Transfers (U...   \n",
       "A83728546V                               Median Price of Attached Dwelling Transfers (U...   \n",
       "A83728607L                               Mean price of residential dwellings   New Sout...   \n",
       "A83728605J                               Number of residential dwellings   New South Wales   \n",
       "A83728543L                                  Number of Established House Transfers   Sydney   \n",
       "A2422340L                                    Gross rent - Imputed rent for owner-occupiers   \n",
       "A2422341R                                             Gross rent - Actual rent for housing   \n",
       "A2422342T                                                                 Total gross rent   \n",
       "A2326751F                                                                  Error_A2326751F   \n",
       "\n",
       "                                             source  \n",
       "index                                                \n",
       "australia/corelogic-dwelling-prices-mom      tedata  \n",
       "australia/core-inflation-rate                tedata  \n",
       "australia/building-permits                   tedata  \n",
       "australia/average-house-prices               tedata  \n",
       "australia/residential-property-prices        tedata  \n",
       "australia/gdp                                tedata  \n",
       "australia/government-debt-to-gdp             tedata  \n",
       "australia/gdp-constant-prices                tedata  \n",
       "australia/private-debt-to-gdp                tedata  \n",
       "australia/government-spending-to-gdp         tedata  \n",
       "australia/households-debt-to-gdp             tedata  \n",
       "australia/population                         tedata  \n",
       "A128478317T                              abs_series  \n",
       "GCPIAG                                   rba_series  \n",
       "AUSCPIALLQINMEI                                fred  \n",
       "AUSCPALTT01IXNBQ                               fred  \n",
       "A83728606K                               abs_series  \n",
       "A83728611C                               abs_series  \n",
       "A83728616R                               abs_series  \n",
       "A83728545T                               abs_series  \n",
       "A83728546V                               abs_series  \n",
       "A83728607L                               abs_series  \n",
       "A83728605J                               abs_series  \n",
       "A83728543L                               abs_series  \n",
       "A2422340L                                abs_series  \n",
       "A2422341R                                abs_series  \n",
       "A2422342T                                abs_series  \n",
       "A2326751F                                abs_series  "
      ]
     },
     "execution_count": 3,
     "metadata": {},
     "output_type": "execute_result"
    }
   ],
   "source": [
    "watched[\"watchlist\"]"
   ]
  },
  {
   "cell_type": "code",
   "execution_count": 6,
   "metadata": {},
   "outputs": [
    {
     "name": "stdout",
     "output_type": "stream",
     "text": [
      "Attempting data pull for series id: australia/corelogic-dwelling-prices-mom, from source: tedata,\n",
      " start_date: 1600-01-01), exchange_code: None\n",
      "Looking for data from source:  tedata data code:  australia/corelogic-dwelling-prices-mom\n"
     ]
    },
    {
     "name": "stderr",
     "output_type": "stream",
     "text": [
      "INFO - New firefox webdriver created.\n",
      "INFO - scrape_chart function: Scraping chart at: https://tradingeconomics.com/australia/corelogic-dwelling-prices-mom, time: 2025-08-30 16:59:18.291370, method: highcharts_api\n",
      "INFO - Page loaded successfully.\n",
      "INFO - Chart types dictionary created successfully: dict_keys(['Column', 'Spline', 'Areaspline', 'Stepline', 'Line', 'Area'])\n",
      "INFO - Date span set to: 1Y\n",
      "INFO - \n",
      "Series metadata: \n",
      " {'units': '%', 'original_source': 'Cotality, Australia', 'title': 'Australia Cotality Dwelling Prices MoM', 'indicator': 'corelogic dwelling prices mom', 'country': 'australia', 'source': 'Trading Economics', 'id': 'australia/corelogic-dwelling-prices-mom'}\n",
      "INFO - Date span set to custom range: 1850-01-01 to 2025-08-30 (using JavaScript)\n",
      "INFO - Successfully extracted series data from Highcharts.\n",
      "INFO - Successfully scraped series from Highcharts API.\n"
     ]
    },
    {
     "name": "stdout",
     "output_type": "stream",
     "text": [
      "Data pull successful for australia/corelogic-dwelling-prices-mom from tedata.\n",
      "Processing metadata for australia/corelogic-dwelling-prices-mom, series_meta type: <class 'pandas.core.series.Series'>\n",
      "Raw metadata sample: units                                                   %\n",
      "original_source                       Cotality, Australia\n",
      "title              Australia Cotality Dwelling Prices MoM\n",
      "indicator                   corelogic dwelling prices mom\n",
      "country                                         australia\n",
      "Name: australia/corelogic-dwelling-prices-mom, dtype: object\n",
      "Creating CommonMetadata for australia/corelogic-dwelling-prices-mom...\n",
      "Data type: <class 'pandas.core.series.Series'>, Metadata type: <class 'pandas.core.series.Series'>\n",
      "CommonMetadata created successfully for australia/corelogic-dwelling-prices-mom\n",
      "Common metadata for concatenation: \n",
      " id                           australia/corelogic-dwelling-prices-mom\n",
      "title                         Australia Cotality Dwelling Prices MoM\n",
      "units                                                              %\n",
      "series_type                                                     None\n",
      "data_type                                                       None\n",
      "frequency                                                         MS\n",
      "frequency_short                                                   MS\n",
      "original_source                                  Cotality, Australia\n",
      "source                                                        tedata\n",
      "description        In Australia, the Cotality Home Value Index ai...\n",
      "start_date                                                2024-07-01\n",
      "end_date                                                  2025-07-01\n",
      "last_updated                                                    None\n",
      "min_value                                                       -0.1\n",
      "max_value                                                        0.6\n",
      "length                                                            13\n",
      "units_short                                                     None\n",
      "dtype: object\n",
      "Successfully processed metadata for australia/corelogic-dwelling-prices-mom\n",
      "Attempting data pull for series id: australia/core-inflation-rate, from source: tedata,\n",
      " start_date: 1600-01-01), exchange_code: None\n",
      "Looking for data from source:  tedata data code:  australia/core-inflation-rate\n"
     ]
    },
    {
     "name": "stderr",
     "output_type": "stream",
     "text": [
      "INFO - New firefox webdriver created.\n",
      "INFO - scrape_chart function: Scraping chart at: https://tradingeconomics.com/australia/core-inflation-rate, time: 2025-08-30 16:59:41.176685, method: highcharts_api\n",
      "INFO - Page loaded successfully.\n",
      "INFO - Chart types dictionary created successfully: dict_keys(['Column', 'Spline', 'Areaspline', 'Stepline', 'Line', 'Area'])\n",
      "INFO - Date span set to: 3Y\n",
      "INFO - \n",
      "Series metadata: \n",
      " {'units': '%', 'original_source': 'Australian Bureau of Statistics', 'title': 'Australia RBA Trimmed Mean CPI YoY', 'indicator': 'core inflation rate', 'country': 'australia', 'source': 'Trading Economics', 'id': 'australia/core-inflation-rate'}\n",
      "INFO - Date span set to custom range: 1850-01-01 to 2025-08-30 (using JavaScript)\n",
      "INFO - Successfully extracted series data from Highcharts.\n",
      "INFO - Successfully scraped series from Highcharts API.\n"
     ]
    },
    {
     "name": "stdout",
     "output_type": "stream",
     "text": [
      "Data pull successful for australia/core-inflation-rate from tedata.\n",
      "Processing metadata for australia/core-inflation-rate, series_meta type: <class 'pandas.core.series.Series'>\n",
      "Raw metadata sample: units                                               %\n",
      "original_source       Australian Bureau of Statistics\n",
      "title              Australia RBA Trimmed Mean CPI YoY\n",
      "indicator                         core inflation rate\n",
      "country                                     australia\n",
      "Name: australia/core-inflation-rate, dtype: object\n",
      "Creating CommonMetadata for australia/core-inflation-rate...\n",
      "Data type: <class 'pandas.core.series.Series'>, Metadata type: <class 'pandas.core.series.Series'>\n",
      "CommonMetadata created successfully for australia/core-inflation-rate\n",
      "Common metadata for concatenation: \n",
      " id                                     australia/core-inflation-rate\n",
      "title                             Australia RBA Trimmed Mean CPI YoY\n",
      "units                                                              %\n",
      "series_type                                                     None\n",
      "data_type                                                       None\n",
      "frequency                                                     QS-DEC\n",
      "frequency_short                                               QS-DEC\n",
      "original_source                      Australian Bureau of Statistics\n",
      "source                                                        tedata\n",
      "description        In Australia, the Trimmed mean is calculated a...\n",
      "start_date                                                2022-06-01\n",
      "end_date                                                  2025-06-01\n",
      "last_updated                                                    None\n",
      "min_value                                                        2.7\n",
      "max_value                                                        6.8\n",
      "length                                                            13\n",
      "units_short                                                     None\n",
      "dtype: object\n",
      "Successfully processed metadata for australia/core-inflation-rate\n",
      "Attempting data pull for series id: australia/building-permits, from source: tedata,\n",
      " start_date: 1600-01-01), exchange_code: None\n",
      "Looking for data from source:  tedata data code:  australia/building-permits\n"
     ]
    },
    {
     "name": "stderr",
     "output_type": "stream",
     "text": [
      "INFO - New firefox webdriver created.\n",
      "INFO - scrape_chart function: Scraping chart at: https://tradingeconomics.com/australia/building-permits, time: 2025-08-30 17:00:03.519131, method: highcharts_api\n",
      "INFO - Page loaded successfully.\n",
      "INFO - Chart types dictionary created successfully: dict_keys(['Column', 'Spline', 'Areaspline', 'Stepline', 'Line', 'Area'])\n",
      "INFO - Date span set to: 1Y\n",
      "INFO - \n",
      "Series metadata: \n",
      " {'units': 'units', 'original_source': 'Australian Bureau of Statistics', 'title': 'Australia Building Permits', 'indicator': 'building permits', 'country': 'australia', 'source': 'Trading Economics', 'id': 'australia/building-permits'}\n",
      "INFO - Date span set to custom range: 1850-01-01 to 2025-08-30 (using JavaScript)\n",
      "INFO - Successfully extracted series data from Highcharts.\n",
      "INFO - Successfully scraped series from Highcharts API.\n",
      "INFO - scrape_chart function: Scraping chart at: https://tradingeconomics.com/australia/average-house-prices, time: 2025-08-30 17:00:16.596558, method: highcharts_api\n"
     ]
    },
    {
     "name": "stdout",
     "output_type": "stream",
     "text": [
      "Data pull successful for australia/building-permits from tedata.\n",
      "Processing metadata for australia/building-permits, series_meta type: <class 'pandas.core.series.Series'>\n",
      "Raw metadata sample: units                                        units\n",
      "original_source    Australian Bureau of Statistics\n",
      "title                   Australia Building Permits\n",
      "indicator                         building permits\n",
      "country                                  australia\n",
      "Name: australia/building-permits, dtype: object\n",
      "Creating CommonMetadata for australia/building-permits...\n",
      "Data type: <class 'pandas.core.series.Series'>, Metadata type: <class 'pandas.core.series.Series'>\n",
      "CommonMetadata created successfully for australia/building-permits\n",
      "Common metadata for concatenation: \n",
      " id                                        australia/building-permits\n",
      "title                                     Australia Building Permits\n",
      "units                                                          units\n",
      "series_type                                                     None\n",
      "data_type                                                       None\n",
      "frequency                                                         MS\n",
      "frequency_short                                                   MS\n",
      "original_source                      Australian Bureau of Statistics\n",
      "source                                                        tedata\n",
      "description        In Australia, Building Permits show the season...\n",
      "start_date                                                2024-06-01\n",
      "end_date                                                  2025-06-01\n",
      "last_updated                                                    None\n",
      "min_value                                                    13407.0\n",
      "max_value                                                    17076.0\n",
      "length                                                            13\n",
      "units_short                                                     None\n",
      "dtype: object\n",
      "Successfully processed metadata for australia/building-permits\n",
      "Attempting data pull for series id: australia/average-house-prices, from source: tedata,\n",
      " start_date: 1600-01-01), exchange_code: None\n",
      "Looking for data from source:  tedata data code:  australia/average-house-prices\n"
     ]
    },
    {
     "name": "stderr",
     "output_type": "stream",
     "text": [
      "INFO - Page loaded successfully.\n",
      "INFO - Chart types dictionary created successfully: dict_keys(['Column', 'Spline', 'Areaspline', 'Stepline', 'Line', 'Area'])\n",
      "INFO - Date span set to: 3Y\n",
      "INFO - \n",
      "Series metadata: \n",
      " {'units': 'AUD Thousand', 'original_source': 'Australian Bureau of Statistics', 'title': 'Australia Mean Dwelling Price', 'indicator': 'average house prices', 'country': 'australia', 'source': 'Trading Economics', 'id': 'australia/average-house-prices'}\n",
      "INFO - Date span set to custom range: 1850-01-01 to 2025-08-30 (using JavaScript)\n",
      "INFO - Successfully extracted series data from Highcharts.\n",
      "INFO - Successfully scraped series from Highcharts API.\n"
     ]
    },
    {
     "name": "stdout",
     "output_type": "stream",
     "text": [
      "Data pull successful for australia/average-house-prices from tedata.\n",
      "Processing metadata for australia/average-house-prices, series_meta type: <class 'pandas.core.series.Series'>\n",
      "Raw metadata sample: units                                 AUD Thousand\n",
      "original_source    Australian Bureau of Statistics\n",
      "title                Australia Mean Dwelling Price\n",
      "indicator                     average house prices\n",
      "country                                  australia\n",
      "Name: australia/average-house-prices, dtype: object\n",
      "Creating CommonMetadata for australia/average-house-prices...\n",
      "Data type: <class 'pandas.core.series.Series'>, Metadata type: <class 'pandas.core.series.Series'>\n",
      "CommonMetadata created successfully for australia/average-house-prices\n",
      "Common metadata for concatenation: \n",
      " id                                    australia/average-house-prices\n",
      "title                                  Australia Mean Dwelling Price\n",
      "units                                                   AUD Thousand\n",
      "series_type                                                     None\n",
      "data_type                                                       None\n",
      "frequency                                                     QS-DEC\n",
      "frequency_short                                               QS-DEC\n",
      "original_source                      Australian Bureau of Statistics\n",
      "source                                                        tedata\n",
      "description        In Australia, the mean price of residential dw...\n",
      "start_date                                                2022-03-01\n",
      "end_date                                                  2025-03-01\n",
      "last_updated                                                    None\n",
      "min_value                                                      890.5\n",
      "max_value                                                     1002.5\n",
      "length                                                            13\n",
      "units_short                                                     None\n",
      "dtype: object\n",
      "Successfully processed metadata for australia/average-house-prices\n",
      "Attempting data pull for series id: australia/residential-property-prices, from source: tedata,\n",
      " start_date: 1600-01-01), exchange_code: None\n",
      "Looking for data from source:  tedata data code:  australia/residential-property-prices\n"
     ]
    },
    {
     "name": "stderr",
     "output_type": "stream",
     "text": [
      "INFO - New firefox webdriver created.\n",
      "INFO - scrape_chart function: Scraping chart at: https://tradingeconomics.com/australia/residential-property-prices, time: 2025-08-30 17:00:31.265860, method: highcharts_api\n",
      "INFO - Page loaded successfully.\n",
      "INFO - Chart types dictionary created successfully: dict_keys(['Column', 'Spline', 'Areaspline', 'Stepline', 'Line', 'Area'])\n",
      "INFO - Date span set to: 3Y\n",
      "INFO - \n",
      "Series metadata: \n",
      " {'units': '%', 'original_source': 'Bank for International Settlements', 'title': 'Australia Residential Property Prices', 'indicator': 'residential property prices', 'country': 'australia', 'source': 'Trading Economics', 'id': 'australia/residential-property-prices'}\n",
      "INFO - Date span set to custom range: 1850-01-01 to 2025-08-30 (using JavaScript)\n",
      "INFO - Successfully extracted series data from Highcharts.\n",
      "INFO - Successfully scraped series from Highcharts API.\n",
      "INFO - scrape_chart function: Scraping chart at: https://tradingeconomics.com/australia/gdp, time: 2025-08-30 17:00:47.301456, method: highcharts_api\n"
     ]
    },
    {
     "name": "stdout",
     "output_type": "stream",
     "text": [
      "Data pull successful for australia/residential-property-prices from tedata.\n",
      "Processing metadata for australia/residential-property-prices, series_meta type: <class 'pandas.core.series.Series'>\n",
      "Raw metadata sample: units                                                  %\n",
      "original_source       Bank for International Settlements\n",
      "title              Australia Residential Property Prices\n",
      "indicator                    residential property prices\n",
      "country                                        australia\n",
      "Name: australia/residential-property-prices, dtype: object\n",
      "Creating CommonMetadata for australia/residential-property-prices...\n",
      "Data type: <class 'pandas.core.series.Series'>, Metadata type: <class 'pandas.core.series.Series'>\n",
      "CommonMetadata created successfully for australia/residential-property-prices\n",
      "Common metadata for concatenation: \n",
      " id                             australia/residential-property-prices\n",
      "title                          Australia Residential Property Prices\n",
      "units                                                              %\n",
      "series_type                                                     None\n",
      "data_type                                                       None\n",
      "frequency                                                     QS-DEC\n",
      "frequency_short                                               QS-DEC\n",
      "original_source                   Bank for International Settlements\n",
      "source                                                        tedata\n",
      "description        The Residential Property Prices in Australia r...\n",
      "start_date                                                2022-03-01\n",
      "end_date                                                  2025-03-01\n",
      "last_updated                                                    None\n",
      "min_value                                                      -6.13\n",
      "max_value                                                      20.58\n",
      "length                                                            13\n",
      "units_short                                                     None\n",
      "dtype: object\n",
      "Successfully processed metadata for australia/residential-property-prices\n",
      "Attempting data pull for series id: australia/gdp, from source: tedata,\n",
      " start_date: 1600-01-01), exchange_code: None\n",
      "Looking for data from source:  tedata data code:  australia/gdp\n"
     ]
    },
    {
     "name": "stderr",
     "output_type": "stream",
     "text": [
      "INFO - Page loaded successfully.\n",
      "INFO - Chart types dictionary created successfully: dict_keys(['Column', 'Spline', 'Areaspline', 'Stepline', 'Line', 'Area'])\n",
      "INFO - Date span set to: 5Y\n",
      "INFO - \n",
      "Series metadata: \n",
      " {'units': 'USD Billion', 'original_source': 'World Bank', 'title': 'Australia GDP', 'indicator': 'gdp', 'country': 'australia', 'source': 'Trading Economics', 'id': 'australia/gdp'}\n",
      "INFO - Date span set to custom range: 1850-01-01 to 2025-08-30 (using JavaScript)\n",
      "INFO - Successfully extracted series data from Highcharts.\n",
      "INFO - Successfully scraped series from Highcharts API.\n"
     ]
    },
    {
     "name": "stdout",
     "output_type": "stream",
     "text": [
      "Data pull successful for australia/gdp from tedata.\n",
      "Processing metadata for australia/gdp, series_meta type: <class 'pandas.core.series.Series'>\n",
      "Raw metadata sample: units                USD Billion\n",
      "original_source       World Bank\n",
      "title              Australia GDP\n",
      "indicator                    gdp\n",
      "country                australia\n",
      "Name: australia/gdp, dtype: object\n",
      "Creating CommonMetadata for australia/gdp...\n",
      "Data type: <class 'pandas.core.series.Series'>, Metadata type: <class 'pandas.core.series.Series'>\n",
      "CommonMetadata created successfully for australia/gdp\n",
      "Common metadata for concatenation: \n",
      " id                                                     australia/gdp\n",
      "title                                                  Australia GDP\n",
      "units                                                    USD Billion\n",
      "series_type                                                     None\n",
      "data_type                                                       None\n",
      "frequency                                                     YS-JAN\n",
      "frequency_short                                               YS-JAN\n",
      "original_source                                           World Bank\n",
      "source                                                        tedata\n",
      "description        The gross domestic product (GDP) measures of n...\n",
      "start_date                                                2020-01-01\n",
      "end_date                                                  2024-01-01\n",
      "last_updated                                                    None\n",
      "min_value                                                    1328.41\n",
      "max_value                                                    1752.19\n",
      "length                                                             5\n",
      "units_short                                                     None\n",
      "dtype: object\n",
      "Successfully processed metadata for australia/gdp\n",
      "Attempting data pull for series id: australia/government-debt-to-gdp, from source: tedata,\n",
      " start_date: 1600-01-01), exchange_code: None\n",
      "Looking for data from source:  tedata data code:  australia/government-debt-to-gdp\n"
     ]
    },
    {
     "name": "stderr",
     "output_type": "stream",
     "text": [
      "INFO - New firefox webdriver created.\n",
      "INFO - scrape_chart function: Scraping chart at: https://tradingeconomics.com/australia/government-debt-to-gdp, time: 2025-08-30 17:01:05.277098, method: highcharts_api\n",
      "INFO - Page loaded successfully.\n",
      "INFO - Chart types dictionary created successfully: dict_keys(['Column', 'Spline', 'Areaspline', 'Stepline', 'Line', 'Area'])\n",
      "INFO - Date span set to: 5Y\n",
      "INFO - \n",
      "Series metadata: \n",
      " {'units': 'percent of GDP', 'original_source': 'Australian Office of Financial Management (AOFM)', 'title': 'Australia Government Net Debt to GDP', 'indicator': 'government debt to gdp', 'country': 'australia', 'source': 'Trading Economics', 'id': 'australia/government-debt-to-gdp'}\n",
      "INFO - Date span set to custom range: 1850-01-01 to 2025-08-30 (using JavaScript)\n",
      "INFO - Successfully extracted series data from Highcharts.\n",
      "INFO - Successfully scraped series from Highcharts API.\n"
     ]
    },
    {
     "name": "stdout",
     "output_type": "stream",
     "text": [
      "Data pull successful for australia/government-debt-to-gdp from tedata.\n",
      "Processing metadata for australia/government-debt-to-gdp, series_meta type: <class 'pandas.core.series.Series'>\n",
      "Raw metadata sample: units                                                percent of GDP\n",
      "original_source    Australian Office of Financial Management (AOFM)\n",
      "title                          Australia Government Net Debt to GDP\n",
      "indicator                                    government debt to gdp\n",
      "country                                                   australia\n",
      "Name: australia/government-debt-to-gdp, dtype: object\n",
      "Creating CommonMetadata for australia/government-debt-to-gdp...\n",
      "Data type: <class 'pandas.core.series.Series'>, Metadata type: <class 'pandas.core.series.Series'>\n",
      "CommonMetadata created successfully for australia/government-debt-to-gdp\n",
      "Common metadata for concatenation: \n",
      " id                                  australia/government-debt-to-gdp\n",
      "title                           Australia Government Net Debt to GDP\n",
      "units                                                 percent of GDP\n",
      "series_type                                                     None\n",
      "data_type                                                       None\n",
      "frequency                                                     YS-JAN\n",
      "frequency_short                                               YS-JAN\n",
      "original_source     Australian Office of Financial Management (AOFM)\n",
      "source                                                        tedata\n",
      "description        In Australia, government debt to GDP refers to...\n",
      "start_date                                                2020-01-01\n",
      "end_date                                                  2024-01-01\n",
      "last_updated                                                    None\n",
      "min_value                                                       24.8\n",
      "max_value                                                       43.8\n",
      "length                                                             5\n",
      "units_short                                                     None\n",
      "dtype: object\n",
      "Successfully processed metadata for australia/government-debt-to-gdp\n",
      "Attempting data pull for series id: australia/gdp-constant-prices, from source: tedata,\n",
      " start_date: 1600-01-01), exchange_code: None\n",
      "Looking for data from source:  tedata data code:  australia/gdp-constant-prices\n"
     ]
    },
    {
     "name": "stderr",
     "output_type": "stream",
     "text": [
      "INFO - scrape_chart function: Scraping chart at: https://tradingeconomics.com/australia/gdp-constant-prices, time: 2025-08-30 17:01:19.983664, method: highcharts_api\n",
      "INFO - Page loaded successfully.\n",
      "INFO - Chart types dictionary created successfully: dict_keys(['Column', 'Spline', 'Areaspline', 'Stepline', 'Line', 'Area'])\n",
      "INFO - Date span set to: 3Y\n",
      "INFO - \n",
      "Series metadata: \n",
      " {'units': 'AUD Million', 'original_source': 'Australian Bureau of Statistics', 'title': 'Australia GDP Constant Prices', 'indicator': 'gdp constant prices', 'country': 'australia', 'source': 'Trading Economics', 'id': 'australia/gdp-constant-prices'}\n"
     ]
    },
    {
     "name": "stdout",
     "output_type": "stream",
     "text": [
      "Description card not found:  {\"'NoneType' object has no attribute 'text'\"}\n"
     ]
    },
    {
     "name": "stderr",
     "output_type": "stream",
     "text": [
      "INFO - Date span set to custom range: 1850-01-01 to 2025-08-30 (using JavaScript)\n",
      "INFO - Successfully extracted series data from Highcharts.\n",
      "INFO - Successfully scraped series from Highcharts API.\n"
     ]
    },
    {
     "name": "stdout",
     "output_type": "stream",
     "text": [
      "Data pull successful for australia/gdp-constant-prices from tedata.\n",
      "Processing metadata for australia/gdp-constant-prices, series_meta type: <class 'pandas.core.series.Series'>\n",
      "Raw metadata sample: units                                  AUD Million\n",
      "original_source    Australian Bureau of Statistics\n",
      "title                Australia GDP Constant Prices\n",
      "indicator                      gdp constant prices\n",
      "country                                  australia\n",
      "Name: australia/gdp-constant-prices, dtype: object\n",
      "Creating CommonMetadata for australia/gdp-constant-prices...\n",
      "Data type: <class 'pandas.core.series.Series'>, Metadata type: <class 'pandas.core.series.Series'>\n",
      "CommonMetadata created successfully for australia/gdp-constant-prices\n",
      "Common metadata for concatenation: \n",
      " id                   australia/gdp-constant-prices\n",
      "title                Australia GDP Constant Prices\n",
      "units                                  AUD Million\n",
      "series_type                                   None\n",
      "data_type                                     None\n",
      "frequency                                   QS-DEC\n",
      "frequency_short                             QS-DEC\n",
      "original_source    Australian Bureau of Statistics\n",
      "source                                      tedata\n",
      "description                    gdp constant prices\n",
      "start_date                              2022-03-01\n",
      "end_date                                2025-03-01\n",
      "last_updated                                  None\n",
      "min_value                                 627399.0\n",
      "max_value                                 659819.0\n",
      "length                                          13\n",
      "units_short                                   None\n",
      "dtype: object\n",
      "Successfully processed metadata for australia/gdp-constant-prices\n",
      "Attempting data pull for series id: australia/private-debt-to-gdp, from source: tedata,\n",
      " start_date: 1600-01-01), exchange_code: None\n",
      "Looking for data from source:  tedata data code:  australia/private-debt-to-gdp\n"
     ]
    },
    {
     "name": "stderr",
     "output_type": "stream",
     "text": [
      "INFO - New firefox webdriver created.\n",
      "INFO - scrape_chart function: Scraping chart at: https://tradingeconomics.com/australia/private-debt-to-gdp, time: 2025-08-30 17:01:36.790213, method: highcharts_api\n",
      "INFO - Page loaded successfully.\n",
      "INFO - Chart types dictionary created successfully: dict_keys(['Column', 'Spline', 'Areaspline', 'Stepline', 'Line', 'Area'])\n",
      "INFO - Date span set to: 5Y\n",
      "INFO - \n",
      "Series metadata: \n",
      " {'units': '%', 'original_source': 'OECD', 'title': 'Australia Private Debt to GDP', 'indicator': 'private debt to gdp', 'country': 'australia', 'source': 'Trading Economics', 'id': 'australia/private-debt-to-gdp'}\n",
      "INFO - Date span set to custom range: 1850-01-01 to 2025-08-30 (using JavaScript)\n",
      "INFO - Successfully extracted series data from Highcharts.\n",
      "INFO - Successfully scraped series from Highcharts API.\n"
     ]
    },
    {
     "name": "stdout",
     "output_type": "stream",
     "text": [
      "Data pull successful for australia/private-debt-to-gdp from tedata.\n",
      "Processing metadata for australia/private-debt-to-gdp, series_meta type: <class 'pandas.core.series.Series'>\n",
      "Raw metadata sample: units                                          %\n",
      "original_source                             OECD\n",
      "title              Australia Private Debt to GDP\n",
      "indicator                    private debt to gdp\n",
      "country                                australia\n",
      "Name: australia/private-debt-to-gdp, dtype: object\n",
      "Creating CommonMetadata for australia/private-debt-to-gdp...\n",
      "Data type: <class 'pandas.core.series.Series'>, Metadata type: <class 'pandas.core.series.Series'>\n",
      "CommonMetadata created successfully for australia/private-debt-to-gdp\n",
      "Common metadata for concatenation: \n",
      " id                                     australia/private-debt-to-gdp\n",
      "title                                  Australia Private Debt to GDP\n",
      "units                                                              %\n",
      "series_type                                                     None\n",
      "data_type                                                       None\n",
      "frequency                                                     YS-JAN\n",
      "frequency_short                                               YS-JAN\n",
      "original_source                                                 OECD\n",
      "source                                                        tedata\n",
      "description        Private sector debt to GDP measures the indebt...\n",
      "start_date                                                2020-01-01\n",
      "end_date                                                  2024-01-01\n",
      "last_updated                                                    None\n",
      "min_value                                                       68.9\n",
      "max_value                                                       76.7\n",
      "length                                                             5\n",
      "units_short                                                     None\n",
      "dtype: object\n",
      "Successfully processed metadata for australia/private-debt-to-gdp\n",
      "Attempting data pull for series id: australia/government-spending-to-gdp, from source: tedata,\n",
      " start_date: 1600-01-01), exchange_code: None\n",
      "Looking for data from source:  tedata data code:  australia/government-spending-to-gdp\n"
     ]
    },
    {
     "name": "stderr",
     "output_type": "stream",
     "text": [
      "INFO - scrape_chart function: Scraping chart at: https://tradingeconomics.com/australia/government-spending-to-gdp, time: 2025-08-30 17:01:54.933179, method: highcharts_api\n",
      "INFO - Page loaded successfully.\n",
      "INFO - Chart types dictionary created successfully: dict_keys(['Column', 'Spline', 'Areaspline', 'Stepline', 'Line', 'Area'])\n",
      "INFO - Date span set to: 5Y\n",
      "INFO - \n",
      "Series metadata: \n",
      " {'units': 'percent of GDP', 'original_source': 'Australian Government', 'title': 'Australia Government Spending To GDP', 'indicator': 'government spending to gdp', 'country': 'australia', 'source': 'Trading Economics', 'id': 'australia/government-spending-to-gdp'}\n"
     ]
    },
    {
     "name": "stdout",
     "output_type": "stream",
     "text": [
      "Description card not found:  {\"'NoneType' object has no attribute 'text'\"}\n"
     ]
    },
    {
     "name": "stderr",
     "output_type": "stream",
     "text": [
      "INFO - Date span set to custom range: 1850-01-01 to 2025-08-30 (using JavaScript)\n",
      "INFO - Successfully extracted series data from Highcharts.\n",
      "INFO - Successfully scraped series from Highcharts API.\n"
     ]
    },
    {
     "name": "stdout",
     "output_type": "stream",
     "text": [
      "Data pull successful for australia/government-spending-to-gdp from tedata.\n",
      "Processing metadata for australia/government-spending-to-gdp, series_meta type: <class 'pandas.core.series.Series'>\n",
      "Raw metadata sample: units                                    percent of GDP\n",
      "original_source                   Australian Government\n",
      "title              Australia Government Spending To GDP\n",
      "indicator                    government spending to gdp\n",
      "country                                       australia\n",
      "Name: australia/government-spending-to-gdp, dtype: object\n",
      "Creating CommonMetadata for australia/government-spending-to-gdp...\n",
      "Data type: <class 'pandas.core.series.Series'>, Metadata type: <class 'pandas.core.series.Series'>\n",
      "CommonMetadata created successfully for australia/government-spending-to-gdp\n",
      "Common metadata for concatenation: \n",
      " id                 australia/government-spending-to-gdp\n",
      "title              Australia Government Spending To GDP\n",
      "units                                    percent of GDP\n",
      "series_type                                        None\n",
      "data_type                                          None\n",
      "frequency                                        YS-JAN\n",
      "frequency_short                                  YS-JAN\n",
      "original_source                   Australian Government\n",
      "source                                           tedata\n",
      "description                  government spending to gdp\n",
      "start_date                                   2020-01-01\n",
      "end_date                                     2024-01-01\n",
      "last_updated                                       None\n",
      "min_value                                          24.8\n",
      "max_value                                          31.4\n",
      "length                                                5\n",
      "units_short                                        None\n",
      "dtype: object\n",
      "Successfully processed metadata for australia/government-spending-to-gdp\n",
      "Attempting data pull for series id: australia/households-debt-to-gdp, from source: tedata,\n",
      " start_date: 1600-01-01), exchange_code: None\n",
      "Looking for data from source:  tedata data code:  australia/households-debt-to-gdp\n"
     ]
    },
    {
     "name": "stderr",
     "output_type": "stream",
     "text": [
      "INFO - New firefox webdriver created.\n",
      "INFO - scrape_chart function: Scraping chart at: https://tradingeconomics.com/australia/households-debt-to-gdp, time: 2025-08-30 17:02:14.053281, method: highcharts_api\n",
      "INFO - Page loaded successfully.\n",
      "INFO - Chart types dictionary created successfully: dict_keys(['Column', 'Spline', 'Areaspline', 'Stepline', 'Line', 'Area'])\n",
      "INFO - Date span set to: 3Y\n",
      "INFO - \n",
      "Series metadata: \n",
      " {'units': 'percent of GDP', 'original_source': 'Bank for International Settlements', 'title': 'Australia Households Debt To GDP', 'indicator': 'households debt to gdp', 'country': 'australia', 'source': 'Trading Economics', 'id': 'australia/households-debt-to-gdp'}\n"
     ]
    },
    {
     "name": "stdout",
     "output_type": "stream",
     "text": [
      "Description card not found:  {\"'NoneType' object has no attribute 'text'\"}\n"
     ]
    },
    {
     "name": "stderr",
     "output_type": "stream",
     "text": [
      "INFO - Date span set to custom range: 1850-01-01 to 2025-08-30 (using JavaScript)\n",
      "INFO - Successfully extracted series data from Highcharts.\n",
      "INFO - Successfully scraped series from Highcharts API.\n"
     ]
    },
    {
     "name": "stdout",
     "output_type": "stream",
     "text": [
      "Data pull successful for australia/households-debt-to-gdp from tedata.\n",
      "Processing metadata for australia/households-debt-to-gdp, series_meta type: <class 'pandas.core.series.Series'>\n",
      "Raw metadata sample: units                                  percent of GDP\n",
      "original_source    Bank for International Settlements\n",
      "title                Australia Households Debt To GDP\n",
      "indicator                      households debt to gdp\n",
      "country                                     australia\n",
      "Name: australia/households-debt-to-gdp, dtype: object\n",
      "Creating CommonMetadata for australia/households-debt-to-gdp...\n",
      "Data type: <class 'pandas.core.series.Series'>, Metadata type: <class 'pandas.core.series.Series'>\n",
      "CommonMetadata created successfully for australia/households-debt-to-gdp\n",
      "Common metadata for concatenation: \n",
      " id                   australia/households-debt-to-gdp\n",
      "title                Australia Households Debt To GDP\n",
      "units                                  percent of GDP\n",
      "series_type                                      None\n",
      "data_type                                        None\n",
      "frequency                                      QS-DEC\n",
      "frequency_short                                QS-DEC\n",
      "original_source    Bank for International Settlements\n",
      "source                                         tedata\n",
      "description                    households debt to gdp\n",
      "start_date                                 2021-12-01\n",
      "end_date                                   2024-12-01\n",
      "last_updated                                     None\n",
      "min_value                                       109.3\n",
      "max_value                                       117.7\n",
      "length                                             13\n",
      "units_short                                      None\n",
      "dtype: object\n",
      "Successfully processed metadata for australia/households-debt-to-gdp\n",
      "Attempting data pull for series id: australia/population, from source: tedata,\n",
      " start_date: 1600-01-01), exchange_code: None\n",
      "Looking for data from source:  tedata data code:  australia/population\n"
     ]
    },
    {
     "name": "stderr",
     "output_type": "stream",
     "text": [
      "INFO - scrape_chart function: Scraping chart at: https://tradingeconomics.com/australia/population, time: 2025-08-30 17:02:31.100406, method: highcharts_api\n",
      "INFO - Page loaded successfully.\n",
      "INFO - Chart types dictionary created successfully: dict_keys(['Column', 'Spline', 'Areaspline', 'Stepline', 'Line', 'Area'])\n",
      "INFO - Date span set to: 5Y\n",
      "INFO - \n",
      "Series metadata: \n",
      " {'units': 'Million', 'original_source': 'Australian Bureau of Statistics', 'title': 'Australia Population', 'indicator': 'population', 'country': 'australia', 'source': 'Trading Economics', 'id': 'australia/population'}\n",
      "INFO - Date span set to custom range: 1850-01-01 to 2025-08-30 (using JavaScript)\n",
      "INFO - Successfully extracted series data from Highcharts.\n",
      "INFO - Successfully scraped series from Highcharts API.\n"
     ]
    },
    {
     "name": "stdout",
     "output_type": "stream",
     "text": [
      "Data pull successful for australia/population from tedata.\n",
      "Processing metadata for australia/population, series_meta type: <class 'pandas.core.series.Series'>\n",
      "Raw metadata sample: units                                      Million\n",
      "original_source    Australian Bureau of Statistics\n",
      "title                         Australia Population\n",
      "indicator                               population\n",
      "country                                  australia\n",
      "Name: australia/population, dtype: object\n",
      "Creating CommonMetadata for australia/population...\n",
      "Data type: <class 'pandas.core.series.Series'>, Metadata type: <class 'pandas.core.series.Series'>\n",
      "CommonMetadata created successfully for australia/population\n",
      "Common metadata for concatenation: \n",
      " id                                              australia/population\n",
      "title                                           Australia Population\n",
      "units                                                        Million\n",
      "series_type                                                     None\n",
      "data_type                                                       None\n",
      "frequency                                                     YS-JAN\n",
      "frequency_short                                               YS-JAN\n",
      "original_source                      Australian Bureau of Statistics\n",
      "source                                                        tedata\n",
      "description        The population of Australia represents 0.33 pe...\n",
      "start_date                                                2020-01-01\n",
      "end_date                                                  2024-01-01\n",
      "last_updated                                                    None\n",
      "min_value                                                      25.63\n",
      "max_value                                                       27.4\n",
      "length                                                             5\n",
      "units_short                                                     None\n",
      "dtype: object\n",
      "Successfully processed metadata for australia/population\n",
      "Attempting data pull for series id: A128478317T, from source: abs_series,\n",
      " start_date: 1600-01-01), exchange_code: None\n",
      "Looking for data from source:  abs_series data code:  A128478317T\n",
      "[1] \"648401\"\n",
      "The name of the table that was downloaded from ABS and saved to directory: /home/imbobbilly/Documents/Coding/Bootleg_Macro/User_Data/ABS/LastPull, is: 648401.xlsx\n",
      "ABS series created with name: Index Numbers   All groups CPI   Australia\n",
      "ABS series title set to: Index Numbers   All groups CPI   Australia\n",
      "Data pull successful for A128478317T from abs_series.\n",
      "Processing metadata for A128478317T, series_meta type: <class 'pandas.core.series.Series'>\n",
      "Raw metadata sample: Unit                Index Numbers\n",
      "Series Type              Original\n",
      "Data Type                   INDEX\n",
      "Frequency                   Month\n",
      "Collection Month                1\n",
      "Name: A128478317T, dtype: object\n",
      "Creating CommonMetadata for A128478317T...\n",
      "Data type: <class 'pandas.core.series.Series'>, Metadata type: <class 'pandas.core.series.Series'>\n",
      "CommonMetadata created successfully for A128478317T\n",
      "Common metadata for concatenation: \n",
      " id                                                A128478317T\n",
      "title              Index Numbers   All groups CPI   Australia\n",
      "units                                           Index Numbers\n",
      "series_type                                          Original\n",
      "data_type                                               INDEX\n",
      "frequency                                               Month\n",
      "frequency_short                                             M\n",
      "original_source                                          None\n",
      "source                                             abs_series\n",
      "description                                              None\n",
      "start_date                                         2017-09-01\n",
      "end_date                                           2025-07-01\n",
      "last_updated                                             None\n",
      "min_value                                               100.0\n",
      "max_value                                               127.7\n",
      "length                                                     95\n",
      "units_short                                              None\n",
      "dtype: object\n",
      "Successfully processed metadata for A128478317T\n",
      "Attempting data pull for series id: GCPIAG, from source: rba_series,\n",
      " start_date: 1600-01-01), exchange_code: None\n",
      "Looking for data from source:  rba_series data code:  GCPIAG\n",
      "\n",
      "\n",
      " [{\"date\":\"1922-06-30\",\"series\":\"Consumer price index\",\"value\":2.8,\"frequency\":\"Quarterly\",\"series_type\":\"Original\",\"units\":\"Index, 2011/12=100\",\"source\":\"ABS / RBA\",\"pub_date\":\"2025-07-31\",\"series_id\":\"GCPIAG\",\"description\":\"Consumer price index; All groups\",\"table_title\":\"G1 Consumer Price Inflation\"},{\"date\":\"1922-09-30\",\"series\":\"Consumer price index\",\"value\":2.8,\"frequency\":\"Quarterly\",\"series_type\":\"Original\",\"units\":\"Index, 2011/12=100\",\"source\":\"ABS / RBA\",\"pub_date\":\"2025-07-31\",\"series_id\":\"GCPIAG\",\"description\":\"Consumer price index; All groups\",\"table_title\":\"G1 Consumer Price Inflation\"},{\"date\":\"1922-12-31\",\"series\":\"Consumer price index\",\"value\":2.7,\"frequency\":\"Quarterly\",\"series_type\":\"Original\",\"units\":\"Index, 2011/12=100\",\"source\":\"ABS / RBA\",\"pub_date\":\"2025-07-31\",\"series_id\":\"GCPIAG\",\"description\":\"Consumer price index; All groups\",\"table_title\":\"G1 Consumer Price Inflation\"},{\"date\":\"1923-03-31\",\"series\":\"Consumer price index\",\"value\":2.7,\"frequency\":\"Quarterly\",\"series_type\":\"Original\",\"units\":\"Index, 2011/12=100\",\"source\":\"ABS / RBA\",\"pub_date\":\"2025-07-31\",\"series_id\":\"GCPIAG\",\"description\":\"Consumer price index; All groups\",\"table_title\":\"G1 Consumer Price Inflation\"},{\"date\":\"1923-06-30\",\"series\":\"Consumer price index\",\"value\":2.8,\"frequency\":\"Quarterly\",\"series_type\":\"Original\",\"units\":\"Index, 2011/12=100\",\"source\":\"ABS / RBA\",\"pub_date\":\"2025-07-31\",\"series_id\":\"GCPIAG\",\"description\":\"Consumer price index; All groups\",\"table_title\":\"G1 Consumer Price Inflation\"},{\"date\":\"1923-09-30\",\"series\":\"Consumer price index\",\"value\":2.9,\"frequency\":\"Quarterly\",\"series_type\":\"Original\",\"units\":\"Index, 2011/12=100\",\"source\":\"ABS / RBA\",\"pub_date\":\"2025-07-31\",\"series_id\":\"GCPIAG\",\"description\":\"Consumer price index; All groups\",\"table_title\":\"G1 Consumer Price Inflation\"},{\"date\":\"1923-12-31\",\"series\":\"Consumer price index\",\"value\":2.9,\"frequency\":\"Quarterly\",\"series_type\":\"Original\",\"units\":\"Index, 2011/12=100\",\"source\":\"ABS / RBA\",\"pub_date\":\"2025-07-31\",\"series_id\":\"GCPIAG\",\"description\":\"Consumer price index; All groups\",\"table_title\":\"G1 Consumer Price Inflation\"},{\"date\":\"1924-03-31\",\"series\":\"Consumer price index\",\"value\":2.8,\"frequency\":\"Quarterly\",\"series_type\":\"Original\",\"units\":\"Index, 2011/12=100\",\"source\":\"ABS / RBA\",\"pub_date\":\"2025-07-31\",\"series_id\":\"GCPIAG\",\"description\":\"Consumer price index; All groups\",\"table_title\":\"G1 Consumer Price Inflation\"},{\"date\":\"1924-06-30\",\"series\":\"Consumer price index\",\"value\":2.8,\"frequency\":\"Quarterly\",\"series_type\":\"Original\",\"units\":\"Index, 2011/12=100\",\"source\":\"ABS / RBA\",\"pub_date\":\"2025-07-31\",\"series_id\":\"GCPIAG\",\"description\":\"Consumer price index; All groups\",\"table_title\":\"G1 Consumer Price Inflation\"},{\"date\":\"1924-09-30\",\"series\":\"Consumer price index\",\"value\":2.8,\"frequency\":\"Quarterly\",\"series_type\":\"Original\",\"units\":\"Index, 2011/12=100\",\"source\":\"ABS / RBA\",\"pub_date\":\"2025-07-31\",\"series_id\":\"GCPIAG\",\"description\":\"Consumer price index; All groups\",\"table_title\":\"G1 Consumer Price Inflation\"},{\"date\":\"1924-12-31\",\"series\":\"Consumer price index\",\"value\":2.8,\"frequency\":\"Quarterly\",\"series_type\":\"Original\",\"units\":\"Index, 2011/12=100\",\"source\":\"ABS / RBA\",\"pub_date\":\"2025-07-31\",\"series_id\":\"GCPIAG\",\"description\":\"Consumer price index; All groups\",\"table_title\":\"G1 Consumer Price Inflation\"},{\"date\":\"1925-03-31\",\"series\":\"Consumer price index\",\"value\":2.8,\"frequency\":\"Quarterly\",\"series_type\":\"Original\",\"units\":\"Index, 2011/12=100\",\"source\":\"ABS / RBA\",\"pub_date\":\"2025-07-31\",\"series_id\":\"GCPIAG\",\"description\":\"Consumer price index; All groups\",\"table_title\":\"G1 Consumer Price Inflation\"},{\"date\":\"1925-06-30\",\"series\":\"Consumer price index\",\"value\":2.8,\"frequency\":\"Quarterly\",\"series_type\":\"Original\",\"units\":\"Index, 2011/12=100\",\"source\":\"ABS / RBA\",\"pub_date\":\"2025-07-31\",\"series_id\":\"GCPIAG\",\"description\":\"Consumer price index; All groups\",\"table_title\":\"G1 Consumer Price Inflation\"},{\"date\":\"1925-09-30\",\"series\":\"Consumer price index\",\"value\":2.8,\"frequency\":\"Quarterly\",\"series_type\":\"Original\",\"units\":\"Index, 2011/12=100\",\"source\":\"ABS / RBA\",\"pub_date\":\"2025-07-31\",\"series_id\":\"GCPIAG\",\"description\":\"Consumer price index; All groups\",\"table_title\":\"G1 Consumer Price Inflation\"},{\"date\":\"1925-12-31\",\"series\":\"Consumer price index\",\"value\":2.8,\"frequency\":\"Quarterly\",\"series_type\":\"Original\",\"units\":\"Index, 2011/12=100\",\"source\":\"ABS / RBA\",\"pub_date\":\"2025-07-31\",\"series_id\":\"GCPIAG\",\"description\":\"Consumer price index; All groups\",\"table_title\":\"G1 Consumer Price Inflation\"},{\"date\":\"1926-03-31\",\"series\":\"Consumer price index\",\"value\":2.8,\"frequency\":\"Quarterly\",\"series_type\":\"Original\",\"units\":\"Index, 2011/12=100\",\"source\":\"ABS / RBA\",\"pub_date\":\"2025-07-31\",\"series_id\":\"GCPIAG\",\"description\":\"Consumer price index; All groups\",\"table_title\":\"G1 Consumer Price Inflation\"},{\"date\":\"1926-06-30\",\"series\":\"Consumer price index\",\"value\":2.9,\"frequency\":\"Quarterly\",\"series_type\":\"Original\",\"units\":\"Index, 2011/12=100\",\"source\":\"ABS / RBA\",\"pub_date\":\"2025-07-31\",\"series_id\":\"GCPIAG\",\"description\":\"Consumer price index; All groups\",\"table_title\":\"G1 Consumer Price Inflation\"},{\"date\":\"1926-09-30\",\"series\":\"Consumer price index\",\"value\":2.9,\"frequency\":\"Quarterly\",\"series_type\":\"Original\",\"units\":\"Index, 2011/12=100\",\"source\":\"ABS / RBA\",\"pub_date\":\"2025-07-31\",\"series_id\":\"GCPIAG\",\"description\":\"Consumer price index; All groups\",\"table_title\":\"G1 Consumer Price Inflation\"},{\"date\":\"1926-12-31\",\"series\":\"Consumer price index\",\"value\":2.8,\"frequency\":\"Quarterly\",\"series_type\":\"Original\",\"units\":\"Index, 2011/12=100\",\"source\":\"ABS / RBA\",\"pub_date\":\"2025-07-31\",\"series_id\":\"GCPIAG\",\"description\":\"Consumer price index; All groups\",\"table_title\":\"G1 Consumer Price Inflation\"},{\"date\":\"1927-03-31\",\"series\":\"Consumer price index\",\"value\":2.8,\"frequency\":\"Quarterly\",\"series_type\":\"Original\",\"units\":\"Index, 2011/12=100\",\"source\":\"ABS / RBA\",\"pub_date\":\"2025-07-31\",\"series_id\":\"GCPIAG\",\"description\":\"Consumer price index; All groups\",\"table_title\":\"G1 Consumer Price Inflation\"},{\"date\":\"1927-06-30\",\"series\":\"Consumer price index\",\"value\":2.8,\"frequency\":\"Quarterly\",\"series_type\":\"Original\",\"units\":\"Index, 2011/12=100\",\"source\":\"ABS / RBA\",\"pub_date\":\"2025-07-31\",\"series_id\":\"GCPIAG\",\"description\":\"Consumer price index; All groups\",\"table_title\":\"G1 Consumer Price Inflation\"},{\"date\":\"1927-09-30\",\"series\":\"Consumer price index\",\"value\":2.8,\"frequency\":\"Quarterly\",\"series_type\":\"Original\",\"units\":\"Index, 2011/12=100\",\"source\":\"ABS / RBA\",\"pub_date\":\"2025-07-31\",\"series_id\":\"GCPIAG\",\"description\":\"Consumer price index; All groups\",\"table_title\":\"G1 Consumer Price Inflation\"},{\"date\":\"1927-12-31\",\"series\":\"Consumer price index\",\"value\":2.9,\"frequency\":\"Quarterly\",\"series_type\":\"Original\",\"units\":\"Index, 2011/12=100\",\"source\":\"ABS / RBA\",\"pub_date\":\"2025-07-31\",\"series_id\":\"GCPIAG\",\"description\":\"Consumer price index; All groups\",\"table_title\":\"G1 Consumer Price Inflation\"},{\"date\":\"1928-03-31\",\"series\":\"Consumer price index\",\"value\":2.9,\"frequency\":\"Quarterly\",\"series_type\":\"Original\",\"units\":\"Index, 2011/12=100\",\"source\":\"ABS / RBA\",\"pub_date\":\"2025-07-31\",\"series_id\":\"GCPIAG\",\"description\":\"Consumer price index; All groups\",\"table_title\":\"G1 Consumer Price Inflation\"},{\"date\":\"1928-06-30\",\"series\":\"Consumer price index\",\"value\":2.9,\"frequency\":\"Quarterly\",\"series_type\":\"Original\",\"units\":\"Index, 2011/12=100\",\"source\":\"ABS / RBA\",\"pub_date\":\"2025-07-31\",\"series_id\":\"GCPIAG\",\"description\":\"Consumer price index; All groups\",\"table_title\":\"G1 Consumer Price Inflation\"},{\"date\":\"1928-09-30\",\"series\":\"Consumer price index\",\"value\":2.9,\"frequency\":\"Quarterly\",\"series_type\":\"Original\",\"units\":\"Index, 2011/12=100\",\"source\":\"ABS / RBA\",\"pub_date\":\"2025-07-31\",\"series_id\":\"GCPIAG\",\"description\":\"Consumer price index; All groups\",\"table_title\":\"G1 Consumer Price Inflation\"},{\"date\":\"1928-12-31\",\"series\":\"Consumer price index\",\"value\":2.9,\"frequency\":\"Quarterly\",\"series_type\":\"Original\",\"units\":\"Index, 2011/12=100\",\"source\":\"ABS / RBA\",\"pub_date\":\"2025-07-31\",\"series_id\":\"GCPIAG\",\"description\":\"Consumer price index; All groups\",\"table_title\":\"G1 Consumer Price Inflation\"},{\"date\":\"1929-03-31\",\"series\":\"Consumer price index\",\"value\":2.9,\"frequency\":\"Quarterly\",\"series_type\":\"Original\",\"units\":\"Index, 2011/12=100\",\"source\":\"ABS / RBA\",\"pub_date\":\"2025-07-31\",\"series_id\":\"GCPIAG\",\"description\":\"Consumer price index; All groups\",\"table_title\":\"G1 Consumer Price Inflation\"},{\"date\":\"1929-06-30\",\"series\":\"Consumer price index\",\"value\":2.9,\"frequency\":\"Quarterly\",\"series_type\":\"Original\",\"units\":\"Index, 2011/12=100\",\"source\":\"ABS / RBA\",\"pub_date\":\"2025-07-31\",\"series_id\":\"GCPIAG\",\"description\":\"Consumer price index; All groups\",\"table_title\":\"G1 Consumer Price Inflation\"},{\"date\":\"1929-09-30\",\"series\":\"Consumer price index\",\"value\":2.9,\"frequency\":\"Quarterly\",\"series_type\":\"Original\",\"units\":\"Index, 2011/12=100\",\"source\":\"ABS / RBA\",\"pub_date\":\"2025-07-31\",\"series_id\":\"GCPIAG\",\"description\":\"Consumer price index; All groups\",\"table_title\":\"G1 Consumer Price Inflation\"},{\"date\":\"1929-12-31\",\"series\":\"Consumer price index\",\"value\":2.9,\"frequency\":\"Quarterly\",\"series_type\":\"Original\",\"units\":\"Index, 2011/12=100\",\"source\":\"ABS / RBA\",\"pub_date\":\"2025-07-31\",\"series_id\":\"GCPIAG\",\"description\":\"Consumer price index; All groups\",\"table_title\":\"G1 Consumer Price Inflation\"},{\"date\":\"1930-03-31\",\"series\":\"Consumer price index\",\"value\":2.8,\"frequency\":\"Quarterly\",\"series_type\":\"Original\",\"units\":\"Index, 2011/12=100\",\"source\":\"ABS / RBA\",\"pub_date\":\"2025-07-31\",\"series_id\":\"GCPIAG\",\"description\":\"Consumer price index; All groups\",\"table_title\":\"G1 Consumer Price Inflation\"},{\"date\":\"1930-06-30\",\"series\":\"Consumer price index\",\"value\":2.8,\"frequency\":\"Quarterly\",\"series_type\":\"Original\",\"units\":\"Index, 2011/12=100\",\"source\":\"ABS / RBA\",\"pub_date\":\"2025-07-31\",\"series_id\":\"GCPIAG\",\"description\":\"Consumer price index; All groups\",\"table_title\":\"G1 Consumer Price Inflation\"},{\"date\":\"1930-09-30\",\"series\":\"Consumer price index\",\"value\":2.7,\"frequency\":\"Quarterly\",\"series_type\":\"Original\",\"units\":\"Index, 2011/12=100\",\"source\":\"ABS / RBA\",\"pub_date\":\"2025-07-31\",\"series_id\":\"GCPIAG\",\"description\":\"Consumer price index; All groups\",\"table_title\":\"G1 Consumer Price Inflation\"},{\"date\":\"1930-12-31\",\"series\":\"Consumer price index\",\"value\":2.6,\"frequency\":\"Quarterly\",\"series_type\":\"Original\",\"units\":\"Index, 2011/12=100\",\"source\":\"ABS / RBA\",\"pub_date\":\"2025-07-31\",\"series_id\":\"GCPIAG\",\"description\":\"Consumer price index; All groups\",\"table_title\":\"G1 Consumer Price Inflation\"},{\"date\":\"1931-03-31\",\"series\":\"Consumer price index\",\"value\":2.6,\"frequency\":\"Quarterly\",\"series_type\":\"Original\",\"units\":\"Index, 2011/12=100\",\"source\":\"ABS / RBA\",\"pub_date\":\"2025-07-31\",\"series_id\":\"GCPIAG\",\"description\":\"Consumer price index; All groups\",\"table_title\":\"G1 Consumer Price Inflation\"},{\"date\":\"1931-06-30\",\"series\":\"Consumer price index\",\"value\":2.5,\"frequency\":\"Quarterly\",\"series_type\":\"Original\",\"units\":\"Index, 2011/12=100\",\"source\":\"ABS / RBA\",\"pub_date\":\"2025-07-31\",\"series_id\":\"GCPIAG\",\"description\":\"Consumer price index; All groups\",\"table_title\":\"G1 Consumer Price Inflation\"},{\"date\":\"1931-09-30\",\"series\":\"Consumer price index\",\"value\":2.4,\"frequency\":\"Quarterly\",\"series_type\":\"Original\",\"units\":\"Index, 2011/12=100\",\"source\":\"ABS / RBA\",\"pub_date\":\"2025-07-31\",\"series_id\":\"GCPIAG\",\"description\":\"Consumer price index; All groups\",\"table_title\":\"G1 Consumer Price Inflation\"},{\"date\":\"1931-12-31\",\"series\":\"Consumer price index\",\"value\":2.4,\"frequency\":\"Quarterly\",\"series_type\":\"Original\",\"units\":\"Index, 2011/12=100\",\"source\":\"ABS / RBA\",\"pub_date\":\"2025-07-31\",\"series_id\":\"GCPIAG\",\"description\":\"Consumer price index; All groups\",\"table_title\":\"G1 Consumer Price Inflation\"},{\"date\":\"1932-03-31\",\"series\":\"Consumer price index\",\"value\":2.4,\"frequency\":\"Quarterly\",\"series_type\":\"Original\",\"units\":\"Index, 2011/12=100\",\"source\":\"ABS / RBA\",\"pub_date\":\"2025-07-31\",\"series_id\":\"GCPIAG\",\"description\":\"Consumer price index; All groups\",\"table_title\":\"G1 Consumer Price Inflation\"},{\"date\":\"1932-06-30\",\"series\":\"Consumer price index\",\"value\":2.4,\"frequency\":\"Quarterly\",\"series_type\":\"Original\",\"units\":\"Index, 2011/12=100\",\"source\":\"ABS / RBA\",\"pub_date\":\"2025-07-31\",\"series_id\":\"GCPIAG\",\"description\":\"Consumer price index; All groups\",\"table_title\":\"G1 Consumer Price Inflation\"},{\"date\":\"1932-09-30\",\"series\":\"Consumer price index\",\"value\":2.3,\"frequency\":\"Quarterly\",\"series_type\":\"Original\",\"units\":\"Index, 2011/12=100\",\"source\":\"ABS / RBA\",\"pub_date\":\"2025-07-31\",\"series_id\":\"GCPIAG\",\"description\":\"Consumer price index; All groups\",\"table_title\":\"G1 Consumer Price Inflation\"},{\"date\":\"1932-12-31\",\"series\":\"Consumer price index\",\"value\":2.3,\"frequency\":\"Quarterly\",\"series_type\":\"Original\",\"units\":\"Index, 2011/12=100\",\"source\":\"ABS / RBA\",\"pub_date\":\"2025-07-31\",\"series_id\":\"GCPIAG\",\"description\":\"Consumer price index; All groups\",\"table_title\":\"G1 Consumer Price Inflation\"},{\"date\":\"1933-03-31\",\"series\":\"Consumer price index\",\"value\":2.3,\"frequency\":\"Quarterly\",\"series_type\":\"Original\",\"units\":\"Index, 2011/12=100\",\"source\":\"ABS / RBA\",\"pub_date\":\"2025-07-31\",\"series_id\":\"GCPIAG\",\"description\":\"Consumer price index; All groups\",\"table_title\":\"G1 Consumer Price Inflation\"},{\"date\":\"1933-06-30\",\"series\":\"Consumer price index\",\"value\":2.3,\"frequency\":\"Quarterly\",\"series_type\":\"Original\",\"units\":\"Index, 2011/12=100\",\"source\":\"ABS / RBA\",\"pub_date\":\"2025-07-31\",\"series_id\":\"GCPIAG\",\"description\":\"Consumer price index; All groups\",\"table_title\":\"G1 Consumer Price Inflation\"},{\"date\":\"1933-09-30\",\"series\":\"Consumer price index\",\"value\":2.3,\"frequency\":\"Quarterly\",\"series_type\":\"Original\",\"units\":\"Index, 2011/12=100\",\"source\":\"ABS / RBA\",\"pub_date\":\"2025-07-31\",\"series_id\":\"GCPIAG\",\"description\":\"Consumer price index; All groups\",\"table_title\":\"G1 Consumer Price Inflation\"},{\"date\":\"1933-12-31\",\"series\":\"Consumer price index\",\"value\":2.3,\"frequency\":\"Quarterly\",\"series_type\":\"Original\",\"units\":\"Index, 2011/12=100\",\"source\":\"ABS / RBA\",\"pub_date\":\"2025-07-31\",\"series_id\":\"GCPIAG\",\"description\":\"Consumer price index; All groups\",\"table_title\":\"G1 Consumer Price Inflation\"},{\"date\":\"1934-03-31\",\"series\":\"Consumer price index\",\"value\":2.3,\"frequency\":\"Quarterly\",\"series_type\":\"Original\",\"units\":\"Index, 2011/12=100\",\"source\":\"ABS / RBA\",\"pub_date\":\"2025-07-31\",\"series_id\":\"GCPIAG\",\"description\":\"Consumer price index; All groups\",\"table_title\":\"G1 Consumer Price Inflation\"},{\"date\":\"1934-06-30\",\"series\":\"Consumer price index\",\"value\":2.3,\"frequency\":\"Quarterly\",\"series_type\":\"Original\",\"units\":\"Index, 2011/12=100\",\"source\":\"ABS / RBA\",\"pub_date\":\"2025-07-31\",\"series_id\":\"GCPIAG\",\"description\":\"Consumer price index; All groups\",\"table_title\":\"G1 Consumer Price Inflation\"},{\"date\":\"1934-09-30\",\"series\":\"Consumer price index\",\"value\":2.3,\"frequency\":\"Quarterly\",\"series_type\":\"Original\",\"units\":\"Index, 2011/12=100\",\"source\":\"ABS / RBA\",\"pub_date\":\"2025-07-31\",\"series_id\":\"GCPIAG\",\"description\":\"Consumer price index; All groups\",\"table_title\":\"G1 Consumer Price Inflation\"},{\"date\":\"1934-12-31\",\"series\":\"Consumer price index\",\"value\":2.3,\"frequency\":\"Quarterly\",\"series_type\":\"Original\",\"units\":\"Index, 2011/12=100\",\"source\":\"ABS / RBA\",\"pub_date\":\"2025-07-31\",\"series_id\":\"GCPIAG\",\"description\":\"Consumer price index; All groups\",\"table_title\":\"G1 Consumer Price Inflation\"},{\"date\":\"1935-03-31\",\"series\":\"Consumer price index\",\"value\":2.3,\"frequency\":\"Quarterly\",\"series_type\":\"Original\",\"units\":\"Index, 2011/12=100\",\"source\":\"ABS / RBA\",\"pub_date\":\"2025-07-31\",\"series_id\":\"GCPIAG\",\"description\":\"Consumer price index; All groups\",\"table_title\":\"G1 Consumer Price Inflation\"},{\"date\":\"1935-06-30\",\"series\":\"Consumer price index\",\"value\":2.3,\"frequency\":\"Quarterly\",\"series_type\":\"Original\",\"units\":\"Index, 2011/12=100\",\"source\":\"ABS / RBA\",\"pub_date\":\"2025-07-31\",\"series_id\":\"GCPIAG\",\"description\":\"Consumer price index; All groups\",\"table_title\":\"G1 Consumer Price Inflation\"},{\"date\":\"1935-09-30\",\"series\":\"Consumer price index\",\"value\":2.4,\"frequency\":\"Quarterly\",\"series_type\":\"Original\",\"units\":\"Index, 2011/12=100\",\"source\":\"ABS / RBA\",\"pub_date\":\"2025-07-31\",\"series_id\":\"GCPIAG\",\"description\":\"Consumer price index; All groups\",\"table_title\":\"G1 Consumer Price Inflation\"},{\"date\":\"1935-12-31\",\"series\":\"Consumer price index\",\"value\":2.4,\"frequency\":\"Quarterly\",\"series_type\":\"Original\",\"units\":\"Index, 2011/12=100\",\"source\":\"ABS / RBA\",\"pub_date\":\"2025-07-31\",\"series_id\":\"GCPIAG\",\"description\":\"Consumer price index; All groups\",\"table_title\":\"G1 Consumer Price Inflation\"},{\"date\":\"1936-03-31\",\"series\":\"Consumer price index\",\"value\":2.4,\"frequency\":\"Quarterly\",\"series_type\":\"Original\",\"units\":\"Index, 2011/12=100\",\"source\":\"ABS / RBA\",\"pub_date\":\"2025-07-31\",\"series_id\":\"GCPIAG\",\"description\":\"Consumer price index; All groups\",\"table_title\":\"G1 Consumer Price Inflation\"},{\"date\":\"1936-06-30\",\"series\":\"Consumer price index\",\"value\":2.4,\"frequency\":\"Quarterly\",\"series_type\":\"Original\",\"units\":\"Index, 2011/12=100\",\"source\":\"ABS / RBA\",\"pub_date\":\"2025-07-31\",\"series_id\":\"GCPIAG\",\"description\":\"Consumer price index; All groups\",\"table_title\":\"G1 Consumer Price Inflation\"},{\"date\":\"1936-09-30\",\"series\":\"Consumer price index\",\"value\":2.4,\"frequency\":\"Quarterly\",\"series_type\":\"Original\",\"units\":\"Index, 2011/12=100\",\"source\":\"ABS / RBA\",\"pub_date\":\"2025-07-31\",\"series_id\":\"GCPIAG\",\"description\":\"Consumer price index; All groups\",\"table_title\":\"G1 Consumer Price Inflation\"},{\"date\":\"1936-12-31\",\"series\":\"Consumer price index\",\"value\":2.4,\"frequency\":\"Quarterly\",\"series_type\":\"Original\",\"units\":\"Index, 2011/12=100\",\"source\":\"ABS / RBA\",\"pub_date\":\"2025-07-31\",\"series_id\":\"GCPIAG\",\"description\":\"Consumer price index; All groups\",\"table_title\":\"G1 Consumer Price Inflation\"},{\"date\":\"1937-03-31\",\"series\":\"Consumer price index\",\"value\":2.4,\"frequency\":\"Quarterly\",\"series_type\":\"Original\",\"units\":\"Index, 2011/12=100\",\"source\":\"ABS / RBA\",\"pub_date\":\"2025-07-31\",\"series_id\":\"GCPIAG\",\"description\":\"Consumer price index; All groups\",\"table_title\":\"G1 Consumer Price Inflation\"},{\"date\":\"1937-06-30\",\"series\":\"Consumer price index\",\"value\":2.4,\"frequency\":\"Quarterly\",\"series_type\":\"Original\",\"units\":\"Index, 2011/12=100\",\"source\":\"ABS / RBA\",\"pub_date\":\"2025-07-31\",\"series_id\":\"GCPIAG\",\"description\":\"Consumer price index; All groups\",\"table_title\":\"G1 Consumer Price Inflation\"},{\"date\":\"1937-09-30\",\"series\":\"Consumer price index\",\"value\":2.5,\"frequency\":\"Quarterly\",\"series_type\":\"Original\",\"units\":\"Index, 2011/12=100\",\"source\":\"ABS / RBA\",\"pub_date\":\"2025-07-31\",\"series_id\":\"GCPIAG\",\"description\":\"Consumer price index; All groups\",\"table_title\":\"G1 Consumer Price Inflation\"},{\"date\":\"1937-12-31\",\"series\":\"Consumer price index\",\"value\":2.5,\"frequency\":\"Quarterly\",\"series_type\":\"Original\",\"units\":\"Index, 2011/12=100\",\"source\":\"ABS / RBA\",\"pub_date\":\"2025-07-31\",\"series_id\":\"GCPIAG\",\"description\":\"Consumer price index; All groups\",\"table_title\":\"G1 Consumer Price Inflation\"},{\"date\":\"1938-03-31\",\"series\":\"Consumer price index\",\"value\":2.5,\"frequency\":\"Quarterly\",\"series_type\":\"Original\",\"units\":\"Index, 2011/12=100\",\"source\":\"ABS / RBA\",\"pub_date\":\"2025-07-31\",\"series_id\":\"GCPIAG\",\"description\":\"Consumer price index; All groups\",\"table_title\":\"G1 Consumer Price Inflation\"},{\"date\":\"1938-06-30\",\"series\":\"Consumer price index\",\"value\":2.5,\"frequency\":\"Quarterly\",\"series_type\":\"Original\",\"units\":\"Index, 2011/12=100\",\"source\":\"ABS / RBA\",\"pub_date\":\"2025-07-31\",\"series_id\":\"GCPIAG\",\"description\":\"Consumer price index; All groups\",\"table_title\":\"G1 Consumer Price Inflation\"},{\"date\":\"1938-09-30\",\"series\":\"Consumer price index\",\"value\":2.6,\"frequency\":\"Quarterly\",\"series_type\":\"Original\",\"units\":\"Index, 2011/12=100\",\"source\":\"ABS / RBA\",\"pub_date\":\"2025-07-31\",\"series_id\":\"GCPIAG\",\"description\":\"Consumer price index; All groups\",\"table_title\":\"G1 Consumer Price Inflation\"},{\"date\":\"1938-12-31\",\"series\":\"Consumer price index\",\"value\":2.6,\"frequency\":\"Quarterly\",\"series_type\":\"Original\",\"units\":\"Index, 2011/12=100\",\"source\":\"ABS / RBA\",\"pub_date\":\"2025-07-31\",\"series_id\":\"GCPIAG\",\"description\":\"Consumer price index; All groups\",\"table_title\":\"G1 Consumer Price Inflation\"},{\"date\":\"1939-03-31\",\"series\":\"Consumer price index\",\"value\":2.6,\"frequency\":\"Quarterly\",\"series_type\":\"Original\",\"units\":\"Index, 2011/12=100\",\"source\":\"ABS / RBA\",\"pub_date\":\"2025-07-31\",\"series_id\":\"GCPIAG\",\"description\":\"Consumer price index; All groups\",\"table_title\":\"G1 Consumer Price Inflation\"},{\"date\":\"1939-06-30\",\"series\":\"Consumer price index\",\"value\":2.6,\"frequency\":\"Quarterly\",\"series_type\":\"Original\",\"units\":\"Index, 2011/12=100\",\"source\":\"ABS / RBA\",\"pub_date\":\"2025-07-31\",\"series_id\":\"GCPIAG\",\"description\":\"Consumer price index; All groups\",\"table_title\":\"G1 Consumer Price Inflation\"},{\"date\":\"1939-09-30\",\"series\":\"Consumer price index\",\"value\":2.6,\"frequency\":\"Quarterly\",\"series_type\":\"Original\",\"units\":\"Index, 2011/12=100\",\"source\":\"ABS / RBA\",\"pub_date\":\"2025-07-31\",\"series_id\":\"GCPIAG\",\"description\":\"Consumer price index; All groups\",\"table_title\":\"G1 Consumer Price Inflation\"},{\"date\":\"1939-12-31\",\"series\":\"Consumer price index\",\"value\":2.6,\"frequency\":\"Quarterly\",\"series_type\":\"Original\",\"units\":\"Index, 2011/12=100\",\"source\":\"ABS / RBA\",\"pub_date\":\"2025-07-31\",\"series_id\":\"GCPIAG\",\"description\":\"Consumer price index; All groups\",\"table_title\":\"G1 Consumer Price Inflation\"},{\"date\":\"1940-03-31\",\"series\":\"Consumer price index\",\"value\":2.6,\"frequency\":\"Quarterly\",\"series_type\":\"Original\",\"units\":\"Index, 2011/12=100\",\"source\":\"ABS / RBA\",\"pub_date\":\"2025-07-31\",\"series_id\":\"GCPIAG\",\"description\":\"Consumer price index; All groups\",\"table_title\":\"G1 Consumer Price Inflation\"},{\"date\":\"1940-06-30\",\"series\":\"Consumer price index\",\"value\":2.7,\"frequency\":\"Quarterly\",\"series_type\":\"Original\",\"units\":\"Index, 2011/12=100\",\"source\":\"ABS / RBA\",\"pub_date\":\"2025-07-31\",\"series_id\":\"GCPIAG\",\"description\":\"Consumer price index; All groups\",\"table_title\":\"G1 Consumer Price Inflation\"},{\"date\":\"1940-09-30\",\"series\":\"Consumer price index\",\"value\":2.7,\"frequency\":\"Quarterly\",\"series_type\":\"Original\",\"units\":\"Index, 2011/12=100\",\"source\":\"ABS / RBA\",\"pub_date\":\"2025-07-31\",\"series_id\":\"GCPIAG\",\"description\":\"Consumer price index; All groups\",\"table_title\":\"G1 Consumer Price Inflation\"},{\"date\":\"1940-12-31\",\"series\":\"Consumer price index\",\"value\":2.8,\"frequency\":\"Quarterly\",\"series_type\":\"Original\",\"units\":\"Index, 2011/12=100\",\"source\":\"ABS / RBA\",\"pub_date\":\"2025-07-31\",\"series_id\":\"GCPIAG\",\"description\":\"Consumer price index; All groups\",\"table_title\":\"G1 Consumer Price Inflation\"},{\"date\":\"1941-03-31\",\"series\":\"Consumer price index\",\"value\":2.8,\"frequency\":\"Quarterly\",\"series_type\":\"Original\",\"units\":\"Index, 2011/12=100\",\"source\":\"ABS / RBA\",\"pub_date\":\"2025-07-31\",\"series_id\":\"GCPIAG\",\"description\":\"Consumer price index; All groups\",\"table_title\":\"G1 Consumer Price Inflation\"},{\"date\":\"1941-06-30\",\"series\":\"Consumer price index\",\"value\":2.8,\"frequency\":\"Quarterly\",\"series_type\":\"Original\",\"units\":\"Index, 2011/12=100\",\"source\":\"ABS / RBA\",\"pub_date\":\"2025-07-31\",\"series_id\":\"GCPIAG\",\"description\":\"Consumer price index; All groups\",\"table_title\":\"G1 Consumer Price Inflation\"},{\"date\":\"1941-09-30\",\"series\":\"Consumer price index\",\"value\":2.8,\"frequency\":\"Quarterly\",\"series_type\":\"Original\",\"units\":\"Index, 2011/12=100\",\"source\":\"ABS / RBA\",\"pub_date\":\"2025-07-31\",\"series_id\":\"GCPIAG\",\"description\":\"Consumer price index; All groups\",\"table_title\":\"G1 Consumer Price Inflation\"},{\"date\":\"1941-12-31\",\"series\":\"Consumer price index\",\"value\":2.9,\"frequency\":\"Quarterly\",\"series_type\":\"Original\",\"units\":\"Index, 2011/12=100\",\"source\":\"ABS / RBA\",\"pub_date\":\"2025-07-31\",\"series_id\":\"GCPIAG\",\"description\":\"Consumer price index; All groups\",\"table_title\":\"G1 Consumer Price Inflation\"},{\"date\":\"1942-03-31\",\"series\":\"Consumer price index\",\"value\":3,\"frequency\":\"Quarterly\",\"series_type\":\"Original\",\"units\":\"Index, 2011/12=100\",\"source\":\"ABS / RBA\",\"pub_date\":\"2025-07-31\",\"series_id\":\"GCPIAG\",\"description\":\"Consumer price index; All groups\",\"table_title\":\"G1 Consumer Price Inflation\"},{\"date\":\"1942-06-30\",\"series\":\"Consumer price index\",\"value\":3.1,\"frequency\":\"Quarterly\",\"series_type\":\"Original\",\"units\":\"Index, 2011/12=100\",\"source\":\"ABS / RBA\",\"pub_date\":\"2025-07-31\",\"series_id\":\"GCPIAG\",\"description\":\"Consumer price index; All groups\",\"table_title\":\"G1 Consumer Price Inflation\"},{\"date\":\"1942-09-30\",\"series\":\"Consumer price index\",\"value\":3.1,\"frequency\":\"Quarterly\",\"series_type\":\"Original\",\"units\":\"Index, 2011/12=100\",\"source\":\"ABS / RBA\",\"pub_date\":\"2025-07-31\",\"series_id\":\"GCPIAG\",\"description\":\"Consumer price index; All groups\",\"table_title\":\"G1 Consumer Price Inflation\"},{\"date\":\"1942-12-31\",\"series\":\"Consumer price index\",\"value\":3.2,\"frequency\":\"Quarterly\",\"series_type\":\"Original\",\"units\":\"Index, 2011/12=100\",\"source\":\"ABS / RBA\",\"pub_date\":\"2025-07-31\",\"series_id\":\"GCPIAG\",\"description\":\"Consumer price index; All groups\",\"table_title\":\"G1 Consumer Price Inflation\"},{\"date\":\"1943-03-31\",\"series\":\"Consumer price index\",\"value\":3.2,\"frequency\":\"Quarterly\",\"series_type\":\"Original\",\"units\":\"Index, 2011/12=100\",\"source\":\"ABS / RBA\",\"pub_date\":\"2025-07-31\",\"series_id\":\"GCPIAG\",\"description\":\"Consumer price index; All groups\",\"table_title\":\"G1 Consumer Price Inflation\"},{\"date\":\"1943-06-30\",\"series\":\"Consumer price index\",\"value\":3.2,\"frequency\":\"Quarterly\",\"series_type\":\"Original\",\"units\":\"Index, 2011/12=100\",\"source\":\"ABS / RBA\",\"pub_date\":\"2025-07-31\",\"series_id\":\"GCPIAG\",\"description\":\"Consumer price index; All groups\",\"table_title\":\"G1 Consumer Price Inflation\"},{\"date\":\"1943-09-30\",\"series\":\"Consumer price index\",\"value\":3.2,\"frequency\":\"Quarterly\",\"series_type\":\"Original\",\"units\":\"Index, 2011/12=100\",\"source\":\"ABS / RBA\",\"pub_date\":\"2025-07-31\",\"series_id\":\"GCPIAG\",\"description\":\"Consumer price index; All groups\",\"table_title\":\"G1 Consumer Price Inflation\"},{\"date\":\"1943-12-31\",\"series\":\"Consumer price index\",\"value\":3.2,\"frequency\":\"Quarterly\",\"series_type\":\"Original\",\"units\":\"Index, 2011/12=100\",\"source\":\"ABS / RBA\",\"pub_date\":\"2025-07-31\",\"series_id\":\"GCPIAG\",\"description\":\"Consumer price index; All groups\",\"table_title\":\"G1 Consumer Price Inflation\"},{\"date\":\"1944-03-31\",\"series\":\"Consumer price index\",\"value\":3.2,\"frequency\":\"Quarterly\",\"series_type\":\"Original\",\"units\":\"Index, 2011/12=100\",\"source\":\"ABS / RBA\",\"pub_date\":\"2025-07-31\",\"series_id\":\"GCPIAG\",\"description\":\"Consumer price index; All groups\",\"table_title\":\"G1 Consumer Price Inflation\"},{\"date\":\"1944-06-30\",\"series\":\"Consumer price index\",\"value\":3.2,\"frequency\":\"Quarterly\",\"series_type\":\"Original\",\"units\":\"Index, 2011/12=100\",\"source\":\"ABS / RBA\",\"pub_date\":\"2025-07-31\",\"series_id\":\"GCPIAG\",\"description\":\"Consumer price index; All groups\",\"table_title\":\"G1 Consumer Price Inflation\"},{\"date\":\"1944-09-30\",\"series\":\"Consumer price index\",\"value\":3.2,\"frequency\":\"Quarterly\",\"series_type\":\"Original\",\"units\":\"Index, 2011/12=100\",\"source\":\"ABS / RBA\",\"pub_date\":\"2025-07-31\",\"series_id\":\"GCPIAG\",\"description\":\"Consumer price index; All groups\",\"table_title\":\"G1 Consumer Price Inflation\"},{\"date\":\"1944-12-31\",\"series\":\"Consumer price index\",\"value\":3.2,\"frequency\":\"Quarterly\",\"series_type\":\"Original\",\"units\":\"Index, 2011/12=100\",\"source\":\"ABS / RBA\",\"pub_date\":\"2025-07-31\",\"series_id\":\"GCPIAG\",\"description\":\"Consumer price index; All groups\",\"table_title\":\"G1 Consumer Price Inflation\"},{\"date\":\"1945-03-31\",\"series\":\"Consumer price index\",\"value\":3.2,\"frequency\":\"Quarterly\",\"series_type\":\"Original\",\"units\":\"Index, 2011/12=100\",\"source\":\"ABS / RBA\",\"pub_date\":\"2025-07-31\",\"series_id\":\"GCPIAG\",\"description\":\"Consumer price index; All groups\",\"table_title\":\"G1 Consumer Price Inflation\"},{\"date\":\"1945-06-30\",\"series\":\"Consumer price index\",\"value\":3.2,\"frequency\":\"Quarterly\",\"series_type\":\"Original\",\"units\":\"Index, 2011/12=100\",\"source\":\"ABS / RBA\",\"pub_date\":\"2025-07-31\",\"series_id\":\"GCPIAG\",\"description\":\"Consumer price index; All groups\",\"table_title\":\"G1 Consumer Price Inflation\"},{\"date\":\"1945-09-30\",\"series\":\"Consumer price index\",\"value\":3.2,\"frequency\":\"Quarterly\",\"series_type\":\"Original\",\"units\":\"Index, 2011/12=100\",\"source\":\"ABS / RBA\",\"pub_date\":\"2025-07-31\",\"series_id\":\"GCPIAG\",\"description\":\"Consumer price index; All groups\",\"table_title\":\"G1 Consumer Price Inflation\"},{\"date\":\"1945-12-31\",\"series\":\"Consumer price index\",\"value\":3.2,\"frequency\":\"Quarterly\",\"series_type\":\"Original\",\"units\":\"Index, 2011/12=100\",\"source\":\"ABS / RBA\",\"pub_date\":\"2025-07-31\",\"series_id\":\"GCPIAG\",\"description\":\"Consumer price index; All groups\",\"table_title\":\"G1 Consumer Price Inflation\"},{\"date\":\"1946-03-31\",\"series\":\"Consumer price index\",\"value\":3.2,\"frequency\":\"Quarterly\",\"series_type\":\"Original\",\"units\":\"Index, 2011/12=100\",\"source\":\"ABS / RBA\",\"pub_date\":\"2025-07-31\",\"series_id\":\"GCPIAG\",\"description\":\"Consumer price index; All groups\",\"table_title\":\"G1 Consumer Price Inflation\"},{\"date\":\"1946-06-30\",\"series\":\"Consumer price index\",\"value\":3.2,\"frequency\":\"Quarterly\",\"series_type\":\"Original\",\"units\":\"Index, 2011/12=100\",\"source\":\"ABS / RBA\",\"pub_date\":\"2025-07-31\",\"series_id\":\"GCPIAG\",\"description\":\"Consumer price index; All groups\",\"table_title\":\"G1 Consumer Price Inflation\"},{\"date\":\"1946-09-30\",\"series\":\"Consumer price index\",\"value\":3.2,\"frequency\":\"Quarterly\",\"series_type\":\"Original\",\"units\":\"Index, 2011/12=100\",\"source\":\"ABS / RBA\",\"pub_date\":\"2025-07-31\",\"series_id\":\"GCPIAG\",\"description\":\"Consumer price index; All groups\",\"table_title\":\"G1 Consumer Price Inflation\"},{\"date\":\"1946-12-31\",\"series\":\"Consumer price index\",\"value\":3.3,\"frequency\":\"Quarterly\",\"series_type\":\"Original\",\"units\":\"Index, 2011/12=100\",\"source\":\"ABS / RBA\",\"pub_date\":\"2025-07-31\",\"series_id\":\"GCPIAG\",\"description\":\"Consumer price index; All groups\",\"table_title\":\"G1 Consumer Price Inflation\"},{\"date\":\"1947-03-31\",\"series\":\"Consumer price index\",\"value\":3.3,\"frequency\":\"Quarterly\",\"series_type\":\"Original\",\"units\":\"Index, 2011/12=100\",\"source\":\"ABS / RBA\",\"pub_date\":\"2025-07-31\",\"series_id\":\"GCPIAG\",\"description\":\"Consumer price index; All groups\",\"table_title\":\"G1 Consumer Price Inflation\"},{\"date\":\"1947-06-30\",\"series\":\"Consumer price index\",\"value\":3.3,\"frequency\":\"Quarterly\",\"series_type\":\"Original\",\"units\":\"Index, 2011/12=100\",\"source\":\"ABS / RBA\",\"pub_date\":\"2025-07-31\",\"series_id\":\"GCPIAG\",\"description\":\"Consumer price index; All groups\",\"table_title\":\"G1 Consumer Price Inflation\"},{\"date\":\"1947-09-30\",\"series\":\"Consumer price index\",\"value\":3.4,\"frequency\":\"Quarterly\",\"series_type\":\"Original\",\"units\":\"Index, 2011/12=100\",\"source\":\"ABS / RBA\",\"pub_date\":\"2025-07-31\",\"series_id\":\"GCPIAG\",\"description\":\"Consumer price index; All groups\",\"table_title\":\"G1 Consumer Price Inflation\"},{\"date\":\"1947-12-31\",\"series\":\"Consumer price index\",\"value\":3.4,\"frequency\":\"Quarterly\",\"series_type\":\"Original\",\"units\":\"Index, 2011/12=100\",\"source\":\"ABS / RBA\",\"pub_date\":\"2025-07-31\",\"series_id\":\"GCPIAG\",\"description\":\"Consumer price index; All groups\",\"table_title\":\"G1 Consumer Price Inflation\"},{\"date\":\"1948-03-31\",\"series\":\"Consumer price index\",\"value\":3.5,\"frequency\":\"Quarterly\",\"series_type\":\"Original\",\"units\":\"Index, 2011/12=100\",\"source\":\"ABS / RBA\",\"pub_date\":\"2025-07-31\",\"series_id\":\"GCPIAG\",\"description\":\"Consumer price index; All groups\",\"table_title\":\"G1 Consumer Price Inflation\"},{\"date\":\"1948-06-30\",\"series\":\"Consumer price index\",\"value\":3.6,\"frequency\":\"Quarterly\",\"series_type\":\"Original\",\"units\":\"Index, 2011/12=100\",\"source\":\"ABS / RBA\",\"pub_date\":\"2025-07-31\",\"series_id\":\"GCPIAG\",\"description\":\"Consumer price index; All groups\",\"table_title\":\"G1 Consumer Price Inflation\"},{\"date\":\"1948-09-30\",\"series\":\"Consumer price index\",\"value\":3.7,\"frequency\":\"Quarterly\",\"series_type\":\"Original\",\"units\":\"Index, 2011/12=100\",\"source\":\"ABS / RBA\",\"pub_date\":\"2025-07-31\",\"series_id\":\"GCPIAG\",\"description\":\"Consumer price index; All groups\",\"table_title\":\"G1 Consumer Price Inflation\"},{\"date\":\"1948-12-31\",\"series\":\"Consumer price index\",\"value\":3.8,\"frequency\":\"Quarterly\",\"series_type\":\"Original\",\"units\":\"Index, 2011/12=100\",\"source\":\"ABS / RBA\",\"pub_date\":\"2025-07-31\",\"series_id\":\"GCPIAG\",\"description\":\"Consumer price index; All groups\",\"table_title\":\"G1 Consumer Price Inflation\"},{\"date\":\"1949-03-31\",\"series\":\"Consumer price index\",\"value\":3.9,\"frequency\":\"Quarterly\",\"series_type\":\"Original\",\"units\":\"Index, 2011/12=100\",\"source\":\"ABS / RBA\",\"pub_date\":\"2025-07-31\",\"series_id\":\"GCPIAG\",\"description\":\"Consumer price index; All groups\",\"table_title\":\"G1 Consumer Price Inflation\"},{\"date\":\"1949-06-30\",\"series\":\"Consumer price index\",\"value\":4,\"frequency\":\"Quarterly\",\"series_type\":\"Original\",\"units\":\"Index, 2011/12=100\",\"source\":\"ABS / RBA\",\"pub_date\":\"2025-07-31\",\"series_id\":\"GCPIAG\",\"description\":\"Consumer price index; All groups\",\"table_title\":\"G1 Consumer Price Inflation\"},{\"date\":\"1949-09-30\",\"series\":\"Consumer price index\",\"value\":4.1,\"frequency\":\"Quarterly\",\"series_type\":\"Original\",\"units\":\"Index, 2011/12=100\",\"source\":\"ABS / RBA\",\"pub_date\":\"2025-07-31\",\"series_id\":\"GCPIAG\",\"description\":\"Consumer price index; All groups\",\"table_title\":\"G1 Consumer Price Inflation\"},{\"date\":\"1949-12-31\",\"series\":\"Consumer price index\",\"value\":4.1,\"frequency\":\"Quarterly\",\"series_type\":\"Original\",\"units\":\"Index, 2011/12=100\",\"source\":\"ABS / RBA\",\"pub_date\":\"2025-07-31\",\"series_id\":\"GCPIAG\",\"description\":\"Consumer price index; All groups\",\"table_title\":\"G1 Consumer Price Inflation\"},{\"date\":\"1950-03-31\",\"series\":\"Consumer price index\",\"value\":4.2,\"frequency\":\"Quarterly\",\"series_type\":\"Original\",\"units\":\"Index, 2011/12=100\",\"source\":\"ABS / RBA\",\"pub_date\":\"2025-07-31\",\"series_id\":\"GCPIAG\",\"description\":\"Consumer price index; All groups\",\"table_title\":\"G1 Consumer Price Inflation\"},{\"date\":\"1950-06-30\",\"series\":\"Consumer price index\",\"value\":4.3,\"frequency\":\"Quarterly\",\"series_type\":\"Original\",\"units\":\"Index, 2011/12=100\",\"source\":\"ABS / RBA\",\"pub_date\":\"2025-07-31\",\"series_id\":\"GCPIAG\",\"description\":\"Consumer price index; All groups\",\"table_title\":\"G1 Consumer Price Inflation\"},{\"date\":\"1950-09-30\",\"series\":\"Consumer price index\",\"value\":4.4,\"frequency\":\"Quarterly\",\"series_type\":\"Original\",\"units\":\"Index, 2011/12=100\",\"source\":\"ABS / RBA\",\"pub_date\":\"2025-07-31\",\"series_id\":\"GCPIAG\",\"description\":\"Consumer price index; All groups\",\"table_title\":\"G1 Consumer Price Inflation\"},{\"date\":\"1950-12-31\",\"series\":\"Consumer price index\",\"value\":4.6,\"frequency\":\"Quarterly\",\"series_type\":\"Original\",\"units\":\"Index, 2011/12=100\",\"source\":\"ABS / RBA\",\"pub_date\":\"2025-07-31\",\"series_id\":\"GCPIAG\",\"description\":\"Consumer price index; All groups\",\"table_title\":\"G1 Consumer Price Inflation\"},{\"date\":\"1951-03-31\",\"series\":\"Consumer price index\",\"value\":4.8,\"frequency\":\"Quarterly\",\"series_type\":\"Original\",\"units\":\"Index, 2011/12=100\",\"source\":\"ABS / RBA\",\"pub_date\":\"2025-07-31\",\"series_id\":\"GCPIAG\",\"description\":\"Consumer price index; All groups\",\"table_title\":\"G1 Consumer Price Inflation\"},{\"date\":\"1951-06-30\",\"series\":\"Consumer price index\",\"value\":5.1,\"frequency\":\"Quarterly\",\"series_type\":\"Original\",\"units\":\"Index, 2011/12=100\",\"source\":\"ABS / RBA\",\"pub_date\":\"2025-07-31\",\"series_id\":\"GCPIAG\",\"description\":\"Consumer price index; All groups\",\"table_title\":\"G1 Consumer Price Inflation\"},{\"date\":\"1951-09-30\",\"series\":\"Consumer price index\",\"value\":5.3,\"frequency\":\"Quarterly\",\"series_type\":\"Original\",\"units\":\"Index, 2011/12=100\",\"source\":\"ABS / RBA\",\"pub_date\":\"2025-07-31\",\"series_id\":\"GCPIAG\",\"description\":\"Consumer price index; All groups\",\"table_title\":\"G1 Consumer Price Inflation\"},{\"date\":\"1951-12-31\",\"series\":\"Consumer price index\",\"value\":5.7,\"frequency\":\"Quarterly\",\"series_type\":\"Original\",\"units\":\"Index, 2011/12=100\",\"source\":\"ABS / RBA\",\"pub_date\":\"2025-07-31\",\"series_id\":\"GCPIAG\",\"description\":\"Consumer price index; All groups\",\"table_title\":\"G1 Consumer Price Inflation\"},{\"date\":\"1952-03-31\",\"series\":\"Consumer price index\",\"value\":5.9,\"frequency\":\"Quarterly\",\"series_type\":\"Original\",\"units\":\"Index, 2011/12=100\",\"source\":\"ABS / RBA\",\"pub_date\":\"2025-07-31\",\"series_id\":\"GCPIAG\",\"description\":\"Consumer price index; All groups\",\"table_title\":\"G1 Consumer Price Inflation\"},{\"date\":\"1952-06-30\",\"series\":\"Consumer price index\",\"value\":6.1,\"frequency\":\"Quarterly\",\"series_type\":\"Original\",\"units\":\"Index, 2011/12=100\",\"source\":\"ABS / RBA\",\"pub_date\":\"2025-07-31\",\"series_id\":\"GCPIAG\",\"description\":\"Consumer price index; All groups\",\"table_title\":\"G1 Consumer Price Inflation\"},{\"date\":\"1952-09-30\",\"series\":\"Consumer price index\",\"value\":6.2,\"frequency\":\"Quarterly\",\"series_type\":\"Original\",\"units\":\"Index, 2011/12=100\",\"source\":\"ABS / RBA\",\"pub_date\":\"2025-07-31\",\"series_id\":\"GCPIAG\",\"description\":\"Consumer price index; All groups\",\"table_title\":\"G1 Consumer Price Inflation\"},{\"date\":\"1952-12-31\",\"series\":\"Consumer price index\",\"value\":6.3,\"frequency\":\"Quarterly\",\"series_type\":\"Original\",\"units\":\"Index, 2011/12=100\",\"source\":\"ABS / RBA\",\"pub_date\":\"2025-07-31\",\"series_id\":\"GCPIAG\",\"description\":\"Consumer price index; All groups\",\"table_title\":\"G1 Consumer Price Inflation\"},{\"date\":\"1953-03-31\",\"series\":\"Consumer price index\",\"value\":6.3,\"frequency\":\"Quarterly\",\"series_type\":\"Original\",\"units\":\"Index, 2011/12=100\",\"source\":\"ABS / RBA\",\"pub_date\":\"2025-07-31\",\"series_id\":\"GCPIAG\",\"description\":\"Consumer price index; All groups\",\"table_title\":\"G1 Consumer Price Inflation\"},{\"date\":\"1953-06-30\",\"series\":\"Consumer price index\",\"value\":6.4,\"frequency\":\"Quarterly\",\"series_type\":\"Original\",\"units\":\"Index, 2011/12=100\",\"source\":\"ABS / RBA\",\"pub_date\":\"2025-07-31\",\"series_id\":\"GCPIAG\",\"description\":\"Consumer price index; All groups\",\"table_title\":\"G1 Consumer Price Inflation\"},{\"date\":\"1953-09-30\",\"series\":\"Consumer price index\",\"value\":6.5,\"frequency\":\"Quarterly\",\"series_type\":\"Original\",\"units\":\"Index, 2011/12=100\",\"source\":\"ABS / RBA\",\"pub_date\":\"2025-07-31\",\"series_id\":\"GCPIAG\",\"description\":\"Consumer price index; All groups\",\"table_title\":\"G1 Consumer Price Inflation\"},{\"date\":\"1953-12-31\",\"series\":\"Consumer price index\",\"value\":6.4,\"frequency\":\"Quarterly\",\"series_type\":\"Original\",\"units\":\"Index, 2011/12=100\",\"source\":\"ABS / RBA\",\"pub_date\":\"2025-07-31\",\"series_id\":\"GCPIAG\",\"description\":\"Consumer price index; All groups\",\"table_title\":\"G1 Consumer Price Inflation\"},{\"date\":\"1954-03-31\",\"series\":\"Consumer price index\",\"value\":6.5,\"frequency\":\"Quarterly\",\"series_type\":\"Original\",\"units\":\"Index, 2011/12=100\",\"source\":\"ABS / RBA\",\"pub_date\":\"2025-07-31\",\"series_id\":\"GCPIAG\",\"description\":\"Consumer price index; All groups\",\"table_title\":\"G1 Consumer Price Inflation\"},{\"date\":\"1954-06-30\",\"series\":\"Consumer price index\",\"value\":6.5,\"frequency\":\"Quarterly\",\"series_type\":\"Original\",\"units\":\"Index, 2011/12=100\",\"source\":\"ABS / RBA\",\"pub_date\":\"2025-07-31\",\"series_id\":\"GCPIAG\",\"description\":\"Consumer price index; All groups\",\"table_title\":\"G1 Consumer Price Inflation\"},{\"date\":\"1954-09-30\",\"series\":\"Consumer price index\",\"value\":6.5,\"frequency\":\"Quarterly\",\"series_type\":\"Original\",\"units\":\"Index, 2011/12=100\",\"source\":\"ABS / RBA\",\"pub_date\":\"2025-07-31\",\"series_id\":\"GCPIAG\",\"description\":\"Consumer price index; All groups\",\"table_title\":\"G1 Consumer Price Inflation\"},{\"date\":\"1954-12-31\",\"series\":\"Consumer price index\",\"value\":6.5,\"frequency\":\"Quarterly\",\"series_type\":\"Original\",\"units\":\"Index, 2011/12=100\",\"source\":\"ABS / RBA\",\"pub_date\":\"2025-07-31\",\"series_id\":\"GCPIAG\",\"description\":\"Consumer price index; All groups\",\"table_title\":\"G1 Consumer Price Inflation\"},{\"date\":\"1955-03-31\",\"series\":\"Consumer price index\",\"value\":6.5,\"frequency\":\"Quarterly\",\"series_type\":\"Original\",\"units\":\"Index, 2011/12=100\",\"source\":\"ABS / RBA\",\"pub_date\":\"2025-07-31\",\"series_id\":\"GCPIAG\",\"description\":\"Consumer price index; All groups\",\"table_title\":\"G1 Consumer Price Inflation\"},{\"date\":\"1955-06-30\",\"series\":\"Consumer price index\",\"value\":6.6,\"frequency\":\"Quarterly\",\"series_type\":\"Original\",\"units\":\"Index, 2011/12=100\",\"source\":\"ABS / RBA\",\"pub_date\":\"2025-07-31\",\"series_id\":\"GCPIAG\",\"description\":\"Consumer price index; All groups\",\"table_title\":\"G1 Consumer Price Inflation\"},{\"date\":\"1955-09-30\",\"series\":\"Consumer price index\",\"value\":6.6,\"frequency\":\"Quarterly\",\"series_type\":\"Original\",\"units\":\"Index, 2011/12=100\",\"source\":\"ABS / RBA\",\"pub_date\":\"2025-07-31\",\"series_id\":\"GCPIAG\",\"description\":\"Consumer price index; All groups\",\"table_title\":\"G1 Consumer Price Inflation\"},{\"date\":\"1955-12-31\",\"series\":\"Consumer price index\",\"value\":6.7,\"frequency\":\"Quarterly\",\"series_type\":\"Original\",\"units\":\"Index, 2011/12=100\",\"source\":\"ABS / RBA\",\"pub_date\":\"2025-07-31\",\"series_id\":\"GCPIAG\",\"description\":\"Consumer price index; All groups\",\"table_title\":\"G1 Consumer Price Inflation\"},{\"date\":\"1956-03-31\",\"series\":\"Consumer price index\",\"value\":6.7,\"frequency\":\"Quarterly\",\"series_type\":\"Original\",\"units\":\"Index, 2011/12=100\",\"source\":\"ABS / RBA\",\"pub_date\":\"2025-07-31\",\"series_id\":\"GCPIAG\",\"description\":\"Consumer price index; All groups\",\"table_title\":\"G1 Consumer Price Inflation\"},{\"date\":\"1956-06-30\",\"series\":\"Consumer price index\",\"value\":7,\"frequency\":\"Quarterly\",\"series_type\":\"Original\",\"units\":\"Index, 2011/12=100\",\"source\":\"ABS / RBA\",\"pub_date\":\"2025-07-31\",\"series_id\":\"GCPIAG\",\"description\":\"Consumer price index; All groups\",\"table_title\":\"G1 Consumer Price Inflation\"},{\"date\":\"1956-09-30\",\"series\":\"Consumer price index\",\"value\":7.1,\"frequency\":\"Quarterly\",\"series_type\":\"Original\",\"units\":\"Index, 2011/12=100\",\"source\":\"ABS / RBA\",\"pub_date\":\"2025-07-31\",\"series_id\":\"GCPIAG\",\"description\":\"Consumer price index; All groups\",\"table_title\":\"G1 Consumer Price Inflation\"},{\"date\":\"1956-12-31\",\"series\":\"Consumer price index\",\"value\":7.1,\"frequency\":\"Quarterly\",\"series_type\":\"Original\",\"units\":\"Index, 2011/12=100\",\"source\":\"ABS / RBA\",\"pub_date\":\"2025-07-31\",\"series_id\":\"GCPIAG\",\"description\":\"Consumer price index; All groups\",\"table_title\":\"G1 Consumer Price Inflation\"},{\"date\":\"1957-03-31\",\"series\":\"Consumer price index\",\"value\":7.1,\"frequency\":\"Quarterly\",\"series_type\":\"Original\",\"units\":\"Index, 2011/12=100\",\"source\":\"ABS / RBA\",\"pub_date\":\"2025-07-31\",\"series_id\":\"GCPIAG\",\"description\":\"Consumer price index; All groups\",\"table_title\":\"G1 Consumer Price Inflation\"},{\"date\":\"1957-06-30\",\"series\":\"Consumer price index\",\"value\":7.2,\"frequency\":\"Quarterly\",\"series_type\":\"Original\",\"units\":\"Index, 2011/12=100\",\"source\":\"ABS / RBA\",\"pub_date\":\"2025-07-31\",\"series_id\":\"GCPIAG\",\"description\":\"Consumer price index; All groups\",\"table_title\":\"G1 Consumer Price Inflation\"},{\"date\":\"1957-09-30\",\"series\":\"Consumer price index\",\"value\":7.2,\"frequency\":\"Quarterly\",\"series_type\":\"Original\",\"units\":\"Index, 2011/12=100\",\"source\":\"ABS / RBA\",\"pub_date\":\"2025-07-31\",\"series_id\":\"GCPIAG\",\"description\":\"Consumer price index; All groups\",\"table_title\":\"G1 Consumer Price Inflation\"},{\"date\":\"1957-12-31\",\"series\":\"Consumer price index\",\"value\":7.2,\"frequency\":\"Quarterly\",\"series_type\":\"Original\",\"units\":\"Index, 2011/12=100\",\"source\":\"ABS / RBA\",\"pub_date\":\"2025-07-31\",\"series_id\":\"GCPIAG\",\"description\":\"Consumer price index; All groups\",\"table_title\":\"G1 Consumer Price Inflation\"},{\"date\":\"1958-03-31\",\"series\":\"Consumer price index\",\"value\":7.2,\"frequency\":\"Quarterly\",\"series_type\":\"Original\",\"units\":\"Index, 2011/12=100\",\"source\":\"ABS / RBA\",\"pub_date\":\"2025-07-31\",\"series_id\":\"GCPIAG\",\"description\":\"Consumer price index; All groups\",\"table_title\":\"G1 Consumer Price Inflation\"},{\"date\":\"1958-06-30\",\"series\":\"Consumer price index\",\"value\":7.2,\"frequency\":\"Quarterly\",\"series_type\":\"Original\",\"units\":\"Index, 2011/12=100\",\"source\":\"ABS / RBA\",\"pub_date\":\"2025-07-31\",\"series_id\":\"GCPIAG\",\"description\":\"Consumer price index; All groups\",\"table_title\":\"G1 Consumer Price Inflation\"},{\"date\":\"1958-09-30\",\"series\":\"Consumer price index\",\"value\":7.2,\"frequency\":\"Quarterly\",\"series_type\":\"Original\",\"units\":\"Index, 2011/12=100\",\"source\":\"ABS / RBA\",\"pub_date\":\"2025-07-31\",\"series_id\":\"GCPIAG\",\"description\":\"Consumer price index; All groups\",\"table_title\":\"G1 Consumer Price Inflation\"},{\"date\":\"1958-12-31\",\"series\":\"Consumer price index\",\"value\":7.3,\"frequency\":\"Quarterly\",\"series_type\":\"Original\",\"units\":\"Index, 2011/12=100\",\"source\":\"ABS / RBA\",\"pub_date\":\"2025-07-31\",\"series_id\":\"GCPIAG\",\"description\":\"Consumer price index; All groups\",\"table_title\":\"G1 Consumer Price Inflation\"},{\"date\":\"1959-03-31\",\"series\":\"Consumer price index\",\"value\":7.3,\"frequency\":\"Quarterly\",\"series_type\":\"Original\",\"units\":\"Index, 2011/12=100\",\"source\":\"ABS / RBA\",\"pub_date\":\"2025-07-31\",\"series_id\":\"GCPIAG\",\"description\":\"Consumer price index; All groups\",\"table_title\":\"G1 Consumer Price Inflation\"},{\"date\":\"1959-06-30\",\"series\":\"Consumer price index\",\"value\":7.3,\"frequency\":\"Quarterly\",\"series_type\":\"Original\",\"units\":\"Index, 2011/12=100\",\"source\":\"ABS / RBA\",\"pub_date\":\"2025-07-31\",\"series_id\":\"GCPIAG\",\"description\":\"Consumer price index; All groups\",\"table_title\":\"G1 Consumer Price Inflation\"},{\"date\":\"1959-09-30\",\"series\":\"Consumer price index\",\"value\":7.4,\"frequency\":\"Quarterly\",\"series_type\":\"Original\",\"units\":\"Index, 2011/12=100\",\"source\":\"ABS / RBA\",\"pub_date\":\"2025-07-31\",\"series_id\":\"GCPIAG\",\"description\":\"Consumer price index; All groups\",\"table_title\":\"G1 Consumer Price Inflation\"},{\"date\":\"1959-12-31\",\"series\":\"Consumer price index\",\"value\":7.5,\"frequency\":\"Quarterly\",\"series_type\":\"Original\",\"units\":\"Index, 2011/12=100\",\"source\":\"ABS / RBA\",\"pub_date\":\"2025-07-31\",\"series_id\":\"GCPIAG\",\"description\":\"Consumer price index; All groups\",\"table_title\":\"G1 Consumer Price Inflation\"},{\"date\":\"1960-03-31\",\"series\":\"Consumer price index\",\"value\":7.5,\"frequency\":\"Quarterly\",\"series_type\":\"Original\",\"units\":\"Index, 2011/12=100\",\"source\":\"ABS / RBA\",\"pub_date\":\"2025-07-31\",\"series_id\":\"GCPIAG\",\"description\":\"Consumer price index; All groups\",\"table_title\":\"G1 Consumer Price Inflation\"},{\"date\":\"1960-06-30\",\"series\":\"Consumer price index\",\"value\":7.6,\"frequency\":\"Quarterly\",\"series_type\":\"Original\",\"units\":\"Index, 2011/12=100\",\"source\":\"ABS / RBA\",\"pub_date\":\"2025-07-31\",\"series_id\":\"GCPIAG\",\"description\":\"Consumer price index; All groups\",\"table_title\":\"G1 Consumer Price Inflation\"},{\"date\":\"1960-09-30\",\"series\":\"Consumer price index\",\"value\":7.7,\"frequency\":\"Quarterly\",\"series_type\":\"Original\",\"units\":\"Index, 2011/12=100\",\"source\":\"ABS / RBA\",\"pub_date\":\"2025-07-31\",\"series_id\":\"GCPIAG\",\"description\":\"Consumer price index; All groups\",\"table_title\":\"G1 Consumer Price Inflation\"},{\"date\":\"1960-12-31\",\"series\":\"Consumer price index\",\"value\":7.8,\"frequency\":\"Quarterly\",\"series_type\":\"Original\",\"units\":\"Index, 2011/12=100\",\"source\":\"ABS / RBA\",\"pub_date\":\"2025-07-31\",\"series_id\":\"GCPIAG\",\"description\":\"Consumer price index; All groups\",\"table_title\":\"G1 Consumer Price Inflation\"},{\"date\":\"1961-03-31\",\"series\":\"Consumer price index\",\"value\":7.8,\"frequency\":\"Quarterly\",\"series_type\":\"Original\",\"units\":\"Index, 2011/12=100\",\"source\":\"ABS / RBA\",\"pub_date\":\"2025-07-31\",\"series_id\":\"GCPIAG\",\"description\":\"Consumer price index; All groups\",\"table_title\":\"G1 Consumer Price Inflation\"},{\"date\":\"1961-06-30\",\"series\":\"Consumer price index\",\"value\":7.9,\"frequency\":\"Quarterly\",\"series_type\":\"Original\",\"units\":\"Index, 2011/12=100\",\"source\":\"ABS / RBA\",\"pub_date\":\"2025-07-31\",\"series_id\":\"GCPIAG\",\"description\":\"Consumer price index; All groups\",\"table_title\":\"G1 Consumer Price Inflation\"},{\"date\":\"1961-09-30\",\"series\":\"Consumer price index\",\"value\":7.8,\"frequency\":\"Quarterly\",\"series_type\":\"Original\",\"units\":\"Index, 2011/12=100\",\"source\":\"ABS / RBA\",\"pub_date\":\"2025-07-31\",\"series_id\":\"GCPIAG\",\"description\":\"Consumer price index; All groups\",\"table_title\":\"G1 Consumer Price Inflation\"},{\"date\":\"1961-12-31\",\"series\":\"Consumer price index\",\"value\":7.8,\"frequency\":\"Quarterly\",\"series_type\":\"Original\",\"units\":\"Index, 2011/12=100\",\"source\":\"ABS / RBA\",\"pub_date\":\"2025-07-31\",\"series_id\":\"GCPIAG\",\"description\":\"Consumer price index; All groups\",\"table_title\":\"G1 Consumer Price Inflation\"},{\"date\":\"1962-03-31\",\"series\":\"Consumer price index\",\"value\":7.8,\"frequency\":\"Quarterly\",\"series_type\":\"Original\",\"units\":\"Index, 2011/12=100\",\"source\":\"ABS / RBA\",\"pub_date\":\"2025-07-31\",\"series_id\":\"GCPIAG\",\"description\":\"Consumer price index; All groups\",\"table_title\":\"G1 Consumer Price Inflation\"},{\"date\":\"1962-06-30\",\"series\":\"Consumer price index\",\"value\":7.8,\"frequency\":\"Quarterly\",\"series_type\":\"Original\",\"units\":\"Index, 2011/12=100\",\"source\":\"ABS / RBA\",\"pub_date\":\"2025-07-31\",\"series_id\":\"GCPIAG\",\"description\":\"Consumer price index; All groups\",\"table_title\":\"G1 Consumer Price Inflation\"},{\"date\":\"1962-09-30\",\"series\":\"Consumer price index\",\"value\":7.8,\"frequency\":\"Quarterly\",\"series_type\":\"Original\",\"units\":\"Index, 2011/12=100\",\"source\":\"ABS / RBA\",\"pub_date\":\"2025-07-31\",\"series_id\":\"GCPIAG\",\"description\":\"Consumer price index; All groups\",\"table_title\":\"G1 Consumer Price Inflation\"},{\"date\":\"1962-12-31\",\"series\":\"Consumer price index\",\"value\":7.8,\"frequency\":\"Quarterly\",\"series_type\":\"Original\",\"units\":\"Index, 2011/12=100\",\"source\":\"ABS / RBA\",\"pub_date\":\"2025-07-31\",\"series_id\":\"GCPIAG\",\"description\":\"Consumer price index; All groups\",\"table_title\":\"G1 Consumer Price Inflation\"},{\"date\":\"1963-03-31\",\"series\":\"Consumer price index\",\"value\":7.8,\"frequency\":\"Quarterly\",\"series_type\":\"Original\",\"units\":\"Index, 2011/12=100\",\"source\":\"ABS / RBA\",\"pub_date\":\"2025-07-31\",\"series_id\":\"GCPIAG\",\"description\":\"Consumer price index; All groups\",\"table_title\":\"G1 Consumer Price Inflation\"},{\"date\":\"1963-06-30\",\"series\":\"Consumer price index\",\"value\":7.8,\"frequency\":\"Quarterly\",\"series_type\":\"Original\",\"units\":\"Index, 2011/12=100\",\"source\":\"ABS / RBA\",\"pub_date\":\"2025-07-31\",\"series_id\":\"GCPIAG\",\"description\":\"Consumer price index; All groups\",\"table_title\":\"G1 Consumer Price Inflation\"},{\"date\":\"1963-09-30\",\"series\":\"Consumer price index\",\"value\":7.9,\"frequency\":\"Quarterly\",\"series_type\":\"Original\",\"units\":\"Index, 2011/12=100\",\"source\":\"ABS / RBA\",\"pub_date\":\"2025-07-31\",\"series_id\":\"GCPIAG\",\"description\":\"Consumer price index; All groups\",\"table_title\":\"G1 Consumer Price Inflation\"},{\"date\":\"1963-12-31\",\"series\":\"Consumer price index\",\"value\":7.9,\"frequency\":\"Quarterly\",\"series_type\":\"Original\",\"units\":\"Index, 2011/12=100\",\"source\":\"ABS / RBA\",\"pub_date\":\"2025-07-31\",\"series_id\":\"GCPIAG\",\"description\":\"Consumer price index; All groups\",\"table_title\":\"G1 Consumer Price Inflation\"},{\"date\":\"1964-03-31\",\"series\":\"Consumer price index\",\"value\":8,\"frequency\":\"Quarterly\",\"series_type\":\"Original\",\"units\":\"Index, 2011/12=100\",\"source\":\"ABS / RBA\",\"pub_date\":\"2025-07-31\",\"series_id\":\"GCPIAG\",\"description\":\"Consumer price index; All groups\",\"table_title\":\"G1 Consumer Price Inflation\"},{\"date\":\"1964-06-30\",\"series\":\"Consumer price index\",\"value\":8,\"frequency\":\"Quarterly\",\"series_type\":\"Original\",\"units\":\"Index, 2011/12=100\",\"source\":\"ABS / RBA\",\"pub_date\":\"2025-07-31\",\"series_id\":\"GCPIAG\",\"description\":\"Consumer price index; All groups\",\"table_title\":\"G1 Consumer Price Inflation\"},{\"date\":\"1964-09-30\",\"series\":\"Consumer price index\",\"value\":8.1,\"frequency\":\"Quarterly\",\"series_type\":\"Original\",\"units\":\"Index, 2011/12=100\",\"source\":\"ABS / RBA\",\"pub_date\":\"2025-07-31\",\"series_id\":\"GCPIAG\",\"description\":\"Consumer price index; All groups\",\"table_title\":\"G1 Consumer Price Inflation\"},{\"date\":\"1964-12-31\",\"series\":\"Consumer price index\",\"value\":8.2,\"frequency\":\"Quarterly\",\"series_type\":\"Original\",\"units\":\"Index, 2011/12=100\",\"source\":\"ABS / RBA\",\"pub_date\":\"2025-07-31\",\"series_id\":\"GCPIAG\",\"description\":\"Consumer price index; All groups\",\"table_title\":\"G1 Consumer Price Inflation\"},{\"date\":\"1965-03-31\",\"series\":\"Consumer price index\",\"value\":8.2,\"frequency\":\"Quarterly\",\"series_type\":\"Original\",\"units\":\"Index, 2011/12=100\",\"source\":\"ABS / RBA\",\"pub_date\":\"2025-07-31\",\"series_id\":\"GCPIAG\",\"description\":\"Consumer price index; All groups\",\"table_title\":\"G1 Consumer Price Inflation\"},{\"date\":\"1965-06-30\",\"series\":\"Consumer price index\",\"value\":8.3,\"frequency\":\"Quarterly\",\"series_type\":\"Original\",\"units\":\"Index, 2011/12=100\",\"source\":\"ABS / RBA\",\"pub_date\":\"2025-07-31\",\"series_id\":\"GCPIAG\",\"description\":\"Consumer price index; All groups\",\"table_title\":\"G1 Consumer Price Inflation\"},{\"date\":\"1965-09-30\",\"series\":\"Consumer price index\",\"value\":8.4,\"frequency\":\"Quarterly\",\"series_type\":\"Original\",\"units\":\"Index, 2011/12=100\",\"source\":\"ABS / RBA\",\"pub_date\":\"2025-07-31\",\"series_id\":\"GCPIAG\",\"description\":\"Consumer price index; All groups\",\"table_title\":\"G1 Consumer Price Inflation\"},{\"date\":\"1965-12-31\",\"series\":\"Consumer price index\",\"value\":8.5,\"frequency\":\"Quarterly\",\"series_type\":\"Original\",\"units\":\"Index, 2011/12=100\",\"source\":\"ABS / RBA\",\"pub_date\":\"2025-07-31\",\"series_id\":\"GCPIAG\",\"description\":\"Consumer price index; All groups\",\"table_title\":\"G1 Consumer Price Inflation\"},{\"date\":\"1966-03-31\",\"series\":\"Consumer price index\",\"value\":8.6,\"frequency\":\"Quarterly\",\"series_type\":\"Original\",\"units\":\"Index, 2011/12=100\",\"source\":\"ABS / RBA\",\"pub_date\":\"2025-07-31\",\"series_id\":\"GCPIAG\",\"description\":\"Consumer price index; All groups\",\"table_title\":\"G1 Consumer Price Inflation\"},{\"date\":\"1966-06-30\",\"series\":\"Consumer price index\",\"value\":8.6,\"frequency\":\"Quarterly\",\"series_type\":\"Original\",\"units\":\"Index, 2011/12=100\",\"source\":\"ABS / RBA\",\"pub_date\":\"2025-07-31\",\"series_id\":\"GCPIAG\",\"description\":\"Consumer price index; All groups\",\"table_title\":\"G1 Consumer Price Inflation\"},{\"date\":\"1966-09-30\",\"series\":\"Consumer price index\",\"value\":8.6,\"frequency\":\"Quarterly\",\"series_type\":\"Original\",\"units\":\"Index, 2011/12=100\",\"source\":\"ABS / RBA\",\"pub_date\":\"2025-07-31\",\"series_id\":\"GCPIAG\",\"description\":\"Consumer price index; All groups\",\"table_title\":\"G1 Consumer Price Inflation\"},{\"date\":\"1966-12-31\",\"series\":\"Consumer price index\",\"value\":8.7,\"frequency\":\"Quarterly\",\"series_type\":\"Original\",\"units\":\"Index, 2011/12=100\",\"source\":\"ABS / RBA\",\"pub_date\":\"2025-07-31\",\"series_id\":\"GCPIAG\",\"description\":\"Consumer price index; All groups\",\"table_title\":\"G1 Consumer Price Inflation\"},{\"date\":\"1967-03-31\",\"series\":\"Consumer price index\",\"value\":8.8,\"frequency\":\"Quarterly\",\"series_type\":\"Original\",\"units\":\"Index, 2011/12=100\",\"source\":\"ABS / RBA\",\"pub_date\":\"2025-07-31\",\"series_id\":\"GCPIAG\",\"description\":\"Consumer price index; All groups\",\"table_title\":\"G1 Consumer Price Inflation\"},{\"date\":\"1967-06-30\",\"series\":\"Consumer price index\",\"value\":8.9,\"frequency\":\"Quarterly\",\"series_type\":\"Original\",\"units\":\"Index, 2011/12=100\",\"source\":\"ABS / RBA\",\"pub_date\":\"2025-07-31\",\"series_id\":\"GCPIAG\",\"description\":\"Consumer price index; All groups\",\"table_title\":\"G1 Consumer Price Inflation\"},{\"date\":\"1967-09-30\",\"series\":\"Consumer price index\",\"value\":9,\"frequency\":\"Quarterly\",\"series_type\":\"Original\",\"units\":\"Index, 2011/12=100\",\"source\":\"ABS / RBA\",\"pub_date\":\"2025-07-31\",\"series_id\":\"GCPIAG\",\"description\":\"Consumer price index; All groups\",\"table_title\":\"G1 Consumer Price Inflation\"},{\"date\":\"1967-12-31\",\"series\":\"Consumer price index\",\"value\":9,\"frequency\":\"Quarterly\",\"series_type\":\"Original\",\"units\":\"Index, 2011/12=100\",\"source\":\"ABS / RBA\",\"pub_date\":\"2025-07-31\",\"series_id\":\"GCPIAG\",\"description\":\"Consumer price index; All groups\",\"table_title\":\"G1 Consumer Price Inflation\"},{\"date\":\"1968-03-31\",\"series\":\"Consumer price index\",\"value\":9.1,\"frequency\":\"Quarterly\",\"series_type\":\"Original\",\"units\":\"Index, 2011/12=100\",\"source\":\"ABS / RBA\",\"pub_date\":\"2025-07-31\",\"series_id\":\"GCPIAG\",\"description\":\"Consumer price index; All groups\",\"table_title\":\"G1 Consumer Price Inflation\"},{\"date\":\"1968-06-30\",\"series\":\"Consumer price index\",\"value\":9.1,\"frequency\":\"Quarterly\",\"series_type\":\"Original\",\"units\":\"Index, 2011/12=100\",\"source\":\"ABS / RBA\",\"pub_date\":\"2025-07-31\",\"series_id\":\"GCPIAG\",\"description\":\"Consumer price index; All groups\",\"table_title\":\"G1 Consumer Price Inflation\"},{\"date\":\"1968-09-30\",\"series\":\"Consumer price index\",\"value\":9.2,\"frequency\":\"Quarterly\",\"series_type\":\"Original\",\"units\":\"Index, 2011/12=100\",\"source\":\"ABS / RBA\",\"pub_date\":\"2025-07-31\",\"series_id\":\"GCPIAG\",\"description\":\"Consumer price index; All groups\",\"table_title\":\"G1 Consumer Price Inflation\"},{\"date\":\"1968-12-31\",\"series\":\"Consumer price index\",\"value\":9.2,\"frequency\":\"Quarterly\",\"series_type\":\"Original\",\"units\":\"Index, 2011/12=100\",\"source\":\"ABS / RBA\",\"pub_date\":\"2025-07-31\",\"series_id\":\"GCPIAG\",\"description\":\"Consumer price index; All groups\",\"table_title\":\"G1 Consumer Price Inflation\"},{\"date\":\"1969-03-31\",\"series\":\"Consumer price index\",\"value\":9.4,\"frequency\":\"Quarterly\",\"series_type\":\"Original\",\"units\":\"Index, 2011/12=100\",\"source\":\"ABS / RBA\",\"pub_date\":\"2025-07-31\",\"series_id\":\"GCPIAG\",\"description\":\"Consumer price index; All groups\",\"table_title\":\"G1 Consumer Price Inflation\"},{\"date\":\"1969-06-30\",\"series\":\"Consumer price index\",\"value\":9.4,\"frequency\":\"Quarterly\",\"series_type\":\"Original\",\"units\":\"Index, 2011/12=100\",\"source\":\"ABS / RBA\",\"pub_date\":\"2025-07-31\",\"series_id\":\"GCPIAG\",\"description\":\"Consumer price index; All groups\",\"table_title\":\"G1 Consumer Price Inflation\"},{\"date\":\"1969-09-30\",\"series\":\"Consumer price index\",\"value\":9.5,\"frequency\":\"Quarterly\",\"series_type\":\"Original\",\"units\":\"Index, 2011/12=100\",\"source\":\"ABS / RBA\",\"pub_date\":\"2025-07-31\",\"series_id\":\"GCPIAG\",\"description\":\"Consumer price index; All groups\",\"table_title\":\"G1 Consumer Price Inflation\"},{\"date\":\"1969-12-31\",\"series\":\"Consumer price index\",\"value\":9.5,\"frequency\":\"Quarterly\",\"series_type\":\"Original\",\"units\":\"Index, 2011/12=100\",\"source\":\"ABS / RBA\",\"pub_date\":\"2025-07-31\",\"series_id\":\"GCPIAG\",\"description\":\"Consumer price index; All groups\",\"table_title\":\"G1 Consumer Price Inflation\"},{\"date\":\"1970-03-31\",\"series\":\"Consumer price index\",\"value\":9.6,\"frequency\":\"Quarterly\",\"series_type\":\"Original\",\"units\":\"Index, 2011/12=100\",\"source\":\"ABS / RBA\",\"pub_date\":\"2025-07-31\",\"series_id\":\"GCPIAG\",\"description\":\"Consumer price index; All groups\",\"table_title\":\"G1 Consumer Price Inflation\"},{\"date\":\"1970-06-30\",\"series\":\"Consumer price index\",\"value\":9.7,\"frequency\":\"Quarterly\",\"series_type\":\"Original\",\"units\":\"Index, 2011/12=100\",\"source\":\"ABS / RBA\",\"pub_date\":\"2025-07-31\",\"series_id\":\"GCPIAG\",\"description\":\"Consumer price index; All groups\",\"table_title\":\"G1 Consumer Price Inflation\"},{\"date\":\"1970-09-30\",\"series\":\"Consumer price index\",\"value\":9.8,\"frequency\":\"Quarterly\",\"series_type\":\"Original\",\"units\":\"Index, 2011/12=100\",\"source\":\"ABS / RBA\",\"pub_date\":\"2025-07-31\",\"series_id\":\"GCPIAG\",\"description\":\"Consumer price index; All groups\",\"table_title\":\"G1 Consumer Price Inflation\"},{\"date\":\"1970-12-31\",\"series\":\"Consumer price index\",\"value\":10,\"frequency\":\"Quarterly\",\"series_type\":\"Original\",\"units\":\"Index, 2011/12=100\",\"source\":\"ABS / RBA\",\"pub_date\":\"2025-07-31\",\"series_id\":\"GCPIAG\",\"description\":\"Consumer price index; All groups\",\"table_title\":\"G1 Consumer Price Inflation\"},{\"date\":\"1971-03-31\",\"series\":\"Consumer price index\",\"value\":10.1,\"frequency\":\"Quarterly\",\"series_type\":\"Original\",\"units\":\"Index, 2011/12=100\",\"source\":\"ABS / RBA\",\"pub_date\":\"2025-07-31\",\"series_id\":\"GCPIAG\",\"description\":\"Consumer price index; All groups\",\"table_title\":\"G1 Consumer Price Inflation\"},{\"date\":\"1971-06-30\",\"series\":\"Consumer price index\",\"value\":10.2,\"frequency\":\"Quarterly\",\"series_type\":\"Original\",\"units\":\"Index, 2011/12=100\",\"source\":\"ABS / RBA\",\"pub_date\":\"2025-07-31\",\"series_id\":\"GCPIAG\",\"description\":\"Consumer price index; All groups\",\"table_title\":\"G1 Consumer Price Inflation\"},{\"date\":\"1971-09-30\",\"series\":\"Consumer price index\",\"value\":10.5,\"frequency\":\"Quarterly\",\"series_type\":\"Original\",\"units\":\"Index, 2011/12=100\",\"source\":\"ABS / RBA\",\"pub_date\":\"2025-07-31\",\"series_id\":\"GCPIAG\",\"description\":\"Consumer price index; All groups\",\"table_title\":\"G1 Consumer Price Inflation\"},{\"date\":\"1971-12-31\",\"series\":\"Consumer price index\",\"value\":10.7,\"frequency\":\"Quarterly\",\"series_type\":\"Original\",\"units\":\"Index, 2011/12=100\",\"source\":\"ABS / RBA\",\"pub_date\":\"2025-07-31\",\"series_id\":\"GCPIAG\",\"description\":\"Consumer price index; All groups\",\"table_title\":\"G1 Consumer Price Inflation\"},{\"date\":\"1972-03-31\",\"series\":\"Consumer price index\",\"value\":10.8,\"frequency\":\"Quarterly\",\"series_type\":\"Original\",\"units\":\"Index, 2011/12=100\",\"source\":\"ABS / RBA\",\"pub_date\":\"2025-07-31\",\"series_id\":\"GCPIAG\",\"description\":\"Consumer price index; All groups\",\"table_title\":\"G1 Consumer Price Inflation\"},{\"date\":\"1972-06-30\",\"series\":\"Consumer price index\",\"value\":10.9,\"frequency\":\"Quarterly\",\"series_type\":\"Original\",\"units\":\"Index, 2011/12=100\",\"source\":\"ABS / RBA\",\"pub_date\":\"2025-07-31\",\"series_id\":\"GCPIAG\",\"description\":\"Consumer price index; All groups\",\"table_title\":\"G1 Consumer Price Inflation\"},{\"date\":\"1972-09-30\",\"series\":\"Consumer price index\",\"value\":11.1,\"frequency\":\"Quarterly\",\"series_type\":\"Original\",\"units\":\"Index, 2011/12=100\",\"source\":\"ABS / RBA\",\"pub_date\":\"2025-07-31\",\"series_id\":\"GCPIAG\",\"description\":\"Consumer price index; All groups\",\"table_title\":\"G1 Consumer Price Inflation\"},{\"date\":\"1972-12-31\",\"series\":\"Consumer price index\",\"value\":11.2,\"frequency\":\"Quarterly\",\"series_type\":\"Original\",\"units\":\"Index, 2011/12=100\",\"source\":\"ABS / RBA\",\"pub_date\":\"2025-07-31\",\"series_id\":\"GCPIAG\",\"description\":\"Consumer price index; All groups\",\"table_title\":\"G1 Consumer Price Inflation\"},{\"date\":\"1973-03-31\",\"series\":\"Consumer price index\",\"value\":11.4,\"frequency\":\"Quarterly\",\"series_type\":\"Original\",\"units\":\"Index, 2011/12=100\",\"source\":\"ABS / RBA\",\"pub_date\":\"2025-07-31\",\"series_id\":\"GCPIAG\",\"description\":\"Consumer price index; All groups\",\"table_title\":\"G1 Consumer Price Inflation\"},{\"date\":\"1973-06-30\",\"series\":\"Consumer price index\",\"value\":11.8,\"frequency\":\"Quarterly\",\"series_type\":\"Original\",\"units\":\"Index, 2011/12=100\",\"source\":\"ABS / RBA\",\"pub_date\":\"2025-07-31\",\"series_id\":\"GCPIAG\",\"description\":\"Consumer price index; All groups\",\"table_title\":\"G1 Consumer Price Inflation\"},{\"date\":\"1973-09-30\",\"series\":\"Consumer price index\",\"value\":12.2,\"frequency\":\"Quarterly\",\"series_type\":\"Original\",\"units\":\"Index, 2011/12=100\",\"source\":\"ABS / RBA\",\"pub_date\":\"2025-07-31\",\"series_id\":\"GCPIAG\",\"description\":\"Consumer price index; All groups\",\"table_title\":\"G1 Consumer Price Inflation\"},{\"date\":\"1973-12-31\",\"series\":\"Consumer price index\",\"value\":12.6,\"frequency\":\"Quarterly\",\"series_type\":\"Original\",\"units\":\"Index, 2011/12=100\",\"source\":\"ABS / RBA\",\"pub_date\":\"2025-07-31\",\"series_id\":\"GCPIAG\",\"description\":\"Consumer price index; All groups\",\"table_title\":\"G1 Consumer Price Inflation\"},{\"date\":\"1974-03-31\",\"series\":\"Consumer price index\",\"value\":13,\"frequency\":\"Quarterly\",\"series_type\":\"Original\",\"units\":\"Index, 2011/12=100\",\"source\":\"ABS / RBA\",\"pub_date\":\"2025-07-31\",\"series_id\":\"GCPIAG\",\"description\":\"Consumer price index; All groups\",\"table_title\":\"G1 Consumer Price Inflation\"},{\"date\":\"1974-06-30\",\"series\":\"Consumer price index\",\"value\":13.5,\"frequency\":\"Quarterly\",\"series_type\":\"Original\",\"units\":\"Index, 2011/12=100\",\"source\":\"ABS / RBA\",\"pub_date\":\"2025-07-31\",\"series_id\":\"GCPIAG\",\"description\":\"Consumer price index; All groups\",\"table_title\":\"G1 Consumer Price Inflation\"},{\"date\":\"1974-09-30\",\"series\":\"Consumer price index\",\"value\":14.2,\"frequency\":\"Quarterly\",\"series_type\":\"Original\",\"units\":\"Index, 2011/12=100\",\"source\":\"ABS / RBA\",\"pub_date\":\"2025-07-31\",\"series_id\":\"GCPIAG\",\"description\":\"Consumer price index; All groups\",\"table_title\":\"G1 Consumer Price Inflation\"},{\"date\":\"1974-12-31\",\"series\":\"Consumer price index\",\"value\":14.7,\"frequency\":\"Quarterly\",\"series_type\":\"Original\",\"units\":\"Index, 2011/12=100\",\"source\":\"ABS / RBA\",\"pub_date\":\"2025-07-31\",\"series_id\":\"GCPIAG\",\"description\":\"Consumer price index; All groups\",\"table_title\":\"G1 Consumer Price Inflation\"},{\"date\":\"1975-03-31\",\"series\":\"Consumer price index\",\"value\":15.3,\"frequency\":\"Quarterly\",\"series_type\":\"Original\",\"units\":\"Index, 2011/12=100\",\"source\":\"ABS / RBA\",\"pub_date\":\"2025-07-31\",\"series_id\":\"GCPIAG\",\"description\":\"Consumer price index; All groups\",\"table_title\":\"G1 Consumer Price Inflation\"},{\"date\":\"1975-06-30\",\"series\":\"Consumer price index\",\"value\":15.8,\"frequency\":\"Quarterly\",\"series_type\":\"Original\",\"units\":\"Index, 2011/12=100\",\"source\":\"ABS / RBA\",\"pub_date\":\"2025-07-31\",\"series_id\":\"GCPIAG\",\"description\":\"Consumer price index; All groups\",\"table_title\":\"G1 Consumer Price Inflation\"},{\"date\":\"1975-09-30\",\"series\":\"Consumer price index\",\"value\":15.9,\"frequency\":\"Quarterly\",\"series_type\":\"Original\",\"units\":\"Index, 2011/12=100\",\"source\":\"ABS / RBA\",\"pub_date\":\"2025-07-31\",\"series_id\":\"GCPIAG\",\"description\":\"Consumer price index; All groups\",\"table_title\":\"G1 Consumer Price Inflation\"},{\"date\":\"1975-12-31\",\"series\":\"Consumer price index\",\"value\":16.8,\"frequency\":\"Quarterly\",\"series_type\":\"Original\",\"units\":\"Index, 2011/12=100\",\"source\":\"ABS / RBA\",\"pub_date\":\"2025-07-31\",\"series_id\":\"GCPIAG\",\"description\":\"Consumer price index; All groups\",\"table_title\":\"G1 Consumer Price Inflation\"},{\"date\":\"1976-03-31\",\"series\":\"Consumer price index\",\"value\":17.3,\"frequency\":\"Quarterly\",\"series_type\":\"Original\",\"units\":\"Index, 2011/12=100\",\"source\":\"ABS / RBA\",\"pub_date\":\"2025-07-31\",\"series_id\":\"GCPIAG\",\"description\":\"Consumer price index; All groups\",\"table_title\":\"G1 Consumer Price Inflation\"},{\"date\":\"1976-06-30\",\"series\":\"Consumer price index\",\"value\":17.7,\"frequency\":\"Quarterly\",\"series_type\":\"Original\",\"units\":\"Index, 2011/12=100\",\"source\":\"ABS / RBA\",\"pub_date\":\"2025-07-31\",\"series_id\":\"GCPIAG\",\"description\":\"Consumer price index; All groups\",\"table_title\":\"G1 Consumer Price Inflation\"},{\"date\":\"1976-09-30\",\"series\":\"Consumer price index\",\"value\":18.1,\"frequency\":\"Quarterly\",\"series_type\":\"Original\",\"units\":\"Index, 2011/12=100\",\"source\":\"ABS / RBA\",\"pub_date\":\"2025-07-31\",\"series_id\":\"GCPIAG\",\"description\":\"Consumer price index; All groups\",\"table_title\":\"G1 Consumer Price Inflation\"},{\"date\":\"1976-12-31\",\"series\":\"Consumer price index\",\"value\":19.2,\"frequency\":\"Quarterly\",\"series_type\":\"Original\",\"units\":\"Index, 2011/12=100\",\"source\":\"ABS / RBA\",\"pub_date\":\"2025-07-31\",\"series_id\":\"GCPIAG\",\"description\":\"Consumer price index; All groups\",\"table_title\":\"G1 Consumer Price Inflation\"},{\"date\":\"1977-03-31\",\"series\":\"Consumer price index\",\"value\":19.6,\"frequency\":\"Quarterly\",\"series_type\":\"Original\",\"units\":\"Index, 2011/12=100\",\"source\":\"ABS / RBA\",\"pub_date\":\"2025-07-31\",\"series_id\":\"GCPIAG\",\"description\":\"Consumer price index; All groups\",\"table_title\":\"G1 Consumer Price Inflation\"},{\"date\":\"1977-06-30\",\"series\":\"Consumer price index\",\"value\":20.1,\"frequency\":\"Quarterly\",\"series_type\":\"Original\",\"units\":\"Index, 2011/12=100\",\"source\":\"ABS / RBA\",\"pub_date\":\"2025-07-31\",\"series_id\":\"GCPIAG\",\"description\":\"Consumer price index; All groups\",\"table_title\":\"G1 Consumer Price Inflation\"},{\"date\":\"1977-09-30\",\"series\":\"Consumer price index\",\"value\":20.5,\"frequency\":\"Quarterly\",\"series_type\":\"Original\",\"units\":\"Index, 2011/12=100\",\"source\":\"ABS / RBA\",\"pub_date\":\"2025-07-31\",\"series_id\":\"GCPIAG\",\"description\":\"Consumer price index; All groups\",\"table_title\":\"G1 Consumer Price Inflation\"},{\"date\":\"1977-12-31\",\"series\":\"Consumer price index\",\"value\":21,\"frequency\":\"Quarterly\",\"series_type\":\"Original\",\"units\":\"Index, 2011/12=100\",\"source\":\"ABS / RBA\",\"pub_date\":\"2025-07-31\",\"series_id\":\"GCPIAG\",\"description\":\"Consumer price index; All groups\",\"table_title\":\"G1 Consumer Price Inflation\"},{\"date\":\"1978-03-31\",\"series\":\"Consumer price index\",\"value\":21.3,\"frequency\":\"Quarterly\",\"series_type\":\"Original\",\"units\":\"Index, 2011/12=100\",\"source\":\"ABS / RBA\",\"pub_date\":\"2025-07-31\",\"series_id\":\"GCPIAG\",\"description\":\"Consumer price index; All groups\",\"table_title\":\"G1 Consumer Price Inflation\"},{\"date\":\"1978-06-30\",\"series\":\"Consumer price index\",\"value\":21.7,\"frequency\":\"Quarterly\",\"series_type\":\"Original\",\"units\":\"Index, 2011/12=100\",\"source\":\"ABS / RBA\",\"pub_date\":\"2025-07-31\",\"series_id\":\"GCPIAG\",\"description\":\"Consumer price index; All groups\",\"table_title\":\"G1 Consumer Price Inflation\"},{\"date\":\"1978-09-30\",\"series\":\"Consumer price index\",\"value\":22.1,\"frequency\":\"Quarterly\",\"series_type\":\"Original\",\"units\":\"Index, 2011/12=100\",\"source\":\"ABS / RBA\",\"pub_date\":\"2025-07-31\",\"series_id\":\"GCPIAG\",\"description\":\"Consumer price index; All groups\",\"table_title\":\"G1 Consumer Price Inflation\"},{\"date\":\"1978-12-31\",\"series\":\"Consumer price index\",\"value\":22.6,\"frequency\":\"Quarterly\",\"series_type\":\"Original\",\"units\":\"Index, 2011/12=100\",\"source\":\"ABS / RBA\",\"pub_date\":\"2025-07-31\",\"series_id\":\"GCPIAG\",\"description\":\"Consumer price index; All groups\",\"table_title\":\"G1 Consumer Price Inflation\"},{\"date\":\"1979-03-31\",\"series\":\"Consumer price index\",\"value\":23,\"frequency\":\"Quarterly\",\"series_type\":\"Original\",\"units\":\"Index, 2011/12=100\",\"source\":\"ABS / RBA\",\"pub_date\":\"2025-07-31\",\"series_id\":\"GCPIAG\",\"description\":\"Consumer price index; All groups\",\"table_title\":\"G1 Consumer Price Inflation\"},{\"date\":\"1979-06-30\",\"series\":\"Consumer price index\",\"value\":23.6,\"frequency\":\"Quarterly\",\"series_type\":\"Original\",\"units\":\"Index, 2011/12=100\",\"source\":\"ABS / RBA\",\"pub_date\":\"2025-07-31\",\"series_id\":\"GCPIAG\",\"description\":\"Consumer price index; All groups\",\"table_title\":\"G1 Consumer Price Inflation\"},{\"date\":\"1979-09-30\",\"series\":\"Consumer price index\",\"value\":24.2,\"frequency\":\"Quarterly\",\"series_type\":\"Original\",\"units\":\"Index, 2011/12=100\",\"source\":\"ABS / RBA\",\"pub_date\":\"2025-07-31\",\"series_id\":\"GCPIAG\",\"description\":\"Consumer price index; All groups\",\"table_title\":\"G1 Consumer Price Inflation\"},{\"date\":\"1979-12-31\",\"series\":\"Consumer price index\",\"value\":24.9,\"frequency\":\"Quarterly\",\"series_type\":\"Original\",\"units\":\"Index, 2011/12=100\",\"source\":\"ABS / RBA\",\"pub_date\":\"2025-07-31\",\"series_id\":\"GCPIAG\",\"description\":\"Consumer price index; All groups\",\"table_title\":\"G1 Consumer Price Inflation\"},{\"date\":\"1980-03-31\",\"series\":\"Consumer price index\",\"value\":25.4,\"frequency\":\"Quarterly\",\"series_type\":\"Original\",\"units\":\"Index, 2011/12=100\",\"source\":\"ABS / RBA\",\"pub_date\":\"2025-07-31\",\"series_id\":\"GCPIAG\",\"description\":\"Consumer price index; All groups\",\"table_title\":\"G1 Consumer Price Inflation\"},{\"date\":\"1980-06-30\",\"series\":\"Consumer price index\",\"value\":26.2,\"frequency\":\"Quarterly\",\"series_type\":\"Original\",\"units\":\"Index, 2011/12=100\",\"source\":\"ABS / RBA\",\"pub_date\":\"2025-07-31\",\"series_id\":\"GCPIAG\",\"description\":\"Consumer price index; All groups\",\"table_title\":\"G1 Consumer Price Inflation\"},{\"date\":\"1980-09-30\",\"series\":\"Consumer price index\",\"value\":26.6,\"frequency\":\"Quarterly\",\"series_type\":\"Original\",\"units\":\"Index, 2011/12=100\",\"source\":\"ABS / RBA\",\"pub_date\":\"2025-07-31\",\"series_id\":\"GCPIAG\",\"description\":\"Consumer price index; All groups\",\"table_title\":\"G1 Consumer Price Inflation\"},{\"date\":\"1980-12-31\",\"series\":\"Consumer price index\",\"value\":27.2,\"frequency\":\"Quarterly\",\"series_type\":\"Original\",\"units\":\"Index, 2011/12=100\",\"source\":\"ABS / RBA\",\"pub_date\":\"2025-07-31\",\"series_id\":\"GCPIAG\",\"description\":\"Consumer price index; All groups\",\"table_title\":\"G1 Consumer Price Inflation\"},{\"date\":\"1981-03-31\",\"series\":\"Consumer price index\",\"value\":27.8,\"frequency\":\"Quarterly\",\"series_type\":\"Original\",\"units\":\"Index, 2011/12=100\",\"source\":\"ABS / RBA\",\"pub_date\":\"2025-07-31\",\"series_id\":\"GCPIAG\",\"description\":\"Consumer price index; All groups\",\"table_title\":\"G1 Consumer Price Inflation\"},{\"date\":\"1981-06-30\",\"series\":\"Consumer price index\",\"value\":28.4,\"frequency\":\"Quarterly\",\"series_type\":\"Original\",\"units\":\"Index, 2011/12=100\",\"source\":\"ABS / RBA\",\"pub_date\":\"2025-07-31\",\"series_id\":\"GCPIAG\",\"description\":\"Consumer price index; All groups\",\"table_title\":\"G1 Consumer Price Inflation\"},{\"date\":\"1981-09-30\",\"series\":\"Consumer price index\",\"value\":29,\"frequency\":\"Quarterly\",\"series_type\":\"Original\",\"units\":\"Index, 2011/12=100\",\"source\":\"ABS / RBA\",\"pub_date\":\"2025-07-31\",\"series_id\":\"GCPIAG\",\"description\":\"Consumer price index; All groups\",\"table_title\":\"G1 Consumer Price Inflation\"},{\"date\":\"1981-12-31\",\"series\":\"Consumer price index\",\"value\":30.2,\"frequency\":\"Quarterly\",\"series_type\":\"Original\",\"units\":\"Index, 2011/12=100\",\"source\":\"ABS / RBA\",\"pub_date\":\"2025-07-31\",\"series_id\":\"GCPIAG\",\"description\":\"Consumer price index; All groups\",\"table_title\":\"G1 Consumer Price Inflation\"},{\"date\":\"1982-03-31\",\"series\":\"Consumer price index\",\"value\":30.8,\"frequency\":\"Quarterly\",\"series_type\":\"Original\",\"units\":\"Index, 2011/12=100\",\"source\":\"ABS / RBA\",\"pub_date\":\"2025-07-31\",\"series_id\":\"GCPIAG\",\"description\":\"Consumer price index; All groups\",\"table_title\":\"G1 Consumer Price Inflation\"},{\"date\":\"1982-06-30\",\"series\":\"Consumer price index\",\"value\":31.5,\"frequency\":\"Quarterly\",\"series_type\":\"Original\",\"units\":\"Index, 2011/12=100\",\"source\":\"ABS / RBA\",\"pub_date\":\"2025-07-31\",\"series_id\":\"GCPIAG\",\"description\":\"Consumer price index; All groups\",\"table_title\":\"G1 Consumer Price Inflation\"},{\"date\":\"1982-09-30\",\"series\":\"Consumer price index\",\"value\":32.6,\"frequency\":\"Quarterly\",\"series_type\":\"Original\",\"units\":\"Index, 2011/12=100\",\"source\":\"ABS / RBA\",\"pub_date\":\"2025-07-31\",\"series_id\":\"GCPIAG\",\"description\":\"Consumer price index; All groups\",\"table_title\":\"G1 Consumer Price Inflation\"},{\"date\":\"1982-12-31\",\"series\":\"Consumer price index\",\"value\":33.6,\"frequency\":\"Quarterly\",\"series_type\":\"Original\",\"units\":\"Index, 2011/12=100\",\"source\":\"ABS / RBA\",\"pub_date\":\"2025-07-31\",\"series_id\":\"GCPIAG\",\"description\":\"Consumer price index; All groups\",\"table_title\":\"G1 Consumer Price Inflation\"},{\"date\":\"1983-03-31\",\"series\":\"Consumer price index\",\"value\":34.3,\"frequency\":\"Quarterly\",\"series_type\":\"Original\",\"units\":\"Index, 2011/12=100\",\"source\":\"ABS / RBA\",\"pub_date\":\"2025-07-31\",\"series_id\":\"GCPIAG\",\"description\":\"Consumer price index; All groups\",\"table_title\":\"G1 Consumer Price Inflation\"},{\"date\":\"1983-06-30\",\"series\":\"Consumer price index\",\"value\":35,\"frequency\":\"Quarterly\",\"series_type\":\"Original\",\"units\":\"Index, 2011/12=100\",\"source\":\"ABS / RBA\",\"pub_date\":\"2025-07-31\",\"series_id\":\"GCPIAG\",\"description\":\"Consumer price index; All groups\",\"table_title\":\"G1 Consumer Price Inflation\"},{\"date\":\"1983-09-30\",\"series\":\"Consumer price index\",\"value\":35.6,\"frequency\":\"Quarterly\",\"series_type\":\"Original\",\"units\":\"Index, 2011/12=100\",\"source\":\"ABS / RBA\",\"pub_date\":\"2025-07-31\",\"series_id\":\"GCPIAG\",\"description\":\"Consumer price index; All groups\",\"table_title\":\"G1 Consumer Price Inflation\"},{\"date\":\"1983-12-31\",\"series\":\"Consumer price index\",\"value\":36.5,\"frequency\":\"Quarterly\",\"series_type\":\"Original\",\"units\":\"Index, 2011/12=100\",\"source\":\"ABS / RBA\",\"pub_date\":\"2025-07-31\",\"series_id\":\"GCPIAG\",\"description\":\"Consumer price index; All groups\",\"table_title\":\"G1 Consumer Price Inflation\"},{\"date\":\"1984-03-31\",\"series\":\"Consumer price index\",\"value\":36.3,\"frequency\":\"Quarterly\",\"series_type\":\"Original\",\"units\":\"Index, 2011/12=100\",\"source\":\"ABS / RBA\",\"pub_date\":\"2025-07-31\",\"series_id\":\"GCPIAG\",\"description\":\"Consumer price index; All groups\",\"table_title\":\"G1 Consumer Price Inflation\"},{\"date\":\"1984-06-30\",\"series\":\"Consumer price index\",\"value\":36.4,\"frequency\":\"Quarterly\",\"series_type\":\"Original\",\"units\":\"Index, 2011/12=100\",\"source\":\"ABS / RBA\",\"pub_date\":\"2025-07-31\",\"series_id\":\"GCPIAG\",\"description\":\"Consumer price index; All groups\",\"table_title\":\"G1 Consumer Price Inflation\"},{\"date\":\"1984-09-30\",\"series\":\"Consumer price index\",\"value\":36.9,\"frequency\":\"Quarterly\",\"series_type\":\"Original\",\"units\":\"Index, 2011/12=100\",\"source\":\"ABS / RBA\",\"pub_date\":\"2025-07-31\",\"series_id\":\"GCPIAG\",\"description\":\"Consumer price index; All groups\",\"table_title\":\"G1 Consumer Price Inflation\"},{\"date\":\"1984-12-31\",\"series\":\"Consumer price index\",\"value\":37.4,\"frequency\":\"Quarterly\",\"series_type\":\"Original\",\"units\":\"Index, 2011/12=100\",\"source\":\"ABS / RBA\",\"pub_date\":\"2025-07-31\",\"series_id\":\"GCPIAG\",\"description\":\"Consumer price index; All groups\",\"table_title\":\"G1 Consumer Price Inflation\"},{\"date\":\"1985-03-31\",\"series\":\"Consumer price index\",\"value\":37.9,\"frequency\":\"Quarterly\",\"series_type\":\"Original\",\"units\":\"Index, 2011/12=100\",\"source\":\"ABS / RBA\",\"pub_date\":\"2025-07-31\",\"series_id\":\"GCPIAG\",\"description\":\"Consumer price index; All groups\",\"table_title\":\"G1 Consumer Price Inflation\"},{\"date\":\"1985-06-30\",\"series\":\"Consumer price index\",\"value\":38.8,\"frequency\":\"Quarterly\",\"series_type\":\"Original\",\"units\":\"Index, 2011/12=100\",\"source\":\"ABS / RBA\",\"pub_date\":\"2025-07-31\",\"series_id\":\"GCPIAG\",\"description\":\"Consumer price index; All groups\",\"table_title\":\"G1 Consumer Price Inflation\"},{\"date\":\"1985-09-30\",\"series\":\"Consumer price index\",\"value\":39.7,\"frequency\":\"Quarterly\",\"series_type\":\"Original\",\"units\":\"Index, 2011/12=100\",\"source\":\"ABS / RBA\",\"pub_date\":\"2025-07-31\",\"series_id\":\"GCPIAG\",\"description\":\"Consumer price index; All groups\",\"table_title\":\"G1 Consumer Price Inflation\"},{\"date\":\"1985-12-31\",\"series\":\"Consumer price index\",\"value\":40.5,\"frequency\":\"Quarterly\",\"series_type\":\"Original\",\"units\":\"Index, 2011/12=100\",\"source\":\"ABS / RBA\",\"pub_date\":\"2025-07-31\",\"series_id\":\"GCPIAG\",\"description\":\"Consumer price index; All groups\",\"table_title\":\"G1 Consumer Price Inflation\"},{\"date\":\"1986-03-31\",\"series\":\"Consumer price index\",\"value\":41.4,\"frequency\":\"Quarterly\",\"series_type\":\"Original\",\"units\":\"Index, 2011/12=100\",\"source\":\"ABS / RBA\",\"pub_date\":\"2025-07-31\",\"series_id\":\"GCPIAG\",\"description\":\"Consumer price index; All groups\",\"table_title\":\"G1 Consumer Price Inflation\"},{\"date\":\"1986-06-30\",\"series\":\"Consumer price index\",\"value\":42.1,\"frequency\":\"Quarterly\",\"series_type\":\"Original\",\"units\":\"Index, 2011/12=100\",\"source\":\"ABS / RBA\",\"pub_date\":\"2025-07-31\",\"series_id\":\"GCPIAG\",\"description\":\"Consumer price index; All groups\",\"table_title\":\"G1 Consumer Price Inflation\"},{\"date\":\"1986-09-30\",\"series\":\"Consumer price index\",\"value\":43.2,\"frequency\":\"Quarterly\",\"series_type\":\"Original\",\"units\":\"Index, 2011/12=100\",\"source\":\"ABS / RBA\",\"pub_date\":\"2025-07-31\",\"series_id\":\"GCPIAG\",\"description\":\"Consumer price index; All groups\",\"table_title\":\"G1 Consumer Price Inflation\"},{\"date\":\"1986-12-31\",\"series\":\"Consumer price index\",\"value\":44.4,\"frequency\":\"Quarterly\",\"series_type\":\"Original\",\"units\":\"Index, 2011/12=100\",\"source\":\"ABS / RBA\",\"pub_date\":\"2025-07-31\",\"series_id\":\"GCPIAG\",\"description\":\"Consumer price index; All groups\",\"table_title\":\"G1 Consumer Price Inflation\"},{\"date\":\"1987-03-31\",\"series\":\"Consumer price index\",\"value\":45.3,\"frequency\":\"Quarterly\",\"series_type\":\"Original\",\"units\":\"Index, 2011/12=100\",\"source\":\"ABS / RBA\",\"pub_date\":\"2025-07-31\",\"series_id\":\"GCPIAG\",\"description\":\"Consumer price index; All groups\",\"table_title\":\"G1 Consumer Price Inflation\"},{\"date\":\"1987-06-30\",\"series\":\"Consumer price index\",\"value\":46,\"frequency\":\"Quarterly\",\"series_type\":\"Original\",\"units\":\"Index, 2011/12=100\",\"source\":\"ABS / RBA\",\"pub_date\":\"2025-07-31\",\"series_id\":\"GCPIAG\",\"description\":\"Consumer price index; All groups\",\"table_title\":\"G1 Consumer Price Inflation\"},{\"date\":\"1987-09-30\",\"series\":\"Consumer price index\",\"value\":46.8,\"frequency\":\"Quarterly\",\"series_type\":\"Original\",\"units\":\"Index, 2011/12=100\",\"source\":\"ABS / RBA\",\"pub_date\":\"2025-07-31\",\"series_id\":\"GCPIAG\",\"description\":\"Consumer price index; All groups\",\"table_title\":\"G1 Consumer Price Inflation\"},{\"date\":\"1987-12-31\",\"series\":\"Consumer price index\",\"value\":47.6,\"frequency\":\"Quarterly\",\"series_type\":\"Original\",\"units\":\"Index, 2011/12=100\",\"source\":\"ABS / RBA\",\"pub_date\":\"2025-07-31\",\"series_id\":\"GCPIAG\",\"description\":\"Consumer price index; All groups\",\"table_title\":\"G1 Consumer Price Inflation\"},{\"date\":\"1988-03-31\",\"series\":\"Consumer price index\",\"value\":48.4,\"frequency\":\"Quarterly\",\"series_type\":\"Original\",\"units\":\"Index, 2011/12=100\",\"source\":\"ABS / RBA\",\"pub_date\":\"2025-07-31\",\"series_id\":\"GCPIAG\",\"description\":\"Consumer price index; All groups\",\"table_title\":\"G1 Consumer Price Inflation\"},{\"date\":\"1988-06-30\",\"series\":\"Consumer price index\",\"value\":49.3,\"frequency\":\"Quarterly\",\"series_type\":\"Original\",\"units\":\"Index, 2011/12=100\",\"source\":\"ABS / RBA\",\"pub_date\":\"2025-07-31\",\"series_id\":\"GCPIAG\",\"description\":\"Consumer price index; All groups\",\"table_title\":\"G1 Consumer Price Inflation\"},{\"date\":\"1988-09-30\",\"series\":\"Consumer price index\",\"value\":50.2,\"frequency\":\"Quarterly\",\"series_type\":\"Original\",\"units\":\"Index, 2011/12=100\",\"source\":\"ABS / RBA\",\"pub_date\":\"2025-07-31\",\"series_id\":\"GCPIAG\",\"description\":\"Consumer price index; All groups\",\"table_title\":\"G1 Consumer Price Inflation\"},{\"date\":\"1988-12-31\",\"series\":\"Consumer price index\",\"value\":51.2,\"frequency\":\"Quarterly\",\"series_type\":\"Original\",\"units\":\"Index, 2011/12=100\",\"source\":\"ABS / RBA\",\"pub_date\":\"2025-07-31\",\"series_id\":\"GCPIAG\",\"description\":\"Consumer price index; All groups\",\"table_title\":\"G1 Consumer Price Inflation\"},{\"date\":\"1989-03-31\",\"series\":\"Consumer price index\",\"value\":51.7,\"frequency\":\"Quarterly\",\"series_type\":\"Original\",\"units\":\"Index, 2011/12=100\",\"source\":\"ABS / RBA\",\"pub_date\":\"2025-07-31\",\"series_id\":\"GCPIAG\",\"description\":\"Consumer price index; All groups\",\"table_title\":\"G1 Consumer Price Inflation\"},{\"date\":\"1989-06-30\",\"series\":\"Consumer price index\",\"value\":53,\"frequency\":\"Quarterly\",\"series_type\":\"Original\",\"units\":\"Index, 2011/12=100\",\"source\":\"ABS / RBA\",\"pub_date\":\"2025-07-31\",\"series_id\":\"GCPIAG\",\"description\":\"Consumer price index; All groups\",\"table_title\":\"G1 Consumer Price Inflation\"},{\"date\":\"1989-09-30\",\"series\":\"Consumer price index\",\"value\":54.2,\"frequency\":\"Quarterly\",\"series_type\":\"Original\",\"units\":\"Index, 2011/12=100\",\"source\":\"ABS / RBA\",\"pub_date\":\"2025-07-31\",\"series_id\":\"GCPIAG\",\"description\":\"Consumer price index; All groups\",\"table_title\":\"G1 Consumer Price Inflation\"},{\"date\":\"1989-12-31\",\"series\":\"Consumer price index\",\"value\":55.2,\"frequency\":\"Quarterly\",\"series_type\":\"Original\",\"units\":\"Index, 2011/12=100\",\"source\":\"ABS / RBA\",\"pub_date\":\"2025-07-31\",\"series_id\":\"GCPIAG\",\"description\":\"Consumer price index; All groups\",\"table_title\":\"G1 Consumer Price Inflation\"},{\"date\":\"1990-03-31\",\"series\":\"Consumer price index\",\"value\":56.2,\"frequency\":\"Quarterly\",\"series_type\":\"Original\",\"units\":\"Index, 2011/12=100\",\"source\":\"ABS / RBA\",\"pub_date\":\"2025-07-31\",\"series_id\":\"GCPIAG\",\"description\":\"Consumer price index; All groups\",\"table_title\":\"G1 Consumer Price Inflation\"},{\"date\":\"1990-06-30\",\"series\":\"Consumer price index\",\"value\":57.1,\"frequency\":\"Quarterly\",\"series_type\":\"Original\",\"units\":\"Index, 2011/12=100\",\"source\":\"ABS / RBA\",\"pub_date\":\"2025-07-31\",\"series_id\":\"GCPIAG\",\"description\":\"Consumer price index; All groups\",\"table_title\":\"G1 Consumer Price Inflation\"},{\"date\":\"1990-09-30\",\"series\":\"Consumer price index\",\"value\":57.5,\"frequency\":\"Quarterly\",\"series_type\":\"Original\",\"units\":\"Index, 2011/12=100\",\"source\":\"ABS / RBA\",\"pub_date\":\"2025-07-31\",\"series_id\":\"GCPIAG\",\"description\":\"Consumer price index; All groups\",\"table_title\":\"G1 Consumer Price Inflation\"},{\"date\":\"1990-12-31\",\"series\":\"Consumer price index\",\"value\":59,\"frequency\":\"Quarterly\",\"series_type\":\"Original\",\"units\":\"Index, 2011/12=100\",\"source\":\"ABS / RBA\",\"pub_date\":\"2025-07-31\",\"series_id\":\"GCPIAG\",\"description\":\"Consumer price index; All groups\",\"table_title\":\"G1 Consumer Price Inflation\"},{\"date\":\"1991-03-31\",\"series\":\"Consumer price index\",\"value\":58.9,\"frequency\":\"Quarterly\",\"series_type\":\"Original\",\"units\":\"Index, 2011/12=100\",\"source\":\"ABS / RBA\",\"pub_date\":\"2025-07-31\",\"series_id\":\"GCPIAG\",\"description\":\"Consumer price index; All groups\",\"table_title\":\"G1 Consumer Price Inflation\"},{\"date\":\"1991-06-30\",\"series\":\"Consumer price index\",\"value\":59,\"frequency\":\"Quarterly\",\"series_type\":\"Original\",\"units\":\"Index, 2011/12=100\",\"source\":\"ABS / RBA\",\"pub_date\":\"2025-07-31\",\"series_id\":\"GCPIAG\",\"description\":\"Consumer price index; All groups\",\"table_title\":\"G1 Consumer Price Inflation\"},{\"date\":\"1991-09-30\",\"series\":\"Consumer price index\",\"value\":59.3,\"frequency\":\"Quarterly\",\"series_type\":\"Original\",\"units\":\"Index, 2011/12=100\",\"source\":\"ABS / RBA\",\"pub_date\":\"2025-07-31\",\"series_id\":\"GCPIAG\",\"description\":\"Consumer price index; All groups\",\"table_title\":\"G1 Consumer Price Inflation\"},{\"date\":\"1991-12-31\",\"series\":\"Consumer price index\",\"value\":59.9,\"frequency\":\"Quarterly\",\"series_type\":\"Original\",\"units\":\"Index, 2011/12=100\",\"source\":\"ABS / RBA\",\"pub_date\":\"2025-07-31\",\"series_id\":\"GCPIAG\",\"description\":\"Consumer price index; All groups\",\"table_title\":\"G1 Consumer Price Inflation\"},{\"date\":\"1992-03-31\",\"series\":\"Consumer price index\",\"value\":59.9,\"frequency\":\"Quarterly\",\"series_type\":\"Original\",\"units\":\"Index, 2011/12=100\",\"source\":\"ABS / RBA\",\"pub_date\":\"2025-07-31\",\"series_id\":\"GCPIAG\",\"description\":\"Consumer price index; All groups\",\"table_title\":\"G1 Consumer Price Inflation\"},{\"date\":\"1992-06-30\",\"series\":\"Consumer price index\",\"value\":59.7,\"frequency\":\"Quarterly\",\"series_type\":\"Original\",\"units\":\"Index, 2011/12=100\",\"source\":\"ABS / RBA\",\"pub_date\":\"2025-07-31\",\"series_id\":\"GCPIAG\",\"description\":\"Consumer price index; All groups\",\"table_title\":\"G1 Consumer Price Inflation\"},{\"date\":\"1992-09-30\",\"series\":\"Consumer price index\",\"value\":59.8,\"frequency\":\"Quarterly\",\"series_type\":\"Original\",\"units\":\"Index, 2011/12=100\",\"source\":\"ABS / RBA\",\"pub_date\":\"2025-07-31\",\"series_id\":\"GCPIAG\",\"description\":\"Consumer price index; All groups\",\"table_title\":\"G1 Consumer Price Inflation\"},{\"date\":\"1992-12-31\",\"series\":\"Consumer price index\",\"value\":60.1,\"frequency\":\"Quarterly\",\"series_type\":\"Original\",\"units\":\"Index, 2011/12=100\",\"source\":\"ABS / RBA\",\"pub_date\":\"2025-07-31\",\"series_id\":\"GCPIAG\",\"description\":\"Consumer price index; All groups\",\"table_title\":\"G1 Consumer Price Inflation\"},{\"date\":\"1993-03-31\",\"series\":\"Consumer price index\",\"value\":60.6,\"frequency\":\"Quarterly\",\"series_type\":\"Original\",\"units\":\"Index, 2011/12=100\",\"source\":\"ABS / RBA\",\"pub_date\":\"2025-07-31\",\"series_id\":\"GCPIAG\",\"description\":\"Consumer price index; All groups\",\"table_title\":\"G1 Consumer Price Inflation\"},{\"date\":\"1993-06-30\",\"series\":\"Consumer price index\",\"value\":60.8,\"frequency\":\"Quarterly\",\"series_type\":\"Original\",\"units\":\"Index, 2011/12=100\",\"source\":\"ABS / RBA\",\"pub_date\":\"2025-07-31\",\"series_id\":\"GCPIAG\",\"description\":\"Consumer price index; All groups\",\"table_title\":\"G1 Consumer Price Inflation\"},{\"date\":\"1993-09-30\",\"series\":\"Consumer price index\",\"value\":61.1,\"frequency\":\"Quarterly\",\"series_type\":\"Original\",\"units\":\"Index, 2011/12=100\",\"source\":\"ABS / RBA\",\"pub_date\":\"2025-07-31\",\"series_id\":\"GCPIAG\",\"description\":\"Consumer price index; All groups\",\"table_title\":\"G1 Consumer Price Inflation\"},{\"date\":\"1993-12-31\",\"series\":\"Consumer price index\",\"value\":61.2,\"frequency\":\"Quarterly\",\"series_type\":\"Original\",\"units\":\"Index, 2011/12=100\",\"source\":\"ABS / RBA\",\"pub_date\":\"2025-07-31\",\"series_id\":\"GCPIAG\",\"description\":\"Consumer price index; All groups\",\"table_title\":\"G1 Consumer Price Inflation\"},{\"date\":\"1994-03-31\",\"series\":\"Consumer price index\",\"value\":61.5,\"frequency\":\"Quarterly\",\"series_type\":\"Original\",\"units\":\"Index, 2011/12=100\",\"source\":\"ABS / RBA\",\"pub_date\":\"2025-07-31\",\"series_id\":\"GCPIAG\",\"description\":\"Consumer price index; All groups\",\"table_title\":\"G1 Consumer Price Inflation\"},{\"date\":\"1994-06-30\",\"series\":\"Consumer price index\",\"value\":61.9,\"frequency\":\"Quarterly\",\"series_type\":\"Original\",\"units\":\"Index, 2011/12=100\",\"source\":\"ABS / RBA\",\"pub_date\":\"2025-07-31\",\"series_id\":\"GCPIAG\",\"description\":\"Consumer price index; All groups\",\"table_title\":\"G1 Consumer Price Inflation\"},{\"date\":\"1994-09-30\",\"series\":\"Consumer price index\",\"value\":62.3,\"frequency\":\"Quarterly\",\"series_type\":\"Original\",\"units\":\"Index, 2011/12=100\",\"source\":\"ABS / RBA\",\"pub_date\":\"2025-07-31\",\"series_id\":\"GCPIAG\",\"description\":\"Consumer price index; All groups\",\"table_title\":\"G1 Consumer Price Inflation\"},{\"date\":\"1994-12-31\",\"series\":\"Consumer price index\",\"value\":62.8,\"frequency\":\"Quarterly\",\"series_type\":\"Original\",\"units\":\"Index, 2011/12=100\",\"source\":\"ABS / RBA\",\"pub_date\":\"2025-07-31\",\"series_id\":\"GCPIAG\",\"description\":\"Consumer price index; All groups\",\"table_title\":\"G1 Consumer Price Inflation\"},{\"date\":\"1995-03-31\",\"series\":\"Consumer price index\",\"value\":63.8,\"frequency\":\"Quarterly\",\"series_type\":\"Original\",\"units\":\"Index, 2011/12=100\",\"source\":\"ABS / RBA\",\"pub_date\":\"2025-07-31\",\"series_id\":\"GCPIAG\",\"description\":\"Consumer price index; All groups\",\"table_title\":\"G1 Consumer Price Inflation\"},{\"date\":\"1995-06-30\",\"series\":\"Consumer price index\",\"value\":64.7,\"frequency\":\"Quarterly\",\"series_type\":\"Original\",\"units\":\"Index, 2011/12=100\",\"source\":\"ABS / RBA\",\"pub_date\":\"2025-07-31\",\"series_id\":\"GCPIAG\",\"description\":\"Consumer price index; All groups\",\"table_title\":\"G1 Consumer Price Inflation\"},{\"date\":\"1995-09-30\",\"series\":\"Consumer price index\",\"value\":65.5,\"frequency\":\"Quarterly\",\"series_type\":\"Original\",\"units\":\"Index, 2011/12=100\",\"source\":\"ABS / RBA\",\"pub_date\":\"2025-07-31\",\"series_id\":\"GCPIAG\",\"description\":\"Consumer price index; All groups\",\"table_title\":\"G1 Consumer Price Inflation\"},{\"date\":\"1995-12-31\",\"series\":\"Consumer price index\",\"value\":66,\"frequency\":\"Quarterly\",\"series_type\":\"Original\",\"units\":\"Index, 2011/12=100\",\"source\":\"ABS / RBA\",\"pub_date\":\"2025-07-31\",\"series_id\":\"GCPIAG\",\"description\":\"Consumer price index; All groups\",\"table_title\":\"G1 Consumer Price Inflation\"},{\"date\":\"1996-03-31\",\"series\":\"Consumer price index\",\"value\":66.2,\"frequency\":\"Quarterly\",\"series_type\":\"Original\",\"units\":\"Index, 2011/12=100\",\"source\":\"ABS / RBA\",\"pub_date\":\"2025-07-31\",\"series_id\":\"GCPIAG\",\"description\":\"Consumer price index; All groups\",\"table_title\":\"G1 Consumer Price Inflation\"},{\"date\":\"1996-06-30\",\"series\":\"Consumer price index\",\"value\":66.7,\"frequency\":\"Quarterly\",\"series_type\":\"Original\",\"units\":\"Index, 2011/12=100\",\"source\":\"ABS / RBA\",\"pub_date\":\"2025-07-31\",\"series_id\":\"GCPIAG\",\"description\":\"Consumer price index; All groups\",\"table_title\":\"G1 Consumer Price Inflation\"},{\"date\":\"1996-09-30\",\"series\":\"Consumer price index\",\"value\":66.9,\"frequency\":\"Quarterly\",\"series_type\":\"Original\",\"units\":\"Index, 2011/12=100\",\"source\":\"ABS / RBA\",\"pub_date\":\"2025-07-31\",\"series_id\":\"GCPIAG\",\"description\":\"Consumer price index; All groups\",\"table_title\":\"G1 Consumer Price Inflation\"},{\"date\":\"1996-12-31\",\"series\":\"Consumer price index\",\"value\":67,\"frequency\":\"Quarterly\",\"series_type\":\"Original\",\"units\":\"Index, 2011/12=100\",\"source\":\"ABS / RBA\",\"pub_date\":\"2025-07-31\",\"series_id\":\"GCPIAG\",\"description\":\"Consumer price index; All groups\",\"table_title\":\"G1 Consumer Price Inflation\"},{\"date\":\"1997-03-31\",\"series\":\"Consumer price index\",\"value\":67.1,\"frequency\":\"Quarterly\",\"series_type\":\"Original\",\"units\":\"Index, 2011/12=100\",\"source\":\"ABS / RBA\",\"pub_date\":\"2025-07-31\",\"series_id\":\"GCPIAG\",\"description\":\"Consumer price index; All groups\",\"table_title\":\"G1 Consumer Price Inflation\"},{\"date\":\"1997-06-30\",\"series\":\"Consumer price index\",\"value\":66.9,\"frequency\":\"Quarterly\",\"series_type\":\"Original\",\"units\":\"Index, 2011/12=100\",\"source\":\"ABS / RBA\",\"pub_date\":\"2025-07-31\",\"series_id\":\"GCPIAG\",\"description\":\"Consumer price index; All groups\",\"table_title\":\"G1 Consumer Price Inflation\"},{\"date\":\"1997-09-30\",\"series\":\"Consumer price index\",\"value\":66.6,\"frequency\":\"Quarterly\",\"series_type\":\"Original\",\"units\":\"Index, 2011/12=100\",\"source\":\"ABS / RBA\",\"pub_date\":\"2025-07-31\",\"series_id\":\"GCPIAG\",\"description\":\"Consumer price index; All groups\",\"table_title\":\"G1 Consumer Price Inflation\"},{\"date\":\"1997-12-31\",\"series\":\"Consumer price index\",\"value\":66.8,\"frequency\":\"Quarterly\",\"series_type\":\"Original\",\"units\":\"Index, 2011/12=100\",\"source\":\"ABS / RBA\",\"pub_date\":\"2025-07-31\",\"series_id\":\"GCPIAG\",\"description\":\"Consumer price index; All groups\",\"table_title\":\"G1 Consumer Price Inflation\"},{\"date\":\"1998-03-31\",\"series\":\"Consumer price index\",\"value\":67,\"frequency\":\"Quarterly\",\"series_type\":\"Original\",\"units\":\"Index, 2011/12=100\",\"source\":\"ABS / RBA\",\"pub_date\":\"2025-07-31\",\"series_id\":\"GCPIAG\",\"description\":\"Consumer price index; All groups\",\"table_title\":\"G1 Consumer Price Inflation\"},{\"date\":\"1998-06-30\",\"series\":\"Consumer price index\",\"value\":67.4,\"frequency\":\"Quarterly\",\"series_type\":\"Original\",\"units\":\"Index, 2011/12=100\",\"source\":\"ABS / RBA\",\"pub_date\":\"2025-07-31\",\"series_id\":\"GCPIAG\",\"description\":\"Consumer price index; All groups\",\"table_title\":\"G1 Consumer Price Inflation\"},{\"date\":\"1998-09-30\",\"series\":\"Consumer price index\",\"value\":67.5,\"frequency\":\"Quarterly\",\"series_type\":\"Original\",\"units\":\"Index, 2011/12=100\",\"source\":\"ABS / RBA\",\"pub_date\":\"2025-07-31\",\"series_id\":\"GCPIAG\",\"description\":\"Consumer price index; All groups\",\"table_title\":\"G1 Consumer Price Inflation\"},{\"date\":\"1998-12-31\",\"series\":\"Consumer price index\",\"value\":67.8,\"frequency\":\"Quarterly\",\"series_type\":\"Original\",\"units\":\"Index, 2011/12=100\",\"source\":\"ABS / RBA\",\"pub_date\":\"2025-07-31\",\"series_id\":\"GCPIAG\",\"description\":\"Consumer price index; All groups\",\"table_title\":\"G1 Consumer Price Inflation\"},{\"date\":\"1999-03-31\",\"series\":\"Consumer price index\",\"value\":67.8,\"frequency\":\"Quarterly\",\"series_type\":\"Original\",\"units\":\"Index, 2011/12=100\",\"source\":\"ABS / RBA\",\"pub_date\":\"2025-07-31\",\"series_id\":\"GCPIAG\",\"description\":\"Consumer price index; All groups\",\"table_title\":\"G1 Consumer Price Inflation\"},{\"date\":\"1999-06-30\",\"series\":\"Consumer price index\",\"value\":68.1,\"frequency\":\"Quarterly\",\"series_type\":\"Original\",\"units\":\"Index, 2011/12=100\",\"source\":\"ABS / RBA\",\"pub_date\":\"2025-07-31\",\"series_id\":\"GCPIAG\",\"description\":\"Consumer price index; All groups\",\"table_title\":\"G1 Consumer Price Inflation\"},{\"date\":\"1999-09-30\",\"series\":\"Consumer price index\",\"value\":68.7,\"frequency\":\"Quarterly\",\"series_type\":\"Original\",\"units\":\"Index, 2011/12=100\",\"source\":\"ABS / RBA\",\"pub_date\":\"2025-07-31\",\"series_id\":\"GCPIAG\",\"description\":\"Consumer price index; All groups\",\"table_title\":\"G1 Consumer Price Inflation\"},{\"date\":\"1999-12-31\",\"series\":\"Consumer price index\",\"value\":69.1,\"frequency\":\"Quarterly\",\"series_type\":\"Original\",\"units\":\"Index, 2011/12=100\",\"source\":\"ABS / RBA\",\"pub_date\":\"2025-07-31\",\"series_id\":\"GCPIAG\",\"description\":\"Consumer price index; All groups\",\"table_title\":\"G1 Consumer Price Inflation\"},{\"date\":\"2000-03-31\",\"series\":\"Consumer price index\",\"value\":69.7,\"frequency\":\"Quarterly\",\"series_type\":\"Original\",\"units\":\"Index, 2011/12=100\",\"source\":\"ABS / RBA\",\"pub_date\":\"2025-07-31\",\"series_id\":\"GCPIAG\",\"description\":\"Consumer price index; All groups\",\"table_title\":\"G1 Consumer Price Inflation\"},{\"date\":\"2000-06-30\",\"series\":\"Consumer price index\",\"value\":70.2,\"frequency\":\"Quarterly\",\"series_type\":\"Original\",\"units\":\"Index, 2011/12=100\",\"source\":\"ABS / RBA\",\"pub_date\":\"2025-07-31\",\"series_id\":\"GCPIAG\",\"description\":\"Consumer price index; All groups\",\"table_title\":\"G1 Consumer Price Inflation\"},{\"date\":\"2000-09-30\",\"series\":\"Consumer price index\",\"value\":72.9,\"frequency\":\"Quarterly\",\"series_type\":\"Original\",\"units\":\"Index, 2011/12=100\",\"source\":\"ABS / RBA\",\"pub_date\":\"2025-07-31\",\"series_id\":\"GCPIAG\",\"description\":\"Consumer price index; All groups\",\"table_title\":\"G1 Consumer Price Inflation\"},{\"date\":\"2000-12-31\",\"series\":\"Consumer price index\",\"value\":73.1,\"frequency\":\"Quarterly\",\"series_type\":\"Original\",\"units\":\"Index, 2011/12=100\",\"source\":\"ABS / RBA\",\"pub_date\":\"2025-07-31\",\"series_id\":\"GCPIAG\",\"description\":\"Consumer price index; All groups\",\"table_title\":\"G1 Consumer Price Inflation\"},{\"date\":\"2001-03-31\",\"series\":\"Consumer price index\",\"value\":73.9,\"frequency\":\"Quarterly\",\"series_type\":\"Original\",\"units\":\"Index, 2011/12=100\",\"source\":\"ABS / RBA\",\"pub_date\":\"2025-07-31\",\"series_id\":\"GCPIAG\",\"description\":\"Consumer price index; All groups\",\"table_title\":\"G1 Consumer Price Inflation\"},{\"date\":\"2001-06-30\",\"series\":\"Consumer price index\",\"value\":74.5,\"frequency\":\"Quarterly\",\"series_type\":\"Original\",\"units\":\"Index, 2011/12=100\",\"source\":\"ABS / RBA\",\"pub_date\":\"2025-07-31\",\"series_id\":\"GCPIAG\",\"description\":\"Consumer price index; All groups\",\"table_title\":\"G1 Consumer Price Inflation\"},{\"date\":\"2001-09-30\",\"series\":\"Consumer price index\",\"value\":74.7,\"frequency\":\"Quarterly\",\"series_type\":\"Original\",\"units\":\"Index, 2011/12=100\",\"source\":\"ABS / RBA\",\"pub_date\":\"2025-07-31\",\"series_id\":\"GCPIAG\",\"description\":\"Consumer price index; All groups\",\"table_title\":\"G1 Consumer Price Inflation\"},{\"date\":\"2001-12-31\",\"series\":\"Consumer price index\",\"value\":75.4,\"frequency\":\"Quarterly\",\"series_type\":\"Original\",\"units\":\"Index, 2011/12=100\",\"source\":\"ABS / RBA\",\"pub_date\":\"2025-07-31\",\"series_id\":\"GCPIAG\",\"description\":\"Consumer price index; All groups\",\"table_title\":\"G1 Consumer Price Inflation\"},{\"date\":\"2002-03-31\",\"series\":\"Consumer price index\",\"value\":76.1,\"frequency\":\"Quarterly\",\"series_type\":\"Original\",\"units\":\"Index, 2011/12=100\",\"source\":\"ABS / RBA\",\"pub_date\":\"2025-07-31\",\"series_id\":\"GCPIAG\",\"description\":\"Consumer price index; All groups\",\"table_title\":\"G1 Consumer Price Inflation\"},{\"date\":\"2002-06-30\",\"series\":\"Consumer price index\",\"value\":76.6,\"frequency\":\"Quarterly\",\"series_type\":\"Original\",\"units\":\"Index, 2011/12=100\",\"source\":\"ABS / RBA\",\"pub_date\":\"2025-07-31\",\"series_id\":\"GCPIAG\",\"description\":\"Consumer price index; All groups\",\"table_title\":\"G1 Consumer Price Inflation\"},{\"date\":\"2002-09-30\",\"series\":\"Consumer price index\",\"value\":77.1,\"frequency\":\"Quarterly\",\"series_type\":\"Original\",\"units\":\"Index, 2011/12=100\",\"source\":\"ABS / RBA\",\"pub_date\":\"2025-07-31\",\"series_id\":\"GCPIAG\",\"description\":\"Consumer price index; All groups\",\"table_title\":\"G1 Consumer Price Inflation\"},{\"date\":\"2002-12-31\",\"series\":\"Consumer price index\",\"value\":77.6,\"frequency\":\"Quarterly\",\"series_type\":\"Original\",\"units\":\"Index, 2011/12=100\",\"source\":\"ABS / RBA\",\"pub_date\":\"2025-07-31\",\"series_id\":\"GCPIAG\",\"description\":\"Consumer price index; All groups\",\"table_title\":\"G1 Consumer Price Inflation\"},{\"date\":\"2003-03-31\",\"series\":\"Consumer price index\",\"value\":78.6,\"frequency\":\"Quarterly\",\"series_type\":\"Original\",\"units\":\"Index, 2011/12=100\",\"source\":\"ABS / RBA\",\"pub_date\":\"2025-07-31\",\"series_id\":\"GCPIAG\",\"description\":\"Consumer price index; All groups\",\"table_title\":\"G1 Consumer Price Inflation\"},{\"date\":\"2003-06-30\",\"series\":\"Consumer price index\",\"value\":78.6,\"frequency\":\"Quarterly\",\"series_type\":\"Original\",\"units\":\"Index, 2011/12=100\",\"source\":\"ABS / RBA\",\"pub_date\":\"2025-07-31\",\"series_id\":\"GCPIAG\",\"description\":\"Consumer price index; All groups\",\"table_title\":\"G1 Consumer Price Inflation\"},{\"date\":\"2003-09-30\",\"series\":\"Consumer price index\",\"value\":79.1,\"frequency\":\"Quarterly\",\"series_type\":\"Original\",\"units\":\"Index, 2011/12=100\",\"source\":\"ABS / RBA\",\"pub_date\":\"2025-07-31\",\"series_id\":\"GCPIAG\",\"description\":\"Consumer price index; All groups\",\"table_title\":\"G1 Consumer Price Inflation\"},{\"date\":\"2003-12-31\",\"series\":\"Consumer price index\",\"value\":79.5,\"frequency\":\"Quarterly\",\"series_type\":\"Original\",\"units\":\"Index, 2011/12=100\",\"source\":\"ABS / RBA\",\"pub_date\":\"2025-07-31\",\"series_id\":\"GCPIAG\",\"description\":\"Consumer price index; All groups\",\"table_title\":\"G1 Consumer Price Inflation\"},{\"date\":\"2004-03-31\",\"series\":\"Consumer price index\",\"value\":80.2,\"frequency\":\"Quarterly\",\"series_type\":\"Original\",\"units\":\"Index, 2011/12=100\",\"source\":\"ABS / RBA\",\"pub_date\":\"2025-07-31\",\"series_id\":\"GCPIAG\",\"description\":\"Consumer price index; All groups\",\"table_title\":\"G1 Consumer Price Inflation\"},{\"date\":\"2004-06-30\",\"series\":\"Consumer price index\",\"value\":80.6,\"frequency\":\"Quarterly\",\"series_type\":\"Original\",\"units\":\"Index, 2011/12=100\",\"source\":\"ABS / RBA\",\"pub_date\":\"2025-07-31\",\"series_id\":\"GCPIAG\",\"description\":\"Consumer price index; All groups\",\"table_title\":\"G1 Consumer Price Inflation\"},{\"date\":\"2004-09-30\",\"series\":\"Consumer price index\",\"value\":80.9,\"frequency\":\"Quarterly\",\"series_type\":\"Original\",\"units\":\"Index, 2011/12=100\",\"source\":\"ABS / RBA\",\"pub_date\":\"2025-07-31\",\"series_id\":\"GCPIAG\",\"description\":\"Consumer price index; All groups\",\"table_title\":\"G1 Consumer Price Inflation\"},{\"date\":\"2004-12-31\",\"series\":\"Consumer price index\",\"value\":81.5,\"frequency\":\"Quarterly\",\"series_type\":\"Original\",\"units\":\"Index, 2011/12=100\",\"source\":\"ABS / RBA\",\"pub_date\":\"2025-07-31\",\"series_id\":\"GCPIAG\",\"description\":\"Consumer price index; All groups\",\"table_title\":\"G1 Consumer Price Inflation\"},{\"date\":\"2005-03-31\",\"series\":\"Consumer price index\",\"value\":82.1,\"frequency\":\"Quarterly\",\"series_type\":\"Original\",\"units\":\"Index, 2011/12=100\",\"source\":\"ABS / RBA\",\"pub_date\":\"2025-07-31\",\"series_id\":\"GCPIAG\",\"description\":\"Consumer price index; All groups\",\"table_title\":\"G1 Consumer Price Inflation\"},{\"date\":\"2005-06-30\",\"series\":\"Consumer price index\",\"value\":82.6,\"frequency\":\"Quarterly\",\"series_type\":\"Original\",\"units\":\"Index, 2011/12=100\",\"source\":\"ABS / RBA\",\"pub_date\":\"2025-07-31\",\"series_id\":\"GCPIAG\",\"description\":\"Consumer price index; All groups\",\"table_title\":\"G1 Consumer Price Inflation\"},{\"date\":\"2005-09-30\",\"series\":\"Consumer price index\",\"value\":83.4,\"frequency\":\"Quarterly\",\"series_type\":\"Original\",\"units\":\"Index, 2011/12=100\",\"source\":\"ABS / RBA\",\"pub_date\":\"2025-07-31\",\"series_id\":\"GCPIAG\",\"description\":\"Consumer price index; All groups\",\"table_title\":\"G1 Consumer Price Inflation\"},{\"date\":\"2005-12-31\",\"series\":\"Consumer price index\",\"value\":83.8,\"frequency\":\"Quarterly\",\"series_type\":\"Original\",\"units\":\"Index, 2011/12=100\",\"source\":\"ABS / RBA\",\"pub_date\":\"2025-07-31\",\"series_id\":\"GCPIAG\",\"description\":\"Consumer price index; All groups\",\"table_title\":\"G1 Consumer Price Inflation\"},{\"date\":\"2006-03-31\",\"series\":\"Consumer price index\",\"value\":84.5,\"frequency\":\"Quarterly\",\"series_type\":\"Original\",\"units\":\"Index, 2011/12=100\",\"source\":\"ABS / RBA\",\"pub_date\":\"2025-07-31\",\"series_id\":\"GCPIAG\",\"description\":\"Consumer price index; All groups\",\"table_title\":\"G1 Consumer Price Inflation\"},{\"date\":\"2006-06-30\",\"series\":\"Consumer price index\",\"value\":85.9,\"frequency\":\"Quarterly\",\"series_type\":\"Original\",\"units\":\"Index, 2011/12=100\",\"source\":\"ABS / RBA\",\"pub_date\":\"2025-07-31\",\"series_id\":\"GCPIAG\",\"description\":\"Consumer price index; All groups\",\"table_title\":\"G1 Consumer Price Inflation\"},{\"date\":\"2006-09-30\",\"series\":\"Consumer price index\",\"value\":86.7,\"frequency\":\"Quarterly\",\"series_type\":\"Original\",\"units\":\"Index, 2011/12=100\",\"source\":\"ABS / RBA\",\"pub_date\":\"2025-07-31\",\"series_id\":\"GCPIAG\",\"description\":\"Consumer price index; All groups\",\"table_title\":\"G1 Consumer Price Inflation\"},{\"date\":\"2006-12-31\",\"series\":\"Consumer price index\",\"value\":86.6,\"frequency\":\"Quarterly\",\"series_type\":\"Original\",\"units\":\"Index, 2011/12=100\",\"source\":\"ABS / RBA\",\"pub_date\":\"2025-07-31\",\"series_id\":\"GCPIAG\",\"description\":\"Consumer price index; All groups\",\"table_title\":\"G1 Consumer Price Inflation\"},{\"date\":\"2007-03-31\",\"series\":\"Consumer price index\",\"value\":86.6,\"frequency\":\"Quarterly\",\"series_type\":\"Original\",\"units\":\"Index, 2011/12=100\",\"source\":\"ABS / RBA\",\"pub_date\":\"2025-07-31\",\"series_id\":\"GCPIAG\",\"description\":\"Consumer price index; All groups\",\"table_title\":\"G1 Consumer Price Inflation\"},{\"date\":\"2007-06-30\",\"series\":\"Consumer price index\",\"value\":87.7,\"frequency\":\"Quarterly\",\"series_type\":\"Original\",\"units\":\"Index, 2011/12=100\",\"source\":\"ABS / RBA\",\"pub_date\":\"2025-07-31\",\"series_id\":\"GCPIAG\",\"description\":\"Consumer price index; All groups\",\"table_title\":\"G1 Consumer Price Inflation\"},{\"date\":\"2007-09-30\",\"series\":\"Consumer price index\",\"value\":88.3,\"frequency\":\"Quarterly\",\"series_type\":\"Original\",\"units\":\"Index, 2011/12=100\",\"source\":\"ABS / RBA\",\"pub_date\":\"2025-07-31\",\"series_id\":\"GCPIAG\",\"description\":\"Consumer price index; All groups\",\"table_title\":\"G1 Consumer Price Inflation\"},{\"date\":\"2007-12-31\",\"series\":\"Consumer price index\",\"value\":89.1,\"frequency\":\"Quarterly\",\"series_type\":\"Original\",\"units\":\"Index, 2011/12=100\",\"source\":\"ABS / RBA\",\"pub_date\":\"2025-07-31\",\"series_id\":\"GCPIAG\",\"description\":\"Consumer price index; All groups\",\"table_title\":\"G1 Consumer Price Inflation\"},{\"date\":\"2008-03-31\",\"series\":\"Consumer price index\",\"value\":90.3,\"frequency\":\"Quarterly\",\"series_type\":\"Original\",\"units\":\"Index, 2011/12=100\",\"source\":\"ABS / RBA\",\"pub_date\":\"2025-07-31\",\"series_id\":\"GCPIAG\",\"description\":\"Consumer price index; All groups\",\"table_title\":\"G1 Consumer Price Inflation\"},{\"date\":\"2008-06-30\",\"series\":\"Consumer price index\",\"value\":91.6,\"frequency\":\"Quarterly\",\"series_type\":\"Original\",\"units\":\"Index, 2011/12=100\",\"source\":\"ABS / RBA\",\"pub_date\":\"2025-07-31\",\"series_id\":\"GCPIAG\",\"description\":\"Consumer price index; All groups\",\"table_title\":\"G1 Consumer Price Inflation\"},{\"date\":\"2008-09-30\",\"series\":\"Consumer price index\",\"value\":92.7,\"frequency\":\"Quarterly\",\"series_type\":\"Original\",\"units\":\"Index, 2011/12=100\",\"source\":\"ABS / RBA\",\"pub_date\":\"2025-07-31\",\"series_id\":\"GCPIAG\",\"description\":\"Consumer price index; All groups\",\"table_title\":\"G1 Consumer Price Inflation\"},{\"date\":\"2008-12-31\",\"series\":\"Consumer price index\",\"value\":92.4,\"frequency\":\"Quarterly\",\"series_type\":\"Original\",\"units\":\"Index, 2011/12=100\",\"source\":\"ABS / RBA\",\"pub_date\":\"2025-07-31\",\"series_id\":\"GCPIAG\",\"description\":\"Consumer price index; All groups\",\"table_title\":\"G1 Consumer Price Inflation\"},{\"date\":\"2009-03-31\",\"series\":\"Consumer price index\",\"value\":92.5,\"frequency\":\"Quarterly\",\"series_type\":\"Original\",\"units\":\"Index, 2011/12=100\",\"source\":\"ABS / RBA\",\"pub_date\":\"2025-07-31\",\"series_id\":\"GCPIAG\",\"description\":\"Consumer price index; All groups\",\"table_title\":\"G1 Consumer Price Inflation\"},{\"date\":\"2009-06-30\",\"series\":\"Consumer price index\",\"value\":92.9,\"frequency\":\"Quarterly\",\"series_type\":\"Original\",\"units\":\"Index, 2011/12=100\",\"source\":\"ABS / RBA\",\"pub_date\":\"2025-07-31\",\"series_id\":\"GCPIAG\",\"description\":\"Consumer price index; All groups\",\"table_title\":\"G1 Consumer Price Inflation\"},{\"date\":\"2009-09-30\",\"series\":\"Consumer price index\",\"value\":93.8,\"frequency\":\"Quarterly\",\"series_type\":\"Original\",\"units\":\"Index, 2011/12=100\",\"source\":\"ABS / RBA\",\"pub_date\":\"2025-07-31\",\"series_id\":\"GCPIAG\",\"description\":\"Consumer price index; All groups\",\"table_title\":\"G1 Consumer Price Inflation\"},{\"date\":\"2009-12-31\",\"series\":\"Consumer price index\",\"value\":94.3,\"frequency\":\"Quarterly\",\"series_type\":\"Original\",\"units\":\"Index, 2011/12=100\",\"source\":\"ABS / RBA\",\"pub_date\":\"2025-07-31\",\"series_id\":\"GCPIAG\",\"description\":\"Consumer price index; All groups\",\"table_title\":\"G1 Consumer Price Inflation\"},{\"date\":\"2010-03-31\",\"series\":\"Consumer price index\",\"value\":95.2,\"frequency\":\"Quarterly\",\"series_type\":\"Original\",\"units\":\"Index, 2011/12=100\",\"source\":\"ABS / RBA\",\"pub_date\":\"2025-07-31\",\"series_id\":\"GCPIAG\",\"description\":\"Consumer price index; All groups\",\"table_title\":\"G1 Consumer Price Inflation\"},{\"date\":\"2010-06-30\",\"series\":\"Consumer price index\",\"value\":95.8,\"frequency\":\"Quarterly\",\"series_type\":\"Original\",\"units\":\"Index, 2011/12=100\",\"source\":\"ABS / RBA\",\"pub_date\":\"2025-07-31\",\"series_id\":\"GCPIAG\",\"description\":\"Consumer price index; All groups\",\"table_title\":\"G1 Consumer Price Inflation\"},{\"date\":\"2010-09-30\",\"series\":\"Consumer price index\",\"value\":96.5,\"frequency\":\"Quarterly\",\"series_type\":\"Original\",\"units\":\"Index, 2011/12=100\",\"source\":\"ABS / RBA\",\"pub_date\":\"2025-07-31\",\"series_id\":\"GCPIAG\",\"description\":\"Consumer price index; All groups\",\"table_title\":\"G1 Consumer Price Inflation\"},{\"date\":\"2010-12-31\",\"series\":\"Consumer price index\",\"value\":96.9,\"frequency\":\"Quarterly\",\"series_type\":\"Original\",\"units\":\"Index, 2011/12=100\",\"source\":\"ABS / RBA\",\"pub_date\":\"2025-07-31\",\"series_id\":\"GCPIAG\",\"description\":\"Consumer price index; All groups\",\"table_title\":\"G1 Consumer Price Inflation\"},{\"date\":\"2011-03-31\",\"series\":\"Consumer price index\",\"value\":98.3,\"frequency\":\"Quarterly\",\"series_type\":\"Original\",\"units\":\"Index, 2011/12=100\",\"source\":\"ABS / RBA\",\"pub_date\":\"2025-07-31\",\"series_id\":\"GCPIAG\",\"description\":\"Consumer price index; All groups\",\"table_title\":\"G1 Consumer Price Inflation\"},{\"date\":\"2011-06-30\",\"series\":\"Consumer price index\",\"value\":99.2,\"frequency\":\"Quarterly\",\"series_type\":\"Original\",\"units\":\"Index, 2011/12=100\",\"source\":\"ABS / RBA\",\"pub_date\":\"2025-07-31\",\"series_id\":\"GCPIAG\",\"description\":\"Consumer price index; All groups\",\"table_title\":\"G1 Consumer Price Inflation\"},{\"date\":\"2011-09-30\",\"series\":\"Consumer price index\",\"value\":99.8,\"frequency\":\"Quarterly\",\"series_type\":\"Original\",\"units\":\"Index, 2011/12=100\",\"source\":\"ABS / RBA\",\"pub_date\":\"2025-07-31\",\"series_id\":\"GCPIAG\",\"description\":\"Consumer price index; All groups\",\"table_title\":\"G1 Consumer Price Inflation\"},{\"date\":\"2011-12-31\",\"series\":\"Consumer price index\",\"value\":99.8,\"frequency\":\"Quarterly\",\"series_type\":\"Original\",\"units\":\"Index, 2011/12=100\",\"source\":\"ABS / RBA\",\"pub_date\":\"2025-07-31\",\"series_id\":\"GCPIAG\",\"description\":\"Consumer price index; All groups\",\"table_title\":\"G1 Consumer Price Inflation\"},{\"date\":\"2012-03-31\",\"series\":\"Consumer price index\",\"value\":99.9,\"frequency\":\"Quarterly\",\"series_type\":\"Original\",\"units\":\"Index, 2011/12=100\",\"source\":\"ABS / RBA\",\"pub_date\":\"2025-07-31\",\"series_id\":\"GCPIAG\",\"description\":\"Consumer price index; All groups\",\"table_title\":\"G1 Consumer Price Inflation\"},{\"date\":\"2012-06-30\",\"series\":\"Consumer price index\",\"value\":100.4,\"frequency\":\"Quarterly\",\"series_type\":\"Original\",\"units\":\"Index, 2011/12=100\",\"source\":\"ABS / RBA\",\"pub_date\":\"2025-07-31\",\"series_id\":\"GCPIAG\",\"description\":\"Consumer price index; All groups\",\"table_title\":\"G1 Consumer Price Inflation\"},{\"date\":\"2012-09-30\",\"series\":\"Consumer price index\",\"value\":101.8,\"frequency\":\"Quarterly\",\"series_type\":\"Original\",\"units\":\"Index, 2011/12=100\",\"source\":\"ABS / RBA\",\"pub_date\":\"2025-07-31\",\"series_id\":\"GCPIAG\",\"description\":\"Consumer price index; All groups\",\"table_title\":\"G1 Consumer Price Inflation\"},{\"date\":\"2012-12-31\",\"series\":\"Consumer price index\",\"value\":102,\"frequency\":\"Quarterly\",\"series_type\":\"Original\",\"units\":\"Index, 2011/12=100\",\"source\":\"ABS / RBA\",\"pub_date\":\"2025-07-31\",\"series_id\":\"GCPIAG\",\"description\":\"Consumer price index; All groups\",\"table_title\":\"G1 Consumer Price Inflation\"},{\"date\":\"2013-03-31\",\"series\":\"Consumer price index\",\"value\":102.4,\"frequency\":\"Quarterly\",\"series_type\":\"Original\",\"units\":\"Index, 2011/12=100\",\"source\":\"ABS / RBA\",\"pub_date\":\"2025-07-31\",\"series_id\":\"GCPIAG\",\"description\":\"Consumer price index; All groups\",\"table_title\":\"G1 Consumer Price Inflation\"},{\"date\":\"2013-06-30\",\"series\":\"Consumer price index\",\"value\":102.8,\"frequency\":\"Quarterly\",\"series_type\":\"Original\",\"units\":\"Index, 2011/12=100\",\"source\":\"ABS / RBA\",\"pub_date\":\"2025-07-31\",\"series_id\":\"GCPIAG\",\"description\":\"Consumer price index; All groups\",\"table_title\":\"G1 Consumer Price Inflation\"},{\"date\":\"2013-09-30\",\"series\":\"Consumer price index\",\"value\":104,\"frequency\":\"Quarterly\",\"series_type\":\"Original\",\"units\":\"Index, 2011/12=100\",\"source\":\"ABS / RBA\",\"pub_date\":\"2025-07-31\",\"series_id\":\"GCPIAG\",\"description\":\"Consumer price index; All groups\",\"table_title\":\"G1 Consumer Price Inflation\"},{\"date\":\"2013-12-31\",\"series\":\"Consumer price index\",\"value\":104.8,\"frequency\":\"Quarterly\",\"series_type\":\"Original\",\"units\":\"Index, 2011/12=100\",\"source\":\"ABS / RBA\",\"pub_date\":\"2025-07-31\",\"series_id\":\"GCPIAG\",\"description\":\"Consumer price index; All groups\",\"table_title\":\"G1 Consumer Price Inflation\"},{\"date\":\"2014-03-31\",\"series\":\"Consumer price index\",\"value\":105.4,\"frequency\":\"Quarterly\",\"series_type\":\"Original\",\"units\":\"Index, 2011/12=100\",\"source\":\"ABS / RBA\",\"pub_date\":\"2025-07-31\",\"series_id\":\"GCPIAG\",\"description\":\"Consumer price index; All groups\",\"table_title\":\"G1 Consumer Price Inflation\"},{\"date\":\"2014-06-30\",\"series\":\"Consumer price index\",\"value\":105.9,\"frequency\":\"Quarterly\",\"series_type\":\"Original\",\"units\":\"Index, 2011/12=100\",\"source\":\"ABS / RBA\",\"pub_date\":\"2025-07-31\",\"series_id\":\"GCPIAG\",\"description\":\"Consumer price index; All groups\",\"table_title\":\"G1 Consumer Price Inflation\"},{\"date\":\"2014-09-30\",\"series\":\"Consumer price index\",\"value\":106.4,\"frequency\":\"Quarterly\",\"series_type\":\"Original\",\"units\":\"Index, 2011/12=100\",\"source\":\"ABS / RBA\",\"pub_date\":\"2025-07-31\",\"series_id\":\"GCPIAG\",\"description\":\"Consumer price index; All groups\",\"table_title\":\"G1 Consumer Price Inflation\"},{\"date\":\"2014-12-31\",\"series\":\"Consumer price index\",\"value\":106.6,\"frequency\":\"Quarterly\",\"series_type\":\"Original\",\"units\":\"Index, 2011/12=100\",\"source\":\"ABS / RBA\",\"pub_date\":\"2025-07-31\",\"series_id\":\"GCPIAG\",\"description\":\"Consumer price index; All groups\",\"table_title\":\"G1 Consumer Price Inflation\"},{\"date\":\"2015-03-31\",\"series\":\"Consumer price index\",\"value\":106.8,\"frequency\":\"Quarterly\",\"series_type\":\"Original\",\"units\":\"Index, 2011/12=100\",\"source\":\"ABS / RBA\",\"pub_date\":\"2025-07-31\",\"series_id\":\"GCPIAG\",\"description\":\"Consumer price index; All groups\",\"table_title\":\"G1 Consumer Price Inflation\"},{\"date\":\"2015-06-30\",\"series\":\"Consumer price index\",\"value\":107.5,\"frequency\":\"Quarterly\",\"series_type\":\"Original\",\"units\":\"Index, 2011/12=100\",\"source\":\"ABS / RBA\",\"pub_date\":\"2025-07-31\",\"series_id\":\"GCPIAG\",\"description\":\"Consumer price index; All groups\",\"table_title\":\"G1 Consumer Price Inflation\"},{\"date\":\"2015-09-30\",\"series\":\"Consumer price index\",\"value\":108,\"frequency\":\"Quarterly\",\"series_type\":\"Original\",\"units\":\"Index, 2011/12=100\",\"source\":\"ABS / RBA\",\"pub_date\":\"2025-07-31\",\"series_id\":\"GCPIAG\",\"description\":\"Consumer price index; All groups\",\"table_title\":\"G1 Consumer Price Inflation\"},{\"date\":\"2015-12-31\",\"series\":\"Consumer price index\",\"value\":108.4,\"frequency\":\"Quarterly\",\"series_type\":\"Original\",\"units\":\"Index, 2011/12=100\",\"source\":\"ABS / RBA\",\"pub_date\":\"2025-07-31\",\"series_id\":\"GCPIAG\",\"description\":\"Consumer price index; All groups\",\"table_title\":\"G1 Consumer Price Inflation\"},{\"date\":\"2016-03-31\",\"series\":\"Consumer price index\",\"value\":108.2,\"frequency\":\"Quarterly\",\"series_type\":\"Original\",\"units\":\"Index, 2011/12=100\",\"source\":\"ABS / RBA\",\"pub_date\":\"2025-07-31\",\"series_id\":\"GCPIAG\",\"description\":\"Consumer price index; All groups\",\"table_title\":\"G1 Consumer Price Inflation\"},{\"date\":\"2016-06-30\",\"series\":\"Consumer price index\",\"value\":108.6,\"frequency\":\"Quarterly\",\"series_type\":\"Original\",\"units\":\"Index, 2011/12=100\",\"source\":\"ABS / RBA\",\"pub_date\":\"2025-07-31\",\"series_id\":\"GCPIAG\",\"description\":\"Consumer price index; All groups\",\"table_title\":\"G1 Consumer Price Inflation\"},{\"date\":\"2016-09-30\",\"series\":\"Consumer price index\",\"value\":109.4,\"frequency\":\"Quarterly\",\"series_type\":\"Original\",\"units\":\"Index, 2011/12=100\",\"source\":\"ABS / RBA\",\"pub_date\":\"2025-07-31\",\"series_id\":\"GCPIAG\",\"description\":\"Consumer price index; All groups\",\"table_title\":\"G1 Consumer Price Inflation\"},{\"date\":\"2016-12-31\",\"series\":\"Consumer price index\",\"value\":110,\"frequency\":\"Quarterly\",\"series_type\":\"Original\",\"units\":\"Index, 2011/12=100\",\"source\":\"ABS / RBA\",\"pub_date\":\"2025-07-31\",\"series_id\":\"GCPIAG\",\"description\":\"Consumer price index; All groups\",\"table_title\":\"G1 Consumer Price Inflation\"},{\"date\":\"2017-03-31\",\"series\":\"Consumer price index\",\"value\":110.5,\"frequency\":\"Quarterly\",\"series_type\":\"Original\",\"units\":\"Index, 2011/12=100\",\"source\":\"ABS / RBA\",\"pub_date\":\"2025-07-31\",\"series_id\":\"GCPIAG\",\"description\":\"Consumer price index; All groups\",\"table_title\":\"G1 Consumer Price Inflation\"},{\"date\":\"2017-06-30\",\"series\":\"Consumer price index\",\"value\":110.7,\"frequency\":\"Quarterly\",\"series_type\":\"Original\",\"units\":\"Index, 2011/12=100\",\"source\":\"ABS / RBA\",\"pub_date\":\"2025-07-31\",\"series_id\":\"GCPIAG\",\"description\":\"Consumer price index; All groups\",\"table_title\":\"G1 Consumer Price Inflation\"},{\"date\":\"2017-09-30\",\"series\":\"Consumer price index\",\"value\":111.4,\"frequency\":\"Quarterly\",\"series_type\":\"Original\",\"units\":\"Index, 2011/12=100\",\"source\":\"ABS / RBA\",\"pub_date\":\"2025-07-31\",\"series_id\":\"GCPIAG\",\"description\":\"Consumer price index; All groups\",\"table_title\":\"G1 Consumer Price Inflation\"},{\"date\":\"2017-12-31\",\"series\":\"Consumer price index\",\"value\":112.1,\"frequency\":\"Quarterly\",\"series_type\":\"Original\",\"units\":\"Index, 2011/12=100\",\"source\":\"ABS / RBA\",\"pub_date\":\"2025-07-31\",\"series_id\":\"GCPIAG\",\"description\":\"Consumer price index; All groups\",\"table_title\":\"G1 Consumer Price Inflation\"},{\"date\":\"2018-03-31\",\"series\":\"Consumer price index\",\"value\":112.6,\"frequency\":\"Quarterly\",\"series_type\":\"Original\",\"units\":\"Index, 2011/12=100\",\"source\":\"ABS / RBA\",\"pub_date\":\"2025-07-31\",\"series_id\":\"GCPIAG\",\"description\":\"Consumer price index; All groups\",\"table_title\":\"G1 Consumer Price Inflation\"},{\"date\":\"2018-06-30\",\"series\":\"Consumer price index\",\"value\":113,\"frequency\":\"Quarterly\",\"series_type\":\"Original\",\"units\":\"Index, 2011/12=100\",\"source\":\"ABS / RBA\",\"pub_date\":\"2025-07-31\",\"series_id\":\"GCPIAG\",\"description\":\"Consumer price index; All groups\",\"table_title\":\"G1 Consumer Price Inflation\"},{\"date\":\"2018-09-30\",\"series\":\"Consumer price index\",\"value\":113.5,\"frequency\":\"Quarterly\",\"series_type\":\"Original\",\"units\":\"Index, 2011/12=100\",\"source\":\"ABS / RBA\",\"pub_date\":\"2025-07-31\",\"series_id\":\"GCPIAG\",\"description\":\"Consumer price index; All groups\",\"table_title\":\"G1 Consumer Price Inflation\"},{\"date\":\"2018-12-31\",\"series\":\"Consumer price index\",\"value\":114.1,\"frequency\":\"Quarterly\",\"series_type\":\"Original\",\"units\":\"Index, 2011/12=100\",\"source\":\"ABS / RBA\",\"pub_date\":\"2025-07-31\",\"series_id\":\"GCPIAG\",\"description\":\"Consumer price index; All groups\",\"table_title\":\"G1 Consumer Price Inflation\"},{\"date\":\"2019-03-31\",\"series\":\"Consumer price index\",\"value\":114.1,\"frequency\":\"Quarterly\",\"series_type\":\"Original\",\"units\":\"Index, 2011/12=100\",\"source\":\"ABS / RBA\",\"pub_date\":\"2025-07-31\",\"series_id\":\"GCPIAG\",\"description\":\"Consumer price index; All groups\",\"table_title\":\"G1 Consumer Price Inflation\"},{\"date\":\"2019-06-30\",\"series\":\"Consumer price index\",\"value\":114.8,\"frequency\":\"Quarterly\",\"series_type\":\"Original\",\"units\":\"Index, 2011/12=100\",\"source\":\"ABS / RBA\",\"pub_date\":\"2025-07-31\",\"series_id\":\"GCPIAG\",\"description\":\"Consumer price index; All groups\",\"table_title\":\"G1 Consumer Price Inflation\"},{\"date\":\"2019-09-30\",\"series\":\"Consumer price index\",\"value\":115.4,\"frequency\":\"Quarterly\",\"series_type\":\"Original\",\"units\":\"Index, 2011/12=100\",\"source\":\"ABS / RBA\",\"pub_date\":\"2025-07-31\",\"series_id\":\"GCPIAG\",\"description\":\"Consumer price index; All groups\",\"table_title\":\"G1 Consumer Price Inflation\"},{\"date\":\"2019-12-31\",\"series\":\"Consumer price index\",\"value\":116.2,\"frequency\":\"Quarterly\",\"series_type\":\"Original\",\"units\":\"Index, 2011/12=100\",\"source\":\"ABS / RBA\",\"pub_date\":\"2025-07-31\",\"series_id\":\"GCPIAG\",\"description\":\"Consumer price index; All groups\",\"table_title\":\"G1 Consumer Price Inflation\"},{\"date\":\"2020-03-31\",\"series\":\"Consumer price index\",\"value\":116.6,\"frequency\":\"Quarterly\",\"series_type\":\"Original\",\"units\":\"Index, 2011/12=100\",\"source\":\"ABS / RBA\",\"pub_date\":\"2025-07-31\",\"series_id\":\"GCPIAG\",\"description\":\"Consumer price index; All groups\",\"table_title\":\"G1 Consumer Price Inflation\"},{\"date\":\"2020-06-30\",\"series\":\"Consumer price index\",\"value\":114.4,\"frequency\":\"Quarterly\",\"series_type\":\"Original\",\"units\":\"Index, 2011/12=100\",\"source\":\"ABS / RBA\",\"pub_date\":\"2025-07-31\",\"series_id\":\"GCPIAG\",\"description\":\"Consumer price index; All groups\",\"table_title\":\"G1 Consumer Price Inflation\"},{\"date\":\"2020-09-30\",\"series\":\"Consumer price index\",\"value\":116.2,\"frequency\":\"Quarterly\",\"series_type\":\"Original\",\"units\":\"Index, 2011/12=100\",\"source\":\"ABS / RBA\",\"pub_date\":\"2025-07-31\",\"series_id\":\"GCPIAG\",\"description\":\"Consumer price index; All groups\",\"table_title\":\"G1 Consumer Price Inflation\"},{\"date\":\"2020-12-31\",\"series\":\"Consumer price index\",\"value\":117.2,\"frequency\":\"Quarterly\",\"series_type\":\"Original\",\"units\":\"Index, 2011/12=100\",\"source\":\"ABS / RBA\",\"pub_date\":\"2025-07-31\",\"series_id\":\"GCPIAG\",\"description\":\"Consumer price index; All groups\",\"table_title\":\"G1 Consumer Price Inflation\"},{\"date\":\"2021-03-31\",\"series\":\"Consumer price index\",\"value\":117.9,\"frequency\":\"Quarterly\",\"series_type\":\"Original\",\"units\":\"Index, 2011/12=100\",\"source\":\"ABS / RBA\",\"pub_date\":\"2025-07-31\",\"series_id\":\"GCPIAG\",\"description\":\"Consumer price index; All groups\",\"table_title\":\"G1 Consumer Price Inflation\"},{\"date\":\"2021-06-30\",\"series\":\"Consumer price index\",\"value\":118.8,\"frequency\":\"Quarterly\",\"series_type\":\"Original\",\"units\":\"Index, 2011/12=100\",\"source\":\"ABS / RBA\",\"pub_date\":\"2025-07-31\",\"series_id\":\"GCPIAG\",\"description\":\"Consumer price index; All groups\",\"table_title\":\"G1 Consumer Price Inflation\"},{\"date\":\"2021-09-30\",\"series\":\"Consumer price index\",\"value\":119.7,\"frequency\":\"Quarterly\",\"series_type\":\"Original\",\"units\":\"Index, 2011/12=100\",\"source\":\"ABS / RBA\",\"pub_date\":\"2025-07-31\",\"series_id\":\"GCPIAG\",\"description\":\"Consumer price index; All groups\",\"table_title\":\"G1 Consumer Price Inflation\"},{\"date\":\"2021-12-31\",\"series\":\"Consumer price index\",\"value\":121.3,\"frequency\":\"Quarterly\",\"series_type\":\"Original\",\"units\":\"Index, 2011/12=100\",\"source\":\"ABS / RBA\",\"pub_date\":\"2025-07-31\",\"series_id\":\"GCPIAG\",\"description\":\"Consumer price index; All groups\",\"table_title\":\"G1 Consumer Price Inflation\"},{\"date\":\"2022-03-31\",\"series\":\"Consumer price index\",\"value\":123.9,\"frequency\":\"Quarterly\",\"series_type\":\"Original\",\"units\":\"Index, 2011/12=100\",\"source\":\"ABS / RBA\",\"pub_date\":\"2025-07-31\",\"series_id\":\"GCPIAG\",\"description\":\"Consumer price index; All groups\",\"table_title\":\"G1 Consumer Price Inflation\"},{\"date\":\"2022-06-30\",\"series\":\"Consumer price index\",\"value\":126.1,\"frequency\":\"Quarterly\",\"series_type\":\"Original\",\"units\":\"Index, 2011/12=100\",\"source\":\"ABS / RBA\",\"pub_date\":\"2025-07-31\",\"series_id\":\"GCPIAG\",\"description\":\"Consumer price index; All groups\",\"table_title\":\"G1 Consumer Price Inflation\"},{\"date\":\"2022-09-30\",\"series\":\"Consumer price index\",\"value\":128.4,\"frequency\":\"Quarterly\",\"series_type\":\"Original\",\"units\":\"Index, 2011/12=100\",\"source\":\"ABS / RBA\",\"pub_date\":\"2025-07-31\",\"series_id\":\"GCPIAG\",\"description\":\"Consumer price index; All groups\",\"table_title\":\"G1 Consumer Price Inflation\"},{\"date\":\"2022-12-31\",\"series\":\"Consumer price index\",\"value\":130.8,\"frequency\":\"Quarterly\",\"series_type\":\"Original\",\"units\":\"Index, 2011/12=100\",\"source\":\"ABS / RBA\",\"pub_date\":\"2025-07-31\",\"series_id\":\"GCPIAG\",\"description\":\"Consumer price index; All groups\",\"table_title\":\"G1 Consumer Price Inflation\"},{\"date\":\"2023-03-31\",\"series\":\"Consumer price index\",\"value\":132.6,\"frequency\":\"Quarterly\",\"series_type\":\"Original\",\"units\":\"Index, 2011/12=100\",\"source\":\"ABS / RBA\",\"pub_date\":\"2025-07-31\",\"series_id\":\"GCPIAG\",\"description\":\"Consumer price index; All groups\",\"table_title\":\"G1 Consumer Price Inflation\"},{\"date\":\"2023-06-30\",\"series\":\"Consumer price index\",\"value\":133.7,\"frequency\":\"Quarterly\",\"series_type\":\"Original\",\"units\":\"Index, 2011/12=100\",\"source\":\"ABS / RBA\",\"pub_date\":\"2025-07-31\",\"series_id\":\"GCPIAG\",\"description\":\"Consumer price index; All groups\",\"table_title\":\"G1 Consumer Price Inflation\"},{\"date\":\"2023-09-30\",\"series\":\"Consumer price index\",\"value\":135.3,\"frequency\":\"Quarterly\",\"series_type\":\"Original\",\"units\":\"Index, 2011/12=100\",\"source\":\"ABS / RBA\",\"pub_date\":\"2025-07-31\",\"series_id\":\"GCPIAG\",\"description\":\"Consumer price index; All groups\",\"table_title\":\"G1 Consumer Price Inflation\"},{\"date\":\"2023-12-31\",\"series\":\"Consumer price index\",\"value\":136.1,\"frequency\":\"Quarterly\",\"series_type\":\"Original\",\"units\":\"Index, 2011/12=100\",\"source\":\"ABS / RBA\",\"pub_date\":\"2025-07-31\",\"series_id\":\"GCPIAG\",\"description\":\"Consumer price index; All groups\",\"table_title\":\"G1 Consumer Price Inflation\"},{\"date\":\"2024-03-31\",\"series\":\"Consumer price index\",\"value\":137.4,\"frequency\":\"Quarterly\",\"series_type\":\"Original\",\"units\":\"Index, 2011/12=100\",\"source\":\"ABS / RBA\",\"pub_date\":\"2025-07-31\",\"series_id\":\"GCPIAG\",\"description\":\"Consumer price index; All groups\",\"table_title\":\"G1 Consumer Price Inflation\"},{\"date\":\"2024-06-30\",\"series\":\"Consumer price index\",\"value\":138.8,\"frequency\":\"Quarterly\",\"series_type\":\"Original\",\"units\":\"Index, 2011/12=100\",\"source\":\"ABS / RBA\",\"pub_date\":\"2025-07-31\",\"series_id\":\"GCPIAG\",\"description\":\"Consumer price index; All groups\",\"table_title\":\"G1 Consumer Price Inflation\"},{\"date\":\"2024-09-30\",\"series\":\"Consumer price index\",\"value\":139.1,\"frequency\":\"Quarterly\",\"series_type\":\"Original\",\"units\":\"Index, 2011/12=100\",\"source\":\"ABS / RBA\",\"pub_date\":\"2025-07-31\",\"series_id\":\"GCPIAG\",\"description\":\"Consumer price index; All groups\",\"table_title\":\"G1 Consumer Price Inflation\"},{\"date\":\"2024-12-31\",\"series\":\"Consumer price index\",\"value\":139.4,\"frequency\":\"Quarterly\",\"series_type\":\"Original\",\"units\":\"Index, 2011/12=100\",\"source\":\"ABS / RBA\",\"pub_date\":\"2025-07-31\",\"series_id\":\"GCPIAG\",\"description\":\"Consumer price index; All groups\",\"table_title\":\"G1 Consumer Price Inflation\"},{\"date\":\"2025-03-31\",\"series\":\"Consumer price index\",\"value\":140.7,\"frequency\":\"Quarterly\",\"series_type\":\"Original\",\"units\":\"Index, 2011/12=100\",\"source\":\"ABS / RBA\",\"pub_date\":\"2025-07-31\",\"series_id\":\"GCPIAG\",\"description\":\"Consumer price index; All groups\",\"table_title\":\"G1 Consumer Price Inflation\"},{\"date\":\"2025-06-30\",\"series\":\"Consumer price index\",\"value\":141.7,\"frequency\":\"Quarterly\",\"series_type\":\"Original\",\"units\":\"Index, 2011/12=100\",\"source\":\"ABS / RBA\",\"pub_date\":\"2025-07-31\",\"series_id\":\"GCPIAG\",\"description\":\"Consumer price index; All groups\",\"table_title\":\"G1 Consumer Price Inflation\"}] \n",
      "\n",
      "\n",
      "           date                series  value  frequency series_type  \\\n",
      "0    1922-06-30  Consumer price index    2.8  Quarterly    Original   \n",
      "1    1922-09-30  Consumer price index    2.8  Quarterly    Original   \n",
      "2    1922-12-31  Consumer price index    2.7  Quarterly    Original   \n",
      "3    1923-03-31  Consumer price index    2.7  Quarterly    Original   \n",
      "4    1923-06-30  Consumer price index    2.8  Quarterly    Original   \n",
      "..          ...                   ...    ...        ...         ...   \n",
      "408  2024-06-30  Consumer price index  138.8  Quarterly    Original   \n",
      "409  2024-09-30  Consumer price index  139.1  Quarterly    Original   \n",
      "410  2024-12-31  Consumer price index  139.4  Quarterly    Original   \n",
      "411  2025-03-31  Consumer price index  140.7  Quarterly    Original   \n",
      "412  2025-06-30  Consumer price index  141.7  Quarterly    Original   \n",
      "\n",
      "                  units     source    pub_date series_id  \\\n",
      "0    Index, 2011/12=100  ABS / RBA  2025-07-31    GCPIAG   \n",
      "1    Index, 2011/12=100  ABS / RBA  2025-07-31    GCPIAG   \n",
      "2    Index, 2011/12=100  ABS / RBA  2025-07-31    GCPIAG   \n",
      "3    Index, 2011/12=100  ABS / RBA  2025-07-31    GCPIAG   \n",
      "4    Index, 2011/12=100  ABS / RBA  2025-07-31    GCPIAG   \n",
      "..                  ...        ...         ...       ...   \n",
      "408  Index, 2011/12=100  ABS / RBA  2025-07-31    GCPIAG   \n",
      "409  Index, 2011/12=100  ABS / RBA  2025-07-31    GCPIAG   \n",
      "410  Index, 2011/12=100  ABS / RBA  2025-07-31    GCPIAG   \n",
      "411  Index, 2011/12=100  ABS / RBA  2025-07-31    GCPIAG   \n",
      "412  Index, 2011/12=100  ABS / RBA  2025-07-31    GCPIAG   \n",
      "\n",
      "                          description                  table_title  \n",
      "0    Consumer price index; All groups  G1 Consumer Price Inflation  \n",
      "1    Consumer price index; All groups  G1 Consumer Price Inflation  \n",
      "2    Consumer price index; All groups  G1 Consumer Price Inflation  \n",
      "3    Consumer price index; All groups  G1 Consumer Price Inflation  \n",
      "4    Consumer price index; All groups  G1 Consumer Price Inflation  \n",
      "..                                ...                          ...  \n",
      "408  Consumer price index; All groups  G1 Consumer Price Inflation  \n",
      "409  Consumer price index; All groups  G1 Consumer Price Inflation  \n",
      "410  Consumer price index; All groups  G1 Consumer Price Inflation  \n",
      "411  Consumer price index; All groups  G1 Consumer Price Inflation  \n",
      "412  Consumer price index; All groups  G1 Consumer Price Inflation  \n",
      "\n",
      "[413 rows x 11 columns]\n",
      "Data pull successful for GCPIAG from rba_series.\n",
      "Processing metadata for GCPIAG, series_meta type: <class 'pandas.core.series.Series'>\n",
      "Raw metadata sample: start_date               1922-06-30\n",
      "series         Consumer price index\n",
      "frequency                 Quarterly\n",
      "series_type                Original\n",
      "units            Index, 2011/12=100\n",
      "Name: GCPIAG, dtype: object\n",
      "Creating CommonMetadata for GCPIAG...\n",
      "Data type: <class 'pandas.core.series.Series'>, Metadata type: <class 'pandas.core.series.Series'>\n",
      "CommonMetadata created successfully for GCPIAG\n",
      "Common metadata for concatenation: \n",
      " id                                           GCPIAG\n",
      "title                          Consumer price index\n",
      "units                            Index, 2011/12=100\n",
      "series_type                                Original\n",
      "data_type                                      None\n",
      "frequency                                 Quarterly\n",
      "frequency_short                                   Q\n",
      "original_source                                None\n",
      "source                                   rba_series\n",
      "description        Consumer price index; All groups\n",
      "start_date                               1922-06-30\n",
      "end_date                                       None\n",
      "last_updated                    2025-07-31 00:00:00\n",
      "min_value                                       2.3\n",
      "max_value                                     141.7\n",
      "length                                          413\n",
      "units_short                                    None\n",
      "dtype: object\n",
      "Successfully processed metadata for GCPIAG\n",
      "Attempting data pull for series id: AUSCPIALLQINMEI, from source: fred,\n",
      " start_date: 1600-01-01), exchange_code: None\n",
      "Looking for data from source:  fred data code:  AUSCPIALLQINMEI\n",
      "FRED API response:  200\n",
      "Data pull successful for AUSCPIALLQINMEI from fred.\n",
      "Processing metadata for AUSCPIALLQINMEI, series_meta type: <class 'pandas.core.series.Series'>\n",
      "Raw metadata sample: id                                                     AUSCPIALLQINMEI\n",
      "realtime_start                                              2025-08-30\n",
      "realtime_end                                                2025-08-30\n",
      "title                Consumer Price Indices (CPIs, HICPs), COICOP 1...\n",
      "observation_start                                           1948-07-01\n",
      "Name: AUSCPIALLQINMEI, dtype: object\n",
      "Creating CommonMetadata for AUSCPIALLQINMEI...\n",
      "Data type: <class 'pandas.core.series.Series'>, Metadata type: <class 'pandas.core.series.Series'>\n",
      "CommonMetadata created successfully for AUSCPIALLQINMEI\n",
      "Common metadata for concatenation: \n",
      " id                                                   AUSCPIALLQINMEI\n",
      "title              Consumer Price Indices (CPIs, HICPs), COICOP 1...\n",
      "units                                                 Index 2015=100\n",
      "series_type                                                     None\n",
      "data_type                                                       None\n",
      "frequency                                                  Quarterly\n",
      "frequency_short                                                    Q\n",
      "original_source                                                 None\n",
      "source                                                          fred\n",
      "description        OECD Data Filters: \\nREF_AREA: AUS\\nMEASURE: C...\n",
      "start_date                                                1948-07-01\n",
      "end_date                                                  2025-01-01\n",
      "last_updated                               2025-05-15 14:17:42-05:00\n",
      "min_value                                                   3.436267\n",
      "max_value                                                    130.671\n",
      "length                                                           307\n",
      "units_short                                           Index 2015=100\n",
      "dtype: object\n",
      "Successfully processed metadata for AUSCPIALLQINMEI\n",
      "Attempting data pull for series id: AUSCPALTT01IXNBQ, from source: fred,\n",
      " start_date: 1600-01-01), exchange_code: None\n",
      "Looking for data from source:  fred data code:  AUSCPALTT01IXNBQ\n",
      "FRED API response:  200\n",
      "Data pull successful for AUSCPALTT01IXNBQ from fred.\n",
      "Processing metadata for AUSCPALTT01IXNBQ, series_meta type: <class 'pandas.core.series.Series'>\n",
      "Raw metadata sample: id                                                    AUSCPALTT01IXNBQ\n",
      "realtime_start                                              2025-08-30\n",
      "realtime_end                                                2025-08-30\n",
      "title                Consumer Price Index: All Items: Total for Aus...\n",
      "observation_start                                           1960-01-01\n",
      "Name: AUSCPALTT01IXNBQ, dtype: object\n",
      "Creating CommonMetadata for AUSCPALTT01IXNBQ...\n",
      "Data type: <class 'pandas.core.series.Series'>, Metadata type: <class 'pandas.core.series.Series'>\n",
      "CommonMetadata created successfully for AUSCPALTT01IXNBQ\n",
      "Common metadata for concatenation: \n",
      " id                                                  AUSCPALTT01IXNBQ\n",
      "title              Consumer Price Index: All Items: Total for Aus...\n",
      "units                                              Index source base\n",
      "series_type                                                     None\n",
      "data_type                                                       None\n",
      "frequency                                                  Quarterly\n",
      "frequency_short                                                    Q\n",
      "original_source                                                 None\n",
      "source                                                          fred\n",
      "description        OECD Descriptor ID: CPALTT01\\nOECD unit ID: ID...\n",
      "start_date                                                1960-01-01\n",
      "end_date                                                  2023-07-01\n",
      "last_updated                               2023-11-17 12:00:08-06:00\n",
      "min_value                                                        7.5\n",
      "max_value                                                      135.3\n",
      "length                                                           255\n",
      "units_short                                        Index source base\n",
      "dtype: object\n",
      "Successfully processed metadata for AUSCPALTT01IXNBQ\n",
      "Attempting data pull for series id: A83728606K, from source: abs_series,\n",
      " start_date: 1600-01-01), exchange_code: None\n",
      "Looking for data from source:  abs_series data code:  A83728606K\n",
      "[1] \"643201\"\n",
      "The name of the table that was downloaded from ABS and saved to directory: /home/imbobbilly/Documents/Coding/Bootleg_Macro/User_Data/ABS/LastPull, is: 643201.xlsx\n",
      "ABS series created with name: Value of dwelling stock Owned by All Sectors   New South Wales\n",
      "ABS series title set to: Value of dwelling stock Owned by All Sectors   New South Wales\n",
      "Data pull successful for A83728606K from abs_series.\n",
      "Processing metadata for A83728606K, series_meta type: <class 'pandas.core.series.Series'>\n",
      "Raw metadata sample: Unit                $ Millions\n",
      "Series Type           Original\n",
      "Data Type                STOCK\n",
      "Frequency              Quarter\n",
      "Collection Month             3\n",
      "Name: A83728606K, dtype: object\n",
      "Creating CommonMetadata for A83728606K...\n",
      "Data type: <class 'pandas.core.series.Series'>, Metadata type: <class 'pandas.core.series.Series'>\n",
      "CommonMetadata created successfully for A83728606K\n",
      "Common metadata for concatenation: \n",
      " id                                                        A83728606K\n",
      "title              Value of dwelling stock Owned by All Sectors  ...\n",
      "units                                                     $ Millions\n",
      "series_type                                                 Original\n",
      "data_type                                                      STOCK\n",
      "frequency                                                    Quarter\n",
      "frequency_short                                                    Q\n",
      "original_source                                                 None\n",
      "source                                                    abs_series\n",
      "description                                                     None\n",
      "start_date                                                2011-09-01\n",
      "end_date                                                  2025-03-01\n",
      "last_updated                                                    None\n",
      "min_value                                                  1523085.2\n",
      "max_value                                                  4360880.7\n",
      "length                                                            55\n",
      "units_short                                                     None\n",
      "dtype: object\n",
      "Successfully processed metadata for A83728606K\n",
      "Attempting data pull for series id: A83728611C, from source: abs_series,\n",
      " start_date: 1600-01-01), exchange_code: None\n",
      "Looking for data from source:  abs_series data code:  A83728611C\n",
      "[1] \"643201\"\n",
      "The name of the table that was downloaded from ABS and saved to directory: /home/imbobbilly/Documents/Coding/Bootleg_Macro/User_Data/ABS/LastPull, is: 643201.xlsx\n",
      "ABS series created with name: Value of dwelling stock Owned by All Sectors   Victoria\n",
      "ABS series title set to: Value of dwelling stock Owned by All Sectors   Victoria\n",
      "Data pull successful for A83728611C from abs_series.\n",
      "Processing metadata for A83728611C, series_meta type: <class 'pandas.core.series.Series'>\n",
      "Raw metadata sample: Unit                $ Millions\n",
      "Series Type           Original\n",
      "Data Type                STOCK\n",
      "Frequency              Quarter\n",
      "Collection Month             3\n",
      "Name: A83728611C, dtype: object\n",
      "Creating CommonMetadata for A83728611C...\n",
      "Data type: <class 'pandas.core.series.Series'>, Metadata type: <class 'pandas.core.series.Series'>\n",
      "CommonMetadata created successfully for A83728611C\n",
      "Common metadata for concatenation: \n",
      " id                                                        A83728611C\n",
      "title              Value of dwelling stock Owned by All Sectors  ...\n",
      "units                                                     $ Millions\n",
      "series_type                                                 Original\n",
      "data_type                                                      STOCK\n",
      "frequency                                                    Quarter\n",
      "frequency_short                                                    Q\n",
      "original_source                                                 None\n",
      "source                                                    abs_series\n",
      "description                                                     None\n",
      "start_date                                                2011-09-01\n",
      "end_date                                                  2025-03-01\n",
      "last_updated                                                    None\n",
      "min_value                                                  1135768.6\n",
      "max_value                                                  2684319.0\n",
      "length                                                            55\n",
      "units_short                                                     None\n",
      "dtype: object\n",
      "Successfully processed metadata for A83728611C\n",
      "Attempting data pull for series id: A83728616R, from source: abs_series,\n",
      " start_date: 1600-01-01), exchange_code: None\n",
      "Looking for data from source:  abs_series data code:  A83728616R\n",
      "[1] \"643201\"\n",
      "The name of the table that was downloaded from ABS and saved to directory: /home/imbobbilly/Documents/Coding/Bootleg_Macro/User_Data/ABS/LastPull, is: 643201.xlsx\n",
      "ABS series created with name: Value of dwelling stock Owned by All Sectors   Queensland\n",
      "ABS series title set to: Value of dwelling stock Owned by All Sectors   Queensland\n",
      "Data pull successful for A83728616R from abs_series.\n",
      "Processing metadata for A83728616R, series_meta type: <class 'pandas.core.series.Series'>\n",
      "Raw metadata sample: Unit                $ Millions\n",
      "Series Type           Original\n",
      "Data Type                STOCK\n",
      "Frequency              Quarter\n",
      "Collection Month             3\n",
      "Name: A83728616R, dtype: object\n",
      "Creating CommonMetadata for A83728616R...\n",
      "Data type: <class 'pandas.core.series.Series'>, Metadata type: <class 'pandas.core.series.Series'>\n",
      "CommonMetadata created successfully for A83728616R\n",
      "Common metadata for concatenation: \n",
      " id                                                        A83728616R\n",
      "title              Value of dwelling stock Owned by All Sectors  ...\n",
      "units                                                     $ Millions\n",
      "series_type                                                 Original\n",
      "data_type                                                      STOCK\n",
      "frequency                                                    Quarter\n",
      "frequency_short                                                    Q\n",
      "original_source                                                 None\n",
      "source                                                    abs_series\n",
      "description                                                     None\n",
      "start_date                                                2011-09-01\n",
      "end_date                                                  2025-03-01\n",
      "last_updated                                                    None\n",
      "min_value                                                   758686.5\n",
      "max_value                                                  2153470.5\n",
      "length                                                            55\n",
      "units_short                                                     None\n",
      "dtype: object\n",
      "Successfully processed metadata for A83728616R\n",
      "Attempting data pull for series id: A83728545T, from source: abs_series,\n",
      " start_date: 1600-01-01), exchange_code: None\n",
      "Looking for data from source:  abs_series data code:  A83728545T\n",
      "[1] \"643202\"\n",
      "The name of the table that was downloaded from ABS and saved to directory: /home/imbobbilly/Documents/Coding/Bootleg_Macro/User_Data/ABS/LastPull, is: 643202.xlsx\n",
      "ABS series created with name: Median Price of Established House Transfers (Unstratified)   Sydney\n",
      "ABS series title set to: Median Price of Established House Transfers (Unstratified)   Sydney\n",
      "Data pull successful for A83728545T from abs_series.\n",
      "Processing metadata for A83728545T, series_meta type: <class 'pandas.core.series.Series'>\n",
      "Raw metadata sample: Unit                   $'000\n",
      "Series Type         Original\n",
      "Data Type               FLOW\n",
      "Frequency            Quarter\n",
      "Collection Month           3\n",
      "Name: A83728545T, dtype: object\n",
      "Creating CommonMetadata for A83728545T...\n",
      "Data type: <class 'pandas.core.series.Series'>, Metadata type: <class 'pandas.core.series.Series'>\n",
      "CommonMetadata created successfully for A83728545T\n",
      "Common metadata for concatenation: \n",
      " id                                                        A83728545T\n",
      "title              Median Price of Established House Transfers (U...\n",
      "units                                                          $'000\n",
      "series_type                                                 Original\n",
      "data_type                                                       FLOW\n",
      "frequency                                                    Quarter\n",
      "frequency_short                                                    Q\n",
      "original_source                                                 None\n",
      "source                                                    abs_series\n",
      "description                                                     None\n",
      "start_date                                                2002-03-01\n",
      "end_date                                                  2025-03-01\n",
      "last_updated                                                    None\n",
      "min_value                                                      365.0\n",
      "max_value                                                     1460.0\n",
      "length                                                            93\n",
      "units_short                                                     None\n",
      "dtype: object\n",
      "Successfully processed metadata for A83728545T\n",
      "Attempting data pull for series id: A83728546V, from source: abs_series,\n",
      " start_date: 1600-01-01), exchange_code: None\n",
      "Looking for data from source:  abs_series data code:  A83728546V\n",
      "[1] \"643202\"\n",
      "The name of the table that was downloaded from ABS and saved to directory: /home/imbobbilly/Documents/Coding/Bootleg_Macro/User_Data/ABS/LastPull, is: 643202.xlsx\n",
      "ABS series created with name: Median Price of Attached Dwelling Transfers (Unstratified)   Sydney\n",
      "ABS series title set to: Median Price of Attached Dwelling Transfers (Unstratified)   Sydney\n",
      "Data pull successful for A83728546V from abs_series.\n",
      "Processing metadata for A83728546V, series_meta type: <class 'pandas.core.series.Series'>\n",
      "Raw metadata sample: Unit                   $'000\n",
      "Series Type         Original\n",
      "Data Type               FLOW\n",
      "Frequency            Quarter\n",
      "Collection Month           3\n",
      "Name: A83728546V, dtype: object\n",
      "Creating CommonMetadata for A83728546V...\n",
      "Data type: <class 'pandas.core.series.Series'>, Metadata type: <class 'pandas.core.series.Series'>\n",
      "CommonMetadata created successfully for A83728546V\n",
      "Common metadata for concatenation: \n",
      " id                                                        A83728546V\n",
      "title              Median Price of Attached Dwelling Transfers (U...\n",
      "units                                                          $'000\n",
      "series_type                                                 Original\n",
      "data_type                                                       FLOW\n",
      "frequency                                                    Quarter\n",
      "frequency_short                                                    Q\n",
      "original_source                                                 None\n",
      "source                                                    abs_series\n",
      "description                                                     None\n",
      "start_date                                                2003-09-01\n",
      "end_date                                                  2025-03-01\n",
      "last_updated                                                    None\n",
      "min_value                                                      371.0\n",
      "max_value                                                      820.0\n",
      "length                                                            87\n",
      "units_short                                                     None\n",
      "dtype: object\n",
      "Successfully processed metadata for A83728546V\n",
      "Attempting data pull for series id: A83728607L, from source: abs_series,\n",
      " start_date: 1600-01-01), exchange_code: None\n",
      "Looking for data from source:  abs_series data code:  A83728607L\n",
      "[1] \"643201\"\n",
      "The name of the table that was downloaded from ABS and saved to directory: /home/imbobbilly/Documents/Coding/Bootleg_Macro/User_Data/ABS/LastPull, is: 643201.xlsx\n",
      "ABS series created with name: Mean price of residential dwellings   New South Wales\n",
      "ABS series title set to: Mean price of residential dwellings   New South Wales\n",
      "Data pull successful for A83728607L from abs_series.\n",
      "Processing metadata for A83728607L, series_meta type: <class 'pandas.core.series.Series'>\n",
      "Raw metadata sample: Unit                   $'000\n",
      "Series Type         Original\n",
      "Data Type            AVERAGE\n",
      "Frequency            Quarter\n",
      "Collection Month           3\n",
      "Name: A83728607L, dtype: object\n",
      "Creating CommonMetadata for A83728607L...\n",
      "Data type: <class 'pandas.core.series.Series'>, Metadata type: <class 'pandas.core.series.Series'>\n",
      "CommonMetadata created successfully for A83728607L\n",
      "Common metadata for concatenation: \n",
      " id                                                        A83728607L\n",
      "title              Mean price of residential dwellings   New Sout...\n",
      "units                                                          $'000\n",
      "series_type                                                 Original\n",
      "data_type                                                    AVERAGE\n",
      "frequency                                                    Quarter\n",
      "frequency_short                                                    Q\n",
      "original_source                                                 None\n",
      "source                                                    abs_series\n",
      "description                                                     None\n",
      "start_date                                                2011-09-01\n",
      "end_date                                                  2025-03-01\n",
      "last_updated                                                    None\n",
      "min_value                                                      535.3\n",
      "max_value                                                     1245.9\n",
      "length                                                            55\n",
      "units_short                                                     None\n",
      "dtype: object\n",
      "Successfully processed metadata for A83728607L\n",
      "Attempting data pull for series id: A83728605J, from source: abs_series,\n",
      " start_date: 1600-01-01), exchange_code: None\n",
      "Looking for data from source:  abs_series data code:  A83728605J\n",
      "[1] \"643201\"\n",
      "The name of the table that was downloaded from ABS and saved to directory: /home/imbobbilly/Documents/Coding/Bootleg_Macro/User_Data/ABS/LastPull, is: 643201.xlsx\n",
      "ABS series created with name: Number of residential dwellings   New South Wales\n",
      "ABS series title set to: Number of residential dwellings   New South Wales\n",
      "Data pull successful for A83728605J from abs_series.\n",
      "Processing metadata for A83728605J, series_meta type: <class 'pandas.core.series.Series'>\n",
      "Raw metadata sample: Unit                     000\n",
      "Series Type         Original\n",
      "Data Type              STOCK\n",
      "Frequency            Quarter\n",
      "Collection Month           3\n",
      "Name: A83728605J, dtype: object\n",
      "Creating CommonMetadata for A83728605J...\n",
      "Data type: <class 'pandas.core.series.Series'>, Metadata type: <class 'pandas.core.series.Series'>\n",
      "CommonMetadata created successfully for A83728605J\n",
      "Common metadata for concatenation: \n",
      " id                                                        A83728605J\n",
      "title              Number of residential dwellings   New South Wales\n",
      "units                                                            000\n",
      "series_type                                                 Original\n",
      "data_type                                                      STOCK\n",
      "frequency                                                    Quarter\n",
      "frequency_short                                                    Q\n",
      "original_source                                                 None\n",
      "source                                                    abs_series\n",
      "description                                                     None\n",
      "start_date                                                2011-09-01\n",
      "end_date                                                  2025-03-01\n",
      "last_updated                                                    None\n",
      "min_value                                                     2839.0\n",
      "max_value                                                     3500.2\n",
      "length                                                            55\n",
      "units_short                                                     None\n",
      "dtype: object\n",
      "Successfully processed metadata for A83728605J\n",
      "Attempting data pull for series id: A83728543L, from source: abs_series,\n",
      " start_date: 1600-01-01), exchange_code: None\n",
      "Looking for data from source:  abs_series data code:  A83728543L\n",
      "[1] \"643202\"\n",
      "The name of the table that was downloaded from ABS and saved to directory: /home/imbobbilly/Documents/Coding/Bootleg_Macro/User_Data/ABS/LastPull, is: 643202.xlsx\n",
      "ABS series created with name: Number of Established House Transfers   Sydney\n",
      "ABS series title set to: Number of Established House Transfers   Sydney\n",
      "Data pull successful for A83728543L from abs_series.\n",
      "Processing metadata for A83728543L, series_meta type: <class 'pandas.core.series.Series'>\n",
      "Raw metadata sample: Unit                  Number\n",
      "Series Type         Original\n",
      "Data Type               FLOW\n",
      "Frequency            Quarter\n",
      "Collection Month           3\n",
      "Name: A83728543L, dtype: object\n",
      "Creating CommonMetadata for A83728543L...\n",
      "Data type: <class 'pandas.core.series.Series'>, Metadata type: <class 'pandas.core.series.Series'>\n",
      "CommonMetadata created successfully for A83728543L\n",
      "Common metadata for concatenation: \n",
      " id                                                     A83728543L\n",
      "title              Number of Established House Transfers   Sydney\n",
      "units                                                      Number\n",
      "series_type                                              Original\n",
      "data_type                                                    FLOW\n",
      "frequency                                                 Quarter\n",
      "frequency_short                                                 Q\n",
      "original_source                                              None\n",
      "source                                                 abs_series\n",
      "description                                                  None\n",
      "start_date                                             2002-03-01\n",
      "end_date                                               2025-03-01\n",
      "last_updated                                                 None\n",
      "min_value                                                  8565.0\n",
      "max_value                                                 17458.0\n",
      "length                                                         93\n",
      "units_short                                                  None\n",
      "dtype: object\n",
      "Successfully processed metadata for A83728543L\n",
      "Attempting data pull for series id: A2422340L, from source: abs_series,\n",
      " start_date: 1600-01-01), exchange_code: None\n",
      "Looking for data from source:  abs_series data code:  A2422340L\n",
      "[1] \"5204049_income_dwelling_rent\"\n",
      "The name of the table that was downloaded from ABS and saved to directory: /home/imbobbilly/Documents/Coding/Bootleg_Macro/User_Data/ABS/LastPull, is: 5204049_income_dwelling_rent.xlsx\n",
      "ABS series created with name: Gross rent - Imputed rent for owner-occupiers\n",
      "ABS series title set to: Gross rent - Imputed rent for owner-occupiers\n",
      "Data pull successful for A2422340L from abs_series.\n",
      "Processing metadata for A2422340L, series_meta type: <class 'pandas.core.series.Series'>\n",
      "Raw metadata sample: Unit                $ Millions\n",
      "Series Type           Original\n",
      "Data Type              DERIVED\n",
      "Frequency               Annual\n",
      "Collection Month             6\n",
      "Name: A2422340L, dtype: object\n",
      "Creating CommonMetadata for A2422340L...\n",
      "Data type: <class 'pandas.core.series.Series'>, Metadata type: <class 'pandas.core.series.Series'>\n",
      "CommonMetadata created successfully for A2422340L\n",
      "Common metadata for concatenation: \n",
      " id                                                     A2422340L\n",
      "title              Gross rent - Imputed rent for owner-occupiers\n",
      "units                                                 $ Millions\n",
      "series_type                                             Original\n",
      "data_type                                                DERIVED\n",
      "frequency                                                 Annual\n",
      "frequency_short                                                A\n",
      "original_source                                             None\n",
      "source                                                abs_series\n",
      "description                                                 None\n",
      "start_date                                            1990-06-01\n",
      "end_date                                              2024-06-01\n",
      "last_updated                                                None\n",
      "min_value                                                28248.0\n",
      "max_value                                               215571.0\n",
      "length                                                        35\n",
      "units_short                                                 None\n",
      "dtype: object\n",
      "Successfully processed metadata for A2422340L\n",
      "Attempting data pull for series id: A2422341R, from source: abs_series,\n",
      " start_date: 1600-01-01), exchange_code: None\n",
      "Looking for data from source:  abs_series data code:  A2422341R\n",
      "[1] \"5204049_income_dwelling_rent\"\n",
      "The name of the table that was downloaded from ABS and saved to directory: /home/imbobbilly/Documents/Coding/Bootleg_Macro/User_Data/ABS/LastPull, is: 5204049_income_dwelling_rent.xlsx\n",
      "ABS series created with name: Gross rent - Actual rent for housing\n",
      "ABS series title set to: Gross rent - Actual rent for housing\n",
      "Data pull successful for A2422341R from abs_series.\n",
      "Processing metadata for A2422341R, series_meta type: <class 'pandas.core.series.Series'>\n",
      "Raw metadata sample: Unit                $ Millions\n",
      "Series Type           Original\n",
      "Data Type              DERIVED\n",
      "Frequency               Annual\n",
      "Collection Month             6\n",
      "Name: A2422341R, dtype: object\n",
      "Creating CommonMetadata for A2422341R...\n",
      "Data type: <class 'pandas.core.series.Series'>, Metadata type: <class 'pandas.core.series.Series'>\n",
      "CommonMetadata created successfully for A2422341R\n",
      "Common metadata for concatenation: \n",
      " id                                            A2422341R\n",
      "title              Gross rent - Actual rent for housing\n",
      "units                                        $ Millions\n",
      "series_type                                    Original\n",
      "data_type                                       DERIVED\n",
      "frequency                                        Annual\n",
      "frequency_short                                       A\n",
      "original_source                                    None\n",
      "source                                       abs_series\n",
      "description                                        None\n",
      "start_date                                   1990-06-01\n",
      "end_date                                     2024-06-01\n",
      "last_updated                                       None\n",
      "min_value                                       10524.0\n",
      "max_value                                       70932.0\n",
      "length                                               35\n",
      "units_short                                        None\n",
      "dtype: object\n",
      "Successfully processed metadata for A2422341R\n",
      "Attempting data pull for series id: A2422342T, from source: abs_series,\n",
      " start_date: 1600-01-01), exchange_code: None\n",
      "Looking for data from source:  abs_series data code:  A2422342T\n",
      "[1] \"5204049_income_dwelling_rent\"\n",
      "The name of the table that was downloaded from ABS and saved to directory: /home/imbobbilly/Documents/Coding/Bootleg_Macro/User_Data/ABS/LastPull, is: 5204049_income_dwelling_rent.xlsx\n",
      "ABS series created with name: Total gross rent\n",
      "ABS series title set to: Total gross rent\n",
      "Data pull successful for A2422342T from abs_series.\n",
      "Processing metadata for A2422342T, series_meta type: <class 'pandas.core.series.Series'>\n",
      "Raw metadata sample: Unit                $ Millions\n",
      "Series Type           Original\n",
      "Data Type              DERIVED\n",
      "Frequency               Annual\n",
      "Collection Month             6\n",
      "Name: A2422342T, dtype: object\n",
      "Creating CommonMetadata for A2422342T...\n",
      "Data type: <class 'pandas.core.series.Series'>, Metadata type: <class 'pandas.core.series.Series'>\n",
      "CommonMetadata created successfully for A2422342T\n",
      "Common metadata for concatenation: \n",
      " id                        A2422342T\n",
      "title              Total gross rent\n",
      "units                    $ Millions\n",
      "series_type                Original\n",
      "data_type                   DERIVED\n",
      "frequency                    Annual\n",
      "frequency_short                   A\n",
      "original_source                None\n",
      "source                   abs_series\n",
      "description                    None\n",
      "start_date               1990-06-01\n",
      "end_date                 2024-06-01\n",
      "last_updated                   None\n",
      "min_value                   38772.0\n",
      "max_value                  286503.0\n",
      "length                           35\n",
      "units_short                    None\n",
      "dtype: object\n",
      "Successfully processed metadata for A2422342T\n",
      "Attempting data pull for series id: A2326751F, from source: abs_series,\n",
      " start_date: 1600-01-01), exchange_code: None\n",
      "Looking for data from source:  abs_series data code:  A2326751F\n",
      "[1] \"640107\"\n",
      "The name of the table that was downloaded from ABS and saved to directory: /home/imbobbilly/Documents/Coding/Bootleg_Macro/User_Data/ABS/LastPull, is: 640107.xlsx\n",
      "Error pulling data for A2326751F from abs_series. Exception: 'Index Numbers   Tobacco   Sydney'\n",
      "Final metadata shape: (17, 27)\n",
      "Final metadata columns: ['australia/corelogic-dwelling-prices-mom', 'australia/core-inflation-rate', 'australia/building-permits', 'australia/average-house-prices', 'australia/residential-property-prices', 'australia/gdp', 'australia/government-debt-to-gdp', 'australia/gdp-constant-prices', 'australia/private-debt-to-gdp', 'australia/government-spending-to-gdp', 'australia/households-debt-to-gdp', 'australia/population', 'A128478317T', 'GCPIAG', 'AUSCPIALLQINMEI', 'AUSCPALTT01IXNBQ', 'A83728606K', 'A83728611C', 'A83728616R', 'A83728545T', 'A83728546V', 'A83728607L', 'A83728605J', 'A83728543L', 'A2422340L', 'A2422341R', 'A2422342T']\n",
      "Duplicate indexes found in watchlist & will be dropped:  []\n",
      "Duplicate columns found in metadata & will be dropped:  []\n",
      "Running watchlist update_metadata method.....\n",
      "Error determining frequency for series:  A2326751F . Exception:  cannot infer freq from a non-convertible index of dtype int64\n",
      "Renamed series AUSCPALTT01IXNBQ to: Consumer Price Index: All Items: Total for Australia\n",
      "Renamed series AUSCPIALLQINMEI to: Consumer Price Indices (CPIs, HICPs), COICOP 1999: Consumer Price Index: Total for Australia\n",
      "Saving watchlist data to Excel file... save name:  housing_aus  to path:  /home/imbobbilly/Documents/Coding/Bootleg_Macro/User_Data/Watchlists watchlist name:  housing_aus save path:  /home/imbobbilly/Documents/Coding/Bootleg_Macro/User_Data/Watchlists/housing_aus/housing_aus.xlsx save directory:  /home/imbobbilly/Documents/Coding/Bootleg_Macro/User_Data/Watchlists/housing_aus\n",
      "Garbage collection: 5080 objects unreachable.\n",
      "Saved watchlist datasets to .h5s database... save name:  housing_aus\n"
     ]
    }
   ],
   "source": [
    "watched.get_watchlist_data() #(id_list=[\"A128478317T\", \"GCPIAG\", \"AUSCPIALLQINMEI\", \"AUSCPALTT01IXNBQ\"])"
   ]
  },
  {
   "cell_type": "code",
   "execution_count": 7,
   "metadata": {},
   "outputs": [
    {
     "data": {
      "text/html": [
       "<div>\n",
       "<style scoped>\n",
       "    .dataframe tbody tr th:only-of-type {\n",
       "        vertical-align: middle;\n",
       "    }\n",
       "\n",
       "    .dataframe tbody tr th {\n",
       "        vertical-align: top;\n",
       "    }\n",
       "\n",
       "    .dataframe thead th {\n",
       "        text-align: right;\n",
       "    }\n",
       "</style>\n",
       "<table border=\"1\" class=\"dataframe\">\n",
       "  <thead>\n",
       "    <tr style=\"text-align: right;\">\n",
       "      <th></th>\n",
       "      <th>australia/corelogic-dwelling-prices-mom</th>\n",
       "      <th>australia/core-inflation-rate</th>\n",
       "      <th>australia/building-permits</th>\n",
       "      <th>australia/average-house-prices</th>\n",
       "      <th>australia/residential-property-prices</th>\n",
       "      <th>australia/gdp</th>\n",
       "      <th>australia/government-debt-to-gdp</th>\n",
       "      <th>australia/gdp-constant-prices</th>\n",
       "      <th>australia/private-debt-to-gdp</th>\n",
       "      <th>australia/government-spending-to-gdp</th>\n",
       "      <th>...</th>\n",
       "      <th>A83728616R</th>\n",
       "      <th>A83728545T</th>\n",
       "      <th>A83728546V</th>\n",
       "      <th>A83728607L</th>\n",
       "      <th>A83728605J</th>\n",
       "      <th>A83728543L</th>\n",
       "      <th>A2422340L</th>\n",
       "      <th>A2422341R</th>\n",
       "      <th>A2422342T</th>\n",
       "      <th>A2326751F</th>\n",
       "    </tr>\n",
       "  </thead>\n",
       "  <tbody>\n",
       "    <tr>\n",
       "      <th>id</th>\n",
       "      <td>australia/corelogic-dwelling-prices-mom</td>\n",
       "      <td>australia/core-inflation-rate</td>\n",
       "      <td>australia/building-permits</td>\n",
       "      <td>australia/average-house-prices</td>\n",
       "      <td>australia/residential-property-prices</td>\n",
       "      <td>australia/gdp</td>\n",
       "      <td>australia/government-debt-to-gdp</td>\n",
       "      <td>australia/gdp-constant-prices</td>\n",
       "      <td>australia/private-debt-to-gdp</td>\n",
       "      <td>australia/government-spending-to-gdp</td>\n",
       "      <td>...</td>\n",
       "      <td>A83728616R</td>\n",
       "      <td>A83728545T</td>\n",
       "      <td>A83728546V</td>\n",
       "      <td>A83728607L</td>\n",
       "      <td>A83728605J</td>\n",
       "      <td>A83728543L</td>\n",
       "      <td>A2422340L</td>\n",
       "      <td>A2422341R</td>\n",
       "      <td>A2422342T</td>\n",
       "      <td>NaN</td>\n",
       "    </tr>\n",
       "    <tr>\n",
       "      <th>title</th>\n",
       "      <td>Australia Cotality Dwelling Prices MoM</td>\n",
       "      <td>Australia RBA Trimmed Mean CPI YoY</td>\n",
       "      <td>Australia Building Permits</td>\n",
       "      <td>Australia Mean Dwelling Price</td>\n",
       "      <td>Australia Residential Property Prices</td>\n",
       "      <td>Australia GDP</td>\n",
       "      <td>Australia Government Net Debt to GDP</td>\n",
       "      <td>Australia GDP Constant Prices</td>\n",
       "      <td>Australia Private Debt to GDP</td>\n",
       "      <td>Australia Government Spending To GDP</td>\n",
       "      <td>...</td>\n",
       "      <td>Value of dwelling stock Owned by All Sectors  ...</td>\n",
       "      <td>Median Price of Established House Transfers (U...</td>\n",
       "      <td>Median Price of Attached Dwelling Transfers (U...</td>\n",
       "      <td>Mean price of residential dwellings   New Sout...</td>\n",
       "      <td>Number of residential dwellings   New South Wales</td>\n",
       "      <td>Number of Established House Transfers   Sydney</td>\n",
       "      <td>Gross rent - Imputed rent for owner-occupiers</td>\n",
       "      <td>Gross rent - Actual rent for housing</td>\n",
       "      <td>Total gross rent</td>\n",
       "      <td>NaN</td>\n",
       "    </tr>\n",
       "    <tr>\n",
       "      <th>units</th>\n",
       "      <td>%</td>\n",
       "      <td>%</td>\n",
       "      <td>units</td>\n",
       "      <td>AUD Thousand</td>\n",
       "      <td>%</td>\n",
       "      <td>USD Billion</td>\n",
       "      <td>percent of GDP</td>\n",
       "      <td>AUD Million</td>\n",
       "      <td>%</td>\n",
       "      <td>percent of GDP</td>\n",
       "      <td>...</td>\n",
       "      <td>$ Millions</td>\n",
       "      <td>$'000</td>\n",
       "      <td>$'000</td>\n",
       "      <td>$'000</td>\n",
       "      <td>000</td>\n",
       "      <td>Number</td>\n",
       "      <td>$ Millions</td>\n",
       "      <td>$ Millions</td>\n",
       "      <td>$ Millions</td>\n",
       "      <td>NaN</td>\n",
       "    </tr>\n",
       "    <tr>\n",
       "      <th>series_type</th>\n",
       "      <td>None</td>\n",
       "      <td>None</td>\n",
       "      <td>None</td>\n",
       "      <td>None</td>\n",
       "      <td>None</td>\n",
       "      <td>None</td>\n",
       "      <td>None</td>\n",
       "      <td>None</td>\n",
       "      <td>None</td>\n",
       "      <td>None</td>\n",
       "      <td>...</td>\n",
       "      <td>Original</td>\n",
       "      <td>Original</td>\n",
       "      <td>Original</td>\n",
       "      <td>Original</td>\n",
       "      <td>Original</td>\n",
       "      <td>Original</td>\n",
       "      <td>Original</td>\n",
       "      <td>Original</td>\n",
       "      <td>Original</td>\n",
       "      <td>NaN</td>\n",
       "    </tr>\n",
       "    <tr>\n",
       "      <th>data_type</th>\n",
       "      <td>None</td>\n",
       "      <td>None</td>\n",
       "      <td>None</td>\n",
       "      <td>None</td>\n",
       "      <td>None</td>\n",
       "      <td>None</td>\n",
       "      <td>None</td>\n",
       "      <td>None</td>\n",
       "      <td>None</td>\n",
       "      <td>None</td>\n",
       "      <td>...</td>\n",
       "      <td>STOCK</td>\n",
       "      <td>FLOW</td>\n",
       "      <td>FLOW</td>\n",
       "      <td>AVERAGE</td>\n",
       "      <td>STOCK</td>\n",
       "      <td>FLOW</td>\n",
       "      <td>DERIVED</td>\n",
       "      <td>DERIVED</td>\n",
       "      <td>DERIVED</td>\n",
       "      <td>NaN</td>\n",
       "    </tr>\n",
       "    <tr>\n",
       "      <th>frequency</th>\n",
       "      <td>MS</td>\n",
       "      <td>QS-DEC</td>\n",
       "      <td>MS</td>\n",
       "      <td>QS-DEC</td>\n",
       "      <td>QS-DEC</td>\n",
       "      <td>YS-JAN</td>\n",
       "      <td>YS-JAN</td>\n",
       "      <td>QS-DEC</td>\n",
       "      <td>YS-JAN</td>\n",
       "      <td>YS-JAN</td>\n",
       "      <td>...</td>\n",
       "      <td>Quarter</td>\n",
       "      <td>Quarter</td>\n",
       "      <td>Quarter</td>\n",
       "      <td>Quarter</td>\n",
       "      <td>Quarter</td>\n",
       "      <td>Quarter</td>\n",
       "      <td>Annual</td>\n",
       "      <td>Annual</td>\n",
       "      <td>Annual</td>\n",
       "      <td>Unknown</td>\n",
       "    </tr>\n",
       "    <tr>\n",
       "      <th>frequency_short</th>\n",
       "      <td>MS</td>\n",
       "      <td>QS-DEC</td>\n",
       "      <td>MS</td>\n",
       "      <td>QS-DEC</td>\n",
       "      <td>QS-DEC</td>\n",
       "      <td>YS-JAN</td>\n",
       "      <td>YS-JAN</td>\n",
       "      <td>QS-DEC</td>\n",
       "      <td>YS-JAN</td>\n",
       "      <td>YS-JAN</td>\n",
       "      <td>...</td>\n",
       "      <td>Q</td>\n",
       "      <td>Q</td>\n",
       "      <td>Q</td>\n",
       "      <td>Q</td>\n",
       "      <td>Q</td>\n",
       "      <td>Q</td>\n",
       "      <td>A</td>\n",
       "      <td>A</td>\n",
       "      <td>A</td>\n",
       "      <td>U</td>\n",
       "    </tr>\n",
       "    <tr>\n",
       "      <th>original_source</th>\n",
       "      <td>Cotality, Australia</td>\n",
       "      <td>Australian Bureau of Statistics</td>\n",
       "      <td>Australian Bureau of Statistics</td>\n",
       "      <td>Australian Bureau of Statistics</td>\n",
       "      <td>Bank for International Settlements</td>\n",
       "      <td>World Bank</td>\n",
       "      <td>Australian Office of Financial Management (AOFM)</td>\n",
       "      <td>Australian Bureau of Statistics</td>\n",
       "      <td>OECD</td>\n",
       "      <td>Australian Government</td>\n",
       "      <td>...</td>\n",
       "      <td>None</td>\n",
       "      <td>None</td>\n",
       "      <td>None</td>\n",
       "      <td>None</td>\n",
       "      <td>None</td>\n",
       "      <td>None</td>\n",
       "      <td>None</td>\n",
       "      <td>None</td>\n",
       "      <td>None</td>\n",
       "      <td>NaN</td>\n",
       "    </tr>\n",
       "    <tr>\n",
       "      <th>source</th>\n",
       "      <td>tedata</td>\n",
       "      <td>tedata</td>\n",
       "      <td>tedata</td>\n",
       "      <td>tedata</td>\n",
       "      <td>tedata</td>\n",
       "      <td>tedata</td>\n",
       "      <td>tedata</td>\n",
       "      <td>tedata</td>\n",
       "      <td>tedata</td>\n",
       "      <td>tedata</td>\n",
       "      <td>...</td>\n",
       "      <td>abs_series</td>\n",
       "      <td>abs_series</td>\n",
       "      <td>abs_series</td>\n",
       "      <td>abs_series</td>\n",
       "      <td>abs_series</td>\n",
       "      <td>abs_series</td>\n",
       "      <td>abs_series</td>\n",
       "      <td>abs_series</td>\n",
       "      <td>abs_series</td>\n",
       "      <td>NaN</td>\n",
       "    </tr>\n",
       "    <tr>\n",
       "      <th>description</th>\n",
       "      <td>In Australia, the Cotality Home Value Index ai...</td>\n",
       "      <td>In Australia, the Trimmed mean is calculated a...</td>\n",
       "      <td>In Australia, Building Permits show the season...</td>\n",
       "      <td>In Australia, the mean price of residential dw...</td>\n",
       "      <td>The Residential Property Prices in Australia r...</td>\n",
       "      <td>The gross domestic product (GDP) measures of n...</td>\n",
       "      <td>In Australia, government debt to GDP refers to...</td>\n",
       "      <td>gdp constant prices</td>\n",
       "      <td>Private sector debt to GDP measures the indebt...</td>\n",
       "      <td>government spending to gdp</td>\n",
       "      <td>...</td>\n",
       "      <td>None</td>\n",
       "      <td>None</td>\n",
       "      <td>None</td>\n",
       "      <td>None</td>\n",
       "      <td>None</td>\n",
       "      <td>None</td>\n",
       "      <td>None</td>\n",
       "      <td>None</td>\n",
       "      <td>None</td>\n",
       "      <td>NaN</td>\n",
       "    </tr>\n",
       "    <tr>\n",
       "      <th>start_date</th>\n",
       "      <td>2024-07-01</td>\n",
       "      <td>2022-06-01</td>\n",
       "      <td>2024-06-01</td>\n",
       "      <td>2022-03-01</td>\n",
       "      <td>2022-03-01</td>\n",
       "      <td>2020-01-01</td>\n",
       "      <td>2020-01-01</td>\n",
       "      <td>2022-03-01</td>\n",
       "      <td>2020-01-01</td>\n",
       "      <td>2020-01-01</td>\n",
       "      <td>...</td>\n",
       "      <td>2011-09-01</td>\n",
       "      <td>2002-03-01</td>\n",
       "      <td>2003-09-01</td>\n",
       "      <td>2011-09-01</td>\n",
       "      <td>2011-09-01</td>\n",
       "      <td>2002-03-01</td>\n",
       "      <td>1990-06-01</td>\n",
       "      <td>1990-06-01</td>\n",
       "      <td>1990-06-01</td>\n",
       "      <td>NaN</td>\n",
       "    </tr>\n",
       "    <tr>\n",
       "      <th>end_date</th>\n",
       "      <td>2025-07-01</td>\n",
       "      <td>2025-06-01</td>\n",
       "      <td>2025-06-01</td>\n",
       "      <td>2025-03-01</td>\n",
       "      <td>2025-03-01</td>\n",
       "      <td>2024-01-01</td>\n",
       "      <td>2024-01-01</td>\n",
       "      <td>2025-03-01</td>\n",
       "      <td>2024-01-01</td>\n",
       "      <td>2024-01-01</td>\n",
       "      <td>...</td>\n",
       "      <td>2025-03-01</td>\n",
       "      <td>2025-03-01</td>\n",
       "      <td>2025-03-01</td>\n",
       "      <td>2025-03-01</td>\n",
       "      <td>2025-03-01</td>\n",
       "      <td>2025-03-01</td>\n",
       "      <td>2024-06-01</td>\n",
       "      <td>2024-06-01</td>\n",
       "      <td>2024-06-01</td>\n",
       "      <td>NaN</td>\n",
       "    </tr>\n",
       "    <tr>\n",
       "      <th>last_updated</th>\n",
       "      <td>None</td>\n",
       "      <td>None</td>\n",
       "      <td>None</td>\n",
       "      <td>None</td>\n",
       "      <td>None</td>\n",
       "      <td>None</td>\n",
       "      <td>None</td>\n",
       "      <td>None</td>\n",
       "      <td>None</td>\n",
       "      <td>None</td>\n",
       "      <td>...</td>\n",
       "      <td>None</td>\n",
       "      <td>None</td>\n",
       "      <td>None</td>\n",
       "      <td>None</td>\n",
       "      <td>None</td>\n",
       "      <td>None</td>\n",
       "      <td>None</td>\n",
       "      <td>None</td>\n",
       "      <td>None</td>\n",
       "      <td>NaN</td>\n",
       "    </tr>\n",
       "    <tr>\n",
       "      <th>min_value</th>\n",
       "      <td>-0.1</td>\n",
       "      <td>2.7</td>\n",
       "      <td>13407.0</td>\n",
       "      <td>890.5</td>\n",
       "      <td>-6.13</td>\n",
       "      <td>1328.41</td>\n",
       "      <td>24.8</td>\n",
       "      <td>627399.0</td>\n",
       "      <td>68.9</td>\n",
       "      <td>24.8</td>\n",
       "      <td>...</td>\n",
       "      <td>758686.5</td>\n",
       "      <td>365.0</td>\n",
       "      <td>371.0</td>\n",
       "      <td>535.3</td>\n",
       "      <td>2839.0</td>\n",
       "      <td>8565.0</td>\n",
       "      <td>28248.0</td>\n",
       "      <td>10524.0</td>\n",
       "      <td>38772.0</td>\n",
       "      <td>NaN</td>\n",
       "    </tr>\n",
       "    <tr>\n",
       "      <th>max_value</th>\n",
       "      <td>0.6</td>\n",
       "      <td>6.8</td>\n",
       "      <td>17076.0</td>\n",
       "      <td>1002.5</td>\n",
       "      <td>20.58</td>\n",
       "      <td>1752.19</td>\n",
       "      <td>43.8</td>\n",
       "      <td>659819.0</td>\n",
       "      <td>76.7</td>\n",
       "      <td>31.4</td>\n",
       "      <td>...</td>\n",
       "      <td>2153470.5</td>\n",
       "      <td>1460.0</td>\n",
       "      <td>820.0</td>\n",
       "      <td>1245.9</td>\n",
       "      <td>3500.2</td>\n",
       "      <td>17458.0</td>\n",
       "      <td>215571.0</td>\n",
       "      <td>70932.0</td>\n",
       "      <td>286503.0</td>\n",
       "      <td>NaN</td>\n",
       "    </tr>\n",
       "    <tr>\n",
       "      <th>length</th>\n",
       "      <td>13</td>\n",
       "      <td>13</td>\n",
       "      <td>13</td>\n",
       "      <td>13</td>\n",
       "      <td>13</td>\n",
       "      <td>5</td>\n",
       "      <td>5</td>\n",
       "      <td>13</td>\n",
       "      <td>5</td>\n",
       "      <td>5</td>\n",
       "      <td>...</td>\n",
       "      <td>55</td>\n",
       "      <td>93</td>\n",
       "      <td>87</td>\n",
       "      <td>55</td>\n",
       "      <td>55</td>\n",
       "      <td>93</td>\n",
       "      <td>35</td>\n",
       "      <td>35</td>\n",
       "      <td>35</td>\n",
       "      <td>NaN</td>\n",
       "    </tr>\n",
       "    <tr>\n",
       "      <th>units_short</th>\n",
       "      <td>None</td>\n",
       "      <td>None</td>\n",
       "      <td>None</td>\n",
       "      <td>None</td>\n",
       "      <td>None</td>\n",
       "      <td>None</td>\n",
       "      <td>None</td>\n",
       "      <td>None</td>\n",
       "      <td>None</td>\n",
       "      <td>None</td>\n",
       "      <td>...</td>\n",
       "      <td>None</td>\n",
       "      <td>None</td>\n",
       "      <td>None</td>\n",
       "      <td>None</td>\n",
       "      <td>None</td>\n",
       "      <td>None</td>\n",
       "      <td>None</td>\n",
       "      <td>None</td>\n",
       "      <td>None</td>\n",
       "      <td>NaN</td>\n",
       "    </tr>\n",
       "  </tbody>\n",
       "</table>\n",
       "<p>17 rows × 28 columns</p>\n",
       "</div>"
      ],
      "text/plain": [
       "                           australia/corelogic-dwelling-prices-mom  \\\n",
       "id                         australia/corelogic-dwelling-prices-mom   \n",
       "title                       Australia Cotality Dwelling Prices MoM   \n",
       "units                                                            %   \n",
       "series_type                                                   None   \n",
       "data_type                                                     None   \n",
       "frequency                                                       MS   \n",
       "frequency_short                                                 MS   \n",
       "original_source                                Cotality, Australia   \n",
       "source                                                      tedata   \n",
       "description      In Australia, the Cotality Home Value Index ai...   \n",
       "start_date                                              2024-07-01   \n",
       "end_date                                                2025-07-01   \n",
       "last_updated                                                  None   \n",
       "min_value                                                     -0.1   \n",
       "max_value                                                      0.6   \n",
       "length                                                          13   \n",
       "units_short                                                   None   \n",
       "\n",
       "                                     australia/core-inflation-rate  \\\n",
       "id                                   australia/core-inflation-rate   \n",
       "title                           Australia RBA Trimmed Mean CPI YoY   \n",
       "units                                                            %   \n",
       "series_type                                                   None   \n",
       "data_type                                                     None   \n",
       "frequency                                                   QS-DEC   \n",
       "frequency_short                                             QS-DEC   \n",
       "original_source                    Australian Bureau of Statistics   \n",
       "source                                                      tedata   \n",
       "description      In Australia, the Trimmed mean is calculated a...   \n",
       "start_date                                              2022-06-01   \n",
       "end_date                                                2025-06-01   \n",
       "last_updated                                                  None   \n",
       "min_value                                                      2.7   \n",
       "max_value                                                      6.8   \n",
       "length                                                          13   \n",
       "units_short                                                   None   \n",
       "\n",
       "                                        australia/building-permits  \\\n",
       "id                                      australia/building-permits   \n",
       "title                                   Australia Building Permits   \n",
       "units                                                        units   \n",
       "series_type                                                   None   \n",
       "data_type                                                     None   \n",
       "frequency                                                       MS   \n",
       "frequency_short                                                 MS   \n",
       "original_source                    Australian Bureau of Statistics   \n",
       "source                                                      tedata   \n",
       "description      In Australia, Building Permits show the season...   \n",
       "start_date                                              2024-06-01   \n",
       "end_date                                                2025-06-01   \n",
       "last_updated                                                  None   \n",
       "min_value                                                  13407.0   \n",
       "max_value                                                  17076.0   \n",
       "length                                                          13   \n",
       "units_short                                                   None   \n",
       "\n",
       "                                    australia/average-house-prices  \\\n",
       "id                                  australia/average-house-prices   \n",
       "title                                Australia Mean Dwelling Price   \n",
       "units                                                 AUD Thousand   \n",
       "series_type                                                   None   \n",
       "data_type                                                     None   \n",
       "frequency                                                   QS-DEC   \n",
       "frequency_short                                             QS-DEC   \n",
       "original_source                    Australian Bureau of Statistics   \n",
       "source                                                      tedata   \n",
       "description      In Australia, the mean price of residential dw...   \n",
       "start_date                                              2022-03-01   \n",
       "end_date                                                2025-03-01   \n",
       "last_updated                                                  None   \n",
       "min_value                                                    890.5   \n",
       "max_value                                                   1002.5   \n",
       "length                                                          13   \n",
       "units_short                                                   None   \n",
       "\n",
       "                             australia/residential-property-prices  \\\n",
       "id                           australia/residential-property-prices   \n",
       "title                        Australia Residential Property Prices   \n",
       "units                                                            %   \n",
       "series_type                                                   None   \n",
       "data_type                                                     None   \n",
       "frequency                                                   QS-DEC   \n",
       "frequency_short                                             QS-DEC   \n",
       "original_source                 Bank for International Settlements   \n",
       "source                                                      tedata   \n",
       "description      The Residential Property Prices in Australia r...   \n",
       "start_date                                              2022-03-01   \n",
       "end_date                                                2025-03-01   \n",
       "last_updated                                                  None   \n",
       "min_value                                                    -6.13   \n",
       "max_value                                                    20.58   \n",
       "length                                                          13   \n",
       "units_short                                                   None   \n",
       "\n",
       "                                                     australia/gdp  \\\n",
       "id                                                   australia/gdp   \n",
       "title                                                Australia GDP   \n",
       "units                                                  USD Billion   \n",
       "series_type                                                   None   \n",
       "data_type                                                     None   \n",
       "frequency                                                   YS-JAN   \n",
       "frequency_short                                             YS-JAN   \n",
       "original_source                                         World Bank   \n",
       "source                                                      tedata   \n",
       "description      The gross domestic product (GDP) measures of n...   \n",
       "start_date                                              2020-01-01   \n",
       "end_date                                                2024-01-01   \n",
       "last_updated                                                  None   \n",
       "min_value                                                  1328.41   \n",
       "max_value                                                  1752.19   \n",
       "length                                                           5   \n",
       "units_short                                                   None   \n",
       "\n",
       "                                  australia/government-debt-to-gdp  \\\n",
       "id                                australia/government-debt-to-gdp   \n",
       "title                         Australia Government Net Debt to GDP   \n",
       "units                                               percent of GDP   \n",
       "series_type                                                   None   \n",
       "data_type                                                     None   \n",
       "frequency                                                   YS-JAN   \n",
       "frequency_short                                             YS-JAN   \n",
       "original_source   Australian Office of Financial Management (AOFM)   \n",
       "source                                                      tedata   \n",
       "description      In Australia, government debt to GDP refers to...   \n",
       "start_date                                              2020-01-01   \n",
       "end_date                                                2024-01-01   \n",
       "last_updated                                                  None   \n",
       "min_value                                                     24.8   \n",
       "max_value                                                     43.8   \n",
       "length                                                           5   \n",
       "units_short                                                   None   \n",
       "\n",
       "                   australia/gdp-constant-prices  \\\n",
       "id                 australia/gdp-constant-prices   \n",
       "title              Australia GDP Constant Prices   \n",
       "units                                AUD Million   \n",
       "series_type                                 None   \n",
       "data_type                                   None   \n",
       "frequency                                 QS-DEC   \n",
       "frequency_short                           QS-DEC   \n",
       "original_source  Australian Bureau of Statistics   \n",
       "source                                    tedata   \n",
       "description                  gdp constant prices   \n",
       "start_date                            2022-03-01   \n",
       "end_date                              2025-03-01   \n",
       "last_updated                                None   \n",
       "min_value                               627399.0   \n",
       "max_value                               659819.0   \n",
       "length                                        13   \n",
       "units_short                                 None   \n",
       "\n",
       "                                     australia/private-debt-to-gdp  \\\n",
       "id                                   australia/private-debt-to-gdp   \n",
       "title                                Australia Private Debt to GDP   \n",
       "units                                                            %   \n",
       "series_type                                                   None   \n",
       "data_type                                                     None   \n",
       "frequency                                                   YS-JAN   \n",
       "frequency_short                                             YS-JAN   \n",
       "original_source                                               OECD   \n",
       "source                                                      tedata   \n",
       "description      Private sector debt to GDP measures the indebt...   \n",
       "start_date                                              2020-01-01   \n",
       "end_date                                                2024-01-01   \n",
       "last_updated                                                  None   \n",
       "min_value                                                     68.9   \n",
       "max_value                                                     76.7   \n",
       "length                                                           5   \n",
       "units_short                                                   None   \n",
       "\n",
       "                 australia/government-spending-to-gdp  ...  \\\n",
       "id               australia/government-spending-to-gdp  ...   \n",
       "title            Australia Government Spending To GDP  ...   \n",
       "units                                  percent of GDP  ...   \n",
       "series_type                                      None  ...   \n",
       "data_type                                        None  ...   \n",
       "frequency                                      YS-JAN  ...   \n",
       "frequency_short                                YS-JAN  ...   \n",
       "original_source                 Australian Government  ...   \n",
       "source                                         tedata  ...   \n",
       "description                government spending to gdp  ...   \n",
       "start_date                                 2020-01-01  ...   \n",
       "end_date                                   2024-01-01  ...   \n",
       "last_updated                                     None  ...   \n",
       "min_value                                        24.8  ...   \n",
       "max_value                                        31.4  ...   \n",
       "length                                              5  ...   \n",
       "units_short                                      None  ...   \n",
       "\n",
       "                                                        A83728616R  \\\n",
       "id                                                      A83728616R   \n",
       "title            Value of dwelling stock Owned by All Sectors  ...   \n",
       "units                                                   $ Millions   \n",
       "series_type                                               Original   \n",
       "data_type                                                    STOCK   \n",
       "frequency                                                  Quarter   \n",
       "frequency_short                                                  Q   \n",
       "original_source                                               None   \n",
       "source                                                  abs_series   \n",
       "description                                                   None   \n",
       "start_date                                              2011-09-01   \n",
       "end_date                                                2025-03-01   \n",
       "last_updated                                                  None   \n",
       "min_value                                                 758686.5   \n",
       "max_value                                                2153470.5   \n",
       "length                                                          55   \n",
       "units_short                                                   None   \n",
       "\n",
       "                                                        A83728545T  \\\n",
       "id                                                      A83728545T   \n",
       "title            Median Price of Established House Transfers (U...   \n",
       "units                                                        $'000   \n",
       "series_type                                               Original   \n",
       "data_type                                                     FLOW   \n",
       "frequency                                                  Quarter   \n",
       "frequency_short                                                  Q   \n",
       "original_source                                               None   \n",
       "source                                                  abs_series   \n",
       "description                                                   None   \n",
       "start_date                                              2002-03-01   \n",
       "end_date                                                2025-03-01   \n",
       "last_updated                                                  None   \n",
       "min_value                                                    365.0   \n",
       "max_value                                                   1460.0   \n",
       "length                                                          93   \n",
       "units_short                                                   None   \n",
       "\n",
       "                                                        A83728546V  \\\n",
       "id                                                      A83728546V   \n",
       "title            Median Price of Attached Dwelling Transfers (U...   \n",
       "units                                                        $'000   \n",
       "series_type                                               Original   \n",
       "data_type                                                     FLOW   \n",
       "frequency                                                  Quarter   \n",
       "frequency_short                                                  Q   \n",
       "original_source                                               None   \n",
       "source                                                  abs_series   \n",
       "description                                                   None   \n",
       "start_date                                              2003-09-01   \n",
       "end_date                                                2025-03-01   \n",
       "last_updated                                                  None   \n",
       "min_value                                                    371.0   \n",
       "max_value                                                    820.0   \n",
       "length                                                          87   \n",
       "units_short                                                   None   \n",
       "\n",
       "                                                        A83728607L  \\\n",
       "id                                                      A83728607L   \n",
       "title            Mean price of residential dwellings   New Sout...   \n",
       "units                                                        $'000   \n",
       "series_type                                               Original   \n",
       "data_type                                                  AVERAGE   \n",
       "frequency                                                  Quarter   \n",
       "frequency_short                                                  Q   \n",
       "original_source                                               None   \n",
       "source                                                  abs_series   \n",
       "description                                                   None   \n",
       "start_date                                              2011-09-01   \n",
       "end_date                                                2025-03-01   \n",
       "last_updated                                                  None   \n",
       "min_value                                                    535.3   \n",
       "max_value                                                   1245.9   \n",
       "length                                                          55   \n",
       "units_short                                                   None   \n",
       "\n",
       "                                                        A83728605J  \\\n",
       "id                                                      A83728605J   \n",
       "title            Number of residential dwellings   New South Wales   \n",
       "units                                                          000   \n",
       "series_type                                               Original   \n",
       "data_type                                                    STOCK   \n",
       "frequency                                                  Quarter   \n",
       "frequency_short                                                  Q   \n",
       "original_source                                               None   \n",
       "source                                                  abs_series   \n",
       "description                                                   None   \n",
       "start_date                                              2011-09-01   \n",
       "end_date                                                2025-03-01   \n",
       "last_updated                                                  None   \n",
       "min_value                                                   2839.0   \n",
       "max_value                                                   3500.2   \n",
       "length                                                          55   \n",
       "units_short                                                   None   \n",
       "\n",
       "                                                     A83728543L  \\\n",
       "id                                                   A83728543L   \n",
       "title            Number of Established House Transfers   Sydney   \n",
       "units                                                    Number   \n",
       "series_type                                            Original   \n",
       "data_type                                                  FLOW   \n",
       "frequency                                               Quarter   \n",
       "frequency_short                                               Q   \n",
       "original_source                                            None   \n",
       "source                                               abs_series   \n",
       "description                                                None   \n",
       "start_date                                           2002-03-01   \n",
       "end_date                                             2025-03-01   \n",
       "last_updated                                               None   \n",
       "min_value                                                8565.0   \n",
       "max_value                                               17458.0   \n",
       "length                                                       93   \n",
       "units_short                                                None   \n",
       "\n",
       "                                                     A2422340L  \\\n",
       "id                                                   A2422340L   \n",
       "title            Gross rent - Imputed rent for owner-occupiers   \n",
       "units                                               $ Millions   \n",
       "series_type                                           Original   \n",
       "data_type                                              DERIVED   \n",
       "frequency                                               Annual   \n",
       "frequency_short                                              A   \n",
       "original_source                                           None   \n",
       "source                                              abs_series   \n",
       "description                                               None   \n",
       "start_date                                          1990-06-01   \n",
       "end_date                                            2024-06-01   \n",
       "last_updated                                              None   \n",
       "min_value                                              28248.0   \n",
       "max_value                                             215571.0   \n",
       "length                                                      35   \n",
       "units_short                                               None   \n",
       "\n",
       "                                            A2422341R         A2422342T  \\\n",
       "id                                          A2422341R         A2422342T   \n",
       "title            Gross rent - Actual rent for housing  Total gross rent   \n",
       "units                                      $ Millions        $ Millions   \n",
       "series_type                                  Original          Original   \n",
       "data_type                                     DERIVED           DERIVED   \n",
       "frequency                                      Annual            Annual   \n",
       "frequency_short                                     A                 A   \n",
       "original_source                                  None              None   \n",
       "source                                     abs_series        abs_series   \n",
       "description                                      None              None   \n",
       "start_date                                 1990-06-01        1990-06-01   \n",
       "end_date                                   2024-06-01        2024-06-01   \n",
       "last_updated                                     None              None   \n",
       "min_value                                     10524.0           38772.0   \n",
       "max_value                                     70932.0          286503.0   \n",
       "length                                             35                35   \n",
       "units_short                                      None              None   \n",
       "\n",
       "                A2326751F  \n",
       "id                    NaN  \n",
       "title                 NaN  \n",
       "units                 NaN  \n",
       "series_type           NaN  \n",
       "data_type             NaN  \n",
       "frequency         Unknown  \n",
       "frequency_short         U  \n",
       "original_source       NaN  \n",
       "source                NaN  \n",
       "description           NaN  \n",
       "start_date            NaN  \n",
       "end_date              NaN  \n",
       "last_updated          NaN  \n",
       "min_value             NaN  \n",
       "max_value             NaN  \n",
       "length                NaN  \n",
       "units_short           NaN  \n",
       "\n",
       "[17 rows x 28 columns]"
      ]
     },
     "execution_count": 7,
     "metadata": {},
     "output_type": "execute_result"
    }
   ],
   "source": [
    "watched[\"metadata\"]"
   ]
  },
  {
   "cell_type": "code",
   "execution_count": 8,
   "metadata": {},
   "outputs": [
    {
     "ename": "AttributeError",
     "evalue": "'Figure' object has no attribute 'add_line'",
     "output_type": "error",
     "traceback": [
      "\u001b[31m---------------------------------------------------------------------------\u001b[39m",
      "\u001b[31mAttributeError\u001b[39m                            Traceback (most recent call last)",
      "\u001b[36mCell\u001b[39m\u001b[36m \u001b[39m\u001b[32mIn[8]\u001b[39m\u001b[32m, line 4\u001b[39m\n\u001b[32m      2\u001b[39m clm_yoy = cl_monthly.pct_change(periods=\u001b[32m12\u001b[39m) \n\u001b[32m      3\u001b[39m fig = cl_monthly.plot(title=\u001b[33m\"\u001b[39m\u001b[33mAverage House Prices in Australia\u001b[39m\u001b[33m\"\u001b[39m)\n\u001b[32m----> \u001b[39m\u001b[32m4\u001b[39m \u001b[43mfig\u001b[49m\u001b[43m.\u001b[49m\u001b[43madd_line\u001b[49m(x=clm_yoy.index, y=clm_yoy, name=\u001b[33m\"\u001b[39m\u001b[33mYoY \u001b[39m\u001b[33m%\u001b[39m\u001b[33m Change\u001b[39m\u001b[33m\"\u001b[39m, yaxis=\u001b[33m\"\u001b[39m\u001b[33my2\u001b[39m\u001b[33m\"\u001b[39m)\n\u001b[32m      5\u001b[39m fig.update_layout(yaxis2=\u001b[38;5;28mdict\u001b[39m(overlaying=\u001b[33m\"\u001b[39m\u001b[33my\u001b[39m\u001b[33m\"\u001b[39m, side=\u001b[33m\"\u001b[39m\u001b[33mright\u001b[39m\u001b[33m\"\u001b[39m, title=\u001b[33m\"\u001b[39m\u001b[33mYoY \u001b[39m\u001b[33m%\u001b[39m\u001b[33m Change\u001b[39m\u001b[33m\"\u001b[39m))\n",
      "\u001b[31mAttributeError\u001b[39m: 'Figure' object has no attribute 'add_line'"
     ]
    }
   ],
   "source": [
    "cl_monthly = watched[\"watchlist_datasets\"][\"australia/average-house-prices\"]\n",
    "clm_yoy = cl_monthly.pct_change(periods=12) \n",
    "fig = cl_monthly.plot(title=\"Average House Prices in Australia\")\n",
    "fig.add_line(x=clm_yoy.index, y=clm_yoy, name=\"YoY % Change\", yaxis=\"y2\")\n",
    "fig.update_layout(yaxis2=dict(overlaying=\"y\", side=\"right\", title=\"YoY % Change\"))"
   ]
  },
  {
   "cell_type": "code",
   "execution_count": 9,
   "metadata": {},
   "outputs": [
    {
     "data": {
      "application/vnd.plotly.v1+json": {
       "config": {
        "plotlyServerURL": "https://plot.ly"
       },
       "data": [
        {
         "hovertemplate": "variable=Australia Cotality Dwelling Prices MoM<br>date=%{x}<br>value=%{y}<extra></extra>",
         "legendgroup": "Australia Cotality Dwelling Prices MoM",
         "line": {
          "color": "#636efa",
          "dash": "solid"
         },
         "marker": {
          "symbol": "circle"
         },
         "mode": "lines",
         "name": "Australia Cotality Dwelling Prices MoM",
         "orientation": "v",
         "showlegend": true,
         "type": "scatter",
         "x": [
          "2024-07-01T00:00:00",
          "2024-08-01T00:00:00",
          "2024-09-01T00:00:00",
          "2024-10-01T00:00:00",
          "2024-11-01T00:00:00",
          "2024-12-01T00:00:00",
          "2025-01-01T00:00:00",
          "2025-02-01T00:00:00",
          "2025-03-01T00:00:00",
          "2025-04-01T00:00:00",
          "2025-05-01T00:00:00",
          "2025-06-01T00:00:00",
          "2025-07-01T00:00:00"
         ],
         "xaxis": "x",
         "y": {
          "bdata": "AAAAAAAA4D8AAAAAAADgP5qZmZmZmdk/MzMzMzMz0z+amZmZmZm5P5qZmZmZmbm/AAAAAAAAAAAzMzMzMzPTP5qZmZmZmdk/MzMzMzMz0z8AAAAAAADgPzMzMzMzM+M/MzMzMzMz4z8=",
          "dtype": "f8"
         },
         "yaxis": "y"
        }
       ],
       "layout": {
        "legend": {
         "title": {
          "text": "variable"
         },
         "tracegroupgap": 0
        },
        "margin": {
         "t": 60
        },
        "template": {
         "data": {
          "bar": [
           {
            "error_x": {
             "color": "#2a3f5f"
            },
            "error_y": {
             "color": "#2a3f5f"
            },
            "marker": {
             "line": {
              "color": "#E5ECF6",
              "width": 0.5
             },
             "pattern": {
              "fillmode": "overlay",
              "size": 10,
              "solidity": 0.2
             }
            },
            "type": "bar"
           }
          ],
          "barpolar": [
           {
            "marker": {
             "line": {
              "color": "#E5ECF6",
              "width": 0.5
             },
             "pattern": {
              "fillmode": "overlay",
              "size": 10,
              "solidity": 0.2
             }
            },
            "type": "barpolar"
           }
          ],
          "carpet": [
           {
            "aaxis": {
             "endlinecolor": "#2a3f5f",
             "gridcolor": "white",
             "linecolor": "white",
             "minorgridcolor": "white",
             "startlinecolor": "#2a3f5f"
            },
            "baxis": {
             "endlinecolor": "#2a3f5f",
             "gridcolor": "white",
             "linecolor": "white",
             "minorgridcolor": "white",
             "startlinecolor": "#2a3f5f"
            },
            "type": "carpet"
           }
          ],
          "choropleth": [
           {
            "colorbar": {
             "outlinewidth": 0,
             "ticks": ""
            },
            "type": "choropleth"
           }
          ],
          "contour": [
           {
            "colorbar": {
             "outlinewidth": 0,
             "ticks": ""
            },
            "colorscale": [
             [
              0,
              "#0d0887"
             ],
             [
              0.1111111111111111,
              "#46039f"
             ],
             [
              0.2222222222222222,
              "#7201a8"
             ],
             [
              0.3333333333333333,
              "#9c179e"
             ],
             [
              0.4444444444444444,
              "#bd3786"
             ],
             [
              0.5555555555555556,
              "#d8576b"
             ],
             [
              0.6666666666666666,
              "#ed7953"
             ],
             [
              0.7777777777777778,
              "#fb9f3a"
             ],
             [
              0.8888888888888888,
              "#fdca26"
             ],
             [
              1,
              "#f0f921"
             ]
            ],
            "type": "contour"
           }
          ],
          "contourcarpet": [
           {
            "colorbar": {
             "outlinewidth": 0,
             "ticks": ""
            },
            "type": "contourcarpet"
           }
          ],
          "heatmap": [
           {
            "colorbar": {
             "outlinewidth": 0,
             "ticks": ""
            },
            "colorscale": [
             [
              0,
              "#0d0887"
             ],
             [
              0.1111111111111111,
              "#46039f"
             ],
             [
              0.2222222222222222,
              "#7201a8"
             ],
             [
              0.3333333333333333,
              "#9c179e"
             ],
             [
              0.4444444444444444,
              "#bd3786"
             ],
             [
              0.5555555555555556,
              "#d8576b"
             ],
             [
              0.6666666666666666,
              "#ed7953"
             ],
             [
              0.7777777777777778,
              "#fb9f3a"
             ],
             [
              0.8888888888888888,
              "#fdca26"
             ],
             [
              1,
              "#f0f921"
             ]
            ],
            "type": "heatmap"
           }
          ],
          "histogram": [
           {
            "marker": {
             "pattern": {
              "fillmode": "overlay",
              "size": 10,
              "solidity": 0.2
             }
            },
            "type": "histogram"
           }
          ],
          "histogram2d": [
           {
            "colorbar": {
             "outlinewidth": 0,
             "ticks": ""
            },
            "colorscale": [
             [
              0,
              "#0d0887"
             ],
             [
              0.1111111111111111,
              "#46039f"
             ],
             [
              0.2222222222222222,
              "#7201a8"
             ],
             [
              0.3333333333333333,
              "#9c179e"
             ],
             [
              0.4444444444444444,
              "#bd3786"
             ],
             [
              0.5555555555555556,
              "#d8576b"
             ],
             [
              0.6666666666666666,
              "#ed7953"
             ],
             [
              0.7777777777777778,
              "#fb9f3a"
             ],
             [
              0.8888888888888888,
              "#fdca26"
             ],
             [
              1,
              "#f0f921"
             ]
            ],
            "type": "histogram2d"
           }
          ],
          "histogram2dcontour": [
           {
            "colorbar": {
             "outlinewidth": 0,
             "ticks": ""
            },
            "colorscale": [
             [
              0,
              "#0d0887"
             ],
             [
              0.1111111111111111,
              "#46039f"
             ],
             [
              0.2222222222222222,
              "#7201a8"
             ],
             [
              0.3333333333333333,
              "#9c179e"
             ],
             [
              0.4444444444444444,
              "#bd3786"
             ],
             [
              0.5555555555555556,
              "#d8576b"
             ],
             [
              0.6666666666666666,
              "#ed7953"
             ],
             [
              0.7777777777777778,
              "#fb9f3a"
             ],
             [
              0.8888888888888888,
              "#fdca26"
             ],
             [
              1,
              "#f0f921"
             ]
            ],
            "type": "histogram2dcontour"
           }
          ],
          "mesh3d": [
           {
            "colorbar": {
             "outlinewidth": 0,
             "ticks": ""
            },
            "type": "mesh3d"
           }
          ],
          "parcoords": [
           {
            "line": {
             "colorbar": {
              "outlinewidth": 0,
              "ticks": ""
             }
            },
            "type": "parcoords"
           }
          ],
          "pie": [
           {
            "automargin": true,
            "type": "pie"
           }
          ],
          "scatter": [
           {
            "fillpattern": {
             "fillmode": "overlay",
             "size": 10,
             "solidity": 0.2
            },
            "type": "scatter"
           }
          ],
          "scatter3d": [
           {
            "line": {
             "colorbar": {
              "outlinewidth": 0,
              "ticks": ""
             }
            },
            "marker": {
             "colorbar": {
              "outlinewidth": 0,
              "ticks": ""
             }
            },
            "type": "scatter3d"
           }
          ],
          "scattercarpet": [
           {
            "marker": {
             "colorbar": {
              "outlinewidth": 0,
              "ticks": ""
             }
            },
            "type": "scattercarpet"
           }
          ],
          "scattergeo": [
           {
            "marker": {
             "colorbar": {
              "outlinewidth": 0,
              "ticks": ""
             }
            },
            "type": "scattergeo"
           }
          ],
          "scattergl": [
           {
            "marker": {
             "colorbar": {
              "outlinewidth": 0,
              "ticks": ""
             }
            },
            "type": "scattergl"
           }
          ],
          "scattermap": [
           {
            "marker": {
             "colorbar": {
              "outlinewidth": 0,
              "ticks": ""
             }
            },
            "type": "scattermap"
           }
          ],
          "scattermapbox": [
           {
            "marker": {
             "colorbar": {
              "outlinewidth": 0,
              "ticks": ""
             }
            },
            "type": "scattermapbox"
           }
          ],
          "scatterpolar": [
           {
            "marker": {
             "colorbar": {
              "outlinewidth": 0,
              "ticks": ""
             }
            },
            "type": "scatterpolar"
           }
          ],
          "scatterpolargl": [
           {
            "marker": {
             "colorbar": {
              "outlinewidth": 0,
              "ticks": ""
             }
            },
            "type": "scatterpolargl"
           }
          ],
          "scatterternary": [
           {
            "marker": {
             "colorbar": {
              "outlinewidth": 0,
              "ticks": ""
             }
            },
            "type": "scatterternary"
           }
          ],
          "surface": [
           {
            "colorbar": {
             "outlinewidth": 0,
             "ticks": ""
            },
            "colorscale": [
             [
              0,
              "#0d0887"
             ],
             [
              0.1111111111111111,
              "#46039f"
             ],
             [
              0.2222222222222222,
              "#7201a8"
             ],
             [
              0.3333333333333333,
              "#9c179e"
             ],
             [
              0.4444444444444444,
              "#bd3786"
             ],
             [
              0.5555555555555556,
              "#d8576b"
             ],
             [
              0.6666666666666666,
              "#ed7953"
             ],
             [
              0.7777777777777778,
              "#fb9f3a"
             ],
             [
              0.8888888888888888,
              "#fdca26"
             ],
             [
              1,
              "#f0f921"
             ]
            ],
            "type": "surface"
           }
          ],
          "table": [
           {
            "cells": {
             "fill": {
              "color": "#EBF0F8"
             },
             "line": {
              "color": "white"
             }
            },
            "header": {
             "fill": {
              "color": "#C8D4E3"
             },
             "line": {
              "color": "white"
             }
            },
            "type": "table"
           }
          ]
         },
         "layout": {
          "annotationdefaults": {
           "arrowcolor": "#2a3f5f",
           "arrowhead": 0,
           "arrowwidth": 1
          },
          "autotypenumbers": "strict",
          "coloraxis": {
           "colorbar": {
            "outlinewidth": 0,
            "ticks": ""
           }
          },
          "colorscale": {
           "diverging": [
            [
             0,
             "#8e0152"
            ],
            [
             0.1,
             "#c51b7d"
            ],
            [
             0.2,
             "#de77ae"
            ],
            [
             0.3,
             "#f1b6da"
            ],
            [
             0.4,
             "#fde0ef"
            ],
            [
             0.5,
             "#f7f7f7"
            ],
            [
             0.6,
             "#e6f5d0"
            ],
            [
             0.7,
             "#b8e186"
            ],
            [
             0.8,
             "#7fbc41"
            ],
            [
             0.9,
             "#4d9221"
            ],
            [
             1,
             "#276419"
            ]
           ],
           "sequential": [
            [
             0,
             "#0d0887"
            ],
            [
             0.1111111111111111,
             "#46039f"
            ],
            [
             0.2222222222222222,
             "#7201a8"
            ],
            [
             0.3333333333333333,
             "#9c179e"
            ],
            [
             0.4444444444444444,
             "#bd3786"
            ],
            [
             0.5555555555555556,
             "#d8576b"
            ],
            [
             0.6666666666666666,
             "#ed7953"
            ],
            [
             0.7777777777777778,
             "#fb9f3a"
            ],
            [
             0.8888888888888888,
             "#fdca26"
            ],
            [
             1,
             "#f0f921"
            ]
           ],
           "sequentialminus": [
            [
             0,
             "#0d0887"
            ],
            [
             0.1111111111111111,
             "#46039f"
            ],
            [
             0.2222222222222222,
             "#7201a8"
            ],
            [
             0.3333333333333333,
             "#9c179e"
            ],
            [
             0.4444444444444444,
             "#bd3786"
            ],
            [
             0.5555555555555556,
             "#d8576b"
            ],
            [
             0.6666666666666666,
             "#ed7953"
            ],
            [
             0.7777777777777778,
             "#fb9f3a"
            ],
            [
             0.8888888888888888,
             "#fdca26"
            ],
            [
             1,
             "#f0f921"
            ]
           ]
          },
          "colorway": [
           "#636efa",
           "#EF553B",
           "#00cc96",
           "#ab63fa",
           "#FFA15A",
           "#19d3f3",
           "#FF6692",
           "#B6E880",
           "#FF97FF",
           "#FECB52"
          ],
          "font": {
           "color": "#2a3f5f"
          },
          "geo": {
           "bgcolor": "white",
           "lakecolor": "white",
           "landcolor": "#E5ECF6",
           "showlakes": true,
           "showland": true,
           "subunitcolor": "white"
          },
          "hoverlabel": {
           "align": "left"
          },
          "hovermode": "closest",
          "mapbox": {
           "style": "light"
          },
          "paper_bgcolor": "white",
          "plot_bgcolor": "#E5ECF6",
          "polar": {
           "angularaxis": {
            "gridcolor": "white",
            "linecolor": "white",
            "ticks": ""
           },
           "bgcolor": "#E5ECF6",
           "radialaxis": {
            "gridcolor": "white",
            "linecolor": "white",
            "ticks": ""
           }
          },
          "scene": {
           "xaxis": {
            "backgroundcolor": "#E5ECF6",
            "gridcolor": "white",
            "gridwidth": 2,
            "linecolor": "white",
            "showbackground": true,
            "ticks": "",
            "zerolinecolor": "white"
           },
           "yaxis": {
            "backgroundcolor": "#E5ECF6",
            "gridcolor": "white",
            "gridwidth": 2,
            "linecolor": "white",
            "showbackground": true,
            "ticks": "",
            "zerolinecolor": "white"
           },
           "zaxis": {
            "backgroundcolor": "#E5ECF6",
            "gridcolor": "white",
            "gridwidth": 2,
            "linecolor": "white",
            "showbackground": true,
            "ticks": "",
            "zerolinecolor": "white"
           }
          },
          "shapedefaults": {
           "line": {
            "color": "#2a3f5f"
           }
          },
          "ternary": {
           "aaxis": {
            "gridcolor": "white",
            "linecolor": "white",
            "ticks": ""
           },
           "baxis": {
            "gridcolor": "white",
            "linecolor": "white",
            "ticks": ""
           },
           "bgcolor": "#E5ECF6",
           "caxis": {
            "gridcolor": "white",
            "linecolor": "white",
            "ticks": ""
           }
          },
          "title": {
           "x": 0.05
          },
          "xaxis": {
           "automargin": true,
           "gridcolor": "white",
           "linecolor": "white",
           "ticks": "",
           "title": {
            "standoff": 15
           },
           "zerolinecolor": "white",
           "zerolinewidth": 2
          },
          "yaxis": {
           "automargin": true,
           "gridcolor": "white",
           "linecolor": "white",
           "ticks": "",
           "title": {
            "standoff": 15
           },
           "zerolinecolor": "white",
           "zerolinewidth": 2
          }
         }
        },
        "xaxis": {
         "anchor": "y",
         "domain": [
          0,
          1
         ],
         "title": {
          "text": "date"
         }
        },
        "yaxis": {
         "anchor": "x",
         "domain": [
          0,
          1
         ],
         "title": {
          "text": "value"
         }
        }
       }
      }
     },
     "metadata": {},
     "output_type": "display_data"
    }
   ],
   "source": [
    "watched[\"watchlist_datasets\"][\"australia/corelogic-dwelling-prices-mom\"].plot()"
   ]
  },
  {
   "cell_type": "code",
   "execution_count": 11,
   "metadata": {},
   "outputs": [
    {
     "data": {
      "application/vnd.plotly.v1+json": {
       "config": {
        "plotlyServerURL": "https://plot.ly"
       },
       "data": [
        {
         "mode": "lines",
         "name": "Aus house prices average",
         "type": "scatter",
         "x": [
          "2022-03-01T00:00:00",
          "2022-06-01T00:00:00",
          "2022-09-01T00:00:00",
          "2022-12-01T00:00:00",
          "2023-03-01T00:00:00",
          "2023-06-01T00:00:00",
          "2023-09-01T00:00:00",
          "2023-12-01T00:00:00",
          "2024-03-01T00:00:00",
          "2024-06-01T00:00:00",
          "2024-09-01T00:00:00",
          "2024-12-01T00:00:00",
          "2025-03-01T00:00:00"
         ],
         "xaxis": "x",
         "y": {
          "bdata": "zczMzMwUjUCamZmZmcmMQAAAAAAA1ItAAAAAAADYi0AzMzMzM9eLQDMzMzMzl4xAmpmZmZnpjEAzMzMzM6uNQM3MzMzMEI5AmpmZmZmxjkBmZmZmZrqOQM3MzMzMHI9AAAAAAABUj0A=",
          "dtype": "f8"
         },
         "yaxis": "y"
        },
        {
         "mode": "lines",
         "name": "YoY % Change",
         "type": "scatter",
         "x": [
          "2022-03-01T00:00:00",
          "2022-06-01T00:00:00",
          "2022-09-01T00:00:00",
          "2022-12-01T00:00:00",
          "2023-03-01T00:00:00",
          "2023-06-01T00:00:00",
          "2023-09-01T00:00:00",
          "2023-12-01T00:00:00",
          "2024-03-01T00:00:00",
          "2024-06-01T00:00:00",
          "2024-09-01T00:00:00",
          "2024-12-01T00:00:00",
          "2025-03-01T00:00:00"
         ],
         "xaxis": "x",
         "y": {
          "bdata": "AAAAAAAA+H8AAAAAAAD4fwAAAAAAAPh/AAAAAAAA+H8AAAAAAAD4fwAAAAAAAPh/AAAAAAAA+H8AAAAAAAD4fwAAAAAAAPh/AAAAAAAA+H8AAAAAAAD4fwAAAAAAAPh/UEnX83DHsz8=",
          "dtype": "f8"
         },
         "yaxis": "y2"
        }
       ],
       "layout": {
        "font": {
         "color": "black",
         "family": "Arial, sans-serif",
         "size": 14
        },
        "height": 600,
        "hovermode": "x unified",
        "legend": {
         "bgcolor": "rgba(255,255,255,0)",
         "bordercolor": "rgba(255,255,255,0)",
         "orientation": "h",
         "x": 0.5,
         "xanchor": "center",
         "y": -0.22,
         "yanchor": "top"
        },
        "margin": {
         "b": 110,
         "l": 50,
         "r": 50,
         "t": 40
        },
        "template": {
         "data": {
          "bar": [
           {
            "error_x": {
             "color": "#2a3f5f"
            },
            "error_y": {
             "color": "#2a3f5f"
            },
            "marker": {
             "line": {
              "color": "white",
              "width": 0.5
             },
             "pattern": {
              "fillmode": "overlay",
              "size": 10,
              "solidity": 0.2
             }
            },
            "type": "bar"
           }
          ],
          "barpolar": [
           {
            "marker": {
             "line": {
              "color": "white",
              "width": 0.5
             },
             "pattern": {
              "fillmode": "overlay",
              "size": 10,
              "solidity": 0.2
             }
            },
            "type": "barpolar"
           }
          ],
          "carpet": [
           {
            "aaxis": {
             "endlinecolor": "#2a3f5f",
             "gridcolor": "#C8D4E3",
             "linecolor": "#C8D4E3",
             "minorgridcolor": "#C8D4E3",
             "startlinecolor": "#2a3f5f"
            },
            "baxis": {
             "endlinecolor": "#2a3f5f",
             "gridcolor": "#C8D4E3",
             "linecolor": "#C8D4E3",
             "minorgridcolor": "#C8D4E3",
             "startlinecolor": "#2a3f5f"
            },
            "type": "carpet"
           }
          ],
          "choropleth": [
           {
            "colorbar": {
             "outlinewidth": 0,
             "ticks": ""
            },
            "type": "choropleth"
           }
          ],
          "contour": [
           {
            "colorbar": {
             "outlinewidth": 0,
             "ticks": ""
            },
            "colorscale": [
             [
              0,
              "#0d0887"
             ],
             [
              0.1111111111111111,
              "#46039f"
             ],
             [
              0.2222222222222222,
              "#7201a8"
             ],
             [
              0.3333333333333333,
              "#9c179e"
             ],
             [
              0.4444444444444444,
              "#bd3786"
             ],
             [
              0.5555555555555556,
              "#d8576b"
             ],
             [
              0.6666666666666666,
              "#ed7953"
             ],
             [
              0.7777777777777778,
              "#fb9f3a"
             ],
             [
              0.8888888888888888,
              "#fdca26"
             ],
             [
              1,
              "#f0f921"
             ]
            ],
            "type": "contour"
           }
          ],
          "contourcarpet": [
           {
            "colorbar": {
             "outlinewidth": 0,
             "ticks": ""
            },
            "type": "contourcarpet"
           }
          ],
          "heatmap": [
           {
            "colorbar": {
             "outlinewidth": 0,
             "ticks": ""
            },
            "colorscale": [
             [
              0,
              "#0d0887"
             ],
             [
              0.1111111111111111,
              "#46039f"
             ],
             [
              0.2222222222222222,
              "#7201a8"
             ],
             [
              0.3333333333333333,
              "#9c179e"
             ],
             [
              0.4444444444444444,
              "#bd3786"
             ],
             [
              0.5555555555555556,
              "#d8576b"
             ],
             [
              0.6666666666666666,
              "#ed7953"
             ],
             [
              0.7777777777777778,
              "#fb9f3a"
             ],
             [
              0.8888888888888888,
              "#fdca26"
             ],
             [
              1,
              "#f0f921"
             ]
            ],
            "type": "heatmap"
           }
          ],
          "histogram": [
           {
            "marker": {
             "pattern": {
              "fillmode": "overlay",
              "size": 10,
              "solidity": 0.2
             }
            },
            "type": "histogram"
           }
          ],
          "histogram2d": [
           {
            "colorbar": {
             "outlinewidth": 0,
             "ticks": ""
            },
            "colorscale": [
             [
              0,
              "#0d0887"
             ],
             [
              0.1111111111111111,
              "#46039f"
             ],
             [
              0.2222222222222222,
              "#7201a8"
             ],
             [
              0.3333333333333333,
              "#9c179e"
             ],
             [
              0.4444444444444444,
              "#bd3786"
             ],
             [
              0.5555555555555556,
              "#d8576b"
             ],
             [
              0.6666666666666666,
              "#ed7953"
             ],
             [
              0.7777777777777778,
              "#fb9f3a"
             ],
             [
              0.8888888888888888,
              "#fdca26"
             ],
             [
              1,
              "#f0f921"
             ]
            ],
            "type": "histogram2d"
           }
          ],
          "histogram2dcontour": [
           {
            "colorbar": {
             "outlinewidth": 0,
             "ticks": ""
            },
            "colorscale": [
             [
              0,
              "#0d0887"
             ],
             [
              0.1111111111111111,
              "#46039f"
             ],
             [
              0.2222222222222222,
              "#7201a8"
             ],
             [
              0.3333333333333333,
              "#9c179e"
             ],
             [
              0.4444444444444444,
              "#bd3786"
             ],
             [
              0.5555555555555556,
              "#d8576b"
             ],
             [
              0.6666666666666666,
              "#ed7953"
             ],
             [
              0.7777777777777778,
              "#fb9f3a"
             ],
             [
              0.8888888888888888,
              "#fdca26"
             ],
             [
              1,
              "#f0f921"
             ]
            ],
            "type": "histogram2dcontour"
           }
          ],
          "mesh3d": [
           {
            "colorbar": {
             "outlinewidth": 0,
             "ticks": ""
            },
            "type": "mesh3d"
           }
          ],
          "parcoords": [
           {
            "line": {
             "colorbar": {
              "outlinewidth": 0,
              "ticks": ""
             }
            },
            "type": "parcoords"
           }
          ],
          "pie": [
           {
            "automargin": true,
            "type": "pie"
           }
          ],
          "scatter": [
           {
            "fillpattern": {
             "fillmode": "overlay",
             "size": 10,
             "solidity": 0.2
            },
            "type": "scatter"
           }
          ],
          "scatter3d": [
           {
            "line": {
             "colorbar": {
              "outlinewidth": 0,
              "ticks": ""
             }
            },
            "marker": {
             "colorbar": {
              "outlinewidth": 0,
              "ticks": ""
             }
            },
            "type": "scatter3d"
           }
          ],
          "scattercarpet": [
           {
            "marker": {
             "colorbar": {
              "outlinewidth": 0,
              "ticks": ""
             }
            },
            "type": "scattercarpet"
           }
          ],
          "scattergeo": [
           {
            "marker": {
             "colorbar": {
              "outlinewidth": 0,
              "ticks": ""
             }
            },
            "type": "scattergeo"
           }
          ],
          "scattergl": [
           {
            "marker": {
             "colorbar": {
              "outlinewidth": 0,
              "ticks": ""
             }
            },
            "type": "scattergl"
           }
          ],
          "scattermap": [
           {
            "marker": {
             "colorbar": {
              "outlinewidth": 0,
              "ticks": ""
             }
            },
            "type": "scattermap"
           }
          ],
          "scattermapbox": [
           {
            "marker": {
             "colorbar": {
              "outlinewidth": 0,
              "ticks": ""
             }
            },
            "type": "scattermapbox"
           }
          ],
          "scatterpolar": [
           {
            "marker": {
             "colorbar": {
              "outlinewidth": 0,
              "ticks": ""
             }
            },
            "type": "scatterpolar"
           }
          ],
          "scatterpolargl": [
           {
            "marker": {
             "colorbar": {
              "outlinewidth": 0,
              "ticks": ""
             }
            },
            "type": "scatterpolargl"
           }
          ],
          "scatterternary": [
           {
            "marker": {
             "colorbar": {
              "outlinewidth": 0,
              "ticks": ""
             }
            },
            "type": "scatterternary"
           }
          ],
          "surface": [
           {
            "colorbar": {
             "outlinewidth": 0,
             "ticks": ""
            },
            "colorscale": [
             [
              0,
              "#0d0887"
             ],
             [
              0.1111111111111111,
              "#46039f"
             ],
             [
              0.2222222222222222,
              "#7201a8"
             ],
             [
              0.3333333333333333,
              "#9c179e"
             ],
             [
              0.4444444444444444,
              "#bd3786"
             ],
             [
              0.5555555555555556,
              "#d8576b"
             ],
             [
              0.6666666666666666,
              "#ed7953"
             ],
             [
              0.7777777777777778,
              "#fb9f3a"
             ],
             [
              0.8888888888888888,
              "#fdca26"
             ],
             [
              1,
              "#f0f921"
             ]
            ],
            "type": "surface"
           }
          ],
          "table": [
           {
            "cells": {
             "fill": {
              "color": "#EBF0F8"
             },
             "line": {
              "color": "white"
             }
            },
            "header": {
             "fill": {
              "color": "#C8D4E3"
             },
             "line": {
              "color": "white"
             }
            },
            "type": "table"
           }
          ]
         },
         "layout": {
          "annotationdefaults": {
           "arrowcolor": "#2a3f5f",
           "arrowhead": 0,
           "arrowwidth": 1
          },
          "autotypenumbers": "strict",
          "coloraxis": {
           "colorbar": {
            "outlinewidth": 0,
            "ticks": ""
           }
          },
          "colorscale": {
           "diverging": [
            [
             0,
             "#8e0152"
            ],
            [
             0.1,
             "#c51b7d"
            ],
            [
             0.2,
             "#de77ae"
            ],
            [
             0.3,
             "#f1b6da"
            ],
            [
             0.4,
             "#fde0ef"
            ],
            [
             0.5,
             "#f7f7f7"
            ],
            [
             0.6,
             "#e6f5d0"
            ],
            [
             0.7,
             "#b8e186"
            ],
            [
             0.8,
             "#7fbc41"
            ],
            [
             0.9,
             "#4d9221"
            ],
            [
             1,
             "#276419"
            ]
           ],
           "sequential": [
            [
             0,
             "#0d0887"
            ],
            [
             0.1111111111111111,
             "#46039f"
            ],
            [
             0.2222222222222222,
             "#7201a8"
            ],
            [
             0.3333333333333333,
             "#9c179e"
            ],
            [
             0.4444444444444444,
             "#bd3786"
            ],
            [
             0.5555555555555556,
             "#d8576b"
            ],
            [
             0.6666666666666666,
             "#ed7953"
            ],
            [
             0.7777777777777778,
             "#fb9f3a"
            ],
            [
             0.8888888888888888,
             "#fdca26"
            ],
            [
             1,
             "#f0f921"
            ]
           ],
           "sequentialminus": [
            [
             0,
             "#0d0887"
            ],
            [
             0.1111111111111111,
             "#46039f"
            ],
            [
             0.2222222222222222,
             "#7201a8"
            ],
            [
             0.3333333333333333,
             "#9c179e"
            ],
            [
             0.4444444444444444,
             "#bd3786"
            ],
            [
             0.5555555555555556,
             "#d8576b"
            ],
            [
             0.6666666666666666,
             "#ed7953"
            ],
            [
             0.7777777777777778,
             "#fb9f3a"
            ],
            [
             0.8888888888888888,
             "#fdca26"
            ],
            [
             1,
             "#f0f921"
            ]
           ]
          },
          "colorway": [
           "#636efa",
           "#EF553B",
           "#00cc96",
           "#ab63fa",
           "#FFA15A",
           "#19d3f3",
           "#FF6692",
           "#B6E880",
           "#FF97FF",
           "#FECB52"
          ],
          "font": {
           "color": "#2a3f5f"
          },
          "geo": {
           "bgcolor": "white",
           "lakecolor": "white",
           "landcolor": "white",
           "showlakes": true,
           "showland": true,
           "subunitcolor": "#C8D4E3"
          },
          "hoverlabel": {
           "align": "left"
          },
          "hovermode": "closest",
          "mapbox": {
           "style": "light"
          },
          "paper_bgcolor": "white",
          "plot_bgcolor": "white",
          "polar": {
           "angularaxis": {
            "gridcolor": "#EBF0F8",
            "linecolor": "#EBF0F8",
            "ticks": ""
           },
           "bgcolor": "white",
           "radialaxis": {
            "gridcolor": "#EBF0F8",
            "linecolor": "#EBF0F8",
            "ticks": ""
           }
          },
          "scene": {
           "xaxis": {
            "backgroundcolor": "white",
            "gridcolor": "#DFE8F3",
            "gridwidth": 2,
            "linecolor": "#EBF0F8",
            "showbackground": true,
            "ticks": "",
            "zerolinecolor": "#EBF0F8"
           },
           "yaxis": {
            "backgroundcolor": "white",
            "gridcolor": "#DFE8F3",
            "gridwidth": 2,
            "linecolor": "#EBF0F8",
            "showbackground": true,
            "ticks": "",
            "zerolinecolor": "#EBF0F8"
           },
           "zaxis": {
            "backgroundcolor": "white",
            "gridcolor": "#DFE8F3",
            "gridwidth": 2,
            "linecolor": "#EBF0F8",
            "showbackground": true,
            "ticks": "",
            "zerolinecolor": "#EBF0F8"
           }
          },
          "shapedefaults": {
           "line": {
            "color": "#2a3f5f"
           }
          },
          "ternary": {
           "aaxis": {
            "gridcolor": "#DFE8F3",
            "linecolor": "#A2B1C6",
            "ticks": ""
           },
           "baxis": {
            "gridcolor": "#DFE8F3",
            "linecolor": "#A2B1C6",
            "ticks": ""
           },
           "bgcolor": "white",
           "caxis": {
            "gridcolor": "#DFE8F3",
            "linecolor": "#A2B1C6",
            "ticks": ""
           }
          },
          "title": {
           "x": 0.05
          },
          "xaxis": {
           "automargin": true,
           "gridcolor": "#EBF0F8",
           "linecolor": "#EBF0F8",
           "ticks": "",
           "title": {
            "standoff": 15
           },
           "zerolinecolor": "#EBF0F8",
           "zerolinewidth": 2
          },
          "yaxis": {
           "automargin": true,
           "gridcolor": "#EBF0F8",
           "linecolor": "#EBF0F8",
           "ticks": "",
           "title": {
            "standoff": 15
           },
           "zerolinecolor": "#EBF0F8",
           "zerolinewidth": 2
          }
         }
        },
        "title": {
         "text": "Average House Prices in Australia"
        },
        "width": 1000,
        "xaxis": {
         "anchor": "y",
         "domain": [
          0,
          0.94
         ]
        },
        "yaxis": {
         "anchor": "x",
         "domain": [
          0,
          1
         ],
         "title": {
          "text": "Primary Axis"
         },
         "type": "linear"
        },
        "yaxis2": {
         "anchor": "x",
         "overlaying": "y",
         "showgrid": false,
         "side": "right",
         "title": {
          "text": "Secondary Axis"
         },
         "type": "linear"
        }
       }
      }
     },
     "metadata": {},
     "output_type": "display_data"
    }
   ],
   "source": [
    "fig = charting_plotly.dual_axis_basic_plot({\"Aus house prices average\": cl_monthly}, secondary_data={\"YoY % Change\": clm_yoy}, title=\"Average House Prices in Australia\")\n",
    "fig.show()"
   ]
  },
  {
   "cell_type": "code",
   "execution_count": 13,
   "metadata": {},
   "outputs": [
    {
     "data": {
      "text/html": [
       "<div>\n",
       "<style scoped>\n",
       "    .dataframe tbody tr th:only-of-type {\n",
       "        vertical-align: middle;\n",
       "    }\n",
       "\n",
       "    .dataframe tbody tr th {\n",
       "        vertical-align: top;\n",
       "    }\n",
       "\n",
       "    .dataframe thead th {\n",
       "        text-align: right;\n",
       "    }\n",
       "</style>\n",
       "<table border=\"1\" class=\"dataframe\">\n",
       "  <thead>\n",
       "    <tr style=\"text-align: right;\">\n",
       "      <th></th>\n",
       "      <th>id</th>\n",
       "      <th>title</th>\n",
       "      <th>source</th>\n",
       "    </tr>\n",
       "    <tr>\n",
       "      <th>index</th>\n",
       "      <th></th>\n",
       "      <th></th>\n",
       "      <th></th>\n",
       "    </tr>\n",
       "  </thead>\n",
       "  <tbody>\n",
       "    <tr>\n",
       "      <th>australia/corelogic-dwelling-prices-mom</th>\n",
       "      <td>australia/corelogic-dwelling-prices-mom</td>\n",
       "      <td>Australia Cotality Dwelling Prices MoM</td>\n",
       "      <td>tedata</td>\n",
       "    </tr>\n",
       "    <tr>\n",
       "      <th>australia/core-inflation-rate</th>\n",
       "      <td>australia/core-inflation-rate</td>\n",
       "      <td>Australia RBA Trimmed Mean CPI YoY</td>\n",
       "      <td>tedata</td>\n",
       "    </tr>\n",
       "    <tr>\n",
       "      <th>australia/building-permits</th>\n",
       "      <td>australia/building-permits</td>\n",
       "      <td>Australia Building Permits</td>\n",
       "      <td>tedata</td>\n",
       "    </tr>\n",
       "    <tr>\n",
       "      <th>australia/average-house-prices</th>\n",
       "      <td>australia/average-house-prices</td>\n",
       "      <td>Australia Mean Dwelling Price</td>\n",
       "      <td>tedata</td>\n",
       "    </tr>\n",
       "    <tr>\n",
       "      <th>australia/residential-property-prices</th>\n",
       "      <td>australia/residential-property-prices</td>\n",
       "      <td>Australia Residential Property Prices</td>\n",
       "      <td>tedata</td>\n",
       "    </tr>\n",
       "    <tr>\n",
       "      <th>australia/gdp</th>\n",
       "      <td>australia/gdp</td>\n",
       "      <td>Australia GDP</td>\n",
       "      <td>tedata</td>\n",
       "    </tr>\n",
       "    <tr>\n",
       "      <th>australia/government-debt-to-gdp</th>\n",
       "      <td>australia/government-debt-to-gdp</td>\n",
       "      <td>Australia Government Net Debt to GDP</td>\n",
       "      <td>tedata</td>\n",
       "    </tr>\n",
       "    <tr>\n",
       "      <th>australia/gdp-constant-prices</th>\n",
       "      <td>australia/gdp-constant-prices</td>\n",
       "      <td>Australia GDP Constant Prices</td>\n",
       "      <td>tedata</td>\n",
       "    </tr>\n",
       "    <tr>\n",
       "      <th>australia/private-debt-to-gdp</th>\n",
       "      <td>australia/private-debt-to-gdp</td>\n",
       "      <td>Australia Private Debt to GDP</td>\n",
       "      <td>tedata</td>\n",
       "    </tr>\n",
       "    <tr>\n",
       "      <th>australia/government-spending-to-gdp</th>\n",
       "      <td>australia/government-spending-to-gdp</td>\n",
       "      <td>Australia Government Spending To GDP</td>\n",
       "      <td>tedata</td>\n",
       "    </tr>\n",
       "    <tr>\n",
       "      <th>australia/households-debt-to-gdp</th>\n",
       "      <td>australia/households-debt-to-gdp</td>\n",
       "      <td>Australia Households Debt To GDP</td>\n",
       "      <td>tedata</td>\n",
       "    </tr>\n",
       "    <tr>\n",
       "      <th>australia/population</th>\n",
       "      <td>australia/population</td>\n",
       "      <td>Australia Population</td>\n",
       "      <td>tedata</td>\n",
       "    </tr>\n",
       "    <tr>\n",
       "      <th>A128478317T</th>\n",
       "      <td>A128478317T</td>\n",
       "      <td>Index Numbers   All groups CPI   Australia</td>\n",
       "      <td>abs_series</td>\n",
       "    </tr>\n",
       "    <tr>\n",
       "      <th>GCPIAG</th>\n",
       "      <td>GCPIAG</td>\n",
       "      <td>Consumer price index</td>\n",
       "      <td>rba_series</td>\n",
       "    </tr>\n",
       "    <tr>\n",
       "      <th>AUSCPIALLQINMEI</th>\n",
       "      <td>AUSCPIALLQINMEI</td>\n",
       "      <td>Consumer Price Indices (CPIs, HICPs), COICOP 1...</td>\n",
       "      <td>fred</td>\n",
       "    </tr>\n",
       "    <tr>\n",
       "      <th>AUSCPALTT01IXNBQ</th>\n",
       "      <td>AUSCPALTT01IXNBQ</td>\n",
       "      <td>Consumer Price Index: All Items: Total for Aus...</td>\n",
       "      <td>fred</td>\n",
       "    </tr>\n",
       "    <tr>\n",
       "      <th>A83728606K</th>\n",
       "      <td>A83728606K</td>\n",
       "      <td>Value of dwelling stock Owned by All Sectors  ...</td>\n",
       "      <td>abs_series</td>\n",
       "    </tr>\n",
       "    <tr>\n",
       "      <th>A83728611C</th>\n",
       "      <td>A83728611C</td>\n",
       "      <td>Value of dwelling stock Owned by All Sectors  ...</td>\n",
       "      <td>abs_series</td>\n",
       "    </tr>\n",
       "    <tr>\n",
       "      <th>A83728616R</th>\n",
       "      <td>A83728616R</td>\n",
       "      <td>Value of dwelling stock Owned by All Sectors  ...</td>\n",
       "      <td>abs_series</td>\n",
       "    </tr>\n",
       "    <tr>\n",
       "      <th>A83728545T</th>\n",
       "      <td>A83728545T</td>\n",
       "      <td>Median Price of Established House Transfers (U...</td>\n",
       "      <td>abs_series</td>\n",
       "    </tr>\n",
       "    <tr>\n",
       "      <th>A83728546V</th>\n",
       "      <td>A83728546V</td>\n",
       "      <td>Median Price of Attached Dwelling Transfers (U...</td>\n",
       "      <td>abs_series</td>\n",
       "    </tr>\n",
       "    <tr>\n",
       "      <th>A83728607L</th>\n",
       "      <td>A83728607L</td>\n",
       "      <td>Mean price of residential dwellings   New Sout...</td>\n",
       "      <td>abs_series</td>\n",
       "    </tr>\n",
       "    <tr>\n",
       "      <th>A83728605J</th>\n",
       "      <td>A83728605J</td>\n",
       "      <td>Number of residential dwellings   New South Wales</td>\n",
       "      <td>abs_series</td>\n",
       "    </tr>\n",
       "    <tr>\n",
       "      <th>A83728543L</th>\n",
       "      <td>A83728543L</td>\n",
       "      <td>Number of Established House Transfers   Sydney</td>\n",
       "      <td>abs_series</td>\n",
       "    </tr>\n",
       "    <tr>\n",
       "      <th>A2422340L</th>\n",
       "      <td>A2422340L</td>\n",
       "      <td>Gross rent - Imputed rent for owner-occupiers</td>\n",
       "      <td>abs_series</td>\n",
       "    </tr>\n",
       "    <tr>\n",
       "      <th>A2422341R</th>\n",
       "      <td>A2422341R</td>\n",
       "      <td>Gross rent - Actual rent for housing</td>\n",
       "      <td>abs_series</td>\n",
       "    </tr>\n",
       "    <tr>\n",
       "      <th>A2422342T</th>\n",
       "      <td>A2422342T</td>\n",
       "      <td>Total gross rent</td>\n",
       "      <td>abs_series</td>\n",
       "    </tr>\n",
       "    <tr>\n",
       "      <th>A2326751F</th>\n",
       "      <td>A2326751F</td>\n",
       "      <td>Error_A2326751F</td>\n",
       "      <td>abs_series</td>\n",
       "    </tr>\n",
       "  </tbody>\n",
       "</table>\n",
       "</div>"
      ],
      "text/plain": [
       "                                                                              id  \\\n",
       "index                                                                              \n",
       "australia/corelogic-dwelling-prices-mom  australia/corelogic-dwelling-prices-mom   \n",
       "australia/core-inflation-rate                      australia/core-inflation-rate   \n",
       "australia/building-permits                            australia/building-permits   \n",
       "australia/average-house-prices                    australia/average-house-prices   \n",
       "australia/residential-property-prices      australia/residential-property-prices   \n",
       "australia/gdp                                                      australia/gdp   \n",
       "australia/government-debt-to-gdp                australia/government-debt-to-gdp   \n",
       "australia/gdp-constant-prices                      australia/gdp-constant-prices   \n",
       "australia/private-debt-to-gdp                      australia/private-debt-to-gdp   \n",
       "australia/government-spending-to-gdp        australia/government-spending-to-gdp   \n",
       "australia/households-debt-to-gdp                australia/households-debt-to-gdp   \n",
       "australia/population                                        australia/population   \n",
       "A128478317T                                                          A128478317T   \n",
       "GCPIAG                                                                    GCPIAG   \n",
       "AUSCPIALLQINMEI                                                  AUSCPIALLQINMEI   \n",
       "AUSCPALTT01IXNBQ                                                AUSCPALTT01IXNBQ   \n",
       "A83728606K                                                            A83728606K   \n",
       "A83728611C                                                            A83728611C   \n",
       "A83728616R                                                            A83728616R   \n",
       "A83728545T                                                            A83728545T   \n",
       "A83728546V                                                            A83728546V   \n",
       "A83728607L                                                            A83728607L   \n",
       "A83728605J                                                            A83728605J   \n",
       "A83728543L                                                            A83728543L   \n",
       "A2422340L                                                              A2422340L   \n",
       "A2422341R                                                              A2422341R   \n",
       "A2422342T                                                              A2422342T   \n",
       "A2326751F                                                              A2326751F   \n",
       "\n",
       "                                                                                     title  \\\n",
       "index                                                                                        \n",
       "australia/corelogic-dwelling-prices-mom             Australia Cotality Dwelling Prices MoM   \n",
       "australia/core-inflation-rate                           Australia RBA Trimmed Mean CPI YoY   \n",
       "australia/building-permits                                      Australia Building Permits   \n",
       "australia/average-house-prices                               Australia Mean Dwelling Price   \n",
       "australia/residential-property-prices                Australia Residential Property Prices   \n",
       "australia/gdp                                                                Australia GDP   \n",
       "australia/government-debt-to-gdp                      Australia Government Net Debt to GDP   \n",
       "australia/gdp-constant-prices                                Australia GDP Constant Prices   \n",
       "australia/private-debt-to-gdp                                Australia Private Debt to GDP   \n",
       "australia/government-spending-to-gdp                  Australia Government Spending To GDP   \n",
       "australia/households-debt-to-gdp                          Australia Households Debt To GDP   \n",
       "australia/population                                                  Australia Population   \n",
       "A128478317T                                     Index Numbers   All groups CPI   Australia   \n",
       "GCPIAG                                                                Consumer price index   \n",
       "AUSCPIALLQINMEI                          Consumer Price Indices (CPIs, HICPs), COICOP 1...   \n",
       "AUSCPALTT01IXNBQ                         Consumer Price Index: All Items: Total for Aus...   \n",
       "A83728606K                               Value of dwelling stock Owned by All Sectors  ...   \n",
       "A83728611C                               Value of dwelling stock Owned by All Sectors  ...   \n",
       "A83728616R                               Value of dwelling stock Owned by All Sectors  ...   \n",
       "A83728545T                               Median Price of Established House Transfers (U...   \n",
       "A83728546V                               Median Price of Attached Dwelling Transfers (U...   \n",
       "A83728607L                               Mean price of residential dwellings   New Sout...   \n",
       "A83728605J                               Number of residential dwellings   New South Wales   \n",
       "A83728543L                                  Number of Established House Transfers   Sydney   \n",
       "A2422340L                                    Gross rent - Imputed rent for owner-occupiers   \n",
       "A2422341R                                             Gross rent - Actual rent for housing   \n",
       "A2422342T                                                                 Total gross rent   \n",
       "A2326751F                                                                  Error_A2326751F   \n",
       "\n",
       "                                             source  \n",
       "index                                                \n",
       "australia/corelogic-dwelling-prices-mom      tedata  \n",
       "australia/core-inflation-rate                tedata  \n",
       "australia/building-permits                   tedata  \n",
       "australia/average-house-prices               tedata  \n",
       "australia/residential-property-prices        tedata  \n",
       "australia/gdp                                tedata  \n",
       "australia/government-debt-to-gdp             tedata  \n",
       "australia/gdp-constant-prices                tedata  \n",
       "australia/private-debt-to-gdp                tedata  \n",
       "australia/government-spending-to-gdp         tedata  \n",
       "australia/households-debt-to-gdp             tedata  \n",
       "australia/population                         tedata  \n",
       "A128478317T                              abs_series  \n",
       "GCPIAG                                   rba_series  \n",
       "AUSCPIALLQINMEI                                fred  \n",
       "AUSCPALTT01IXNBQ                               fred  \n",
       "A83728606K                               abs_series  \n",
       "A83728611C                               abs_series  \n",
       "A83728616R                               abs_series  \n",
       "A83728545T                               abs_series  \n",
       "A83728546V                               abs_series  \n",
       "A83728607L                               abs_series  \n",
       "A83728605J                               abs_series  \n",
       "A83728543L                               abs_series  \n",
       "A2422340L                                abs_series  \n",
       "A2422341R                                abs_series  \n",
       "A2422342T                                abs_series  \n",
       "A2326751F                                abs_series  "
      ]
     },
     "execution_count": 13,
     "metadata": {},
     "output_type": "execute_result"
    }
   ],
   "source": [
    "watched[\"watchlist\"]"
   ]
  },
  {
   "cell_type": "code",
   "execution_count": 21,
   "metadata": {},
   "outputs": [
    {
     "data": {
      "application/vnd.plotly.v1+json": {
       "config": {
        "plotlyServerURL": "https://plot.ly"
       },
       "data": [
        {
         "mode": "lines",
         "name": "Mean price of residential dwellings   New South Wales",
         "type": "scatter",
         "x": [
          "2011-09-01T00:00:00",
          "2011-12-01T00:00:00",
          "2012-03-01T00:00:00",
          "2012-06-01T00:00:00",
          "2012-09-01T00:00:00",
          "2012-12-01T00:00:00",
          "2013-03-01T00:00:00",
          "2013-06-01T00:00:00",
          "2013-09-01T00:00:00",
          "2013-12-01T00:00:00",
          "2014-03-01T00:00:00",
          "2014-06-01T00:00:00",
          "2014-09-01T00:00:00",
          "2014-12-01T00:00:00",
          "2015-03-01T00:00:00",
          "2015-06-01T00:00:00",
          "2015-09-01T00:00:00",
          "2015-12-01T00:00:00",
          "2016-03-01T00:00:00",
          "2016-06-01T00:00:00",
          "2016-09-01T00:00:00",
          "2016-12-01T00:00:00",
          "2017-03-01T00:00:00",
          "2017-06-01T00:00:00",
          "2017-09-01T00:00:00",
          "2017-12-01T00:00:00",
          "2018-03-01T00:00:00",
          "2018-06-01T00:00:00",
          "2018-09-01T00:00:00",
          "2018-12-01T00:00:00",
          "2019-03-01T00:00:00",
          "2019-06-01T00:00:00",
          "2019-09-01T00:00:00",
          "2019-12-01T00:00:00",
          "2020-03-01T00:00:00",
          "2020-06-01T00:00:00",
          "2020-09-01T00:00:00",
          "2020-12-01T00:00:00",
          "2021-03-01T00:00:00",
          "2021-06-01T00:00:00",
          "2021-09-01T00:00:00",
          "2021-12-01T00:00:00",
          "2022-03-01T00:00:00",
          "2022-06-01T00:00:00",
          "2022-09-01T00:00:00",
          "2022-12-01T00:00:00",
          "2023-03-01T00:00:00",
          "2023-06-01T00:00:00",
          "2023-09-01T00:00:00",
          "2023-12-01T00:00:00",
          "2024-03-01T00:00:00",
          "2024-06-01T00:00:00",
          "2024-09-01T00:00:00",
          "2024-12-01T00:00:00",
          "2025-03-01T00:00:00"
         ],
         "xaxis": "x",
         "y": {
          "bdata": "ZmZmZmbmgEBmZmZmZrqAQM3MzMzMGIFAmpmZmZlBgUAAAAAAAASBQAAAAAAAkIFAZmZmZmbKgUAAAAAAACCCQAAAAAAAkIJAzczMzMxkg0CamZmZmbmDQDMzMzMzT4RAAAAAAADUhEAAAAAAAKyFQJqZmZmZcYZAMzMzMzPHh0DNzMzMzKCIQGZmZmZmbohAZmZmZmZaiEAAAAAAABCJQJqZmZmZvYlAmpmZmZnVikBmZmZmZq6LQDMzMzMzV4xAMzMzMzMPjECamZmZmVWMQGZmZmZmHoxAzczMzMywi0AAAAAAACSLQGZmZmZmaopAmpmZmZnNiUAAAAAAANyJQGZmZmZm/opAmpmZmZmdi0BmZmZmZv6LQAAAAAAAwItAMzMzMzOHjEDNzMzMzMSNQM3MzMzMcI9AMzMzMzNRkEAzMzMzM/GRQJqZmZmZ45JAzczMzMwUk0AzMzMzM52SQM3MzMzMwJFAmpmZmZm1kUBmZmZmZqaRQM3MzMzMapJAMzMzMzNzkkCamZmZmd+SQGZmZmZmBpNAZmZmZmZOk0AAAAAAAEKTQAAAAAAAYJNAmpmZmZl3k0A=",
          "dtype": "f8"
         },
         "yaxis": "y"
        },
        {
         "mode": "lines",
         "name": "Median Price of Established House Transfers (Unstratified)   Sydney",
         "type": "scatter",
         "x": [
          "2002-03-01T00:00:00",
          "2002-06-01T00:00:00",
          "2002-09-01T00:00:00",
          "2002-12-01T00:00:00",
          "2003-03-01T00:00:00",
          "2003-06-01T00:00:00",
          "2003-09-01T00:00:00",
          "2003-12-01T00:00:00",
          "2004-03-01T00:00:00",
          "2004-06-01T00:00:00",
          "2004-09-01T00:00:00",
          "2004-12-01T00:00:00",
          "2005-03-01T00:00:00",
          "2005-06-01T00:00:00",
          "2005-09-01T00:00:00",
          "2005-12-01T00:00:00",
          "2006-03-01T00:00:00",
          "2006-06-01T00:00:00",
          "2006-09-01T00:00:00",
          "2006-12-01T00:00:00",
          "2007-03-01T00:00:00",
          "2007-06-01T00:00:00",
          "2007-09-01T00:00:00",
          "2007-12-01T00:00:00",
          "2008-03-01T00:00:00",
          "2008-06-01T00:00:00",
          "2008-09-01T00:00:00",
          "2008-12-01T00:00:00",
          "2009-03-01T00:00:00",
          "2009-06-01T00:00:00",
          "2009-09-01T00:00:00",
          "2009-12-01T00:00:00",
          "2010-03-01T00:00:00",
          "2010-06-01T00:00:00",
          "2010-09-01T00:00:00",
          "2010-12-01T00:00:00",
          "2011-03-01T00:00:00",
          "2011-06-01T00:00:00",
          "2011-09-01T00:00:00",
          "2011-12-01T00:00:00",
          "2012-03-01T00:00:00",
          "2012-06-01T00:00:00",
          "2012-09-01T00:00:00",
          "2012-12-01T00:00:00",
          "2013-03-01T00:00:00",
          "2013-06-01T00:00:00",
          "2013-09-01T00:00:00",
          "2013-12-01T00:00:00",
          "2014-03-01T00:00:00",
          "2014-06-01T00:00:00",
          "2014-09-01T00:00:00",
          "2014-12-01T00:00:00",
          "2015-03-01T00:00:00",
          "2015-06-01T00:00:00",
          "2015-09-01T00:00:00",
          "2015-12-01T00:00:00",
          "2016-03-01T00:00:00",
          "2016-06-01T00:00:00",
          "2016-09-01T00:00:00",
          "2016-12-01T00:00:00",
          "2017-03-01T00:00:00",
          "2017-06-01T00:00:00",
          "2017-09-01T00:00:00",
          "2017-12-01T00:00:00",
          "2018-03-01T00:00:00",
          "2018-06-01T00:00:00",
          "2018-09-01T00:00:00",
          "2018-12-01T00:00:00",
          "2019-03-01T00:00:00",
          "2019-06-01T00:00:00",
          "2019-09-01T00:00:00",
          "2019-12-01T00:00:00",
          "2020-03-01T00:00:00",
          "2020-06-01T00:00:00",
          "2020-09-01T00:00:00",
          "2020-12-01T00:00:00",
          "2021-03-01T00:00:00",
          "2021-06-01T00:00:00",
          "2021-09-01T00:00:00",
          "2021-12-01T00:00:00",
          "2022-03-01T00:00:00",
          "2022-06-01T00:00:00",
          "2022-09-01T00:00:00",
          "2022-12-01T00:00:00",
          "2023-03-01T00:00:00",
          "2023-06-01T00:00:00",
          "2023-09-01T00:00:00",
          "2023-12-01T00:00:00",
          "2024-03-01T00:00:00",
          "2024-06-01T00:00:00",
          "2024-09-01T00:00:00",
          "2024-12-01T00:00:00",
          "2025-03-01T00:00:00"
         ],
         "xaxis": "x",
         "y": {
          "bdata": "AAAAAADQdkAAAAAAAJh4QAAAAAAA0HlAAAAAAADAe0AAAAAAACh7QAAAAAAAwHxAAAAAAAAAfkAAAAAAAECAQAAAAAAAWIBAAAAAAAAgf0AAAAAAAEB/QAAAAAAAGIBAAAAAAABgfkAAAAAAAEB/QAAAAAAAoH5AAAAAAABAf0AAAAAAAGB9QAAAAAAA8H5AAAAAAAAgfkAAAAAAAEB/QAAAAAAAAH5AZmZmZmYCgEAAAAAAABCAQAAAAAAA4IBAAAAAAADwfkAAAAAAACiAQAAAAAAAIH5AAAAAAABAfUAAAAAAAAB8QAAAAAAAoH5AAAAAAABAf0AAAAAAAJiCQAAAAAAAOIJAAAAAAAAkg0AAAAAAALCCQAAAAAAAYINAAAAAAAD4gUAAAAAAAICCQAAAAAAAuIFAAAAAAACogEAAAAAAAPyCQAAAAAAAwIJAAAAAAABIgkAAAAAAAACEQAAAAAAAOINAAAAAAABQhEAAAAAAAPCEQAAAAAAASIdAAAAAAABAhUAAAAAAAMCGQAAAAAAA0IZAAAAAAACAiUAAAAAAAMSIQAAAAAAA4IpAmpmZmZnBi0AAAAAAAJiMQAAAAAAAkIpAAAAAAAD4i0AAAAAAACCMQAAAAAAAzI5AAAAAAAAQjUAAAAAAAGiQQAAAAAAAsI1AAAAAAAAUkEAAAAAAANiNQM3MzMzMaI5AAAAAAACwjUAAAAAAAGCNQAAAAAAAMItAAAAAAAAIjEAAAAAAACCMQAAAAAAAyI5AAAAAAACcjUAAAAAAANiNQAAAAAAAiI1AAAAAAAA4j0AAAAAAAHCQQJqZmZmZ2ZJAAAAAAABQlEAAAAAAAECVQAAAAAAAtJRAAAAAAAAYlUAAAAAAAFCUQAAAAAAAUJRAAAAAAACck0AAAAAAAECVQAAAAAAAfJVAAAAAAAAwlkAAAAAAAPSVQAAAAAAA0JZAAAAAAAD0lUAAAAAAAKiWQAAAAAAAzJVA",
          "dtype": "f8"
         },
         "yaxis": "y"
        },
        {
         "mode": "lines",
         "name": "Gross rent - Actual rent for housing",
         "type": "scatter",
         "x": [
          "1960-06-01T00:00:00",
          "1961-06-01T00:00:00",
          "1962-06-01T00:00:00",
          "1963-06-01T00:00:00",
          "1964-06-01T00:00:00",
          "1965-06-01T00:00:00",
          "1966-06-01T00:00:00",
          "1967-06-01T00:00:00",
          "1968-06-01T00:00:00",
          "1969-06-01T00:00:00",
          "1970-06-01T00:00:00",
          "1971-06-01T00:00:00",
          "1972-06-01T00:00:00",
          "1973-06-01T00:00:00",
          "1974-06-01T00:00:00",
          "1975-06-01T00:00:00",
          "1976-06-01T00:00:00",
          "1977-06-01T00:00:00",
          "1978-06-01T00:00:00",
          "1979-06-01T00:00:00",
          "1980-06-01T00:00:00",
          "1981-06-01T00:00:00",
          "1982-06-01T00:00:00",
          "1983-06-01T00:00:00",
          "1984-06-01T00:00:00",
          "1985-06-01T00:00:00",
          "1986-06-01T00:00:00",
          "1987-06-01T00:00:00",
          "1988-06-01T00:00:00",
          "1989-06-01T00:00:00",
          "1990-06-01T00:00:00",
          "1991-06-01T00:00:00",
          "1992-06-01T00:00:00",
          "1993-06-01T00:00:00",
          "1994-06-01T00:00:00",
          "1995-06-01T00:00:00",
          "1996-06-01T00:00:00",
          "1997-06-01T00:00:00",
          "1998-06-01T00:00:00",
          "1999-06-01T00:00:00",
          "2000-06-01T00:00:00",
          "2001-06-01T00:00:00",
          "2002-06-01T00:00:00",
          "2003-06-01T00:00:00",
          "2004-06-01T00:00:00",
          "2005-06-01T00:00:00",
          "2006-06-01T00:00:00",
          "2007-06-01T00:00:00",
          "2008-06-01T00:00:00",
          "2009-06-01T00:00:00",
          "2010-06-01T00:00:00",
          "2011-06-01T00:00:00",
          "2012-06-01T00:00:00",
          "2013-06-01T00:00:00",
          "2014-06-01T00:00:00",
          "2015-06-01T00:00:00",
          "2016-06-01T00:00:00",
          "2017-06-01T00:00:00",
          "2018-06-01T00:00:00",
          "2019-06-01T00:00:00",
          "2020-06-01T00:00:00",
          "2021-06-01T00:00:00",
          "2022-06-01T00:00:00",
          "2023-06-01T00:00:00",
          "2024-06-01T00:00:00"
         ],
         "xaxis": "x",
         "y": {
          "bdata": "AAAAAAAA+H8AAAAAAAD4fwAAAAAAAPh/AAAAAAAA+H8AAAAAAAD4fwAAAAAAAPh/AAAAAAAA+H8AAAAAAAD4fwAAAAAAAPh/AAAAAAAA+H8AAAAAAAD4fwAAAAAAAPh/AAAAAAAA+H8AAAAAAAD4fwAAAAAAAPh/AAAAAAAA+H8AAAAAAAD4fwAAAAAAAPh/AAAAAAAA+H8AAAAAAAD4fwAAAAAAAPh/AAAAAAAA+H8AAAAAAAD4fwAAAAAAAPh/AAAAAAAA+H8AAAAAAAD4fwAAAAAAAPh/AAAAAAAA+H8AAAAAAAD4fwAAAAAAAPh/AAAAAACOxEAAAAAAgN3GQAAAAAAAg8hAAAAAAID8yEAAAAAAgHXJQAAAAAAAV8pAAAAAAABhy0AAAAAAgLTMQAAAAACAc85AAAAAAMAb0EAAAAAAQCLRQAAAAABAQtJAAAAAAEBN00AAAAAAwATUQAAAAAAA19RAAAAAAACq1UAAAAAAAIbWQAAAAAAAQ9hAAAAAAEBy2kAAAAAAgD/dQAAAAABAZ99AAAAAAKC+4EAAAAAA4PnhQAAAAAAgOONAAAAAAMCB5EAAAAAAoI7lQAAAAABAbeZAAAAAAKBD50AAAAAAgH3oQAAAAACAyOlAAAAAAMCy6kAAAAAAgPvqQAAAAADgIuxAAAAAAIAJ70AAAAAAQFHxQA==",
          "dtype": "f8"
         },
         "yaxis": "y2"
        },
        {
         "mode": "lines",
         "name": "Gross rent - Imputed rent for owner-occupiers",
         "type": "scatter",
         "x": [
          "1960-06-01T00:00:00",
          "1961-06-01T00:00:00",
          "1962-06-01T00:00:00",
          "1963-06-01T00:00:00",
          "1964-06-01T00:00:00",
          "1965-06-01T00:00:00",
          "1966-06-01T00:00:00",
          "1967-06-01T00:00:00",
          "1968-06-01T00:00:00",
          "1969-06-01T00:00:00",
          "1970-06-01T00:00:00",
          "1971-06-01T00:00:00",
          "1972-06-01T00:00:00",
          "1973-06-01T00:00:00",
          "1974-06-01T00:00:00",
          "1975-06-01T00:00:00",
          "1976-06-01T00:00:00",
          "1977-06-01T00:00:00",
          "1978-06-01T00:00:00",
          "1979-06-01T00:00:00",
          "1980-06-01T00:00:00",
          "1981-06-01T00:00:00",
          "1982-06-01T00:00:00",
          "1983-06-01T00:00:00",
          "1984-06-01T00:00:00",
          "1985-06-01T00:00:00",
          "1986-06-01T00:00:00",
          "1987-06-01T00:00:00",
          "1988-06-01T00:00:00",
          "1989-06-01T00:00:00",
          "1990-06-01T00:00:00",
          "1991-06-01T00:00:00",
          "1992-06-01T00:00:00",
          "1993-06-01T00:00:00",
          "1994-06-01T00:00:00",
          "1995-06-01T00:00:00",
          "1996-06-01T00:00:00",
          "1997-06-01T00:00:00",
          "1998-06-01T00:00:00",
          "1999-06-01T00:00:00",
          "2000-06-01T00:00:00",
          "2001-06-01T00:00:00",
          "2002-06-01T00:00:00",
          "2003-06-01T00:00:00",
          "2004-06-01T00:00:00",
          "2005-06-01T00:00:00",
          "2006-06-01T00:00:00",
          "2007-06-01T00:00:00",
          "2008-06-01T00:00:00",
          "2009-06-01T00:00:00",
          "2010-06-01T00:00:00",
          "2011-06-01T00:00:00",
          "2012-06-01T00:00:00",
          "2013-06-01T00:00:00",
          "2014-06-01T00:00:00",
          "2015-06-01T00:00:00",
          "2016-06-01T00:00:00",
          "2017-06-01T00:00:00",
          "2018-06-01T00:00:00",
          "2019-06-01T00:00:00",
          "2020-06-01T00:00:00",
          "2021-06-01T00:00:00",
          "2022-06-01T00:00:00",
          "2023-06-01T00:00:00",
          "2024-06-01T00:00:00"
         ],
         "xaxis": "x",
         "y": {
          "bdata": "AAAAAAAA+H8AAAAAAAD4fwAAAAAAAPh/AAAAAAAA+H8AAAAAAAD4fwAAAAAAAPh/AAAAAAAA+H8AAAAAAAD4fwAAAAAAAPh/AAAAAAAA+H8AAAAAAAD4fwAAAAAAAPh/AAAAAAAA+H8AAAAAAAD4fwAAAAAAAPh/AAAAAAAA+H8AAAAAAAD4fwAAAAAAAPh/AAAAAAAA+H8AAAAAAAD4fwAAAAAAAPh/AAAAAAAA+H8AAAAAAAD4fwAAAAAAAPh/AAAAAAAA+H8AAAAAAAD4fwAAAAAAAPh/AAAAAAAA+H8AAAAAAAD4fwAAAAAAAPh/AAAAAACW20AAAAAAwKndQAAAAABA4N5AAAAAAGAT4EAAAAAAwMvgQAAAAABAiOFAAAAAAECP4kAAAAAAAJnjQAAAAABA2eRAAAAAAEAX5kAAAAAAYIbnQAAAAADAEOlAAAAAAIDI6kAAAAAAIAntQAAAAAAgge9AAAAAALAl8UAAAAAAALvyQAAAAAAAaPRAAAAAAPBQ9kAAAAAAoKr4QAAAAAAwafpAAAAAAKAR/EAAAAAAcNn9QAAAAAAAaP9AAAAAANhNAEEAAAAAIAEBQQAAAAAojAFBAAAAAAAeAkEAAAAAUPcCQQAAAACozQNBAAAAAMCQBEEAAAAAiFEFQQAAAAAgOwZBAAAAABjLB0EAAAAAmFAKQQ==",
          "dtype": "f8"
         },
         "yaxis": "y2"
        }
       ],
       "layout": {
        "font": {
         "color": "black",
         "family": "Arial, sans-serif",
         "size": 14
        },
        "height": 600,
        "hovermode": "x unified",
        "legend": {
         "bgcolor": "rgba(255,255,255,0)",
         "bordercolor": "rgba(255,255,255,0)",
         "orientation": "h",
         "x": 0.5,
         "xanchor": "center",
         "y": -0.22,
         "yanchor": "top"
        },
        "margin": {
         "b": 110,
         "l": 50,
         "r": 50,
         "t": 40
        },
        "template": {
         "data": {
          "bar": [
           {
            "error_x": {
             "color": "#2a3f5f"
            },
            "error_y": {
             "color": "#2a3f5f"
            },
            "marker": {
             "line": {
              "color": "white",
              "width": 0.5
             },
             "pattern": {
              "fillmode": "overlay",
              "size": 10,
              "solidity": 0.2
             }
            },
            "type": "bar"
           }
          ],
          "barpolar": [
           {
            "marker": {
             "line": {
              "color": "white",
              "width": 0.5
             },
             "pattern": {
              "fillmode": "overlay",
              "size": 10,
              "solidity": 0.2
             }
            },
            "type": "barpolar"
           }
          ],
          "carpet": [
           {
            "aaxis": {
             "endlinecolor": "#2a3f5f",
             "gridcolor": "#C8D4E3",
             "linecolor": "#C8D4E3",
             "minorgridcolor": "#C8D4E3",
             "startlinecolor": "#2a3f5f"
            },
            "baxis": {
             "endlinecolor": "#2a3f5f",
             "gridcolor": "#C8D4E3",
             "linecolor": "#C8D4E3",
             "minorgridcolor": "#C8D4E3",
             "startlinecolor": "#2a3f5f"
            },
            "type": "carpet"
           }
          ],
          "choropleth": [
           {
            "colorbar": {
             "outlinewidth": 0,
             "ticks": ""
            },
            "type": "choropleth"
           }
          ],
          "contour": [
           {
            "colorbar": {
             "outlinewidth": 0,
             "ticks": ""
            },
            "colorscale": [
             [
              0,
              "#0d0887"
             ],
             [
              0.1111111111111111,
              "#46039f"
             ],
             [
              0.2222222222222222,
              "#7201a8"
             ],
             [
              0.3333333333333333,
              "#9c179e"
             ],
             [
              0.4444444444444444,
              "#bd3786"
             ],
             [
              0.5555555555555556,
              "#d8576b"
             ],
             [
              0.6666666666666666,
              "#ed7953"
             ],
             [
              0.7777777777777778,
              "#fb9f3a"
             ],
             [
              0.8888888888888888,
              "#fdca26"
             ],
             [
              1,
              "#f0f921"
             ]
            ],
            "type": "contour"
           }
          ],
          "contourcarpet": [
           {
            "colorbar": {
             "outlinewidth": 0,
             "ticks": ""
            },
            "type": "contourcarpet"
           }
          ],
          "heatmap": [
           {
            "colorbar": {
             "outlinewidth": 0,
             "ticks": ""
            },
            "colorscale": [
             [
              0,
              "#0d0887"
             ],
             [
              0.1111111111111111,
              "#46039f"
             ],
             [
              0.2222222222222222,
              "#7201a8"
             ],
             [
              0.3333333333333333,
              "#9c179e"
             ],
             [
              0.4444444444444444,
              "#bd3786"
             ],
             [
              0.5555555555555556,
              "#d8576b"
             ],
             [
              0.6666666666666666,
              "#ed7953"
             ],
             [
              0.7777777777777778,
              "#fb9f3a"
             ],
             [
              0.8888888888888888,
              "#fdca26"
             ],
             [
              1,
              "#f0f921"
             ]
            ],
            "type": "heatmap"
           }
          ],
          "histogram": [
           {
            "marker": {
             "pattern": {
              "fillmode": "overlay",
              "size": 10,
              "solidity": 0.2
             }
            },
            "type": "histogram"
           }
          ],
          "histogram2d": [
           {
            "colorbar": {
             "outlinewidth": 0,
             "ticks": ""
            },
            "colorscale": [
             [
              0,
              "#0d0887"
             ],
             [
              0.1111111111111111,
              "#46039f"
             ],
             [
              0.2222222222222222,
              "#7201a8"
             ],
             [
              0.3333333333333333,
              "#9c179e"
             ],
             [
              0.4444444444444444,
              "#bd3786"
             ],
             [
              0.5555555555555556,
              "#d8576b"
             ],
             [
              0.6666666666666666,
              "#ed7953"
             ],
             [
              0.7777777777777778,
              "#fb9f3a"
             ],
             [
              0.8888888888888888,
              "#fdca26"
             ],
             [
              1,
              "#f0f921"
             ]
            ],
            "type": "histogram2d"
           }
          ],
          "histogram2dcontour": [
           {
            "colorbar": {
             "outlinewidth": 0,
             "ticks": ""
            },
            "colorscale": [
             [
              0,
              "#0d0887"
             ],
             [
              0.1111111111111111,
              "#46039f"
             ],
             [
              0.2222222222222222,
              "#7201a8"
             ],
             [
              0.3333333333333333,
              "#9c179e"
             ],
             [
              0.4444444444444444,
              "#bd3786"
             ],
             [
              0.5555555555555556,
              "#d8576b"
             ],
             [
              0.6666666666666666,
              "#ed7953"
             ],
             [
              0.7777777777777778,
              "#fb9f3a"
             ],
             [
              0.8888888888888888,
              "#fdca26"
             ],
             [
              1,
              "#f0f921"
             ]
            ],
            "type": "histogram2dcontour"
           }
          ],
          "mesh3d": [
           {
            "colorbar": {
             "outlinewidth": 0,
             "ticks": ""
            },
            "type": "mesh3d"
           }
          ],
          "parcoords": [
           {
            "line": {
             "colorbar": {
              "outlinewidth": 0,
              "ticks": ""
             }
            },
            "type": "parcoords"
           }
          ],
          "pie": [
           {
            "automargin": true,
            "type": "pie"
           }
          ],
          "scatter": [
           {
            "fillpattern": {
             "fillmode": "overlay",
             "size": 10,
             "solidity": 0.2
            },
            "type": "scatter"
           }
          ],
          "scatter3d": [
           {
            "line": {
             "colorbar": {
              "outlinewidth": 0,
              "ticks": ""
             }
            },
            "marker": {
             "colorbar": {
              "outlinewidth": 0,
              "ticks": ""
             }
            },
            "type": "scatter3d"
           }
          ],
          "scattercarpet": [
           {
            "marker": {
             "colorbar": {
              "outlinewidth": 0,
              "ticks": ""
             }
            },
            "type": "scattercarpet"
           }
          ],
          "scattergeo": [
           {
            "marker": {
             "colorbar": {
              "outlinewidth": 0,
              "ticks": ""
             }
            },
            "type": "scattergeo"
           }
          ],
          "scattergl": [
           {
            "marker": {
             "colorbar": {
              "outlinewidth": 0,
              "ticks": ""
             }
            },
            "type": "scattergl"
           }
          ],
          "scattermap": [
           {
            "marker": {
             "colorbar": {
              "outlinewidth": 0,
              "ticks": ""
             }
            },
            "type": "scattermap"
           }
          ],
          "scattermapbox": [
           {
            "marker": {
             "colorbar": {
              "outlinewidth": 0,
              "ticks": ""
             }
            },
            "type": "scattermapbox"
           }
          ],
          "scatterpolar": [
           {
            "marker": {
             "colorbar": {
              "outlinewidth": 0,
              "ticks": ""
             }
            },
            "type": "scatterpolar"
           }
          ],
          "scatterpolargl": [
           {
            "marker": {
             "colorbar": {
              "outlinewidth": 0,
              "ticks": ""
             }
            },
            "type": "scatterpolargl"
           }
          ],
          "scatterternary": [
           {
            "marker": {
             "colorbar": {
              "outlinewidth": 0,
              "ticks": ""
             }
            },
            "type": "scatterternary"
           }
          ],
          "surface": [
           {
            "colorbar": {
             "outlinewidth": 0,
             "ticks": ""
            },
            "colorscale": [
             [
              0,
              "#0d0887"
             ],
             [
              0.1111111111111111,
              "#46039f"
             ],
             [
              0.2222222222222222,
              "#7201a8"
             ],
             [
              0.3333333333333333,
              "#9c179e"
             ],
             [
              0.4444444444444444,
              "#bd3786"
             ],
             [
              0.5555555555555556,
              "#d8576b"
             ],
             [
              0.6666666666666666,
              "#ed7953"
             ],
             [
              0.7777777777777778,
              "#fb9f3a"
             ],
             [
              0.8888888888888888,
              "#fdca26"
             ],
             [
              1,
              "#f0f921"
             ]
            ],
            "type": "surface"
           }
          ],
          "table": [
           {
            "cells": {
             "fill": {
              "color": "#EBF0F8"
             },
             "line": {
              "color": "white"
             }
            },
            "header": {
             "fill": {
              "color": "#C8D4E3"
             },
             "line": {
              "color": "white"
             }
            },
            "type": "table"
           }
          ]
         },
         "layout": {
          "annotationdefaults": {
           "arrowcolor": "#2a3f5f",
           "arrowhead": 0,
           "arrowwidth": 1
          },
          "autotypenumbers": "strict",
          "coloraxis": {
           "colorbar": {
            "outlinewidth": 0,
            "ticks": ""
           }
          },
          "colorscale": {
           "diverging": [
            [
             0,
             "#8e0152"
            ],
            [
             0.1,
             "#c51b7d"
            ],
            [
             0.2,
             "#de77ae"
            ],
            [
             0.3,
             "#f1b6da"
            ],
            [
             0.4,
             "#fde0ef"
            ],
            [
             0.5,
             "#f7f7f7"
            ],
            [
             0.6,
             "#e6f5d0"
            ],
            [
             0.7,
             "#b8e186"
            ],
            [
             0.8,
             "#7fbc41"
            ],
            [
             0.9,
             "#4d9221"
            ],
            [
             1,
             "#276419"
            ]
           ],
           "sequential": [
            [
             0,
             "#0d0887"
            ],
            [
             0.1111111111111111,
             "#46039f"
            ],
            [
             0.2222222222222222,
             "#7201a8"
            ],
            [
             0.3333333333333333,
             "#9c179e"
            ],
            [
             0.4444444444444444,
             "#bd3786"
            ],
            [
             0.5555555555555556,
             "#d8576b"
            ],
            [
             0.6666666666666666,
             "#ed7953"
            ],
            [
             0.7777777777777778,
             "#fb9f3a"
            ],
            [
             0.8888888888888888,
             "#fdca26"
            ],
            [
             1,
             "#f0f921"
            ]
           ],
           "sequentialminus": [
            [
             0,
             "#0d0887"
            ],
            [
             0.1111111111111111,
             "#46039f"
            ],
            [
             0.2222222222222222,
             "#7201a8"
            ],
            [
             0.3333333333333333,
             "#9c179e"
            ],
            [
             0.4444444444444444,
             "#bd3786"
            ],
            [
             0.5555555555555556,
             "#d8576b"
            ],
            [
             0.6666666666666666,
             "#ed7953"
            ],
            [
             0.7777777777777778,
             "#fb9f3a"
            ],
            [
             0.8888888888888888,
             "#fdca26"
            ],
            [
             1,
             "#f0f921"
            ]
           ]
          },
          "colorway": [
           "#636efa",
           "#EF553B",
           "#00cc96",
           "#ab63fa",
           "#FFA15A",
           "#19d3f3",
           "#FF6692",
           "#B6E880",
           "#FF97FF",
           "#FECB52"
          ],
          "font": {
           "color": "#2a3f5f"
          },
          "geo": {
           "bgcolor": "white",
           "lakecolor": "white",
           "landcolor": "white",
           "showlakes": true,
           "showland": true,
           "subunitcolor": "#C8D4E3"
          },
          "hoverlabel": {
           "align": "left"
          },
          "hovermode": "closest",
          "mapbox": {
           "style": "light"
          },
          "paper_bgcolor": "white",
          "plot_bgcolor": "white",
          "polar": {
           "angularaxis": {
            "gridcolor": "#EBF0F8",
            "linecolor": "#EBF0F8",
            "ticks": ""
           },
           "bgcolor": "white",
           "radialaxis": {
            "gridcolor": "#EBF0F8",
            "linecolor": "#EBF0F8",
            "ticks": ""
           }
          },
          "scene": {
           "xaxis": {
            "backgroundcolor": "white",
            "gridcolor": "#DFE8F3",
            "gridwidth": 2,
            "linecolor": "#EBF0F8",
            "showbackground": true,
            "ticks": "",
            "zerolinecolor": "#EBF0F8"
           },
           "yaxis": {
            "backgroundcolor": "white",
            "gridcolor": "#DFE8F3",
            "gridwidth": 2,
            "linecolor": "#EBF0F8",
            "showbackground": true,
            "ticks": "",
            "zerolinecolor": "#EBF0F8"
           },
           "zaxis": {
            "backgroundcolor": "white",
            "gridcolor": "#DFE8F3",
            "gridwidth": 2,
            "linecolor": "#EBF0F8",
            "showbackground": true,
            "ticks": "",
            "zerolinecolor": "#EBF0F8"
           }
          },
          "shapedefaults": {
           "line": {
            "color": "#2a3f5f"
           }
          },
          "ternary": {
           "aaxis": {
            "gridcolor": "#DFE8F3",
            "linecolor": "#A2B1C6",
            "ticks": ""
           },
           "baxis": {
            "gridcolor": "#DFE8F3",
            "linecolor": "#A2B1C6",
            "ticks": ""
           },
           "bgcolor": "white",
           "caxis": {
            "gridcolor": "#DFE8F3",
            "linecolor": "#A2B1C6",
            "ticks": ""
           }
          },
          "title": {
           "x": 0.05
          },
          "xaxis": {
           "automargin": true,
           "gridcolor": "#EBF0F8",
           "linecolor": "#EBF0F8",
           "ticks": "",
           "title": {
            "standoff": 15
           },
           "zerolinecolor": "#EBF0F8",
           "zerolinewidth": 2
          },
          "yaxis": {
           "automargin": true,
           "gridcolor": "#EBF0F8",
           "linecolor": "#EBF0F8",
           "ticks": "",
           "title": {
            "standoff": 15
           },
           "zerolinecolor": "#EBF0F8",
           "zerolinewidth": 2
          }
         }
        },
        "title": {
         "text": "Property prices & rents paid (ABS)"
        },
        "width": 1000,
        "xaxis": {
         "anchor": "y",
         "domain": [
          0,
          0.94
         ],
         "range": [
          "1990-01-01",
          "2025-09-01"
         ]
        },
        "yaxis": {
         "anchor": "x",
         "domain": [
          0,
          1
         ],
         "title": {
          "text": "$'000"
         },
         "type": "linear"
        },
        "yaxis2": {
         "anchor": "x",
         "overlaying": "y",
         "showgrid": false,
         "side": "right",
         "title": {
          "text": "$ Millions"
         },
         "type": "linear"
        }
       }
      }
     },
     "metadata": {},
     "output_type": "display_data"
    }
   ],
   "source": [
    "disfig = watched.plot_watchlist([\"A83728607L\", 'A83728545T'], [\"A2422341R\", \"A2422340L\",], title = \"Property prices & rents paid (ABS)\")\n",
    "disfig.update_xaxes(range=['1990-01-01', '2025-09-01'])\n",
    "disfig.show()"
   ]
  },
  {
   "cell_type": "code",
   "execution_count": null,
   "metadata": {},
   "outputs": [],
   "source": [
    "datfig = watched.plot_watchlist([\"A83728607L\"], [\"A2422341R\"], title = \"Property prices & rents paid (ABS)\")\n",
    "datfig.update_xaxes(range=['1990-01-01', '2025-09-01'])\n",
    "datfig.show()"
   ]
  },
  {
   "cell_type": "code",
   "execution_count": null,
   "metadata": {},
   "outputs": [],
   "source": []
  }
 ],
 "metadata": {
  "kernelspec": {
   "display_name": "bm",
   "language": "python",
   "name": "python3"
  },
  "language_info": {
   "codemirror_mode": {
    "name": "ipython",
    "version": 3
   },
   "file_extension": ".py",
   "mimetype": "text/x-python",
   "name": "python",
   "nbconvert_exporter": "python",
   "pygments_lexer": "ipython3",
   "version": "3.11.9"
  }
 },
 "nbformat": 4,
 "nbformat_minor": 2
}
