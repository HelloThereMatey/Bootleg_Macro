{
 "cells": [
  {
   "cell_type": "markdown",
   "metadata": {},
   "source": [
    "## STANDARD BOOTLEG MACRO RESEARCH TEMPLATE\n",
    "The cell below imports the standard stuff and make a button to bring up the search_symbol_gui. \n",
    "With this you can search for asset data and create watchlists. "
   ]
  },
  {
   "cell_type": "code",
   "execution_count": 1,
   "metadata": {},
   "outputs": [
    {
     "name": "stdout",
     "output_type": "stream",
     "text": [
      "/home/imbobbilly/miniconda3/envs/bm/lib/node_modules/lib/node_modules\n",
      "/home/imbobbilly/Documents/Coding/Bootleg_Macro/MacroBackend /home/imbobbilly/Documents/Coding/Bootleg_Macro\n",
      "Looking for api keys in SystemInfo folder... /home/imbobbilly/Documents/Coding/Bootleg_Macro/MacroBackend/SystemInfo/API_Keys.json\n",
      "Looking for api keys in SystemInfo folder... /home/imbobbilly/Documents/Coding/Bootleg_Macro/MacroBackend/SystemInfo/API_Keys.json\n",
      "[Errno 2] No such file or directory: '/home/imbobbilly/Documents/Coding/Bootleg_Macro/MacroBackend/system_settings.json' No settings file found. Using measured values. No problemo.\n",
      "System information:  linux , directory delimiter:  / , working directory:  /home/imbobbilly/Documents/Coding/Bootleg_Macro/MacroBackend/Glassnode\n",
      "Looking for api keys in SystemInfo folder... /home/imbobbilly/Documents/Coding/Bootleg_Macro/MacroBackend/SystemInfo/API_Keys.json\n"
     ]
    },
    {
     "name": "stderr",
     "output_type": "stream",
     "text": [
      "/home/imbobbilly/miniconda3/envs/bm/lib/python3.11/site-packages/fuzzywuzzy/fuzz.py:11: UserWarning: Using slow pure-python SequenceMatcher. Install python-Levenshtein to remove this warning\n",
      "  warnings.warn('Using slow pure-python SequenceMatcher. Install python-Levenshtein to remove this warning')\n"
     ]
    },
    {
     "data": {
      "application/vnd.jupyter.widget-view+json": {
       "model_id": "6147bab643f7497f8487fdfb32d7f12a",
       "version_major": 2,
       "version_minor": 0
      },
      "text/plain": [
       "Button(description='Search for symbols, load and create watchlists', layout=Layout(width='350px'), style=Butto…"
      ]
     },
     "metadata": {},
     "output_type": "display_data"
    }
   ],
   "source": [
    "import numpy as np\n",
    "import pandas as pd\n",
    "import matplotlib.pyplot as plt\n",
    "plt.style.available\n",
    "plt.style.use('seaborn-v0_8')\n",
    "plt.rcParams[\"font.family\"] = \"serif\"\n",
    "#%load_ext autoreload\n",
    "#%autoreload 2\n",
    "\n",
    "import os\n",
    "wd = %pwd\n",
    "parent = os.path.dirname(wd); grampa = os.path.dirname(parent)\n",
    "fdel = os.path.sep\n",
    "import sys\n",
    "sys.path.append(grampa)\n",
    "\n",
    "import MacroBackend  ## This is the bootleg_maco package mostly here\n",
    "import datetime\n",
    "import ipywidgets as widgets\n",
    "from IPython.display import display, HTML, Image, Markdown, clear_output\n",
    "\n",
    "keys = MacroBackend.Utilities.api_keys()\n",
    "\n",
    "######Code to run the symbol search GUI below\n",
    "%gui qt\n",
    "# Declare a global variable to hold the UI dictionary\n",
    "watchlist = None\n",
    " \n",
    "def run_search_symbol_gui(b):\n",
    "    global watchlist  # Declare the use of the global variable\n",
    "    print(\"Running the symbol finder gui... \")\n",
    "    gui = MacroBackend.search_symbol_gui.run_app()\n",
    "    watchlist = gui  # Update the global variable with the returned ui dictionary\n",
    "\n",
    "# Step 3: Create a Button widget\n",
    "button = widgets.Button(description=\"Search for symbols, load and create watchlists\")\n",
    "button2 = widgets.Button(description=\"Load watchlist\")\n",
    "# Step 4: Define an on_click event handler\n",
    "button.on_click(run_search_symbol_gui)\n",
    "# Step 5: Use HBox to position buttons next to each other\n",
    "button.layout.width = '350px'\n",
    "display(button)"
   ]
  },
  {
   "cell_type": "code",
   "execution_count": 2,
   "metadata": {},
   "outputs": [
    {
     "data": {
      "application/vnd.jupyter.widget-view+json": {
       "model_id": "3e4041f1afcd4eba86b6d6a0575d5959",
       "version_major": 2,
       "version_minor": 0
      },
      "text/plain": [
       "Button(description='Load watchlist', style=ButtonStyle())"
      ]
     },
     "metadata": {},
     "output_type": "display_data"
    }
   ],
   "source": [
    "######Code to run the symbol search GUI below\n",
    "\n",
    "def load_watchlist(b) -> MacroBackend.search_symbol_gui.Watchlist:\n",
    "    global watchlist  # Declare the use of the global variable\n",
    "    print(\"Choose your cunt you fuckstick.\")\n",
    "    watch = MacroBackend.search_symbol_gui.Watchlist()\n",
    "    watch.load_watchlist()\n",
    "    if watch[\"watchlist\"].empty:\n",
    "        print(\"No watchlist loaded.\")\n",
    "    else:\n",
    "        print(\"Successfully loaded watchlist.\")\n",
    "        watchlist = watch\n",
    "\n",
    "button2 = widgets.Button(description=\"Load watchlist\")\n",
    "button2.on_click(load_watchlist)\n",
    "display(button2)"
   ]
  }
 ],
 "metadata": {
  "kernelspec": {
   "display_name": "bm",
   "language": "python",
   "name": "python3"
  },
  "language_info": {
   "codemirror_mode": {
    "name": "ipython",
    "version": 3
   },
   "file_extension": ".py",
   "mimetype": "text/x-python",
   "name": "python",
   "nbconvert_exporter": "python",
   "pygments_lexer": "ipython3",
   "version": "3.11.9"
  }
 },
 "nbformat": 4,
 "nbformat_minor": 2
}
