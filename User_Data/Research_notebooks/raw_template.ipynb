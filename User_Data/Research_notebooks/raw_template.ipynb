{
 "cells": [
  {
   "cell_type": "markdown",
   "metadata": {},
   "source": [
    "## STANDARD BOOTLEG MACRO RESEARCH TEMPLATE\n",
    "The cell below imports the standard stuff and make a button to bring up the search_symbol_gui. \n",
    "With this you can search for asset data and create watchlists. "
   ]
  },
  {
   "cell_type": "code",
   "execution_count": null,
   "metadata": {},
   "outputs": [],
   "source": [
    "import numpy as np\n",
    "import pandas as pd\n",
    "import matplotlib.pyplot as plt\n",
    "plt.style.available\n",
    "plt.style.use('seaborn-v0_8')\n",
    "plt.rcParams[\"font.family\"] = \"serif\"\n",
    "#%load_ext autoreload\n",
    "#%autoreload 2\n",
    "\n",
    "import os\n",
    "wd = %pwd\n",
    "parent = os.path.dirname(wd); grampa = os.path.dirname(parent)\n",
    "fdel = os.path.sep\n",
    "import sys\n",
    "sys.path.append(grampa)\n",
    "\n",
    "from MacroBackend import Utilities, PriceImporter, Pull_Data, Charting, Fitting, chart_rip\n",
    "import datetime\n",
    "import ipywidgets as widgets\n",
    "from IPython.display import display, HTML, Image, Markdown, clear_output\n",
    "\n",
    "keys = Utilities.api_keys()\n",
    "\n",
    "######Code to run the symbol search GUI below\n",
    "%gui qt\n",
    "from MacroBackend import search_symbol_gui\n",
    "# Declare a global variable to hold the UI dictionary\n",
    "watchlist = None\n",
    " \n",
    "def run_search_symbol_gui(b):\n",
    "    global watchlist  # Declare the use of the global variable\n",
    "    print(\"Running the symbol finder gui... \")\n",
    "    gui = search_symbol_gui.run_app()\n",
    "    watchlist = gui  # Update the global variable with the returned ui dictionary\n",
    "\n",
    "# Step 3: Create a Button widget\n",
    "button = widgets.Button(description=\"Search for symbols, load and create watchlists\")\n",
    "button2 = widgets.Button(description=\"Load watchlist\")\n",
    "# Step 4: Define an on_click event handler\n",
    "button.on_click(run_search_symbol_gui)\n",
    "# Step 5: Use HBox to position buttons next to each other\n",
    "button.layout.width = '350px'\n",
    "display(button)"
   ]
  },
  {
   "cell_type": "code",
   "execution_count": null,
   "metadata": {},
   "outputs": [],
   "source": [
    "######Code to run the symbol search GUI below\n",
    "\n",
    "def load_watchlist(b) -> search_symbol_gui.Watchlist:\n",
    "    global watchlist  # Declare the use of the global variable\n",
    "    print(\"Choose your cunt you fuckstick.\")\n",
    "    watch = search_symbol_gui.Watchlist()\n",
    "    watch.load_watchlist()\n",
    "    if watch[\"watchlist\"].empty:\n",
    "        print(\"No watchlist loaded.\")\n",
    "    else:\n",
    "        print(\"Successfully loaded watchlist.\")\n",
    "        watchlist = watch\n",
    "\n",
    "button2 = widgets.Button(description=\"Load watchlist\")\n",
    "button2.on_click(load_watchlist)\n",
    "display(button2)"
   ]
  }
 ],
 "metadata": {
  "kernelspec": {
   "display_name": "financial",
   "language": "python",
   "name": "python3"
  },
  "language_info": {
   "name": "python",
   "version": "3.12.2"
  }
 },
 "nbformat": 4,
 "nbformat_minor": 2
}
