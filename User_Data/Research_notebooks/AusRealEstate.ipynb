{
 "cells": [
  {
   "cell_type": "markdown",
   "metadata": {},
   "source": [
    "## STANDARD BOOTLEG MACRO RESEARCH TEMPLATE\n",
    "The cell below imports the standard stuff and make a button to bring up the search_symbol_gui. \n",
    "With this you can search for asset data and create watchlists. "
   ]
  },
  {
   "cell_type": "code",
   "execution_count": 1,
   "metadata": {},
   "outputs": [
    {
     "name": "stderr",
     "output_type": "stream",
     "text": [
      "INFO - tedata package initialized successfully!\n"
     ]
    },
    {
     "name": "stdout",
     "output_type": "stream",
     "text": [
      "/Users/jamesbishop/Documents/Python/Bootleg_Macro/MacroBackend /Users/jamesbishop/Documents/Python/Bootleg_Macro\n",
      "System information:  darwin , directory delimiter:  / , working directory:  /Users/jamesbishop/Documents/Python/Bootleg_Macro/MacroBackend/Glassnode\n"
     ]
    },
    {
     "data": {
      "application/vnd.jupyter.widget-view+json": {
       "model_id": "13192fae89d24068b42495b3ca2f7c91",
       "version_major": 2,
       "version_minor": 0
      },
      "text/plain": [
       "Button(description='Search for symbols, load and create watchlists', layout=Layout(width='350px'), style=Butto…"
      ]
     },
     "metadata": {},
     "output_type": "display_data"
    }
   ],
   "source": [
    "import numpy as np\n",
    "import pandas as pd\n",
    "import matplotlib.pyplot as plt\n",
    "plt.style.available\n",
    "plt.style.use('seaborn-v0_8')\n",
    "plt.rcParams[\"font.family\"] = \"serif\"\n",
    "#%load_ext autoreload\n",
    "#%autoreload 2\n",
    "\n",
    "import os\n",
    "wd = %pwd\n",
    "parent = os.path.dirname(wd); grampa = os.path.dirname(parent)\n",
    "fdel = os.path.sep\n",
    "import sys\n",
    "sys.path.append(grampa)\n",
    "\n",
    "import MacroBackend  ## This is the bootleg_maco package mostly here\n",
    "import datetime\n",
    "import ipywidgets as widgets\n",
    "from IPython.display import display, HTML, Image, Markdown, clear_output\n",
    "\n",
    "keys = MacroBackend.Utilities.api_keys()\n",
    "\n",
    "######Code to run the symbol search GUI below\n",
    "%gui qt\n",
    "# Declare a global variable to hold the UI dictionary\n",
    "watchlist = None\n",
    " \n",
    "def run_search_symbol_gui(b):\n",
    "    global watchlist  # Declare the use of the global variable\n",
    "    print(\"Running the symbol finder gui... \")\n",
    "    gui = MacroBackend.search_symbol_gui.run_app()\n",
    "    watchlist = gui  # Update the global variable with the returned ui dictionary\n",
    "\n",
    "# Step 3: Create a Button widget\n",
    "button = widgets.Button(description=\"Search for symbols, load and create watchlists\")\n",
    "button2 = widgets.Button(description=\"Load watchlist\")\n",
    "# Step 4: Define an on_click event handler\n",
    "button.on_click(run_search_symbol_gui)\n",
    "# Step 5: Use HBox to position buttons next to each other\n",
    "button.layout.width = '350px'\n",
    "display(button)"
   ]
  },
  {
   "cell_type": "code",
   "execution_count": 2,
   "metadata": {},
   "outputs": [
    {
     "data": {
      "application/vnd.jupyter.widget-view+json": {
       "model_id": "19b89a80346d45e0b7531bab4b6482bc",
       "version_major": 2,
       "version_minor": 0
      },
      "text/plain": [
       "Button(description='Load watchlist', style=ButtonStyle())"
      ]
     },
     "metadata": {},
     "output_type": "display_data"
    }
   ],
   "source": [
    "######Code to run the symbol search GUI below\n",
    "\n",
    "def load_watchlist(b) -> MacroBackend.watchlist.Watchlist:\n",
    "    global watchlist  # Declare the use of the global variable\n",
    "    print(\"Choose your watchlist file.\")\n",
    "    watch = MacroBackend.watchlist.Watchlist()\n",
    "    watch.load_watchlist()\n",
    "    if watch[\"watchlist\"].empty:\n",
    "        print(\"No watchlist loaded.\")\n",
    "    else:\n",
    "        print(\"Successfully loaded watchlist.\")\n",
    "        watchlist = watch\n",
    "\n",
    "button2 = widgets.Button(description=\"Load watchlist\")\n",
    "button2.on_click(load_watchlist)\n",
    "display(button2)"
   ]
  },
  {
   "cell_type": "code",
   "execution_count": 7,
   "metadata": {},
   "outputs": [
    {
     "name": "stdout",
     "output_type": "stream",
     "text": [
      "Database filepath:  /Users/jamesbishop/Documents/Python/Bootleg_Macro/User_Data/Watchlists/aus_econ/aus_econ.h5s\n",
      "Converted index to DatetimeIndex for series: australia_private_debt_to_gdp\n",
      "Duplicate indexes found in watchlist & will be dropped:  [nan, nan, nan, nan, nan, nan]\n",
      "Duplicate columns found in metadata & will be dropped:  []\n",
      "Running watchlist update_metadata method.....\n",
      "Loaded database from .h5s file, keys:  ['A128478317T', 'A130272195C', 'A130272197J', 'A130272199L', 'A2060784V', 'A2060785W', 'A2133244X', 'A2133245A', 'A2133246C', 'A2133247F', 'A2133248J', 'A2133249K', 'A2133250V', 'A2133251W', 'A2133252X', 'A2133253A', 'A2133254C', 'A2133255F', 'A2133256J', 'A2301346L', 'A2301351F', 'A2302467A', 'A2302468C', 'A2302469F', 'A2302476C', 'A2302477F', 'A2302478J', 'A2302479K', 'A2302480V', 'A2302481W', 'A2302482X', 'A2302483A', 'A2302484C', 'A2302485F', 'A2302503X', 'A2302511X', 'A2302512A', 'A2302513C', 'A2302514F', 'A2304336L', 'A2304340C', 'A2304342J', 'A2304344L', 'A2304346T', 'A2304348W', 'A2304356W', 'A2304360L', 'A2304362T', 'A2304364W', 'A2304512L', 'A2323384K', 'A2325806K', 'A2325811C', 'A2325846C', 'A2325896A', 'A2325941A', 'A2326391L', 'A2326481T', 'A2328101R', 'A2329406W', 'A2329856F', 'A2329946K', 'A2330531F', 'A2330576K', 'A2330616T', 'A2330706W', 'A2331071W', 'A2331386R', 'A2331566X', 'A2332236A', 'A2603609J', 'A2603610T', 'A3602793W', 'A3602838R', 'A3606046R', 'A3606050F', 'A85232561W', 'A85232566J', 'A85232567K', 'A85232568L', 'A85232570X', 'GLFSEPTPOP']\n"
     ]
    }
   ],
   "source": [
    "watchlist.load_watchlist_data()"
   ]
  },
  {
   "cell_type": "code",
   "execution_count": 9,
   "metadata": {},
   "outputs": [
    {
     "data": {
      "text/plain": [
       "id        0\n",
       "title     0\n",
       "source    0\n",
       "dtype: int64"
      ]
     },
     "execution_count": 9,
     "metadata": {},
     "output_type": "execute_result"
    }
   ],
   "source": [
    "watchlist[\"watchlist\"].isna().sum()"
   ]
  },
  {
   "cell_type": "code",
   "execution_count": 10,
   "metadata": {},
   "outputs": [
    {
     "name": "stdout",
     "output_type": "stream",
     "text": [
      "Attempting data pull for series id: A2325941A, from source: abs_series,\n",
      " start_date: 1600-01-01), exchange_code: nan\n",
      "Looking for data from source:  abs_series data code:  A2325941A\n",
      "R output: /Users/jamesbishop/Documents/Python/Bootleg_Macro/User_Data/ABS/LastPull/640103.xlsx\n",
      "Series ID 'A2325941A' found in column at index 3 (name: 'Index Numbers ;  Housing ;  Sydney ;')\n",
      "Deleted old file from LastPull: 310101.xlsx\n",
      "ABS series created with name: Index Numbers ;  Housing ;  Sydney ;\n",
      "ABS series title set to: Index Numbers ;  Housing ;  Sydney ;\n",
      "Data pull successful for A2325941A from abs_series.\n",
      "Processing metadata for A2325941A, series_meta type: <class 'pandas.core.series.Series'>\n",
      "Raw metadata sample: Unit                Index Numbers\n",
      "Series Type              Original\n",
      "Data Type                   INDEX\n",
      "Frequency                 Quarter\n",
      "Collection Month                3\n",
      "Name: A2325941A, dtype: object\n",
      "Creating CommonMetadata for A2325941A...\n",
      "Data type: <class 'pandas.core.series.Series'>, Metadata type: <class 'pandas.core.series.Series'>\n",
      "CommonMetadata created successfully for A2325941A\n",
      "Error processing metadata for A2325941A. Exception: 'CommonMetadata' object has no attribute 'model_dump'\n",
      "Series_meta content: Unit                                       Index Numbers\n",
      "Series Type                                     Original\n",
      "Data Type                                          INDEX\n",
      "Frequency                                        Quarter\n",
      "Collection Month                                       3\n",
      "Series Start                         1972-09-01 00:00:00\n",
      "Series End                           2025-06-01 00:00:00\n",
      "No. Obs                                              212\n",
      "Series ID                                      A2325941A\n",
      "title               Index Numbers ;  Housing ;  Sydney ;\n",
      "Name: A2325941A, dtype: object\n",
      "DS_data type: <class 'pandas.core.series.Series'>\n",
      "Created fallback metadata for A2325941A\n",
      "Attempting data pull for series id: A2326391L, from source: abs_series,\n",
      " start_date: 1600-01-01), exchange_code: nan\n",
      "Looking for data from source:  abs_series data code:  A2326391L\n",
      "R output: /Users/jamesbishop/Documents/Python/Bootleg_Macro/User_Data/ABS/LastPull/640107.xlsx\n",
      "Series ID 'A2326391L' found in column at index 54 (name: 'Index Numbers ;  Rents ;  Sydney ;.1')\n",
      "Deleted old file from LastPull: 640103.xlsx\n",
      "ABS series created with name: Index Numbers ;  Rents ;  Sydney ;1\n",
      "ABS series title set to: Index Numbers ;  Rents ;  Sydney ;1\n",
      "Data pull successful for A2326391L from abs_series.\n",
      "Processing metadata for A2326391L, series_meta type: <class 'pandas.core.series.Series'>\n",
      "Raw metadata sample: Unit                Index Numbers\n",
      "Series Type              Original\n",
      "Data Type                   INDEX\n",
      "Frequency                 Quarter\n",
      "Collection Month                3\n",
      "Name: A2326391L, dtype: object\n",
      "Creating CommonMetadata for A2326391L...\n",
      "Data type: <class 'pandas.core.series.Series'>, Metadata type: <class 'pandas.core.series.Series'>\n",
      "CommonMetadata created successfully for A2326391L\n",
      "Error processing metadata for A2326391L. Exception: 'CommonMetadata' object has no attribute 'model_dump'\n",
      "Series_meta content: Unit                                      Index Numbers\n",
      "Series Type                                    Original\n",
      "Data Type                                         INDEX\n",
      "Frequency                                       Quarter\n",
      "Collection Month                                      3\n",
      "Series Start                        1972-09-01 00:00:00\n",
      "Series End                          2025-06-01 00:00:00\n",
      "No. Obs                                             212\n",
      "Series ID                                     A2326391L\n",
      "title               Index Numbers ;  Rents ;  Sydney ;1\n",
      "Name: A2326391L, dtype: object\n",
      "DS_data type: <class 'pandas.core.series.Series'>\n",
      "Created fallback metadata for A2326391L\n",
      "Attempting data pull for series id: A2329946K, from source: abs_series,\n",
      " start_date: 1600-01-01), exchange_code: nan\n",
      "Looking for data from source:  abs_series data code:  A2329946K\n",
      "R output: /Users/jamesbishop/Documents/Python/Bootleg_Macro/User_Data/ABS/LastPull/640107.xlsx\n",
      "Series ID 'A2329946K' found in column at index 59 (name: 'Index Numbers ;  Property rates and charges ;  Sydney ;')\n",
      "ABS series created with name: Index Numbers ;  Property rates and charges ;  Sydney ;\n",
      "ABS series title set to: Index Numbers ;  Property rates and charges ;  Sydney ;\n",
      "Data pull successful for A2329946K from abs_series.\n",
      "Processing metadata for A2329946K, series_meta type: <class 'pandas.core.series.Series'>\n",
      "Raw metadata sample: Unit                Index Numbers\n",
      "Series Type              Original\n",
      "Data Type                   INDEX\n",
      "Frequency                 Quarter\n",
      "Collection Month                3\n",
      "Name: A2329946K, dtype: object\n",
      "Creating CommonMetadata for A2329946K...\n",
      "Data type: <class 'pandas.core.series.Series'>, Metadata type: <class 'pandas.core.series.Series'>\n",
      "CommonMetadata created successfully for A2329946K\n",
      "Error processing metadata for A2329946K. Exception: 'CommonMetadata' object has no attribute 'model_dump'\n",
      "Series_meta content: Unit                                                    Index Numbers\n",
      "Series Type                                                  Original\n",
      "Data Type                                                       INDEX\n",
      "Frequency                                                     Quarter\n",
      "Collection Month                                                    3\n",
      "Series Start                                      1998-06-01 00:00:00\n",
      "Series End                                        2025-06-01 00:00:00\n",
      "No. Obs                                                           109\n",
      "Series ID                                                   A2329946K\n",
      "title               Index Numbers ;  Property rates and charges ; ...\n",
      "Name: A2329946K, dtype: object\n",
      "DS_data type: <class 'pandas.core.series.Series'>\n",
      "Created fallback metadata for A2329946K\n",
      "Attempting data pull for series id: A2326481T, from source: abs_series,\n",
      " start_date: 1600-01-01), exchange_code: nan\n",
      "Looking for data from source:  abs_series data code:  A2326481T\n",
      "R output: /Users/jamesbishop/Documents/Python/Bootleg_Macro/User_Data/ABS/LastPull/640107.xlsx\n",
      "Series ID 'A2326481T' found in column at index 60 (name: 'Index Numbers ;  Utilities ;  Sydney ;')\n",
      "ABS series created with name: Index Numbers ;  Utilities ;  Sydney ;\n",
      "ABS series title set to: Index Numbers ;  Utilities ;  Sydney ;\n",
      "Data pull successful for A2326481T from abs_series.\n",
      "Processing metadata for A2326481T, series_meta type: <class 'pandas.core.series.Series'>\n",
      "Raw metadata sample: Unit                Index Numbers\n",
      "Series Type              Original\n",
      "Data Type                   INDEX\n",
      "Frequency                 Quarter\n",
      "Collection Month                3\n",
      "Name: A2326481T, dtype: object\n",
      "Creating CommonMetadata for A2326481T...\n",
      "Data type: <class 'pandas.core.series.Series'>, Metadata type: <class 'pandas.core.series.Series'>\n",
      "CommonMetadata created successfully for A2326481T\n",
      "Error processing metadata for A2326481T. Exception: 'CommonMetadata' object has no attribute 'model_dump'\n",
      "Series_meta content: Unit                                         Index Numbers\n",
      "Series Type                                       Original\n",
      "Data Type                                            INDEX\n",
      "Frequency                                          Quarter\n",
      "Collection Month                                         3\n",
      "Series Start                           1972-09-01 00:00:00\n",
      "Series End                             2025-06-01 00:00:00\n",
      "No. Obs                                                212\n",
      "Series ID                                        A2326481T\n",
      "title               Index Numbers ;  Utilities ;  Sydney ;\n",
      "Name: A2326481T, dtype: object\n",
      "DS_data type: <class 'pandas.core.series.Series'>\n",
      "Created fallback metadata for A2326481T\n",
      "Attempting data pull for series id: A2329856F, from source: abs_series,\n",
      " start_date: 1600-01-01), exchange_code: nan\n",
      "Looking for data from source:  abs_series data code:  A2329856F\n",
      "R output: /Users/jamesbishop/Documents/Python/Bootleg_Macro/User_Data/ABS/LastPull/640107.xlsx\n",
      "Series ID 'A2329856F' found in column at index 61 (name: 'Index Numbers ;  Water and sewerage ;  Sydney ;')\n",
      "ABS series created with name: Index Numbers ;  Water and sewerage ;  Sydney ;\n",
      "ABS series title set to: Index Numbers ;  Water and sewerage ;  Sydney ;\n",
      "Data pull successful for A2329856F from abs_series.\n",
      "Processing metadata for A2329856F, series_meta type: <class 'pandas.core.series.Series'>\n",
      "Raw metadata sample: Unit                Index Numbers\n",
      "Series Type              Original\n",
      "Data Type                   INDEX\n",
      "Frequency                 Quarter\n",
      "Collection Month                3\n",
      "Name: A2329856F, dtype: object\n",
      "Creating CommonMetadata for A2329856F...\n",
      "Data type: <class 'pandas.core.series.Series'>, Metadata type: <class 'pandas.core.series.Series'>\n",
      "CommonMetadata created successfully for A2329856F\n",
      "Error processing metadata for A2329856F. Exception: 'CommonMetadata' object has no attribute 'model_dump'\n",
      "Series_meta content: Unit                                                  Index Numbers\n",
      "Series Type                                                Original\n",
      "Data Type                                                     INDEX\n",
      "Frequency                                                   Quarter\n",
      "Collection Month                                                  3\n",
      "Series Start                                    1998-06-01 00:00:00\n",
      "Series End                                      2025-06-01 00:00:00\n",
      "No. Obs                                                         109\n",
      "Series ID                                                 A2329856F\n",
      "title               Index Numbers ;  Water and sewerage ;  Sydney ;\n",
      "Name: A2329856F, dtype: object\n",
      "DS_data type: <class 'pandas.core.series.Series'>\n",
      "Created fallback metadata for A2329856F\n",
      "Attempting data pull for series id: A2328101R, from source: abs_series,\n",
      " start_date: 1600-01-01), exchange_code: nan\n",
      "Looking for data from source:  abs_series data code:  A2328101R\n",
      "R output: /Users/jamesbishop/Documents/Python/Bootleg_Macro/User_Data/ABS/LastPull/640107.xlsx\n",
      "Series ID 'A2328101R' found in column at index 62 (name: 'Index Numbers ;  Electricity ;  Sydney ;')\n",
      "ABS series created with name: Index Numbers ;  Electricity ;  Sydney ;\n",
      "ABS series title set to: Index Numbers ;  Electricity ;  Sydney ;\n",
      "Data pull successful for A2328101R from abs_series.\n",
      "Processing metadata for A2328101R, series_meta type: <class 'pandas.core.series.Series'>\n",
      "Raw metadata sample: Unit                Index Numbers\n",
      "Series Type              Original\n",
      "Data Type                   INDEX\n",
      "Frequency                 Quarter\n",
      "Collection Month                3\n",
      "Name: A2328101R, dtype: object\n",
      "Creating CommonMetadata for A2328101R...\n",
      "Data type: <class 'pandas.core.series.Series'>, Metadata type: <class 'pandas.core.series.Series'>\n",
      "CommonMetadata created successfully for A2328101R\n",
      "Error processing metadata for A2328101R. Exception: 'CommonMetadata' object has no attribute 'model_dump'\n",
      "Series_meta content: Unit                                           Index Numbers\n",
      "Series Type                                         Original\n",
      "Data Type                                              INDEX\n",
      "Frequency                                            Quarter\n",
      "Collection Month                                           3\n",
      "Series Start                             1980-09-01 00:00:00\n",
      "Series End                               2025-06-01 00:00:00\n",
      "No. Obs                                                  180\n",
      "Series ID                                          A2328101R\n",
      "title               Index Numbers ;  Electricity ;  Sydney ;\n",
      "Name: A2328101R, dtype: object\n",
      "DS_data type: <class 'pandas.core.series.Series'>\n",
      "Created fallback metadata for A2328101R\n",
      "Attempting data pull for series id: A2331566X, from source: abs_series,\n",
      " start_date: 1600-01-01), exchange_code: nan\n",
      "Looking for data from source:  abs_series data code:  A2331566X\n",
      "R output: /Users/jamesbishop/Documents/Python/Bootleg_Macro/User_Data/ABS/LastPull/640107.xlsx\n",
      "Series ID 'A2331566X' found in column at index 80 (name: 'Index Numbers ;  Child care ;  Sydney ;')\n",
      "ABS series created with name: Index Numbers ;  Child care ;  Sydney ;\n",
      "ABS series title set to: Index Numbers ;  Child care ;  Sydney ;\n",
      "Data pull successful for A2331566X from abs_series.\n",
      "Processing metadata for A2331566X, series_meta type: <class 'pandas.core.series.Series'>\n",
      "Raw metadata sample: Unit                Index Numbers\n",
      "Series Type              Original\n",
      "Data Type                   INDEX\n",
      "Frequency                 Quarter\n",
      "Collection Month                3\n",
      "Name: A2331566X, dtype: object\n",
      "Creating CommonMetadata for A2331566X...\n",
      "Data type: <class 'pandas.core.series.Series'>, Metadata type: <class 'pandas.core.series.Series'>\n",
      "CommonMetadata created successfully for A2331566X\n",
      "Error processing metadata for A2331566X. Exception: 'CommonMetadata' object has no attribute 'model_dump'\n",
      "Series_meta content: Unit                                          Index Numbers\n",
      "Series Type                                        Original\n",
      "Data Type                                             INDEX\n",
      "Frequency                                           Quarter\n",
      "Collection Month                                          3\n",
      "Series Start                            1982-03-01 00:00:00\n",
      "Series End                              2025-06-01 00:00:00\n",
      "No. Obs                                                 174\n",
      "Series ID                                         A2331566X\n",
      "title               Index Numbers ;  Child care ;  Sydney ;\n",
      "Name: A2331566X, dtype: object\n",
      "DS_data type: <class 'pandas.core.series.Series'>\n",
      "Created fallback metadata for A2331566X\n",
      "Attempting data pull for series id: A2331071W, from source: abs_series,\n",
      " start_date: 1600-01-01), exchange_code: nan\n",
      "Looking for data from source:  abs_series data code:  A2331071W\n",
      "R output: /Users/jamesbishop/Documents/Python/Bootleg_Macro/User_Data/ABS/LastPull/640103.xlsx\n",
      "Series ID 'A2331071W' found in column at index 5 (name: 'Index Numbers ;  Health ;  Sydney ;')\n",
      "Deleted old file from LastPull: 640107.xlsx\n",
      "ABS series created with name: Index Numbers ;  Health ;  Sydney ;\n",
      "ABS series title set to: Index Numbers ;  Health ;  Sydney ;\n",
      "Data pull successful for A2331071W from abs_series.\n",
      "Processing metadata for A2331071W, series_meta type: <class 'pandas.core.series.Series'>\n",
      "Raw metadata sample: Unit                Index Numbers\n",
      "Series Type              Original\n",
      "Data Type                   INDEX\n",
      "Frequency                 Quarter\n",
      "Collection Month                3\n",
      "Name: A2331071W, dtype: object\n",
      "Creating CommonMetadata for A2331071W...\n",
      "Data type: <class 'pandas.core.series.Series'>, Metadata type: <class 'pandas.core.series.Series'>\n",
      "CommonMetadata created successfully for A2331071W\n",
      "Error processing metadata for A2331071W. Exception: 'CommonMetadata' object has no attribute 'model_dump'\n",
      "Series_meta content: Unit                                      Index Numbers\n",
      "Series Type                                    Original\n",
      "Data Type                                         INDEX\n",
      "Frequency                                       Quarter\n",
      "Collection Month                                      3\n",
      "Series Start                        1989-09-01 00:00:00\n",
      "Series End                          2025-06-01 00:00:00\n",
      "No. Obs                                             144\n",
      "Series ID                                     A2331071W\n",
      "title               Index Numbers ;  Health ;  Sydney ;\n",
      "Name: A2331071W, dtype: object\n",
      "DS_data type: <class 'pandas.core.series.Series'>\n",
      "Created fallback metadata for A2331071W\n",
      "Attempting data pull for series id: A2331386R, from source: abs_series,\n",
      " start_date: 1600-01-01), exchange_code: nan\n",
      "Looking for data from source:  abs_series data code:  A2331386R\n",
      "R output: /Users/jamesbishop/Documents/Python/Bootleg_Macro/User_Data/ABS/LastPull/640103.xlsx\n",
      "Series ID 'A2331386R' found in column at index 9 (name: 'Index Numbers ;  Education ;  Sydney ;')\n",
      "ABS series created with name: Index Numbers ;  Education ;  Sydney ;\n",
      "ABS series title set to: Index Numbers ;  Education ;  Sydney ;\n",
      "Data pull successful for A2331386R from abs_series.\n",
      "Processing metadata for A2331386R, series_meta type: <class 'pandas.core.series.Series'>\n",
      "Raw metadata sample: Unit                Index Numbers\n",
      "Series Type              Original\n",
      "Data Type                   INDEX\n",
      "Frequency                 Quarter\n",
      "Collection Month                3\n",
      "Name: A2331386R, dtype: object\n",
      "Creating CommonMetadata for A2331386R...\n",
      "Data type: <class 'pandas.core.series.Series'>, Metadata type: <class 'pandas.core.series.Series'>\n",
      "CommonMetadata created successfully for A2331386R\n",
      "Error processing metadata for A2331386R. Exception: 'CommonMetadata' object has no attribute 'model_dump'\n",
      "Series_meta content: Unit                                         Index Numbers\n",
      "Series Type                                       Original\n",
      "Data Type                                            INDEX\n",
      "Frequency                                          Quarter\n",
      "Collection Month                                         3\n",
      "Series Start                           1982-03-01 00:00:00\n",
      "Series End                             2025-06-01 00:00:00\n",
      "No. Obs                                                174\n",
      "Series ID                                        A2331386R\n",
      "title               Index Numbers ;  Education ;  Sydney ;\n",
      "Name: A2331386R, dtype: object\n",
      "DS_data type: <class 'pandas.core.series.Series'>\n",
      "Created fallback metadata for A2331386R\n",
      "Attempting data pull for series id: A2329406W, from source: abs_series,\n",
      " start_date: 1600-01-01), exchange_code: nan\n",
      "Looking for data from source:  abs_series data code:  A2329406W\n",
      "R output: /Users/jamesbishop/Documents/Python/Bootleg_Macro/User_Data/ABS/LastPull/640107.xlsx\n",
      "Series ID 'A2329406W' found in column at index 121 (name: 'Index Numbers ;  Education ;  Sydney ;.1')\n",
      "Deleted old file from LastPull: 640103.xlsx\n",
      "ABS series created with name: Index Numbers ;  Education ;  Sydney ;1\n",
      "ABS series title set to: Index Numbers ;  Education ;  Sydney ;1\n",
      "Data pull successful for A2329406W from abs_series.\n",
      "Processing metadata for A2329406W, series_meta type: <class 'pandas.core.series.Series'>\n",
      "Raw metadata sample: Unit                Index Numbers\n",
      "Series Type              Original\n",
      "Data Type                   INDEX\n",
      "Frequency                 Quarter\n",
      "Collection Month                3\n",
      "Name: A2329406W, dtype: object\n",
      "Creating CommonMetadata for A2329406W...\n",
      "Data type: <class 'pandas.core.series.Series'>, Metadata type: <class 'pandas.core.series.Series'>\n",
      "CommonMetadata created successfully for A2329406W\n",
      "Error processing metadata for A2329406W. Exception: 'CommonMetadata' object has no attribute 'model_dump'\n",
      "Series_meta content: Unit                                          Index Numbers\n",
      "Series Type                                        Original\n",
      "Data Type                                             INDEX\n",
      "Frequency                                           Quarter\n",
      "Collection Month                                          3\n",
      "Series Start                            1982-03-01 00:00:00\n",
      "Series End                              2025-06-01 00:00:00\n",
      "No. Obs                                                 174\n",
      "Series ID                                         A2329406W\n",
      "title               Index Numbers ;  Education ;  Sydney ;1\n",
      "Name: A2329406W, dtype: object\n",
      "DS_data type: <class 'pandas.core.series.Series'>\n",
      "Created fallback metadata for A2329406W\n",
      "Attempting data pull for series id: A3602793W, from source: abs_series,\n",
      " start_date: 1600-01-01), exchange_code: nan\n",
      "Looking for data from source:  abs_series data code:  A3602793W\n",
      "R output: /Users/jamesbishop/Documents/Python/Bootleg_Macro/User_Data/ABS/LastPull/640107.xlsx\n",
      "Series ID 'A3602793W' found in column at index 126 (name: 'Index Numbers ;  Insurance ;  Sydney ;')\n",
      "ABS series created with name: Index Numbers ;  Insurance ;  Sydney ;\n",
      "ABS series title set to: Index Numbers ;  Insurance ;  Sydney ;\n",
      "Data pull successful for A3602793W from abs_series.\n",
      "Processing metadata for A3602793W, series_meta type: <class 'pandas.core.series.Series'>\n",
      "Raw metadata sample: Unit                Index Numbers\n",
      "Series Type              Original\n",
      "Data Type                   INDEX\n",
      "Frequency                 Quarter\n",
      "Collection Month                3\n",
      "Name: A3602793W, dtype: object\n",
      "Creating CommonMetadata for A3602793W...\n",
      "Data type: <class 'pandas.core.series.Series'>, Metadata type: <class 'pandas.core.series.Series'>\n",
      "CommonMetadata created successfully for A3602793W\n",
      "Error processing metadata for A3602793W. Exception: 'CommonMetadata' object has no attribute 'model_dump'\n",
      "Series_meta content: Unit                                         Index Numbers\n",
      "Series Type                                       Original\n",
      "Data Type                                            INDEX\n",
      "Frequency                                          Quarter\n",
      "Collection Month                                         3\n",
      "Series Start                           1989-09-01 00:00:00\n",
      "Series End                             2025-06-01 00:00:00\n",
      "No. Obs                                                144\n",
      "Series ID                                        A3602793W\n",
      "title               Index Numbers ;  Insurance ;  Sydney ;\n",
      "Name: A3602793W, dtype: object\n",
      "DS_data type: <class 'pandas.core.series.Series'>\n",
      "Created fallback metadata for A3602793W\n",
      "Attempting data pull for series id: A3602838R, from source: abs_series,\n",
      " start_date: 1600-01-01), exchange_code: nan\n",
      "Looking for data from source:  abs_series data code:  A3602838R\n",
      "R output: /Users/jamesbishop/Documents/Python/Bootleg_Macro/User_Data/ABS/LastPull/640107.xlsx\n",
      "Series ID 'A3602838R' found in column at index 127 (name: 'Index Numbers ;  Insurance ;  Sydney ;.1')\n",
      "ABS series created with name: Index Numbers ;  Insurance ;  Sydney ;1\n",
      "ABS series title set to: Index Numbers ;  Insurance ;  Sydney ;1\n",
      "Data pull successful for A3602838R from abs_series.\n",
      "Processing metadata for A3602838R, series_meta type: <class 'pandas.core.series.Series'>\n",
      "Raw metadata sample: Unit                Index Numbers\n",
      "Series Type              Original\n",
      "Data Type                   INDEX\n",
      "Frequency                 Quarter\n",
      "Collection Month                3\n",
      "Name: A3602838R, dtype: object\n",
      "Creating CommonMetadata for A3602838R...\n",
      "Data type: <class 'pandas.core.series.Series'>, Metadata type: <class 'pandas.core.series.Series'>\n",
      "CommonMetadata created successfully for A3602838R\n",
      "Error processing metadata for A3602838R. Exception: 'CommonMetadata' object has no attribute 'model_dump'\n",
      "Series_meta content: Unit                                          Index Numbers\n",
      "Series Type                                        Original\n",
      "Data Type                                             INDEX\n",
      "Frequency                                           Quarter\n",
      "Collection Month                                          3\n",
      "Series Start                            1989-09-01 00:00:00\n",
      "Series End                              2025-06-01 00:00:00\n",
      "No. Obs                                                 144\n",
      "Series ID                                         A3602838R\n",
      "title               Index Numbers ;  Insurance ;  Sydney ;1\n",
      "Name: A3602838R, dtype: object\n",
      "DS_data type: <class 'pandas.core.series.Series'>\n",
      "Created fallback metadata for A3602838R\n",
      "Attempting data pull for series id: A2330531F, from source: abs_series,\n",
      " start_date: 1600-01-01), exchange_code: nan\n",
      "Looking for data from source:  abs_series data code:  A2330531F\n",
      "R output: /Users/jamesbishop/Documents/Python/Bootleg_Macro/User_Data/ABS/LastPull/640107.xlsx\n",
      "Series ID 'A2330531F' found in column at index 133 (name: 'Index Numbers ;  Non-tradables ;  Sydney ;')\n",
      "ABS series created with name: Index Numbers ;  Non-tradables ;  Sydney ;\n",
      "ABS series title set to: Index Numbers ;  Non-tradables ;  Sydney ;\n",
      "Data pull successful for A2330531F from abs_series.\n",
      "Processing metadata for A2330531F, series_meta type: <class 'pandas.core.series.Series'>\n",
      "Raw metadata sample: Unit                Index Numbers\n",
      "Series Type              Original\n",
      "Data Type                   INDEX\n",
      "Frequency                 Quarter\n",
      "Collection Month                3\n",
      "Name: A2330531F, dtype: object\n",
      "Creating CommonMetadata for A2330531F...\n",
      "Data type: <class 'pandas.core.series.Series'>, Metadata type: <class 'pandas.core.series.Series'>\n",
      "CommonMetadata created successfully for A2330531F\n",
      "Error processing metadata for A2330531F. Exception: 'CommonMetadata' object has no attribute 'model_dump'\n",
      "Series_meta content: Unit                                             Index Numbers\n",
      "Series Type                                           Original\n",
      "Data Type                                                INDEX\n",
      "Frequency                                              Quarter\n",
      "Collection Month                                             3\n",
      "Series Start                               1998-06-01 00:00:00\n",
      "Series End                                 2025-06-01 00:00:00\n",
      "No. Obs                                                    109\n",
      "Series ID                                            A2330531F\n",
      "title               Index Numbers ;  Non-tradables ;  Sydney ;\n",
      "Name: A2330531F, dtype: object\n",
      "DS_data type: <class 'pandas.core.series.Series'>\n",
      "Created fallback metadata for A2330531F\n",
      "Attempting data pull for series id: A2330576K, from source: abs_series,\n",
      " start_date: 1600-01-01), exchange_code: nan\n",
      "Looking for data from source:  abs_series data code:  A2330576K\n",
      "R output: /Users/jamesbishop/Documents/Python/Bootleg_Macro/User_Data/ABS/LastPull/640107.xlsx\n",
      "Series ID 'A2330576K' found in column at index 134 (name: 'Index Numbers ;  All groups, goods component ;  Sydney ;')\n",
      "ABS series created with name: Index Numbers ;  All groups, goods component ;  Sydney ;\n",
      "ABS series title set to: Index Numbers ;  All groups, goods component ;  Sydney ;\n",
      "Data pull successful for A2330576K from abs_series.\n",
      "Processing metadata for A2330576K, series_meta type: <class 'pandas.core.series.Series'>\n",
      "Raw metadata sample: Unit                Index Numbers\n",
      "Series Type              Original\n",
      "Data Type                   INDEX\n",
      "Frequency                 Quarter\n",
      "Collection Month                3\n",
      "Name: A2330576K, dtype: object\n",
      "Creating CommonMetadata for A2330576K...\n",
      "Data type: <class 'pandas.core.series.Series'>, Metadata type: <class 'pandas.core.series.Series'>\n",
      "CommonMetadata created successfully for A2330576K\n",
      "Error processing metadata for A2330576K. Exception: 'CommonMetadata' object has no attribute 'model_dump'\n",
      "Series_meta content: Unit                                                    Index Numbers\n",
      "Series Type                                                  Original\n",
      "Data Type                                                       INDEX\n",
      "Frequency                                                     Quarter\n",
      "Collection Month                                                    3\n",
      "Series Start                                      1974-09-01 00:00:00\n",
      "Series End                                        2025-06-01 00:00:00\n",
      "No. Obs                                                           204\n",
      "Series ID                                                   A2330576K\n",
      "title               Index Numbers ;  All groups, goods component ;...\n",
      "Name: A2330576K, dtype: object\n",
      "DS_data type: <class 'pandas.core.series.Series'>\n",
      "Created fallback metadata for A2330576K\n",
      "Attempting data pull for series id: A2325896A, from source: abs_series,\n",
      " start_date: 1600-01-01), exchange_code: nan\n",
      "Looking for data from source:  abs_series data code:  A2325896A\n",
      "R output: /Users/jamesbishop/Documents/Python/Bootleg_Macro/User_Data/ABS/LastPull/640103.xlsx\n",
      "Series ID 'A2325896A' found in column at index 2 (name: 'Index Numbers ;  Clothing and footwear ;  Sydney ;')\n",
      "Deleted old file from LastPull: 640107.xlsx\n",
      "ABS series created with name: Index Numbers ;  Clothing and footwear ;  Sydney ;\n",
      "ABS series title set to: Index Numbers ;  Clothing and footwear ;  Sydney ;\n",
      "Data pull successful for A2325896A from abs_series.\n",
      "Processing metadata for A2325896A, series_meta type: <class 'pandas.core.series.Series'>\n",
      "Raw metadata sample: Unit                Index Numbers\n",
      "Series Type              Original\n",
      "Data Type                   INDEX\n",
      "Frequency                 Quarter\n",
      "Collection Month                3\n",
      "Name: A2325896A, dtype: object\n",
      "Creating CommonMetadata for A2325896A...\n",
      "Data type: <class 'pandas.core.series.Series'>, Metadata type: <class 'pandas.core.series.Series'>\n",
      "CommonMetadata created successfully for A2325896A\n",
      "Error processing metadata for A2325896A. Exception: 'CommonMetadata' object has no attribute 'model_dump'\n",
      "Series_meta content: Unit                                                    Index Numbers\n",
      "Series Type                                                  Original\n",
      "Data Type                                                       INDEX\n",
      "Frequency                                                     Quarter\n",
      "Collection Month                                                    3\n",
      "Series Start                                      1972-09-01 00:00:00\n",
      "Series End                                        2025-06-01 00:00:00\n",
      "No. Obs                                                           212\n",
      "Series ID                                                   A2325896A\n",
      "title               Index Numbers ;  Clothing and footwear ;  Sydn...\n",
      "Name: A2325896A, dtype: object\n",
      "DS_data type: <class 'pandas.core.series.Series'>\n",
      "Created fallback metadata for A2325896A\n",
      "Attempting data pull for series id: A2325806K, from source: abs_series,\n",
      " start_date: 1600-01-01), exchange_code: nan\n",
      "Looking for data from source:  abs_series data code:  A2325806K\n",
      "R output: /Users/jamesbishop/Documents/Python/Bootleg_Macro/User_Data/ABS/LastPull/640101.xlsx\n",
      "Series ID 'A2325806K' found in column at index 0 (name: 'Index Numbers ;  All groups CPI ;  Sydney ;')\n",
      "Deleted old file from LastPull: 640103.xlsx\n",
      "ABS series created with name: Index Numbers ;  All groups CPI ;  Sydney ;\n",
      "ABS series title set to: Index Numbers ;  All groups CPI ;  Sydney ;\n",
      "Data pull successful for A2325806K from abs_series.\n",
      "Processing metadata for A2325806K, series_meta type: <class 'pandas.core.series.Series'>\n",
      "Raw metadata sample: Unit                Index Numbers\n",
      "Series Type              Original\n",
      "Data Type                   INDEX\n",
      "Frequency                 Quarter\n",
      "Collection Month                3\n",
      "Name: A2325806K, dtype: object\n",
      "Creating CommonMetadata for A2325806K...\n",
      "Data type: <class 'pandas.core.series.Series'>, Metadata type: <class 'pandas.core.series.Series'>\n",
      "CommonMetadata created successfully for A2325806K\n",
      "Error processing metadata for A2325806K. Exception: 'CommonMetadata' object has no attribute 'model_dump'\n",
      "Series_meta content: Unit                                              Index Numbers\n",
      "Series Type                                            Original\n",
      "Data Type                                                 INDEX\n",
      "Frequency                                               Quarter\n",
      "Collection Month                                              3\n",
      "Series Start                                1948-09-01 00:00:00\n",
      "Series End                                  2025-06-01 00:00:00\n",
      "No. Obs                                                     308\n",
      "Series ID                                             A2325806K\n",
      "title               Index Numbers ;  All groups CPI ;  Sydney ;\n",
      "Name: A2325806K, dtype: object\n",
      "DS_data type: <class 'pandas.core.series.Series'>\n",
      "Created fallback metadata for A2325806K\n",
      "Attempting data pull for series id: A2301346L, from source: abs_series,\n",
      " start_date: 1600-01-01), exchange_code: nan\n",
      "Looking for data from source:  abs_series data code:  A2301346L\n",
      "R output: /Users/jamesbishop/Documents/Python/Bootleg_Macro/User_Data/ABS/LastPull/5206032_sfd_nt.xlsx\n",
      "Series ID 'A2301346L' found in column at index 33 (name: 'General government - National ;  Final consumption expenditure: Chain volume measures ;')\n",
      "Deleted old file from LastPull: 640101.xlsx\n",
      "ABS series created with name: General government - National ;  Final consumption expenditure: Chain volume measures ;\n",
      "ABS series title set to: General government - National ;  Final consumption expenditure: Chain volume measures ;\n",
      "Data pull successful for A2301346L from abs_series.\n",
      "Processing metadata for A2301346L, series_meta type: <class 'pandas.core.series.Series'>\n",
      "Raw metadata sample: Unit                $ Millions\n",
      "Series Type              Trend\n",
      "Data Type              DERIVED\n",
      "Frequency              Quarter\n",
      "Collection Month             3\n",
      "Name: A2301346L, dtype: object\n",
      "Creating CommonMetadata for A2301346L...\n",
      "Data type: <class 'pandas.core.series.Series'>, Metadata type: <class 'pandas.core.series.Series'>\n",
      "CommonMetadata created successfully for A2301346L\n",
      "Error processing metadata for A2301346L. Exception: 'CommonMetadata' object has no attribute 'model_dump'\n",
      "Series_meta content: Unit                                                       $ Millions\n",
      "Series Type                                                     Trend\n",
      "Data Type                                                     DERIVED\n",
      "Frequency                                                     Quarter\n",
      "Collection Month                                                    3\n",
      "Series Start                                      1985-09-01 00:00:00\n",
      "Series End                                        2025-06-01 00:00:00\n",
      "No. Obs                                                           160\n",
      "Series ID                                                   A2301346L\n",
      "title               General government - National ;  Final consump...\n",
      "Name: A2301346L, dtype: object\n",
      "DS_data type: <class 'pandas.core.series.Series'>\n",
      "Created fallback metadata for A2301346L\n",
      "Attempting data pull for series id: A2304512L, from source: abs_series,\n",
      " start_date: 1600-01-01), exchange_code: nan\n",
      "Looking for data from source:  abs_series data code:  A2304512L\n",
      "R output: /Users/jamesbishop/Documents/Python/Bootleg_Macro/User_Data/ABS/LastPull/5206032_sfd_nt.xlsx\n",
      "Series ID 'A2304512L' found in column at index 32 (name: 'Private ;  Final demand: Chain volume measures ;')\n",
      "ABS series created with name: Private ;  Final demand: Chain volume measures ;\n",
      "ABS series title set to: Private ;  Final demand: Chain volume measures ;\n",
      "Data pull successful for A2304512L from abs_series.\n",
      "Processing metadata for A2304512L, series_meta type: <class 'pandas.core.series.Series'>\n",
      "Raw metadata sample: Unit                $ Millions\n",
      "Series Type              Trend\n",
      "Data Type              DERIVED\n",
      "Frequency              Quarter\n",
      "Collection Month             3\n",
      "Name: A2304512L, dtype: object\n",
      "Creating CommonMetadata for A2304512L...\n",
      "Data type: <class 'pandas.core.series.Series'>, Metadata type: <class 'pandas.core.series.Series'>\n",
      "CommonMetadata created successfully for A2304512L\n",
      "Error processing metadata for A2304512L. Exception: 'CommonMetadata' object has no attribute 'model_dump'\n",
      "Series_meta content: Unit                                                      $ Millions\n",
      "Series Type                                                    Trend\n",
      "Data Type                                                    DERIVED\n",
      "Frequency                                                    Quarter\n",
      "Collection Month                                                   3\n",
      "Series Start                                     1985-09-01 00:00:00\n",
      "Series End                                       2025-06-01 00:00:00\n",
      "No. Obs                                                          160\n",
      "Series ID                                                  A2304512L\n",
      "title               Private ;  Final demand: Chain volume measures ;\n",
      "Name: A2304512L, dtype: object\n",
      "DS_data type: <class 'pandas.core.series.Series'>\n",
      "Created fallback metadata for A2304512L\n",
      "Attempting data pull for series id: A2301351F, from source: abs_series,\n",
      " start_date: 1600-01-01), exchange_code: nan\n",
      "Looking for data from source:  abs_series data code:  A2301351F\n",
      "R output: /Users/jamesbishop/Documents/Python/Bootleg_Macro/User_Data/ABS/LastPull/5206032_sfd_nt.xlsx\n",
      "Series ID 'A2301351F' found in column at index 39 (name: 'General government - National ;  Gross fixed capital formation: Chain volume measures ;')\n",
      "ABS series created with name: General government - National ;  Gross fixed capital formation: Chain volume measures ;\n",
      "ABS series title set to: General government - National ;  Gross fixed capital formation: Chain volume measures ;\n",
      "Data pull successful for A2301351F from abs_series.\n",
      "Processing metadata for A2301351F, series_meta type: <class 'pandas.core.series.Series'>\n",
      "Raw metadata sample: Unit                $ Millions\n",
      "Series Type              Trend\n",
      "Data Type              DERIVED\n",
      "Frequency              Quarter\n",
      "Collection Month             3\n",
      "Name: A2301351F, dtype: object\n",
      "Creating CommonMetadata for A2301351F...\n",
      "Data type: <class 'pandas.core.series.Series'>, Metadata type: <class 'pandas.core.series.Series'>\n",
      "CommonMetadata created successfully for A2301351F\n",
      "Error processing metadata for A2301351F. Exception: 'CommonMetadata' object has no attribute 'model_dump'\n",
      "Series_meta content: Unit                                                       $ Millions\n",
      "Series Type                                                     Trend\n",
      "Data Type                                                     DERIVED\n",
      "Frequency                                                     Quarter\n",
      "Collection Month                                                    3\n",
      "Series Start                                      1985-09-01 00:00:00\n",
      "Series End                                        2025-06-01 00:00:00\n",
      "No. Obs                                                           160\n",
      "Series ID                                                   A2301351F\n",
      "title               General government - National ;  Gross fixed c...\n",
      "Name: A2301351F, dtype: object\n",
      "DS_data type: <class 'pandas.core.series.Series'>\n",
      "Created fallback metadata for A2301351F\n",
      "Attempting data pull for series id: A2325811C, from source: abs_series,\n",
      " start_date: 1600-01-01), exchange_code: nan\n",
      "Looking for data from source:  abs_series data code:  A2325811C\n",
      "R output: /Users/jamesbishop/Documents/Python/Bootleg_Macro/User_Data/ABS/LastPull/640101.xlsx\n",
      "Series ID 'A2325811C' found in column at index 1 (name: 'Index Numbers ;  All groups CPI ;  Melbourne ;')\n",
      "Deleted old file from LastPull: 5206032_sfd_nt.xlsx\n",
      "ABS series created with name: Index Numbers ;  All groups CPI ;  Melbourne ;\n",
      "ABS series title set to: Index Numbers ;  All groups CPI ;  Melbourne ;\n",
      "Data pull successful for A2325811C from abs_series.\n",
      "Processing metadata for A2325811C, series_meta type: <class 'pandas.core.series.Series'>\n",
      "Raw metadata sample: Unit                Index Numbers\n",
      "Series Type              Original\n",
      "Data Type                   INDEX\n",
      "Frequency                 Quarter\n",
      "Collection Month                3\n",
      "Name: A2325811C, dtype: object\n",
      "Creating CommonMetadata for A2325811C...\n",
      "Data type: <class 'pandas.core.series.Series'>, Metadata type: <class 'pandas.core.series.Series'>\n",
      "CommonMetadata created successfully for A2325811C\n",
      "Error processing metadata for A2325811C. Exception: 'CommonMetadata' object has no attribute 'model_dump'\n",
      "Series_meta content: Unit                                                 Index Numbers\n",
      "Series Type                                               Original\n",
      "Data Type                                                    INDEX\n",
      "Frequency                                                  Quarter\n",
      "Collection Month                                                 3\n",
      "Series Start                                   1948-09-01 00:00:00\n",
      "Series End                                     2025-06-01 00:00:00\n",
      "No. Obs                                                        308\n",
      "Series ID                                                A2325811C\n",
      "title               Index Numbers ;  All groups CPI ;  Melbourne ;\n",
      "Name: A2325811C, dtype: object\n",
      "DS_data type: <class 'pandas.core.series.Series'>\n",
      "Created fallback metadata for A2325811C\n",
      "Attempting data pull for series id: A2304336L, from source: abs_series,\n",
      " start_date: 1600-01-01), exchange_code: nan\n",
      "Looking for data from source:  abs_series data code:  A2304336L\n",
      "R output: /Users/jamesbishop/Documents/Python/Bootleg_Macro/User_Data/ABS/LastPull/5206001_key_aggregates.xlsx\n",
      "Series ID 'A2304336L' found in column at index 20 (name: 'GDP per capita: Chain volume measures ;')\n",
      "Deleted old file from LastPull: 640101.xlsx\n",
      "ABS series created with name: GDP per capita: Chain volume measures ;\n",
      "ABS series title set to: GDP per capita: Chain volume measures ;\n",
      "Data pull successful for A2304336L from abs_series.\n",
      "Processing metadata for A2304336L, series_meta type: <class 'pandas.core.series.Series'>\n",
      "Raw metadata sample: Unit                      $\n",
      "Series Type           Trend\n",
      "Data Type           DERIVED\n",
      "Frequency           Quarter\n",
      "Collection Month          3\n",
      "Name: A2304336L, dtype: object\n",
      "Creating CommonMetadata for A2304336L...\n",
      "Data type: <class 'pandas.core.series.Series'>, Metadata type: <class 'pandas.core.series.Series'>\n",
      "CommonMetadata created successfully for A2304336L\n",
      "Error processing metadata for A2304336L. Exception: 'CommonMetadata' object has no attribute 'model_dump'\n",
      "Series_meta content: Unit                                                      $\n",
      "Series Type                                           Trend\n",
      "Data Type                                           DERIVED\n",
      "Frequency                                           Quarter\n",
      "Collection Month                                          3\n",
      "Series Start                            1973-09-01 00:00:00\n",
      "Series End                              2025-06-01 00:00:00\n",
      "No. Obs                                                 208\n",
      "Series ID                                         A2304336L\n",
      "title               GDP per capita: Chain volume measures ;\n",
      "Name: A2304336L, dtype: object\n",
      "DS_data type: <class 'pandas.core.series.Series'>\n",
      "Created fallback metadata for A2304336L\n",
      "Attempting data pull for series id: A3606046R, from source: abs_series,\n",
      " start_date: 1600-01-01), exchange_code: nan\n",
      "Looking for data from source:  abs_series data code:  A3606046R\n",
      "R output: /Users/jamesbishop/Documents/Python/Bootleg_Macro/User_Data/ABS/LastPull/5206001_key_aggregates.xlsx\n",
      "Series ID 'A3606046R' found in column at index 21 (name: 'Gross value added market sector: Chain volume measures ;')\n",
      "ABS series created with name: Gross value added market sector: Chain volume measures ;\n",
      "ABS series title set to: Gross value added market sector: Chain volume measures ;\n",
      "Data pull successful for A3606046R from abs_series.\n",
      "Processing metadata for A3606046R, series_meta type: <class 'pandas.core.series.Series'>\n",
      "Raw metadata sample: Unit                $ Millions\n",
      "Series Type              Trend\n",
      "Data Type              DERIVED\n",
      "Frequency              Quarter\n",
      "Collection Month             3\n",
      "Name: A3606046R, dtype: object\n",
      "Creating CommonMetadata for A3606046R...\n",
      "Data type: <class 'pandas.core.series.Series'>, Metadata type: <class 'pandas.core.series.Series'>\n",
      "CommonMetadata created successfully for A3606046R\n",
      "Error processing metadata for A3606046R. Exception: 'CommonMetadata' object has no attribute 'model_dump'\n",
      "Series_meta content: Unit                                                       $ Millions\n",
      "Series Type                                                     Trend\n",
      "Data Type                                                     DERIVED\n",
      "Frequency                                                     Quarter\n",
      "Collection Month                                                    3\n",
      "Series Start                                      1994-09-01 00:00:00\n",
      "Series End                                        2025-06-01 00:00:00\n",
      "No. Obs                                                           124\n",
      "Series ID                                                   A3606046R\n",
      "title               Gross value added market sector: Chain volume ...\n",
      "Name: A3606046R, dtype: object\n",
      "DS_data type: <class 'pandas.core.series.Series'>\n",
      "Created fallback metadata for A3606046R\n",
      "Attempting data pull for series id: A130272195C, from source: abs_series,\n",
      " start_date: 1600-01-01), exchange_code: None\n",
      "Looking for data from source:  abs_series data code:  A130272195C\n",
      "R output: \n",
      "Error pulling data for A130272195C from abs_series. Exception: Excel file not found at: \n",
      "Attempting data pull for series id: A2304340C, from source: abs_series,\n",
      " start_date: 1600-01-01), exchange_code: nan\n",
      "Looking for data from source:  abs_series data code:  A2304340C\n",
      "R output: /Users/jamesbishop/Documents/Python/Bootleg_Macro/User_Data/ABS/LastPull/5206001_key_aggregates.xlsx\n",
      "Series ID 'A2304340C' found in column at index 23 (name: 'Net domestic product: Chain volume measures ;')\n",
      "ABS series created with name: Net domestic product: Chain volume measures ;\n",
      "ABS series title set to: Net domestic product: Chain volume measures ;\n",
      "Data pull successful for A2304340C from abs_series.\n",
      "Processing metadata for A2304340C, series_meta type: <class 'pandas.core.series.Series'>\n",
      "Raw metadata sample: Unit                $ Millions\n",
      "Series Type              Trend\n",
      "Data Type              DERIVED\n",
      "Frequency              Quarter\n",
      "Collection Month             3\n",
      "Name: A2304340C, dtype: object\n",
      "Creating CommonMetadata for A2304340C...\n",
      "Data type: <class 'pandas.core.series.Series'>, Metadata type: <class 'pandas.core.series.Series'>\n",
      "CommonMetadata created successfully for A2304340C\n",
      "Error processing metadata for A2304340C. Exception: 'CommonMetadata' object has no attribute 'model_dump'\n",
      "Series_meta content: Unit                                                   $ Millions\n",
      "Series Type                                                 Trend\n",
      "Data Type                                                 DERIVED\n",
      "Frequency                                                 Quarter\n",
      "Collection Month                                                3\n",
      "Series Start                                  1959-09-01 00:00:00\n",
      "Series End                                    2025-06-01 00:00:00\n",
      "No. Obs                                                       264\n",
      "Series ID                                               A2304340C\n",
      "title               Net domestic product: Chain volume measures ;\n",
      "Name: A2304340C, dtype: object\n",
      "DS_data type: <class 'pandas.core.series.Series'>\n",
      "Created fallback metadata for A2304340C\n",
      "Attempting data pull for series id: A2304342J, from source: abs_series,\n",
      " start_date: 1600-01-01), exchange_code: nan\n",
      "Looking for data from source:  abs_series data code:  A2304342J\n",
      "R output: /Users/jamesbishop/Documents/Python/Bootleg_Macro/User_Data/ABS/LastPull/5206001_key_aggregates.xlsx\n",
      "Series ID 'A2304342J' found in column at index 24 (name: 'Real gross domestic income: Chain volume measures ;')\n",
      "ABS series created with name: Real gross domestic income: Chain volume measures ;\n",
      "ABS series title set to: Real gross domestic income: Chain volume measures ;\n",
      "Data pull successful for A2304342J from abs_series.\n",
      "Processing metadata for A2304342J, series_meta type: <class 'pandas.core.series.Series'>\n",
      "Raw metadata sample: Unit                $ Millions\n",
      "Series Type              Trend\n",
      "Data Type              DERIVED\n",
      "Frequency              Quarter\n",
      "Collection Month             3\n",
      "Name: A2304342J, dtype: object\n",
      "Creating CommonMetadata for A2304342J...\n",
      "Data type: <class 'pandas.core.series.Series'>, Metadata type: <class 'pandas.core.series.Series'>\n",
      "CommonMetadata created successfully for A2304342J\n",
      "Error processing metadata for A2304342J. Exception: 'CommonMetadata' object has no attribute 'model_dump'\n",
      "Series_meta content: Unit                                                       $ Millions\n",
      "Series Type                                                     Trend\n",
      "Data Type                                                     DERIVED\n",
      "Frequency                                                     Quarter\n",
      "Collection Month                                                    3\n",
      "Series Start                                      1959-09-01 00:00:00\n",
      "Series End                                        2025-06-01 00:00:00\n",
      "No. Obs                                                           264\n",
      "Series ID                                                   A2304342J\n",
      "title               Real gross domestic income: Chain volume measu...\n",
      "Name: A2304342J, dtype: object\n",
      "DS_data type: <class 'pandas.core.series.Series'>\n",
      "Created fallback metadata for A2304342J\n",
      "Attempting data pull for series id: A2304344L, from source: abs_series,\n",
      " start_date: 1600-01-01), exchange_code: nan\n",
      "Looking for data from source:  abs_series data code:  A2304344L\n",
      "R output: /Users/jamesbishop/Documents/Python/Bootleg_Macro/User_Data/ABS/LastPull/5206001_key_aggregates.xlsx\n",
      "Series ID 'A2304344L' found in column at index 25 (name: 'Real gross national income: Chain volume measures ;')\n",
      "ABS series created with name: Real gross national income: Chain volume measures ;\n",
      "ABS series title set to: Real gross national income: Chain volume measures ;\n",
      "Data pull successful for A2304344L from abs_series.\n",
      "Processing metadata for A2304344L, series_meta type: <class 'pandas.core.series.Series'>\n",
      "Raw metadata sample: Unit                $ Millions\n",
      "Series Type              Trend\n",
      "Data Type              DERIVED\n",
      "Frequency              Quarter\n",
      "Collection Month             3\n",
      "Name: A2304344L, dtype: object\n",
      "Creating CommonMetadata for A2304344L...\n",
      "Data type: <class 'pandas.core.series.Series'>, Metadata type: <class 'pandas.core.series.Series'>\n",
      "CommonMetadata created successfully for A2304344L\n",
      "Error processing metadata for A2304344L. Exception: 'CommonMetadata' object has no attribute 'model_dump'\n",
      "Series_meta content: Unit                                                       $ Millions\n",
      "Series Type                                                     Trend\n",
      "Data Type                                                     DERIVED\n",
      "Frequency                                                     Quarter\n",
      "Collection Month                                                    3\n",
      "Series Start                                      1959-09-01 00:00:00\n",
      "Series End                                        2025-06-01 00:00:00\n",
      "No. Obs                                                           264\n",
      "Series ID                                                   A2304344L\n",
      "title               Real gross national income: Chain volume measu...\n",
      "Name: A2304344L, dtype: object\n",
      "DS_data type: <class 'pandas.core.series.Series'>\n",
      "Created fallback metadata for A2304344L\n",
      "Attempting data pull for series id: A2304346T, from source: abs_series,\n",
      " start_date: 1600-01-01), exchange_code: nan\n",
      "Looking for data from source:  abs_series data code:  A2304346T\n",
      "R output: /Users/jamesbishop/Documents/Python/Bootleg_Macro/User_Data/ABS/LastPull/5206001_key_aggregates.xlsx\n",
      "Series ID 'A2304346T' found in column at index 26 (name: 'Real net national disposable income: Chain volume measures ;')\n",
      "ABS series created with name: Real net national disposable income: Chain volume measures ;\n",
      "ABS series title set to: Real net national disposable income: Chain volume measures ;\n",
      "Data pull successful for A2304346T from abs_series.\n",
      "Processing metadata for A2304346T, series_meta type: <class 'pandas.core.series.Series'>\n",
      "Raw metadata sample: Unit                $ Millions\n",
      "Series Type              Trend\n",
      "Data Type              DERIVED\n",
      "Frequency              Quarter\n",
      "Collection Month             3\n",
      "Name: A2304346T, dtype: object\n",
      "Creating CommonMetadata for A2304346T...\n",
      "Data type: <class 'pandas.core.series.Series'>, Metadata type: <class 'pandas.core.series.Series'>\n",
      "CommonMetadata created successfully for A2304346T\n",
      "Error processing metadata for A2304346T. Exception: 'CommonMetadata' object has no attribute 'model_dump'\n",
      "Series_meta content: Unit                                                       $ Millions\n",
      "Series Type                                                     Trend\n",
      "Data Type                                                     DERIVED\n",
      "Frequency                                                     Quarter\n",
      "Collection Month                                                    3\n",
      "Series Start                                      1959-09-01 00:00:00\n",
      "Series End                                        2025-06-01 00:00:00\n",
      "No. Obs                                                           264\n",
      "Series ID                                                   A2304346T\n",
      "title               Real net national disposable income: Chain vol...\n",
      "Name: A2304346T, dtype: object\n",
      "DS_data type: <class 'pandas.core.series.Series'>\n",
      "Created fallback metadata for A2304346T\n",
      "Attempting data pull for series id: A2304348W, from source: abs_series,\n",
      " start_date: 1600-01-01), exchange_code: nan\n",
      "Looking for data from source:  abs_series data code:  A2304348W\n",
      "R output: /Users/jamesbishop/Documents/Python/Bootleg_Macro/User_Data/ABS/LastPull/5206001_key_aggregates.xlsx\n",
      "Series ID 'A2304348W' found in column at index 27 (name: 'Real net national disposable income per capita: Chain volume measures ;')\n",
      "ABS series created with name: Real net national disposable income per capita: Chain volume measures ;\n",
      "ABS series title set to: Real net national disposable income per capita: Chain volume measures ;\n",
      "Data pull successful for A2304348W from abs_series.\n",
      "Processing metadata for A2304348W, series_meta type: <class 'pandas.core.series.Series'>\n",
      "Raw metadata sample: Unit                      $\n",
      "Series Type           Trend\n",
      "Data Type           DERIVED\n",
      "Frequency           Quarter\n",
      "Collection Month          3\n",
      "Name: A2304348W, dtype: object\n",
      "Creating CommonMetadata for A2304348W...\n",
      "Data type: <class 'pandas.core.series.Series'>, Metadata type: <class 'pandas.core.series.Series'>\n",
      "CommonMetadata created successfully for A2304348W\n",
      "Error processing metadata for A2304348W. Exception: 'CommonMetadata' object has no attribute 'model_dump'\n",
      "Series_meta content: Unit                                                                $\n",
      "Series Type                                                     Trend\n",
      "Data Type                                                     DERIVED\n",
      "Frequency                                                     Quarter\n",
      "Collection Month                                                    3\n",
      "Series Start                                      1973-09-01 00:00:00\n",
      "Series End                                        2025-06-01 00:00:00\n",
      "No. Obs                                                           208\n",
      "Series ID                                                   A2304348W\n",
      "title               Real net national disposable income per capita...\n",
      "Name: A2304348W, dtype: object\n",
      "DS_data type: <class 'pandas.core.series.Series'>\n",
      "Created fallback metadata for A2304348W\n",
      "Attempting data pull for series id: A2304356W, from source: abs_series,\n",
      " start_date: 1600-01-01), exchange_code: nan\n",
      "Looking for data from source:  abs_series data code:  A2304356W\n",
      "R output: /Users/jamesbishop/Documents/Python/Bootleg_Macro/User_Data/ABS/LastPull/5206001_key_aggregates.xlsx\n",
      "Series ID 'A2304356W' found in column at index 31 (name: 'Net saving: Current prices ;')\n",
      "ABS series created with name: Net saving: Current prices ;\n",
      "ABS series title set to: Net saving: Current prices ;\n",
      "Data pull successful for A2304356W from abs_series.\n",
      "Processing metadata for A2304356W, series_meta type: <class 'pandas.core.series.Series'>\n",
      "Raw metadata sample: Unit                $ Millions\n",
      "Series Type              Trend\n",
      "Data Type              DERIVED\n",
      "Frequency              Quarter\n",
      "Collection Month             3\n",
      "Name: A2304356W, dtype: object\n",
      "Creating CommonMetadata for A2304356W...\n",
      "Data type: <class 'pandas.core.series.Series'>, Metadata type: <class 'pandas.core.series.Series'>\n",
      "CommonMetadata created successfully for A2304356W\n",
      "Error processing metadata for A2304356W. Exception: 'CommonMetadata' object has no attribute 'model_dump'\n",
      "Series_meta content: Unit                                  $ Millions\n",
      "Series Type                                Trend\n",
      "Data Type                                DERIVED\n",
      "Frequency                                Quarter\n",
      "Collection Month                               3\n",
      "Series Start                 1959-09-01 00:00:00\n",
      "Series End                   2025-06-01 00:00:00\n",
      "No. Obs                                      264\n",
      "Series ID                              A2304356W\n",
      "title               Net saving: Current prices ;\n",
      "Name: A2304356W, dtype: object\n",
      "DS_data type: <class 'pandas.core.series.Series'>\n",
      "Created fallback metadata for A2304356W\n",
      "Attempting data pull for series id: A2323384K, from source: abs_series,\n",
      " start_date: 1600-01-01), exchange_code: nan\n",
      "Looking for data from source:  abs_series data code:  A2323384K\n",
      "R output: /Users/jamesbishop/Documents/Python/Bootleg_Macro/User_Data/ABS/LastPull/5206001_key_aggregates.xlsx\n",
      "Series ID 'A2323384K' found in column at index 32 (name: 'Household saving ratio: Ratio ;')\n",
      "ABS series created with name: Household saving ratio: Ratio ;\n",
      "ABS series title set to: Household saving ratio: Ratio ;\n",
      "Data pull successful for A2323384K from abs_series.\n",
      "Processing metadata for A2323384K, series_meta type: <class 'pandas.core.series.Series'>\n",
      "Raw metadata sample: Unit                proportion\n",
      "Series Type              Trend\n",
      "Data Type              DERIVED\n",
      "Frequency              Quarter\n",
      "Collection Month             3\n",
      "Name: A2323384K, dtype: object\n",
      "Creating CommonMetadata for A2323384K...\n",
      "Data type: <class 'pandas.core.series.Series'>, Metadata type: <class 'pandas.core.series.Series'>\n",
      "CommonMetadata created successfully for A2323384K\n",
      "Error processing metadata for A2323384K. Exception: 'CommonMetadata' object has no attribute 'model_dump'\n",
      "Series_meta content: Unit                                     proportion\n",
      "Series Type                                   Trend\n",
      "Data Type                                   DERIVED\n",
      "Frequency                                   Quarter\n",
      "Collection Month                                  3\n",
      "Series Start                    1973-09-01 00:00:00\n",
      "Series End                      2025-06-01 00:00:00\n",
      "No. Obs                                         208\n",
      "Series ID                                 A2323384K\n",
      "title               Household saving ratio: Ratio ;\n",
      "Name: A2323384K, dtype: object\n",
      "DS_data type: <class 'pandas.core.series.Series'>\n",
      "Created fallback metadata for A2323384K\n",
      "Attempting data pull for series id: A2304360L, from source: abs_series,\n",
      " start_date: 1600-01-01), exchange_code: nan\n",
      "Looking for data from source:  abs_series data code:  A2304360L\n",
      "R output: /Users/jamesbishop/Documents/Python/Bootleg_Macro/User_Data/ABS/LastPull/5206001_key_aggregates.xlsx\n",
      "Series ID 'A2304360L' found in column at index 33 (name: 'Hours worked: Index ;')\n",
      "ABS series created with name: Hours worked: Index ;\n",
      "ABS series title set to: Hours worked: Index ;\n",
      "Data pull successful for A2304360L from abs_series.\n",
      "Processing metadata for A2304360L, series_meta type: <class 'pandas.core.series.Series'>\n",
      "Raw metadata sample: Unit                Index Numbers\n",
      "Series Type                 Trend\n",
      "Data Type                 DERIVED\n",
      "Frequency                 Quarter\n",
      "Collection Month                3\n",
      "Name: A2304360L, dtype: object\n",
      "Creating CommonMetadata for A2304360L...\n",
      "Data type: <class 'pandas.core.series.Series'>, Metadata type: <class 'pandas.core.series.Series'>\n",
      "CommonMetadata created successfully for A2304360L\n",
      "Error processing metadata for A2304360L. Exception: 'CommonMetadata' object has no attribute 'model_dump'\n",
      "Series_meta content: Unit                        Index Numbers\n",
      "Series Type                         Trend\n",
      "Data Type                         DERIVED\n",
      "Frequency                         Quarter\n",
      "Collection Month                        3\n",
      "Series Start          1978-09-01 00:00:00\n",
      "Series End            2025-06-01 00:00:00\n",
      "No. Obs                               188\n",
      "Series ID                       A2304360L\n",
      "title               Hours worked: Index ;\n",
      "Name: A2304360L, dtype: object\n",
      "DS_data type: <class 'pandas.core.series.Series'>\n",
      "Created fallback metadata for A2304360L\n",
      "Attempting data pull for series id: A2304362T, from source: abs_series,\n",
      " start_date: 1600-01-01), exchange_code: nan\n",
      "Looking for data from source:  abs_series data code:  A2304362T\n",
      "R output: /Users/jamesbishop/Documents/Python/Bootleg_Macro/User_Data/ABS/LastPull/5206001_key_aggregates.xlsx\n",
      "Series ID 'A2304362T' found in column at index 34 (name: 'Hours worked market sector: Index ;')\n",
      "ABS series created with name: Hours worked market sector: Index ;\n",
      "ABS series title set to: Hours worked market sector: Index ;\n",
      "Data pull successful for A2304362T from abs_series.\n",
      "Processing metadata for A2304362T, series_meta type: <class 'pandas.core.series.Series'>\n",
      "Raw metadata sample: Unit                Index Numbers\n",
      "Series Type                 Trend\n",
      "Data Type                 DERIVED\n",
      "Frequency                 Quarter\n",
      "Collection Month                3\n",
      "Name: A2304362T, dtype: object\n",
      "Creating CommonMetadata for A2304362T...\n",
      "Data type: <class 'pandas.core.series.Series'>, Metadata type: <class 'pandas.core.series.Series'>\n",
      "CommonMetadata created successfully for A2304362T\n",
      "Error processing metadata for A2304362T. Exception: 'CommonMetadata' object has no attribute 'model_dump'\n",
      "Series_meta content: Unit                                      Index Numbers\n",
      "Series Type                                       Trend\n",
      "Data Type                                       DERIVED\n",
      "Frequency                                       Quarter\n",
      "Collection Month                                      3\n",
      "Series Start                        1978-09-01 00:00:00\n",
      "Series End                          2025-06-01 00:00:00\n",
      "No. Obs                                             188\n",
      "Series ID                                     A2304362T\n",
      "title               Hours worked market sector: Index ;\n",
      "Name: A2304362T, dtype: object\n",
      "DS_data type: <class 'pandas.core.series.Series'>\n",
      "Created fallback metadata for A2304362T\n",
      "Attempting data pull for series id: A130272197J, from source: abs_series,\n",
      " start_date: 1600-01-01), exchange_code: None\n",
      "Looking for data from source:  abs_series data code:  A130272197J\n",
      "R output: \n",
      "Error pulling data for A130272197J from abs_series. Exception: Excel file not found at: \n",
      "Attempting data pull for series id: A2304364W, from source: abs_series,\n",
      " start_date: 1600-01-01), exchange_code: nan\n",
      "Looking for data from source:  abs_series data code:  A2304364W\n",
      "R output: /Users/jamesbishop/Documents/Python/Bootleg_Macro/User_Data/ABS/LastPull/5206001_key_aggregates.xlsx\n",
      "Series ID 'A2304364W' found in column at index 36 (name: 'GDP per hour worked: Index ;')\n",
      "ABS series created with name: GDP per hour worked: Index ;\n",
      "ABS series title set to: GDP per hour worked: Index ;\n",
      "Data pull successful for A2304364W from abs_series.\n",
      "Processing metadata for A2304364W, series_meta type: <class 'pandas.core.series.Series'>\n",
      "Raw metadata sample: Unit                Index Numbers\n",
      "Series Type                 Trend\n",
      "Data Type                 DERIVED\n",
      "Frequency                 Quarter\n",
      "Collection Month                3\n",
      "Name: A2304364W, dtype: object\n",
      "Creating CommonMetadata for A2304364W...\n",
      "Data type: <class 'pandas.core.series.Series'>, Metadata type: <class 'pandas.core.series.Series'>\n",
      "CommonMetadata created successfully for A2304364W\n",
      "Error processing metadata for A2304364W. Exception: 'CommonMetadata' object has no attribute 'model_dump'\n",
      "Series_meta content: Unit                               Index Numbers\n",
      "Series Type                                Trend\n",
      "Data Type                                DERIVED\n",
      "Frequency                                Quarter\n",
      "Collection Month                               3\n",
      "Series Start                 1978-09-01 00:00:00\n",
      "Series End                   2025-06-01 00:00:00\n",
      "No. Obs                                      188\n",
      "Series ID                              A2304364W\n",
      "title               GDP per hour worked: Index ;\n",
      "Name: A2304364W, dtype: object\n",
      "DS_data type: <class 'pandas.core.series.Series'>\n",
      "Created fallback metadata for A2304364W\n",
      "Attempting data pull for series id: A3606050F, from source: abs_series,\n",
      " start_date: 1600-01-01), exchange_code: nan\n",
      "Looking for data from source:  abs_series data code:  A3606050F\n",
      "R output: /Users/jamesbishop/Documents/Python/Bootleg_Macro/User_Data/ABS/LastPull/5206001_key_aggregates.xlsx\n",
      "Series ID 'A3606050F' found in column at index 37 (name: 'Gross value added per hour worked market sector: Index ;')\n",
      "ABS series created with name: Gross value added per hour worked market sector: Index ;\n",
      "ABS series title set to: Gross value added per hour worked market sector: Index ;\n",
      "Data pull successful for A3606050F from abs_series.\n",
      "Processing metadata for A3606050F, series_meta type: <class 'pandas.core.series.Series'>\n",
      "Raw metadata sample: Unit                Index Numbers\n",
      "Series Type                 Trend\n",
      "Data Type                 DERIVED\n",
      "Frequency                 Quarter\n",
      "Collection Month                3\n",
      "Name: A3606050F, dtype: object\n",
      "Creating CommonMetadata for A3606050F...\n",
      "Data type: <class 'pandas.core.series.Series'>, Metadata type: <class 'pandas.core.series.Series'>\n",
      "CommonMetadata created successfully for A3606050F\n",
      "Error processing metadata for A3606050F. Exception: 'CommonMetadata' object has no attribute 'model_dump'\n",
      "Series_meta content: Unit                                                    Index Numbers\n",
      "Series Type                                                     Trend\n",
      "Data Type                                                     DERIVED\n",
      "Frequency                                                     Quarter\n",
      "Collection Month                                                    3\n",
      "Series Start                                      1994-09-01 00:00:00\n",
      "Series End                                        2025-06-01 00:00:00\n",
      "No. Obs                                                           124\n",
      "Series ID                                                   A3606050F\n",
      "title               Gross value added per hour worked market secto...\n",
      "Name: A3606050F, dtype: object\n",
      "DS_data type: <class 'pandas.core.series.Series'>\n",
      "Created fallback metadata for A3606050F\n",
      "Attempting data pull for series id: A130272199L, from source: abs_series,\n",
      " start_date: 1600-01-01), exchange_code: None\n",
      "Looking for data from source:  abs_series data code:  A130272199L\n",
      "R output: \n",
      "Error pulling data for A130272199L from abs_series. Exception: Excel file not found at: \n",
      "Attempting data pull for series id: A2302479K, from source: abs_series,\n",
      " start_date: 1600-01-01), exchange_code: nan\n",
      "Looking for data from source:  abs_series data code:  A2302479K\n",
      "R output: /Users/jamesbishop/Documents/Python/Bootleg_Macro/User_Data/ABS/LastPull/5206002_expenditure_volume_measures.xlsx\n",
      "Series ID 'A2302479K' found in column at index 162 (name: 'General government - National ;  Final consumption expenditure - Defence ;.2')\n",
      "Deleted old file from LastPull: 5206001_key_aggregates.xlsx\n",
      "ABS series created with name: General government - National ;  Final consumption expenditure - Defence ;2\n",
      "ABS series title set to: General government - National ;  Final consumption expenditure - Defence ;2\n",
      "Data pull successful for A2302479K from abs_series.\n",
      "Processing metadata for A2302479K, series_meta type: <class 'pandas.core.series.Series'>\n",
      "Raw metadata sample: Unit                $ Millions\n",
      "Series Type           Original\n",
      "Data Type              DERIVED\n",
      "Frequency              Quarter\n",
      "Collection Month             3\n",
      "Name: A2302479K, dtype: object\n",
      "Creating CommonMetadata for A2302479K...\n",
      "Data type: <class 'pandas.core.series.Series'>, Metadata type: <class 'pandas.core.series.Series'>\n",
      "CommonMetadata created successfully for A2302479K\n",
      "Error processing metadata for A2302479K. Exception: 'CommonMetadata' object has no attribute 'model_dump'\n",
      "Series_meta content: Unit                                                       $ Millions\n",
      "Series Type                                                  Original\n",
      "Data Type                                                     DERIVED\n",
      "Frequency                                                     Quarter\n",
      "Collection Month                                                    3\n",
      "Series Start                                      1959-09-01 00:00:00\n",
      "Series End                                        2025-06-01 00:00:00\n",
      "No. Obs                                                           264\n",
      "Series ID                                                   A2302479K\n",
      "title               General government - National ;  Final consump...\n",
      "Name: A2302479K, dtype: object\n",
      "DS_data type: <class 'pandas.core.series.Series'>\n",
      "Created fallback metadata for A2302479K\n",
      "Attempting data pull for series id: A2302480V, from source: abs_series,\n",
      " start_date: 1600-01-01), exchange_code: nan\n",
      "Looking for data from source:  abs_series data code:  A2302480V\n",
      "R output: /Users/jamesbishop/Documents/Python/Bootleg_Macro/User_Data/ABS/LastPull/5206002_expenditure_volume_measures.xlsx\n",
      "Series ID 'A2302480V' found in column at index 163 (name: 'General government - National ;  Final consumption expenditure - Non-defence ;.2')\n",
      "ABS series created with name: General government - National ;  Final consumption expenditure - Non-defence ;2\n",
      "ABS series title set to: General government - National ;  Final consumption expenditure - Non-defence ;2\n",
      "Data pull successful for A2302480V from abs_series.\n",
      "Processing metadata for A2302480V, series_meta type: <class 'pandas.core.series.Series'>\n",
      "Raw metadata sample: Unit                $ Millions\n",
      "Series Type           Original\n",
      "Data Type              DERIVED\n",
      "Frequency              Quarter\n",
      "Collection Month             3\n",
      "Name: A2302480V, dtype: object\n",
      "Creating CommonMetadata for A2302480V...\n",
      "Data type: <class 'pandas.core.series.Series'>, Metadata type: <class 'pandas.core.series.Series'>\n",
      "CommonMetadata created successfully for A2302480V\n",
      "Error processing metadata for A2302480V. Exception: 'CommonMetadata' object has no attribute 'model_dump'\n",
      "Series_meta content: Unit                                                       $ Millions\n",
      "Series Type                                                  Original\n",
      "Data Type                                                     DERIVED\n",
      "Frequency                                                     Quarter\n",
      "Collection Month                                                    3\n",
      "Series Start                                      1959-09-01 00:00:00\n",
      "Series End                                        2025-06-01 00:00:00\n",
      "No. Obs                                                           264\n",
      "Series ID                                                   A2302480V\n",
      "title               General government - National ;  Final consump...\n",
      "Name: A2302480V, dtype: object\n",
      "DS_data type: <class 'pandas.core.series.Series'>\n",
      "Created fallback metadata for A2302480V\n",
      "Attempting data pull for series id: A2302481W, from source: abs_series,\n",
      " start_date: 1600-01-01), exchange_code: nan\n",
      "Looking for data from source:  abs_series data code:  A2302481W\n",
      "R output: /Users/jamesbishop/Documents/Python/Bootleg_Macro/User_Data/ABS/LastPull/5206002_expenditure_volume_measures.xlsx\n",
      "Series ID 'A2302481W' found in column at index 164 (name: 'General government - National ;  Final consumption expenditure ;.2')\n",
      "ABS series created with name: General government - National ;  Final consumption expenditure ;2\n",
      "ABS series title set to: General government - National ;  Final consumption expenditure ;2\n",
      "Data pull successful for A2302481W from abs_series.\n",
      "Processing metadata for A2302481W, series_meta type: <class 'pandas.core.series.Series'>\n",
      "Raw metadata sample: Unit                $ Millions\n",
      "Series Type           Original\n",
      "Data Type              DERIVED\n",
      "Frequency              Quarter\n",
      "Collection Month             3\n",
      "Name: A2302481W, dtype: object\n",
      "Creating CommonMetadata for A2302481W...\n",
      "Data type: <class 'pandas.core.series.Series'>, Metadata type: <class 'pandas.core.series.Series'>\n",
      "CommonMetadata created successfully for A2302481W\n",
      "Error processing metadata for A2302481W. Exception: 'CommonMetadata' object has no attribute 'model_dump'\n",
      "Series_meta content: Unit                                                       $ Millions\n",
      "Series Type                                                  Original\n",
      "Data Type                                                     DERIVED\n",
      "Frequency                                                     Quarter\n",
      "Collection Month                                                    3\n",
      "Series Start                                      1959-09-01 00:00:00\n",
      "Series End                                        2025-06-01 00:00:00\n",
      "No. Obs                                                           264\n",
      "Series ID                                                   A2302481W\n",
      "title               General government - National ;  Final consump...\n",
      "Name: A2302481W, dtype: object\n",
      "DS_data type: <class 'pandas.core.series.Series'>\n",
      "Created fallback metadata for A2302481W\n",
      "Attempting data pull for series id: A2302482X, from source: abs_series,\n",
      " start_date: 1600-01-01), exchange_code: nan\n",
      "Looking for data from source:  abs_series data code:  A2302482X\n",
      "R output: /Users/jamesbishop/Documents/Python/Bootleg_Macro/User_Data/ABS/LastPull/5206002_expenditure_volume_measures.xlsx\n",
      "Series ID 'A2302482X' found in column at index 165 (name: 'General government - State and local ;  Final consumption expenditure ;.2')\n",
      "ABS series created with name: General government - State and local ;  Final consumption expenditure ;2\n",
      "ABS series title set to: General government - State and local ;  Final consumption expenditure ;2\n",
      "Data pull successful for A2302482X from abs_series.\n",
      "Processing metadata for A2302482X, series_meta type: <class 'pandas.core.series.Series'>\n",
      "Raw metadata sample: Unit                $ Millions\n",
      "Series Type           Original\n",
      "Data Type              DERIVED\n",
      "Frequency              Quarter\n",
      "Collection Month             3\n",
      "Name: A2302482X, dtype: object\n",
      "Creating CommonMetadata for A2302482X...\n",
      "Data type: <class 'pandas.core.series.Series'>, Metadata type: <class 'pandas.core.series.Series'>\n",
      "CommonMetadata created successfully for A2302482X\n",
      "Error processing metadata for A2302482X. Exception: 'CommonMetadata' object has no attribute 'model_dump'\n",
      "Series_meta content: Unit                                                       $ Millions\n",
      "Series Type                                                  Original\n",
      "Data Type                                                     DERIVED\n",
      "Frequency                                                     Quarter\n",
      "Collection Month                                                    3\n",
      "Series Start                                      1959-09-01 00:00:00\n",
      "Series End                                        2025-06-01 00:00:00\n",
      "No. Obs                                                           264\n",
      "Series ID                                                   A2302482X\n",
      "title               General government - State and local ;  Final ...\n",
      "Name: A2302482X, dtype: object\n",
      "DS_data type: <class 'pandas.core.series.Series'>\n",
      "Created fallback metadata for A2302482X\n",
      "Attempting data pull for series id: A2302483A, from source: abs_series,\n",
      " start_date: 1600-01-01), exchange_code: nan\n",
      "Looking for data from source:  abs_series data code:  A2302483A\n",
      "R output: /Users/jamesbishop/Documents/Python/Bootleg_Macro/User_Data/ABS/LastPull/5206002_expenditure_volume_measures.xlsx\n",
      "Series ID 'A2302483A' found in column at index 166 (name: 'General government ;  Final consumption expenditure ;.2')\n",
      "ABS series created with name: General government ;  Final consumption expenditure ;2\n",
      "ABS series title set to: General government ;  Final consumption expenditure ;2\n",
      "Data pull successful for A2302483A from abs_series.\n",
      "Processing metadata for A2302483A, series_meta type: <class 'pandas.core.series.Series'>\n",
      "Raw metadata sample: Unit                $ Millions\n",
      "Series Type           Original\n",
      "Data Type              DERIVED\n",
      "Frequency              Quarter\n",
      "Collection Month             3\n",
      "Name: A2302483A, dtype: object\n",
      "Creating CommonMetadata for A2302483A...\n",
      "Data type: <class 'pandas.core.series.Series'>, Metadata type: <class 'pandas.core.series.Series'>\n",
      "CommonMetadata created successfully for A2302483A\n",
      "Error processing metadata for A2302483A. Exception: 'CommonMetadata' object has no attribute 'model_dump'\n",
      "Series_meta content: Unit                                                       $ Millions\n",
      "Series Type                                                  Original\n",
      "Data Type                                                     DERIVED\n",
      "Frequency                                                     Quarter\n",
      "Collection Month                                                    3\n",
      "Series Start                                      1959-09-01 00:00:00\n",
      "Series End                                        2025-06-01 00:00:00\n",
      "No. Obs                                                           264\n",
      "Series ID                                                   A2302483A\n",
      "title               General government ;  Final consumption expend...\n",
      "Name: A2302483A, dtype: object\n",
      "DS_data type: <class 'pandas.core.series.Series'>\n",
      "Created fallback metadata for A2302483A\n",
      "Attempting data pull for series id: A2302484C, from source: abs_series,\n",
      " start_date: 1600-01-01), exchange_code: nan\n",
      "Looking for data from source:  abs_series data code:  A2302484C\n",
      "R output: /Users/jamesbishop/Documents/Python/Bootleg_Macro/User_Data/ABS/LastPull/5206002_expenditure_volume_measures.xlsx\n",
      "Series ID 'A2302484C' found in column at index 167 (name: 'Households ;  Final consumption expenditure ;.2')\n",
      "ABS series created with name: Households ;  Final consumption expenditure ;2\n",
      "ABS series title set to: Households ;  Final consumption expenditure ;2\n",
      "Data pull successful for A2302484C from abs_series.\n",
      "Processing metadata for A2302484C, series_meta type: <class 'pandas.core.series.Series'>\n",
      "Raw metadata sample: Unit                $ Millions\n",
      "Series Type           Original\n",
      "Data Type              DERIVED\n",
      "Frequency              Quarter\n",
      "Collection Month             3\n",
      "Name: A2302484C, dtype: object\n",
      "Creating CommonMetadata for A2302484C...\n",
      "Data type: <class 'pandas.core.series.Series'>, Metadata type: <class 'pandas.core.series.Series'>\n",
      "CommonMetadata created successfully for A2302484C\n",
      "Error processing metadata for A2302484C. Exception: 'CommonMetadata' object has no attribute 'model_dump'\n",
      "Series_meta content: Unit                                                    $ Millions\n",
      "Series Type                                               Original\n",
      "Data Type                                                  DERIVED\n",
      "Frequency                                                  Quarter\n",
      "Collection Month                                                 3\n",
      "Series Start                                   1959-09-01 00:00:00\n",
      "Series End                                     2025-06-01 00:00:00\n",
      "No. Obs                                                        264\n",
      "Series ID                                                A2302484C\n",
      "title               Households ;  Final consumption expenditure ;2\n",
      "Name: A2302484C, dtype: object\n",
      "DS_data type: <class 'pandas.core.series.Series'>\n",
      "Created fallback metadata for A2302484C\n",
      "Attempting data pull for series id: A2302485F, from source: abs_series,\n",
      " start_date: 1600-01-01), exchange_code: nan\n",
      "Looking for data from source:  abs_series data code:  A2302485F\n",
      "R output: /Users/jamesbishop/Documents/Python/Bootleg_Macro/User_Data/ABS/LastPull/5206002_expenditure_volume_measures.xlsx\n",
      "Series ID 'A2302485F' found in column at index 168 (name: 'All sectors ;  Final consumption expenditure ;.2')\n",
      "ABS series created with name: All sectors ;  Final consumption expenditure ;2\n",
      "ABS series title set to: All sectors ;  Final consumption expenditure ;2\n",
      "Data pull successful for A2302485F from abs_series.\n",
      "Processing metadata for A2302485F, series_meta type: <class 'pandas.core.series.Series'>\n",
      "Raw metadata sample: Unit                $ Millions\n",
      "Series Type           Original\n",
      "Data Type              DERIVED\n",
      "Frequency              Quarter\n",
      "Collection Month             3\n",
      "Name: A2302485F, dtype: object\n",
      "Creating CommonMetadata for A2302485F...\n",
      "Data type: <class 'pandas.core.series.Series'>, Metadata type: <class 'pandas.core.series.Series'>\n",
      "CommonMetadata created successfully for A2302485F\n",
      "Error processing metadata for A2302485F. Exception: 'CommonMetadata' object has no attribute 'model_dump'\n",
      "Series_meta content: Unit                                                     $ Millions\n",
      "Series Type                                                Original\n",
      "Data Type                                                   DERIVED\n",
      "Frequency                                                   Quarter\n",
      "Collection Month                                                  3\n",
      "Series Start                                    1959-09-01 00:00:00\n",
      "Series End                                      2025-06-01 00:00:00\n",
      "No. Obs                                                         264\n",
      "Series ID                                                 A2302485F\n",
      "title               All sectors ;  Final consumption expenditure ;2\n",
      "Name: A2302485F, dtype: object\n",
      "DS_data type: <class 'pandas.core.series.Series'>\n",
      "Created fallback metadata for A2302485F\n",
      "Attempting data pull for series id: A2302503X, from source: abs_series,\n",
      " start_date: 1600-01-01), exchange_code: nan\n",
      "Looking for data from source:  abs_series data code:  A2302503X\n",
      "R output: /Users/jamesbishop/Documents/Python/Bootleg_Macro/User_Data/ABS/LastPull/5206002_expenditure_volume_measures.xlsx\n",
      "Series ID 'A2302503X' found in column at index 187 (name: 'Private ;  Gross fixed capital formation ;.2')\n",
      "ABS series created with name: Private ;  Gross fixed capital formation ;2\n",
      "ABS series title set to: Private ;  Gross fixed capital formation ;2\n",
      "Data pull successful for A2302503X from abs_series.\n",
      "Processing metadata for A2302503X, series_meta type: <class 'pandas.core.series.Series'>\n",
      "Raw metadata sample: Unit                $ Millions\n",
      "Series Type           Original\n",
      "Data Type              DERIVED\n",
      "Frequency              Quarter\n",
      "Collection Month             3\n",
      "Name: A2302503X, dtype: object\n",
      "Creating CommonMetadata for A2302503X...\n",
      "Data type: <class 'pandas.core.series.Series'>, Metadata type: <class 'pandas.core.series.Series'>\n",
      "CommonMetadata created successfully for A2302503X\n",
      "Error processing metadata for A2302503X. Exception: 'CommonMetadata' object has no attribute 'model_dump'\n",
      "Series_meta content: Unit                                                 $ Millions\n",
      "Series Type                                            Original\n",
      "Data Type                                               DERIVED\n",
      "Frequency                                               Quarter\n",
      "Collection Month                                              3\n",
      "Series Start                                1959-09-01 00:00:00\n",
      "Series End                                  2025-06-01 00:00:00\n",
      "No. Obs                                                     264\n",
      "Series ID                                             A2302503X\n",
      "title               Private ;  Gross fixed capital formation ;2\n",
      "Name: A2302503X, dtype: object\n",
      "DS_data type: <class 'pandas.core.series.Series'>\n",
      "Created fallback metadata for A2302503X\n",
      "Attempting data pull for series id: A2302511X, from source: abs_series,\n",
      " start_date: 1600-01-01), exchange_code: nan\n",
      "Looking for data from source:  abs_series data code:  A2302511X\n",
      "R output: /Users/jamesbishop/Documents/Python/Bootleg_Macro/User_Data/ABS/LastPull/5206002_expenditure_volume_measures.xlsx\n",
      "Series ID 'A2302511X' found in column at index 195 (name: 'General government ;  Gross fixed capital formation ;.2')\n",
      "ABS series created with name: General government ;  Gross fixed capital formation ;2\n",
      "ABS series title set to: General government ;  Gross fixed capital formation ;2\n",
      "Data pull successful for A2302511X from abs_series.\n",
      "Processing metadata for A2302511X, series_meta type: <class 'pandas.core.series.Series'>\n",
      "Raw metadata sample: Unit                $ Millions\n",
      "Series Type           Original\n",
      "Data Type              DERIVED\n",
      "Frequency              Quarter\n",
      "Collection Month             3\n",
      "Name: A2302511X, dtype: object\n",
      "Creating CommonMetadata for A2302511X...\n",
      "Data type: <class 'pandas.core.series.Series'>, Metadata type: <class 'pandas.core.series.Series'>\n",
      "CommonMetadata created successfully for A2302511X\n",
      "Error processing metadata for A2302511X. Exception: 'CommonMetadata' object has no attribute 'model_dump'\n",
      "Series_meta content: Unit                                                       $ Millions\n",
      "Series Type                                                  Original\n",
      "Data Type                                                     DERIVED\n",
      "Frequency                                                     Quarter\n",
      "Collection Month                                                    3\n",
      "Series Start                                      1959-09-01 00:00:00\n",
      "Series End                                        2025-06-01 00:00:00\n",
      "No. Obs                                                           264\n",
      "Series ID                                                   A2302511X\n",
      "title               General government ;  Gross fixed capital form...\n",
      "Name: A2302511X, dtype: object\n",
      "DS_data type: <class 'pandas.core.series.Series'>\n",
      "Created fallback metadata for A2302511X\n",
      "Attempting data pull for series id: A2302512A, from source: abs_series,\n",
      " start_date: 1600-01-01), exchange_code: nan\n",
      "Looking for data from source:  abs_series data code:  A2302512A\n",
      "R output: /Users/jamesbishop/Documents/Python/Bootleg_Macro/User_Data/ABS/LastPull/5206002_expenditure_volume_measures.xlsx\n",
      "Series ID 'A2302512A' found in column at index 196 (name: 'Public ;  Gross fixed capital formation ;.2')\n",
      "ABS series created with name: Public ;  Gross fixed capital formation ;2\n",
      "ABS series title set to: Public ;  Gross fixed capital formation ;2\n",
      "Data pull successful for A2302512A from abs_series.\n",
      "Processing metadata for A2302512A, series_meta type: <class 'pandas.core.series.Series'>\n",
      "Raw metadata sample: Unit                $ Millions\n",
      "Series Type           Original\n",
      "Data Type              DERIVED\n",
      "Frequency              Quarter\n",
      "Collection Month             3\n",
      "Name: A2302512A, dtype: object\n",
      "Creating CommonMetadata for A2302512A...\n",
      "Data type: <class 'pandas.core.series.Series'>, Metadata type: <class 'pandas.core.series.Series'>\n",
      "CommonMetadata created successfully for A2302512A\n",
      "Error processing metadata for A2302512A. Exception: 'CommonMetadata' object has no attribute 'model_dump'\n",
      "Series_meta content: Unit                                                $ Millions\n",
      "Series Type                                           Original\n",
      "Data Type                                              DERIVED\n",
      "Frequency                                              Quarter\n",
      "Collection Month                                             3\n",
      "Series Start                               1959-09-01 00:00:00\n",
      "Series End                                 2025-06-01 00:00:00\n",
      "No. Obs                                                    264\n",
      "Series ID                                            A2302512A\n",
      "title               Public ;  Gross fixed capital formation ;2\n",
      "Name: A2302512A, dtype: object\n",
      "DS_data type: <class 'pandas.core.series.Series'>\n",
      "Created fallback metadata for A2302512A\n",
      "Attempting data pull for series id: A2302513C, from source: abs_series,\n",
      " start_date: 1600-01-01), exchange_code: nan\n",
      "Looking for data from source:  abs_series data code:  A2302513C\n",
      "R output: /Users/jamesbishop/Documents/Python/Bootleg_Macro/User_Data/ABS/LastPull/5206002_expenditure_volume_measures.xlsx\n",
      "Series ID 'A2302513C' found in column at index 197 (name: 'All sectors ;  Gross fixed capital formation ;.2')\n",
      "ABS series created with name: All sectors ;  Gross fixed capital formation ;2\n",
      "ABS series title set to: All sectors ;  Gross fixed capital formation ;2\n",
      "Data pull successful for A2302513C from abs_series.\n",
      "Processing metadata for A2302513C, series_meta type: <class 'pandas.core.series.Series'>\n",
      "Raw metadata sample: Unit                $ Millions\n",
      "Series Type           Original\n",
      "Data Type              DERIVED\n",
      "Frequency              Quarter\n",
      "Collection Month             3\n",
      "Name: A2302513C, dtype: object\n",
      "Creating CommonMetadata for A2302513C...\n",
      "Data type: <class 'pandas.core.series.Series'>, Metadata type: <class 'pandas.core.series.Series'>\n",
      "CommonMetadata created successfully for A2302513C\n",
      "Error processing metadata for A2302513C. Exception: 'CommonMetadata' object has no attribute 'model_dump'\n",
      "Series_meta content: Unit                                                     $ Millions\n",
      "Series Type                                                Original\n",
      "Data Type                                                   DERIVED\n",
      "Frequency                                                   Quarter\n",
      "Collection Month                                                  3\n",
      "Series Start                                    1959-09-01 00:00:00\n",
      "Series End                                      2025-06-01 00:00:00\n",
      "No. Obs                                                         264\n",
      "Series ID                                                 A2302513C\n",
      "title               All sectors ;  Gross fixed capital formation ;2\n",
      "Name: A2302513C, dtype: object\n",
      "DS_data type: <class 'pandas.core.series.Series'>\n",
      "Created fallback metadata for A2302513C\n",
      "Attempting data pull for series id: A2302514F, from source: abs_series,\n",
      " start_date: 1600-01-01), exchange_code: nan\n",
      "Looking for data from source:  abs_series data code:  A2302514F\n",
      "R output: /Users/jamesbishop/Documents/Python/Bootleg_Macro/User_Data/ABS/LastPull/5206002_expenditure_volume_measures.xlsx\n",
      "Series ID 'A2302514F' found in column at index 198 (name: 'Domestic final demand ;.2')\n",
      "ABS series created with name: Domestic final demand ;2\n",
      "ABS series title set to: Domestic final demand ;2\n",
      "Data pull successful for A2302514F from abs_series.\n",
      "Processing metadata for A2302514F, series_meta type: <class 'pandas.core.series.Series'>\n",
      "Raw metadata sample: Unit                $ Millions\n",
      "Series Type           Original\n",
      "Data Type              DERIVED\n",
      "Frequency              Quarter\n",
      "Collection Month             3\n",
      "Name: A2302514F, dtype: object\n",
      "Creating CommonMetadata for A2302514F...\n",
      "Data type: <class 'pandas.core.series.Series'>, Metadata type: <class 'pandas.core.series.Series'>\n",
      "CommonMetadata created successfully for A2302514F\n",
      "Error processing metadata for A2302514F. Exception: 'CommonMetadata' object has no attribute 'model_dump'\n",
      "Series_meta content: Unit                              $ Millions\n",
      "Series Type                         Original\n",
      "Data Type                            DERIVED\n",
      "Frequency                            Quarter\n",
      "Collection Month                           3\n",
      "Series Start             1959-09-01 00:00:00\n",
      "Series End               2025-06-01 00:00:00\n",
      "No. Obs                                  264\n",
      "Series ID                          A2302514F\n",
      "title               Domestic final demand ;2\n",
      "Name: A2302514F, dtype: object\n",
      "DS_data type: <class 'pandas.core.series.Series'>\n",
      "Created fallback metadata for A2302514F\n",
      "Attempting data pull for series id: A2325846C, from source: abs_series,\n",
      " start_date: 1600-01-01), exchange_code: nan\n",
      "Looking for data from source:  abs_series data code:  A2325846C\n",
      "R output: /Users/jamesbishop/Documents/Python/Bootleg_Macro/User_Data/ABS/LastPull/640101.xlsx\n",
      "Series ID 'A2325846C' found in column at index 8 (name: 'Index Numbers ;  All groups CPI ;  Australia ;')\n",
      "Deleted old file from LastPull: 5206002_expenditure_volume_measures.xlsx\n",
      "ABS series created with name: Index Numbers ;  All groups CPI ;  Australia ;\n",
      "ABS series title set to: Index Numbers ;  All groups CPI ;  Australia ;\n",
      "Data pull successful for A2325846C from abs_series.\n",
      "Processing metadata for A2325846C, series_meta type: <class 'pandas.core.series.Series'>\n",
      "Raw metadata sample: Unit                Index Numbers\n",
      "Series Type              Original\n",
      "Data Type                   INDEX\n",
      "Frequency                 Quarter\n",
      "Collection Month                3\n",
      "Name: A2325846C, dtype: object\n",
      "Creating CommonMetadata for A2325846C...\n",
      "Data type: <class 'pandas.core.series.Series'>, Metadata type: <class 'pandas.core.series.Series'>\n",
      "CommonMetadata created successfully for A2325846C\n",
      "Error processing metadata for A2325846C. Exception: 'CommonMetadata' object has no attribute 'model_dump'\n",
      "Series_meta content: Unit                                                 Index Numbers\n",
      "Series Type                                               Original\n",
      "Data Type                                                    INDEX\n",
      "Frequency                                                  Quarter\n",
      "Collection Month                                                 3\n",
      "Series Start                                   1948-09-01 00:00:00\n",
      "Series End                                     2025-06-01 00:00:00\n",
      "No. Obs                                                        308\n",
      "Series ID                                                A2325846C\n",
      "title               Index Numbers ;  All groups CPI ;  Australia ;\n",
      "Name: A2325846C, dtype: object\n",
      "DS_data type: <class 'pandas.core.series.Series'>\n",
      "Created fallback metadata for A2325846C\n",
      "Attempting data pull for series id: A2330616T, from source: abs_series,\n",
      " start_date: 1600-01-01), exchange_code: nan\n",
      "Looking for data from source:  abs_series data code:  A2330616T\n",
      "R output: /Users/jamesbishop/Documents/Python/Bootleg_Macro/User_Data/ABS/LastPull/640106.xlsx\n",
      "Series ID 'A2330616T' found in column at index 6 (name: 'Index Numbers ;  All groups, goods component ;  Australia ;')\n",
      "Deleted old file from LastPull: 640101.xlsx\n",
      "ABS series created with name: Index Numbers ;  All groups, goods component ;  Australia ;\n",
      "ABS series title set to: Index Numbers ;  All groups, goods component ;  Australia ;\n",
      "Data pull successful for A2330616T from abs_series.\n",
      "Processing metadata for A2330616T, series_meta type: <class 'pandas.core.series.Series'>\n",
      "Raw metadata sample: Unit                Index Numbers\n",
      "Series Type              Original\n",
      "Data Type                   INDEX\n",
      "Frequency                 Quarter\n",
      "Collection Month                3\n",
      "Name: A2330616T, dtype: object\n",
      "Creating CommonMetadata for A2330616T...\n",
      "Data type: <class 'pandas.core.series.Series'>, Metadata type: <class 'pandas.core.series.Series'>\n",
      "CommonMetadata created successfully for A2330616T\n",
      "Error processing metadata for A2330616T. Exception: 'CommonMetadata' object has no attribute 'model_dump'\n",
      "Series_meta content: Unit                                                    Index Numbers\n",
      "Series Type                                                  Original\n",
      "Data Type                                                       INDEX\n",
      "Frequency                                                     Quarter\n",
      "Collection Month                                                    3\n",
      "Series Start                                      1974-09-01 00:00:00\n",
      "Series End                                        2025-06-01 00:00:00\n",
      "No. Obs                                                           204\n",
      "Series ID                                                   A2330616T\n",
      "title               Index Numbers ;  All groups, goods component ;...\n",
      "Name: A2330616T, dtype: object\n",
      "DS_data type: <class 'pandas.core.series.Series'>\n",
      "Created fallback metadata for A2330616T\n",
      "Attempting data pull for series id: A2330706W, from source: abs_series,\n",
      " start_date: 1600-01-01), exchange_code: nan\n",
      "Looking for data from source:  abs_series data code:  A2330706W\n",
      "R output: /Users/jamesbishop/Documents/Python/Bootleg_Macro/User_Data/ABS/LastPull/640106.xlsx\n",
      "Series ID 'A2330706W' found in column at index 7 (name: 'Index Numbers ;  All groups, services component ;  Australia ;')\n",
      "ABS series created with name: Index Numbers ;  All groups, services component ;  Australia ;\n",
      "ABS series title set to: Index Numbers ;  All groups, services component ;  Australia ;\n",
      "Data pull successful for A2330706W from abs_series.\n",
      "Processing metadata for A2330706W, series_meta type: <class 'pandas.core.series.Series'>\n",
      "Raw metadata sample: Unit                Index Numbers\n",
      "Series Type              Original\n",
      "Data Type                   INDEX\n",
      "Frequency                 Quarter\n",
      "Collection Month                3\n",
      "Name: A2330706W, dtype: object\n",
      "Creating CommonMetadata for A2330706W...\n",
      "Data type: <class 'pandas.core.series.Series'>, Metadata type: <class 'pandas.core.series.Series'>\n",
      "CommonMetadata created successfully for A2330706W\n",
      "Error processing metadata for A2330706W. Exception: 'CommonMetadata' object has no attribute 'model_dump'\n",
      "Series_meta content: Unit                                                    Index Numbers\n",
      "Series Type                                                  Original\n",
      "Data Type                                                       INDEX\n",
      "Frequency                                                     Quarter\n",
      "Collection Month                                                    3\n",
      "Series Start                                      1974-09-01 00:00:00\n",
      "Series End                                        2025-06-01 00:00:00\n",
      "No. Obs                                                           204\n",
      "Series ID                                                   A2330706W\n",
      "title               Index Numbers ;  All groups, services componen...\n",
      "Name: A2330706W, dtype: object\n",
      "DS_data type: <class 'pandas.core.series.Series'>\n",
      "Created fallback metadata for A2330706W\n",
      "Attempting data pull for series id: A2332236A, from source: abs_series,\n",
      " start_date: 1600-01-01), exchange_code: nan\n",
      "Looking for data from source:  abs_series data code:  A2332236A\n",
      "R output: /Users/jamesbishop/Documents/Python/Bootleg_Macro/User_Data/ABS/LastPull/640106.xlsx\n",
      "Series ID 'A2332236A' found in column at index 15 (name: 'Index Numbers ;  All groups CPI excluding Housing ;  Australia ;')\n",
      "ABS series created with name: Index Numbers ;  All groups CPI excluding Housing ;  Australia ;\n",
      "ABS series title set to: Index Numbers ;  All groups CPI excluding Housing ;  Australia ;\n",
      "Data pull successful for A2332236A from abs_series.\n",
      "Processing metadata for A2332236A, series_meta type: <class 'pandas.core.series.Series'>\n",
      "Raw metadata sample: Unit                Index Numbers\n",
      "Series Type              Original\n",
      "Data Type                   INDEX\n",
      "Frequency                 Quarter\n",
      "Collection Month                3\n",
      "Name: A2332236A, dtype: object\n",
      "Creating CommonMetadata for A2332236A...\n",
      "Data type: <class 'pandas.core.series.Series'>, Metadata type: <class 'pandas.core.series.Series'>\n",
      "CommonMetadata created successfully for A2332236A\n",
      "Error processing metadata for A2332236A. Exception: 'CommonMetadata' object has no attribute 'model_dump'\n",
      "Series_meta content: Unit                                                    Index Numbers\n",
      "Series Type                                                  Original\n",
      "Data Type                                                       INDEX\n",
      "Frequency                                                     Quarter\n",
      "Collection Month                                                    3\n",
      "Series Start                                      1972-09-01 00:00:00\n",
      "Series End                                        2025-06-01 00:00:00\n",
      "No. Obs                                                           212\n",
      "Series ID                                                   A2332236A\n",
      "title               Index Numbers ;  All groups CPI excluding Hous...\n",
      "Name: A2332236A, dtype: object\n",
      "DS_data type: <class 'pandas.core.series.Series'>\n",
      "Created fallback metadata for A2332236A\n",
      "Attempting data pull for series id: A128478317T, from source: abs_series,\n",
      " start_date: 1600-01-01), exchange_code: nan\n",
      "Looking for data from source:  abs_series data code:  A128478317T\n",
      "R output: /Users/jamesbishop/Documents/Python/Bootleg_Macro/User_Data/ABS/LastPull/648401.xlsx\n",
      "Series ID 'A128478317T' found in column at index 0 (name: 'Index Numbers ;  All groups CPI ;  Australia ;')\n",
      "Deleted old file from LastPull: 640106.xlsx\n",
      "ABS series created with name: Index Numbers ;  All groups CPI ;  Australia ;\n",
      "ABS series title set to: Index Numbers ;  All groups CPI ;  Australia ;\n",
      "Data pull successful for A128478317T from abs_series.\n",
      "Processing metadata for A128478317T, series_meta type: <class 'pandas.core.series.Series'>\n",
      "Raw metadata sample: Unit                Index Numbers\n",
      "Series Type              Original\n",
      "Data Type                   INDEX\n",
      "Frequency                   Month\n",
      "Collection Month                1\n",
      "Name: A128478317T, dtype: object\n",
      "Creating CommonMetadata for A128478317T...\n",
      "Data type: <class 'pandas.core.series.Series'>, Metadata type: <class 'pandas.core.series.Series'>\n",
      "CommonMetadata created successfully for A128478317T\n",
      "Error processing metadata for A128478317T. Exception: 'CommonMetadata' object has no attribute 'model_dump'\n",
      "Series_meta content: Unit                                                 Index Numbers\n",
      "Series Type                                               Original\n",
      "Data Type                                                    INDEX\n",
      "Frequency                                                    Month\n",
      "Collection Month                                                 1\n",
      "Series Start                                   2017-09-01 00:00:00\n",
      "Series End                                     2025-07-01 00:00:00\n",
      "No. Obs                                                         95\n",
      "Series ID                                              A128478317T\n",
      "title               Index Numbers ;  All groups CPI ;  Australia ;\n",
      "Name: A128478317T, dtype: object\n",
      "DS_data type: <class 'pandas.core.series.Series'>\n",
      "Created fallback metadata for A128478317T\n",
      "Attempting data pull for series id: australia/government-debt-to-gdp, from source: tedata,\n",
      " start_date: 1600-01-01), exchange_code: nan\n",
      "Looking for data from source:  tedata data code:  australia/government-debt-to-gdp\n"
     ]
    },
    {
     "name": "stderr",
     "output_type": "stream",
     "text": [
      "INFO - New firefox webdriver created.\n",
      "INFO - scrape_chart function: Scraping chart at: https://tradingeconomics.com/australia/government-debt-to-gdp, time: 2025-09-23 11:37:11.094062, method: highcharts_api\n",
      "INFO - Page loaded successfully.\n",
      "INFO - Chart types dictionary created successfully: dict_keys(['Column', 'Spline', 'Areaspline', 'Stepline', 'Line', 'Area'])\n",
      "INFO - Date span set to: 5Y\n",
      "INFO - \n",
      "Series metadata: \n",
      " {'units': 'percent of GDP', 'original_source': 'Australian Office of Financial Management (AOFM)', 'title': 'Australia Government Net Debt to GDP', 'indicator': 'government debt to gdp', 'country': 'australia', 'source': 'Trading Economics', 'id': 'australia/government-debt-to-gdp'}\n",
      "INFO - Date span set to: 10Y\n",
      "INFO - Successfully extracted series data from Highcharts.\n",
      "INFO - Successfully scraped series from Highcharts API.\n"
     ]
    },
    {
     "name": "stdout",
     "output_type": "stream",
     "text": [
      "Data pull successful for australia/government-debt-to-gdp from tedata.\n",
      "Processing metadata for australia/government-debt-to-gdp, series_meta type: <class 'pandas.core.series.Series'>\n",
      "Raw metadata sample: units                                                percent of GDP\n",
      "original_source    Australian Office of Financial Management (AOFM)\n",
      "title                          Australia Government Net Debt to GDP\n",
      "indicator                                    government debt to gdp\n",
      "country                                                   australia\n",
      "Name: australia/government-debt-to-gdp, dtype: object\n",
      "Creating CommonMetadata for australia/government-debt-to-gdp...\n",
      "Data type: <class 'pandas.core.series.Series'>, Metadata type: <class 'pandas.core.series.Series'>\n",
      "CommonMetadata created successfully for australia/government-debt-to-gdp\n",
      "Error processing metadata for australia/government-debt-to-gdp. Exception: 'CommonMetadata' object has no attribute 'model_dump'\n",
      "Series_meta content: units                                                 percent of GDP\n",
      "original_source     Australian Office of Financial Management (AOFM)\n",
      "title                           Australia Government Net Debt to GDP\n",
      "indicator                                     government debt to gdp\n",
      "country                                                    australia\n",
      "source                                             Trading Economics\n",
      "id                                  australia/government-debt-to-gdp\n",
      "description        In Australia, government debt to GDP refers to...\n",
      "frequency                                                     YS-JAN\n",
      "start_date                                                2015-01-01\n",
      "end_date                                                  2024-01-01\n",
      "min_value                                                       15.1\n",
      "max_value                                                       43.8\n",
      "length                                                            10\n",
      "Name: australia/government-debt-to-gdp, dtype: object\n",
      "DS_data type: <class 'pandas.core.series.Series'>\n",
      "Created fallback metadata for australia/government-debt-to-gdp\n",
      "Attempting data pull for series id: australia/private-debt-to-gdp, from source: tedata,\n",
      " start_date: 1600-01-01), exchange_code: None\n",
      "Looking for data from source:  tedata data code:  australia/private-debt-to-gdp\n"
     ]
    },
    {
     "name": "stderr",
     "output_type": "stream",
     "text": [
      "INFO - New firefox webdriver created.\n",
      "INFO - scrape_chart function: Scraping chart at: https://tradingeconomics.com/australia/private-debt-to-gdp, time: 2025-09-23 11:37:27.800435, method: highcharts_api\n",
      "INFO - Page loaded successfully.\n",
      "INFO - Chart types dictionary created successfully: dict_keys(['Column', 'Spline', 'Areaspline', 'Stepline', 'Line', 'Area'])\n",
      "INFO - Date span set to: 5Y\n",
      "INFO - \n",
      "Series metadata: \n",
      " {'units': '%', 'original_source': 'OECD', 'title': 'Australia Private Debt to GDP', 'indicator': 'private debt to gdp', 'country': 'australia', 'source': 'Trading Economics', 'id': 'australia/private-debt-to-gdp'}\n",
      "INFO - Date span set to: 10Y\n",
      "INFO - Successfully extracted series data from Highcharts.\n",
      "INFO - Successfully scraped series from Highcharts API.\n"
     ]
    },
    {
     "name": "stdout",
     "output_type": "stream",
     "text": [
      "Data pull successful for australia/private-debt-to-gdp from tedata.\n",
      "Processing metadata for australia/private-debt-to-gdp, series_meta type: <class 'pandas.core.series.Series'>\n",
      "Raw metadata sample: units                                          %\n",
      "original_source                             OECD\n",
      "title              Australia Private Debt to GDP\n",
      "indicator                    private debt to gdp\n",
      "country                                australia\n",
      "Name: australia/private-debt-to-gdp, dtype: object\n",
      "Creating CommonMetadata for australia/private-debt-to-gdp...\n",
      "Data type: <class 'pandas.core.series.Series'>, Metadata type: <class 'pandas.core.series.Series'>\n",
      "CommonMetadata created successfully for australia/private-debt-to-gdp\n",
      "Error processing metadata for australia/private-debt-to-gdp. Exception: 'CommonMetadata' object has no attribute 'model_dump'\n",
      "Series_meta content: units                                                              %\n",
      "original_source                                                 OECD\n",
      "title                                  Australia Private Debt to GDP\n",
      "indicator                                        private debt to gdp\n",
      "country                                                    australia\n",
      "source                                             Trading Economics\n",
      "id                                     australia/private-debt-to-gdp\n",
      "description        Private sector debt to GDP measures the indebt...\n",
      "frequency                                                     YS-JAN\n",
      "start_date                                                2015-01-01\n",
      "end_date                                                  2024-01-01\n",
      "min_value                                                       68.9\n",
      "max_value                                                       82.8\n",
      "length                                                            10\n",
      "Name: australia/private-debt-to-gdp, dtype: object\n",
      "DS_data type: <class 'pandas.core.series.Series'>\n",
      "Created fallback metadata for australia/private-debt-to-gdp\n",
      "Attempting data pull for series id: A2302467A, from source: abs_series,\n",
      " start_date: 1600-01-01), exchange_code: nan\n",
      "Looking for data from source:  abs_series data code:  A2302467A\n",
      "R output: /Users/jamesbishop/Documents/Python/Bootleg_Macro/User_Data/ABS/LastPull/5206001_key_aggregates.xlsx\n",
      "Series ID 'A2302467A' found in column at index 112 (name: 'Gross domestic product: Current prices ;.2')\n",
      "Deleted old file from LastPull: 648401.xlsx\n",
      "ABS series created with name: Gross domestic product: Current prices ;2\n",
      "ABS series title set to: Gross domestic product: Current prices ;2\n",
      "Data pull successful for A2302467A from abs_series.\n",
      "Processing metadata for A2302467A, series_meta type: <class 'pandas.core.series.Series'>\n",
      "Raw metadata sample: Unit                $ Millions\n",
      "Series Type           Original\n",
      "Data Type              DERIVED\n",
      "Frequency              Quarter\n",
      "Collection Month             3\n",
      "Name: A2302467A, dtype: object\n",
      "Creating CommonMetadata for A2302467A...\n",
      "Data type: <class 'pandas.core.series.Series'>, Metadata type: <class 'pandas.core.series.Series'>\n",
      "CommonMetadata created successfully for A2302467A\n",
      "Error processing metadata for A2302467A. Exception: 'CommonMetadata' object has no attribute 'model_dump'\n",
      "Series_meta content: Unit                                               $ Millions\n",
      "Series Type                                          Original\n",
      "Data Type                                             DERIVED\n",
      "Frequency                                             Quarter\n",
      "Collection Month                                            3\n",
      "Series Start                              1959-09-01 00:00:00\n",
      "Series End                                2025-06-01 00:00:00\n",
      "No. Obs                                                   264\n",
      "Series ID                                           A2302467A\n",
      "title               Gross domestic product: Current prices ;2\n",
      "Name: A2302467A, dtype: object\n",
      "DS_data type: <class 'pandas.core.series.Series'>\n",
      "Created fallback metadata for A2302467A\n",
      "Attempting data pull for series id: A2302468C, from source: abs_series,\n",
      " start_date: 1600-01-01), exchange_code: nan\n",
      "Looking for data from source:  abs_series data code:  A2302468C\n",
      "R output: /Users/jamesbishop/Documents/Python/Bootleg_Macro/User_Data/ABS/LastPull/5206001_key_aggregates.xlsx\n",
      "Series ID 'A2302468C' found in column at index 113 (name: 'GDP per capita: Current prices ;.2')\n",
      "ABS series created with name: GDP per capita: Current prices ;2\n",
      "ABS series title set to: GDP per capita: Current prices ;2\n",
      "Data pull successful for A2302468C from abs_series.\n",
      "Processing metadata for A2302468C, series_meta type: <class 'pandas.core.series.Series'>\n",
      "Raw metadata sample: Unit                       $\n",
      "Series Type         Original\n",
      "Data Type            DERIVED\n",
      "Frequency            Quarter\n",
      "Collection Month           3\n",
      "Name: A2302468C, dtype: object\n",
      "Creating CommonMetadata for A2302468C...\n",
      "Data type: <class 'pandas.core.series.Series'>, Metadata type: <class 'pandas.core.series.Series'>\n",
      "CommonMetadata created successfully for A2302468C\n",
      "Error processing metadata for A2302468C. Exception: 'CommonMetadata' object has no attribute 'model_dump'\n",
      "Series_meta content: Unit                                                $\n",
      "Series Type                                  Original\n",
      "Data Type                                     DERIVED\n",
      "Frequency                                     Quarter\n",
      "Collection Month                                    3\n",
      "Series Start                      1959-09-01 00:00:00\n",
      "Series End                        2025-06-01 00:00:00\n",
      "No. Obs                                           264\n",
      "Series ID                                   A2302468C\n",
      "title               GDP per capita: Current prices ;2\n",
      "Name: A2302468C, dtype: object\n",
      "DS_data type: <class 'pandas.core.series.Series'>\n",
      "Created fallback metadata for A2302468C\n",
      "Attempting data pull for series id: A2302469F, from source: abs_series,\n",
      " start_date: 1600-01-01), exchange_code: nan\n",
      "Looking for data from source:  abs_series data code:  A2302469F\n",
      "R output: /Users/jamesbishop/Documents/Python/Bootleg_Macro/User_Data/ABS/LastPull/5206001_key_aggregates.xlsx\n",
      "Series ID 'A2302469F' found in column at index 114 (name: 'Gross national income: Current prices ;.2')\n",
      "ABS series created with name: Gross national income: Current prices ;2\n",
      "ABS series title set to: Gross national income: Current prices ;2\n",
      "Data pull successful for A2302469F from abs_series.\n",
      "Processing metadata for A2302469F, series_meta type: <class 'pandas.core.series.Series'>\n",
      "Raw metadata sample: Unit                $ Millions\n",
      "Series Type           Original\n",
      "Data Type              DERIVED\n",
      "Frequency              Quarter\n",
      "Collection Month             3\n",
      "Name: A2302469F, dtype: object\n",
      "Creating CommonMetadata for A2302469F...\n",
      "Data type: <class 'pandas.core.series.Series'>, Metadata type: <class 'pandas.core.series.Series'>\n",
      "CommonMetadata created successfully for A2302469F\n",
      "Error processing metadata for A2302469F. Exception: 'CommonMetadata' object has no attribute 'model_dump'\n",
      "Series_meta content: Unit                                              $ Millions\n",
      "Series Type                                         Original\n",
      "Data Type                                            DERIVED\n",
      "Frequency                                            Quarter\n",
      "Collection Month                                           3\n",
      "Series Start                             1959-09-01 00:00:00\n",
      "Series End                               2025-06-01 00:00:00\n",
      "No. Obs                                                  264\n",
      "Series ID                                          A2302469F\n",
      "title               Gross national income: Current prices ;2\n",
      "Name: A2302469F, dtype: object\n",
      "DS_data type: <class 'pandas.core.series.Series'>\n",
      "Created fallback metadata for A2302469F\n",
      "Attempting data pull for series id: A2302476C, from source: abs_series,\n",
      " start_date: 1600-01-01), exchange_code: nan\n",
      "Looking for data from source:  abs_series data code:  A2302476C\n",
      "R output: /Users/jamesbishop/Documents/Python/Bootleg_Macro/User_Data/ABS/LastPull/5206001_key_aggregates.xlsx\n",
      "Series ID 'A2302476C' found in column at index 123 (name: 'Gross domestic product: Index ;.1')\n",
      "ABS series created with name: Gross domestic product: Index ;1\n",
      "ABS series title set to: Gross domestic product: Index ;1\n",
      "Data pull successful for A2302476C from abs_series.\n",
      "Processing metadata for A2302476C, series_meta type: <class 'pandas.core.series.Series'>\n",
      "Raw metadata sample: Unit                Index Numbers\n",
      "Series Type              Original\n",
      "Data Type                 DERIVED\n",
      "Frequency                 Quarter\n",
      "Collection Month                3\n",
      "Name: A2302476C, dtype: object\n",
      "Creating CommonMetadata for A2302476C...\n",
      "Data type: <class 'pandas.core.series.Series'>, Metadata type: <class 'pandas.core.series.Series'>\n",
      "CommonMetadata created successfully for A2302476C\n",
      "Error processing metadata for A2302476C. Exception: 'CommonMetadata' object has no attribute 'model_dump'\n",
      "Series_meta content: Unit                                   Index Numbers\n",
      "Series Type                                 Original\n",
      "Data Type                                    DERIVED\n",
      "Frequency                                    Quarter\n",
      "Collection Month                                   3\n",
      "Series Start                     1985-09-01 00:00:00\n",
      "Series End                       2025-06-01 00:00:00\n",
      "No. Obs                                          160\n",
      "Series ID                                  A2302476C\n",
      "title               Gross domestic product: Index ;1\n",
      "Name: A2302476C, dtype: object\n",
      "DS_data type: <class 'pandas.core.series.Series'>\n",
      "Created fallback metadata for A2302476C\n",
      "Attempting data pull for series id: A2302477F, from source: abs_series,\n",
      " start_date: 1600-01-01), exchange_code: nan\n",
      "Looking for data from source:  abs_series data code:  A2302477F\n",
      "R output: /Users/jamesbishop/Documents/Python/Bootleg_Macro/User_Data/ABS/LastPull/5206001_key_aggregates.xlsx\n",
      "Series ID 'A2302477F' found in column at index 124 (name: 'Domestic final demand: Index ;.1')\n",
      "ABS series created with name: Domestic final demand: Index ;1\n",
      "ABS series title set to: Domestic final demand: Index ;1\n",
      "Data pull successful for A2302477F from abs_series.\n",
      "Processing metadata for A2302477F, series_meta type: <class 'pandas.core.series.Series'>\n",
      "Raw metadata sample: Unit                Index Numbers\n",
      "Series Type              Original\n",
      "Data Type                 DERIVED\n",
      "Frequency                 Quarter\n",
      "Collection Month                3\n",
      "Name: A2302477F, dtype: object\n",
      "Creating CommonMetadata for A2302477F...\n",
      "Data type: <class 'pandas.core.series.Series'>, Metadata type: <class 'pandas.core.series.Series'>\n",
      "CommonMetadata created successfully for A2302477F\n",
      "Error processing metadata for A2302477F. Exception: 'CommonMetadata' object has no attribute 'model_dump'\n",
      "Series_meta content: Unit                                  Index Numbers\n",
      "Series Type                                Original\n",
      "Data Type                                   DERIVED\n",
      "Frequency                                   Quarter\n",
      "Collection Month                                  3\n",
      "Series Start                    1985-09-01 00:00:00\n",
      "Series End                      2025-06-01 00:00:00\n",
      "No. Obs                                         160\n",
      "Series ID                                 A2302477F\n",
      "title               Domestic final demand: Index ;1\n",
      "Name: A2302477F, dtype: object\n",
      "DS_data type: <class 'pandas.core.series.Series'>\n",
      "Created fallback metadata for A2302477F\n",
      "Attempting data pull for series id: A2302478J, from source: abs_series,\n",
      " start_date: 1600-01-01), exchange_code: nan\n",
      "Looking for data from source:  abs_series data code:  A2302478J\n",
      "R output: /Users/jamesbishop/Documents/Python/Bootleg_Macro/User_Data/ABS/LastPull/5206001_key_aggregates.xlsx\n",
      "Series ID 'A2302478J' found in column at index 125 (name: 'Terms of trade: Index ;.2')\n",
      "ABS series created with name: Terms of trade: Index ;2\n",
      "ABS series title set to: Terms of trade: Index ;2\n",
      "Data pull successful for A2302478J from abs_series.\n",
      "Processing metadata for A2302478J, series_meta type: <class 'pandas.core.series.Series'>\n",
      "Raw metadata sample: Unit                Index Numbers\n",
      "Series Type              Original\n",
      "Data Type                 DERIVED\n",
      "Frequency                 Quarter\n",
      "Collection Month                3\n",
      "Name: A2302478J, dtype: object\n",
      "Creating CommonMetadata for A2302478J...\n",
      "Data type: <class 'pandas.core.series.Series'>, Metadata type: <class 'pandas.core.series.Series'>\n",
      "CommonMetadata created successfully for A2302478J\n",
      "Error processing metadata for A2302478J. Exception: 'CommonMetadata' object has no attribute 'model_dump'\n",
      "Series_meta content: Unit                           Index Numbers\n",
      "Series Type                         Original\n",
      "Data Type                            DERIVED\n",
      "Frequency                            Quarter\n",
      "Collection Month                           3\n",
      "Series Start             1959-09-01 00:00:00\n",
      "Series End               2025-06-01 00:00:00\n",
      "No. Obs                                  264\n",
      "Series ID                          A2302478J\n",
      "title               Terms of trade: Index ;2\n",
      "Name: A2302478J, dtype: object\n",
      "DS_data type: <class 'pandas.core.series.Series'>\n",
      "Created fallback metadata for A2302478J\n",
      "Final metadata shape: (18, 139)\n",
      "Final metadata columns: ['A2302480V', 'A2302484C', 'A2304512L', 'GLFSEPTPOP', 'australia/population', 'A2325941A', 'A2326391L', 'A2329946K', 'A2326481T', 'A2329856F', 'A2328101R', 'A2331566X', 'A2331071W', 'A2331386R', 'A2329406W', 'A3602793W', 'A3602838R', 'A2330531F', 'A2330576K', 'A2325896A', 'A2325806K', 'A2301346L', 'A2301351F', 'A2325811C', 'A2133244X', 'A2133245A', 'A2133252X', 'A2133246C', 'A2133247F', 'A2133248J', 'A2133249K', 'A2133253A', 'A2133250V', 'A2133254C', 'A2133251W', 'A2133255F', 'A2133256J', 'A2304336L', 'A3606046R', 'A2304340C', 'A2304342J', 'A2304344L', 'A2304346T', 'A2304348W', 'A2304356W', 'A2323384K', 'A2304360L', 'A2304362T', 'A2304364W', 'A3606050F', 'A2302479K', 'A2302481W', 'A2302482X', 'A2302483A', 'A2302485F', 'A2302503X', 'A2302511X', 'A2302512A', 'A2302513C', 'A2302514F', 'A2325846C', 'A2330616T', 'A2330706W', 'A2332236A', 'A128478317T', 'australia/government-debt-to-gdp', 'A2302467A', 'A2302468C', 'A2302469F', 'A2302476C', 'A2302477F', 'A2302478J', 'A85232567K', 'A85232568L', 'A85232561W', 'A2060784V', 'A2060785W', 'A85232566J', 'A85232570X', 'A2603609J', 'A2603610T', 'A2325941A', 'A2326391L', 'A2329946K', 'A2326481T', 'A2329856F', 'A2328101R', 'A2331566X', 'A2331071W', 'A2331386R', 'A2329406W', 'A3602793W', 'A3602838R', 'A2330531F', 'A2330576K', 'A2325896A', 'A2325806K', 'A2301346L', 'A2304512L', 'A2301351F', 'A2325811C', 'A2304336L', 'A3606046R', 'A2304340C', 'A2304342J', 'A2304344L', 'A2304346T', 'A2304348W', 'A2304356W', 'A2323384K', 'A2304360L', 'A2304362T', 'A2304364W', 'A3606050F', 'A2302479K', 'A2302480V', 'A2302481W', 'A2302482X', 'A2302483A', 'A2302484C', 'A2302485F', 'A2302503X', 'A2302511X', 'A2302512A', 'A2302513C', 'A2302514F', 'A2325846C', 'A2330616T', 'A2330706W', 'A2332236A', 'A128478317T', 'australia/government-debt-to-gdp', 'australia/private-debt-to-gdp', 'A2302467A', 'A2302468C', 'A2302469F', 'A2302476C', 'A2302477F', 'A2302478J']\n",
      "Duplicate indexes found in watchlist & will be dropped:  []\n",
      "Duplicate columns found in metadata & will be dropped:  []\n",
      "Running watchlist update_metadata method.....\n",
      "Saving watchlist data to Excel file... save name:  aus_econ  to path:  /Users/jamesbishop/Documents/Python/Bootleg_Macro/User_Data/Watchlists watchlist name:  aus_econ save path:  /Users/jamesbishop/Documents/Python/Bootleg_Macro/User_Data/Watchlists/aus_econ/aus_econ.xlsx save directory:  /Users/jamesbishop/Documents/Python/Bootleg_Macro/User_Data/Watchlists/aus_econ\n",
      "Garbage collection: 751 objects unreachable.\n",
      "Saved watchlist datasets to .h5s database... save name:  aus_econ\n"
     ]
    }
   ],
   "source": [
    "watchlist.get_watchlist_data()"
   ]
  },
  {
   "cell_type": "code",
   "execution_count": 11,
   "metadata": {},
   "outputs": [
    {
     "name": "stdout",
     "output_type": "stream",
     "text": [
      "Saving watchlist data to Excel file... save name:  aus_econ  to path:  /Users/jamesbishop/Documents/Python/Bootleg_Macro/User_Data/Watchlists watchlist name:  aus_econ save path:  /Users/jamesbishop/Documents/Python/Bootleg_Macro/User_Data/Watchlists/aus_econ/aus_econ.xlsx save directory:  /Users/jamesbishop/Documents/Python/Bootleg_Macro/User_Data/Watchlists/aus_econ\n",
      "Garbage collection: 4322 objects unreachable.\n",
      "Saved watchlist datasets to .h5s database... save name:  aus_econ\n"
     ]
    },
    {
     "data": {
      "text/plain": [
       "('aus_econ',\n",
       " '/Users/jamesbishop/Documents/Python/Bootleg_Macro/User_Data/Watchlists/aus_econ/aus_econ.xlsx')"
      ]
     },
     "execution_count": 11,
     "metadata": {},
     "output_type": "execute_result"
    }
   ],
   "source": [
    "watchlist.save_watchlist()"
   ]
  },
  {
   "cell_type": "code",
   "execution_count": 12,
   "metadata": {},
   "outputs": [
    {
     "data": {
      "application/vnd.plotly.v1+json": {
       "config": {
        "plotlyServerURL": "https://plot.ly"
       },
       "data": [
        {
         "mode": "lines",
         "name": "General government - National ;  Final consumption expenditure: Chain volume measures ;",
         "type": "scatter",
         "x": [
          "1983-09-01T00:00:00",
          "1983-12-01T00:00:00",
          "1984-03-01T00:00:00",
          "1984-06-01T00:00:00",
          "1984-09-01T00:00:00",
          "1984-12-01T00:00:00",
          "1985-03-01T00:00:00",
          "1985-06-01T00:00:00",
          "1985-09-01T00:00:00",
          "1985-12-01T00:00:00",
          "1986-03-01T00:00:00",
          "1986-06-01T00:00:00",
          "1986-09-01T00:00:00",
          "1986-12-01T00:00:00",
          "1987-03-01T00:00:00",
          "1987-06-01T00:00:00",
          "1987-09-01T00:00:00",
          "1987-12-01T00:00:00",
          "1988-03-01T00:00:00",
          "1988-06-01T00:00:00",
          "1988-09-01T00:00:00",
          "1988-12-01T00:00:00",
          "1989-03-01T00:00:00",
          "1989-06-01T00:00:00",
          "1989-09-01T00:00:00",
          "1989-12-01T00:00:00",
          "1990-03-01T00:00:00",
          "1990-06-01T00:00:00",
          "1990-09-01T00:00:00",
          "1990-12-01T00:00:00",
          "1991-03-01T00:00:00",
          "1991-06-01T00:00:00",
          "1991-09-01T00:00:00",
          "1991-12-01T00:00:00",
          "1992-03-01T00:00:00",
          "1992-06-01T00:00:00",
          "1992-09-01T00:00:00",
          "1992-12-01T00:00:00",
          "1993-03-01T00:00:00",
          "1993-06-01T00:00:00",
          "1993-09-01T00:00:00",
          "1993-12-01T00:00:00",
          "1994-03-01T00:00:00",
          "1994-06-01T00:00:00",
          "1994-09-01T00:00:00",
          "1994-12-01T00:00:00",
          "1995-03-01T00:00:00",
          "1995-06-01T00:00:00",
          "1995-09-01T00:00:00",
          "1995-12-01T00:00:00",
          "1996-03-01T00:00:00",
          "1996-06-01T00:00:00",
          "1996-09-01T00:00:00",
          "1996-12-01T00:00:00",
          "1997-03-01T00:00:00",
          "1997-06-01T00:00:00",
          "1997-09-01T00:00:00",
          "1997-12-01T00:00:00",
          "1998-03-01T00:00:00",
          "1998-06-01T00:00:00",
          "1998-09-01T00:00:00",
          "1998-12-01T00:00:00",
          "1999-03-01T00:00:00",
          "1999-06-01T00:00:00",
          "1999-09-01T00:00:00",
          "1999-12-01T00:00:00",
          "2000-03-01T00:00:00",
          "2000-06-01T00:00:00",
          "2000-09-01T00:00:00",
          "2000-12-01T00:00:00",
          "2001-03-01T00:00:00",
          "2001-06-01T00:00:00",
          "2001-09-01T00:00:00",
          "2001-12-01T00:00:00",
          "2002-03-01T00:00:00",
          "2002-06-01T00:00:00",
          "2002-09-01T00:00:00",
          "2002-12-01T00:00:00",
          "2003-03-01T00:00:00",
          "2003-06-01T00:00:00",
          "2003-09-01T00:00:00",
          "2003-12-01T00:00:00",
          "2004-03-01T00:00:00",
          "2004-06-01T00:00:00",
          "2004-09-01T00:00:00",
          "2004-12-01T00:00:00",
          "2005-03-01T00:00:00",
          "2005-06-01T00:00:00",
          "2005-09-01T00:00:00",
          "2005-12-01T00:00:00",
          "2006-03-01T00:00:00",
          "2006-06-01T00:00:00",
          "2006-09-01T00:00:00",
          "2006-12-01T00:00:00",
          "2007-03-01T00:00:00",
          "2007-06-01T00:00:00",
          "2007-09-01T00:00:00",
          "2007-12-01T00:00:00",
          "2008-03-01T00:00:00",
          "2008-06-01T00:00:00",
          "2008-09-01T00:00:00",
          "2008-12-01T00:00:00",
          "2009-03-01T00:00:00",
          "2009-06-01T00:00:00",
          "2009-09-01T00:00:00",
          "2009-12-01T00:00:00",
          "2010-03-01T00:00:00",
          "2010-06-01T00:00:00",
          "2010-09-01T00:00:00",
          "2010-12-01T00:00:00",
          "2011-03-01T00:00:00",
          "2011-06-01T00:00:00",
          "2011-09-01T00:00:00",
          "2011-12-01T00:00:00",
          "2012-03-01T00:00:00",
          "2012-06-01T00:00:00",
          "2012-09-01T00:00:00",
          "2012-12-01T00:00:00",
          "2013-03-01T00:00:00",
          "2013-06-01T00:00:00",
          "2013-09-01T00:00:00",
          "2013-12-01T00:00:00",
          "2014-03-01T00:00:00",
          "2014-06-01T00:00:00",
          "2014-09-01T00:00:00",
          "2014-12-01T00:00:00",
          "2015-03-01T00:00:00",
          "2015-06-01T00:00:00",
          "2015-09-01T00:00:00",
          "2015-12-01T00:00:00",
          "2016-03-01T00:00:00",
          "2016-06-01T00:00:00",
          "2016-09-01T00:00:00",
          "2016-12-01T00:00:00",
          "2017-03-01T00:00:00",
          "2017-06-01T00:00:00",
          "2017-09-01T00:00:00",
          "2017-12-01T00:00:00",
          "2018-03-01T00:00:00",
          "2018-06-01T00:00:00",
          "2018-09-01T00:00:00",
          "2018-12-01T00:00:00",
          "2019-03-01T00:00:00",
          "2019-06-01T00:00:00",
          "2019-09-01T00:00:00",
          "2019-12-01T00:00:00",
          "2020-03-01T00:00:00",
          "2020-06-01T00:00:00",
          "2020-09-01T00:00:00",
          "2020-12-01T00:00:00",
          "2021-03-01T00:00:00",
          "2021-06-01T00:00:00",
          "2021-09-01T00:00:00",
          "2021-12-01T00:00:00",
          "2022-03-01T00:00:00",
          "2022-06-01T00:00:00",
          "2022-09-01T00:00:00",
          "2022-12-01T00:00:00",
          "2023-03-01T00:00:00",
          "2023-06-01T00:00:00",
          "2023-09-01T00:00:00",
          "2023-12-01T00:00:00",
          "2024-03-01T00:00:00",
          "2024-06-01T00:00:00",
          "2024-09-01T00:00:00",
          "2024-12-01T00:00:00",
          "2025-03-01T00:00:00",
          "2025-06-01T00:00:00"
         ],
         "xaxis": "x",
         "y": [
          null,
          null,
          null,
          null,
          null,
          null,
          null,
          null,
          197,
          208,
          226,
          241,
          240,
          229,
          218,
          217,
          231,
          249,
          264,
          266,
          256,
          248,
          249,
          255,
          263,
          270,
          276,
          275,
          271,
          266,
          267,
          273,
          276,
          272,
          267,
          270,
          284,
          302,
          317,
          327,
          334,
          335,
          335,
          334,
          335,
          342,
          361,
          389,
          416,
          430,
          423,
          401,
          384,
          379,
          393,
          421,
          448,
          462,
          470,
          488,
          519,
          542,
          553,
          562,
          588,
          625,
          660,
          666,
          641,
          626,
          634,
          650,
          653,
          643,
          637,
          634,
          631,
          643,
          661,
          674,
          672,
          663,
          659,
          662,
          667,
          675,
          676,
          678,
          680,
          680,
          686,
          698,
          712,
          728,
          736,
          739,
          743,
          752,
          760,
          757,
          746,
          735,
          738,
          755,
          773,
          795,
          817,
          837,
          850,
          850,
          848,
          849,
          846,
          845,
          843,
          845,
          847,
          845,
          838,
          841,
          855,
          878,
          885,
          876,
          870,
          874,
          885,
          894,
          899,
          906,
          924,
          943,
          953,
          950,
          938,
          919,
          907,
          905,
          915,
          930,
          944,
          961,
          976,
          null,
          null,
          null,
          null,
          null,
          null,
          null,
          null,
          null,
          null,
          null,
          null,
          null,
          null,
          null,
          null,
          null,
          null,
          null,
          null,
          null,
          null,
          null,
          null,
          null
         ],
         "yaxis": "y"
        },
        {
         "mode": "lines",
         "name": "Private ;  Final demand: Chain volume measures ;",
         "type": "scatter",
         "x": [
          "1983-09-01T00:00:00",
          "1983-12-01T00:00:00",
          "1984-03-01T00:00:00",
          "1984-06-01T00:00:00",
          "1984-09-01T00:00:00",
          "1984-12-01T00:00:00",
          "1985-03-01T00:00:00",
          "1985-06-01T00:00:00",
          "1985-09-01T00:00:00",
          "1985-12-01T00:00:00",
          "1986-03-01T00:00:00",
          "1986-06-01T00:00:00",
          "1986-09-01T00:00:00",
          "1986-12-01T00:00:00",
          "1987-03-01T00:00:00",
          "1987-06-01T00:00:00",
          "1987-09-01T00:00:00",
          "1987-12-01T00:00:00",
          "1988-03-01T00:00:00",
          "1988-06-01T00:00:00",
          "1988-09-01T00:00:00",
          "1988-12-01T00:00:00",
          "1989-03-01T00:00:00",
          "1989-06-01T00:00:00",
          "1989-09-01T00:00:00",
          "1989-12-01T00:00:00",
          "1990-03-01T00:00:00",
          "1990-06-01T00:00:00",
          "1990-09-01T00:00:00",
          "1990-12-01T00:00:00",
          "1991-03-01T00:00:00",
          "1991-06-01T00:00:00",
          "1991-09-01T00:00:00",
          "1991-12-01T00:00:00",
          "1992-03-01T00:00:00",
          "1992-06-01T00:00:00",
          "1992-09-01T00:00:00",
          "1992-12-01T00:00:00",
          "1993-03-01T00:00:00",
          "1993-06-01T00:00:00",
          "1993-09-01T00:00:00",
          "1993-12-01T00:00:00",
          "1994-03-01T00:00:00",
          "1994-06-01T00:00:00",
          "1994-09-01T00:00:00",
          "1994-12-01T00:00:00",
          "1995-03-01T00:00:00",
          "1995-06-01T00:00:00",
          "1995-09-01T00:00:00",
          "1995-12-01T00:00:00",
          "1996-03-01T00:00:00",
          "1996-06-01T00:00:00",
          "1996-09-01T00:00:00",
          "1996-12-01T00:00:00",
          "1997-03-01T00:00:00",
          "1997-06-01T00:00:00",
          "1997-09-01T00:00:00",
          "1997-12-01T00:00:00",
          "1998-03-01T00:00:00",
          "1998-06-01T00:00:00",
          "1998-09-01T00:00:00",
          "1998-12-01T00:00:00",
          "1999-03-01T00:00:00",
          "1999-06-01T00:00:00",
          "1999-09-01T00:00:00",
          "1999-12-01T00:00:00",
          "2000-03-01T00:00:00",
          "2000-06-01T00:00:00",
          "2000-09-01T00:00:00",
          "2000-12-01T00:00:00",
          "2001-03-01T00:00:00",
          "2001-06-01T00:00:00",
          "2001-09-01T00:00:00",
          "2001-12-01T00:00:00",
          "2002-03-01T00:00:00",
          "2002-06-01T00:00:00",
          "2002-09-01T00:00:00",
          "2002-12-01T00:00:00",
          "2003-03-01T00:00:00",
          "2003-06-01T00:00:00",
          "2003-09-01T00:00:00",
          "2003-12-01T00:00:00",
          "2004-03-01T00:00:00",
          "2004-06-01T00:00:00",
          "2004-09-01T00:00:00",
          "2004-12-01T00:00:00",
          "2005-03-01T00:00:00",
          "2005-06-01T00:00:00",
          "2005-09-01T00:00:00",
          "2005-12-01T00:00:00",
          "2006-03-01T00:00:00",
          "2006-06-01T00:00:00",
          "2006-09-01T00:00:00",
          "2006-12-01T00:00:00",
          "2007-03-01T00:00:00",
          "2007-06-01T00:00:00",
          "2007-09-01T00:00:00",
          "2007-12-01T00:00:00",
          "2008-03-01T00:00:00",
          "2008-06-01T00:00:00",
          "2008-09-01T00:00:00",
          "2008-12-01T00:00:00",
          "2009-03-01T00:00:00",
          "2009-06-01T00:00:00",
          "2009-09-01T00:00:00",
          "2009-12-01T00:00:00",
          "2010-03-01T00:00:00",
          "2010-06-01T00:00:00",
          "2010-09-01T00:00:00",
          "2010-12-01T00:00:00",
          "2011-03-01T00:00:00",
          "2011-06-01T00:00:00",
          "2011-09-01T00:00:00",
          "2011-12-01T00:00:00",
          "2012-03-01T00:00:00",
          "2012-06-01T00:00:00",
          "2012-09-01T00:00:00",
          "2012-12-01T00:00:00",
          "2013-03-01T00:00:00",
          "2013-06-01T00:00:00",
          "2013-09-01T00:00:00",
          "2013-12-01T00:00:00",
          "2014-03-01T00:00:00",
          "2014-06-01T00:00:00",
          "2014-09-01T00:00:00",
          "2014-12-01T00:00:00",
          "2015-03-01T00:00:00",
          "2015-06-01T00:00:00",
          "2015-09-01T00:00:00",
          "2015-12-01T00:00:00",
          "2016-03-01T00:00:00",
          "2016-06-01T00:00:00",
          "2016-09-01T00:00:00",
          "2016-12-01T00:00:00",
          "2017-03-01T00:00:00",
          "2017-06-01T00:00:00",
          "2017-09-01T00:00:00",
          "2017-12-01T00:00:00",
          "2018-03-01T00:00:00",
          "2018-06-01T00:00:00",
          "2018-09-01T00:00:00",
          "2018-12-01T00:00:00",
          "2019-03-01T00:00:00",
          "2019-06-01T00:00:00",
          "2019-09-01T00:00:00",
          "2019-12-01T00:00:00",
          "2020-03-01T00:00:00",
          "2020-06-01T00:00:00",
          "2020-09-01T00:00:00",
          "2020-12-01T00:00:00",
          "2021-03-01T00:00:00",
          "2021-06-01T00:00:00",
          "2021-09-01T00:00:00",
          "2021-12-01T00:00:00",
          "2022-03-01T00:00:00",
          "2022-06-01T00:00:00",
          "2022-09-01T00:00:00",
          "2022-12-01T00:00:00",
          "2023-03-01T00:00:00",
          "2023-06-01T00:00:00",
          "2023-09-01T00:00:00",
          "2023-12-01T00:00:00",
          "2024-03-01T00:00:00",
          "2024-06-01T00:00:00",
          "2024-09-01T00:00:00",
          "2024-12-01T00:00:00",
          "2025-03-01T00:00:00",
          "2025-06-01T00:00:00"
         ],
         "xaxis": "x",
         "y": [
          null,
          null,
          null,
          null,
          null,
          null,
          null,
          null,
          1488,
          1489,
          1493,
          1480,
          1414,
          1321,
          1289,
          1319,
          1360,
          1374,
          1369,
          1384,
          1428,
          1471,
          1468,
          1438,
          1422,
          1413,
          1445,
          1507,
          1553,
          1564,
          1532,
          1495,
          1483,
          1463,
          1452,
          1457,
          1472,
          1505,
          1576,
          1657,
          1718,
          1731,
          1729,
          1741,
          1767,
          1784,
          1810,
          1860,
          1938,
          2038,
          2118,
          2132,
          2077,
          1983,
          1932,
          1957,
          2040,
          2162,
          2301,
          2487,
          2668,
          2762,
          2779,
          2729,
          2631,
          2527,
          2444,
          2416,
          2456,
          2519,
          2583,
          2636,
          2716,
          2894,
          3108,
          3260,
          3288,
          3214,
          3161,
          3206,
          3340,
          3457,
          3412,
          3310,
          3268,
          3369,
          3560,
          3707,
          3785,
          3811,
          3860,
          3894,
          3849,
          3780,
          3770,
          3860,
          4000,
          4069,
          4182,
          4388,
          4625,
          4726,
          4594,
          4328,
          4079,
          3948,
          3927,
          3938,
          3935,
          3908,
          3882,
          3909,
          4061,
          4411,
          4784,
          5262,
          5863,
          6406,
          6717,
          6827,
          6676,
          6434,
          6307,
          6327,
          6428,
          6306,
          5882,
          5548,
          5399,
          5409,
          5603,
          5727,
          5864,
          6051,
          6266,
          6347,
          6180,
          5860,
          5476,
          5043,
          4623,
          4270,
          4091,
          null,
          null,
          null,
          null,
          null,
          null,
          null,
          null,
          null,
          null,
          null,
          null,
          null,
          null,
          null,
          null,
          null,
          null,
          null,
          null,
          null,
          null,
          null,
          null,
          null
         ],
         "yaxis": "y"
        },
        {
         "mode": "lines",
         "name": "Gross domestic product: Current prices ;2",
         "type": "scatter",
         "x": [
          "1959-09-01T00:00:00",
          "1959-12-01T00:00:00",
          "1960-03-01T00:00:00",
          "1960-06-01T00:00:00",
          "1960-09-01T00:00:00",
          "1960-12-01T00:00:00",
          "1961-03-01T00:00:00",
          "1961-06-01T00:00:00",
          "1961-09-01T00:00:00",
          "1961-12-01T00:00:00",
          "1962-03-01T00:00:00",
          "1962-06-01T00:00:00",
          "1962-09-01T00:00:00",
          "1962-12-01T00:00:00",
          "1963-03-01T00:00:00",
          "1963-06-01T00:00:00",
          "1963-09-01T00:00:00",
          "1963-12-01T00:00:00",
          "1964-03-01T00:00:00",
          "1964-06-01T00:00:00",
          "1964-09-01T00:00:00",
          "1964-12-01T00:00:00",
          "1965-03-01T00:00:00",
          "1965-06-01T00:00:00",
          "1965-09-01T00:00:00",
          "1965-12-01T00:00:00",
          "1966-03-01T00:00:00",
          "1966-06-01T00:00:00",
          "1966-09-01T00:00:00",
          "1966-12-01T00:00:00",
          "1967-03-01T00:00:00",
          "1967-06-01T00:00:00",
          "1967-09-01T00:00:00",
          "1967-12-01T00:00:00",
          "1968-03-01T00:00:00",
          "1968-06-01T00:00:00",
          "1968-09-01T00:00:00",
          "1968-12-01T00:00:00",
          "1969-03-01T00:00:00",
          "1969-06-01T00:00:00",
          "1969-09-01T00:00:00",
          "1969-12-01T00:00:00",
          "1970-03-01T00:00:00",
          "1970-06-01T00:00:00",
          "1970-09-01T00:00:00",
          "1970-12-01T00:00:00",
          "1971-03-01T00:00:00",
          "1971-06-01T00:00:00",
          "1971-09-01T00:00:00",
          "1971-12-01T00:00:00",
          "1972-03-01T00:00:00",
          "1972-06-01T00:00:00",
          "1972-09-01T00:00:00",
          "1972-12-01T00:00:00",
          "1973-03-01T00:00:00",
          "1973-06-01T00:00:00",
          "1973-09-01T00:00:00",
          "1973-12-01T00:00:00",
          "1974-03-01T00:00:00",
          "1974-06-01T00:00:00",
          "1974-09-01T00:00:00",
          "1974-12-01T00:00:00",
          "1975-03-01T00:00:00",
          "1975-06-01T00:00:00",
          "1975-09-01T00:00:00",
          "1975-12-01T00:00:00",
          "1976-03-01T00:00:00",
          "1976-06-01T00:00:00",
          "1976-09-01T00:00:00",
          "1976-12-01T00:00:00",
          "1977-03-01T00:00:00",
          "1977-06-01T00:00:00",
          "1977-09-01T00:00:00",
          "1977-12-01T00:00:00",
          "1978-03-01T00:00:00",
          "1978-06-01T00:00:00",
          "1978-09-01T00:00:00",
          "1978-12-01T00:00:00",
          "1979-03-01T00:00:00",
          "1979-06-01T00:00:00",
          "1979-09-01T00:00:00",
          "1979-12-01T00:00:00",
          "1980-03-01T00:00:00",
          "1980-06-01T00:00:00",
          "1980-09-01T00:00:00",
          "1980-12-01T00:00:00",
          "1981-03-01T00:00:00",
          "1981-06-01T00:00:00",
          "1981-09-01T00:00:00",
          "1981-12-01T00:00:00",
          "1982-03-01T00:00:00",
          "1982-06-01T00:00:00",
          "1982-09-01T00:00:00",
          "1982-12-01T00:00:00",
          "1983-03-01T00:00:00",
          "1983-06-01T00:00:00",
          "1983-09-01T00:00:00",
          "1983-12-01T00:00:00",
          "1984-03-01T00:00:00",
          "1984-06-01T00:00:00",
          "1984-09-01T00:00:00",
          "1984-12-01T00:00:00",
          "1985-03-01T00:00:00",
          "1985-06-01T00:00:00",
          "1985-09-01T00:00:00",
          "1985-12-01T00:00:00",
          "1986-03-01T00:00:00",
          "1986-06-01T00:00:00",
          "1986-09-01T00:00:00",
          "1986-12-01T00:00:00",
          "1987-03-01T00:00:00",
          "1987-06-01T00:00:00",
          "1987-09-01T00:00:00",
          "1987-12-01T00:00:00",
          "1988-03-01T00:00:00",
          "1988-06-01T00:00:00",
          "1988-09-01T00:00:00",
          "1988-12-01T00:00:00",
          "1989-03-01T00:00:00",
          "1989-06-01T00:00:00",
          "1989-09-01T00:00:00",
          "1989-12-01T00:00:00",
          "1990-03-01T00:00:00",
          "1990-06-01T00:00:00",
          "1990-09-01T00:00:00",
          "1990-12-01T00:00:00",
          "1991-03-01T00:00:00",
          "1991-06-01T00:00:00",
          "1991-09-01T00:00:00",
          "1991-12-01T00:00:00",
          "1992-03-01T00:00:00",
          "1992-06-01T00:00:00",
          "1992-09-01T00:00:00",
          "1992-12-01T00:00:00",
          "1993-03-01T00:00:00",
          "1993-06-01T00:00:00",
          "1993-09-01T00:00:00",
          "1993-12-01T00:00:00",
          "1994-03-01T00:00:00",
          "1994-06-01T00:00:00",
          "1994-09-01T00:00:00",
          "1994-12-01T00:00:00",
          "1995-03-01T00:00:00",
          "1995-06-01T00:00:00",
          "1995-09-01T00:00:00",
          "1995-12-01T00:00:00",
          "1996-03-01T00:00:00",
          "1996-06-01T00:00:00",
          "1996-09-01T00:00:00",
          "1996-12-01T00:00:00",
          "1997-03-01T00:00:00",
          "1997-06-01T00:00:00",
          "1997-09-01T00:00:00",
          "1997-12-01T00:00:00",
          "1998-03-01T00:00:00",
          "1998-06-01T00:00:00",
          "1998-09-01T00:00:00",
          "1998-12-01T00:00:00",
          "1999-03-01T00:00:00",
          "1999-06-01T00:00:00",
          "1999-09-01T00:00:00",
          "1999-12-01T00:00:00",
          "2000-03-01T00:00:00",
          "2000-06-01T00:00:00",
          "2000-09-01T00:00:00",
          "2000-12-01T00:00:00",
          "2001-03-01T00:00:00",
          "2001-06-01T00:00:00",
          "2001-09-01T00:00:00",
          "2001-12-01T00:00:00",
          "2002-03-01T00:00:00",
          "2002-06-01T00:00:00",
          "2002-09-01T00:00:00",
          "2002-12-01T00:00:00",
          "2003-03-01T00:00:00",
          "2003-06-01T00:00:00",
          "2003-09-01T00:00:00",
          "2003-12-01T00:00:00",
          "2004-03-01T00:00:00",
          "2004-06-01T00:00:00",
          "2004-09-01T00:00:00",
          "2004-12-01T00:00:00",
          "2005-03-01T00:00:00",
          "2005-06-01T00:00:00",
          "2005-09-01T00:00:00",
          "2005-12-01T00:00:00",
          "2006-03-01T00:00:00",
          "2006-06-01T00:00:00",
          "2006-09-01T00:00:00",
          "2006-12-01T00:00:00",
          "2007-03-01T00:00:00",
          "2007-06-01T00:00:00",
          "2007-09-01T00:00:00",
          "2007-12-01T00:00:00",
          "2008-03-01T00:00:00",
          "2008-06-01T00:00:00",
          "2008-09-01T00:00:00",
          "2008-12-01T00:00:00",
          "2009-03-01T00:00:00",
          "2009-06-01T00:00:00",
          "2009-09-01T00:00:00",
          "2009-12-01T00:00:00",
          "2010-03-01T00:00:00",
          "2010-06-01T00:00:00",
          "2010-09-01T00:00:00",
          "2010-12-01T00:00:00",
          "2011-03-01T00:00:00",
          "2011-06-01T00:00:00",
          "2011-09-01T00:00:00",
          "2011-12-01T00:00:00",
          "2012-03-01T00:00:00",
          "2012-06-01T00:00:00",
          "2012-09-01T00:00:00",
          "2012-12-01T00:00:00",
          "2013-03-01T00:00:00",
          "2013-06-01T00:00:00",
          "2013-09-01T00:00:00",
          "2013-12-01T00:00:00",
          "2014-03-01T00:00:00",
          "2014-06-01T00:00:00",
          "2014-09-01T00:00:00",
          "2014-12-01T00:00:00",
          "2015-03-01T00:00:00",
          "2015-06-01T00:00:00",
          "2015-09-01T00:00:00",
          "2015-12-01T00:00:00",
          "2016-03-01T00:00:00",
          "2016-06-01T00:00:00",
          "2016-09-01T00:00:00",
          "2016-12-01T00:00:00",
          "2017-03-01T00:00:00",
          "2017-06-01T00:00:00",
          "2017-09-01T00:00:00",
          "2017-12-01T00:00:00",
          "2018-03-01T00:00:00",
          "2018-06-01T00:00:00",
          "2018-09-01T00:00:00",
          "2018-12-01T00:00:00",
          "2019-03-01T00:00:00",
          "2019-06-01T00:00:00",
          "2019-09-01T00:00:00",
          "2019-12-01T00:00:00",
          "2020-03-01T00:00:00",
          "2020-06-01T00:00:00",
          "2020-09-01T00:00:00",
          "2020-12-01T00:00:00",
          "2021-03-01T00:00:00",
          "2021-06-01T00:00:00",
          "2021-09-01T00:00:00",
          "2021-12-01T00:00:00",
          "2022-03-01T00:00:00",
          "2022-06-01T00:00:00",
          "2022-09-01T00:00:00",
          "2022-12-01T00:00:00",
          "2023-03-01T00:00:00",
          "2023-06-01T00:00:00",
          "2023-09-01T00:00:00",
          "2023-12-01T00:00:00",
          "2024-03-01T00:00:00",
          "2024-06-01T00:00:00",
          "2024-09-01T00:00:00",
          "2024-12-01T00:00:00",
          "2025-03-01T00:00:00",
          "2025-06-01T00:00:00"
         ],
         "xaxis": "x",
         "y": [
          4006,
          4497,
          3928,
          4182,
          4339,
          4867,
          4232,
          4137,
          4293,
          4816,
          4269,
          4411,
          4595,
          5280,
          4659,
          4699,
          5092,
          5804,
          5057,
          5298,
          5540,
          6348,
          5561,
          5745,
          5927,
          6680,
          5736,
          6041,
          6470,
          7339,
          6627,
          6745,
          7016,
          7934,
          6923,
          7337,
          7677,
          8961,
          7849,
          8266,
          8799,
          9808,
          8879,
          9420,
          9703,
          10603,
          9761,
          10306,
          10790,
          11814,
          10617,
          11327,
          11686,
          13152,
          11938,
          13046,
          13897,
          16361,
          14809,
          15296,
          16453,
          19414,
          16995,
          18394,
          19062,
          22561,
          20054,
          21671,
          22922,
          25794,
          22902,
          24586,
          25406,
          27784,
          24935,
          26935,
          27782,
          31448,
          29143,
          30381,
          31608,
          36376,
          32401,
          34229,
          35922,
          41297,
          35893,
          39248,
          41581,
          47927,
          41257,
          45095,
          46098,
          51432,
          44397,
          47488,
          49756,
          57472,
          51694,
          54771,
          55587,
          62831,
          56161,
          60925,
          62860,
          69808,
          62359,
          65848,
          67885,
          75633,
          68795,
          74054,
          77487,
          85321,
          78524,
          83250,
          87322,
          96617,
          89043,
          95299,
          98276,
          106294,
          97839,
          102294,
          103254,
          110249,
          99467,
          102361,
          104023,
          110809,
          102790,
          105659,
          107871,
          115977,
          108067,
          112313,
          112966,
          121847,
          113480,
          118324,
          121994,
          128890,
          119798,
          125164,
          128111,
          138975,
          128072,
          133811,
          135236,
          146067,
          133646,
          141716,
          143288,
          154796,
          142526,
          148630,
          151615,
          162616,
          151249,
          156327,
          159808,
          170726,
          163092,
          169047,
          173843,
          181690,
          173226,
          178642,
          183062,
          196021,
          184633,
          192731,
          196582,
          209043,
          195041,
          202442,
          207996,
          225222,
          210686,
          220186,
          224487,
          239796,
          224417,
          236741,
          243198,
          260660,
          241856,
          253871,
          263063,
          281516,
          264949,
          279495,
          284843,
          304662,
          285028,
          305096,
          315789,
          330807,
          302830,
          312014,
          313957,
          334961,
          314861,
          340543,
          345420,
          365419,
          341104,
          366617,
          372860,
          388427,
          358486,
          380965,
          379875,
          396585,
          369627,
          391184,
          392921,
          415980,
          386805,
          403627,
          401954,
          421424,
          392153,
          408633,
          411028,
          427534,
          397786,
          421566,
          423310,
          455969,
          429336,
          449040,
          451454,
          471677,
          446059,
          472855,
          476014,
          500672,
          471131,
          499502,
          502446,
          521711,
          487109,
          470397,
          487268,
          531331,
          512687,
          554536,
          546152,
          589359,
          571517,
          623301,
          626792,
          661990,
          628104,
          650626,
          653495,
          690193,
          650898,
          678271,
          676876,
          715016,
          675356,
          705731
         ],
         "yaxis": "y2"
        }
       ],
       "layout": {
        "annotations": [
         {
          "align": "left",
          "bgcolor": "white",
          "bordercolor": "black",
          "borderwidth": 1,
          "font": {
           "color": "black",
           "size": 12
          },
          "showarrow": false,
          "text": "Source: ABS",
          "x": 0,
          "xref": "paper",
          "y": -0.14,
          "yref": "paper"
         }
        ],
        "font": {
         "color": "black",
         "family": "Arial, sans-serif",
         "size": 14
        },
        "height": 660,
        "hovermode": "x unified",
        "legend": {
         "bgcolor": "rgba(255,255,255,0)",
         "bordercolor": "rgba(255,255,255,0)",
         "orientation": "h",
         "x": 0.5,
         "xanchor": "center",
         "y": -0.1,
         "yanchor": "top"
        },
        "margin": {
         "b": 40,
         "l": 70,
         "r": 10,
         "t": 60
        },
        "template": {
         "data": {
          "bar": [
           {
            "error_x": {
             "color": "rgb(51,51,51)"
            },
            "error_y": {
             "color": "rgb(51,51,51)"
            },
            "marker": {
             "line": {
              "color": "rgb(237,237,237)",
              "width": 0.5
             },
             "pattern": {
              "fillmode": "overlay",
              "size": 10,
              "solidity": 0.2
             }
            },
            "type": "bar"
           }
          ],
          "barpolar": [
           {
            "marker": {
             "line": {
              "color": "rgb(237,237,237)",
              "width": 0.5
             },
             "pattern": {
              "fillmode": "overlay",
              "size": 10,
              "solidity": 0.2
             }
            },
            "type": "barpolar"
           }
          ],
          "carpet": [
           {
            "aaxis": {
             "endlinecolor": "rgb(51,51,51)",
             "gridcolor": "white",
             "linecolor": "white",
             "minorgridcolor": "white",
             "startlinecolor": "rgb(51,51,51)"
            },
            "baxis": {
             "endlinecolor": "rgb(51,51,51)",
             "gridcolor": "white",
             "linecolor": "white",
             "minorgridcolor": "white",
             "startlinecolor": "rgb(51,51,51)"
            },
            "type": "carpet"
           }
          ],
          "choropleth": [
           {
            "colorbar": {
             "outlinewidth": 0,
             "tickcolor": "rgb(237,237,237)",
             "ticklen": 6,
             "ticks": "inside"
            },
            "type": "choropleth"
           }
          ],
          "contour": [
           {
            "colorbar": {
             "outlinewidth": 0,
             "tickcolor": "rgb(237,237,237)",
             "ticklen": 6,
             "ticks": "inside"
            },
            "colorscale": [
             [
              0,
              "rgb(20,44,66)"
             ],
             [
              1,
              "rgb(90,179,244)"
             ]
            ],
            "type": "contour"
           }
          ],
          "contourcarpet": [
           {
            "colorbar": {
             "outlinewidth": 0,
             "tickcolor": "rgb(237,237,237)",
             "ticklen": 6,
             "ticks": "inside"
            },
            "type": "contourcarpet"
           }
          ],
          "heatmap": [
           {
            "colorbar": {
             "outlinewidth": 0,
             "tickcolor": "rgb(237,237,237)",
             "ticklen": 6,
             "ticks": "inside"
            },
            "colorscale": [
             [
              0,
              "rgb(20,44,66)"
             ],
             [
              1,
              "rgb(90,179,244)"
             ]
            ],
            "type": "heatmap"
           }
          ],
          "heatmapgl": [
           {
            "colorbar": {
             "outlinewidth": 0,
             "tickcolor": "rgb(237,237,237)",
             "ticklen": 6,
             "ticks": "inside"
            },
            "colorscale": [
             [
              0,
              "rgb(20,44,66)"
             ],
             [
              1,
              "rgb(90,179,244)"
             ]
            ],
            "type": "heatmapgl"
           }
          ],
          "histogram": [
           {
            "marker": {
             "pattern": {
              "fillmode": "overlay",
              "size": 10,
              "solidity": 0.2
             }
            },
            "type": "histogram"
           }
          ],
          "histogram2d": [
           {
            "colorbar": {
             "outlinewidth": 0,
             "tickcolor": "rgb(237,237,237)",
             "ticklen": 6,
             "ticks": "inside"
            },
            "colorscale": [
             [
              0,
              "rgb(20,44,66)"
             ],
             [
              1,
              "rgb(90,179,244)"
             ]
            ],
            "type": "histogram2d"
           }
          ],
          "histogram2dcontour": [
           {
            "colorbar": {
             "outlinewidth": 0,
             "tickcolor": "rgb(237,237,237)",
             "ticklen": 6,
             "ticks": "inside"
            },
            "colorscale": [
             [
              0,
              "rgb(20,44,66)"
             ],
             [
              1,
              "rgb(90,179,244)"
             ]
            ],
            "type": "histogram2dcontour"
           }
          ],
          "mesh3d": [
           {
            "colorbar": {
             "outlinewidth": 0,
             "tickcolor": "rgb(237,237,237)",
             "ticklen": 6,
             "ticks": "inside"
            },
            "type": "mesh3d"
           }
          ],
          "parcoords": [
           {
            "line": {
             "colorbar": {
              "outlinewidth": 0,
              "tickcolor": "rgb(237,237,237)",
              "ticklen": 6,
              "ticks": "inside"
             }
            },
            "type": "parcoords"
           }
          ],
          "pie": [
           {
            "automargin": true,
            "type": "pie"
           }
          ],
          "scatter": [
           {
            "fillpattern": {
             "fillmode": "overlay",
             "size": 10,
             "solidity": 0.2
            },
            "type": "scatter"
           }
          ],
          "scatter3d": [
           {
            "line": {
             "colorbar": {
              "outlinewidth": 0,
              "tickcolor": "rgb(237,237,237)",
              "ticklen": 6,
              "ticks": "inside"
             }
            },
            "marker": {
             "colorbar": {
              "outlinewidth": 0,
              "tickcolor": "rgb(237,237,237)",
              "ticklen": 6,
              "ticks": "inside"
             }
            },
            "type": "scatter3d"
           }
          ],
          "scattercarpet": [
           {
            "marker": {
             "colorbar": {
              "outlinewidth": 0,
              "tickcolor": "rgb(237,237,237)",
              "ticklen": 6,
              "ticks": "inside"
             }
            },
            "type": "scattercarpet"
           }
          ],
          "scattergeo": [
           {
            "marker": {
             "colorbar": {
              "outlinewidth": 0,
              "tickcolor": "rgb(237,237,237)",
              "ticklen": 6,
              "ticks": "inside"
             }
            },
            "type": "scattergeo"
           }
          ],
          "scattergl": [
           {
            "marker": {
             "colorbar": {
              "outlinewidth": 0,
              "tickcolor": "rgb(237,237,237)",
              "ticklen": 6,
              "ticks": "inside"
             }
            },
            "type": "scattergl"
           }
          ],
          "scattermapbox": [
           {
            "marker": {
             "colorbar": {
              "outlinewidth": 0,
              "tickcolor": "rgb(237,237,237)",
              "ticklen": 6,
              "ticks": "inside"
             }
            },
            "type": "scattermapbox"
           }
          ],
          "scatterpolar": [
           {
            "marker": {
             "colorbar": {
              "outlinewidth": 0,
              "tickcolor": "rgb(237,237,237)",
              "ticklen": 6,
              "ticks": "inside"
             }
            },
            "type": "scatterpolar"
           }
          ],
          "scatterpolargl": [
           {
            "marker": {
             "colorbar": {
              "outlinewidth": 0,
              "tickcolor": "rgb(237,237,237)",
              "ticklen": 6,
              "ticks": "inside"
             }
            },
            "type": "scatterpolargl"
           }
          ],
          "scatterternary": [
           {
            "marker": {
             "colorbar": {
              "outlinewidth": 0,
              "tickcolor": "rgb(237,237,237)",
              "ticklen": 6,
              "ticks": "inside"
             }
            },
            "type": "scatterternary"
           }
          ],
          "surface": [
           {
            "colorbar": {
             "outlinewidth": 0,
             "tickcolor": "rgb(237,237,237)",
             "ticklen": 6,
             "ticks": "inside"
            },
            "colorscale": [
             [
              0,
              "rgb(20,44,66)"
             ],
             [
              1,
              "rgb(90,179,244)"
             ]
            ],
            "type": "surface"
           }
          ],
          "table": [
           {
            "cells": {
             "fill": {
              "color": "rgb(237,237,237)"
             },
             "line": {
              "color": "white"
             }
            },
            "header": {
             "fill": {
              "color": "rgb(217,217,217)"
             },
             "line": {
              "color": "white"
             }
            },
            "type": "table"
           }
          ]
         },
         "layout": {
          "annotationdefaults": {
           "arrowhead": 0,
           "arrowwidth": 1
          },
          "autotypenumbers": "strict",
          "coloraxis": {
           "colorbar": {
            "outlinewidth": 0,
            "tickcolor": "rgb(237,237,237)",
            "ticklen": 6,
            "ticks": "inside"
           }
          },
          "colorscale": {
           "sequential": [
            [
             0,
             "rgb(20,44,66)"
            ],
            [
             1,
             "rgb(90,179,244)"
            ]
           ],
           "sequentialminus": [
            [
             0,
             "rgb(20,44,66)"
            ],
            [
             1,
             "rgb(90,179,244)"
            ]
           ]
          },
          "colorway": [
           "#F8766D",
           "#A3A500",
           "#00BF7D",
           "#00B0F6",
           "#E76BF3"
          ],
          "font": {
           "color": "rgb(51,51,51)"
          },
          "geo": {
           "bgcolor": "white",
           "lakecolor": "white",
           "landcolor": "rgb(237,237,237)",
           "showlakes": true,
           "showland": true,
           "subunitcolor": "white"
          },
          "hoverlabel": {
           "align": "left"
          },
          "hovermode": "closest",
          "paper_bgcolor": "white",
          "plot_bgcolor": "rgb(237,237,237)",
          "polar": {
           "angularaxis": {
            "gridcolor": "white",
            "linecolor": "white",
            "showgrid": true,
            "tickcolor": "rgb(51,51,51)",
            "ticks": "outside"
           },
           "bgcolor": "rgb(237,237,237)",
           "radialaxis": {
            "gridcolor": "white",
            "linecolor": "white",
            "showgrid": true,
            "tickcolor": "rgb(51,51,51)",
            "ticks": "outside"
           }
          },
          "scene": {
           "xaxis": {
            "backgroundcolor": "rgb(237,237,237)",
            "gridcolor": "white",
            "gridwidth": 2,
            "linecolor": "white",
            "showbackground": true,
            "showgrid": true,
            "tickcolor": "rgb(51,51,51)",
            "ticks": "outside",
            "zerolinecolor": "white"
           },
           "yaxis": {
            "backgroundcolor": "rgb(237,237,237)",
            "gridcolor": "white",
            "gridwidth": 2,
            "linecolor": "white",
            "showbackground": true,
            "showgrid": true,
            "tickcolor": "rgb(51,51,51)",
            "ticks": "outside",
            "zerolinecolor": "white"
           },
           "zaxis": {
            "backgroundcolor": "rgb(237,237,237)",
            "gridcolor": "white",
            "gridwidth": 2,
            "linecolor": "white",
            "showbackground": true,
            "showgrid": true,
            "tickcolor": "rgb(51,51,51)",
            "ticks": "outside",
            "zerolinecolor": "white"
           }
          },
          "shapedefaults": {
           "fillcolor": "black",
           "line": {
            "width": 0
           },
           "opacity": 0.3
          },
          "ternary": {
           "aaxis": {
            "gridcolor": "white",
            "linecolor": "white",
            "showgrid": true,
            "tickcolor": "rgb(51,51,51)",
            "ticks": "outside"
           },
           "baxis": {
            "gridcolor": "white",
            "linecolor": "white",
            "showgrid": true,
            "tickcolor": "rgb(51,51,51)",
            "ticks": "outside"
           },
           "bgcolor": "rgb(237,237,237)",
           "caxis": {
            "gridcolor": "white",
            "linecolor": "white",
            "showgrid": true,
            "tickcolor": "rgb(51,51,51)",
            "ticks": "outside"
           }
          },
          "xaxis": {
           "automargin": true,
           "gridcolor": "white",
           "linecolor": "white",
           "showgrid": true,
           "tickcolor": "rgb(51,51,51)",
           "ticks": "outside",
           "title": {
            "standoff": 15
           },
           "zerolinecolor": "white"
          },
          "yaxis": {
           "automargin": true,
           "gridcolor": "white",
           "linecolor": "white",
           "showgrid": true,
           "tickcolor": "rgb(51,51,51)",
           "ticks": "outside",
           "title": {
            "standoff": 15
           },
           "zerolinecolor": "white"
          }
         }
        },
        "title": {
         "text": "Government expenditure.."
        },
        "width": 1320,
        "xaxis": {
         "anchor": "y",
         "domain": [
          0,
          0.94
         ]
        },
        "yaxis": {
         "anchor": "x",
         "domain": [
          0,
          1
         ],
         "title": {
          "text": "$ Millions"
         },
         "type": "linear"
        },
        "yaxis2": {
         "anchor": "x",
         "overlaying": "y",
         "showgrid": false,
         "side": "right",
         "title": {
          "text": "Unknown"
         },
         "type": "linear"
        }
       }
      }
     },
     "metadata": {},
     "output_type": "display_data"
    }
   ],
   "source": [
    "watchlist.plot_watchlist(['A2301346L', \"A2304512L\"], [\"A2302467A\"], template=\"ggplot2\", plot_title = \"Government expenditure..\")"
   ]
  },
  {
   "cell_type": "code",
   "execution_count": 14,
   "metadata": {},
   "outputs": [
    {
     "data": {
      "application/vnd.plotly.v1+json": {
       "config": {
        "plotlyServerURL": "https://plot.ly"
       },
       "data": [
        {
         "mode": "lines",
         "name": "Quarterly Index ;  Total hourly rates of pay excluding bonuses ;  Australia ;  Private and Public ;  All industries ;",
         "type": "scatter",
         "x": [
          "1997-09-01T00:00:00",
          "1997-12-01T00:00:00",
          "1998-03-01T00:00:00",
          "1998-06-01T00:00:00",
          "1998-09-01T00:00:00",
          "1998-12-01T00:00:00",
          "1999-03-01T00:00:00",
          "1999-06-01T00:00:00",
          "1999-09-01T00:00:00",
          "1999-12-01T00:00:00",
          "2000-03-01T00:00:00",
          "2000-06-01T00:00:00",
          "2000-09-01T00:00:00",
          "2000-12-01T00:00:00",
          "2001-03-01T00:00:00",
          "2001-06-01T00:00:00",
          "2001-09-01T00:00:00",
          "2001-12-01T00:00:00",
          "2002-03-01T00:00:00",
          "2002-06-01T00:00:00",
          "2002-09-01T00:00:00",
          "2002-12-01T00:00:00",
          "2003-03-01T00:00:00",
          "2003-06-01T00:00:00",
          "2003-09-01T00:00:00",
          "2003-12-01T00:00:00",
          "2004-03-01T00:00:00",
          "2004-06-01T00:00:00",
          "2004-09-01T00:00:00",
          "2004-12-01T00:00:00",
          "2005-03-01T00:00:00",
          "2005-06-01T00:00:00",
          "2005-09-01T00:00:00",
          "2005-12-01T00:00:00",
          "2006-03-01T00:00:00",
          "2006-06-01T00:00:00",
          "2006-09-01T00:00:00",
          "2006-12-01T00:00:00",
          "2007-03-01T00:00:00",
          "2007-06-01T00:00:00",
          "2007-09-01T00:00:00",
          "2007-12-01T00:00:00",
          "2008-03-01T00:00:00",
          "2008-06-01T00:00:00",
          "2008-09-01T00:00:00",
          "2008-12-01T00:00:00",
          "2009-03-01T00:00:00",
          "2009-06-01T00:00:00",
          "2009-09-01T00:00:00",
          "2009-12-01T00:00:00",
          "2010-03-01T00:00:00",
          "2010-06-01T00:00:00",
          "2010-09-01T00:00:00",
          "2010-12-01T00:00:00",
          "2011-03-01T00:00:00",
          "2011-06-01T00:00:00",
          "2011-09-01T00:00:00",
          "2011-12-01T00:00:00",
          "2012-03-01T00:00:00",
          "2012-06-01T00:00:00",
          "2012-09-01T00:00:00",
          "2012-12-01T00:00:00",
          "2013-03-01T00:00:00",
          "2013-06-01T00:00:00",
          "2013-09-01T00:00:00",
          "2013-12-01T00:00:00",
          "2014-03-01T00:00:00",
          "2014-06-01T00:00:00",
          "2014-09-01T00:00:00",
          "2014-12-01T00:00:00",
          "2015-03-01T00:00:00",
          "2015-06-01T00:00:00",
          "2015-09-01T00:00:00",
          "2015-12-01T00:00:00",
          "2016-03-01T00:00:00",
          "2016-06-01T00:00:00",
          "2016-09-01T00:00:00",
          "2016-12-01T00:00:00",
          "2017-03-01T00:00:00",
          "2017-06-01T00:00:00",
          "2017-09-01T00:00:00",
          "2017-12-01T00:00:00",
          "2018-03-01T00:00:00",
          "2018-06-01T00:00:00",
          "2018-09-01T00:00:00",
          "2018-12-01T00:00:00",
          "2019-03-01T00:00:00",
          "2019-06-01T00:00:00",
          "2019-09-01T00:00:00",
          "2019-12-01T00:00:00",
          "2020-03-01T00:00:00",
          "2020-06-01T00:00:00",
          "2020-09-01T00:00:00",
          "2020-12-01T00:00:00",
          "2021-03-01T00:00:00",
          "2021-06-01T00:00:00",
          "2021-09-01T00:00:00",
          "2021-12-01T00:00:00",
          "2022-03-01T00:00:00",
          "2022-06-01T00:00:00",
          "2022-09-01T00:00:00",
          "2022-12-01T00:00:00",
          "2023-03-01T00:00:00",
          "2023-06-01T00:00:00",
          "2023-09-01T00:00:00",
          "2023-12-01T00:00:00",
          "2024-03-01T00:00:00",
          "2024-06-01T00:00:00",
          "2024-09-01T00:00:00",
          "2024-12-01T00:00:00",
          "2025-03-01T00:00:00",
          "2025-06-01T00:00:00"
         ],
         "y": [
          66.7,
          67.3,
          67.8,
          68.2,
          68.9,
          69.3,
          70,
          70.3,
          71,
          71.4,
          71.9,
          72.3,
          73.2,
          73.8,
          74.6,
          75,
          75.8,
          76.4,
          76.9,
          77.4,
          78.3,
          78.9,
          79.7,
          80.1,
          81.1,
          81.9,
          82.5,
          82.9,
          84,
          84.8,
          85.7,
          86.3,
          87.5,
          88.3,
          89.2,
          89.9,
          90.9,
          91.8,
          92.8,
          93.5,
          94.8,
          95.7,
          96.6,
          97.5,
          98.6,
          99.8,
          100.5,
          101.1,
          102,
          102.7,
          103.6,
          104.2,
          105.7,
          106.6,
          107.6,
          108.2,
          109.5,
          110.5,
          111.4,
          112.2,
          113.5,
          114.3,
          115,
          115.5,
          116.6,
          117.2,
          118,
          118.5,
          119.5,
          120.2,
          120.7,
          121.2,
          122.2,
          122.7,
          123.2,
          123.7,
          124.6,
          125.1,
          125.6,
          126.1,
          127.1,
          127.7,
          128.2,
          128.7,
          130,
          130.6,
          131.2,
          131.8,
          132.9,
          133.5,
          134.1,
          134.1,
          134.7,
          135.4,
          136.1,
          136.5,
          137.7,
          138.5,
          139.3,
          140.1,
          142.1,
          143.2,
          144.3,
          145.2,
          147.9,
          149.3,
          150.2,
          151.1,
          153.1,
          154.1,
          155.3,
          156.2
         ]
        },
        {
         "mode": "lines",
         "name": "Index Numbers ;  Housing ;  Sydney ;",
         "type": "scatter",
         "x": [
          "1948-09-01T00:00:00",
          "1948-12-01T00:00:00",
          "1949-03-01T00:00:00",
          "1949-06-01T00:00:00",
          "1949-09-01T00:00:00",
          "1949-12-01T00:00:00",
          "1950-03-01T00:00:00",
          "1950-06-01T00:00:00",
          "1950-09-01T00:00:00",
          "1950-12-01T00:00:00",
          "1951-03-01T00:00:00",
          "1951-06-01T00:00:00",
          "1951-09-01T00:00:00",
          "1951-12-01T00:00:00",
          "1952-03-01T00:00:00",
          "1952-06-01T00:00:00",
          "1952-09-01T00:00:00",
          "1952-12-01T00:00:00",
          "1953-03-01T00:00:00",
          "1953-06-01T00:00:00",
          "1953-09-01T00:00:00",
          "1953-12-01T00:00:00",
          "1954-03-01T00:00:00",
          "1954-06-01T00:00:00",
          "1954-09-01T00:00:00",
          "1954-12-01T00:00:00",
          "1955-03-01T00:00:00",
          "1955-06-01T00:00:00",
          "1955-09-01T00:00:00",
          "1955-12-01T00:00:00",
          "1956-03-01T00:00:00",
          "1956-06-01T00:00:00",
          "1956-09-01T00:00:00",
          "1956-12-01T00:00:00",
          "1957-03-01T00:00:00",
          "1957-06-01T00:00:00",
          "1957-09-01T00:00:00",
          "1957-12-01T00:00:00",
          "1958-03-01T00:00:00",
          "1958-06-01T00:00:00",
          "1958-09-01T00:00:00",
          "1958-12-01T00:00:00",
          "1959-03-01T00:00:00",
          "1959-06-01T00:00:00",
          "1959-09-01T00:00:00",
          "1959-12-01T00:00:00",
          "1960-03-01T00:00:00",
          "1960-06-01T00:00:00",
          "1960-09-01T00:00:00",
          "1960-12-01T00:00:00",
          "1961-03-01T00:00:00",
          "1961-06-01T00:00:00",
          "1961-09-01T00:00:00",
          "1961-12-01T00:00:00",
          "1962-03-01T00:00:00",
          "1962-06-01T00:00:00",
          "1962-09-01T00:00:00",
          "1962-12-01T00:00:00",
          "1963-03-01T00:00:00",
          "1963-06-01T00:00:00",
          "1963-09-01T00:00:00",
          "1963-12-01T00:00:00",
          "1964-03-01T00:00:00",
          "1964-06-01T00:00:00",
          "1964-09-01T00:00:00",
          "1964-12-01T00:00:00",
          "1965-03-01T00:00:00",
          "1965-06-01T00:00:00",
          "1965-09-01T00:00:00",
          "1965-12-01T00:00:00",
          "1966-03-01T00:00:00",
          "1966-06-01T00:00:00",
          "1966-09-01T00:00:00",
          "1966-12-01T00:00:00",
          "1967-03-01T00:00:00",
          "1967-06-01T00:00:00",
          "1967-09-01T00:00:00",
          "1967-12-01T00:00:00",
          "1968-03-01T00:00:00",
          "1968-06-01T00:00:00",
          "1968-09-01T00:00:00",
          "1968-12-01T00:00:00",
          "1969-03-01T00:00:00",
          "1969-06-01T00:00:00",
          "1969-09-01T00:00:00",
          "1969-12-01T00:00:00",
          "1970-03-01T00:00:00",
          "1970-06-01T00:00:00",
          "1970-09-01T00:00:00",
          "1970-12-01T00:00:00",
          "1971-03-01T00:00:00",
          "1971-06-01T00:00:00",
          "1971-09-01T00:00:00",
          "1971-12-01T00:00:00",
          "1972-03-01T00:00:00",
          "1972-06-01T00:00:00",
          "1972-09-01T00:00:00",
          "1972-12-01T00:00:00",
          "1973-03-01T00:00:00",
          "1973-06-01T00:00:00",
          "1973-09-01T00:00:00",
          "1973-12-01T00:00:00",
          "1974-03-01T00:00:00",
          "1974-06-01T00:00:00",
          "1974-09-01T00:00:00",
          "1974-12-01T00:00:00",
          "1975-03-01T00:00:00",
          "1975-06-01T00:00:00",
          "1975-09-01T00:00:00",
          "1975-12-01T00:00:00",
          "1976-03-01T00:00:00",
          "1976-06-01T00:00:00",
          "1976-09-01T00:00:00",
          "1976-12-01T00:00:00",
          "1977-03-01T00:00:00",
          "1977-06-01T00:00:00",
          "1977-09-01T00:00:00",
          "1977-12-01T00:00:00",
          "1978-03-01T00:00:00",
          "1978-06-01T00:00:00",
          "1978-09-01T00:00:00",
          "1978-12-01T00:00:00",
          "1979-03-01T00:00:00",
          "1979-06-01T00:00:00",
          "1979-09-01T00:00:00",
          "1979-12-01T00:00:00",
          "1980-03-01T00:00:00",
          "1980-06-01T00:00:00",
          "1980-09-01T00:00:00",
          "1980-12-01T00:00:00",
          "1981-03-01T00:00:00",
          "1981-06-01T00:00:00",
          "1981-09-01T00:00:00",
          "1981-12-01T00:00:00",
          "1982-03-01T00:00:00",
          "1982-06-01T00:00:00",
          "1982-09-01T00:00:00",
          "1982-12-01T00:00:00",
          "1983-03-01T00:00:00",
          "1983-06-01T00:00:00",
          "1983-09-01T00:00:00",
          "1983-12-01T00:00:00",
          "1984-03-01T00:00:00",
          "1984-06-01T00:00:00",
          "1984-09-01T00:00:00",
          "1984-12-01T00:00:00",
          "1985-03-01T00:00:00",
          "1985-06-01T00:00:00",
          "1985-09-01T00:00:00",
          "1985-12-01T00:00:00",
          "1986-03-01T00:00:00",
          "1986-06-01T00:00:00",
          "1986-09-01T00:00:00",
          "1986-12-01T00:00:00",
          "1987-03-01T00:00:00",
          "1987-06-01T00:00:00",
          "1987-09-01T00:00:00",
          "1987-12-01T00:00:00",
          "1988-03-01T00:00:00",
          "1988-06-01T00:00:00",
          "1988-09-01T00:00:00",
          "1988-12-01T00:00:00",
          "1989-03-01T00:00:00",
          "1989-06-01T00:00:00",
          "1989-09-01T00:00:00",
          "1989-12-01T00:00:00",
          "1990-03-01T00:00:00",
          "1990-06-01T00:00:00",
          "1990-09-01T00:00:00",
          "1990-12-01T00:00:00",
          "1991-03-01T00:00:00",
          "1991-06-01T00:00:00",
          "1991-09-01T00:00:00",
          "1991-12-01T00:00:00",
          "1992-03-01T00:00:00",
          "1992-06-01T00:00:00",
          "1992-09-01T00:00:00",
          "1992-12-01T00:00:00",
          "1993-03-01T00:00:00",
          "1993-06-01T00:00:00",
          "1993-09-01T00:00:00",
          "1993-12-01T00:00:00",
          "1994-03-01T00:00:00",
          "1994-06-01T00:00:00",
          "1994-09-01T00:00:00",
          "1994-12-01T00:00:00",
          "1995-03-01T00:00:00",
          "1995-06-01T00:00:00",
          "1995-09-01T00:00:00",
          "1995-12-01T00:00:00",
          "1996-03-01T00:00:00",
          "1996-06-01T00:00:00",
          "1996-09-01T00:00:00",
          "1996-12-01T00:00:00",
          "1997-03-01T00:00:00",
          "1997-06-01T00:00:00",
          "1997-09-01T00:00:00",
          "1997-12-01T00:00:00",
          "1998-03-01T00:00:00",
          "1998-06-01T00:00:00",
          "1998-09-01T00:00:00",
          "1998-12-01T00:00:00",
          "1999-03-01T00:00:00",
          "1999-06-01T00:00:00",
          "1999-09-01T00:00:00",
          "1999-12-01T00:00:00",
          "2000-03-01T00:00:00",
          "2000-06-01T00:00:00",
          "2000-09-01T00:00:00",
          "2000-12-01T00:00:00",
          "2001-03-01T00:00:00",
          "2001-06-01T00:00:00",
          "2001-09-01T00:00:00",
          "2001-12-01T00:00:00",
          "2002-03-01T00:00:00",
          "2002-06-01T00:00:00",
          "2002-09-01T00:00:00",
          "2002-12-01T00:00:00",
          "2003-03-01T00:00:00",
          "2003-06-01T00:00:00",
          "2003-09-01T00:00:00",
          "2003-12-01T00:00:00",
          "2004-03-01T00:00:00",
          "2004-06-01T00:00:00",
          "2004-09-01T00:00:00",
          "2004-12-01T00:00:00",
          "2005-03-01T00:00:00",
          "2005-06-01T00:00:00",
          "2005-09-01T00:00:00",
          "2005-12-01T00:00:00",
          "2006-03-01T00:00:00",
          "2006-06-01T00:00:00",
          "2006-09-01T00:00:00",
          "2006-12-01T00:00:00",
          "2007-03-01T00:00:00",
          "2007-06-01T00:00:00",
          "2007-09-01T00:00:00",
          "2007-12-01T00:00:00",
          "2008-03-01T00:00:00",
          "2008-06-01T00:00:00",
          "2008-09-01T00:00:00",
          "2008-12-01T00:00:00",
          "2009-03-01T00:00:00",
          "2009-06-01T00:00:00",
          "2009-09-01T00:00:00",
          "2009-12-01T00:00:00",
          "2010-03-01T00:00:00",
          "2010-06-01T00:00:00",
          "2010-09-01T00:00:00",
          "2010-12-01T00:00:00",
          "2011-03-01T00:00:00",
          "2011-06-01T00:00:00",
          "2011-09-01T00:00:00",
          "2011-12-01T00:00:00",
          "2012-03-01T00:00:00",
          "2012-06-01T00:00:00",
          "2012-09-01T00:00:00",
          "2012-12-01T00:00:00",
          "2013-03-01T00:00:00",
          "2013-06-01T00:00:00",
          "2013-09-01T00:00:00",
          "2013-12-01T00:00:00",
          "2014-03-01T00:00:00",
          "2014-06-01T00:00:00",
          "2014-09-01T00:00:00",
          "2014-12-01T00:00:00",
          "2015-03-01T00:00:00",
          "2015-06-01T00:00:00",
          "2015-09-01T00:00:00",
          "2015-12-01T00:00:00",
          "2016-03-01T00:00:00",
          "2016-06-01T00:00:00",
          "2016-09-01T00:00:00",
          "2016-12-01T00:00:00",
          "2017-03-01T00:00:00",
          "2017-06-01T00:00:00",
          "2017-09-01T00:00:00",
          "2017-12-01T00:00:00",
          "2018-03-01T00:00:00",
          "2018-06-01T00:00:00",
          "2018-09-01T00:00:00",
          "2018-12-01T00:00:00",
          "2019-03-01T00:00:00",
          "2019-06-01T00:00:00",
          "2019-09-01T00:00:00",
          "2019-12-01T00:00:00",
          "2020-03-01T00:00:00",
          "2020-06-01T00:00:00",
          "2020-09-01T00:00:00",
          "2020-12-01T00:00:00",
          "2021-03-01T00:00:00",
          "2021-06-01T00:00:00",
          "2021-09-01T00:00:00",
          "2021-12-01T00:00:00",
          "2022-03-01T00:00:00",
          "2022-06-01T00:00:00",
          "2022-09-01T00:00:00",
          "2022-12-01T00:00:00",
          "2023-03-01T00:00:00",
          "2023-06-01T00:00:00",
          "2023-09-01T00:00:00",
          "2023-12-01T00:00:00",
          "2024-03-01T00:00:00",
          "2024-06-01T00:00:00",
          "2024-09-01T00:00:00",
          "2024-12-01T00:00:00",
          "2025-03-01T00:00:00",
          "2025-06-01T00:00:00"
         ],
         "y": [
          null,
          null,
          null,
          null,
          null,
          null,
          null,
          null,
          null,
          null,
          null,
          null,
          null,
          null,
          null,
          null,
          null,
          null,
          null,
          null,
          null,
          null,
          null,
          null,
          null,
          null,
          null,
          null,
          null,
          null,
          null,
          null,
          null,
          null,
          null,
          null,
          null,
          null,
          null,
          null,
          null,
          null,
          null,
          null,
          null,
          null,
          null,
          null,
          null,
          null,
          null,
          null,
          null,
          null,
          null,
          null,
          null,
          null,
          null,
          null,
          null,
          null,
          null,
          null,
          null,
          null,
          null,
          null,
          null,
          null,
          null,
          null,
          null,
          null,
          null,
          null,
          null,
          null,
          null,
          null,
          null,
          null,
          null,
          null,
          null,
          null,
          null,
          null,
          null,
          null,
          null,
          null,
          null,
          null,
          null,
          null,
          9.4,
          9.7,
          9.8,
          10.1,
          10.3,
          10.6,
          10.8,
          11.4,
          11.8,
          12.3,
          12.6,
          13.4,
          13.9,
          14.5,
          14.9,
          15.6,
          16,
          16.5,
          16.8,
          17.3,
          17.6,
          18,
          18.3,
          18.8,
          19.1,
          19.5,
          19.9,
          20.4,
          20.9,
          21.4,
          21.8,
          22.5,
          23.2,
          23.8,
          24.4,
          25.1,
          25.7,
          26.4,
          27.1,
          28,
          28.7,
          29.3,
          29.5,
          29.9,
          30.2,
          30.7,
          30.8,
          31.4,
          31.8,
          32,
          32.5,
          33.3,
          34.3,
          35,
          35.8,
          36.5,
          37.2,
          37.9,
          38.9,
          39.9,
          40.8,
          41.5,
          42.7,
          44.1,
          46.6,
          50.3,
          48.2,
          50.9,
          53.7,
          55.7,
          56.6,
          57.4,
          57.8,
          57.9,
          57.1,
          57.2,
          56.1,
          55.9,
          54.8,
          54,
          53.3,
          53,
          53.3,
          53.7,
          53.7,
          52.8,
          52.9,
          53.5,
          54,
          55.3,
          58.3,
          59.5,
          60,
          60.5,
          61,
          61.4,
          61.6,
          60.1,
          58.6,
          56.8,
          56.6,
          55.9,
          56,
          56.6,
          57.2,
          57.3,
          58,
          58.2,
          59.1,
          59.9,
          60.6,
          61.2,
          64.7,
          64.8,
          65,
          65.4,
          66,
          66.4,
          66.7,
          67.2,
          67.9,
          68.1,
          68.4,
          68.9,
          69.9,
          70.1,
          70.5,
          71.1,
          72.3,
          72.8,
          73.2,
          73.7,
          74.6,
          75,
          75.2,
          75.6,
          76.6,
          76.8,
          77.2,
          77.9,
          79.4,
          80,
          81.2,
          82.4,
          84.4,
          85.3,
          85.9,
          86.9,
          90.2,
          90.8,
          91.6,
          92.1,
          94.2,
          95,
          96,
          96.8,
          99.1,
          99.8,
          100.1,
          101,
          104.3,
          105.1,
          105.9,
          106.6,
          108.5,
          109.2,
          109.7,
          110.8,
          111.7,
          112.6,
          113.6,
          114.9,
          115.1,
          115.4,
          115.9,
          116.7,
          118.4,
          119,
          119.8,
          120.6,
          123.5,
          124.2,
          124.7,
          125.1,
          126,
          126.5,
          126.6,
          126.4,
          126.3,
          125.9,
          126,
          124.8,
          124,
          124.3,
          123.5,
          123.7,
          125,
          126.6,
          129,
          131.7,
          138.5,
          140.3,
          142.9,
          144.5,
          149.2,
          150,
          151,
          151.7,
          153.4,
          151,
          153.1,
          154.3
         ]
        },
        {
         "mode": "lines",
         "name": "Index Numbers ;  Rents ;  Sydney ;1",
         "type": "scatter",
         "x": [
          "1948-09-01T00:00:00",
          "1948-12-01T00:00:00",
          "1949-03-01T00:00:00",
          "1949-06-01T00:00:00",
          "1949-09-01T00:00:00",
          "1949-12-01T00:00:00",
          "1950-03-01T00:00:00",
          "1950-06-01T00:00:00",
          "1950-09-01T00:00:00",
          "1950-12-01T00:00:00",
          "1951-03-01T00:00:00",
          "1951-06-01T00:00:00",
          "1951-09-01T00:00:00",
          "1951-12-01T00:00:00",
          "1952-03-01T00:00:00",
          "1952-06-01T00:00:00",
          "1952-09-01T00:00:00",
          "1952-12-01T00:00:00",
          "1953-03-01T00:00:00",
          "1953-06-01T00:00:00",
          "1953-09-01T00:00:00",
          "1953-12-01T00:00:00",
          "1954-03-01T00:00:00",
          "1954-06-01T00:00:00",
          "1954-09-01T00:00:00",
          "1954-12-01T00:00:00",
          "1955-03-01T00:00:00",
          "1955-06-01T00:00:00",
          "1955-09-01T00:00:00",
          "1955-12-01T00:00:00",
          "1956-03-01T00:00:00",
          "1956-06-01T00:00:00",
          "1956-09-01T00:00:00",
          "1956-12-01T00:00:00",
          "1957-03-01T00:00:00",
          "1957-06-01T00:00:00",
          "1957-09-01T00:00:00",
          "1957-12-01T00:00:00",
          "1958-03-01T00:00:00",
          "1958-06-01T00:00:00",
          "1958-09-01T00:00:00",
          "1958-12-01T00:00:00",
          "1959-03-01T00:00:00",
          "1959-06-01T00:00:00",
          "1959-09-01T00:00:00",
          "1959-12-01T00:00:00",
          "1960-03-01T00:00:00",
          "1960-06-01T00:00:00",
          "1960-09-01T00:00:00",
          "1960-12-01T00:00:00",
          "1961-03-01T00:00:00",
          "1961-06-01T00:00:00",
          "1961-09-01T00:00:00",
          "1961-12-01T00:00:00",
          "1962-03-01T00:00:00",
          "1962-06-01T00:00:00",
          "1962-09-01T00:00:00",
          "1962-12-01T00:00:00",
          "1963-03-01T00:00:00",
          "1963-06-01T00:00:00",
          "1963-09-01T00:00:00",
          "1963-12-01T00:00:00",
          "1964-03-01T00:00:00",
          "1964-06-01T00:00:00",
          "1964-09-01T00:00:00",
          "1964-12-01T00:00:00",
          "1965-03-01T00:00:00",
          "1965-06-01T00:00:00",
          "1965-09-01T00:00:00",
          "1965-12-01T00:00:00",
          "1966-03-01T00:00:00",
          "1966-06-01T00:00:00",
          "1966-09-01T00:00:00",
          "1966-12-01T00:00:00",
          "1967-03-01T00:00:00",
          "1967-06-01T00:00:00",
          "1967-09-01T00:00:00",
          "1967-12-01T00:00:00",
          "1968-03-01T00:00:00",
          "1968-06-01T00:00:00",
          "1968-09-01T00:00:00",
          "1968-12-01T00:00:00",
          "1969-03-01T00:00:00",
          "1969-06-01T00:00:00",
          "1969-09-01T00:00:00",
          "1969-12-01T00:00:00",
          "1970-03-01T00:00:00",
          "1970-06-01T00:00:00",
          "1970-09-01T00:00:00",
          "1970-12-01T00:00:00",
          "1971-03-01T00:00:00",
          "1971-06-01T00:00:00",
          "1971-09-01T00:00:00",
          "1971-12-01T00:00:00",
          "1972-03-01T00:00:00",
          "1972-06-01T00:00:00",
          "1972-09-01T00:00:00",
          "1972-12-01T00:00:00",
          "1973-03-01T00:00:00",
          "1973-06-01T00:00:00",
          "1973-09-01T00:00:00",
          "1973-12-01T00:00:00",
          "1974-03-01T00:00:00",
          "1974-06-01T00:00:00",
          "1974-09-01T00:00:00",
          "1974-12-01T00:00:00",
          "1975-03-01T00:00:00",
          "1975-06-01T00:00:00",
          "1975-09-01T00:00:00",
          "1975-12-01T00:00:00",
          "1976-03-01T00:00:00",
          "1976-06-01T00:00:00",
          "1976-09-01T00:00:00",
          "1976-12-01T00:00:00",
          "1977-03-01T00:00:00",
          "1977-06-01T00:00:00",
          "1977-09-01T00:00:00",
          "1977-12-01T00:00:00",
          "1978-03-01T00:00:00",
          "1978-06-01T00:00:00",
          "1978-09-01T00:00:00",
          "1978-12-01T00:00:00",
          "1979-03-01T00:00:00",
          "1979-06-01T00:00:00",
          "1979-09-01T00:00:00",
          "1979-12-01T00:00:00",
          "1980-03-01T00:00:00",
          "1980-06-01T00:00:00",
          "1980-09-01T00:00:00",
          "1980-12-01T00:00:00",
          "1981-03-01T00:00:00",
          "1981-06-01T00:00:00",
          "1981-09-01T00:00:00",
          "1981-12-01T00:00:00",
          "1982-03-01T00:00:00",
          "1982-06-01T00:00:00",
          "1982-09-01T00:00:00",
          "1982-12-01T00:00:00",
          "1983-03-01T00:00:00",
          "1983-06-01T00:00:00",
          "1983-09-01T00:00:00",
          "1983-12-01T00:00:00",
          "1984-03-01T00:00:00",
          "1984-06-01T00:00:00",
          "1984-09-01T00:00:00",
          "1984-12-01T00:00:00",
          "1985-03-01T00:00:00",
          "1985-06-01T00:00:00",
          "1985-09-01T00:00:00",
          "1985-12-01T00:00:00",
          "1986-03-01T00:00:00",
          "1986-06-01T00:00:00",
          "1986-09-01T00:00:00",
          "1986-12-01T00:00:00",
          "1987-03-01T00:00:00",
          "1987-06-01T00:00:00",
          "1987-09-01T00:00:00",
          "1987-12-01T00:00:00",
          "1988-03-01T00:00:00",
          "1988-06-01T00:00:00",
          "1988-09-01T00:00:00",
          "1988-12-01T00:00:00",
          "1989-03-01T00:00:00",
          "1989-06-01T00:00:00",
          "1989-09-01T00:00:00",
          "1989-12-01T00:00:00",
          "1990-03-01T00:00:00",
          "1990-06-01T00:00:00",
          "1990-09-01T00:00:00",
          "1990-12-01T00:00:00",
          "1991-03-01T00:00:00",
          "1991-06-01T00:00:00",
          "1991-09-01T00:00:00",
          "1991-12-01T00:00:00",
          "1992-03-01T00:00:00",
          "1992-06-01T00:00:00",
          "1992-09-01T00:00:00",
          "1992-12-01T00:00:00",
          "1993-03-01T00:00:00",
          "1993-06-01T00:00:00",
          "1993-09-01T00:00:00",
          "1993-12-01T00:00:00",
          "1994-03-01T00:00:00",
          "1994-06-01T00:00:00",
          "1994-09-01T00:00:00",
          "1994-12-01T00:00:00",
          "1995-03-01T00:00:00",
          "1995-06-01T00:00:00",
          "1995-09-01T00:00:00",
          "1995-12-01T00:00:00",
          "1996-03-01T00:00:00",
          "1996-06-01T00:00:00",
          "1996-09-01T00:00:00",
          "1996-12-01T00:00:00",
          "1997-03-01T00:00:00",
          "1997-06-01T00:00:00",
          "1997-09-01T00:00:00",
          "1997-12-01T00:00:00",
          "1998-03-01T00:00:00",
          "1998-06-01T00:00:00",
          "1998-09-01T00:00:00",
          "1998-12-01T00:00:00",
          "1999-03-01T00:00:00",
          "1999-06-01T00:00:00",
          "1999-09-01T00:00:00",
          "1999-12-01T00:00:00",
          "2000-03-01T00:00:00",
          "2000-06-01T00:00:00",
          "2000-09-01T00:00:00",
          "2000-12-01T00:00:00",
          "2001-03-01T00:00:00",
          "2001-06-01T00:00:00",
          "2001-09-01T00:00:00",
          "2001-12-01T00:00:00",
          "2002-03-01T00:00:00",
          "2002-06-01T00:00:00",
          "2002-09-01T00:00:00",
          "2002-12-01T00:00:00",
          "2003-03-01T00:00:00",
          "2003-06-01T00:00:00",
          "2003-09-01T00:00:00",
          "2003-12-01T00:00:00",
          "2004-03-01T00:00:00",
          "2004-06-01T00:00:00",
          "2004-09-01T00:00:00",
          "2004-12-01T00:00:00",
          "2005-03-01T00:00:00",
          "2005-06-01T00:00:00",
          "2005-09-01T00:00:00",
          "2005-12-01T00:00:00",
          "2006-03-01T00:00:00",
          "2006-06-01T00:00:00",
          "2006-09-01T00:00:00",
          "2006-12-01T00:00:00",
          "2007-03-01T00:00:00",
          "2007-06-01T00:00:00",
          "2007-09-01T00:00:00",
          "2007-12-01T00:00:00",
          "2008-03-01T00:00:00",
          "2008-06-01T00:00:00",
          "2008-09-01T00:00:00",
          "2008-12-01T00:00:00",
          "2009-03-01T00:00:00",
          "2009-06-01T00:00:00",
          "2009-09-01T00:00:00",
          "2009-12-01T00:00:00",
          "2010-03-01T00:00:00",
          "2010-06-01T00:00:00",
          "2010-09-01T00:00:00",
          "2010-12-01T00:00:00",
          "2011-03-01T00:00:00",
          "2011-06-01T00:00:00",
          "2011-09-01T00:00:00",
          "2011-12-01T00:00:00",
          "2012-03-01T00:00:00",
          "2012-06-01T00:00:00",
          "2012-09-01T00:00:00",
          "2012-12-01T00:00:00",
          "2013-03-01T00:00:00",
          "2013-06-01T00:00:00",
          "2013-09-01T00:00:00",
          "2013-12-01T00:00:00",
          "2014-03-01T00:00:00",
          "2014-06-01T00:00:00",
          "2014-09-01T00:00:00",
          "2014-12-01T00:00:00",
          "2015-03-01T00:00:00",
          "2015-06-01T00:00:00",
          "2015-09-01T00:00:00",
          "2015-12-01T00:00:00",
          "2016-03-01T00:00:00",
          "2016-06-01T00:00:00",
          "2016-09-01T00:00:00",
          "2016-12-01T00:00:00",
          "2017-03-01T00:00:00",
          "2017-06-01T00:00:00",
          "2017-09-01T00:00:00",
          "2017-12-01T00:00:00",
          "2018-03-01T00:00:00",
          "2018-06-01T00:00:00",
          "2018-09-01T00:00:00",
          "2018-12-01T00:00:00",
          "2019-03-01T00:00:00",
          "2019-06-01T00:00:00",
          "2019-09-01T00:00:00",
          "2019-12-01T00:00:00",
          "2020-03-01T00:00:00",
          "2020-06-01T00:00:00",
          "2020-09-01T00:00:00",
          "2020-12-01T00:00:00",
          "2021-03-01T00:00:00",
          "2021-06-01T00:00:00",
          "2021-09-01T00:00:00",
          "2021-12-01T00:00:00",
          "2022-03-01T00:00:00",
          "2022-06-01T00:00:00",
          "2022-09-01T00:00:00",
          "2022-12-01T00:00:00",
          "2023-03-01T00:00:00",
          "2023-06-01T00:00:00",
          "2023-09-01T00:00:00",
          "2023-12-01T00:00:00",
          "2024-03-01T00:00:00",
          "2024-06-01T00:00:00",
          "2024-09-01T00:00:00",
          "2024-12-01T00:00:00",
          "2025-03-01T00:00:00",
          "2025-06-01T00:00:00"
         ],
         "y": [
          null,
          null,
          null,
          null,
          null,
          null,
          null,
          null,
          null,
          null,
          null,
          null,
          null,
          null,
          null,
          null,
          null,
          null,
          null,
          null,
          null,
          null,
          null,
          null,
          null,
          null,
          null,
          null,
          null,
          null,
          null,
          null,
          null,
          null,
          null,
          null,
          null,
          null,
          null,
          null,
          null,
          null,
          null,
          null,
          null,
          null,
          null,
          null,
          null,
          null,
          null,
          null,
          null,
          null,
          null,
          null,
          null,
          null,
          null,
          null,
          null,
          null,
          null,
          null,
          null,
          null,
          null,
          null,
          null,
          null,
          null,
          null,
          null,
          null,
          null,
          null,
          null,
          null,
          null,
          null,
          null,
          null,
          null,
          null,
          null,
          null,
          null,
          null,
          null,
          null,
          null,
          null,
          null,
          null,
          null,
          null,
          8.5,
          8.6,
          8.7,
          8.9,
          9.1,
          9.3,
          9.4,
          9.7,
          10.1,
          10.4,
          10.7,
          11.1,
          11.6,
          12,
          12.2,
          12.6,
          13.1,
          13.6,
          13.9,
          14.3,
          14.7,
          15,
          15.3,
          15.6,
          16.1,
          16.5,
          16.9,
          17.4,
          18,
          18.3,
          18.6,
          19,
          19.6,
          19.9,
          20.3,
          20.8,
          21.4,
          21.9,
          22.4,
          23,
          24,
          24.3,
          24.6,
          25,
          25.3,
          25.4,
          25.7,
          26.2,
          26.8,
          27.2,
          27.7,
          28.3,
          29.5,
          30.2,
          30.9,
          31.8,
          32.8,
          33.6,
          34.6,
          35.7,
          37.2,
          38.5,
          40.1,
          41.6,
          43.4,
          44.5,
          45.7,
          46.6,
          47.6,
          48.1,
          48.5,
          49,
          49.7,
          50.2,
          50.4,
          50.7,
          50.9,
          51,
          51.1,
          51.4,
          51.5,
          51.4,
          51.4,
          51.4,
          51.5,
          51.6,
          51.7,
          51.7,
          52,
          52,
          52.1,
          52.9,
          53.5,
          54,
          54.7,
          55.2,
          55.8,
          56.3,
          56.7,
          57.3,
          57.7,
          58.3,
          58.8,
          59.6,
          60.4,
          60.8,
          61.3,
          61.8,
          62.2,
          62.7,
          63.4,
          64.2,
          64.8,
          65.2,
          66.1,
          66.9,
          67.4,
          67.7,
          67.9,
          68.6,
          68.7,
          68.7,
          68.7,
          68.9,
          69.5,
          69.7,
          70.1,
          70.4,
          70.5,
          70.7,
          70.9,
          71.4,
          71.7,
          72,
          72.5,
          72.8,
          73.4,
          74,
          74.9,
          75.9,
          77,
          78,
          79.4,
          81.3,
          82.7,
          84.3,
          85.7,
          87,
          88.3,
          89.1,
          90.1,
          91.2,
          92.5,
          93.6,
          95.2,
          96.6,
          98.1,
          99.4,
          100.6,
          101.9,
          102.8,
          103.8,
          104.6,
          105.9,
          106.5,
          107.3,
          108.1,
          109.1,
          109.9,
          110.7,
          111.2,
          111.8,
          112.6,
          113.2,
          113.8,
          114.3,
          115.4,
          116,
          116.6,
          117.2,
          118,
          118.8,
          119.4,
          119.8,
          120.2,
          120.5,
          120.2,
          120.2,
          119.9,
          119.5,
          119,
          116.6,
          116.2,
          116.2,
          115.6,
          114.9,
          114.3,
          114,
          114.2,
          114.6,
          116.1,
          117.8,
          119.7,
          123,
          126.1,
          127.8,
          130.4,
          133,
          135.1,
          136,
          137.2,
          138.4
         ]
        }
       ],
       "layout": {
        "annotations": [
         {
          "align": "left",
          "bgcolor": "white",
          "bordercolor": "black",
          "borderwidth": 1,
          "font": {
           "color": "black",
           "size": 12
          },
          "showarrow": false,
          "text": "Source: ABS",
          "x": 0,
          "xref": "paper",
          "y": -0.14,
          "yref": "paper"
         }
        ],
        "font": {
         "color": "black",
         "family": "Arial, sans-serif",
         "size": 14
        },
        "height": 660,
        "hovermode": "x unified",
        "legend": {
         "bgcolor": "rgba(255,255,255,0)",
         "bordercolor": "rgba(255,255,255,0)",
         "orientation": "h",
         "x": 0.5,
         "xanchor": "center",
         "y": -0.1,
         "yanchor": "top"
        },
        "margin": {
         "b": 40,
         "l": 70,
         "r": 10,
         "t": 60
        },
        "template": {
         "data": {
          "bar": [
           {
            "error_x": {
             "color": "rgb(36,36,36)"
            },
            "error_y": {
             "color": "rgb(36,36,36)"
            },
            "marker": {
             "line": {
              "color": "rgb(234,234,242)",
              "width": 0.5
             },
             "pattern": {
              "fillmode": "overlay",
              "size": 10,
              "solidity": 0.2
             }
            },
            "type": "bar"
           }
          ],
          "barpolar": [
           {
            "marker": {
             "line": {
              "color": "rgb(234,234,242)",
              "width": 0.5
             },
             "pattern": {
              "fillmode": "overlay",
              "size": 10,
              "solidity": 0.2
             }
            },
            "type": "barpolar"
           }
          ],
          "carpet": [
           {
            "aaxis": {
             "endlinecolor": "rgb(36,36,36)",
             "gridcolor": "white",
             "linecolor": "white",
             "minorgridcolor": "white",
             "startlinecolor": "rgb(36,36,36)"
            },
            "baxis": {
             "endlinecolor": "rgb(36,36,36)",
             "gridcolor": "white",
             "linecolor": "white",
             "minorgridcolor": "white",
             "startlinecolor": "rgb(36,36,36)"
            },
            "type": "carpet"
           }
          ],
          "choropleth": [
           {
            "colorbar": {
             "outlinewidth": 0,
             "tickcolor": "rgb(36,36,36)",
             "ticklen": 8,
             "ticks": "outside",
             "tickwidth": 2
            },
            "type": "choropleth"
           }
          ],
          "contour": [
           {
            "colorbar": {
             "outlinewidth": 0,
             "tickcolor": "rgb(36,36,36)",
             "ticklen": 8,
             "ticks": "outside",
             "tickwidth": 2
            },
            "colorscale": [
             [
              0,
              "rgb(2,4,25)"
             ],
             [
              0.06274509803921569,
              "rgb(24,15,41)"
             ],
             [
              0.12549019607843137,
              "rgb(47,23,57)"
             ],
             [
              0.18823529411764706,
              "rgb(71,28,72)"
             ],
             [
              0.25098039215686274,
              "rgb(97,30,82)"
             ],
             [
              0.3137254901960784,
              "rgb(123,30,89)"
             ],
             [
              0.3764705882352941,
              "rgb(150,27,91)"
             ],
             [
              0.4392156862745098,
              "rgb(177,22,88)"
             ],
             [
              0.5019607843137255,
              "rgb(203,26,79)"
             ],
             [
              0.5647058823529412,
              "rgb(223,47,67)"
             ],
             [
              0.6274509803921569,
              "rgb(236,76,61)"
             ],
             [
              0.6901960784313725,
              "rgb(242,107,73)"
             ],
             [
              0.7529411764705882,
              "rgb(244,135,95)"
             ],
             [
              0.8156862745098039,
              "rgb(245,162,122)"
             ],
             [
              0.8784313725490196,
              "rgb(246,188,153)"
             ],
             [
              0.9411764705882353,
              "rgb(247,212,187)"
             ],
             [
              1,
              "rgb(250,234,220)"
             ]
            ],
            "type": "contour"
           }
          ],
          "contourcarpet": [
           {
            "colorbar": {
             "outlinewidth": 0,
             "tickcolor": "rgb(36,36,36)",
             "ticklen": 8,
             "ticks": "outside",
             "tickwidth": 2
            },
            "type": "contourcarpet"
           }
          ],
          "heatmap": [
           {
            "colorbar": {
             "outlinewidth": 0,
             "tickcolor": "rgb(36,36,36)",
             "ticklen": 8,
             "ticks": "outside",
             "tickwidth": 2
            },
            "colorscale": [
             [
              0,
              "rgb(2,4,25)"
             ],
             [
              0.06274509803921569,
              "rgb(24,15,41)"
             ],
             [
              0.12549019607843137,
              "rgb(47,23,57)"
             ],
             [
              0.18823529411764706,
              "rgb(71,28,72)"
             ],
             [
              0.25098039215686274,
              "rgb(97,30,82)"
             ],
             [
              0.3137254901960784,
              "rgb(123,30,89)"
             ],
             [
              0.3764705882352941,
              "rgb(150,27,91)"
             ],
             [
              0.4392156862745098,
              "rgb(177,22,88)"
             ],
             [
              0.5019607843137255,
              "rgb(203,26,79)"
             ],
             [
              0.5647058823529412,
              "rgb(223,47,67)"
             ],
             [
              0.6274509803921569,
              "rgb(236,76,61)"
             ],
             [
              0.6901960784313725,
              "rgb(242,107,73)"
             ],
             [
              0.7529411764705882,
              "rgb(244,135,95)"
             ],
             [
              0.8156862745098039,
              "rgb(245,162,122)"
             ],
             [
              0.8784313725490196,
              "rgb(246,188,153)"
             ],
             [
              0.9411764705882353,
              "rgb(247,212,187)"
             ],
             [
              1,
              "rgb(250,234,220)"
             ]
            ],
            "type": "heatmap"
           }
          ],
          "heatmapgl": [
           {
            "colorbar": {
             "outlinewidth": 0,
             "tickcolor": "rgb(36,36,36)",
             "ticklen": 8,
             "ticks": "outside",
             "tickwidth": 2
            },
            "colorscale": [
             [
              0,
              "rgb(2,4,25)"
             ],
             [
              0.06274509803921569,
              "rgb(24,15,41)"
             ],
             [
              0.12549019607843137,
              "rgb(47,23,57)"
             ],
             [
              0.18823529411764706,
              "rgb(71,28,72)"
             ],
             [
              0.25098039215686274,
              "rgb(97,30,82)"
             ],
             [
              0.3137254901960784,
              "rgb(123,30,89)"
             ],
             [
              0.3764705882352941,
              "rgb(150,27,91)"
             ],
             [
              0.4392156862745098,
              "rgb(177,22,88)"
             ],
             [
              0.5019607843137255,
              "rgb(203,26,79)"
             ],
             [
              0.5647058823529412,
              "rgb(223,47,67)"
             ],
             [
              0.6274509803921569,
              "rgb(236,76,61)"
             ],
             [
              0.6901960784313725,
              "rgb(242,107,73)"
             ],
             [
              0.7529411764705882,
              "rgb(244,135,95)"
             ],
             [
              0.8156862745098039,
              "rgb(245,162,122)"
             ],
             [
              0.8784313725490196,
              "rgb(246,188,153)"
             ],
             [
              0.9411764705882353,
              "rgb(247,212,187)"
             ],
             [
              1,
              "rgb(250,234,220)"
             ]
            ],
            "type": "heatmapgl"
           }
          ],
          "histogram": [
           {
            "marker": {
             "pattern": {
              "fillmode": "overlay",
              "size": 10,
              "solidity": 0.2
             }
            },
            "type": "histogram"
           }
          ],
          "histogram2d": [
           {
            "colorbar": {
             "outlinewidth": 0,
             "tickcolor": "rgb(36,36,36)",
             "ticklen": 8,
             "ticks": "outside",
             "tickwidth": 2
            },
            "colorscale": [
             [
              0,
              "rgb(2,4,25)"
             ],
             [
              0.06274509803921569,
              "rgb(24,15,41)"
             ],
             [
              0.12549019607843137,
              "rgb(47,23,57)"
             ],
             [
              0.18823529411764706,
              "rgb(71,28,72)"
             ],
             [
              0.25098039215686274,
              "rgb(97,30,82)"
             ],
             [
              0.3137254901960784,
              "rgb(123,30,89)"
             ],
             [
              0.3764705882352941,
              "rgb(150,27,91)"
             ],
             [
              0.4392156862745098,
              "rgb(177,22,88)"
             ],
             [
              0.5019607843137255,
              "rgb(203,26,79)"
             ],
             [
              0.5647058823529412,
              "rgb(223,47,67)"
             ],
             [
              0.6274509803921569,
              "rgb(236,76,61)"
             ],
             [
              0.6901960784313725,
              "rgb(242,107,73)"
             ],
             [
              0.7529411764705882,
              "rgb(244,135,95)"
             ],
             [
              0.8156862745098039,
              "rgb(245,162,122)"
             ],
             [
              0.8784313725490196,
              "rgb(246,188,153)"
             ],
             [
              0.9411764705882353,
              "rgb(247,212,187)"
             ],
             [
              1,
              "rgb(250,234,220)"
             ]
            ],
            "type": "histogram2d"
           }
          ],
          "histogram2dcontour": [
           {
            "colorbar": {
             "outlinewidth": 0,
             "tickcolor": "rgb(36,36,36)",
             "ticklen": 8,
             "ticks": "outside",
             "tickwidth": 2
            },
            "colorscale": [
             [
              0,
              "rgb(2,4,25)"
             ],
             [
              0.06274509803921569,
              "rgb(24,15,41)"
             ],
             [
              0.12549019607843137,
              "rgb(47,23,57)"
             ],
             [
              0.18823529411764706,
              "rgb(71,28,72)"
             ],
             [
              0.25098039215686274,
              "rgb(97,30,82)"
             ],
             [
              0.3137254901960784,
              "rgb(123,30,89)"
             ],
             [
              0.3764705882352941,
              "rgb(150,27,91)"
             ],
             [
              0.4392156862745098,
              "rgb(177,22,88)"
             ],
             [
              0.5019607843137255,
              "rgb(203,26,79)"
             ],
             [
              0.5647058823529412,
              "rgb(223,47,67)"
             ],
             [
              0.6274509803921569,
              "rgb(236,76,61)"
             ],
             [
              0.6901960784313725,
              "rgb(242,107,73)"
             ],
             [
              0.7529411764705882,
              "rgb(244,135,95)"
             ],
             [
              0.8156862745098039,
              "rgb(245,162,122)"
             ],
             [
              0.8784313725490196,
              "rgb(246,188,153)"
             ],
             [
              0.9411764705882353,
              "rgb(247,212,187)"
             ],
             [
              1,
              "rgb(250,234,220)"
             ]
            ],
            "type": "histogram2dcontour"
           }
          ],
          "mesh3d": [
           {
            "colorbar": {
             "outlinewidth": 0,
             "tickcolor": "rgb(36,36,36)",
             "ticklen": 8,
             "ticks": "outside",
             "tickwidth": 2
            },
            "type": "mesh3d"
           }
          ],
          "parcoords": [
           {
            "line": {
             "colorbar": {
              "outlinewidth": 0,
              "tickcolor": "rgb(36,36,36)",
              "ticklen": 8,
              "ticks": "outside",
              "tickwidth": 2
             }
            },
            "type": "parcoords"
           }
          ],
          "pie": [
           {
            "automargin": true,
            "type": "pie"
           }
          ],
          "scatter": [
           {
            "fillpattern": {
             "fillmode": "overlay",
             "size": 10,
             "solidity": 0.2
            },
            "type": "scatter"
           }
          ],
          "scatter3d": [
           {
            "line": {
             "colorbar": {
              "outlinewidth": 0,
              "tickcolor": "rgb(36,36,36)",
              "ticklen": 8,
              "ticks": "outside",
              "tickwidth": 2
             }
            },
            "marker": {
             "colorbar": {
              "outlinewidth": 0,
              "tickcolor": "rgb(36,36,36)",
              "ticklen": 8,
              "ticks": "outside",
              "tickwidth": 2
             }
            },
            "type": "scatter3d"
           }
          ],
          "scattercarpet": [
           {
            "marker": {
             "colorbar": {
              "outlinewidth": 0,
              "tickcolor": "rgb(36,36,36)",
              "ticklen": 8,
              "ticks": "outside",
              "tickwidth": 2
             }
            },
            "type": "scattercarpet"
           }
          ],
          "scattergeo": [
           {
            "marker": {
             "colorbar": {
              "outlinewidth": 0,
              "tickcolor": "rgb(36,36,36)",
              "ticklen": 8,
              "ticks": "outside",
              "tickwidth": 2
             }
            },
            "type": "scattergeo"
           }
          ],
          "scattergl": [
           {
            "marker": {
             "colorbar": {
              "outlinewidth": 0,
              "tickcolor": "rgb(36,36,36)",
              "ticklen": 8,
              "ticks": "outside",
              "tickwidth": 2
             }
            },
            "type": "scattergl"
           }
          ],
          "scattermapbox": [
           {
            "marker": {
             "colorbar": {
              "outlinewidth": 0,
              "tickcolor": "rgb(36,36,36)",
              "ticklen": 8,
              "ticks": "outside",
              "tickwidth": 2
             }
            },
            "type": "scattermapbox"
           }
          ],
          "scatterpolar": [
           {
            "marker": {
             "colorbar": {
              "outlinewidth": 0,
              "tickcolor": "rgb(36,36,36)",
              "ticklen": 8,
              "ticks": "outside",
              "tickwidth": 2
             }
            },
            "type": "scatterpolar"
           }
          ],
          "scatterpolargl": [
           {
            "marker": {
             "colorbar": {
              "outlinewidth": 0,
              "tickcolor": "rgb(36,36,36)",
              "ticklen": 8,
              "ticks": "outside",
              "tickwidth": 2
             }
            },
            "type": "scatterpolargl"
           }
          ],
          "scatterternary": [
           {
            "marker": {
             "colorbar": {
              "outlinewidth": 0,
              "tickcolor": "rgb(36,36,36)",
              "ticklen": 8,
              "ticks": "outside",
              "tickwidth": 2
             }
            },
            "type": "scatterternary"
           }
          ],
          "surface": [
           {
            "colorbar": {
             "outlinewidth": 0,
             "tickcolor": "rgb(36,36,36)",
             "ticklen": 8,
             "ticks": "outside",
             "tickwidth": 2
            },
            "colorscale": [
             [
              0,
              "rgb(2,4,25)"
             ],
             [
              0.06274509803921569,
              "rgb(24,15,41)"
             ],
             [
              0.12549019607843137,
              "rgb(47,23,57)"
             ],
             [
              0.18823529411764706,
              "rgb(71,28,72)"
             ],
             [
              0.25098039215686274,
              "rgb(97,30,82)"
             ],
             [
              0.3137254901960784,
              "rgb(123,30,89)"
             ],
             [
              0.3764705882352941,
              "rgb(150,27,91)"
             ],
             [
              0.4392156862745098,
              "rgb(177,22,88)"
             ],
             [
              0.5019607843137255,
              "rgb(203,26,79)"
             ],
             [
              0.5647058823529412,
              "rgb(223,47,67)"
             ],
             [
              0.6274509803921569,
              "rgb(236,76,61)"
             ],
             [
              0.6901960784313725,
              "rgb(242,107,73)"
             ],
             [
              0.7529411764705882,
              "rgb(244,135,95)"
             ],
             [
              0.8156862745098039,
              "rgb(245,162,122)"
             ],
             [
              0.8784313725490196,
              "rgb(246,188,153)"
             ],
             [
              0.9411764705882353,
              "rgb(247,212,187)"
             ],
             [
              1,
              "rgb(250,234,220)"
             ]
            ],
            "type": "surface"
           }
          ],
          "table": [
           {
            "cells": {
             "fill": {
              "color": "rgb(231,231,240)"
             },
             "line": {
              "color": "white"
             }
            },
            "header": {
             "fill": {
              "color": "rgb(183,183,191)"
             },
             "line": {
              "color": "white"
             }
            },
            "type": "table"
           }
          ]
         },
         "layout": {
          "annotationdefaults": {
           "arrowcolor": "rgb(67,103,167)"
          },
          "autotypenumbers": "strict",
          "coloraxis": {
           "colorbar": {
            "outlinewidth": 0,
            "tickcolor": "rgb(36,36,36)",
            "ticklen": 8,
            "ticks": "outside",
            "tickwidth": 2
           }
          },
          "colorscale": {
           "sequential": [
            [
             0,
             "rgb(2,4,25)"
            ],
            [
             0.06274509803921569,
             "rgb(24,15,41)"
            ],
            [
             0.12549019607843137,
             "rgb(47,23,57)"
            ],
            [
             0.18823529411764706,
             "rgb(71,28,72)"
            ],
            [
             0.25098039215686274,
             "rgb(97,30,82)"
            ],
            [
             0.3137254901960784,
             "rgb(123,30,89)"
            ],
            [
             0.3764705882352941,
             "rgb(150,27,91)"
            ],
            [
             0.4392156862745098,
             "rgb(177,22,88)"
            ],
            [
             0.5019607843137255,
             "rgb(203,26,79)"
            ],
            [
             0.5647058823529412,
             "rgb(223,47,67)"
            ],
            [
             0.6274509803921569,
             "rgb(236,76,61)"
            ],
            [
             0.6901960784313725,
             "rgb(242,107,73)"
            ],
            [
             0.7529411764705882,
             "rgb(244,135,95)"
            ],
            [
             0.8156862745098039,
             "rgb(245,162,122)"
            ],
            [
             0.8784313725490196,
             "rgb(246,188,153)"
            ],
            [
             0.9411764705882353,
             "rgb(247,212,187)"
            ],
            [
             1,
             "rgb(250,234,220)"
            ]
           ],
           "sequentialminus": [
            [
             0,
             "rgb(2,4,25)"
            ],
            [
             0.06274509803921569,
             "rgb(24,15,41)"
            ],
            [
             0.12549019607843137,
             "rgb(47,23,57)"
            ],
            [
             0.18823529411764706,
             "rgb(71,28,72)"
            ],
            [
             0.25098039215686274,
             "rgb(97,30,82)"
            ],
            [
             0.3137254901960784,
             "rgb(123,30,89)"
            ],
            [
             0.3764705882352941,
             "rgb(150,27,91)"
            ],
            [
             0.4392156862745098,
             "rgb(177,22,88)"
            ],
            [
             0.5019607843137255,
             "rgb(203,26,79)"
            ],
            [
             0.5647058823529412,
             "rgb(223,47,67)"
            ],
            [
             0.6274509803921569,
             "rgb(236,76,61)"
            ],
            [
             0.6901960784313725,
             "rgb(242,107,73)"
            ],
            [
             0.7529411764705882,
             "rgb(244,135,95)"
            ],
            [
             0.8156862745098039,
             "rgb(245,162,122)"
            ],
            [
             0.8784313725490196,
             "rgb(246,188,153)"
            ],
            [
             0.9411764705882353,
             "rgb(247,212,187)"
            ],
            [
             1,
             "rgb(250,234,220)"
            ]
           ]
          },
          "colorway": [
           "rgb(76,114,176)",
           "rgb(221,132,82)",
           "rgb(85,168,104)",
           "rgb(196,78,82)",
           "rgb(129,114,179)",
           "rgb(147,120,96)",
           "rgb(218,139,195)",
           "rgb(140,140,140)",
           "rgb(204,185,116)",
           "rgb(100,181,205)"
          ],
          "font": {
           "color": "rgb(36,36,36)"
          },
          "geo": {
           "bgcolor": "white",
           "lakecolor": "white",
           "landcolor": "rgb(234,234,242)",
           "showlakes": true,
           "showland": true,
           "subunitcolor": "white"
          },
          "hoverlabel": {
           "align": "left"
          },
          "hovermode": "closest",
          "paper_bgcolor": "white",
          "plot_bgcolor": "rgb(234,234,242)",
          "polar": {
           "angularaxis": {
            "gridcolor": "white",
            "linecolor": "white",
            "showgrid": true,
            "ticks": ""
           },
           "bgcolor": "rgb(234,234,242)",
           "radialaxis": {
            "gridcolor": "white",
            "linecolor": "white",
            "showgrid": true,
            "ticks": ""
           }
          },
          "scene": {
           "xaxis": {
            "backgroundcolor": "rgb(234,234,242)",
            "gridcolor": "white",
            "gridwidth": 2,
            "linecolor": "white",
            "showbackground": true,
            "showgrid": true,
            "ticks": "",
            "zerolinecolor": "white"
           },
           "yaxis": {
            "backgroundcolor": "rgb(234,234,242)",
            "gridcolor": "white",
            "gridwidth": 2,
            "linecolor": "white",
            "showbackground": true,
            "showgrid": true,
            "ticks": "",
            "zerolinecolor": "white"
           },
           "zaxis": {
            "backgroundcolor": "rgb(234,234,242)",
            "gridcolor": "white",
            "gridwidth": 2,
            "linecolor": "white",
            "showbackground": true,
            "showgrid": true,
            "ticks": "",
            "zerolinecolor": "white"
           }
          },
          "shapedefaults": {
           "fillcolor": "rgb(67,103,167)",
           "line": {
            "width": 0
           },
           "opacity": 0.5
          },
          "ternary": {
           "aaxis": {
            "gridcolor": "white",
            "linecolor": "white",
            "showgrid": true,
            "ticks": ""
           },
           "baxis": {
            "gridcolor": "white",
            "linecolor": "white",
            "showgrid": true,
            "ticks": ""
           },
           "bgcolor": "rgb(234,234,242)",
           "caxis": {
            "gridcolor": "white",
            "linecolor": "white",
            "showgrid": true,
            "ticks": ""
           }
          },
          "xaxis": {
           "automargin": true,
           "gridcolor": "white",
           "linecolor": "white",
           "showgrid": true,
           "ticks": "",
           "title": {
            "standoff": 15
           },
           "zerolinecolor": "white"
          },
          "yaxis": {
           "automargin": true,
           "gridcolor": "white",
           "linecolor": "white",
           "showgrid": true,
           "ticks": "",
           "title": {
            "standoff": 15
           },
           "zerolinecolor": "white"
          }
         }
        },
        "title": {
         "text": "Consumer Price Index, Rents & Housing Sydney"
        },
        "width": 1320,
        "yaxis": {
         "title": {
          "text": "Unknown"
         },
         "type": "linear"
        }
       }
      }
     },
     "metadata": {},
     "output_type": "display_data"
    }
   ],
   "source": [
    "# Option A: specify figsize (in inches) and dpi -> Plotly width/height = inches * dpi\n",
    "fogur = watchlist.plot_watchlist([\"A2603609J\", 'A2325941A', \"A2326391L\"], [], \n",
    "                        plot_title = \"Consumer Price Index, Rents & Housing Sydney\", \n",
    "                        # other_series={\"right\": [rent_yoy, housing_yoy]}, \n",
    "                        # x_start_date=\"1975-01-01\",\n",
    "                        right_axis_title = \"Year-on-year % change\"         # converts to 1000x600 pixels\n",
    ")\n",
    "fogur.show()"
   ]
  },
  {
   "cell_type": "code",
   "execution_count": 10,
   "metadata": {},
   "outputs": [
    {
     "data": {
      "application/vnd.plotly.v1+json": {
       "config": {
        "plotlyServerURL": "https://plot.ly"
       },
       "data": [
        {
         "mode": "lines",
         "name": "Government debt (% of GDP)",
         "type": "scatter",
         "x": [
          "2015-01-01T00:00:00",
          "2016-01-01T00:00:00",
          "2017-01-01T00:00:00",
          "2018-01-01T00:00:00",
          "2019-01-01T00:00:00",
          "2020-01-01T00:00:00",
          "2021-01-01T00:00:00",
          "2022-01-01T00:00:00",
          "2023-01-01T00:00:00",
          "2024-01-01T00:00:00"
         ],
         "xaxis": "x",
         "y": [
          15.1,
          18.3,
          18.3,
          18.5,
          19.2,
          24.8,
          36.1,
          40.4,
          42.8,
          43.8
         ],
         "yaxis": "y"
        },
        {
         "mode": "lines",
         "name": "Private debt",
         "type": "scatter",
         "x": [
          0,
          1,
          2
         ],
         "xaxis": "x",
         "y": [
          "Data pull failed for this series.",
          "Devo bro....",
          "Error messsage: 'NoneType' object has no attribute 'series'"
         ],
         "yaxis": "y2"
        }
       ],
       "layout": {
        "font": {
         "color": "black",
         "family": "Arial, sans-serif",
         "size": 14
        },
        "height": 600,
        "hovermode": "x unified",
        "legend": {
         "bgcolor": "rgba(255,255,255,0)",
         "bordercolor": "rgba(255,255,255,0)",
         "orientation": "h",
         "x": 0.5,
         "xanchor": "center",
         "y": -0.22,
         "yanchor": "top"
        },
        "margin": {
         "b": 110,
         "l": 50,
         "r": 50,
         "t": 40
        },
        "template": {
         "data": {
          "bar": [
           {
            "error_x": {
             "color": "#2a3f5f"
            },
            "error_y": {
             "color": "#2a3f5f"
            },
            "marker": {
             "line": {
              "color": "white",
              "width": 0.5
             },
             "pattern": {
              "fillmode": "overlay",
              "size": 10,
              "solidity": 0.2
             }
            },
            "type": "bar"
           }
          ],
          "barpolar": [
           {
            "marker": {
             "line": {
              "color": "white",
              "width": 0.5
             },
             "pattern": {
              "fillmode": "overlay",
              "size": 10,
              "solidity": 0.2
             }
            },
            "type": "barpolar"
           }
          ],
          "carpet": [
           {
            "aaxis": {
             "endlinecolor": "#2a3f5f",
             "gridcolor": "#C8D4E3",
             "linecolor": "#C8D4E3",
             "minorgridcolor": "#C8D4E3",
             "startlinecolor": "#2a3f5f"
            },
            "baxis": {
             "endlinecolor": "#2a3f5f",
             "gridcolor": "#C8D4E3",
             "linecolor": "#C8D4E3",
             "minorgridcolor": "#C8D4E3",
             "startlinecolor": "#2a3f5f"
            },
            "type": "carpet"
           }
          ],
          "choropleth": [
           {
            "colorbar": {
             "outlinewidth": 0,
             "ticks": ""
            },
            "type": "choropleth"
           }
          ],
          "contour": [
           {
            "colorbar": {
             "outlinewidth": 0,
             "ticks": ""
            },
            "colorscale": [
             [
              0,
              "#0d0887"
             ],
             [
              0.1111111111111111,
              "#46039f"
             ],
             [
              0.2222222222222222,
              "#7201a8"
             ],
             [
              0.3333333333333333,
              "#9c179e"
             ],
             [
              0.4444444444444444,
              "#bd3786"
             ],
             [
              0.5555555555555556,
              "#d8576b"
             ],
             [
              0.6666666666666666,
              "#ed7953"
             ],
             [
              0.7777777777777778,
              "#fb9f3a"
             ],
             [
              0.8888888888888888,
              "#fdca26"
             ],
             [
              1,
              "#f0f921"
             ]
            ],
            "type": "contour"
           }
          ],
          "contourcarpet": [
           {
            "colorbar": {
             "outlinewidth": 0,
             "ticks": ""
            },
            "type": "contourcarpet"
           }
          ],
          "heatmap": [
           {
            "colorbar": {
             "outlinewidth": 0,
             "ticks": ""
            },
            "colorscale": [
             [
              0,
              "#0d0887"
             ],
             [
              0.1111111111111111,
              "#46039f"
             ],
             [
              0.2222222222222222,
              "#7201a8"
             ],
             [
              0.3333333333333333,
              "#9c179e"
             ],
             [
              0.4444444444444444,
              "#bd3786"
             ],
             [
              0.5555555555555556,
              "#d8576b"
             ],
             [
              0.6666666666666666,
              "#ed7953"
             ],
             [
              0.7777777777777778,
              "#fb9f3a"
             ],
             [
              0.8888888888888888,
              "#fdca26"
             ],
             [
              1,
              "#f0f921"
             ]
            ],
            "type": "heatmap"
           }
          ],
          "heatmapgl": [
           {
            "colorbar": {
             "outlinewidth": 0,
             "ticks": ""
            },
            "colorscale": [
             [
              0,
              "#0d0887"
             ],
             [
              0.1111111111111111,
              "#46039f"
             ],
             [
              0.2222222222222222,
              "#7201a8"
             ],
             [
              0.3333333333333333,
              "#9c179e"
             ],
             [
              0.4444444444444444,
              "#bd3786"
             ],
             [
              0.5555555555555556,
              "#d8576b"
             ],
             [
              0.6666666666666666,
              "#ed7953"
             ],
             [
              0.7777777777777778,
              "#fb9f3a"
             ],
             [
              0.8888888888888888,
              "#fdca26"
             ],
             [
              1,
              "#f0f921"
             ]
            ],
            "type": "heatmapgl"
           }
          ],
          "histogram": [
           {
            "marker": {
             "pattern": {
              "fillmode": "overlay",
              "size": 10,
              "solidity": 0.2
             }
            },
            "type": "histogram"
           }
          ],
          "histogram2d": [
           {
            "colorbar": {
             "outlinewidth": 0,
             "ticks": ""
            },
            "colorscale": [
             [
              0,
              "#0d0887"
             ],
             [
              0.1111111111111111,
              "#46039f"
             ],
             [
              0.2222222222222222,
              "#7201a8"
             ],
             [
              0.3333333333333333,
              "#9c179e"
             ],
             [
              0.4444444444444444,
              "#bd3786"
             ],
             [
              0.5555555555555556,
              "#d8576b"
             ],
             [
              0.6666666666666666,
              "#ed7953"
             ],
             [
              0.7777777777777778,
              "#fb9f3a"
             ],
             [
              0.8888888888888888,
              "#fdca26"
             ],
             [
              1,
              "#f0f921"
             ]
            ],
            "type": "histogram2d"
           }
          ],
          "histogram2dcontour": [
           {
            "colorbar": {
             "outlinewidth": 0,
             "ticks": ""
            },
            "colorscale": [
             [
              0,
              "#0d0887"
             ],
             [
              0.1111111111111111,
              "#46039f"
             ],
             [
              0.2222222222222222,
              "#7201a8"
             ],
             [
              0.3333333333333333,
              "#9c179e"
             ],
             [
              0.4444444444444444,
              "#bd3786"
             ],
             [
              0.5555555555555556,
              "#d8576b"
             ],
             [
              0.6666666666666666,
              "#ed7953"
             ],
             [
              0.7777777777777778,
              "#fb9f3a"
             ],
             [
              0.8888888888888888,
              "#fdca26"
             ],
             [
              1,
              "#f0f921"
             ]
            ],
            "type": "histogram2dcontour"
           }
          ],
          "mesh3d": [
           {
            "colorbar": {
             "outlinewidth": 0,
             "ticks": ""
            },
            "type": "mesh3d"
           }
          ],
          "parcoords": [
           {
            "line": {
             "colorbar": {
              "outlinewidth": 0,
              "ticks": ""
             }
            },
            "type": "parcoords"
           }
          ],
          "pie": [
           {
            "automargin": true,
            "type": "pie"
           }
          ],
          "scatter": [
           {
            "fillpattern": {
             "fillmode": "overlay",
             "size": 10,
             "solidity": 0.2
            },
            "type": "scatter"
           }
          ],
          "scatter3d": [
           {
            "line": {
             "colorbar": {
              "outlinewidth": 0,
              "ticks": ""
             }
            },
            "marker": {
             "colorbar": {
              "outlinewidth": 0,
              "ticks": ""
             }
            },
            "type": "scatter3d"
           }
          ],
          "scattercarpet": [
           {
            "marker": {
             "colorbar": {
              "outlinewidth": 0,
              "ticks": ""
             }
            },
            "type": "scattercarpet"
           }
          ],
          "scattergeo": [
           {
            "marker": {
             "colorbar": {
              "outlinewidth": 0,
              "ticks": ""
             }
            },
            "type": "scattergeo"
           }
          ],
          "scattergl": [
           {
            "marker": {
             "colorbar": {
              "outlinewidth": 0,
              "ticks": ""
             }
            },
            "type": "scattergl"
           }
          ],
          "scattermapbox": [
           {
            "marker": {
             "colorbar": {
              "outlinewidth": 0,
              "ticks": ""
             }
            },
            "type": "scattermapbox"
           }
          ],
          "scatterpolar": [
           {
            "marker": {
             "colorbar": {
              "outlinewidth": 0,
              "ticks": ""
             }
            },
            "type": "scatterpolar"
           }
          ],
          "scatterpolargl": [
           {
            "marker": {
             "colorbar": {
              "outlinewidth": 0,
              "ticks": ""
             }
            },
            "type": "scatterpolargl"
           }
          ],
          "scatterternary": [
           {
            "marker": {
             "colorbar": {
              "outlinewidth": 0,
              "ticks": ""
             }
            },
            "type": "scatterternary"
           }
          ],
          "surface": [
           {
            "colorbar": {
             "outlinewidth": 0,
             "ticks": ""
            },
            "colorscale": [
             [
              0,
              "#0d0887"
             ],
             [
              0.1111111111111111,
              "#46039f"
             ],
             [
              0.2222222222222222,
              "#7201a8"
             ],
             [
              0.3333333333333333,
              "#9c179e"
             ],
             [
              0.4444444444444444,
              "#bd3786"
             ],
             [
              0.5555555555555556,
              "#d8576b"
             ],
             [
              0.6666666666666666,
              "#ed7953"
             ],
             [
              0.7777777777777778,
              "#fb9f3a"
             ],
             [
              0.8888888888888888,
              "#fdca26"
             ],
             [
              1,
              "#f0f921"
             ]
            ],
            "type": "surface"
           }
          ],
          "table": [
           {
            "cells": {
             "fill": {
              "color": "#EBF0F8"
             },
             "line": {
              "color": "white"
             }
            },
            "header": {
             "fill": {
              "color": "#C8D4E3"
             },
             "line": {
              "color": "white"
             }
            },
            "type": "table"
           }
          ]
         },
         "layout": {
          "annotationdefaults": {
           "arrowcolor": "#2a3f5f",
           "arrowhead": 0,
           "arrowwidth": 1
          },
          "autotypenumbers": "strict",
          "coloraxis": {
           "colorbar": {
            "outlinewidth": 0,
            "ticks": ""
           }
          },
          "colorscale": {
           "diverging": [
            [
             0,
             "#8e0152"
            ],
            [
             0.1,
             "#c51b7d"
            ],
            [
             0.2,
             "#de77ae"
            ],
            [
             0.3,
             "#f1b6da"
            ],
            [
             0.4,
             "#fde0ef"
            ],
            [
             0.5,
             "#f7f7f7"
            ],
            [
             0.6,
             "#e6f5d0"
            ],
            [
             0.7,
             "#b8e186"
            ],
            [
             0.8,
             "#7fbc41"
            ],
            [
             0.9,
             "#4d9221"
            ],
            [
             1,
             "#276419"
            ]
           ],
           "sequential": [
            [
             0,
             "#0d0887"
            ],
            [
             0.1111111111111111,
             "#46039f"
            ],
            [
             0.2222222222222222,
             "#7201a8"
            ],
            [
             0.3333333333333333,
             "#9c179e"
            ],
            [
             0.4444444444444444,
             "#bd3786"
            ],
            [
             0.5555555555555556,
             "#d8576b"
            ],
            [
             0.6666666666666666,
             "#ed7953"
            ],
            [
             0.7777777777777778,
             "#fb9f3a"
            ],
            [
             0.8888888888888888,
             "#fdca26"
            ],
            [
             1,
             "#f0f921"
            ]
           ],
           "sequentialminus": [
            [
             0,
             "#0d0887"
            ],
            [
             0.1111111111111111,
             "#46039f"
            ],
            [
             0.2222222222222222,
             "#7201a8"
            ],
            [
             0.3333333333333333,
             "#9c179e"
            ],
            [
             0.4444444444444444,
             "#bd3786"
            ],
            [
             0.5555555555555556,
             "#d8576b"
            ],
            [
             0.6666666666666666,
             "#ed7953"
            ],
            [
             0.7777777777777778,
             "#fb9f3a"
            ],
            [
             0.8888888888888888,
             "#fdca26"
            ],
            [
             1,
             "#f0f921"
            ]
           ]
          },
          "colorway": [
           "#636efa",
           "#EF553B",
           "#00cc96",
           "#ab63fa",
           "#FFA15A",
           "#19d3f3",
           "#FF6692",
           "#B6E880",
           "#FF97FF",
           "#FECB52"
          ],
          "font": {
           "color": "#2a3f5f"
          },
          "geo": {
           "bgcolor": "white",
           "lakecolor": "white",
           "landcolor": "white",
           "showlakes": true,
           "showland": true,
           "subunitcolor": "#C8D4E3"
          },
          "hoverlabel": {
           "align": "left"
          },
          "hovermode": "closest",
          "mapbox": {
           "style": "light"
          },
          "paper_bgcolor": "white",
          "plot_bgcolor": "white",
          "polar": {
           "angularaxis": {
            "gridcolor": "#EBF0F8",
            "linecolor": "#EBF0F8",
            "ticks": ""
           },
           "bgcolor": "white",
           "radialaxis": {
            "gridcolor": "#EBF0F8",
            "linecolor": "#EBF0F8",
            "ticks": ""
           }
          },
          "scene": {
           "xaxis": {
            "backgroundcolor": "white",
            "gridcolor": "#DFE8F3",
            "gridwidth": 2,
            "linecolor": "#EBF0F8",
            "showbackground": true,
            "ticks": "",
            "zerolinecolor": "#EBF0F8"
           },
           "yaxis": {
            "backgroundcolor": "white",
            "gridcolor": "#DFE8F3",
            "gridwidth": 2,
            "linecolor": "#EBF0F8",
            "showbackground": true,
            "ticks": "",
            "zerolinecolor": "#EBF0F8"
           },
           "zaxis": {
            "backgroundcolor": "white",
            "gridcolor": "#DFE8F3",
            "gridwidth": 2,
            "linecolor": "#EBF0F8",
            "showbackground": true,
            "ticks": "",
            "zerolinecolor": "#EBF0F8"
           }
          },
          "shapedefaults": {
           "line": {
            "color": "#2a3f5f"
           }
          },
          "ternary": {
           "aaxis": {
            "gridcolor": "#DFE8F3",
            "linecolor": "#A2B1C6",
            "ticks": ""
           },
           "baxis": {
            "gridcolor": "#DFE8F3",
            "linecolor": "#A2B1C6",
            "ticks": ""
           },
           "bgcolor": "white",
           "caxis": {
            "gridcolor": "#DFE8F3",
            "linecolor": "#A2B1C6",
            "ticks": ""
           }
          },
          "title": {
           "x": 0.05
          },
          "xaxis": {
           "automargin": true,
           "gridcolor": "#EBF0F8",
           "linecolor": "#EBF0F8",
           "ticks": "",
           "title": {
            "standoff": 15
           },
           "zerolinecolor": "#EBF0F8",
           "zerolinewidth": 2
          },
          "yaxis": {
           "automargin": true,
           "gridcolor": "#EBF0F8",
           "linecolor": "#EBF0F8",
           "ticks": "",
           "title": {
            "standoff": 15
           },
           "zerolinecolor": "#EBF0F8",
           "zerolinewidth": 2
          }
         }
        },
        "title": {
         "text": "Australia: Major Debt Stocks"
        },
        "width": 1000,
        "xaxis": {
         "anchor": "y",
         "domain": [
          0,
          0.94
         ]
        },
        "yaxis": {
         "anchor": "x",
         "domain": [
          0,
          1
         ],
         "title": {
          "text": "Government debt (% of GDP)"
         },
         "type": "linear"
        },
        "yaxis2": {
         "anchor": "x",
         "overlaying": "y",
         "showgrid": false,
         "side": "right",
         "title": {
          "text": "Debt (% of GDP)"
         },
         "type": "linear"
        }
       }
      }
     },
     "metadata": {},
     "output_type": "display_data"
    }
   ],
   "source": [
    "fig2 = MacroBackend.charting_plotly.dual_axis_basic_plot({\"Government debt (% of GDP)\": watchlist[\"watchlist_datasets\"][\"australia/government-debt-to-gdp\"]},\n",
    "                                                        secondary_data={\"Private debt\": watchlist[\"watchlist_datasets\"]['australia/private-debt-to-gdp'],\n",
    "                                                        #\"Debt - households\": watchlist[\"watchlist_datasets\"]['australia/households-debt-to-gdp'],\n",
    "                                                        },\n",
    "                                                        title=\"Australia: Major Debt Stocks\",\n",
    "                                                        primary_yaxis_title=\"Government debt (% of GDP)\", secondary_yaxis_title=\"Debt (% of GDP)\")\n",
    "fig2.show()\n"
   ]
  },
  {
   "cell_type": "markdown",
   "metadata": {},
   "source": [
    "# Consumer Price Index Data from ABS, Rents & Housing Sydney"
   ]
  },
  {
   "cell_type": "code",
   "execution_count": 48,
   "metadata": {},
   "outputs": [
    {
     "name": "stdout",
     "output_type": "stream",
     "text": [
      "Duplicate indexes found in watchlist & will be dropped:  []\n",
      "Duplicate columns found in metadata & will be dropped:  []\n",
      "Duplicate columns found in metadata & will be dropped:  []\n",
      "Running watchlist update_metadata method.....\n",
      "Running watchlist update_metadata method.....\n"
     ]
    }
   ],
   "source": [
    "watchlist.rename_series({'A2325846C': 'CPI Australia', 'A2326391L': 'CPI: Rent, Sydney', \"A2325941A\": \"CPI: Housing, Sydney\"})"
   ]
  },
  {
   "cell_type": "code",
   "execution_count": 49,
   "metadata": {},
   "outputs": [],
   "source": [
    "rent_yoy = (watchlist[\"watchlist_datasets\"][\"A2326391L\"].pct_change(4)*100).rename(\"Rent Sydney (YoY % change)\")\n",
    "housing_yoy = (watchlist[\"watchlist_datasets\"][\"A2325941A\"].pct_change(4)*100).rename(\"Housing Sydney (YoY % change)\")"
   ]
  },
  {
   "cell_type": "code",
   "execution_count": 38,
   "metadata": {},
   "outputs": [
    {
     "data": {
      "text/plain": [
       "1948-09-01      3.7\n",
       "1948-12-01      3.8\n",
       "1949-03-01      3.9\n",
       "1949-06-01      4.0\n",
       "1949-09-01      4.1\n",
       "              ...  \n",
       "2024-06-01    138.8\n",
       "2024-09-01    139.1\n",
       "2024-12-01    139.4\n",
       "2025-03-01    140.7\n",
       "2025-06-01    141.7\n",
       "Name: Index Numbers ;  All groups CPI ;  Australia ;, Length: 308, dtype: float64"
      ]
     },
     "execution_count": 38,
     "metadata": {},
     "output_type": "execute_result"
    }
   ],
   "source": [
    "watchlist[\"watchlist_datasets\"]['A2325846C']"
   ]
  },
  {
   "cell_type": "code",
   "execution_count": 48,
   "metadata": {},
   "outputs": [
    {
     "data": {
      "text/plain": [
       "1997-09-01    108.562763\n",
       "1997-12-01    109.211377\n",
       "1998-03-01    109.694328\n",
       "1998-06-01    109.686647\n",
       "1998-09-01    110.648296\n",
       "                 ...    \n",
       "2024-06-01    118.006052\n",
       "2024-09-01    119.310137\n",
       "2024-12-01    119.830990\n",
       "2025-03-01    119.648330\n",
       "2025-06-01    119.492449\n",
       "Name: WPI deflated by CPI (Real), Length: 112, dtype: float64"
      ]
     },
     "execution_count": 48,
     "metadata": {},
     "output_type": "execute_result"
    }
   ],
   "source": [
    "# create CPI deflator relative to a base date\n",
    "cpi = watchlist[\"watchlist_datasets\"][\"A2325846C\"].copy()\n",
    "cpi.index = pd.to_datetime(cpi.index)\n",
    "\n",
    "base_date = \"2015-12-01\"  # set the base date you want (YYYY-MM-DD)\n",
    "def _value_at_or_nearest(series, dt):\n",
    "    dt = pd.to_datetime(dt)\n",
    "    if dt in series.index:\n",
    "        return float(series.loc[dt])\n",
    "    before = series.loc[:dt].dropna()\n",
    "    if not before.empty:\n",
    "        return float(before.iloc[-1])\n",
    "    after = series.loc[dt:].dropna()\n",
    "    if not after.empty:\n",
    "        return float(after.iloc[0])\n",
    "    raise ValueError(f\"No valid data in series around {dt}\")\n",
    "\n",
    "base_value = _value_at_or_nearest(cpi, base_date)\n",
    "cpi_deflator = cpi / float(base_value)\n",
    "wpi = watchlist[\"watchlist_datasets\"][\"A2603609J\"]\n",
    "wpi_real = (wpi / cpi_deflator).rename(\"WPI deflated by CPI (Real)\").dropna()\n",
    "wpi_real"
   ]
  },
  {
   "cell_type": "code",
   "execution_count": 47,
   "metadata": {},
   "outputs": [
    {
     "data": {
      "application/vnd.plotly.v1+json": {
       "config": {
        "plotlyServerURL": "https://plot.ly"
       },
       "data": [
        {
         "mode": "lines",
         "name": "Quarterly Index ;  Total hourly rates of pay excluding bonuses ;  Australia ;  Private and Public ;  All industries ;",
         "type": "scatter",
         "x": [
          "1997-09-01T00:00:00",
          "1997-12-01T00:00:00",
          "1998-03-01T00:00:00",
          "1998-06-01T00:00:00",
          "1998-09-01T00:00:00",
          "1998-12-01T00:00:00",
          "1999-03-01T00:00:00",
          "1999-06-01T00:00:00",
          "1999-09-01T00:00:00",
          "1999-12-01T00:00:00",
          "2000-03-01T00:00:00",
          "2000-06-01T00:00:00",
          "2000-09-01T00:00:00",
          "2000-12-01T00:00:00",
          "2001-03-01T00:00:00",
          "2001-06-01T00:00:00",
          "2001-09-01T00:00:00",
          "2001-12-01T00:00:00",
          "2002-03-01T00:00:00",
          "2002-06-01T00:00:00",
          "2002-09-01T00:00:00",
          "2002-12-01T00:00:00",
          "2003-03-01T00:00:00",
          "2003-06-01T00:00:00",
          "2003-09-01T00:00:00",
          "2003-12-01T00:00:00",
          "2004-03-01T00:00:00",
          "2004-06-01T00:00:00",
          "2004-09-01T00:00:00",
          "2004-12-01T00:00:00",
          "2005-03-01T00:00:00",
          "2005-06-01T00:00:00",
          "2005-09-01T00:00:00",
          "2005-12-01T00:00:00",
          "2006-03-01T00:00:00",
          "2006-06-01T00:00:00",
          "2006-09-01T00:00:00",
          "2006-12-01T00:00:00",
          "2007-03-01T00:00:00",
          "2007-06-01T00:00:00",
          "2007-09-01T00:00:00",
          "2007-12-01T00:00:00",
          "2008-03-01T00:00:00",
          "2008-06-01T00:00:00",
          "2008-09-01T00:00:00",
          "2008-12-01T00:00:00",
          "2009-03-01T00:00:00",
          "2009-06-01T00:00:00",
          "2009-09-01T00:00:00",
          "2009-12-01T00:00:00",
          "2010-03-01T00:00:00",
          "2010-06-01T00:00:00",
          "2010-09-01T00:00:00",
          "2010-12-01T00:00:00",
          "2011-03-01T00:00:00",
          "2011-06-01T00:00:00",
          "2011-09-01T00:00:00",
          "2011-12-01T00:00:00",
          "2012-03-01T00:00:00",
          "2012-06-01T00:00:00",
          "2012-09-01T00:00:00",
          "2012-12-01T00:00:00",
          "2013-03-01T00:00:00",
          "2013-06-01T00:00:00",
          "2013-09-01T00:00:00",
          "2013-12-01T00:00:00",
          "2014-03-01T00:00:00",
          "2014-06-01T00:00:00",
          "2014-09-01T00:00:00",
          "2014-12-01T00:00:00",
          "2015-03-01T00:00:00",
          "2015-06-01T00:00:00",
          "2015-09-01T00:00:00",
          "2015-12-01T00:00:00",
          "2016-03-01T00:00:00",
          "2016-06-01T00:00:00",
          "2016-09-01T00:00:00",
          "2016-12-01T00:00:00",
          "2017-03-01T00:00:00",
          "2017-06-01T00:00:00",
          "2017-09-01T00:00:00",
          "2017-12-01T00:00:00",
          "2018-03-01T00:00:00",
          "2018-06-01T00:00:00",
          "2018-09-01T00:00:00",
          "2018-12-01T00:00:00",
          "2019-03-01T00:00:00",
          "2019-06-01T00:00:00",
          "2019-09-01T00:00:00",
          "2019-12-01T00:00:00",
          "2020-03-01T00:00:00",
          "2020-06-01T00:00:00",
          "2020-09-01T00:00:00",
          "2020-12-01T00:00:00",
          "2021-03-01T00:00:00",
          "2021-06-01T00:00:00",
          "2021-09-01T00:00:00",
          "2021-12-01T00:00:00",
          "2022-03-01T00:00:00",
          "2022-06-01T00:00:00",
          "2022-09-01T00:00:00",
          "2022-12-01T00:00:00",
          "2023-03-01T00:00:00",
          "2023-06-01T00:00:00",
          "2023-09-01T00:00:00",
          "2023-12-01T00:00:00",
          "2024-03-01T00:00:00",
          "2024-06-01T00:00:00",
          "2024-09-01T00:00:00",
          "2024-12-01T00:00:00",
          "2025-03-01T00:00:00",
          "2025-06-01T00:00:00"
         ],
         "xaxis": "x",
         "y": [
          66.7,
          67.3,
          67.8,
          68.2,
          68.9,
          69.3,
          70,
          70.3,
          71,
          71.4,
          71.9,
          72.3,
          73.2,
          73.8,
          74.6,
          75,
          75.8,
          76.4,
          76.9,
          77.4,
          78.3,
          78.9,
          79.7,
          80.1,
          81.1,
          81.9,
          82.5,
          82.9,
          84,
          84.8,
          85.7,
          86.3,
          87.5,
          88.3,
          89.2,
          89.9,
          90.9,
          91.8,
          92.8,
          93.5,
          94.8,
          95.7,
          96.6,
          97.5,
          98.6,
          99.8,
          100.5,
          101.1,
          102,
          102.7,
          103.6,
          104.2,
          105.7,
          106.6,
          107.6,
          108.2,
          109.5,
          110.5,
          111.4,
          112.2,
          113.5,
          114.3,
          115,
          115.5,
          116.6,
          117.2,
          118,
          118.5,
          119.5,
          120.2,
          120.7,
          121.2,
          122.2,
          122.7,
          123.2,
          123.7,
          124.6,
          125.1,
          125.6,
          126.1,
          127.1,
          127.7,
          128.2,
          128.7,
          130,
          130.6,
          131.2,
          131.8,
          132.9,
          133.5,
          134.1,
          134.1,
          134.7,
          135.4,
          136.1,
          136.5,
          137.7,
          138.5,
          139.3,
          140.1,
          142.1,
          143.2,
          144.3,
          145.2,
          147.9,
          149.3,
          150.2,
          151.1,
          153.1,
          154.1,
          155.3,
          156.2
         ],
         "yaxis": "y"
        },
        {
         "mode": "lines",
         "name": "WPI deflated by CPI(Real)",
         "type": "scatter",
         "x": [
          "1997-09-01T00:00:00",
          "1997-12-01T00:00:00",
          "1998-03-01T00:00:00",
          "1998-06-01T00:00:00",
          "1998-09-01T00:00:00",
          "1998-12-01T00:00:00",
          "1999-03-01T00:00:00",
          "1999-06-01T00:00:00",
          "1999-09-01T00:00:00",
          "1999-12-01T00:00:00",
          "2000-03-01T00:00:00",
          "2000-06-01T00:00:00",
          "2000-09-01T00:00:00",
          "2000-12-01T00:00:00",
          "2001-03-01T00:00:00",
          "2001-06-01T00:00:00",
          "2001-09-01T00:00:00",
          "2001-12-01T00:00:00",
          "2002-03-01T00:00:00",
          "2002-06-01T00:00:00",
          "2002-09-01T00:00:00",
          "2002-12-01T00:00:00",
          "2003-03-01T00:00:00",
          "2003-06-01T00:00:00",
          "2003-09-01T00:00:00",
          "2003-12-01T00:00:00",
          "2004-03-01T00:00:00",
          "2004-06-01T00:00:00",
          "2004-09-01T00:00:00",
          "2004-12-01T00:00:00",
          "2005-03-01T00:00:00",
          "2005-06-01T00:00:00",
          "2005-09-01T00:00:00",
          "2005-12-01T00:00:00",
          "2006-03-01T00:00:00",
          "2006-06-01T00:00:00",
          "2006-09-01T00:00:00",
          "2006-12-01T00:00:00",
          "2007-03-01T00:00:00",
          "2007-06-01T00:00:00",
          "2007-09-01T00:00:00",
          "2007-12-01T00:00:00",
          "2008-03-01T00:00:00",
          "2008-06-01T00:00:00",
          "2008-09-01T00:00:00",
          "2008-12-01T00:00:00",
          "2009-03-01T00:00:00",
          "2009-06-01T00:00:00",
          "2009-09-01T00:00:00",
          "2009-12-01T00:00:00",
          "2010-03-01T00:00:00",
          "2010-06-01T00:00:00",
          "2010-09-01T00:00:00",
          "2010-12-01T00:00:00",
          "2011-03-01T00:00:00",
          "2011-06-01T00:00:00",
          "2011-09-01T00:00:00",
          "2011-12-01T00:00:00",
          "2012-03-01T00:00:00",
          "2012-06-01T00:00:00",
          "2012-09-01T00:00:00",
          "2012-12-01T00:00:00",
          "2013-03-01T00:00:00",
          "2013-06-01T00:00:00",
          "2013-09-01T00:00:00",
          "2013-12-01T00:00:00",
          "2014-03-01T00:00:00",
          "2014-06-01T00:00:00",
          "2014-09-01T00:00:00",
          "2014-12-01T00:00:00",
          "2015-03-01T00:00:00",
          "2015-06-01T00:00:00",
          "2015-09-01T00:00:00",
          "2015-12-01T00:00:00",
          "2016-03-01T00:00:00",
          "2016-06-01T00:00:00",
          "2016-09-01T00:00:00",
          "2016-12-01T00:00:00",
          "2017-03-01T00:00:00",
          "2017-06-01T00:00:00",
          "2017-09-01T00:00:00",
          "2017-12-01T00:00:00",
          "2018-03-01T00:00:00",
          "2018-06-01T00:00:00",
          "2018-09-01T00:00:00",
          "2018-12-01T00:00:00",
          "2019-03-01T00:00:00",
          "2019-06-01T00:00:00",
          "2019-09-01T00:00:00",
          "2019-12-01T00:00:00",
          "2020-03-01T00:00:00",
          "2020-06-01T00:00:00",
          "2020-09-01T00:00:00",
          "2020-12-01T00:00:00",
          "2021-03-01T00:00:00",
          "2021-06-01T00:00:00",
          "2021-09-01T00:00:00",
          "2021-12-01T00:00:00",
          "2022-03-01T00:00:00",
          "2022-06-01T00:00:00",
          "2022-09-01T00:00:00",
          "2022-12-01T00:00:00",
          "2023-03-01T00:00:00",
          "2023-06-01T00:00:00",
          "2023-09-01T00:00:00",
          "2023-12-01T00:00:00",
          "2024-03-01T00:00:00",
          "2024-06-01T00:00:00",
          "2024-09-01T00:00:00",
          "2024-12-01T00:00:00",
          "2025-03-01T00:00:00",
          "2025-06-01T00:00:00"
         ],
         "xaxis": "x",
         "y": [
          108.56276276276279,
          109.21137724550898,
          109.69432835820896,
          109.686646884273,
          110.64829629629631,
          110.79823008849557,
          111.91740412979351,
          111.90190895741559,
          112.02911208151383,
          112.00810419681625,
          111.82152080344333,
          111.64273504273504,
          108.84609053497942,
          109.43803009575925,
          109.42679296346412,
          109.1275167785235,
          109.9962516733601,
          109.83766578249337,
          109.53955321944812,
          109.53211488250656,
          110.08715953307394,
          110.21597938144332,
          109.91704834605599,
          110.46870229007634,
          111.14083438685209,
          111.67245283018869,
          111.50872817955113,
          111.49330024813898,
          112.55377008652657,
          112.78920245398773,
          113.15322777101098,
          113.25569007263924,
          113.72901678657074,
          114.22100238663485,
          114.42934911242605,
          113.4477299185099,
          113.65121107266437,
          114.90900692840647,
          116.1607390300231,
          115.56898517673889,
          116.37961494903739,
          116.42962962962964,
          115.96279069767444,
          115.38209606986901,
          115.2992448759439,
          117.08138528138528,
          117.77513513513514,
          117.96813778256188,
          117.87633262260128,
          118.05599151643692,
          117.96470588235293,
          117.90480167014616,
          118.73450777202073,
          119.25118679050566,
          118.65554425228892,
          118.23467741935485,
          118.93587174348698,
          120.02204408817636,
          120.87847847847848,
          121.1402390438247,
          120.85854616895875,
          121.47176470588236,
          121.73828125,
          121.79182879377433,
          121.53307692307692,
          121.2259541984733,
          121.35863377609108,
          121.29745042492918,
          121.74624060150376,
          122.22964352720452,
          122.50823970037455,
          122.21469767441862,
          122.6525925925926,
          122.7,
          123.42772643253235,
          123.47219152854514,
          123.46106032906764,
          123.28036363636363,
          123.21303167420815,
          123.48003613369467,
          123.67719928186715,
          123.48510258697593,
          123.41811722912968,
          123.4608849557522,
          124.15859030837007,
          124.07572304995618,
          124.64574934268185,
          124.4522648083624,
          124.83847487001735,
          124.53872633390705,
          124.66929674099485,
          127.06678321678322,
          125.65817555938037,
          125.23344709897611,
          125.13350296861746,
          124.55050505050507,
          124.70075187969925,
          123.77081615828526,
          121.87344632768364,
          120.43489294210944,
          119.96604361370717,
          118.67645259938836,
          117.96470588235296,
          117.72385938668661,
          118.49490022172948,
          118.9134459955915,
          118.49839883551672,
          118.00605187319884,
          119.3101365923796,
          119.83098995695839,
          119.64832977967309,
          119.49244883556811
         ],
         "yaxis": "y2"
        }
       ],
       "layout": {
        "annotations": [
         {
          "align": "left",
          "bgcolor": "white",
          "bordercolor": "black",
          "borderwidth": 1,
          "font": {
           "color": "black",
           "size": 12
          },
          "showarrow": false,
          "text": "Source: ABS",
          "x": 0,
          "xref": "paper",
          "y": -0.14,
          "yref": "paper"
         }
        ],
        "font": {
         "color": "black",
         "family": "Arial, sans-serif",
         "size": 14
        },
        "height": 660,
        "hovermode": "x unified",
        "legend": {
         "bgcolor": "rgba(255,255,255,0)",
         "bordercolor": "rgba(255,255,255,0)",
         "orientation": "h",
         "x": 0.5,
         "xanchor": "center",
         "y": -0.1,
         "yanchor": "top"
        },
        "margin": {
         "b": 40,
         "l": 70,
         "r": 10,
         "t": 60
        },
        "template": {
         "data": {
          "bar": [
           {
            "error_x": {
             "color": "rgb(36,36,36)"
            },
            "error_y": {
             "color": "rgb(36,36,36)"
            },
            "marker": {
             "line": {
              "color": "rgb(234,234,242)",
              "width": 0.5
             },
             "pattern": {
              "fillmode": "overlay",
              "size": 10,
              "solidity": 0.2
             }
            },
            "type": "bar"
           }
          ],
          "barpolar": [
           {
            "marker": {
             "line": {
              "color": "rgb(234,234,242)",
              "width": 0.5
             },
             "pattern": {
              "fillmode": "overlay",
              "size": 10,
              "solidity": 0.2
             }
            },
            "type": "barpolar"
           }
          ],
          "carpet": [
           {
            "aaxis": {
             "endlinecolor": "rgb(36,36,36)",
             "gridcolor": "white",
             "linecolor": "white",
             "minorgridcolor": "white",
             "startlinecolor": "rgb(36,36,36)"
            },
            "baxis": {
             "endlinecolor": "rgb(36,36,36)",
             "gridcolor": "white",
             "linecolor": "white",
             "minorgridcolor": "white",
             "startlinecolor": "rgb(36,36,36)"
            },
            "type": "carpet"
           }
          ],
          "choropleth": [
           {
            "colorbar": {
             "outlinewidth": 0,
             "tickcolor": "rgb(36,36,36)",
             "ticklen": 8,
             "ticks": "outside",
             "tickwidth": 2
            },
            "type": "choropleth"
           }
          ],
          "contour": [
           {
            "colorbar": {
             "outlinewidth": 0,
             "tickcolor": "rgb(36,36,36)",
             "ticklen": 8,
             "ticks": "outside",
             "tickwidth": 2
            },
            "colorscale": [
             [
              0,
              "rgb(2,4,25)"
             ],
             [
              0.06274509803921569,
              "rgb(24,15,41)"
             ],
             [
              0.12549019607843137,
              "rgb(47,23,57)"
             ],
             [
              0.18823529411764706,
              "rgb(71,28,72)"
             ],
             [
              0.25098039215686274,
              "rgb(97,30,82)"
             ],
             [
              0.3137254901960784,
              "rgb(123,30,89)"
             ],
             [
              0.3764705882352941,
              "rgb(150,27,91)"
             ],
             [
              0.4392156862745098,
              "rgb(177,22,88)"
             ],
             [
              0.5019607843137255,
              "rgb(203,26,79)"
             ],
             [
              0.5647058823529412,
              "rgb(223,47,67)"
             ],
             [
              0.6274509803921569,
              "rgb(236,76,61)"
             ],
             [
              0.6901960784313725,
              "rgb(242,107,73)"
             ],
             [
              0.7529411764705882,
              "rgb(244,135,95)"
             ],
             [
              0.8156862745098039,
              "rgb(245,162,122)"
             ],
             [
              0.8784313725490196,
              "rgb(246,188,153)"
             ],
             [
              0.9411764705882353,
              "rgb(247,212,187)"
             ],
             [
              1,
              "rgb(250,234,220)"
             ]
            ],
            "type": "contour"
           }
          ],
          "contourcarpet": [
           {
            "colorbar": {
             "outlinewidth": 0,
             "tickcolor": "rgb(36,36,36)",
             "ticklen": 8,
             "ticks": "outside",
             "tickwidth": 2
            },
            "type": "contourcarpet"
           }
          ],
          "heatmap": [
           {
            "colorbar": {
             "outlinewidth": 0,
             "tickcolor": "rgb(36,36,36)",
             "ticklen": 8,
             "ticks": "outside",
             "tickwidth": 2
            },
            "colorscale": [
             [
              0,
              "rgb(2,4,25)"
             ],
             [
              0.06274509803921569,
              "rgb(24,15,41)"
             ],
             [
              0.12549019607843137,
              "rgb(47,23,57)"
             ],
             [
              0.18823529411764706,
              "rgb(71,28,72)"
             ],
             [
              0.25098039215686274,
              "rgb(97,30,82)"
             ],
             [
              0.3137254901960784,
              "rgb(123,30,89)"
             ],
             [
              0.3764705882352941,
              "rgb(150,27,91)"
             ],
             [
              0.4392156862745098,
              "rgb(177,22,88)"
             ],
             [
              0.5019607843137255,
              "rgb(203,26,79)"
             ],
             [
              0.5647058823529412,
              "rgb(223,47,67)"
             ],
             [
              0.6274509803921569,
              "rgb(236,76,61)"
             ],
             [
              0.6901960784313725,
              "rgb(242,107,73)"
             ],
             [
              0.7529411764705882,
              "rgb(244,135,95)"
             ],
             [
              0.8156862745098039,
              "rgb(245,162,122)"
             ],
             [
              0.8784313725490196,
              "rgb(246,188,153)"
             ],
             [
              0.9411764705882353,
              "rgb(247,212,187)"
             ],
             [
              1,
              "rgb(250,234,220)"
             ]
            ],
            "type": "heatmap"
           }
          ],
          "heatmapgl": [
           {
            "colorbar": {
             "outlinewidth": 0,
             "tickcolor": "rgb(36,36,36)",
             "ticklen": 8,
             "ticks": "outside",
             "tickwidth": 2
            },
            "colorscale": [
             [
              0,
              "rgb(2,4,25)"
             ],
             [
              0.06274509803921569,
              "rgb(24,15,41)"
             ],
             [
              0.12549019607843137,
              "rgb(47,23,57)"
             ],
             [
              0.18823529411764706,
              "rgb(71,28,72)"
             ],
             [
              0.25098039215686274,
              "rgb(97,30,82)"
             ],
             [
              0.3137254901960784,
              "rgb(123,30,89)"
             ],
             [
              0.3764705882352941,
              "rgb(150,27,91)"
             ],
             [
              0.4392156862745098,
              "rgb(177,22,88)"
             ],
             [
              0.5019607843137255,
              "rgb(203,26,79)"
             ],
             [
              0.5647058823529412,
              "rgb(223,47,67)"
             ],
             [
              0.6274509803921569,
              "rgb(236,76,61)"
             ],
             [
              0.6901960784313725,
              "rgb(242,107,73)"
             ],
             [
              0.7529411764705882,
              "rgb(244,135,95)"
             ],
             [
              0.8156862745098039,
              "rgb(245,162,122)"
             ],
             [
              0.8784313725490196,
              "rgb(246,188,153)"
             ],
             [
              0.9411764705882353,
              "rgb(247,212,187)"
             ],
             [
              1,
              "rgb(250,234,220)"
             ]
            ],
            "type": "heatmapgl"
           }
          ],
          "histogram": [
           {
            "marker": {
             "pattern": {
              "fillmode": "overlay",
              "size": 10,
              "solidity": 0.2
             }
            },
            "type": "histogram"
           }
          ],
          "histogram2d": [
           {
            "colorbar": {
             "outlinewidth": 0,
             "tickcolor": "rgb(36,36,36)",
             "ticklen": 8,
             "ticks": "outside",
             "tickwidth": 2
            },
            "colorscale": [
             [
              0,
              "rgb(2,4,25)"
             ],
             [
              0.06274509803921569,
              "rgb(24,15,41)"
             ],
             [
              0.12549019607843137,
              "rgb(47,23,57)"
             ],
             [
              0.18823529411764706,
              "rgb(71,28,72)"
             ],
             [
              0.25098039215686274,
              "rgb(97,30,82)"
             ],
             [
              0.3137254901960784,
              "rgb(123,30,89)"
             ],
             [
              0.3764705882352941,
              "rgb(150,27,91)"
             ],
             [
              0.4392156862745098,
              "rgb(177,22,88)"
             ],
             [
              0.5019607843137255,
              "rgb(203,26,79)"
             ],
             [
              0.5647058823529412,
              "rgb(223,47,67)"
             ],
             [
              0.6274509803921569,
              "rgb(236,76,61)"
             ],
             [
              0.6901960784313725,
              "rgb(242,107,73)"
             ],
             [
              0.7529411764705882,
              "rgb(244,135,95)"
             ],
             [
              0.8156862745098039,
              "rgb(245,162,122)"
             ],
             [
              0.8784313725490196,
              "rgb(246,188,153)"
             ],
             [
              0.9411764705882353,
              "rgb(247,212,187)"
             ],
             [
              1,
              "rgb(250,234,220)"
             ]
            ],
            "type": "histogram2d"
           }
          ],
          "histogram2dcontour": [
           {
            "colorbar": {
             "outlinewidth": 0,
             "tickcolor": "rgb(36,36,36)",
             "ticklen": 8,
             "ticks": "outside",
             "tickwidth": 2
            },
            "colorscale": [
             [
              0,
              "rgb(2,4,25)"
             ],
             [
              0.06274509803921569,
              "rgb(24,15,41)"
             ],
             [
              0.12549019607843137,
              "rgb(47,23,57)"
             ],
             [
              0.18823529411764706,
              "rgb(71,28,72)"
             ],
             [
              0.25098039215686274,
              "rgb(97,30,82)"
             ],
             [
              0.3137254901960784,
              "rgb(123,30,89)"
             ],
             [
              0.3764705882352941,
              "rgb(150,27,91)"
             ],
             [
              0.4392156862745098,
              "rgb(177,22,88)"
             ],
             [
              0.5019607843137255,
              "rgb(203,26,79)"
             ],
             [
              0.5647058823529412,
              "rgb(223,47,67)"
             ],
             [
              0.6274509803921569,
              "rgb(236,76,61)"
             ],
             [
              0.6901960784313725,
              "rgb(242,107,73)"
             ],
             [
              0.7529411764705882,
              "rgb(244,135,95)"
             ],
             [
              0.8156862745098039,
              "rgb(245,162,122)"
             ],
             [
              0.8784313725490196,
              "rgb(246,188,153)"
             ],
             [
              0.9411764705882353,
              "rgb(247,212,187)"
             ],
             [
              1,
              "rgb(250,234,220)"
             ]
            ],
            "type": "histogram2dcontour"
           }
          ],
          "mesh3d": [
           {
            "colorbar": {
             "outlinewidth": 0,
             "tickcolor": "rgb(36,36,36)",
             "ticklen": 8,
             "ticks": "outside",
             "tickwidth": 2
            },
            "type": "mesh3d"
           }
          ],
          "parcoords": [
           {
            "line": {
             "colorbar": {
              "outlinewidth": 0,
              "tickcolor": "rgb(36,36,36)",
              "ticklen": 8,
              "ticks": "outside",
              "tickwidth": 2
             }
            },
            "type": "parcoords"
           }
          ],
          "pie": [
           {
            "automargin": true,
            "type": "pie"
           }
          ],
          "scatter": [
           {
            "fillpattern": {
             "fillmode": "overlay",
             "size": 10,
             "solidity": 0.2
            },
            "type": "scatter"
           }
          ],
          "scatter3d": [
           {
            "line": {
             "colorbar": {
              "outlinewidth": 0,
              "tickcolor": "rgb(36,36,36)",
              "ticklen": 8,
              "ticks": "outside",
              "tickwidth": 2
             }
            },
            "marker": {
             "colorbar": {
              "outlinewidth": 0,
              "tickcolor": "rgb(36,36,36)",
              "ticklen": 8,
              "ticks": "outside",
              "tickwidth": 2
             }
            },
            "type": "scatter3d"
           }
          ],
          "scattercarpet": [
           {
            "marker": {
             "colorbar": {
              "outlinewidth": 0,
              "tickcolor": "rgb(36,36,36)",
              "ticklen": 8,
              "ticks": "outside",
              "tickwidth": 2
             }
            },
            "type": "scattercarpet"
           }
          ],
          "scattergeo": [
           {
            "marker": {
             "colorbar": {
              "outlinewidth": 0,
              "tickcolor": "rgb(36,36,36)",
              "ticklen": 8,
              "ticks": "outside",
              "tickwidth": 2
             }
            },
            "type": "scattergeo"
           }
          ],
          "scattergl": [
           {
            "marker": {
             "colorbar": {
              "outlinewidth": 0,
              "tickcolor": "rgb(36,36,36)",
              "ticklen": 8,
              "ticks": "outside",
              "tickwidth": 2
             }
            },
            "type": "scattergl"
           }
          ],
          "scattermapbox": [
           {
            "marker": {
             "colorbar": {
              "outlinewidth": 0,
              "tickcolor": "rgb(36,36,36)",
              "ticklen": 8,
              "ticks": "outside",
              "tickwidth": 2
             }
            },
            "type": "scattermapbox"
           }
          ],
          "scatterpolar": [
           {
            "marker": {
             "colorbar": {
              "outlinewidth": 0,
              "tickcolor": "rgb(36,36,36)",
              "ticklen": 8,
              "ticks": "outside",
              "tickwidth": 2
             }
            },
            "type": "scatterpolar"
           }
          ],
          "scatterpolargl": [
           {
            "marker": {
             "colorbar": {
              "outlinewidth": 0,
              "tickcolor": "rgb(36,36,36)",
              "ticklen": 8,
              "ticks": "outside",
              "tickwidth": 2
             }
            },
            "type": "scatterpolargl"
           }
          ],
          "scatterternary": [
           {
            "marker": {
             "colorbar": {
              "outlinewidth": 0,
              "tickcolor": "rgb(36,36,36)",
              "ticklen": 8,
              "ticks": "outside",
              "tickwidth": 2
             }
            },
            "type": "scatterternary"
           }
          ],
          "surface": [
           {
            "colorbar": {
             "outlinewidth": 0,
             "tickcolor": "rgb(36,36,36)",
             "ticklen": 8,
             "ticks": "outside",
             "tickwidth": 2
            },
            "colorscale": [
             [
              0,
              "rgb(2,4,25)"
             ],
             [
              0.06274509803921569,
              "rgb(24,15,41)"
             ],
             [
              0.12549019607843137,
              "rgb(47,23,57)"
             ],
             [
              0.18823529411764706,
              "rgb(71,28,72)"
             ],
             [
              0.25098039215686274,
              "rgb(97,30,82)"
             ],
             [
              0.3137254901960784,
              "rgb(123,30,89)"
             ],
             [
              0.3764705882352941,
              "rgb(150,27,91)"
             ],
             [
              0.4392156862745098,
              "rgb(177,22,88)"
             ],
             [
              0.5019607843137255,
              "rgb(203,26,79)"
             ],
             [
              0.5647058823529412,
              "rgb(223,47,67)"
             ],
             [
              0.6274509803921569,
              "rgb(236,76,61)"
             ],
             [
              0.6901960784313725,
              "rgb(242,107,73)"
             ],
             [
              0.7529411764705882,
              "rgb(244,135,95)"
             ],
             [
              0.8156862745098039,
              "rgb(245,162,122)"
             ],
             [
              0.8784313725490196,
              "rgb(246,188,153)"
             ],
             [
              0.9411764705882353,
              "rgb(247,212,187)"
             ],
             [
              1,
              "rgb(250,234,220)"
             ]
            ],
            "type": "surface"
           }
          ],
          "table": [
           {
            "cells": {
             "fill": {
              "color": "rgb(231,231,240)"
             },
             "line": {
              "color": "white"
             }
            },
            "header": {
             "fill": {
              "color": "rgb(183,183,191)"
             },
             "line": {
              "color": "white"
             }
            },
            "type": "table"
           }
          ]
         },
         "layout": {
          "annotationdefaults": {
           "arrowcolor": "rgb(67,103,167)"
          },
          "autotypenumbers": "strict",
          "coloraxis": {
           "colorbar": {
            "outlinewidth": 0,
            "tickcolor": "rgb(36,36,36)",
            "ticklen": 8,
            "ticks": "outside",
            "tickwidth": 2
           }
          },
          "colorscale": {
           "sequential": [
            [
             0,
             "rgb(2,4,25)"
            ],
            [
             0.06274509803921569,
             "rgb(24,15,41)"
            ],
            [
             0.12549019607843137,
             "rgb(47,23,57)"
            ],
            [
             0.18823529411764706,
             "rgb(71,28,72)"
            ],
            [
             0.25098039215686274,
             "rgb(97,30,82)"
            ],
            [
             0.3137254901960784,
             "rgb(123,30,89)"
            ],
            [
             0.3764705882352941,
             "rgb(150,27,91)"
            ],
            [
             0.4392156862745098,
             "rgb(177,22,88)"
            ],
            [
             0.5019607843137255,
             "rgb(203,26,79)"
            ],
            [
             0.5647058823529412,
             "rgb(223,47,67)"
            ],
            [
             0.6274509803921569,
             "rgb(236,76,61)"
            ],
            [
             0.6901960784313725,
             "rgb(242,107,73)"
            ],
            [
             0.7529411764705882,
             "rgb(244,135,95)"
            ],
            [
             0.8156862745098039,
             "rgb(245,162,122)"
            ],
            [
             0.8784313725490196,
             "rgb(246,188,153)"
            ],
            [
             0.9411764705882353,
             "rgb(247,212,187)"
            ],
            [
             1,
             "rgb(250,234,220)"
            ]
           ],
           "sequentialminus": [
            [
             0,
             "rgb(2,4,25)"
            ],
            [
             0.06274509803921569,
             "rgb(24,15,41)"
            ],
            [
             0.12549019607843137,
             "rgb(47,23,57)"
            ],
            [
             0.18823529411764706,
             "rgb(71,28,72)"
            ],
            [
             0.25098039215686274,
             "rgb(97,30,82)"
            ],
            [
             0.3137254901960784,
             "rgb(123,30,89)"
            ],
            [
             0.3764705882352941,
             "rgb(150,27,91)"
            ],
            [
             0.4392156862745098,
             "rgb(177,22,88)"
            ],
            [
             0.5019607843137255,
             "rgb(203,26,79)"
            ],
            [
             0.5647058823529412,
             "rgb(223,47,67)"
            ],
            [
             0.6274509803921569,
             "rgb(236,76,61)"
            ],
            [
             0.6901960784313725,
             "rgb(242,107,73)"
            ],
            [
             0.7529411764705882,
             "rgb(244,135,95)"
            ],
            [
             0.8156862745098039,
             "rgb(245,162,122)"
            ],
            [
             0.8784313725490196,
             "rgb(246,188,153)"
            ],
            [
             0.9411764705882353,
             "rgb(247,212,187)"
            ],
            [
             1,
             "rgb(250,234,220)"
            ]
           ]
          },
          "colorway": [
           "rgb(76,114,176)",
           "rgb(221,132,82)",
           "rgb(85,168,104)",
           "rgb(196,78,82)",
           "rgb(129,114,179)",
           "rgb(147,120,96)",
           "rgb(218,139,195)",
           "rgb(140,140,140)",
           "rgb(204,185,116)",
           "rgb(100,181,205)"
          ],
          "font": {
           "color": "rgb(36,36,36)"
          },
          "geo": {
           "bgcolor": "white",
           "lakecolor": "white",
           "landcolor": "rgb(234,234,242)",
           "showlakes": true,
           "showland": true,
           "subunitcolor": "white"
          },
          "hoverlabel": {
           "align": "left"
          },
          "hovermode": "closest",
          "paper_bgcolor": "white",
          "plot_bgcolor": "rgb(234,234,242)",
          "polar": {
           "angularaxis": {
            "gridcolor": "white",
            "linecolor": "white",
            "showgrid": true,
            "ticks": ""
           },
           "bgcolor": "rgb(234,234,242)",
           "radialaxis": {
            "gridcolor": "white",
            "linecolor": "white",
            "showgrid": true,
            "ticks": ""
           }
          },
          "scene": {
           "xaxis": {
            "backgroundcolor": "rgb(234,234,242)",
            "gridcolor": "white",
            "gridwidth": 2,
            "linecolor": "white",
            "showbackground": true,
            "showgrid": true,
            "ticks": "",
            "zerolinecolor": "white"
           },
           "yaxis": {
            "backgroundcolor": "rgb(234,234,242)",
            "gridcolor": "white",
            "gridwidth": 2,
            "linecolor": "white",
            "showbackground": true,
            "showgrid": true,
            "ticks": "",
            "zerolinecolor": "white"
           },
           "zaxis": {
            "backgroundcolor": "rgb(234,234,242)",
            "gridcolor": "white",
            "gridwidth": 2,
            "linecolor": "white",
            "showbackground": true,
            "showgrid": true,
            "ticks": "",
            "zerolinecolor": "white"
           }
          },
          "shapedefaults": {
           "fillcolor": "rgb(67,103,167)",
           "line": {
            "width": 0
           },
           "opacity": 0.5
          },
          "ternary": {
           "aaxis": {
            "gridcolor": "white",
            "linecolor": "white",
            "showgrid": true,
            "ticks": ""
           },
           "baxis": {
            "gridcolor": "white",
            "linecolor": "white",
            "showgrid": true,
            "ticks": ""
           },
           "bgcolor": "rgb(234,234,242)",
           "caxis": {
            "gridcolor": "white",
            "linecolor": "white",
            "showgrid": true,
            "ticks": ""
           }
          },
          "xaxis": {
           "automargin": true,
           "gridcolor": "white",
           "linecolor": "white",
           "showgrid": true,
           "ticks": "",
           "title": {
            "standoff": 15
           },
           "zerolinecolor": "white"
          },
          "yaxis": {
           "automargin": true,
           "gridcolor": "white",
           "linecolor": "white",
           "showgrid": true,
           "ticks": "",
           "title": {
            "standoff": 15
           },
           "zerolinecolor": "white"
          }
         }
        },
        "title": {
         "text": "Wage Price Index, Australia"
        },
        "width": 1320,
        "xaxis": {
         "anchor": "y",
         "domain": [
          0,
          0.94
         ]
        },
        "yaxis": {
         "anchor": "x",
         "domain": [
          0,
          1
         ],
         "title": {
          "text": "Index Numbers"
         },
         "type": "linear"
        },
        "yaxis2": {
         "anchor": "x",
         "overlaying": "y",
         "showgrid": false,
         "side": "right",
         "title": {
          "text": "Index Numbers"
         },
         "type": "linear"
        }
       }
      }
     },
     "metadata": {},
     "output_type": "display_data"
    }
   ],
   "source": [
    "# Option A: specify figsize (in inches) and dpi -> Plotly width/height = inches * dpi\n",
    "fagur = watchlist.plot_watchlist([\"A2603609J\"], [], \n",
    "                        plot_title = \"Wage Price Index, Australia\", \n",
    "                        other_series={\"right\": [wpi_real]}, \n",
    "                        #x_start_date=\"2000-01-01\",\n",
    "                        left_axis_title = \"Index Numbers\",\n",
    "                        right_axis_title = \"Index Numbers\"         # converts to 1000x600 pixels\n",
    ")\n",
    "fagur.show()\n",
    "\n",
    "# Option B: specify explicit pixel size (overrides figsize)\n",
    "# watchlist.plot_watchlist(..., width=1200, height=700, margin=custom_margin)"
   ]
  },
  {
   "cell_type": "code",
   "execution_count": 49,
   "metadata": {},
   "outputs": [],
   "source": [
    "fagur.write_image(wd+fdel+\"wpi_aus.png\", scale = 3)"
   ]
  },
  {
   "cell_type": "code",
   "execution_count": 56,
   "metadata": {},
   "outputs": [],
   "source": [
    "def add_vlines_and_pct_change(fig, date1, date2, series_id, color='red', date_format=None):\n",
    "    \"\"\"\n",
    "    Add two vertical lines at date1 and date2 to fig and compute % change for series_id.\n",
    "    Uses fig.add_vline to draw vertical lines.\n",
    "    \"\"\"\n",
    "    d1 = pd.to_datetime(date1)\n",
    "    d2 = pd.to_datetime(date2)\n",
    "\n",
    "    def _series_from_watchlist_or_fig(sid, fig):\n",
    "        try:\n",
    "            s = watchlist[\"watchlist_datasets\"][sid].copy()\n",
    "            s.index = pd.to_datetime(s.index)\n",
    "            return s.dropna()\n",
    "        except Exception:\n",
    "            for tr in fig.data:\n",
    "                name = getattr(tr, \"name\", \"\")\n",
    "                if name == sid or sid in str(name):\n",
    "                    x = pd.to_datetime(np.array(tr.x))\n",
    "                    y = np.array(tr.y, dtype=float)\n",
    "                    return pd.Series(y, index=x).dropna()\n",
    "        raise KeyError(f\"Series '{sid}' not found in watchlist or figure traces.\")\n",
    "\n",
    "    s = _series_from_watchlist_or_fig(series_id, fig)\n",
    "\n",
    "    def _value_at_or_nearest(series, dt):\n",
    "        dt = pd.to_datetime(dt)\n",
    "        if dt in series.index:\n",
    "            return float(series.loc[dt])\n",
    "        before = series.loc[:dt].dropna()\n",
    "        if not before.empty:\n",
    "            return float(before.iloc[-1])\n",
    "        after = series.loc[dt:].dropna()\n",
    "        if not after.empty:\n",
    "            return float(after.iloc[0])\n",
    "        raise ValueError(f\"No valid data in series around {dt}\")\n",
    "\n",
    "    v1 = _value_at_or_nearest(s, d1)\n",
    "    v2 = _value_at_or_nearest(s, d2)\n",
    "    pct = (v2 / v1 - 1) * 100 if v1 != 0 else float(\"inf\")\n",
    "\n",
    "    # add vertical lines using add_vline; ensure they are drawn above traces\n",
    "    fig.add_vline(x=d1, line=dict(color=color, dash=\"dash\", width=1), layer='above')\n",
    "    fig.add_vline(x=d2, line=dict(color=color, dash=\"dash\", width=1), layer='above')\n",
    "\n",
    "    fmt = (lambda dt: pd.to_datetime(dt).strftime(date_format)) if date_format else (lambda dt: str(pd.to_datetime(dt).date()))\n",
    "    fig.add_annotation(x=d1, xref=\"x\", y=0.03, yref=\"paper\",\n",
    "                       text=f\"{fmt(d1)}\", showarrow=False, bgcolor=\"white\", font=dict(color=color), yanchor=\"top\")\n",
    "    fig.add_annotation(x=d2, xref=\"x\", y=0.03, yref=\"paper\",\n",
    "                       text=f\"{fmt(d2)}\", showarrow=False, bgcolor=\"white\", font=dict(color=color), yanchor=\"top\")\n",
    "\n",
    "    summary_text = f\"{series_id} change: {pct:+.2f}% ({v1:.2f} → {v2:.2f})\"\n",
    "    fig.add_annotation(x=0.92, xref=\"paper\", y=1.03, yref=\"paper\",\n",
    "                       text=summary_text, showarrow=False, bgcolor=\"white\",\n",
    "                       xanchor=\"right\", font=dict(color=color))\n",
    "\n",
    "    return {\"value_at_date1\": v1, \"value_at_date2\": v2, \"pct_change\": pct}"
   ]
  },
  {
   "cell_type": "code",
   "execution_count": 58,
   "metadata": {},
   "outputs": [
    {
     "name": "stdout",
     "output_type": "stream",
     "text": [
      "Sliced all series to start from: 2010-01-01\n",
      "CPI Australia\n",
      "CPI: Housing, Sydney\n",
      "CPI: Rent, Sydney\n",
      "Rent Sydney (YoY % change)\n",
      "Housing Sydney (YoY % change)\n"
     ]
    }
   ],
   "source": [
    "figur = watchlist.plot_watchlist([\"A2325846C\", 'A2325941A', \"A2326391L\"], [], \n",
    "                        plot_title = \"Consumer Price Index, Rents & Housing Sydney\", \n",
    "                        other_series={\"right\": [rent_yoy, housing_yoy]}, \n",
    "                        x_start_date=\"2010-01-01\",\n",
    "                        right_axis_title = \"Year-on-year % change\"         # converts to 1000x600 pixels\n",
    ")\n",
    "for traces in figur.data:\n",
    "    print(traces.name)"
   ]
  },
  {
   "cell_type": "code",
   "execution_count": 59,
   "metadata": {},
   "outputs": [
    {
     "data": {
      "application/vnd.plotly.v1+json": {
       "config": {
        "plotlyServerURL": "https://plot.ly"
       },
       "data": [
        {
         "mode": "lines",
         "name": "CPI Australia",
         "type": "scatter",
         "x": [
          "2010-03-01T00:00:00",
          "2010-06-01T00:00:00",
          "2010-09-01T00:00:00",
          "2010-12-01T00:00:00",
          "2011-03-01T00:00:00",
          "2011-06-01T00:00:00",
          "2011-09-01T00:00:00",
          "2011-12-01T00:00:00",
          "2012-03-01T00:00:00",
          "2012-06-01T00:00:00",
          "2012-09-01T00:00:00",
          "2012-12-01T00:00:00",
          "2013-03-01T00:00:00",
          "2013-06-01T00:00:00",
          "2013-09-01T00:00:00",
          "2013-12-01T00:00:00",
          "2014-03-01T00:00:00",
          "2014-06-01T00:00:00",
          "2014-09-01T00:00:00",
          "2014-12-01T00:00:00",
          "2015-03-01T00:00:00",
          "2015-06-01T00:00:00",
          "2015-09-01T00:00:00",
          "2015-12-01T00:00:00",
          "2016-03-01T00:00:00",
          "2016-06-01T00:00:00",
          "2016-09-01T00:00:00",
          "2016-12-01T00:00:00",
          "2017-03-01T00:00:00",
          "2017-06-01T00:00:00",
          "2017-09-01T00:00:00",
          "2017-12-01T00:00:00",
          "2018-03-01T00:00:00",
          "2018-06-01T00:00:00",
          "2018-09-01T00:00:00",
          "2018-12-01T00:00:00",
          "2019-03-01T00:00:00",
          "2019-06-01T00:00:00",
          "2019-09-01T00:00:00",
          "2019-12-01T00:00:00",
          "2020-03-01T00:00:00",
          "2020-06-01T00:00:00",
          "2020-09-01T00:00:00",
          "2020-12-01T00:00:00",
          "2021-03-01T00:00:00",
          "2021-06-01T00:00:00",
          "2021-09-01T00:00:00",
          "2021-12-01T00:00:00",
          "2022-03-01T00:00:00",
          "2022-06-01T00:00:00",
          "2022-09-01T00:00:00",
          "2022-12-01T00:00:00",
          "2023-03-01T00:00:00",
          "2023-06-01T00:00:00",
          "2023-09-01T00:00:00",
          "2023-12-01T00:00:00",
          "2024-03-01T00:00:00",
          "2024-06-01T00:00:00",
          "2024-09-01T00:00:00",
          "2024-12-01T00:00:00",
          "2025-03-01T00:00:00",
          "2025-06-01T00:00:00"
         ],
         "xaxis": "x",
         "y": [
          95.2,
          95.8,
          96.5,
          96.9,
          98.3,
          99.2,
          99.8,
          99.8,
          99.9,
          100.4,
          101.8,
          102,
          102.4,
          102.8,
          104,
          104.8,
          105.4,
          105.9,
          106.4,
          106.6,
          106.8,
          107.5,
          108,
          108.4,
          108.2,
          108.6,
          109.4,
          110,
          110.5,
          110.7,
          111.4,
          112.1,
          112.6,
          113,
          113.5,
          114.1,
          114.1,
          114.8,
          115.4,
          116.2,
          116.6,
          114.4,
          116.2,
          117.2,
          117.9,
          118.8,
          119.7,
          121.3,
          123.9,
          126.1,
          128.4,
          130.8,
          132.6,
          133.7,
          135.3,
          136.1,
          137.4,
          138.8,
          139.1,
          139.4,
          140.7,
          141.7
         ],
         "yaxis": "y"
        },
        {
         "mode": "lines",
         "name": "CPI: Housing, Sydney",
         "type": "scatter",
         "x": [
          "2010-03-01T00:00:00",
          "2010-06-01T00:00:00",
          "2010-09-01T00:00:00",
          "2010-12-01T00:00:00",
          "2011-03-01T00:00:00",
          "2011-06-01T00:00:00",
          "2011-09-01T00:00:00",
          "2011-12-01T00:00:00",
          "2012-03-01T00:00:00",
          "2012-06-01T00:00:00",
          "2012-09-01T00:00:00",
          "2012-12-01T00:00:00",
          "2013-03-01T00:00:00",
          "2013-06-01T00:00:00",
          "2013-09-01T00:00:00",
          "2013-12-01T00:00:00",
          "2014-03-01T00:00:00",
          "2014-06-01T00:00:00",
          "2014-09-01T00:00:00",
          "2014-12-01T00:00:00",
          "2015-03-01T00:00:00",
          "2015-06-01T00:00:00",
          "2015-09-01T00:00:00",
          "2015-12-01T00:00:00",
          "2016-03-01T00:00:00",
          "2016-06-01T00:00:00",
          "2016-09-01T00:00:00",
          "2016-12-01T00:00:00",
          "2017-03-01T00:00:00",
          "2017-06-01T00:00:00",
          "2017-09-01T00:00:00",
          "2017-12-01T00:00:00",
          "2018-03-01T00:00:00",
          "2018-06-01T00:00:00",
          "2018-09-01T00:00:00",
          "2018-12-01T00:00:00",
          "2019-03-01T00:00:00",
          "2019-06-01T00:00:00",
          "2019-09-01T00:00:00",
          "2019-12-01T00:00:00",
          "2020-03-01T00:00:00",
          "2020-06-01T00:00:00",
          "2020-09-01T00:00:00",
          "2020-12-01T00:00:00",
          "2021-03-01T00:00:00",
          "2021-06-01T00:00:00",
          "2021-09-01T00:00:00",
          "2021-12-01T00:00:00",
          "2022-03-01T00:00:00",
          "2022-06-01T00:00:00",
          "2022-09-01T00:00:00",
          "2022-12-01T00:00:00",
          "2023-03-01T00:00:00",
          "2023-06-01T00:00:00",
          "2023-09-01T00:00:00",
          "2023-12-01T00:00:00",
          "2024-03-01T00:00:00",
          "2024-06-01T00:00:00",
          "2024-09-01T00:00:00",
          "2024-12-01T00:00:00",
          "2025-03-01T00:00:00",
          "2025-06-01T00:00:00"
         ],
         "xaxis": "x",
         "y": [
          91.6,
          92.1,
          94.2,
          95,
          96,
          96.8,
          99.1,
          99.8,
          100.1,
          101,
          104.3,
          105.1,
          105.9,
          106.6,
          108.5,
          109.2,
          109.7,
          110.8,
          111.7,
          112.6,
          113.6,
          114.9,
          115.1,
          115.4,
          115.9,
          116.7,
          118.4,
          119,
          119.8,
          120.6,
          123.5,
          124.2,
          124.7,
          125.1,
          126,
          126.5,
          126.6,
          126.4,
          126.3,
          125.9,
          126,
          124.8,
          124,
          124.3,
          123.5,
          123.7,
          125,
          126.6,
          129,
          131.7,
          138.5,
          140.3,
          142.9,
          144.5,
          149.2,
          150,
          151,
          151.7,
          153.4,
          151,
          153.1,
          154.3
         ],
         "yaxis": "y"
        },
        {
         "mode": "lines",
         "name": "CPI: Rent, Sydney",
         "type": "scatter",
         "x": [
          "2010-03-01T00:00:00",
          "2010-06-01T00:00:00",
          "2010-09-01T00:00:00",
          "2010-12-01T00:00:00",
          "2011-03-01T00:00:00",
          "2011-06-01T00:00:00",
          "2011-09-01T00:00:00",
          "2011-12-01T00:00:00",
          "2012-03-01T00:00:00",
          "2012-06-01T00:00:00",
          "2012-09-01T00:00:00",
          "2012-12-01T00:00:00",
          "2013-03-01T00:00:00",
          "2013-06-01T00:00:00",
          "2013-09-01T00:00:00",
          "2013-12-01T00:00:00",
          "2014-03-01T00:00:00",
          "2014-06-01T00:00:00",
          "2014-09-01T00:00:00",
          "2014-12-01T00:00:00",
          "2015-03-01T00:00:00",
          "2015-06-01T00:00:00",
          "2015-09-01T00:00:00",
          "2015-12-01T00:00:00",
          "2016-03-01T00:00:00",
          "2016-06-01T00:00:00",
          "2016-09-01T00:00:00",
          "2016-12-01T00:00:00",
          "2017-03-01T00:00:00",
          "2017-06-01T00:00:00",
          "2017-09-01T00:00:00",
          "2017-12-01T00:00:00",
          "2018-03-01T00:00:00",
          "2018-06-01T00:00:00",
          "2018-09-01T00:00:00",
          "2018-12-01T00:00:00",
          "2019-03-01T00:00:00",
          "2019-06-01T00:00:00",
          "2019-09-01T00:00:00",
          "2019-12-01T00:00:00",
          "2020-03-01T00:00:00",
          "2020-06-01T00:00:00",
          "2020-09-01T00:00:00",
          "2020-12-01T00:00:00",
          "2021-03-01T00:00:00",
          "2021-06-01T00:00:00",
          "2021-09-01T00:00:00",
          "2021-12-01T00:00:00",
          "2022-03-01T00:00:00",
          "2022-06-01T00:00:00",
          "2022-09-01T00:00:00",
          "2022-12-01T00:00:00",
          "2023-03-01T00:00:00",
          "2023-06-01T00:00:00",
          "2023-09-01T00:00:00",
          "2023-12-01T00:00:00",
          "2024-03-01T00:00:00",
          "2024-06-01T00:00:00",
          "2024-09-01T00:00:00",
          "2024-12-01T00:00:00",
          "2025-03-01T00:00:00",
          "2025-06-01T00:00:00"
         ],
         "xaxis": "x",
         "y": [
          90.1,
          91.2,
          92.5,
          93.6,
          95.2,
          96.6,
          98.1,
          99.4,
          100.6,
          101.9,
          102.8,
          103.8,
          104.6,
          105.9,
          106.5,
          107.3,
          108.1,
          109.1,
          109.9,
          110.7,
          111.2,
          111.8,
          112.6,
          113.2,
          113.8,
          114.3,
          115.4,
          116,
          116.6,
          117.2,
          118,
          118.8,
          119.4,
          119.8,
          120.2,
          120.5,
          120.2,
          120.2,
          119.9,
          119.5,
          119,
          116.6,
          116.2,
          116.2,
          115.6,
          114.9,
          114.3,
          114,
          114.2,
          114.6,
          116.1,
          117.8,
          119.7,
          123,
          126.1,
          127.8,
          130.4,
          133,
          135.1,
          136,
          137.2,
          138.4
         ],
         "yaxis": "y"
        },
        {
         "mode": "lines",
         "name": "Rent Sydney (YoY % change)",
         "type": "scatter",
         "x": [
          "2010-03-01T00:00:00",
          "2010-06-01T00:00:00",
          "2010-09-01T00:00:00",
          "2010-12-01T00:00:00",
          "2011-03-01T00:00:00",
          "2011-06-01T00:00:00",
          "2011-09-01T00:00:00",
          "2011-12-01T00:00:00",
          "2012-03-01T00:00:00",
          "2012-06-01T00:00:00",
          "2012-09-01T00:00:00",
          "2012-12-01T00:00:00",
          "2013-03-01T00:00:00",
          "2013-06-01T00:00:00",
          "2013-09-01T00:00:00",
          "2013-12-01T00:00:00",
          "2014-03-01T00:00:00",
          "2014-06-01T00:00:00",
          "2014-09-01T00:00:00",
          "2014-12-01T00:00:00",
          "2015-03-01T00:00:00",
          "2015-06-01T00:00:00",
          "2015-09-01T00:00:00",
          "2015-12-01T00:00:00",
          "2016-03-01T00:00:00",
          "2016-06-01T00:00:00",
          "2016-09-01T00:00:00",
          "2016-12-01T00:00:00",
          "2017-03-01T00:00:00",
          "2017-06-01T00:00:00",
          "2017-09-01T00:00:00",
          "2017-12-01T00:00:00",
          "2018-03-01T00:00:00",
          "2018-06-01T00:00:00",
          "2018-09-01T00:00:00",
          "2018-12-01T00:00:00",
          "2019-03-01T00:00:00",
          "2019-06-01T00:00:00",
          "2019-09-01T00:00:00",
          "2019-12-01T00:00:00",
          "2020-03-01T00:00:00",
          "2020-06-01T00:00:00",
          "2020-09-01T00:00:00",
          "2020-12-01T00:00:00",
          "2021-03-01T00:00:00",
          "2021-06-01T00:00:00",
          "2021-09-01T00:00:00",
          "2021-12-01T00:00:00",
          "2022-03-01T00:00:00",
          "2022-06-01T00:00:00",
          "2022-09-01T00:00:00",
          "2022-12-01T00:00:00",
          "2023-03-01T00:00:00",
          "2023-06-01T00:00:00",
          "2023-09-01T00:00:00",
          "2023-12-01T00:00:00",
          "2024-03-01T00:00:00",
          "2024-06-01T00:00:00",
          "2024-09-01T00:00:00",
          "2024-12-01T00:00:00",
          "2025-03-01T00:00:00",
          "2025-06-01T00:00:00"
         ],
         "xaxis": "x",
         "y": [
          5.134189031505243,
          4.827586206896561,
          4.756511891279724,
          5.050505050505061,
          5.660377358490565,
          5.921052631578938,
          6.054054054054059,
          6.196581196581219,
          5.672268907563005,
          5.486542443064191,
          4.791029561671767,
          4.4265593561368055,
          3.976143141153088,
          3.925417075564286,
          3.599221789883278,
          3.3718689788053924,
          3.3460803059273347,
          3.0217186024551257,
          3.1924882629108087,
          3.1686859273066137,
          2.867715078630906,
          2.4747937671860676,
          2.456778889899902,
          2.258355916892496,
          2.338129496402863,
          2.2361359570661987,
          2.486678507992912,
          2.473498233215543,
          2.4604569420035194,
          2.5371828521434825,
          2.253032928942811,
          2.4137931034482696,
          2.401372212692987,
          2.2184300341296925,
          1.8644067796610209,
          1.4309764309764272,
          0.670016750418756,
          0.33388981636059967,
          -0.24958402662229595,
          -0.8298755186721962,
          -0.9983361064891838,
          -2.9950083194675625,
          -3.085904920767313,
          -2.761506276150627,
          -2.857142857142858,
          -1.4579759862778596,
          -1.6351118760757344,
          -1.8932874354561147,
          -1.211072664359858,
          -0.26109660574413773,
          1.5748031496062964,
          3.3333333333333215,
          4.816112084063051,
          7.329842931937169,
          8.613264427217926,
          8.488964346349736,
          8.93901420217209,
          8.130081300813007,
          7.13719270420301,
          6.416275430359941,
          5.21472392638036,
          4.060150375939853
         ],
         "yaxis": "y2"
        },
        {
         "mode": "lines",
         "name": "Housing Sydney (YoY % change)",
         "type": "scatter",
         "x": [
          "2010-03-01T00:00:00",
          "2010-06-01T00:00:00",
          "2010-09-01T00:00:00",
          "2010-12-01T00:00:00",
          "2011-03-01T00:00:00",
          "2011-06-01T00:00:00",
          "2011-09-01T00:00:00",
          "2011-12-01T00:00:00",
          "2012-03-01T00:00:00",
          "2012-06-01T00:00:00",
          "2012-09-01T00:00:00",
          "2012-12-01T00:00:00",
          "2013-03-01T00:00:00",
          "2013-06-01T00:00:00",
          "2013-09-01T00:00:00",
          "2013-12-01T00:00:00",
          "2014-03-01T00:00:00",
          "2014-06-01T00:00:00",
          "2014-09-01T00:00:00",
          "2014-12-01T00:00:00",
          "2015-03-01T00:00:00",
          "2015-06-01T00:00:00",
          "2015-09-01T00:00:00",
          "2015-12-01T00:00:00",
          "2016-03-01T00:00:00",
          "2016-06-01T00:00:00",
          "2016-09-01T00:00:00",
          "2016-12-01T00:00:00",
          "2017-03-01T00:00:00",
          "2017-06-01T00:00:00",
          "2017-09-01T00:00:00",
          "2017-12-01T00:00:00",
          "2018-03-01T00:00:00",
          "2018-06-01T00:00:00",
          "2018-09-01T00:00:00",
          "2018-12-01T00:00:00",
          "2019-03-01T00:00:00",
          "2019-06-01T00:00:00",
          "2019-09-01T00:00:00",
          "2019-12-01T00:00:00",
          "2020-03-01T00:00:00",
          "2020-06-01T00:00:00",
          "2020-09-01T00:00:00",
          "2020-12-01T00:00:00",
          "2021-03-01T00:00:00",
          "2021-06-01T00:00:00",
          "2021-09-01T00:00:00",
          "2021-12-01T00:00:00",
          "2022-03-01T00:00:00",
          "2022-06-01T00:00:00",
          "2022-09-01T00:00:00",
          "2022-12-01T00:00:00",
          "2023-03-01T00:00:00",
          "2023-06-01T00:00:00",
          "2023-09-01T00:00:00",
          "2023-12-01T00:00:00",
          "2024-03-01T00:00:00",
          "2024-06-01T00:00:00",
          "2024-09-01T00:00:00",
          "2024-12-01T00:00:00",
          "2025-03-01T00:00:00",
          "2025-06-01T00:00:00"
         ],
         "xaxis": "x",
         "y": [
          6.635622817229314,
          5.983889528193309,
          4.434589800443467,
          4.625550660792954,
          4.8034934497816595,
          5.103148751357223,
          5.201698513800412,
          5.052631578947375,
          4.270833333333335,
          4.338842975206614,
          5.247225025227054,
          5.310621242484959,
          5.794205794205798,
          5.5445544554455495,
          4.026845637583887,
          3.9010466222645146,
          3.5882908404154756,
          3.9399624765478425,
          2.9493087557603603,
          3.1135531135531025,
          3.555150410209662,
          3.700361010830333,
          3.043867502238129,
          2.486678507992912,
          2.0246478873239493,
          1.5665796344647598,
          2.867072111207647,
          3.119584055459268,
          3.3649698015530527,
          3.3419023136246784,
          4.307432432432434,
          4.3697478991596705,
          4.090150250417368,
          3.731343283582089,
          2.0242914979757165,
          1.85185185185186,
          1.523656776263027,
          1.0391686650679466,
          0.23809523809523725,
          -0.4743083003952542,
          -0.4739336492890933,
          -1.2658227848101333,
          -1.82106096595408,
          -1.2708498808578272,
          -1.9841269841269882,
          -0.8814102564102533,
          0.8064516129032251,
          1.8503620273531807,
          4.453441295546567,
          6.46725949878737,
          10.80000000000001,
          10.821484992101116,
          10.775193798449623,
          9.719058466211106,
          7.725631768953067,
          6.913756236635771,
          5.668299510146957,
          4.982698961937704,
          2.8150134048257502,
          0.6666666666666599,
          1.3907284768211792,
          1.713909030982208
         ],
         "yaxis": "y2"
        }
       ],
       "layout": {
        "annotations": [
         {
          "align": "left",
          "bgcolor": "white",
          "bordercolor": "black",
          "borderwidth": 1,
          "font": {
           "color": "black",
           "size": 12
          },
          "showarrow": false,
          "text": "Source: ABS",
          "x": 0,
          "xref": "paper",
          "y": -0.14,
          "yref": "paper"
         },
         {
          "bgcolor": "white",
          "font": {
           "color": "red"
          },
          "showarrow": false,
          "text": "2021-06",
          "x": "2021-06-01T00:00:00",
          "xref": "x",
          "y": 0.03,
          "yanchor": "top",
          "yref": "paper"
         },
         {
          "bgcolor": "white",
          "font": {
           "color": "red"
          },
          "showarrow": false,
          "text": "2025-06",
          "x": "2025-06-01T00:00:00",
          "xref": "x",
          "y": 0.03,
          "yanchor": "top",
          "yref": "paper"
         },
         {
          "bgcolor": "white",
          "font": {
           "color": "red"
          },
          "showarrow": false,
          "text": "CPI: Housing, Sydney change: +24.74% (123.70 → 154.30)",
          "x": 0.92,
          "xanchor": "right",
          "xref": "paper",
          "y": 1.03,
          "yref": "paper"
         }
        ],
        "font": {
         "color": "black",
         "family": "Arial, sans-serif",
         "size": 14
        },
        "height": 660,
        "hovermode": "x unified",
        "legend": {
         "bgcolor": "rgba(255,255,255,0)",
         "bordercolor": "rgba(255,255,255,0)",
         "orientation": "h",
         "x": 0.5,
         "xanchor": "center",
         "y": -0.1,
         "yanchor": "top"
        },
        "margin": {
         "b": 40,
         "l": 70,
         "r": 10,
         "t": 60
        },
        "shapes": [
         {
          "layer": "above",
          "line": {
           "color": "red",
           "dash": "dash",
           "width": 1
          },
          "type": "line",
          "x0": "2021-06-01T00:00:00",
          "x1": "2021-06-01T00:00:00",
          "xref": "x",
          "y0": 0,
          "y1": 1,
          "yref": "y domain"
         },
         {
          "layer": "above",
          "line": {
           "color": "red",
           "dash": "dash",
           "width": 1
          },
          "type": "line",
          "x0": "2025-06-01T00:00:00",
          "x1": "2025-06-01T00:00:00",
          "xref": "x",
          "y0": 0,
          "y1": 1,
          "yref": "y domain"
         }
        ],
        "template": {
         "data": {
          "bar": [
           {
            "error_x": {
             "color": "rgb(36,36,36)"
            },
            "error_y": {
             "color": "rgb(36,36,36)"
            },
            "marker": {
             "line": {
              "color": "rgb(234,234,242)",
              "width": 0.5
             },
             "pattern": {
              "fillmode": "overlay",
              "size": 10,
              "solidity": 0.2
             }
            },
            "type": "bar"
           }
          ],
          "barpolar": [
           {
            "marker": {
             "line": {
              "color": "rgb(234,234,242)",
              "width": 0.5
             },
             "pattern": {
              "fillmode": "overlay",
              "size": 10,
              "solidity": 0.2
             }
            },
            "type": "barpolar"
           }
          ],
          "carpet": [
           {
            "aaxis": {
             "endlinecolor": "rgb(36,36,36)",
             "gridcolor": "white",
             "linecolor": "white",
             "minorgridcolor": "white",
             "startlinecolor": "rgb(36,36,36)"
            },
            "baxis": {
             "endlinecolor": "rgb(36,36,36)",
             "gridcolor": "white",
             "linecolor": "white",
             "minorgridcolor": "white",
             "startlinecolor": "rgb(36,36,36)"
            },
            "type": "carpet"
           }
          ],
          "choropleth": [
           {
            "colorbar": {
             "outlinewidth": 0,
             "tickcolor": "rgb(36,36,36)",
             "ticklen": 8,
             "ticks": "outside",
             "tickwidth": 2
            },
            "type": "choropleth"
           }
          ],
          "contour": [
           {
            "colorbar": {
             "outlinewidth": 0,
             "tickcolor": "rgb(36,36,36)",
             "ticklen": 8,
             "ticks": "outside",
             "tickwidth": 2
            },
            "colorscale": [
             [
              0,
              "rgb(2,4,25)"
             ],
             [
              0.06274509803921569,
              "rgb(24,15,41)"
             ],
             [
              0.12549019607843137,
              "rgb(47,23,57)"
             ],
             [
              0.18823529411764706,
              "rgb(71,28,72)"
             ],
             [
              0.25098039215686274,
              "rgb(97,30,82)"
             ],
             [
              0.3137254901960784,
              "rgb(123,30,89)"
             ],
             [
              0.3764705882352941,
              "rgb(150,27,91)"
             ],
             [
              0.4392156862745098,
              "rgb(177,22,88)"
             ],
             [
              0.5019607843137255,
              "rgb(203,26,79)"
             ],
             [
              0.5647058823529412,
              "rgb(223,47,67)"
             ],
             [
              0.6274509803921569,
              "rgb(236,76,61)"
             ],
             [
              0.6901960784313725,
              "rgb(242,107,73)"
             ],
             [
              0.7529411764705882,
              "rgb(244,135,95)"
             ],
             [
              0.8156862745098039,
              "rgb(245,162,122)"
             ],
             [
              0.8784313725490196,
              "rgb(246,188,153)"
             ],
             [
              0.9411764705882353,
              "rgb(247,212,187)"
             ],
             [
              1,
              "rgb(250,234,220)"
             ]
            ],
            "type": "contour"
           }
          ],
          "contourcarpet": [
           {
            "colorbar": {
             "outlinewidth": 0,
             "tickcolor": "rgb(36,36,36)",
             "ticklen": 8,
             "ticks": "outside",
             "tickwidth": 2
            },
            "type": "contourcarpet"
           }
          ],
          "heatmap": [
           {
            "colorbar": {
             "outlinewidth": 0,
             "tickcolor": "rgb(36,36,36)",
             "ticklen": 8,
             "ticks": "outside",
             "tickwidth": 2
            },
            "colorscale": [
             [
              0,
              "rgb(2,4,25)"
             ],
             [
              0.06274509803921569,
              "rgb(24,15,41)"
             ],
             [
              0.12549019607843137,
              "rgb(47,23,57)"
             ],
             [
              0.18823529411764706,
              "rgb(71,28,72)"
             ],
             [
              0.25098039215686274,
              "rgb(97,30,82)"
             ],
             [
              0.3137254901960784,
              "rgb(123,30,89)"
             ],
             [
              0.3764705882352941,
              "rgb(150,27,91)"
             ],
             [
              0.4392156862745098,
              "rgb(177,22,88)"
             ],
             [
              0.5019607843137255,
              "rgb(203,26,79)"
             ],
             [
              0.5647058823529412,
              "rgb(223,47,67)"
             ],
             [
              0.6274509803921569,
              "rgb(236,76,61)"
             ],
             [
              0.6901960784313725,
              "rgb(242,107,73)"
             ],
             [
              0.7529411764705882,
              "rgb(244,135,95)"
             ],
             [
              0.8156862745098039,
              "rgb(245,162,122)"
             ],
             [
              0.8784313725490196,
              "rgb(246,188,153)"
             ],
             [
              0.9411764705882353,
              "rgb(247,212,187)"
             ],
             [
              1,
              "rgb(250,234,220)"
             ]
            ],
            "type": "heatmap"
           }
          ],
          "heatmapgl": [
           {
            "colorbar": {
             "outlinewidth": 0,
             "tickcolor": "rgb(36,36,36)",
             "ticklen": 8,
             "ticks": "outside",
             "tickwidth": 2
            },
            "colorscale": [
             [
              0,
              "rgb(2,4,25)"
             ],
             [
              0.06274509803921569,
              "rgb(24,15,41)"
             ],
             [
              0.12549019607843137,
              "rgb(47,23,57)"
             ],
             [
              0.18823529411764706,
              "rgb(71,28,72)"
             ],
             [
              0.25098039215686274,
              "rgb(97,30,82)"
             ],
             [
              0.3137254901960784,
              "rgb(123,30,89)"
             ],
             [
              0.3764705882352941,
              "rgb(150,27,91)"
             ],
             [
              0.4392156862745098,
              "rgb(177,22,88)"
             ],
             [
              0.5019607843137255,
              "rgb(203,26,79)"
             ],
             [
              0.5647058823529412,
              "rgb(223,47,67)"
             ],
             [
              0.6274509803921569,
              "rgb(236,76,61)"
             ],
             [
              0.6901960784313725,
              "rgb(242,107,73)"
             ],
             [
              0.7529411764705882,
              "rgb(244,135,95)"
             ],
             [
              0.8156862745098039,
              "rgb(245,162,122)"
             ],
             [
              0.8784313725490196,
              "rgb(246,188,153)"
             ],
             [
              0.9411764705882353,
              "rgb(247,212,187)"
             ],
             [
              1,
              "rgb(250,234,220)"
             ]
            ],
            "type": "heatmapgl"
           }
          ],
          "histogram": [
           {
            "marker": {
             "pattern": {
              "fillmode": "overlay",
              "size": 10,
              "solidity": 0.2
             }
            },
            "type": "histogram"
           }
          ],
          "histogram2d": [
           {
            "colorbar": {
             "outlinewidth": 0,
             "tickcolor": "rgb(36,36,36)",
             "ticklen": 8,
             "ticks": "outside",
             "tickwidth": 2
            },
            "colorscale": [
             [
              0,
              "rgb(2,4,25)"
             ],
             [
              0.06274509803921569,
              "rgb(24,15,41)"
             ],
             [
              0.12549019607843137,
              "rgb(47,23,57)"
             ],
             [
              0.18823529411764706,
              "rgb(71,28,72)"
             ],
             [
              0.25098039215686274,
              "rgb(97,30,82)"
             ],
             [
              0.3137254901960784,
              "rgb(123,30,89)"
             ],
             [
              0.3764705882352941,
              "rgb(150,27,91)"
             ],
             [
              0.4392156862745098,
              "rgb(177,22,88)"
             ],
             [
              0.5019607843137255,
              "rgb(203,26,79)"
             ],
             [
              0.5647058823529412,
              "rgb(223,47,67)"
             ],
             [
              0.6274509803921569,
              "rgb(236,76,61)"
             ],
             [
              0.6901960784313725,
              "rgb(242,107,73)"
             ],
             [
              0.7529411764705882,
              "rgb(244,135,95)"
             ],
             [
              0.8156862745098039,
              "rgb(245,162,122)"
             ],
             [
              0.8784313725490196,
              "rgb(246,188,153)"
             ],
             [
              0.9411764705882353,
              "rgb(247,212,187)"
             ],
             [
              1,
              "rgb(250,234,220)"
             ]
            ],
            "type": "histogram2d"
           }
          ],
          "histogram2dcontour": [
           {
            "colorbar": {
             "outlinewidth": 0,
             "tickcolor": "rgb(36,36,36)",
             "ticklen": 8,
             "ticks": "outside",
             "tickwidth": 2
            },
            "colorscale": [
             [
              0,
              "rgb(2,4,25)"
             ],
             [
              0.06274509803921569,
              "rgb(24,15,41)"
             ],
             [
              0.12549019607843137,
              "rgb(47,23,57)"
             ],
             [
              0.18823529411764706,
              "rgb(71,28,72)"
             ],
             [
              0.25098039215686274,
              "rgb(97,30,82)"
             ],
             [
              0.3137254901960784,
              "rgb(123,30,89)"
             ],
             [
              0.3764705882352941,
              "rgb(150,27,91)"
             ],
             [
              0.4392156862745098,
              "rgb(177,22,88)"
             ],
             [
              0.5019607843137255,
              "rgb(203,26,79)"
             ],
             [
              0.5647058823529412,
              "rgb(223,47,67)"
             ],
             [
              0.6274509803921569,
              "rgb(236,76,61)"
             ],
             [
              0.6901960784313725,
              "rgb(242,107,73)"
             ],
             [
              0.7529411764705882,
              "rgb(244,135,95)"
             ],
             [
              0.8156862745098039,
              "rgb(245,162,122)"
             ],
             [
              0.8784313725490196,
              "rgb(246,188,153)"
             ],
             [
              0.9411764705882353,
              "rgb(247,212,187)"
             ],
             [
              1,
              "rgb(250,234,220)"
             ]
            ],
            "type": "histogram2dcontour"
           }
          ],
          "mesh3d": [
           {
            "colorbar": {
             "outlinewidth": 0,
             "tickcolor": "rgb(36,36,36)",
             "ticklen": 8,
             "ticks": "outside",
             "tickwidth": 2
            },
            "type": "mesh3d"
           }
          ],
          "parcoords": [
           {
            "line": {
             "colorbar": {
              "outlinewidth": 0,
              "tickcolor": "rgb(36,36,36)",
              "ticklen": 8,
              "ticks": "outside",
              "tickwidth": 2
             }
            },
            "type": "parcoords"
           }
          ],
          "pie": [
           {
            "automargin": true,
            "type": "pie"
           }
          ],
          "scatter": [
           {
            "fillpattern": {
             "fillmode": "overlay",
             "size": 10,
             "solidity": 0.2
            },
            "type": "scatter"
           }
          ],
          "scatter3d": [
           {
            "line": {
             "colorbar": {
              "outlinewidth": 0,
              "tickcolor": "rgb(36,36,36)",
              "ticklen": 8,
              "ticks": "outside",
              "tickwidth": 2
             }
            },
            "marker": {
             "colorbar": {
              "outlinewidth": 0,
              "tickcolor": "rgb(36,36,36)",
              "ticklen": 8,
              "ticks": "outside",
              "tickwidth": 2
             }
            },
            "type": "scatter3d"
           }
          ],
          "scattercarpet": [
           {
            "marker": {
             "colorbar": {
              "outlinewidth": 0,
              "tickcolor": "rgb(36,36,36)",
              "ticklen": 8,
              "ticks": "outside",
              "tickwidth": 2
             }
            },
            "type": "scattercarpet"
           }
          ],
          "scattergeo": [
           {
            "marker": {
             "colorbar": {
              "outlinewidth": 0,
              "tickcolor": "rgb(36,36,36)",
              "ticklen": 8,
              "ticks": "outside",
              "tickwidth": 2
             }
            },
            "type": "scattergeo"
           }
          ],
          "scattergl": [
           {
            "marker": {
             "colorbar": {
              "outlinewidth": 0,
              "tickcolor": "rgb(36,36,36)",
              "ticklen": 8,
              "ticks": "outside",
              "tickwidth": 2
             }
            },
            "type": "scattergl"
           }
          ],
          "scattermapbox": [
           {
            "marker": {
             "colorbar": {
              "outlinewidth": 0,
              "tickcolor": "rgb(36,36,36)",
              "ticklen": 8,
              "ticks": "outside",
              "tickwidth": 2
             }
            },
            "type": "scattermapbox"
           }
          ],
          "scatterpolar": [
           {
            "marker": {
             "colorbar": {
              "outlinewidth": 0,
              "tickcolor": "rgb(36,36,36)",
              "ticklen": 8,
              "ticks": "outside",
              "tickwidth": 2
             }
            },
            "type": "scatterpolar"
           }
          ],
          "scatterpolargl": [
           {
            "marker": {
             "colorbar": {
              "outlinewidth": 0,
              "tickcolor": "rgb(36,36,36)",
              "ticklen": 8,
              "ticks": "outside",
              "tickwidth": 2
             }
            },
            "type": "scatterpolargl"
           }
          ],
          "scatterternary": [
           {
            "marker": {
             "colorbar": {
              "outlinewidth": 0,
              "tickcolor": "rgb(36,36,36)",
              "ticklen": 8,
              "ticks": "outside",
              "tickwidth": 2
             }
            },
            "type": "scatterternary"
           }
          ],
          "surface": [
           {
            "colorbar": {
             "outlinewidth": 0,
             "tickcolor": "rgb(36,36,36)",
             "ticklen": 8,
             "ticks": "outside",
             "tickwidth": 2
            },
            "colorscale": [
             [
              0,
              "rgb(2,4,25)"
             ],
             [
              0.06274509803921569,
              "rgb(24,15,41)"
             ],
             [
              0.12549019607843137,
              "rgb(47,23,57)"
             ],
             [
              0.18823529411764706,
              "rgb(71,28,72)"
             ],
             [
              0.25098039215686274,
              "rgb(97,30,82)"
             ],
             [
              0.3137254901960784,
              "rgb(123,30,89)"
             ],
             [
              0.3764705882352941,
              "rgb(150,27,91)"
             ],
             [
              0.4392156862745098,
              "rgb(177,22,88)"
             ],
             [
              0.5019607843137255,
              "rgb(203,26,79)"
             ],
             [
              0.5647058823529412,
              "rgb(223,47,67)"
             ],
             [
              0.6274509803921569,
              "rgb(236,76,61)"
             ],
             [
              0.6901960784313725,
              "rgb(242,107,73)"
             ],
             [
              0.7529411764705882,
              "rgb(244,135,95)"
             ],
             [
              0.8156862745098039,
              "rgb(245,162,122)"
             ],
             [
              0.8784313725490196,
              "rgb(246,188,153)"
             ],
             [
              0.9411764705882353,
              "rgb(247,212,187)"
             ],
             [
              1,
              "rgb(250,234,220)"
             ]
            ],
            "type": "surface"
           }
          ],
          "table": [
           {
            "cells": {
             "fill": {
              "color": "rgb(231,231,240)"
             },
             "line": {
              "color": "white"
             }
            },
            "header": {
             "fill": {
              "color": "rgb(183,183,191)"
             },
             "line": {
              "color": "white"
             }
            },
            "type": "table"
           }
          ]
         },
         "layout": {
          "annotationdefaults": {
           "arrowcolor": "rgb(67,103,167)"
          },
          "autotypenumbers": "strict",
          "coloraxis": {
           "colorbar": {
            "outlinewidth": 0,
            "tickcolor": "rgb(36,36,36)",
            "ticklen": 8,
            "ticks": "outside",
            "tickwidth": 2
           }
          },
          "colorscale": {
           "sequential": [
            [
             0,
             "rgb(2,4,25)"
            ],
            [
             0.06274509803921569,
             "rgb(24,15,41)"
            ],
            [
             0.12549019607843137,
             "rgb(47,23,57)"
            ],
            [
             0.18823529411764706,
             "rgb(71,28,72)"
            ],
            [
             0.25098039215686274,
             "rgb(97,30,82)"
            ],
            [
             0.3137254901960784,
             "rgb(123,30,89)"
            ],
            [
             0.3764705882352941,
             "rgb(150,27,91)"
            ],
            [
             0.4392156862745098,
             "rgb(177,22,88)"
            ],
            [
             0.5019607843137255,
             "rgb(203,26,79)"
            ],
            [
             0.5647058823529412,
             "rgb(223,47,67)"
            ],
            [
             0.6274509803921569,
             "rgb(236,76,61)"
            ],
            [
             0.6901960784313725,
             "rgb(242,107,73)"
            ],
            [
             0.7529411764705882,
             "rgb(244,135,95)"
            ],
            [
             0.8156862745098039,
             "rgb(245,162,122)"
            ],
            [
             0.8784313725490196,
             "rgb(246,188,153)"
            ],
            [
             0.9411764705882353,
             "rgb(247,212,187)"
            ],
            [
             1,
             "rgb(250,234,220)"
            ]
           ],
           "sequentialminus": [
            [
             0,
             "rgb(2,4,25)"
            ],
            [
             0.06274509803921569,
             "rgb(24,15,41)"
            ],
            [
             0.12549019607843137,
             "rgb(47,23,57)"
            ],
            [
             0.18823529411764706,
             "rgb(71,28,72)"
            ],
            [
             0.25098039215686274,
             "rgb(97,30,82)"
            ],
            [
             0.3137254901960784,
             "rgb(123,30,89)"
            ],
            [
             0.3764705882352941,
             "rgb(150,27,91)"
            ],
            [
             0.4392156862745098,
             "rgb(177,22,88)"
            ],
            [
             0.5019607843137255,
             "rgb(203,26,79)"
            ],
            [
             0.5647058823529412,
             "rgb(223,47,67)"
            ],
            [
             0.6274509803921569,
             "rgb(236,76,61)"
            ],
            [
             0.6901960784313725,
             "rgb(242,107,73)"
            ],
            [
             0.7529411764705882,
             "rgb(244,135,95)"
            ],
            [
             0.8156862745098039,
             "rgb(245,162,122)"
            ],
            [
             0.8784313725490196,
             "rgb(246,188,153)"
            ],
            [
             0.9411764705882353,
             "rgb(247,212,187)"
            ],
            [
             1,
             "rgb(250,234,220)"
            ]
           ]
          },
          "colorway": [
           "rgb(76,114,176)",
           "rgb(221,132,82)",
           "rgb(85,168,104)",
           "rgb(196,78,82)",
           "rgb(129,114,179)",
           "rgb(147,120,96)",
           "rgb(218,139,195)",
           "rgb(140,140,140)",
           "rgb(204,185,116)",
           "rgb(100,181,205)"
          ],
          "font": {
           "color": "rgb(36,36,36)"
          },
          "geo": {
           "bgcolor": "white",
           "lakecolor": "white",
           "landcolor": "rgb(234,234,242)",
           "showlakes": true,
           "showland": true,
           "subunitcolor": "white"
          },
          "hoverlabel": {
           "align": "left"
          },
          "hovermode": "closest",
          "paper_bgcolor": "white",
          "plot_bgcolor": "rgb(234,234,242)",
          "polar": {
           "angularaxis": {
            "gridcolor": "white",
            "linecolor": "white",
            "showgrid": true,
            "ticks": ""
           },
           "bgcolor": "rgb(234,234,242)",
           "radialaxis": {
            "gridcolor": "white",
            "linecolor": "white",
            "showgrid": true,
            "ticks": ""
           }
          },
          "scene": {
           "xaxis": {
            "backgroundcolor": "rgb(234,234,242)",
            "gridcolor": "white",
            "gridwidth": 2,
            "linecolor": "white",
            "showbackground": true,
            "showgrid": true,
            "ticks": "",
            "zerolinecolor": "white"
           },
           "yaxis": {
            "backgroundcolor": "rgb(234,234,242)",
            "gridcolor": "white",
            "gridwidth": 2,
            "linecolor": "white",
            "showbackground": true,
            "showgrid": true,
            "ticks": "",
            "zerolinecolor": "white"
           },
           "zaxis": {
            "backgroundcolor": "rgb(234,234,242)",
            "gridcolor": "white",
            "gridwidth": 2,
            "linecolor": "white",
            "showbackground": true,
            "showgrid": true,
            "ticks": "",
            "zerolinecolor": "white"
           }
          },
          "shapedefaults": {
           "fillcolor": "rgb(67,103,167)",
           "line": {
            "width": 0
           },
           "opacity": 0.5
          },
          "ternary": {
           "aaxis": {
            "gridcolor": "white",
            "linecolor": "white",
            "showgrid": true,
            "ticks": ""
           },
           "baxis": {
            "gridcolor": "white",
            "linecolor": "white",
            "showgrid": true,
            "ticks": ""
           },
           "bgcolor": "rgb(234,234,242)",
           "caxis": {
            "gridcolor": "white",
            "linecolor": "white",
            "showgrid": true,
            "ticks": ""
           }
          },
          "xaxis": {
           "automargin": true,
           "gridcolor": "white",
           "linecolor": "white",
           "showgrid": true,
           "ticks": "",
           "title": {
            "standoff": 15
           },
           "zerolinecolor": "white"
          },
          "yaxis": {
           "automargin": true,
           "gridcolor": "white",
           "linecolor": "white",
           "showgrid": true,
           "ticks": "",
           "title": {
            "standoff": 15
           },
           "zerolinecolor": "white"
          }
         }
        },
        "title": {
         "text": "Consumer Price Index, Rents & Housing Sydney"
        },
        "width": 1320,
        "xaxis": {
         "anchor": "y",
         "domain": [
          0,
          0.94
         ]
        },
        "yaxis": {
         "anchor": "x",
         "domain": [
          0,
          1
         ],
         "title": {
          "text": "Index Numbers"
         },
         "type": "linear"
        },
        "yaxis2": {
         "anchor": "x",
         "overlaying": "y",
         "showgrid": false,
         "side": "right",
         "title": {
          "text": "Year-on-year % change"
         },
         "type": "linear"
        }
       }
      }
     },
     "metadata": {},
     "output_type": "display_data"
    }
   ],
   "source": [
    "add_vlines_and_pct_change(figur, \"2021-06-01\", \"2025-06-01\", \"CPI: Housing, Sydney\", color='red', date_format=\"%Y-%m\")\n",
    "figur.show()"
   ]
  },
  {
   "cell_type": "code",
   "execution_count": 67,
   "metadata": {},
   "outputs": [
    {
     "name": "stdout",
     "output_type": "stream",
     "text": [
      "Sliced all series to start from: 2010-01-01\n"
     ]
    },
    {
     "data": {
      "application/vnd.plotly.v1+json": {
       "config": {
        "plotlyServerURL": "https://plot.ly"
       },
       "data": [
        {
         "mode": "lines",
         "name": "CPI Australia",
         "type": "scatter",
         "x": [
          "2010-03-01T00:00:00",
          "2010-06-01T00:00:00",
          "2010-09-01T00:00:00",
          "2010-12-01T00:00:00",
          "2011-03-01T00:00:00",
          "2011-06-01T00:00:00",
          "2011-09-01T00:00:00",
          "2011-12-01T00:00:00",
          "2012-03-01T00:00:00",
          "2012-06-01T00:00:00",
          "2012-09-01T00:00:00",
          "2012-12-01T00:00:00",
          "2013-03-01T00:00:00",
          "2013-06-01T00:00:00",
          "2013-09-01T00:00:00",
          "2013-12-01T00:00:00",
          "2014-03-01T00:00:00",
          "2014-06-01T00:00:00",
          "2014-09-01T00:00:00",
          "2014-12-01T00:00:00",
          "2015-03-01T00:00:00",
          "2015-06-01T00:00:00",
          "2015-09-01T00:00:00",
          "2015-12-01T00:00:00",
          "2016-03-01T00:00:00",
          "2016-06-01T00:00:00",
          "2016-09-01T00:00:00",
          "2016-12-01T00:00:00",
          "2017-03-01T00:00:00",
          "2017-06-01T00:00:00",
          "2017-09-01T00:00:00",
          "2017-12-01T00:00:00",
          "2018-03-01T00:00:00",
          "2018-06-01T00:00:00",
          "2018-09-01T00:00:00",
          "2018-12-01T00:00:00",
          "2019-03-01T00:00:00",
          "2019-06-01T00:00:00",
          "2019-09-01T00:00:00",
          "2019-12-01T00:00:00",
          "2020-03-01T00:00:00",
          "2020-06-01T00:00:00",
          "2020-09-01T00:00:00",
          "2020-12-01T00:00:00",
          "2021-03-01T00:00:00",
          "2021-06-01T00:00:00",
          "2021-09-01T00:00:00",
          "2021-12-01T00:00:00",
          "2022-03-01T00:00:00",
          "2022-06-01T00:00:00",
          "2022-09-01T00:00:00",
          "2022-12-01T00:00:00",
          "2023-03-01T00:00:00",
          "2023-06-01T00:00:00",
          "2023-09-01T00:00:00",
          "2023-12-01T00:00:00",
          "2024-03-01T00:00:00",
          "2024-06-01T00:00:00",
          "2024-09-01T00:00:00",
          "2024-12-01T00:00:00",
          "2025-03-01T00:00:00",
          "2025-06-01T00:00:00"
         ],
         "xaxis": "x",
         "y": [
          95.2,
          95.8,
          96.5,
          96.9,
          98.3,
          99.2,
          99.8,
          99.8,
          99.9,
          100.4,
          101.8,
          102,
          102.4,
          102.8,
          104,
          104.8,
          105.4,
          105.9,
          106.4,
          106.6,
          106.8,
          107.5,
          108,
          108.4,
          108.2,
          108.6,
          109.4,
          110,
          110.5,
          110.7,
          111.4,
          112.1,
          112.6,
          113,
          113.5,
          114.1,
          114.1,
          114.8,
          115.4,
          116.2,
          116.6,
          114.4,
          116.2,
          117.2,
          117.9,
          118.8,
          119.7,
          121.3,
          123.9,
          126.1,
          128.4,
          130.8,
          132.6,
          133.7,
          135.3,
          136.1,
          137.4,
          138.8,
          139.1,
          139.4,
          140.7,
          141.7
         ],
         "yaxis": "y"
        },
        {
         "mode": "lines",
         "name": "CPI: Housing, Sydney",
         "type": "scatter",
         "x": [
          "2010-03-01T00:00:00",
          "2010-06-01T00:00:00",
          "2010-09-01T00:00:00",
          "2010-12-01T00:00:00",
          "2011-03-01T00:00:00",
          "2011-06-01T00:00:00",
          "2011-09-01T00:00:00",
          "2011-12-01T00:00:00",
          "2012-03-01T00:00:00",
          "2012-06-01T00:00:00",
          "2012-09-01T00:00:00",
          "2012-12-01T00:00:00",
          "2013-03-01T00:00:00",
          "2013-06-01T00:00:00",
          "2013-09-01T00:00:00",
          "2013-12-01T00:00:00",
          "2014-03-01T00:00:00",
          "2014-06-01T00:00:00",
          "2014-09-01T00:00:00",
          "2014-12-01T00:00:00",
          "2015-03-01T00:00:00",
          "2015-06-01T00:00:00",
          "2015-09-01T00:00:00",
          "2015-12-01T00:00:00",
          "2016-03-01T00:00:00",
          "2016-06-01T00:00:00",
          "2016-09-01T00:00:00",
          "2016-12-01T00:00:00",
          "2017-03-01T00:00:00",
          "2017-06-01T00:00:00",
          "2017-09-01T00:00:00",
          "2017-12-01T00:00:00",
          "2018-03-01T00:00:00",
          "2018-06-01T00:00:00",
          "2018-09-01T00:00:00",
          "2018-12-01T00:00:00",
          "2019-03-01T00:00:00",
          "2019-06-01T00:00:00",
          "2019-09-01T00:00:00",
          "2019-12-01T00:00:00",
          "2020-03-01T00:00:00",
          "2020-06-01T00:00:00",
          "2020-09-01T00:00:00",
          "2020-12-01T00:00:00",
          "2021-03-01T00:00:00",
          "2021-06-01T00:00:00",
          "2021-09-01T00:00:00",
          "2021-12-01T00:00:00",
          "2022-03-01T00:00:00",
          "2022-06-01T00:00:00",
          "2022-09-01T00:00:00",
          "2022-12-01T00:00:00",
          "2023-03-01T00:00:00",
          "2023-06-01T00:00:00",
          "2023-09-01T00:00:00",
          "2023-12-01T00:00:00",
          "2024-03-01T00:00:00",
          "2024-06-01T00:00:00",
          "2024-09-01T00:00:00",
          "2024-12-01T00:00:00",
          "2025-03-01T00:00:00",
          "2025-06-01T00:00:00"
         ],
         "xaxis": "x",
         "y": [
          91.6,
          92.1,
          94.2,
          95,
          96,
          96.8,
          99.1,
          99.8,
          100.1,
          101,
          104.3,
          105.1,
          105.9,
          106.6,
          108.5,
          109.2,
          109.7,
          110.8,
          111.7,
          112.6,
          113.6,
          114.9,
          115.1,
          115.4,
          115.9,
          116.7,
          118.4,
          119,
          119.8,
          120.6,
          123.5,
          124.2,
          124.7,
          125.1,
          126,
          126.5,
          126.6,
          126.4,
          126.3,
          125.9,
          126,
          124.8,
          124,
          124.3,
          123.5,
          123.7,
          125,
          126.6,
          129,
          131.7,
          138.5,
          140.3,
          142.9,
          144.5,
          149.2,
          150,
          151,
          151.7,
          153.4,
          151,
          153.1,
          154.3
         ],
         "yaxis": "y"
        },
        {
         "mode": "lines",
         "name": "CPI: Rent, Sydney",
         "type": "scatter",
         "x": [
          "2010-03-01T00:00:00",
          "2010-06-01T00:00:00",
          "2010-09-01T00:00:00",
          "2010-12-01T00:00:00",
          "2011-03-01T00:00:00",
          "2011-06-01T00:00:00",
          "2011-09-01T00:00:00",
          "2011-12-01T00:00:00",
          "2012-03-01T00:00:00",
          "2012-06-01T00:00:00",
          "2012-09-01T00:00:00",
          "2012-12-01T00:00:00",
          "2013-03-01T00:00:00",
          "2013-06-01T00:00:00",
          "2013-09-01T00:00:00",
          "2013-12-01T00:00:00",
          "2014-03-01T00:00:00",
          "2014-06-01T00:00:00",
          "2014-09-01T00:00:00",
          "2014-12-01T00:00:00",
          "2015-03-01T00:00:00",
          "2015-06-01T00:00:00",
          "2015-09-01T00:00:00",
          "2015-12-01T00:00:00",
          "2016-03-01T00:00:00",
          "2016-06-01T00:00:00",
          "2016-09-01T00:00:00",
          "2016-12-01T00:00:00",
          "2017-03-01T00:00:00",
          "2017-06-01T00:00:00",
          "2017-09-01T00:00:00",
          "2017-12-01T00:00:00",
          "2018-03-01T00:00:00",
          "2018-06-01T00:00:00",
          "2018-09-01T00:00:00",
          "2018-12-01T00:00:00",
          "2019-03-01T00:00:00",
          "2019-06-01T00:00:00",
          "2019-09-01T00:00:00",
          "2019-12-01T00:00:00",
          "2020-03-01T00:00:00",
          "2020-06-01T00:00:00",
          "2020-09-01T00:00:00",
          "2020-12-01T00:00:00",
          "2021-03-01T00:00:00",
          "2021-06-01T00:00:00",
          "2021-09-01T00:00:00",
          "2021-12-01T00:00:00",
          "2022-03-01T00:00:00",
          "2022-06-01T00:00:00",
          "2022-09-01T00:00:00",
          "2022-12-01T00:00:00",
          "2023-03-01T00:00:00",
          "2023-06-01T00:00:00",
          "2023-09-01T00:00:00",
          "2023-12-01T00:00:00",
          "2024-03-01T00:00:00",
          "2024-06-01T00:00:00",
          "2024-09-01T00:00:00",
          "2024-12-01T00:00:00",
          "2025-03-01T00:00:00",
          "2025-06-01T00:00:00"
         ],
         "xaxis": "x",
         "y": [
          90.1,
          91.2,
          92.5,
          93.6,
          95.2,
          96.6,
          98.1,
          99.4,
          100.6,
          101.9,
          102.8,
          103.8,
          104.6,
          105.9,
          106.5,
          107.3,
          108.1,
          109.1,
          109.9,
          110.7,
          111.2,
          111.8,
          112.6,
          113.2,
          113.8,
          114.3,
          115.4,
          116,
          116.6,
          117.2,
          118,
          118.8,
          119.4,
          119.8,
          120.2,
          120.5,
          120.2,
          120.2,
          119.9,
          119.5,
          119,
          116.6,
          116.2,
          116.2,
          115.6,
          114.9,
          114.3,
          114,
          114.2,
          114.6,
          116.1,
          117.8,
          119.7,
          123,
          126.1,
          127.8,
          130.4,
          133,
          135.1,
          136,
          137.2,
          138.4
         ],
         "yaxis": "y"
        },
        {
         "mode": "lines",
         "name": "Rent Sydney (YoY % change)",
         "type": "scatter",
         "x": [
          "2010-03-01T00:00:00",
          "2010-06-01T00:00:00",
          "2010-09-01T00:00:00",
          "2010-12-01T00:00:00",
          "2011-03-01T00:00:00",
          "2011-06-01T00:00:00",
          "2011-09-01T00:00:00",
          "2011-12-01T00:00:00",
          "2012-03-01T00:00:00",
          "2012-06-01T00:00:00",
          "2012-09-01T00:00:00",
          "2012-12-01T00:00:00",
          "2013-03-01T00:00:00",
          "2013-06-01T00:00:00",
          "2013-09-01T00:00:00",
          "2013-12-01T00:00:00",
          "2014-03-01T00:00:00",
          "2014-06-01T00:00:00",
          "2014-09-01T00:00:00",
          "2014-12-01T00:00:00",
          "2015-03-01T00:00:00",
          "2015-06-01T00:00:00",
          "2015-09-01T00:00:00",
          "2015-12-01T00:00:00",
          "2016-03-01T00:00:00",
          "2016-06-01T00:00:00",
          "2016-09-01T00:00:00",
          "2016-12-01T00:00:00",
          "2017-03-01T00:00:00",
          "2017-06-01T00:00:00",
          "2017-09-01T00:00:00",
          "2017-12-01T00:00:00",
          "2018-03-01T00:00:00",
          "2018-06-01T00:00:00",
          "2018-09-01T00:00:00",
          "2018-12-01T00:00:00",
          "2019-03-01T00:00:00",
          "2019-06-01T00:00:00",
          "2019-09-01T00:00:00",
          "2019-12-01T00:00:00",
          "2020-03-01T00:00:00",
          "2020-06-01T00:00:00",
          "2020-09-01T00:00:00",
          "2020-12-01T00:00:00",
          "2021-03-01T00:00:00",
          "2021-06-01T00:00:00",
          "2021-09-01T00:00:00",
          "2021-12-01T00:00:00",
          "2022-03-01T00:00:00",
          "2022-06-01T00:00:00",
          "2022-09-01T00:00:00",
          "2022-12-01T00:00:00",
          "2023-03-01T00:00:00",
          "2023-06-01T00:00:00",
          "2023-09-01T00:00:00",
          "2023-12-01T00:00:00",
          "2024-03-01T00:00:00",
          "2024-06-01T00:00:00",
          "2024-09-01T00:00:00",
          "2024-12-01T00:00:00",
          "2025-03-01T00:00:00",
          "2025-06-01T00:00:00"
         ],
         "xaxis": "x",
         "y": [
          5.134189031505243,
          4.827586206896561,
          4.756511891279724,
          5.050505050505061,
          5.660377358490565,
          5.921052631578938,
          6.054054054054059,
          6.196581196581219,
          5.672268907563005,
          5.486542443064191,
          4.791029561671767,
          4.4265593561368055,
          3.976143141153088,
          3.925417075564286,
          3.599221789883278,
          3.3718689788053924,
          3.3460803059273347,
          3.0217186024551257,
          3.1924882629108087,
          3.1686859273066137,
          2.867715078630906,
          2.4747937671860676,
          2.456778889899902,
          2.258355916892496,
          2.338129496402863,
          2.2361359570661987,
          2.486678507992912,
          2.473498233215543,
          2.4604569420035194,
          2.5371828521434825,
          2.253032928942811,
          2.4137931034482696,
          2.401372212692987,
          2.2184300341296925,
          1.8644067796610209,
          1.4309764309764272,
          0.670016750418756,
          0.33388981636059967,
          -0.24958402662229595,
          -0.8298755186721962,
          -0.9983361064891838,
          -2.9950083194675625,
          -3.085904920767313,
          -2.761506276150627,
          -2.857142857142858,
          -1.4579759862778596,
          -1.6351118760757344,
          -1.8932874354561147,
          -1.211072664359858,
          -0.26109660574413773,
          1.5748031496062964,
          3.3333333333333215,
          4.816112084063051,
          7.329842931937169,
          8.613264427217926,
          8.488964346349736,
          8.93901420217209,
          8.130081300813007,
          7.13719270420301,
          6.416275430359941,
          5.21472392638036,
          4.060150375939853
         ],
         "yaxis": "y2"
        },
        {
         "mode": "lines",
         "name": "Housing Sydney (YoY % change)",
         "type": "scatter",
         "x": [
          "2010-03-01T00:00:00",
          "2010-06-01T00:00:00",
          "2010-09-01T00:00:00",
          "2010-12-01T00:00:00",
          "2011-03-01T00:00:00",
          "2011-06-01T00:00:00",
          "2011-09-01T00:00:00",
          "2011-12-01T00:00:00",
          "2012-03-01T00:00:00",
          "2012-06-01T00:00:00",
          "2012-09-01T00:00:00",
          "2012-12-01T00:00:00",
          "2013-03-01T00:00:00",
          "2013-06-01T00:00:00",
          "2013-09-01T00:00:00",
          "2013-12-01T00:00:00",
          "2014-03-01T00:00:00",
          "2014-06-01T00:00:00",
          "2014-09-01T00:00:00",
          "2014-12-01T00:00:00",
          "2015-03-01T00:00:00",
          "2015-06-01T00:00:00",
          "2015-09-01T00:00:00",
          "2015-12-01T00:00:00",
          "2016-03-01T00:00:00",
          "2016-06-01T00:00:00",
          "2016-09-01T00:00:00",
          "2016-12-01T00:00:00",
          "2017-03-01T00:00:00",
          "2017-06-01T00:00:00",
          "2017-09-01T00:00:00",
          "2017-12-01T00:00:00",
          "2018-03-01T00:00:00",
          "2018-06-01T00:00:00",
          "2018-09-01T00:00:00",
          "2018-12-01T00:00:00",
          "2019-03-01T00:00:00",
          "2019-06-01T00:00:00",
          "2019-09-01T00:00:00",
          "2019-12-01T00:00:00",
          "2020-03-01T00:00:00",
          "2020-06-01T00:00:00",
          "2020-09-01T00:00:00",
          "2020-12-01T00:00:00",
          "2021-03-01T00:00:00",
          "2021-06-01T00:00:00",
          "2021-09-01T00:00:00",
          "2021-12-01T00:00:00",
          "2022-03-01T00:00:00",
          "2022-06-01T00:00:00",
          "2022-09-01T00:00:00",
          "2022-12-01T00:00:00",
          "2023-03-01T00:00:00",
          "2023-06-01T00:00:00",
          "2023-09-01T00:00:00",
          "2023-12-01T00:00:00",
          "2024-03-01T00:00:00",
          "2024-06-01T00:00:00",
          "2024-09-01T00:00:00",
          "2024-12-01T00:00:00",
          "2025-03-01T00:00:00",
          "2025-06-01T00:00:00"
         ],
         "xaxis": "x",
         "y": [
          6.635622817229314,
          5.983889528193309,
          4.434589800443467,
          4.625550660792954,
          4.8034934497816595,
          5.103148751357223,
          5.201698513800412,
          5.052631578947375,
          4.270833333333335,
          4.338842975206614,
          5.247225025227054,
          5.310621242484959,
          5.794205794205798,
          5.5445544554455495,
          4.026845637583887,
          3.9010466222645146,
          3.5882908404154756,
          3.9399624765478425,
          2.9493087557603603,
          3.1135531135531025,
          3.555150410209662,
          3.700361010830333,
          3.043867502238129,
          2.486678507992912,
          2.0246478873239493,
          1.5665796344647598,
          2.867072111207647,
          3.119584055459268,
          3.3649698015530527,
          3.3419023136246784,
          4.307432432432434,
          4.3697478991596705,
          4.090150250417368,
          3.731343283582089,
          2.0242914979757165,
          1.85185185185186,
          1.523656776263027,
          1.0391686650679466,
          0.23809523809523725,
          -0.4743083003952542,
          -0.4739336492890933,
          -1.2658227848101333,
          -1.82106096595408,
          -1.2708498808578272,
          -1.9841269841269882,
          -0.8814102564102533,
          0.8064516129032251,
          1.8503620273531807,
          4.453441295546567,
          6.46725949878737,
          10.80000000000001,
          10.821484992101116,
          10.775193798449623,
          9.719058466211106,
          7.725631768953067,
          6.913756236635771,
          5.668299510146957,
          4.982698961937704,
          2.8150134048257502,
          0.6666666666666599,
          1.3907284768211792,
          1.713909030982208
         ],
         "yaxis": "y2"
        }
       ],
       "layout": {
        "annotations": [
         {
          "align": "left",
          "bgcolor": "white",
          "bordercolor": "black",
          "borderwidth": 1,
          "font": {
           "color": "black",
           "size": 12
          },
          "showarrow": false,
          "text": "Source: ABS",
          "x": 0,
          "xref": "paper",
          "y": -0.14,
          "yref": "paper"
         },
         {
          "bgcolor": "white",
          "font": {
           "color": "red"
          },
          "showarrow": false,
          "text": "2024-06",
          "x": "2024-06-01T00:00:00",
          "xref": "x",
          "y": 0.03,
          "yanchor": "top",
          "yref": "paper"
         },
         {
          "bgcolor": "white",
          "font": {
           "color": "red"
          },
          "showarrow": false,
          "text": "2025-06",
          "x": "2025-06-01T00:00:00",
          "xref": "x",
          "y": 0.03,
          "yanchor": "top",
          "yref": "paper"
         },
         {
          "bgcolor": "white",
          "font": {
           "color": "red"
          },
          "showarrow": false,
          "text": "CPI Australia change: +2.09% (138.80 → 141.70)",
          "x": 0.92,
          "xanchor": "right",
          "xref": "paper",
          "y": 1.03,
          "yref": "paper"
         }
        ],
        "font": {
         "color": "black",
         "family": "Arial, sans-serif",
         "size": 14
        },
        "height": 660,
        "hovermode": "x unified",
        "legend": {
         "bgcolor": "rgba(255,255,255,0)",
         "bordercolor": "rgba(255,255,255,0)",
         "orientation": "h",
         "x": 0.5,
         "xanchor": "center",
         "y": -0.1,
         "yanchor": "top"
        },
        "margin": {
         "b": 40,
         "l": 70,
         "r": 10,
         "t": 60
        },
        "shapes": [
         {
          "layer": "above",
          "line": {
           "color": "red",
           "dash": "dash",
           "width": 1
          },
          "type": "line",
          "x0": "2024-06-01T00:00:00",
          "x1": "2024-06-01T00:00:00",
          "xref": "x",
          "y0": 0,
          "y1": 1,
          "yref": "y domain"
         },
         {
          "layer": "above",
          "line": {
           "color": "red",
           "dash": "dash",
           "width": 1
          },
          "type": "line",
          "x0": "2025-06-01T00:00:00",
          "x1": "2025-06-01T00:00:00",
          "xref": "x",
          "y0": 0,
          "y1": 1,
          "yref": "y domain"
         }
        ],
        "template": {
         "data": {
          "bar": [
           {
            "error_x": {
             "color": "rgb(36,36,36)"
            },
            "error_y": {
             "color": "rgb(36,36,36)"
            },
            "marker": {
             "line": {
              "color": "rgb(234,234,242)",
              "width": 0.5
             },
             "pattern": {
              "fillmode": "overlay",
              "size": 10,
              "solidity": 0.2
             }
            },
            "type": "bar"
           }
          ],
          "barpolar": [
           {
            "marker": {
             "line": {
              "color": "rgb(234,234,242)",
              "width": 0.5
             },
             "pattern": {
              "fillmode": "overlay",
              "size": 10,
              "solidity": 0.2
             }
            },
            "type": "barpolar"
           }
          ],
          "carpet": [
           {
            "aaxis": {
             "endlinecolor": "rgb(36,36,36)",
             "gridcolor": "white",
             "linecolor": "white",
             "minorgridcolor": "white",
             "startlinecolor": "rgb(36,36,36)"
            },
            "baxis": {
             "endlinecolor": "rgb(36,36,36)",
             "gridcolor": "white",
             "linecolor": "white",
             "minorgridcolor": "white",
             "startlinecolor": "rgb(36,36,36)"
            },
            "type": "carpet"
           }
          ],
          "choropleth": [
           {
            "colorbar": {
             "outlinewidth": 0,
             "tickcolor": "rgb(36,36,36)",
             "ticklen": 8,
             "ticks": "outside",
             "tickwidth": 2
            },
            "type": "choropleth"
           }
          ],
          "contour": [
           {
            "colorbar": {
             "outlinewidth": 0,
             "tickcolor": "rgb(36,36,36)",
             "ticklen": 8,
             "ticks": "outside",
             "tickwidth": 2
            },
            "colorscale": [
             [
              0,
              "rgb(2,4,25)"
             ],
             [
              0.06274509803921569,
              "rgb(24,15,41)"
             ],
             [
              0.12549019607843137,
              "rgb(47,23,57)"
             ],
             [
              0.18823529411764706,
              "rgb(71,28,72)"
             ],
             [
              0.25098039215686274,
              "rgb(97,30,82)"
             ],
             [
              0.3137254901960784,
              "rgb(123,30,89)"
             ],
             [
              0.3764705882352941,
              "rgb(150,27,91)"
             ],
             [
              0.4392156862745098,
              "rgb(177,22,88)"
             ],
             [
              0.5019607843137255,
              "rgb(203,26,79)"
             ],
             [
              0.5647058823529412,
              "rgb(223,47,67)"
             ],
             [
              0.6274509803921569,
              "rgb(236,76,61)"
             ],
             [
              0.6901960784313725,
              "rgb(242,107,73)"
             ],
             [
              0.7529411764705882,
              "rgb(244,135,95)"
             ],
             [
              0.8156862745098039,
              "rgb(245,162,122)"
             ],
             [
              0.8784313725490196,
              "rgb(246,188,153)"
             ],
             [
              0.9411764705882353,
              "rgb(247,212,187)"
             ],
             [
              1,
              "rgb(250,234,220)"
             ]
            ],
            "type": "contour"
           }
          ],
          "contourcarpet": [
           {
            "colorbar": {
             "outlinewidth": 0,
             "tickcolor": "rgb(36,36,36)",
             "ticklen": 8,
             "ticks": "outside",
             "tickwidth": 2
            },
            "type": "contourcarpet"
           }
          ],
          "heatmap": [
           {
            "colorbar": {
             "outlinewidth": 0,
             "tickcolor": "rgb(36,36,36)",
             "ticklen": 8,
             "ticks": "outside",
             "tickwidth": 2
            },
            "colorscale": [
             [
              0,
              "rgb(2,4,25)"
             ],
             [
              0.06274509803921569,
              "rgb(24,15,41)"
             ],
             [
              0.12549019607843137,
              "rgb(47,23,57)"
             ],
             [
              0.18823529411764706,
              "rgb(71,28,72)"
             ],
             [
              0.25098039215686274,
              "rgb(97,30,82)"
             ],
             [
              0.3137254901960784,
              "rgb(123,30,89)"
             ],
             [
              0.3764705882352941,
              "rgb(150,27,91)"
             ],
             [
              0.4392156862745098,
              "rgb(177,22,88)"
             ],
             [
              0.5019607843137255,
              "rgb(203,26,79)"
             ],
             [
              0.5647058823529412,
              "rgb(223,47,67)"
             ],
             [
              0.6274509803921569,
              "rgb(236,76,61)"
             ],
             [
              0.6901960784313725,
              "rgb(242,107,73)"
             ],
             [
              0.7529411764705882,
              "rgb(244,135,95)"
             ],
             [
              0.8156862745098039,
              "rgb(245,162,122)"
             ],
             [
              0.8784313725490196,
              "rgb(246,188,153)"
             ],
             [
              0.9411764705882353,
              "rgb(247,212,187)"
             ],
             [
              1,
              "rgb(250,234,220)"
             ]
            ],
            "type": "heatmap"
           }
          ],
          "heatmapgl": [
           {
            "colorbar": {
             "outlinewidth": 0,
             "tickcolor": "rgb(36,36,36)",
             "ticklen": 8,
             "ticks": "outside",
             "tickwidth": 2
            },
            "colorscale": [
             [
              0,
              "rgb(2,4,25)"
             ],
             [
              0.06274509803921569,
              "rgb(24,15,41)"
             ],
             [
              0.12549019607843137,
              "rgb(47,23,57)"
             ],
             [
              0.18823529411764706,
              "rgb(71,28,72)"
             ],
             [
              0.25098039215686274,
              "rgb(97,30,82)"
             ],
             [
              0.3137254901960784,
              "rgb(123,30,89)"
             ],
             [
              0.3764705882352941,
              "rgb(150,27,91)"
             ],
             [
              0.4392156862745098,
              "rgb(177,22,88)"
             ],
             [
              0.5019607843137255,
              "rgb(203,26,79)"
             ],
             [
              0.5647058823529412,
              "rgb(223,47,67)"
             ],
             [
              0.6274509803921569,
              "rgb(236,76,61)"
             ],
             [
              0.6901960784313725,
              "rgb(242,107,73)"
             ],
             [
              0.7529411764705882,
              "rgb(244,135,95)"
             ],
             [
              0.8156862745098039,
              "rgb(245,162,122)"
             ],
             [
              0.8784313725490196,
              "rgb(246,188,153)"
             ],
             [
              0.9411764705882353,
              "rgb(247,212,187)"
             ],
             [
              1,
              "rgb(250,234,220)"
             ]
            ],
            "type": "heatmapgl"
           }
          ],
          "histogram": [
           {
            "marker": {
             "pattern": {
              "fillmode": "overlay",
              "size": 10,
              "solidity": 0.2
             }
            },
            "type": "histogram"
           }
          ],
          "histogram2d": [
           {
            "colorbar": {
             "outlinewidth": 0,
             "tickcolor": "rgb(36,36,36)",
             "ticklen": 8,
             "ticks": "outside",
             "tickwidth": 2
            },
            "colorscale": [
             [
              0,
              "rgb(2,4,25)"
             ],
             [
              0.06274509803921569,
              "rgb(24,15,41)"
             ],
             [
              0.12549019607843137,
              "rgb(47,23,57)"
             ],
             [
              0.18823529411764706,
              "rgb(71,28,72)"
             ],
             [
              0.25098039215686274,
              "rgb(97,30,82)"
             ],
             [
              0.3137254901960784,
              "rgb(123,30,89)"
             ],
             [
              0.3764705882352941,
              "rgb(150,27,91)"
             ],
             [
              0.4392156862745098,
              "rgb(177,22,88)"
             ],
             [
              0.5019607843137255,
              "rgb(203,26,79)"
             ],
             [
              0.5647058823529412,
              "rgb(223,47,67)"
             ],
             [
              0.6274509803921569,
              "rgb(236,76,61)"
             ],
             [
              0.6901960784313725,
              "rgb(242,107,73)"
             ],
             [
              0.7529411764705882,
              "rgb(244,135,95)"
             ],
             [
              0.8156862745098039,
              "rgb(245,162,122)"
             ],
             [
              0.8784313725490196,
              "rgb(246,188,153)"
             ],
             [
              0.9411764705882353,
              "rgb(247,212,187)"
             ],
             [
              1,
              "rgb(250,234,220)"
             ]
            ],
            "type": "histogram2d"
           }
          ],
          "histogram2dcontour": [
           {
            "colorbar": {
             "outlinewidth": 0,
             "tickcolor": "rgb(36,36,36)",
             "ticklen": 8,
             "ticks": "outside",
             "tickwidth": 2
            },
            "colorscale": [
             [
              0,
              "rgb(2,4,25)"
             ],
             [
              0.06274509803921569,
              "rgb(24,15,41)"
             ],
             [
              0.12549019607843137,
              "rgb(47,23,57)"
             ],
             [
              0.18823529411764706,
              "rgb(71,28,72)"
             ],
             [
              0.25098039215686274,
              "rgb(97,30,82)"
             ],
             [
              0.3137254901960784,
              "rgb(123,30,89)"
             ],
             [
              0.3764705882352941,
              "rgb(150,27,91)"
             ],
             [
              0.4392156862745098,
              "rgb(177,22,88)"
             ],
             [
              0.5019607843137255,
              "rgb(203,26,79)"
             ],
             [
              0.5647058823529412,
              "rgb(223,47,67)"
             ],
             [
              0.6274509803921569,
              "rgb(236,76,61)"
             ],
             [
              0.6901960784313725,
              "rgb(242,107,73)"
             ],
             [
              0.7529411764705882,
              "rgb(244,135,95)"
             ],
             [
              0.8156862745098039,
              "rgb(245,162,122)"
             ],
             [
              0.8784313725490196,
              "rgb(246,188,153)"
             ],
             [
              0.9411764705882353,
              "rgb(247,212,187)"
             ],
             [
              1,
              "rgb(250,234,220)"
             ]
            ],
            "type": "histogram2dcontour"
           }
          ],
          "mesh3d": [
           {
            "colorbar": {
             "outlinewidth": 0,
             "tickcolor": "rgb(36,36,36)",
             "ticklen": 8,
             "ticks": "outside",
             "tickwidth": 2
            },
            "type": "mesh3d"
           }
          ],
          "parcoords": [
           {
            "line": {
             "colorbar": {
              "outlinewidth": 0,
              "tickcolor": "rgb(36,36,36)",
              "ticklen": 8,
              "ticks": "outside",
              "tickwidth": 2
             }
            },
            "type": "parcoords"
           }
          ],
          "pie": [
           {
            "automargin": true,
            "type": "pie"
           }
          ],
          "scatter": [
           {
            "fillpattern": {
             "fillmode": "overlay",
             "size": 10,
             "solidity": 0.2
            },
            "type": "scatter"
           }
          ],
          "scatter3d": [
           {
            "line": {
             "colorbar": {
              "outlinewidth": 0,
              "tickcolor": "rgb(36,36,36)",
              "ticklen": 8,
              "ticks": "outside",
              "tickwidth": 2
             }
            },
            "marker": {
             "colorbar": {
              "outlinewidth": 0,
              "tickcolor": "rgb(36,36,36)",
              "ticklen": 8,
              "ticks": "outside",
              "tickwidth": 2
             }
            },
            "type": "scatter3d"
           }
          ],
          "scattercarpet": [
           {
            "marker": {
             "colorbar": {
              "outlinewidth": 0,
              "tickcolor": "rgb(36,36,36)",
              "ticklen": 8,
              "ticks": "outside",
              "tickwidth": 2
             }
            },
            "type": "scattercarpet"
           }
          ],
          "scattergeo": [
           {
            "marker": {
             "colorbar": {
              "outlinewidth": 0,
              "tickcolor": "rgb(36,36,36)",
              "ticklen": 8,
              "ticks": "outside",
              "tickwidth": 2
             }
            },
            "type": "scattergeo"
           }
          ],
          "scattergl": [
           {
            "marker": {
             "colorbar": {
              "outlinewidth": 0,
              "tickcolor": "rgb(36,36,36)",
              "ticklen": 8,
              "ticks": "outside",
              "tickwidth": 2
             }
            },
            "type": "scattergl"
           }
          ],
          "scattermapbox": [
           {
            "marker": {
             "colorbar": {
              "outlinewidth": 0,
              "tickcolor": "rgb(36,36,36)",
              "ticklen": 8,
              "ticks": "outside",
              "tickwidth": 2
             }
            },
            "type": "scattermapbox"
           }
          ],
          "scatterpolar": [
           {
            "marker": {
             "colorbar": {
              "outlinewidth": 0,
              "tickcolor": "rgb(36,36,36)",
              "ticklen": 8,
              "ticks": "outside",
              "tickwidth": 2
             }
            },
            "type": "scatterpolar"
           }
          ],
          "scatterpolargl": [
           {
            "marker": {
             "colorbar": {
              "outlinewidth": 0,
              "tickcolor": "rgb(36,36,36)",
              "ticklen": 8,
              "ticks": "outside",
              "tickwidth": 2
             }
            },
            "type": "scatterpolargl"
           }
          ],
          "scatterternary": [
           {
            "marker": {
             "colorbar": {
              "outlinewidth": 0,
              "tickcolor": "rgb(36,36,36)",
              "ticklen": 8,
              "ticks": "outside",
              "tickwidth": 2
             }
            },
            "type": "scatterternary"
           }
          ],
          "surface": [
           {
            "colorbar": {
             "outlinewidth": 0,
             "tickcolor": "rgb(36,36,36)",
             "ticklen": 8,
             "ticks": "outside",
             "tickwidth": 2
            },
            "colorscale": [
             [
              0,
              "rgb(2,4,25)"
             ],
             [
              0.06274509803921569,
              "rgb(24,15,41)"
             ],
             [
              0.12549019607843137,
              "rgb(47,23,57)"
             ],
             [
              0.18823529411764706,
              "rgb(71,28,72)"
             ],
             [
              0.25098039215686274,
              "rgb(97,30,82)"
             ],
             [
              0.3137254901960784,
              "rgb(123,30,89)"
             ],
             [
              0.3764705882352941,
              "rgb(150,27,91)"
             ],
             [
              0.4392156862745098,
              "rgb(177,22,88)"
             ],
             [
              0.5019607843137255,
              "rgb(203,26,79)"
             ],
             [
              0.5647058823529412,
              "rgb(223,47,67)"
             ],
             [
              0.6274509803921569,
              "rgb(236,76,61)"
             ],
             [
              0.6901960784313725,
              "rgb(242,107,73)"
             ],
             [
              0.7529411764705882,
              "rgb(244,135,95)"
             ],
             [
              0.8156862745098039,
              "rgb(245,162,122)"
             ],
             [
              0.8784313725490196,
              "rgb(246,188,153)"
             ],
             [
              0.9411764705882353,
              "rgb(247,212,187)"
             ],
             [
              1,
              "rgb(250,234,220)"
             ]
            ],
            "type": "surface"
           }
          ],
          "table": [
           {
            "cells": {
             "fill": {
              "color": "rgb(231,231,240)"
             },
             "line": {
              "color": "white"
             }
            },
            "header": {
             "fill": {
              "color": "rgb(183,183,191)"
             },
             "line": {
              "color": "white"
             }
            },
            "type": "table"
           }
          ]
         },
         "layout": {
          "annotationdefaults": {
           "arrowcolor": "rgb(67,103,167)"
          },
          "autotypenumbers": "strict",
          "coloraxis": {
           "colorbar": {
            "outlinewidth": 0,
            "tickcolor": "rgb(36,36,36)",
            "ticklen": 8,
            "ticks": "outside",
            "tickwidth": 2
           }
          },
          "colorscale": {
           "sequential": [
            [
             0,
             "rgb(2,4,25)"
            ],
            [
             0.06274509803921569,
             "rgb(24,15,41)"
            ],
            [
             0.12549019607843137,
             "rgb(47,23,57)"
            ],
            [
             0.18823529411764706,
             "rgb(71,28,72)"
            ],
            [
             0.25098039215686274,
             "rgb(97,30,82)"
            ],
            [
             0.3137254901960784,
             "rgb(123,30,89)"
            ],
            [
             0.3764705882352941,
             "rgb(150,27,91)"
            ],
            [
             0.4392156862745098,
             "rgb(177,22,88)"
            ],
            [
             0.5019607843137255,
             "rgb(203,26,79)"
            ],
            [
             0.5647058823529412,
             "rgb(223,47,67)"
            ],
            [
             0.6274509803921569,
             "rgb(236,76,61)"
            ],
            [
             0.6901960784313725,
             "rgb(242,107,73)"
            ],
            [
             0.7529411764705882,
             "rgb(244,135,95)"
            ],
            [
             0.8156862745098039,
             "rgb(245,162,122)"
            ],
            [
             0.8784313725490196,
             "rgb(246,188,153)"
            ],
            [
             0.9411764705882353,
             "rgb(247,212,187)"
            ],
            [
             1,
             "rgb(250,234,220)"
            ]
           ],
           "sequentialminus": [
            [
             0,
             "rgb(2,4,25)"
            ],
            [
             0.06274509803921569,
             "rgb(24,15,41)"
            ],
            [
             0.12549019607843137,
             "rgb(47,23,57)"
            ],
            [
             0.18823529411764706,
             "rgb(71,28,72)"
            ],
            [
             0.25098039215686274,
             "rgb(97,30,82)"
            ],
            [
             0.3137254901960784,
             "rgb(123,30,89)"
            ],
            [
             0.3764705882352941,
             "rgb(150,27,91)"
            ],
            [
             0.4392156862745098,
             "rgb(177,22,88)"
            ],
            [
             0.5019607843137255,
             "rgb(203,26,79)"
            ],
            [
             0.5647058823529412,
             "rgb(223,47,67)"
            ],
            [
             0.6274509803921569,
             "rgb(236,76,61)"
            ],
            [
             0.6901960784313725,
             "rgb(242,107,73)"
            ],
            [
             0.7529411764705882,
             "rgb(244,135,95)"
            ],
            [
             0.8156862745098039,
             "rgb(245,162,122)"
            ],
            [
             0.8784313725490196,
             "rgb(246,188,153)"
            ],
            [
             0.9411764705882353,
             "rgb(247,212,187)"
            ],
            [
             1,
             "rgb(250,234,220)"
            ]
           ]
          },
          "colorway": [
           "rgb(76,114,176)",
           "rgb(221,132,82)",
           "rgb(85,168,104)",
           "rgb(196,78,82)",
           "rgb(129,114,179)",
           "rgb(147,120,96)",
           "rgb(218,139,195)",
           "rgb(140,140,140)",
           "rgb(204,185,116)",
           "rgb(100,181,205)"
          ],
          "font": {
           "color": "rgb(36,36,36)"
          },
          "geo": {
           "bgcolor": "white",
           "lakecolor": "white",
           "landcolor": "rgb(234,234,242)",
           "showlakes": true,
           "showland": true,
           "subunitcolor": "white"
          },
          "hoverlabel": {
           "align": "left"
          },
          "hovermode": "closest",
          "paper_bgcolor": "white",
          "plot_bgcolor": "rgb(234,234,242)",
          "polar": {
           "angularaxis": {
            "gridcolor": "white",
            "linecolor": "white",
            "showgrid": true,
            "ticks": ""
           },
           "bgcolor": "rgb(234,234,242)",
           "radialaxis": {
            "gridcolor": "white",
            "linecolor": "white",
            "showgrid": true,
            "ticks": ""
           }
          },
          "scene": {
           "xaxis": {
            "backgroundcolor": "rgb(234,234,242)",
            "gridcolor": "white",
            "gridwidth": 2,
            "linecolor": "white",
            "showbackground": true,
            "showgrid": true,
            "ticks": "",
            "zerolinecolor": "white"
           },
           "yaxis": {
            "backgroundcolor": "rgb(234,234,242)",
            "gridcolor": "white",
            "gridwidth": 2,
            "linecolor": "white",
            "showbackground": true,
            "showgrid": true,
            "ticks": "",
            "zerolinecolor": "white"
           },
           "zaxis": {
            "backgroundcolor": "rgb(234,234,242)",
            "gridcolor": "white",
            "gridwidth": 2,
            "linecolor": "white",
            "showbackground": true,
            "showgrid": true,
            "ticks": "",
            "zerolinecolor": "white"
           }
          },
          "shapedefaults": {
           "fillcolor": "rgb(67,103,167)",
           "line": {
            "width": 0
           },
           "opacity": 0.5
          },
          "ternary": {
           "aaxis": {
            "gridcolor": "white",
            "linecolor": "white",
            "showgrid": true,
            "ticks": ""
           },
           "baxis": {
            "gridcolor": "white",
            "linecolor": "white",
            "showgrid": true,
            "ticks": ""
           },
           "bgcolor": "rgb(234,234,242)",
           "caxis": {
            "gridcolor": "white",
            "linecolor": "white",
            "showgrid": true,
            "ticks": ""
           }
          },
          "xaxis": {
           "automargin": true,
           "gridcolor": "white",
           "linecolor": "white",
           "showgrid": true,
           "ticks": "",
           "title": {
            "standoff": 15
           },
           "zerolinecolor": "white"
          },
          "yaxis": {
           "automargin": true,
           "gridcolor": "white",
           "linecolor": "white",
           "showgrid": true,
           "ticks": "",
           "title": {
            "standoff": 15
           },
           "zerolinecolor": "white"
          }
         }
        },
        "title": {
         "text": "Consumer Price Index, Rents & Housing Sydney"
        },
        "width": 1320,
        "xaxis": {
         "anchor": "y",
         "domain": [
          0,
          0.94
         ]
        },
        "yaxis": {
         "anchor": "x",
         "domain": [
          0,
          1
         ],
         "title": {
          "text": "Index Numbers"
         },
         "type": "linear"
        },
        "yaxis2": {
         "anchor": "x",
         "overlaying": "y",
         "showgrid": false,
         "side": "right",
         "title": {
          "text": "Year-on-year % change"
         },
         "type": "linear"
        }
       }
      }
     },
     "metadata": {},
     "output_type": "display_data"
    }
   ],
   "source": [
    "fugur = watchlist.plot_watchlist([\"A2325846C\", 'A2325941A', \"A2326391L\"], [], \n",
    "                        plot_title = \"Consumer Price Index, Rents & Housing Sydney\", \n",
    "                        other_series={\"right\": [rent_yoy, housing_yoy]}, \n",
    "                        x_start_date=\"2010-01-01\",\n",
    "                        right_axis_title = \"Year-on-year % change\"         # converts to 1000x600 pixels\n",
    ")\n",
    "add_vlines_and_pct_change(fugur, \"2024-06-01\", \"2025-06-01\", \"CPI Australia\", color='red', date_format=\"%Y-%m\")\n",
    "fugur.show()"
   ]
  },
  {
   "cell_type": "code",
   "execution_count": 66,
   "metadata": {},
   "outputs": [
    {
     "name": "stdout",
     "output_type": "stream",
     "text": [
      "New rent after 4.0% increase: 972.40\n"
     ]
    }
   ],
   "source": [
    "intial_rent = 935 #AUD on 2024-06\n",
    "increase_pct = 4.0\n",
    "new_rent = intial_rent * (1 + increase_pct / 100)\n",
    "print(f\"New rent after {increase_pct}% increase: {new_rent:.2f}\")"
   ]
  },
  {
   "cell_type": "code",
   "execution_count": 68,
   "metadata": {},
   "outputs": [
    {
     "data": {
      "text/plain": [
       "915.7688540646426"
      ]
     },
     "execution_count": 68,
     "metadata": {},
     "output_type": "execute_result"
    }
   ],
   "source": [
    "935/1.021"
   ]
  },
  {
   "cell_type": "markdown",
   "metadata": {},
   "source": [
    "## Immigration Data from ABS"
   ]
  },
  {
   "cell_type": "code",
   "execution_count": 23,
   "metadata": {},
   "outputs": [
    {
     "data": {
      "application/vnd.plotly.v1+json": {
       "config": {
        "plotlyServerURL": "https://plot.ly"
       },
       "data": [
        {
         "mode": "lines",
         "name": "Estimated Resident Population (ERP) ;  Australia ;",
         "type": "scatter",
         "x": [
          "1981-06-01T00:00:00",
          "1981-09-01T00:00:00",
          "1981-12-01T00:00:00",
          "1982-03-01T00:00:00",
          "1982-06-01T00:00:00",
          "1982-09-01T00:00:00",
          "1982-12-01T00:00:00",
          "1983-03-01T00:00:00",
          "1983-06-01T00:00:00",
          "1983-09-01T00:00:00",
          "1983-12-01T00:00:00",
          "1984-03-01T00:00:00",
          "1984-06-01T00:00:00",
          "1984-09-01T00:00:00",
          "1984-12-01T00:00:00",
          "1985-03-01T00:00:00",
          "1985-06-01T00:00:00",
          "1985-09-01T00:00:00",
          "1985-12-01T00:00:00",
          "1986-03-01T00:00:00",
          "1986-06-01T00:00:00",
          "1986-09-01T00:00:00",
          "1986-12-01T00:00:00",
          "1987-03-01T00:00:00",
          "1987-06-01T00:00:00",
          "1987-09-01T00:00:00",
          "1987-12-01T00:00:00",
          "1988-03-01T00:00:00",
          "1988-06-01T00:00:00",
          "1988-09-01T00:00:00",
          "1988-12-01T00:00:00",
          "1989-03-01T00:00:00",
          "1989-06-01T00:00:00",
          "1989-09-01T00:00:00",
          "1989-12-01T00:00:00",
          "1990-03-01T00:00:00",
          "1990-06-01T00:00:00",
          "1990-09-01T00:00:00",
          "1990-12-01T00:00:00",
          "1991-03-01T00:00:00",
          "1991-06-01T00:00:00",
          "1991-09-01T00:00:00",
          "1991-12-01T00:00:00",
          "1992-03-01T00:00:00",
          "1992-06-01T00:00:00",
          "1992-09-01T00:00:00",
          "1992-12-01T00:00:00",
          "1993-03-01T00:00:00",
          "1993-06-01T00:00:00",
          "1993-09-01T00:00:00",
          "1993-12-01T00:00:00",
          "1994-03-01T00:00:00",
          "1994-06-01T00:00:00",
          "1994-09-01T00:00:00",
          "1994-12-01T00:00:00",
          "1995-03-01T00:00:00",
          "1995-06-01T00:00:00",
          "1995-09-01T00:00:00",
          "1995-12-01T00:00:00",
          "1996-03-01T00:00:00",
          "1996-06-01T00:00:00",
          "1996-09-01T00:00:00",
          "1996-12-01T00:00:00",
          "1997-03-01T00:00:00",
          "1997-06-01T00:00:00",
          "1997-09-01T00:00:00",
          "1997-12-01T00:00:00",
          "1998-03-01T00:00:00",
          "1998-06-01T00:00:00",
          "1998-09-01T00:00:00",
          "1998-12-01T00:00:00",
          "1999-03-01T00:00:00",
          "1999-06-01T00:00:00",
          "1999-09-01T00:00:00",
          "1999-12-01T00:00:00",
          "2000-03-01T00:00:00",
          "2000-06-01T00:00:00",
          "2000-09-01T00:00:00",
          "2000-12-01T00:00:00",
          "2001-03-01T00:00:00",
          "2001-06-01T00:00:00",
          "2001-09-01T00:00:00",
          "2001-12-01T00:00:00",
          "2002-03-01T00:00:00",
          "2002-06-01T00:00:00",
          "2002-09-01T00:00:00",
          "2002-12-01T00:00:00",
          "2003-03-01T00:00:00",
          "2003-06-01T00:00:00",
          "2003-09-01T00:00:00",
          "2003-12-01T00:00:00",
          "2004-03-01T00:00:00",
          "2004-06-01T00:00:00",
          "2004-09-01T00:00:00",
          "2004-12-01T00:00:00",
          "2005-03-01T00:00:00",
          "2005-06-01T00:00:00",
          "2005-09-01T00:00:00",
          "2005-12-01T00:00:00",
          "2006-03-01T00:00:00",
          "2006-06-01T00:00:00",
          "2006-09-01T00:00:00",
          "2006-12-01T00:00:00",
          "2007-03-01T00:00:00",
          "2007-06-01T00:00:00",
          "2007-09-01T00:00:00",
          "2007-12-01T00:00:00",
          "2008-03-01T00:00:00",
          "2008-06-01T00:00:00",
          "2008-09-01T00:00:00",
          "2008-12-01T00:00:00",
          "2009-03-01T00:00:00",
          "2009-06-01T00:00:00",
          "2009-09-01T00:00:00",
          "2009-12-01T00:00:00",
          "2010-03-01T00:00:00",
          "2010-06-01T00:00:00",
          "2010-09-01T00:00:00",
          "2010-12-01T00:00:00",
          "2011-03-01T00:00:00",
          "2011-06-01T00:00:00",
          "2011-09-01T00:00:00",
          "2011-12-01T00:00:00",
          "2012-03-01T00:00:00",
          "2012-06-01T00:00:00",
          "2012-09-01T00:00:00",
          "2012-12-01T00:00:00",
          "2013-03-01T00:00:00",
          "2013-06-01T00:00:00",
          "2013-09-01T00:00:00",
          "2013-12-01T00:00:00",
          "2014-03-01T00:00:00",
          "2014-06-01T00:00:00",
          "2014-09-01T00:00:00",
          "2014-12-01T00:00:00",
          "2015-03-01T00:00:00",
          "2015-06-01T00:00:00",
          "2015-09-01T00:00:00",
          "2015-12-01T00:00:00",
          "2016-03-01T00:00:00",
          "2016-06-01T00:00:00",
          "2016-09-01T00:00:00",
          "2016-12-01T00:00:00",
          "2017-03-01T00:00:00",
          "2017-06-01T00:00:00",
          "2017-09-01T00:00:00",
          "2017-12-01T00:00:00",
          "2018-03-01T00:00:00",
          "2018-06-01T00:00:00",
          "2018-09-01T00:00:00",
          "2018-12-01T00:00:00",
          "2019-03-01T00:00:00",
          "2019-06-01T00:00:00",
          "2019-09-01T00:00:00",
          "2019-12-01T00:00:00",
          "2020-03-01T00:00:00",
          "2020-06-01T00:00:00",
          "2020-09-01T00:00:00",
          "2020-12-01T00:00:00",
          "2021-03-01T00:00:00",
          "2021-06-01T00:00:00",
          "2021-09-01T00:00:00",
          "2021-12-01T00:00:00",
          "2022-03-01T00:00:00",
          "2022-06-01T00:00:00",
          "2022-09-01T00:00:00",
          "2022-12-01T00:00:00",
          "2023-03-01T00:00:00",
          "2023-06-01T00:00:00",
          "2023-09-01T00:00:00",
          "2023-12-01T00:00:00",
          "2024-03-01T00:00:00",
          "2024-06-01T00:00:00",
          "2024-09-01T00:00:00",
          "2024-12-01T00:00:00"
         ],
         "xaxis": "x",
         "y": [
          14923.3,
          14988.7,
          15054.1,
          15121.7,
          15184.2,
          15239.3,
          15288.9,
          15346.2,
          15393.5,
          15439,
          15483.5,
          15531.5,
          15579.4,
          15628.5,
          15677.3,
          15736.7,
          15788.3,
          15839.7,
          15900.6,
          15961.5,
          16018.4,
          16075,
          16138.8,
          16204,
          16263.9,
          16328.9,
          16394.6,
          16471.8,
          16532.2,
          16612.6,
          16687.1,
          16764,
          16814.4,
          16872,
          16936.7,
          17005.6,
          17065.1,
          17121.1,
          17169.8,
          17237.4,
          17284,
          17338.9,
          17379,
          17441.3,
          17478.6,
          17523.3,
          17557.1,
          17609.6,
          17634.8,
          17683.7,
          17719.1,
          17772.1,
          17805.5,
          17859.3,
          17893.4,
          17951.6,
          18004.9,
          18062.2,
          18119.6,
          18176,
          18224.8,
          18281.3,
          18330.1,
          18388.7,
          18423,
          18468.7,
          18510,
          18572.4,
          18607.6,
          18658.4,
          18705.6,
          18770.5,
          18812.3,
          18867.7,
          18919.2,
          18986.7,
          19028.8,
          19086,
          19141,
          19225.2,
          19274.7,
          19329.1,
          19386.5,
          19453.4,
          19495.2,
          19548.9,
          19605.4,
          19676.6,
          19720.7,
          19773.4,
          19827.2,
          19894.1,
          19932.7,
          19989.7,
          20046,
          20126.6,
          20176.8,
          20244.7,
          20311.5,
          20398.1,
          20451,
          20542.3,
          20627.5,
          20742.8,
          20827.6,
          20924.2,
          21016.1,
          21148.9,
          21249.2,
          21366,
          21475.6,
          21601.7,
          21691.7,
          21788.1,
          21865.6,
          21964.1,
          22031.8,
          22104.4,
          22172.5,
          22268.8,
          22340,
          22432.8,
          22522.2,
          22640.9,
          22733.5,
          22833.9,
          22928,
          23043,
          23128.1,
          23220.2,
          23297.8,
          23406.2,
          23475.7,
          23562.9,
          23640.3,
          23745.6,
          23816,
          23904.3,
          23984.6,
          24103.4,
          24190.9,
          24297.5,
          24385.1,
          24511.4,
          24592.6,
          24690.1,
          24759,
          24881.8,
          24963.3,
          25067.4,
          25146.1,
          25264.9,
          25334.8,
          25438.1,
          25520.5,
          25627.9,
          25649.2,
          25633.3,
          25630.7,
          25653,
          25685.4,
          25704.8,
          25773.8,
          25913,
          26018.7,
          26169.3,
          26320.3,
          26514.3,
          26659.9,
          26832.5,
          26954.1,
          27113.7,
          27196.8,
          27308.9,
          27400
         ],
         "yaxis": "y"
        },
        {
         "mode": "lines",
         "name": "Percentage ERP Change Over Previous Year ;  Australia ;",
         "type": "scatter",
         "x": [
          "1981-06-01T00:00:00",
          "1981-09-01T00:00:00",
          "1981-12-01T00:00:00",
          "1982-03-01T00:00:00",
          "1982-06-01T00:00:00",
          "1982-09-01T00:00:00",
          "1982-12-01T00:00:00",
          "1983-03-01T00:00:00",
          "1983-06-01T00:00:00",
          "1983-09-01T00:00:00",
          "1983-12-01T00:00:00",
          "1984-03-01T00:00:00",
          "1984-06-01T00:00:00",
          "1984-09-01T00:00:00",
          "1984-12-01T00:00:00",
          "1985-03-01T00:00:00",
          "1985-06-01T00:00:00",
          "1985-09-01T00:00:00",
          "1985-12-01T00:00:00",
          "1986-03-01T00:00:00",
          "1986-06-01T00:00:00",
          "1986-09-01T00:00:00",
          "1986-12-01T00:00:00",
          "1987-03-01T00:00:00",
          "1987-06-01T00:00:00",
          "1987-09-01T00:00:00",
          "1987-12-01T00:00:00",
          "1988-03-01T00:00:00",
          "1988-06-01T00:00:00",
          "1988-09-01T00:00:00",
          "1988-12-01T00:00:00",
          "1989-03-01T00:00:00",
          "1989-06-01T00:00:00",
          "1989-09-01T00:00:00",
          "1989-12-01T00:00:00",
          "1990-03-01T00:00:00",
          "1990-06-01T00:00:00",
          "1990-09-01T00:00:00",
          "1990-12-01T00:00:00",
          "1991-03-01T00:00:00",
          "1991-06-01T00:00:00",
          "1991-09-01T00:00:00",
          "1991-12-01T00:00:00",
          "1992-03-01T00:00:00",
          "1992-06-01T00:00:00",
          "1992-09-01T00:00:00",
          "1992-12-01T00:00:00",
          "1993-03-01T00:00:00",
          "1993-06-01T00:00:00",
          "1993-09-01T00:00:00",
          "1993-12-01T00:00:00",
          "1994-03-01T00:00:00",
          "1994-06-01T00:00:00",
          "1994-09-01T00:00:00",
          "1994-12-01T00:00:00",
          "1995-03-01T00:00:00",
          "1995-06-01T00:00:00",
          "1995-09-01T00:00:00",
          "1995-12-01T00:00:00",
          "1996-03-01T00:00:00",
          "1996-06-01T00:00:00",
          "1996-09-01T00:00:00",
          "1996-12-01T00:00:00",
          "1997-03-01T00:00:00",
          "1997-06-01T00:00:00",
          "1997-09-01T00:00:00",
          "1997-12-01T00:00:00",
          "1998-03-01T00:00:00",
          "1998-06-01T00:00:00",
          "1998-09-01T00:00:00",
          "1998-12-01T00:00:00",
          "1999-03-01T00:00:00",
          "1999-06-01T00:00:00",
          "1999-09-01T00:00:00",
          "1999-12-01T00:00:00",
          "2000-03-01T00:00:00",
          "2000-06-01T00:00:00",
          "2000-09-01T00:00:00",
          "2000-12-01T00:00:00",
          "2001-03-01T00:00:00",
          "2001-06-01T00:00:00",
          "2001-09-01T00:00:00",
          "2001-12-01T00:00:00",
          "2002-03-01T00:00:00",
          "2002-06-01T00:00:00",
          "2002-09-01T00:00:00",
          "2002-12-01T00:00:00",
          "2003-03-01T00:00:00",
          "2003-06-01T00:00:00",
          "2003-09-01T00:00:00",
          "2003-12-01T00:00:00",
          "2004-03-01T00:00:00",
          "2004-06-01T00:00:00",
          "2004-09-01T00:00:00",
          "2004-12-01T00:00:00",
          "2005-03-01T00:00:00",
          "2005-06-01T00:00:00",
          "2005-09-01T00:00:00",
          "2005-12-01T00:00:00",
          "2006-03-01T00:00:00",
          "2006-06-01T00:00:00",
          "2006-09-01T00:00:00",
          "2006-12-01T00:00:00",
          "2007-03-01T00:00:00",
          "2007-06-01T00:00:00",
          "2007-09-01T00:00:00",
          "2007-12-01T00:00:00",
          "2008-03-01T00:00:00",
          "2008-06-01T00:00:00",
          "2008-09-01T00:00:00",
          "2008-12-01T00:00:00",
          "2009-03-01T00:00:00",
          "2009-06-01T00:00:00",
          "2009-09-01T00:00:00",
          "2009-12-01T00:00:00",
          "2010-03-01T00:00:00",
          "2010-06-01T00:00:00",
          "2010-09-01T00:00:00",
          "2010-12-01T00:00:00",
          "2011-03-01T00:00:00",
          "2011-06-01T00:00:00",
          "2011-09-01T00:00:00",
          "2011-12-01T00:00:00",
          "2012-03-01T00:00:00",
          "2012-06-01T00:00:00",
          "2012-09-01T00:00:00",
          "2012-12-01T00:00:00",
          "2013-03-01T00:00:00",
          "2013-06-01T00:00:00",
          "2013-09-01T00:00:00",
          "2013-12-01T00:00:00",
          "2014-03-01T00:00:00",
          "2014-06-01T00:00:00",
          "2014-09-01T00:00:00",
          "2014-12-01T00:00:00",
          "2015-03-01T00:00:00",
          "2015-06-01T00:00:00",
          "2015-09-01T00:00:00",
          "2015-12-01T00:00:00",
          "2016-03-01T00:00:00",
          "2016-06-01T00:00:00",
          "2016-09-01T00:00:00",
          "2016-12-01T00:00:00",
          "2017-03-01T00:00:00",
          "2017-06-01T00:00:00",
          "2017-09-01T00:00:00",
          "2017-12-01T00:00:00",
          "2018-03-01T00:00:00",
          "2018-06-01T00:00:00",
          "2018-09-01T00:00:00",
          "2018-12-01T00:00:00",
          "2019-03-01T00:00:00",
          "2019-06-01T00:00:00",
          "2019-09-01T00:00:00",
          "2019-12-01T00:00:00",
          "2020-03-01T00:00:00",
          "2020-06-01T00:00:00",
          "2020-09-01T00:00:00",
          "2020-12-01T00:00:00",
          "2021-03-01T00:00:00",
          "2021-06-01T00:00:00",
          "2021-09-01T00:00:00",
          "2021-12-01T00:00:00",
          "2022-03-01T00:00:00",
          "2022-06-01T00:00:00",
          "2022-09-01T00:00:00",
          "2022-12-01T00:00:00",
          "2023-03-01T00:00:00",
          "2023-06-01T00:00:00",
          "2023-09-01T00:00:00",
          "2023-12-01T00:00:00",
          "2024-03-01T00:00:00",
          "2024-06-01T00:00:00",
          "2024-09-01T00:00:00",
          "2024-12-01T00:00:00"
         ],
         "xaxis": "x",
         "y": [
          null,
          null,
          null,
          null,
          1.75,
          1.67,
          1.56,
          1.48,
          1.38,
          1.31,
          1.27,
          1.21,
          1.21,
          1.23,
          1.25,
          1.32,
          1.34,
          1.35,
          1.42,
          1.43,
          1.46,
          1.49,
          1.5,
          1.52,
          1.53,
          1.58,
          1.59,
          1.65,
          1.65,
          1.74,
          1.78,
          1.77,
          1.71,
          1.56,
          1.5,
          1.44,
          1.49,
          1.48,
          1.38,
          1.36,
          1.28,
          1.27,
          1.22,
          1.18,
          1.13,
          1.06,
          1.03,
          0.96,
          0.89,
          0.92,
          0.92,
          0.92,
          0.97,
          0.99,
          0.98,
          1.01,
          1.12,
          1.14,
          1.26,
          1.25,
          1.22,
          1.21,
          1.16,
          1.17,
          1.09,
          1.03,
          0.98,
          1,
          1,
          1.03,
          1.06,
          1.07,
          1.1,
          1.12,
          1.14,
          1.15,
          1.15,
          1.16,
          1.17,
          1.26,
          1.29,
          1.27,
          1.28,
          1.19,
          1.14,
          1.14,
          1.13,
          1.15,
          1.16,
          1.15,
          1.13,
          1.11,
          1.07,
          1.09,
          1.1,
          1.17,
          1.22,
          1.28,
          1.32,
          1.35,
          1.36,
          1.47,
          1.56,
          1.69,
          1.84,
          1.86,
          1.88,
          1.96,
          2.02,
          2.11,
          2.19,
          2.14,
          2.08,
          1.98,
          1.82,
          1.68,
          1.57,
          1.45,
          1.4,
          1.39,
          1.4,
          1.49,
          1.58,
          1.67,
          1.76,
          1.79,
          1.8,
          1.78,
          1.74,
          1.69,
          1.61,
          1.58,
          1.5,
          1.48,
          1.47,
          1.45,
          1.45,
          1.45,
          1.46,
          1.51,
          1.57,
          1.65,
          1.67,
          1.69,
          1.66,
          1.62,
          1.53,
          1.51,
          1.51,
          1.53,
          1.56,
          1.54,
          1.49,
          1.48,
          1.49,
          1.44,
          1.24,
          0.77,
          0.43,
          0.1,
          0.14,
          0.28,
          0.56,
          1.01,
          1.3,
          1.81,
          2.12,
          2.32,
          2.46,
          2.53,
          2.41,
          2.26,
          2.01,
          1.78,
          1.65
         ],
         "yaxis": "y2"
        }
       ],
       "layout": {
        "annotations": [
         {
          "align": "left",
          "bgcolor": "white",
          "bordercolor": "black",
          "borderwidth": 1,
          "font": {
           "color": "black",
           "size": 12
          },
          "showarrow": false,
          "text": "Source: ABS",
          "x": -0.05,
          "xref": "paper",
          "y": -0.16,
          "yref": "paper"
         },
         {
          "font": {
           "color": "red"
          },
          "showarrow": false,
          "text": "Pre-COVID avg: 1.40",
          "x": 0.5,
          "xanchor": "right",
          "xref": "paper",
          "y": 1.4005298013245033,
          "yanchor": "bottom",
          "yref": "y2"
         }
        ],
        "font": {
         "color": "black",
         "family": "Arial, sans-serif",
         "size": 14
        },
        "height": 600,
        "hovermode": "x unified",
        "legend": {
         "bgcolor": "rgba(255,255,255,0)",
         "bordercolor": "rgba(255,255,255,0)",
         "orientation": "h",
         "x": 0.5,
         "xanchor": "center",
         "y": -0.22,
         "yanchor": "top"
        },
        "margin": {
         "b": 110,
         "l": 50,
         "r": 50,
         "t": 40
        },
        "shapes": [
         {
          "line": {
           "color": "red",
           "dash": "dot"
          },
          "type": "line",
          "x0": 0,
          "x1": 1,
          "xref": "paper",
          "y0": 1.4005298013245033,
          "y1": 1.4005298013245033,
          "yref": "y2"
         }
        ],
        "template": {
         "data": {
          "bar": [
           {
            "error_x": {
             "color": "#2a3f5f"
            },
            "error_y": {
             "color": "#2a3f5f"
            },
            "marker": {
             "line": {
              "color": "white",
              "width": 0.5
             },
             "pattern": {
              "fillmode": "overlay",
              "size": 10,
              "solidity": 0.2
             }
            },
            "type": "bar"
           }
          ],
          "barpolar": [
           {
            "marker": {
             "line": {
              "color": "white",
              "width": 0.5
             },
             "pattern": {
              "fillmode": "overlay",
              "size": 10,
              "solidity": 0.2
             }
            },
            "type": "barpolar"
           }
          ],
          "carpet": [
           {
            "aaxis": {
             "endlinecolor": "#2a3f5f",
             "gridcolor": "#C8D4E3",
             "linecolor": "#C8D4E3",
             "minorgridcolor": "#C8D4E3",
             "startlinecolor": "#2a3f5f"
            },
            "baxis": {
             "endlinecolor": "#2a3f5f",
             "gridcolor": "#C8D4E3",
             "linecolor": "#C8D4E3",
             "minorgridcolor": "#C8D4E3",
             "startlinecolor": "#2a3f5f"
            },
            "type": "carpet"
           }
          ],
          "choropleth": [
           {
            "colorbar": {
             "outlinewidth": 0,
             "ticks": ""
            },
            "type": "choropleth"
           }
          ],
          "contour": [
           {
            "colorbar": {
             "outlinewidth": 0,
             "ticks": ""
            },
            "colorscale": [
             [
              0,
              "#0d0887"
             ],
             [
              0.1111111111111111,
              "#46039f"
             ],
             [
              0.2222222222222222,
              "#7201a8"
             ],
             [
              0.3333333333333333,
              "#9c179e"
             ],
             [
              0.4444444444444444,
              "#bd3786"
             ],
             [
              0.5555555555555556,
              "#d8576b"
             ],
             [
              0.6666666666666666,
              "#ed7953"
             ],
             [
              0.7777777777777778,
              "#fb9f3a"
             ],
             [
              0.8888888888888888,
              "#fdca26"
             ],
             [
              1,
              "#f0f921"
             ]
            ],
            "type": "contour"
           }
          ],
          "contourcarpet": [
           {
            "colorbar": {
             "outlinewidth": 0,
             "ticks": ""
            },
            "type": "contourcarpet"
           }
          ],
          "heatmap": [
           {
            "colorbar": {
             "outlinewidth": 0,
             "ticks": ""
            },
            "colorscale": [
             [
              0,
              "#0d0887"
             ],
             [
              0.1111111111111111,
              "#46039f"
             ],
             [
              0.2222222222222222,
              "#7201a8"
             ],
             [
              0.3333333333333333,
              "#9c179e"
             ],
             [
              0.4444444444444444,
              "#bd3786"
             ],
             [
              0.5555555555555556,
              "#d8576b"
             ],
             [
              0.6666666666666666,
              "#ed7953"
             ],
             [
              0.7777777777777778,
              "#fb9f3a"
             ],
             [
              0.8888888888888888,
              "#fdca26"
             ],
             [
              1,
              "#f0f921"
             ]
            ],
            "type": "heatmap"
           }
          ],
          "heatmapgl": [
           {
            "colorbar": {
             "outlinewidth": 0,
             "ticks": ""
            },
            "colorscale": [
             [
              0,
              "#0d0887"
             ],
             [
              0.1111111111111111,
              "#46039f"
             ],
             [
              0.2222222222222222,
              "#7201a8"
             ],
             [
              0.3333333333333333,
              "#9c179e"
             ],
             [
              0.4444444444444444,
              "#bd3786"
             ],
             [
              0.5555555555555556,
              "#d8576b"
             ],
             [
              0.6666666666666666,
              "#ed7953"
             ],
             [
              0.7777777777777778,
              "#fb9f3a"
             ],
             [
              0.8888888888888888,
              "#fdca26"
             ],
             [
              1,
              "#f0f921"
             ]
            ],
            "type": "heatmapgl"
           }
          ],
          "histogram": [
           {
            "marker": {
             "pattern": {
              "fillmode": "overlay",
              "size": 10,
              "solidity": 0.2
             }
            },
            "type": "histogram"
           }
          ],
          "histogram2d": [
           {
            "colorbar": {
             "outlinewidth": 0,
             "ticks": ""
            },
            "colorscale": [
             [
              0,
              "#0d0887"
             ],
             [
              0.1111111111111111,
              "#46039f"
             ],
             [
              0.2222222222222222,
              "#7201a8"
             ],
             [
              0.3333333333333333,
              "#9c179e"
             ],
             [
              0.4444444444444444,
              "#bd3786"
             ],
             [
              0.5555555555555556,
              "#d8576b"
             ],
             [
              0.6666666666666666,
              "#ed7953"
             ],
             [
              0.7777777777777778,
              "#fb9f3a"
             ],
             [
              0.8888888888888888,
              "#fdca26"
             ],
             [
              1,
              "#f0f921"
             ]
            ],
            "type": "histogram2d"
           }
          ],
          "histogram2dcontour": [
           {
            "colorbar": {
             "outlinewidth": 0,
             "ticks": ""
            },
            "colorscale": [
             [
              0,
              "#0d0887"
             ],
             [
              0.1111111111111111,
              "#46039f"
             ],
             [
              0.2222222222222222,
              "#7201a8"
             ],
             [
              0.3333333333333333,
              "#9c179e"
             ],
             [
              0.4444444444444444,
              "#bd3786"
             ],
             [
              0.5555555555555556,
              "#d8576b"
             ],
             [
              0.6666666666666666,
              "#ed7953"
             ],
             [
              0.7777777777777778,
              "#fb9f3a"
             ],
             [
              0.8888888888888888,
              "#fdca26"
             ],
             [
              1,
              "#f0f921"
             ]
            ],
            "type": "histogram2dcontour"
           }
          ],
          "mesh3d": [
           {
            "colorbar": {
             "outlinewidth": 0,
             "ticks": ""
            },
            "type": "mesh3d"
           }
          ],
          "parcoords": [
           {
            "line": {
             "colorbar": {
              "outlinewidth": 0,
              "ticks": ""
             }
            },
            "type": "parcoords"
           }
          ],
          "pie": [
           {
            "automargin": true,
            "type": "pie"
           }
          ],
          "scatter": [
           {
            "fillpattern": {
             "fillmode": "overlay",
             "size": 10,
             "solidity": 0.2
            },
            "type": "scatter"
           }
          ],
          "scatter3d": [
           {
            "line": {
             "colorbar": {
              "outlinewidth": 0,
              "ticks": ""
             }
            },
            "marker": {
             "colorbar": {
              "outlinewidth": 0,
              "ticks": ""
             }
            },
            "type": "scatter3d"
           }
          ],
          "scattercarpet": [
           {
            "marker": {
             "colorbar": {
              "outlinewidth": 0,
              "ticks": ""
             }
            },
            "type": "scattercarpet"
           }
          ],
          "scattergeo": [
           {
            "marker": {
             "colorbar": {
              "outlinewidth": 0,
              "ticks": ""
             }
            },
            "type": "scattergeo"
           }
          ],
          "scattergl": [
           {
            "marker": {
             "colorbar": {
              "outlinewidth": 0,
              "ticks": ""
             }
            },
            "type": "scattergl"
           }
          ],
          "scattermapbox": [
           {
            "marker": {
             "colorbar": {
              "outlinewidth": 0,
              "ticks": ""
             }
            },
            "type": "scattermapbox"
           }
          ],
          "scatterpolar": [
           {
            "marker": {
             "colorbar": {
              "outlinewidth": 0,
              "ticks": ""
             }
            },
            "type": "scatterpolar"
           }
          ],
          "scatterpolargl": [
           {
            "marker": {
             "colorbar": {
              "outlinewidth": 0,
              "ticks": ""
             }
            },
            "type": "scatterpolargl"
           }
          ],
          "scatterternary": [
           {
            "marker": {
             "colorbar": {
              "outlinewidth": 0,
              "ticks": ""
             }
            },
            "type": "scatterternary"
           }
          ],
          "surface": [
           {
            "colorbar": {
             "outlinewidth": 0,
             "ticks": ""
            },
            "colorscale": [
             [
              0,
              "#0d0887"
             ],
             [
              0.1111111111111111,
              "#46039f"
             ],
             [
              0.2222222222222222,
              "#7201a8"
             ],
             [
              0.3333333333333333,
              "#9c179e"
             ],
             [
              0.4444444444444444,
              "#bd3786"
             ],
             [
              0.5555555555555556,
              "#d8576b"
             ],
             [
              0.6666666666666666,
              "#ed7953"
             ],
             [
              0.7777777777777778,
              "#fb9f3a"
             ],
             [
              0.8888888888888888,
              "#fdca26"
             ],
             [
              1,
              "#f0f921"
             ]
            ],
            "type": "surface"
           }
          ],
          "table": [
           {
            "cells": {
             "fill": {
              "color": "#EBF0F8"
             },
             "line": {
              "color": "white"
             }
            },
            "header": {
             "fill": {
              "color": "#C8D4E3"
             },
             "line": {
              "color": "white"
             }
            },
            "type": "table"
           }
          ]
         },
         "layout": {
          "annotationdefaults": {
           "arrowcolor": "#2a3f5f",
           "arrowhead": 0,
           "arrowwidth": 1
          },
          "autotypenumbers": "strict",
          "coloraxis": {
           "colorbar": {
            "outlinewidth": 0,
            "ticks": ""
           }
          },
          "colorscale": {
           "diverging": [
            [
             0,
             "#8e0152"
            ],
            [
             0.1,
             "#c51b7d"
            ],
            [
             0.2,
             "#de77ae"
            ],
            [
             0.3,
             "#f1b6da"
            ],
            [
             0.4,
             "#fde0ef"
            ],
            [
             0.5,
             "#f7f7f7"
            ],
            [
             0.6,
             "#e6f5d0"
            ],
            [
             0.7,
             "#b8e186"
            ],
            [
             0.8,
             "#7fbc41"
            ],
            [
             0.9,
             "#4d9221"
            ],
            [
             1,
             "#276419"
            ]
           ],
           "sequential": [
            [
             0,
             "#0d0887"
            ],
            [
             0.1111111111111111,
             "#46039f"
            ],
            [
             0.2222222222222222,
             "#7201a8"
            ],
            [
             0.3333333333333333,
             "#9c179e"
            ],
            [
             0.4444444444444444,
             "#bd3786"
            ],
            [
             0.5555555555555556,
             "#d8576b"
            ],
            [
             0.6666666666666666,
             "#ed7953"
            ],
            [
             0.7777777777777778,
             "#fb9f3a"
            ],
            [
             0.8888888888888888,
             "#fdca26"
            ],
            [
             1,
             "#f0f921"
            ]
           ],
           "sequentialminus": [
            [
             0,
             "#0d0887"
            ],
            [
             0.1111111111111111,
             "#46039f"
            ],
            [
             0.2222222222222222,
             "#7201a8"
            ],
            [
             0.3333333333333333,
             "#9c179e"
            ],
            [
             0.4444444444444444,
             "#bd3786"
            ],
            [
             0.5555555555555556,
             "#d8576b"
            ],
            [
             0.6666666666666666,
             "#ed7953"
            ],
            [
             0.7777777777777778,
             "#fb9f3a"
            ],
            [
             0.8888888888888888,
             "#fdca26"
            ],
            [
             1,
             "#f0f921"
            ]
           ]
          },
          "colorway": [
           "#636efa",
           "#EF553B",
           "#00cc96",
           "#ab63fa",
           "#FFA15A",
           "#19d3f3",
           "#FF6692",
           "#B6E880",
           "#FF97FF",
           "#FECB52"
          ],
          "font": {
           "color": "#2a3f5f"
          },
          "geo": {
           "bgcolor": "white",
           "lakecolor": "white",
           "landcolor": "white",
           "showlakes": true,
           "showland": true,
           "subunitcolor": "#C8D4E3"
          },
          "hoverlabel": {
           "align": "left"
          },
          "hovermode": "closest",
          "mapbox": {
           "style": "light"
          },
          "paper_bgcolor": "white",
          "plot_bgcolor": "white",
          "polar": {
           "angularaxis": {
            "gridcolor": "#EBF0F8",
            "linecolor": "#EBF0F8",
            "ticks": ""
           },
           "bgcolor": "white",
           "radialaxis": {
            "gridcolor": "#EBF0F8",
            "linecolor": "#EBF0F8",
            "ticks": ""
           }
          },
          "scene": {
           "xaxis": {
            "backgroundcolor": "white",
            "gridcolor": "#DFE8F3",
            "gridwidth": 2,
            "linecolor": "#EBF0F8",
            "showbackground": true,
            "ticks": "",
            "zerolinecolor": "#EBF0F8"
           },
           "yaxis": {
            "backgroundcolor": "white",
            "gridcolor": "#DFE8F3",
            "gridwidth": 2,
            "linecolor": "#EBF0F8",
            "showbackground": true,
            "ticks": "",
            "zerolinecolor": "#EBF0F8"
           },
           "zaxis": {
            "backgroundcolor": "white",
            "gridcolor": "#DFE8F3",
            "gridwidth": 2,
            "linecolor": "#EBF0F8",
            "showbackground": true,
            "ticks": "",
            "zerolinecolor": "#EBF0F8"
           }
          },
          "shapedefaults": {
           "line": {
            "color": "#2a3f5f"
           }
          },
          "ternary": {
           "aaxis": {
            "gridcolor": "#DFE8F3",
            "linecolor": "#A2B1C6",
            "ticks": ""
           },
           "baxis": {
            "gridcolor": "#DFE8F3",
            "linecolor": "#A2B1C6",
            "ticks": ""
           },
           "bgcolor": "white",
           "caxis": {
            "gridcolor": "#DFE8F3",
            "linecolor": "#A2B1C6",
            "ticks": ""
           }
          },
          "title": {
           "x": 0.05
          },
          "xaxis": {
           "automargin": true,
           "gridcolor": "#EBF0F8",
           "linecolor": "#EBF0F8",
           "ticks": "",
           "title": {
            "standoff": 15
           },
           "zerolinecolor": "#EBF0F8",
           "zerolinewidth": 2
          },
          "yaxis": {
           "automargin": true,
           "gridcolor": "#EBF0F8",
           "linecolor": "#EBF0F8",
           "ticks": "",
           "title": {
            "standoff": 15
           },
           "zerolinecolor": "#EBF0F8",
           "zerolinewidth": 2
          }
         }
        },
        "title": {
         "text": "Immigration to Australia"
        },
        "width": 1000,
        "xaxis": {
         "anchor": "y",
         "domain": [
          0,
          0.94
         ]
        },
        "yaxis": {
         "anchor": "x",
         "domain": [
          0,
          1
         ],
         "title": {
          "text": "000"
         },
         "type": "linear"
        },
        "yaxis2": {
         "anchor": "x",
         "overlaying": "y",
         "showgrid": false,
         "side": "right",
         "title": {
          "text": "Percent"
         },
         "type": "linear"
        }
       }
      }
     },
     "metadata": {},
     "output_type": "display_data"
    }
   ],
   "source": [
    "fig = watchlist.plot_watchlist(['A2133251W'], ['A2133256J'], template=\"plotly_white\", title=\"Immigration to Australia\")\n",
    "\n",
    "pre_covid = watchlist[\"watchlist_datasets\"]['A2133256J'].loc[:'2020-01-01']\n",
    "pre_covid_av = pre_covid.mean()\n",
    "pre_covid_av\n",
    "\n",
    "# Add a dotted horizontal line on the secondary y-axis at pre_covid_av\n",
    "fig.add_shape(\n",
    "    type=\"line\",\n",
    "    xref=\"paper\", x0=0, x1=1,\n",
    "    yref=\"y2\", y0=pre_covid_av, y1=pre_covid_av,\n",
    "    line=dict(color=\"red\", dash=\"dot\"),\n",
    ")\n",
    "# Add an annotation on the right end of the secondary axis\n",
    "fig.add_annotation(\n",
    "    x=0.5, xref=\"paper\",\n",
    "    y=pre_covid_av, yref=\"y2\",\n",
    "    text=f\"Pre-COVID avg: {pre_covid_av:.2f}\",\n",
    "    showarrow=False,\n",
    "    xanchor=\"right\",\n",
    "    yanchor=\"bottom\",\n",
    "    font=dict(color=\"red\")\n",
    ")\n",
    "\n",
    "fig.show()"
   ]
  },
  {
   "cell_type": "code",
   "execution_count": 13,
   "metadata": {},
   "outputs": [],
   "source": [
    "arrivals_ma = watchlist[\"watchlist_datasets\"]['A85232568L'].rolling(12).mean()"
   ]
  },
  {
   "cell_type": "code",
   "execution_count": 14,
   "metadata": {},
   "outputs": [
    {
     "data": {
      "application/vnd.plotly.v1+json": {
       "config": {
        "plotlyServerURL": "https://plot.ly"
       },
       "data": [
        {
         "mode": "lines",
         "name": "Estimated Resident Population (ERP) ;  Australia ;",
         "type": "scatter",
         "x": [
          "1981-06-01T00:00:00",
          "1981-09-01T00:00:00",
          "1981-12-01T00:00:00",
          "1982-03-01T00:00:00",
          "1982-06-01T00:00:00",
          "1982-09-01T00:00:00",
          "1982-12-01T00:00:00",
          "1983-03-01T00:00:00",
          "1983-06-01T00:00:00",
          "1983-09-01T00:00:00",
          "1983-12-01T00:00:00",
          "1984-03-01T00:00:00",
          "1984-06-01T00:00:00",
          "1984-09-01T00:00:00",
          "1984-12-01T00:00:00",
          "1985-03-01T00:00:00",
          "1985-06-01T00:00:00",
          "1985-09-01T00:00:00",
          "1985-12-01T00:00:00",
          "1986-03-01T00:00:00",
          "1986-06-01T00:00:00",
          "1986-09-01T00:00:00",
          "1986-12-01T00:00:00",
          "1987-03-01T00:00:00",
          "1987-06-01T00:00:00",
          "1987-09-01T00:00:00",
          "1987-12-01T00:00:00",
          "1988-03-01T00:00:00",
          "1988-06-01T00:00:00",
          "1988-09-01T00:00:00",
          "1988-12-01T00:00:00",
          "1989-03-01T00:00:00",
          "1989-06-01T00:00:00",
          "1989-09-01T00:00:00",
          "1989-12-01T00:00:00",
          "1990-03-01T00:00:00",
          "1990-06-01T00:00:00",
          "1990-09-01T00:00:00",
          "1990-12-01T00:00:00",
          "1991-03-01T00:00:00",
          "1991-06-01T00:00:00",
          "1991-09-01T00:00:00",
          "1991-12-01T00:00:00",
          "1992-03-01T00:00:00",
          "1992-06-01T00:00:00",
          "1992-09-01T00:00:00",
          "1992-12-01T00:00:00",
          "1993-03-01T00:00:00",
          "1993-06-01T00:00:00",
          "1993-09-01T00:00:00",
          "1993-12-01T00:00:00",
          "1994-03-01T00:00:00",
          "1994-06-01T00:00:00",
          "1994-09-01T00:00:00",
          "1994-12-01T00:00:00",
          "1995-03-01T00:00:00",
          "1995-06-01T00:00:00",
          "1995-09-01T00:00:00",
          "1995-12-01T00:00:00",
          "1996-03-01T00:00:00",
          "1996-06-01T00:00:00",
          "1996-09-01T00:00:00",
          "1996-12-01T00:00:00",
          "1997-03-01T00:00:00",
          "1997-06-01T00:00:00",
          "1997-09-01T00:00:00",
          "1997-12-01T00:00:00",
          "1998-03-01T00:00:00",
          "1998-06-01T00:00:00",
          "1998-09-01T00:00:00",
          "1998-12-01T00:00:00",
          "1999-03-01T00:00:00",
          "1999-06-01T00:00:00",
          "1999-09-01T00:00:00",
          "1999-12-01T00:00:00",
          "2000-03-01T00:00:00",
          "2000-06-01T00:00:00",
          "2000-09-01T00:00:00",
          "2000-12-01T00:00:00",
          "2001-03-01T00:00:00",
          "2001-06-01T00:00:00",
          "2001-09-01T00:00:00",
          "2001-12-01T00:00:00",
          "2002-03-01T00:00:00",
          "2002-06-01T00:00:00",
          "2002-09-01T00:00:00",
          "2002-12-01T00:00:00",
          "2003-03-01T00:00:00",
          "2003-06-01T00:00:00",
          "2003-09-01T00:00:00",
          "2003-12-01T00:00:00",
          "2004-03-01T00:00:00",
          "2004-06-01T00:00:00",
          "2004-09-01T00:00:00",
          "2004-12-01T00:00:00",
          "2005-03-01T00:00:00",
          "2005-06-01T00:00:00",
          "2005-09-01T00:00:00",
          "2005-12-01T00:00:00",
          "2006-03-01T00:00:00",
          "2006-06-01T00:00:00",
          "2006-09-01T00:00:00",
          "2006-12-01T00:00:00",
          "2007-03-01T00:00:00",
          "2007-06-01T00:00:00",
          "2007-09-01T00:00:00",
          "2007-12-01T00:00:00",
          "2008-03-01T00:00:00",
          "2008-06-01T00:00:00",
          "2008-09-01T00:00:00",
          "2008-12-01T00:00:00",
          "2009-03-01T00:00:00",
          "2009-06-01T00:00:00",
          "2009-09-01T00:00:00",
          "2009-12-01T00:00:00",
          "2010-03-01T00:00:00",
          "2010-06-01T00:00:00",
          "2010-09-01T00:00:00",
          "2010-12-01T00:00:00",
          "2011-03-01T00:00:00",
          "2011-06-01T00:00:00",
          "2011-09-01T00:00:00",
          "2011-12-01T00:00:00",
          "2012-03-01T00:00:00",
          "2012-06-01T00:00:00",
          "2012-09-01T00:00:00",
          "2012-12-01T00:00:00",
          "2013-03-01T00:00:00",
          "2013-06-01T00:00:00",
          "2013-09-01T00:00:00",
          "2013-12-01T00:00:00",
          "2014-03-01T00:00:00",
          "2014-06-01T00:00:00",
          "2014-09-01T00:00:00",
          "2014-12-01T00:00:00",
          "2015-03-01T00:00:00",
          "2015-06-01T00:00:00",
          "2015-09-01T00:00:00",
          "2015-12-01T00:00:00",
          "2016-03-01T00:00:00",
          "2016-06-01T00:00:00",
          "2016-09-01T00:00:00",
          "2016-12-01T00:00:00",
          "2017-03-01T00:00:00",
          "2017-06-01T00:00:00",
          "2017-09-01T00:00:00",
          "2017-12-01T00:00:00",
          "2018-03-01T00:00:00",
          "2018-06-01T00:00:00",
          "2018-09-01T00:00:00",
          "2018-12-01T00:00:00",
          "2019-03-01T00:00:00",
          "2019-06-01T00:00:00",
          "2019-09-01T00:00:00",
          "2019-12-01T00:00:00",
          "2020-03-01T00:00:00",
          "2020-06-01T00:00:00",
          "2020-09-01T00:00:00",
          "2020-12-01T00:00:00",
          "2021-03-01T00:00:00",
          "2021-06-01T00:00:00",
          "2021-09-01T00:00:00",
          "2021-12-01T00:00:00",
          "2022-03-01T00:00:00",
          "2022-06-01T00:00:00",
          "2022-09-01T00:00:00",
          "2022-12-01T00:00:00",
          "2023-03-01T00:00:00",
          "2023-06-01T00:00:00",
          "2023-09-01T00:00:00",
          "2023-12-01T00:00:00",
          "2024-03-01T00:00:00",
          "2024-06-01T00:00:00",
          "2024-09-01T00:00:00",
          "2024-12-01T00:00:00"
         ],
         "xaxis": "x",
         "y": [
          14923.3,
          14988.7,
          15054.1,
          15121.7,
          15184.2,
          15239.3,
          15288.9,
          15346.2,
          15393.5,
          15439,
          15483.5,
          15531.5,
          15579.4,
          15628.5,
          15677.3,
          15736.7,
          15788.3,
          15839.7,
          15900.6,
          15961.5,
          16018.4,
          16075,
          16138.8,
          16204,
          16263.9,
          16328.9,
          16394.6,
          16471.8,
          16532.2,
          16612.6,
          16687.1,
          16764,
          16814.4,
          16872,
          16936.7,
          17005.6,
          17065.1,
          17121.1,
          17169.8,
          17237.4,
          17284,
          17338.9,
          17379,
          17441.3,
          17478.6,
          17523.3,
          17557.1,
          17609.6,
          17634.8,
          17683.7,
          17719.1,
          17772.1,
          17805.5,
          17859.3,
          17893.4,
          17951.6,
          18004.9,
          18062.2,
          18119.6,
          18176,
          18224.8,
          18281.3,
          18330.1,
          18388.7,
          18423,
          18468.7,
          18510,
          18572.4,
          18607.6,
          18658.4,
          18705.6,
          18770.5,
          18812.3,
          18867.7,
          18919.2,
          18986.7,
          19028.8,
          19086,
          19141,
          19225.2,
          19274.7,
          19329.1,
          19386.5,
          19453.4,
          19495.2,
          19548.9,
          19605.4,
          19676.6,
          19720.7,
          19773.4,
          19827.2,
          19894.1,
          19932.7,
          19989.7,
          20046,
          20126.6,
          20176.8,
          20244.7,
          20311.5,
          20398.1,
          20451,
          20542.3,
          20627.5,
          20742.8,
          20827.6,
          20924.2,
          21016.1,
          21148.9,
          21249.2,
          21366,
          21475.6,
          21601.7,
          21691.7,
          21788.1,
          21865.6,
          21964.1,
          22031.8,
          22104.4,
          22172.5,
          22268.8,
          22340,
          22432.8,
          22522.2,
          22640.9,
          22733.5,
          22833.9,
          22928,
          23043,
          23128.1,
          23220.2,
          23297.8,
          23406.2,
          23475.7,
          23562.9,
          23640.3,
          23745.6,
          23816,
          23904.3,
          23984.6,
          24103.4,
          24190.9,
          24297.5,
          24385.1,
          24511.4,
          24592.6,
          24690.1,
          24759,
          24881.8,
          24963.3,
          25067.4,
          25146.1,
          25264.9,
          25334.8,
          25438.1,
          25520.5,
          25627.9,
          25649.2,
          25633.3,
          25630.7,
          25653,
          25685.4,
          25704.8,
          25773.8,
          25913,
          26018.7,
          26169.3,
          26320.3,
          26514.3,
          26659.9,
          26832.5,
          26954.1,
          27113.7,
          27196.8,
          27308.9,
          27400
         ],
         "yaxis": "y"
        },
        {
         "mode": "lines",
         "name": "Net Permanent and Long Term Movement ;  Australia ;",
         "type": "scatter",
         "x": [
          "1981-06-01T00:00:00",
          "1981-09-01T00:00:00",
          "1981-12-01T00:00:00",
          "1982-03-01T00:00:00",
          "1982-06-01T00:00:00",
          "1982-09-01T00:00:00",
          "1982-12-01T00:00:00",
          "1983-03-01T00:00:00",
          "1983-06-01T00:00:00",
          "1983-09-01T00:00:00",
          "1983-12-01T00:00:00",
          "1984-03-01T00:00:00",
          "1984-06-01T00:00:00",
          "1984-09-01T00:00:00",
          "1984-12-01T00:00:00",
          "1985-03-01T00:00:00",
          "1985-06-01T00:00:00",
          "1985-09-01T00:00:00",
          "1985-12-01T00:00:00",
          "1986-03-01T00:00:00",
          "1986-06-01T00:00:00",
          "1986-09-01T00:00:00",
          "1986-12-01T00:00:00",
          "1987-03-01T00:00:00",
          "1987-06-01T00:00:00",
          "1987-09-01T00:00:00",
          "1987-12-01T00:00:00",
          "1988-03-01T00:00:00",
          "1988-06-01T00:00:00",
          "1988-09-01T00:00:00",
          "1988-12-01T00:00:00",
          "1989-03-01T00:00:00",
          "1989-06-01T00:00:00",
          "1989-09-01T00:00:00",
          "1989-12-01T00:00:00",
          "1990-03-01T00:00:00",
          "1990-06-01T00:00:00",
          "1990-09-01T00:00:00",
          "1990-12-01T00:00:00",
          "1991-03-01T00:00:00",
          "1991-06-01T00:00:00",
          "1991-09-01T00:00:00",
          "1991-12-01T00:00:00",
          "1992-03-01T00:00:00",
          "1992-06-01T00:00:00",
          "1992-09-01T00:00:00",
          "1992-12-01T00:00:00",
          "1993-03-01T00:00:00",
          "1993-06-01T00:00:00",
          "1993-09-01T00:00:00",
          "1993-12-01T00:00:00",
          "1994-03-01T00:00:00",
          "1994-06-01T00:00:00",
          "1994-09-01T00:00:00",
          "1994-12-01T00:00:00",
          "1995-03-01T00:00:00",
          "1995-06-01T00:00:00",
          "1995-09-01T00:00:00",
          "1995-12-01T00:00:00",
          "1996-03-01T00:00:00",
          "1996-06-01T00:00:00",
          "1996-09-01T00:00:00",
          "1996-12-01T00:00:00",
          "1997-03-01T00:00:00",
          "1997-06-01T00:00:00",
          "1997-09-01T00:00:00",
          "1997-12-01T00:00:00",
          "1998-03-01T00:00:00",
          "1998-06-01T00:00:00",
          "1998-09-01T00:00:00",
          "1998-12-01T00:00:00",
          "1999-03-01T00:00:00",
          "1999-06-01T00:00:00",
          "1999-09-01T00:00:00",
          "1999-12-01T00:00:00",
          "2000-03-01T00:00:00",
          "2000-06-01T00:00:00",
          "2000-09-01T00:00:00",
          "2000-12-01T00:00:00",
          "2001-03-01T00:00:00",
          "2001-06-01T00:00:00",
          "2001-09-01T00:00:00",
          "2001-12-01T00:00:00",
          "2002-03-01T00:00:00",
          "2002-06-01T00:00:00",
          "2002-09-01T00:00:00",
          "2002-12-01T00:00:00",
          "2003-03-01T00:00:00",
          "2003-06-01T00:00:00",
          "2003-09-01T00:00:00",
          "2003-12-01T00:00:00",
          "2004-03-01T00:00:00",
          "2004-06-01T00:00:00",
          "2004-09-01T00:00:00",
          "2004-12-01T00:00:00",
          "2005-03-01T00:00:00",
          "2005-06-01T00:00:00",
          "2005-09-01T00:00:00",
          "2005-12-01T00:00:00",
          "2006-03-01T00:00:00",
          "2006-06-01T00:00:00",
          "2006-09-01T00:00:00",
          "2006-12-01T00:00:00",
          "2007-03-01T00:00:00",
          "2007-06-01T00:00:00",
          "2007-09-01T00:00:00",
          "2007-12-01T00:00:00",
          "2008-03-01T00:00:00",
          "2008-06-01T00:00:00",
          "2008-09-01T00:00:00",
          "2008-12-01T00:00:00",
          "2009-03-01T00:00:00",
          "2009-06-01T00:00:00",
          "2009-09-01T00:00:00",
          "2009-12-01T00:00:00",
          "2010-03-01T00:00:00",
          "2010-06-01T00:00:00",
          "2010-09-01T00:00:00",
          "2010-12-01T00:00:00",
          "2011-03-01T00:00:00",
          "2011-06-01T00:00:00",
          "2011-09-01T00:00:00",
          "2011-12-01T00:00:00",
          "2012-03-01T00:00:00",
          "2012-06-01T00:00:00",
          "2012-09-01T00:00:00",
          "2012-12-01T00:00:00",
          "2013-03-01T00:00:00",
          "2013-06-01T00:00:00",
          "2013-09-01T00:00:00",
          "2013-12-01T00:00:00",
          "2014-03-01T00:00:00",
          "2014-06-01T00:00:00",
          "2014-09-01T00:00:00",
          "2014-12-01T00:00:00",
          "2015-03-01T00:00:00",
          "2015-06-01T00:00:00",
          "2015-09-01T00:00:00",
          "2015-12-01T00:00:00",
          "2016-03-01T00:00:00",
          "2016-06-01T00:00:00",
          "2016-09-01T00:00:00",
          "2016-12-01T00:00:00",
          "2017-03-01T00:00:00",
          "2017-06-01T00:00:00",
          "2017-09-01T00:00:00",
          "2017-12-01T00:00:00",
          "2018-03-01T00:00:00",
          "2018-06-01T00:00:00",
          "2018-09-01T00:00:00",
          "2018-12-01T00:00:00",
          "2019-03-01T00:00:00",
          "2019-06-01T00:00:00",
          "2019-09-01T00:00:00",
          "2019-12-01T00:00:00",
          "2020-03-01T00:00:00",
          "2020-06-01T00:00:00",
          "2020-09-01T00:00:00",
          "2020-12-01T00:00:00",
          "2021-03-01T00:00:00",
          "2021-06-01T00:00:00",
          "2021-09-01T00:00:00",
          "2021-12-01T00:00:00",
          "2022-03-01T00:00:00",
          "2022-06-01T00:00:00",
          "2022-09-01T00:00:00",
          "2022-12-01T00:00:00",
          "2023-03-01T00:00:00",
          "2023-06-01T00:00:00",
          "2023-09-01T00:00:00",
          "2023-12-01T00:00:00",
          "2024-03-01T00:00:00",
          "2024-06-01T00:00:00",
          "2024-09-01T00:00:00",
          "2024-12-01T00:00:00"
         ],
         "xaxis": "x",
         "y": [
          29.1,
          30.8,
          35,
          32.4,
          24.8,
          24.4,
          21.3,
          18.1,
          11.6,
          10.3,
          13,
          14.3,
          9,
          14.9,
          19.1,
          20.1,
          13.9,
          19.5,
          25.6,
          27.5,
          21.4,
          25.9,
          29.4,
          28.9,
          24.9,
          31.3,
          38.8,
          41.8,
          31.4,
          37.7,
          38.3,
          35.3,
          26,
          29.3,
          27.4,
          28.4,
          18.8,
          26.1,
          23.3,
          28.5,
          16.8,
          26.6,
          21.6,
          28.1,
          13.6,
          19.1,
          16,
          20.5,
          7.1,
          16.3,
          13.6,
          25.7,
          11.7,
          23.5,
          19.3,
          32.5,
          17.7,
          28.9,
          25.4,
          39.6,
          15.7,
          27.7,
          20.1,
          36.1,
          10.6,
          22.9,
          14,
          33.7,
          8.5,
          26.5,
          20.1,
          35.1,
          14.8,
          29.7,
          24.6,
          37.4,
          15.5,
          31.9,
          26.6,
          54.8,
          22.4,
          35.7,
          27.5,
          50.6,
          20,
          39.9,
          28.5,
          60.4,
          25.4,
          47.4,
          30.4,
          62.9,
          23.9,
          50.7,
          31.3,
          68.8,
          27.1,
          55.2,
          39.4,
          73.7,
          31,
          null,
          null,
          null,
          null,
          null,
          null,
          null,
          null,
          null,
          null,
          null,
          null,
          null,
          null,
          null,
          null,
          null,
          null,
          null,
          null,
          null,
          null,
          null,
          null,
          null,
          null,
          null,
          null,
          null,
          null,
          null,
          null,
          null,
          null,
          null,
          null,
          null,
          null,
          null,
          null,
          null,
          null,
          null,
          null,
          null,
          null,
          null,
          null,
          null,
          null,
          null,
          null,
          null,
          null,
          null,
          null,
          null,
          null,
          null,
          null,
          null,
          null,
          null,
          null,
          null,
          null,
          null,
          null,
          null,
          null,
          null,
          null,
          null,
          null
         ],
         "yaxis": "y"
        },
        {
         "mode": "lines",
         "name": "Number of movements ;  Permanent and Long-term Arrivals ;",
         "type": "scatter",
         "x": [
          "1976-01-01T00:00:00",
          "1976-02-01T00:00:00",
          "1976-03-01T00:00:00",
          "1976-04-01T00:00:00",
          "1976-05-01T00:00:00",
          "1976-06-01T00:00:00",
          "1976-07-01T00:00:00",
          "1976-08-01T00:00:00",
          "1976-09-01T00:00:00",
          "1976-10-01T00:00:00",
          "1976-11-01T00:00:00",
          "1976-12-01T00:00:00",
          "1977-01-01T00:00:00",
          "1977-02-01T00:00:00",
          "1977-03-01T00:00:00",
          "1977-04-01T00:00:00",
          "1977-05-01T00:00:00",
          "1977-06-01T00:00:00",
          "1977-07-01T00:00:00",
          "1977-08-01T00:00:00",
          "1977-09-01T00:00:00",
          "1977-10-01T00:00:00",
          "1977-11-01T00:00:00",
          "1977-12-01T00:00:00",
          "1978-01-01T00:00:00",
          "1978-02-01T00:00:00",
          "1978-03-01T00:00:00",
          "1978-04-01T00:00:00",
          "1978-05-01T00:00:00",
          "1978-06-01T00:00:00",
          "1978-07-01T00:00:00",
          "1978-08-01T00:00:00",
          "1978-09-01T00:00:00",
          "1978-10-01T00:00:00",
          "1978-11-01T00:00:00",
          "1978-12-01T00:00:00",
          "1979-01-01T00:00:00",
          "1979-02-01T00:00:00",
          "1979-03-01T00:00:00",
          "1979-04-01T00:00:00",
          "1979-05-01T00:00:00",
          "1979-06-01T00:00:00",
          "1979-07-01T00:00:00",
          "1979-08-01T00:00:00",
          "1979-09-01T00:00:00",
          "1979-10-01T00:00:00",
          "1979-11-01T00:00:00",
          "1979-12-01T00:00:00",
          "1980-01-01T00:00:00",
          "1980-02-01T00:00:00",
          "1980-03-01T00:00:00",
          "1980-04-01T00:00:00",
          "1980-05-01T00:00:00",
          "1980-06-01T00:00:00",
          "1980-07-01T00:00:00",
          "1980-08-01T00:00:00",
          "1980-09-01T00:00:00",
          "1980-10-01T00:00:00",
          "1980-11-01T00:00:00",
          "1980-12-01T00:00:00",
          "1981-01-01T00:00:00",
          "1981-02-01T00:00:00",
          "1981-03-01T00:00:00",
          "1981-04-01T00:00:00",
          "1981-05-01T00:00:00",
          "1981-06-01T00:00:00",
          "1981-07-01T00:00:00",
          "1981-08-01T00:00:00",
          "1981-09-01T00:00:00",
          "1981-10-01T00:00:00",
          "1981-11-01T00:00:00",
          "1981-12-01T00:00:00",
          "1982-01-01T00:00:00",
          "1982-02-01T00:00:00",
          "1982-03-01T00:00:00",
          "1982-04-01T00:00:00",
          "1982-05-01T00:00:00",
          "1982-06-01T00:00:00",
          "1982-07-01T00:00:00",
          "1982-08-01T00:00:00",
          "1982-09-01T00:00:00",
          "1982-10-01T00:00:00",
          "1982-11-01T00:00:00",
          "1982-12-01T00:00:00",
          "1983-01-01T00:00:00",
          "1983-02-01T00:00:00",
          "1983-03-01T00:00:00",
          "1983-04-01T00:00:00",
          "1983-05-01T00:00:00",
          "1983-06-01T00:00:00",
          "1983-07-01T00:00:00",
          "1983-08-01T00:00:00",
          "1983-09-01T00:00:00",
          "1983-10-01T00:00:00",
          "1983-11-01T00:00:00",
          "1983-12-01T00:00:00",
          "1984-01-01T00:00:00",
          "1984-02-01T00:00:00",
          "1984-03-01T00:00:00",
          "1984-04-01T00:00:00",
          "1984-05-01T00:00:00",
          "1984-06-01T00:00:00",
          "1984-07-01T00:00:00",
          "1984-08-01T00:00:00",
          "1984-09-01T00:00:00",
          "1984-10-01T00:00:00",
          "1984-11-01T00:00:00",
          "1984-12-01T00:00:00",
          "1985-01-01T00:00:00",
          "1985-02-01T00:00:00",
          "1985-03-01T00:00:00",
          "1985-04-01T00:00:00",
          "1985-05-01T00:00:00",
          "1985-06-01T00:00:00",
          "1985-07-01T00:00:00",
          "1985-08-01T00:00:00",
          "1985-09-01T00:00:00",
          "1985-10-01T00:00:00",
          "1985-11-01T00:00:00",
          "1985-12-01T00:00:00",
          "1986-01-01T00:00:00",
          "1986-02-01T00:00:00",
          "1986-03-01T00:00:00",
          "1986-04-01T00:00:00",
          "1986-05-01T00:00:00",
          "1986-06-01T00:00:00",
          "1986-07-01T00:00:00",
          "1986-08-01T00:00:00",
          "1986-09-01T00:00:00",
          "1986-10-01T00:00:00",
          "1986-11-01T00:00:00",
          "1986-12-01T00:00:00",
          "1987-01-01T00:00:00",
          "1987-02-01T00:00:00",
          "1987-03-01T00:00:00",
          "1987-04-01T00:00:00",
          "1987-05-01T00:00:00",
          "1987-06-01T00:00:00",
          "1987-07-01T00:00:00",
          "1987-08-01T00:00:00",
          "1987-09-01T00:00:00",
          "1987-10-01T00:00:00",
          "1987-11-01T00:00:00",
          "1987-12-01T00:00:00",
          "1988-01-01T00:00:00",
          "1988-02-01T00:00:00",
          "1988-03-01T00:00:00",
          "1988-04-01T00:00:00",
          "1988-05-01T00:00:00",
          "1988-06-01T00:00:00",
          "1988-07-01T00:00:00",
          "1988-08-01T00:00:00",
          "1988-09-01T00:00:00",
          "1988-10-01T00:00:00",
          "1988-11-01T00:00:00",
          "1988-12-01T00:00:00",
          "1989-01-01T00:00:00",
          "1989-02-01T00:00:00",
          "1989-03-01T00:00:00",
          "1989-04-01T00:00:00",
          "1989-05-01T00:00:00",
          "1989-06-01T00:00:00",
          "1989-07-01T00:00:00",
          "1989-08-01T00:00:00",
          "1989-09-01T00:00:00",
          "1989-10-01T00:00:00",
          "1989-11-01T00:00:00",
          "1989-12-01T00:00:00",
          "1990-01-01T00:00:00",
          "1990-02-01T00:00:00",
          "1990-03-01T00:00:00",
          "1990-04-01T00:00:00",
          "1990-05-01T00:00:00",
          "1990-06-01T00:00:00",
          "1990-07-01T00:00:00",
          "1990-08-01T00:00:00",
          "1990-09-01T00:00:00",
          "1990-10-01T00:00:00",
          "1990-11-01T00:00:00",
          "1990-12-01T00:00:00",
          "1991-01-01T00:00:00",
          "1991-02-01T00:00:00",
          "1991-03-01T00:00:00",
          "1991-04-01T00:00:00",
          "1991-05-01T00:00:00",
          "1991-06-01T00:00:00",
          "1991-07-01T00:00:00",
          "1991-08-01T00:00:00",
          "1991-09-01T00:00:00",
          "1991-10-01T00:00:00",
          "1991-11-01T00:00:00",
          "1991-12-01T00:00:00",
          "1992-01-01T00:00:00",
          "1992-02-01T00:00:00",
          "1992-03-01T00:00:00",
          "1992-04-01T00:00:00",
          "1992-05-01T00:00:00",
          "1992-06-01T00:00:00",
          "1992-07-01T00:00:00",
          "1992-08-01T00:00:00",
          "1992-09-01T00:00:00",
          "1992-10-01T00:00:00",
          "1992-11-01T00:00:00",
          "1992-12-01T00:00:00",
          "1993-01-01T00:00:00",
          "1993-02-01T00:00:00",
          "1993-03-01T00:00:00",
          "1993-04-01T00:00:00",
          "1993-05-01T00:00:00",
          "1993-06-01T00:00:00",
          "1993-07-01T00:00:00",
          "1993-08-01T00:00:00",
          "1993-09-01T00:00:00",
          "1993-10-01T00:00:00",
          "1993-11-01T00:00:00",
          "1993-12-01T00:00:00",
          "1994-01-01T00:00:00",
          "1994-02-01T00:00:00",
          "1994-03-01T00:00:00",
          "1994-04-01T00:00:00",
          "1994-05-01T00:00:00",
          "1994-06-01T00:00:00",
          "1994-07-01T00:00:00",
          "1994-08-01T00:00:00",
          "1994-09-01T00:00:00",
          "1994-10-01T00:00:00",
          "1994-11-01T00:00:00",
          "1994-12-01T00:00:00",
          "1995-01-01T00:00:00",
          "1995-02-01T00:00:00",
          "1995-03-01T00:00:00",
          "1995-04-01T00:00:00",
          "1995-05-01T00:00:00",
          "1995-06-01T00:00:00",
          "1995-07-01T00:00:00",
          "1995-08-01T00:00:00",
          "1995-09-01T00:00:00",
          "1995-10-01T00:00:00",
          "1995-11-01T00:00:00",
          "1995-12-01T00:00:00",
          "1996-01-01T00:00:00",
          "1996-02-01T00:00:00",
          "1996-03-01T00:00:00",
          "1996-04-01T00:00:00",
          "1996-05-01T00:00:00",
          "1996-06-01T00:00:00",
          "1996-07-01T00:00:00",
          "1996-08-01T00:00:00",
          "1996-09-01T00:00:00",
          "1996-10-01T00:00:00",
          "1996-11-01T00:00:00",
          "1996-12-01T00:00:00",
          "1997-01-01T00:00:00",
          "1997-02-01T00:00:00",
          "1997-03-01T00:00:00",
          "1997-04-01T00:00:00",
          "1997-05-01T00:00:00",
          "1997-06-01T00:00:00",
          "1997-07-01T00:00:00",
          "1997-08-01T00:00:00",
          "1997-09-01T00:00:00",
          "1997-10-01T00:00:00",
          "1997-11-01T00:00:00",
          "1997-12-01T00:00:00",
          "1998-01-01T00:00:00",
          "1998-02-01T00:00:00",
          "1998-03-01T00:00:00",
          "1998-04-01T00:00:00",
          "1998-05-01T00:00:00",
          "1998-06-01T00:00:00",
          "1998-07-01T00:00:00",
          "1998-08-01T00:00:00",
          "1998-09-01T00:00:00",
          "1998-10-01T00:00:00",
          "1998-11-01T00:00:00",
          "1998-12-01T00:00:00",
          "1999-01-01T00:00:00",
          "1999-02-01T00:00:00",
          "1999-03-01T00:00:00",
          "1999-04-01T00:00:00",
          "1999-05-01T00:00:00",
          "1999-06-01T00:00:00",
          "1999-07-01T00:00:00",
          "1999-08-01T00:00:00",
          "1999-09-01T00:00:00",
          "1999-10-01T00:00:00",
          "1999-11-01T00:00:00",
          "1999-12-01T00:00:00",
          "2000-01-01T00:00:00",
          "2000-02-01T00:00:00",
          "2000-03-01T00:00:00",
          "2000-04-01T00:00:00",
          "2000-05-01T00:00:00",
          "2000-06-01T00:00:00",
          "2000-07-01T00:00:00",
          "2000-08-01T00:00:00",
          "2000-09-01T00:00:00",
          "2000-10-01T00:00:00",
          "2000-11-01T00:00:00",
          "2000-12-01T00:00:00",
          "2001-01-01T00:00:00",
          "2001-02-01T00:00:00",
          "2001-03-01T00:00:00",
          "2001-04-01T00:00:00",
          "2001-05-01T00:00:00",
          "2001-06-01T00:00:00",
          "2001-07-01T00:00:00",
          "2001-08-01T00:00:00",
          "2001-09-01T00:00:00",
          "2001-10-01T00:00:00",
          "2001-11-01T00:00:00",
          "2001-12-01T00:00:00",
          "2002-01-01T00:00:00",
          "2002-02-01T00:00:00",
          "2002-03-01T00:00:00",
          "2002-04-01T00:00:00",
          "2002-05-01T00:00:00",
          "2002-06-01T00:00:00",
          "2002-07-01T00:00:00",
          "2002-08-01T00:00:00",
          "2002-09-01T00:00:00",
          "2002-10-01T00:00:00",
          "2002-11-01T00:00:00",
          "2002-12-01T00:00:00",
          "2003-01-01T00:00:00",
          "2003-02-01T00:00:00",
          "2003-03-01T00:00:00",
          "2003-04-01T00:00:00",
          "2003-05-01T00:00:00",
          "2003-06-01T00:00:00",
          "2003-07-01T00:00:00",
          "2003-08-01T00:00:00",
          "2003-09-01T00:00:00",
          "2003-10-01T00:00:00",
          "2003-11-01T00:00:00",
          "2003-12-01T00:00:00",
          "2004-01-01T00:00:00",
          "2004-02-01T00:00:00",
          "2004-03-01T00:00:00",
          "2004-04-01T00:00:00",
          "2004-05-01T00:00:00",
          "2004-06-01T00:00:00",
          "2004-07-01T00:00:00",
          "2004-08-01T00:00:00",
          "2004-09-01T00:00:00",
          "2004-10-01T00:00:00",
          "2004-11-01T00:00:00",
          "2004-12-01T00:00:00",
          "2005-01-01T00:00:00",
          "2005-02-01T00:00:00",
          "2005-03-01T00:00:00",
          "2005-04-01T00:00:00",
          "2005-05-01T00:00:00",
          "2005-06-01T00:00:00",
          "2005-07-01T00:00:00",
          "2005-08-01T00:00:00",
          "2005-09-01T00:00:00",
          "2005-10-01T00:00:00",
          "2005-11-01T00:00:00",
          "2005-12-01T00:00:00",
          "2006-01-01T00:00:00",
          "2006-02-01T00:00:00",
          "2006-03-01T00:00:00",
          "2006-04-01T00:00:00",
          "2006-05-01T00:00:00",
          "2006-06-01T00:00:00",
          "2006-07-01T00:00:00",
          "2006-08-01T00:00:00",
          "2006-09-01T00:00:00",
          "2006-10-01T00:00:00",
          "2006-11-01T00:00:00",
          "2006-12-01T00:00:00",
          "2007-01-01T00:00:00",
          "2007-02-01T00:00:00",
          "2007-03-01T00:00:00",
          "2007-04-01T00:00:00",
          "2007-05-01T00:00:00",
          "2007-06-01T00:00:00",
          "2007-07-01T00:00:00",
          "2007-08-01T00:00:00",
          "2007-09-01T00:00:00",
          "2007-10-01T00:00:00",
          "2007-11-01T00:00:00",
          "2007-12-01T00:00:00",
          "2008-01-01T00:00:00",
          "2008-02-01T00:00:00",
          "2008-03-01T00:00:00",
          "2008-04-01T00:00:00",
          "2008-05-01T00:00:00",
          "2008-06-01T00:00:00",
          "2008-07-01T00:00:00",
          "2008-08-01T00:00:00",
          "2008-09-01T00:00:00",
          "2008-10-01T00:00:00",
          "2008-11-01T00:00:00",
          "2008-12-01T00:00:00",
          "2009-01-01T00:00:00",
          "2009-02-01T00:00:00",
          "2009-03-01T00:00:00",
          "2009-04-01T00:00:00",
          "2009-05-01T00:00:00",
          "2009-06-01T00:00:00",
          "2009-07-01T00:00:00",
          "2009-08-01T00:00:00",
          "2009-09-01T00:00:00",
          "2009-10-01T00:00:00",
          "2009-11-01T00:00:00",
          "2009-12-01T00:00:00",
          "2010-01-01T00:00:00",
          "2010-02-01T00:00:00",
          "2010-03-01T00:00:00",
          "2010-04-01T00:00:00",
          "2010-05-01T00:00:00",
          "2010-06-01T00:00:00",
          "2010-07-01T00:00:00",
          "2010-08-01T00:00:00",
          "2010-09-01T00:00:00",
          "2010-10-01T00:00:00",
          "2010-11-01T00:00:00",
          "2010-12-01T00:00:00",
          "2011-01-01T00:00:00",
          "2011-02-01T00:00:00",
          "2011-03-01T00:00:00",
          "2011-04-01T00:00:00",
          "2011-05-01T00:00:00",
          "2011-06-01T00:00:00",
          "2011-07-01T00:00:00",
          "2011-08-01T00:00:00",
          "2011-09-01T00:00:00",
          "2011-10-01T00:00:00",
          "2011-11-01T00:00:00",
          "2011-12-01T00:00:00",
          "2012-01-01T00:00:00",
          "2012-02-01T00:00:00",
          "2012-03-01T00:00:00",
          "2012-04-01T00:00:00",
          "2012-05-01T00:00:00",
          "2012-06-01T00:00:00",
          "2012-07-01T00:00:00",
          "2012-08-01T00:00:00",
          "2012-09-01T00:00:00",
          "2012-10-01T00:00:00",
          "2012-11-01T00:00:00",
          "2012-12-01T00:00:00",
          "2013-01-01T00:00:00",
          "2013-02-01T00:00:00",
          "2013-03-01T00:00:00",
          "2013-04-01T00:00:00",
          "2013-05-01T00:00:00",
          "2013-06-01T00:00:00",
          "2013-07-01T00:00:00",
          "2013-08-01T00:00:00",
          "2013-09-01T00:00:00",
          "2013-10-01T00:00:00",
          "2013-11-01T00:00:00",
          "2013-12-01T00:00:00",
          "2014-01-01T00:00:00",
          "2014-02-01T00:00:00",
          "2014-03-01T00:00:00",
          "2014-04-01T00:00:00",
          "2014-05-01T00:00:00",
          "2014-06-01T00:00:00",
          "2014-07-01T00:00:00",
          "2014-08-01T00:00:00",
          "2014-09-01T00:00:00",
          "2014-10-01T00:00:00",
          "2014-11-01T00:00:00",
          "2014-12-01T00:00:00",
          "2015-01-01T00:00:00",
          "2015-02-01T00:00:00",
          "2015-03-01T00:00:00",
          "2015-04-01T00:00:00",
          "2015-05-01T00:00:00",
          "2015-06-01T00:00:00",
          "2015-07-01T00:00:00",
          "2015-08-01T00:00:00",
          "2015-09-01T00:00:00",
          "2015-10-01T00:00:00",
          "2015-11-01T00:00:00",
          "2015-12-01T00:00:00",
          "2016-01-01T00:00:00",
          "2016-02-01T00:00:00",
          "2016-03-01T00:00:00",
          "2016-04-01T00:00:00",
          "2016-05-01T00:00:00",
          "2016-06-01T00:00:00",
          "2016-07-01T00:00:00",
          "2016-08-01T00:00:00",
          "2016-09-01T00:00:00",
          "2016-10-01T00:00:00",
          "2016-11-01T00:00:00",
          "2016-12-01T00:00:00",
          "2017-01-01T00:00:00",
          "2017-02-01T00:00:00",
          "2017-03-01T00:00:00",
          "2017-04-01T00:00:00",
          "2017-05-01T00:00:00",
          "2017-06-01T00:00:00",
          "2017-07-01T00:00:00",
          "2017-08-01T00:00:00",
          "2017-09-01T00:00:00",
          "2017-10-01T00:00:00",
          "2017-11-01T00:00:00",
          "2017-12-01T00:00:00",
          "2018-01-01T00:00:00",
          "2018-02-01T00:00:00",
          "2018-03-01T00:00:00",
          "2018-04-01T00:00:00",
          "2018-05-01T00:00:00",
          "2018-06-01T00:00:00",
          "2018-07-01T00:00:00",
          "2018-08-01T00:00:00",
          "2018-09-01T00:00:00",
          "2018-10-01T00:00:00",
          "2018-11-01T00:00:00",
          "2018-12-01T00:00:00",
          "2019-01-01T00:00:00",
          "2019-02-01T00:00:00",
          "2019-03-01T00:00:00",
          "2019-04-01T00:00:00",
          "2019-05-01T00:00:00",
          "2019-06-01T00:00:00",
          "2019-07-01T00:00:00",
          "2019-08-01T00:00:00",
          "2019-09-01T00:00:00",
          "2019-10-01T00:00:00",
          "2019-11-01T00:00:00",
          "2019-12-01T00:00:00",
          "2020-01-01T00:00:00",
          "2020-02-01T00:00:00",
          "2020-03-01T00:00:00",
          "2020-04-01T00:00:00",
          "2020-05-01T00:00:00",
          "2020-06-01T00:00:00",
          "2020-07-01T00:00:00",
          "2020-08-01T00:00:00",
          "2020-09-01T00:00:00",
          "2020-10-01T00:00:00",
          "2020-11-01T00:00:00",
          "2020-12-01T00:00:00",
          "2021-01-01T00:00:00",
          "2021-02-01T00:00:00",
          "2021-03-01T00:00:00",
          "2021-04-01T00:00:00",
          "2021-05-01T00:00:00",
          "2021-06-01T00:00:00",
          "2021-07-01T00:00:00",
          "2021-08-01T00:00:00",
          "2021-09-01T00:00:00",
          "2021-10-01T00:00:00",
          "2021-11-01T00:00:00",
          "2021-12-01T00:00:00",
          "2022-01-01T00:00:00",
          "2022-02-01T00:00:00",
          "2022-03-01T00:00:00",
          "2022-04-01T00:00:00",
          "2022-05-01T00:00:00",
          "2022-06-01T00:00:00",
          "2022-07-01T00:00:00",
          "2022-08-01T00:00:00",
          "2022-09-01T00:00:00",
          "2022-10-01T00:00:00",
          "2022-11-01T00:00:00",
          "2022-12-01T00:00:00",
          "2023-01-01T00:00:00",
          "2023-02-01T00:00:00",
          "2023-03-01T00:00:00",
          "2023-04-01T00:00:00",
          "2023-05-01T00:00:00",
          "2023-06-01T00:00:00",
          "2023-07-01T00:00:00",
          "2023-08-01T00:00:00",
          "2023-09-01T00:00:00",
          "2023-10-01T00:00:00",
          "2023-11-01T00:00:00",
          "2023-12-01T00:00:00",
          "2024-01-01T00:00:00",
          "2024-02-01T00:00:00",
          "2024-03-01T00:00:00",
          "2024-04-01T00:00:00",
          "2024-05-01T00:00:00",
          "2024-06-01T00:00:00",
          "2024-07-01T00:00:00",
          "2024-08-01T00:00:00",
          "2024-09-01T00:00:00",
          "2024-10-01T00:00:00",
          "2024-11-01T00:00:00",
          "2024-12-01T00:00:00",
          "2025-01-01T00:00:00",
          "2025-02-01T00:00:00",
          "2025-03-01T00:00:00",
          "2025-04-01T00:00:00",
          "2025-05-01T00:00:00",
          "2025-06-01T00:00:00",
          "2025-07-01T00:00:00"
         ],
         "xaxis": "x",
         "y": [
          11910,
          10820,
          10980,
          8900,
          10760,
          9130,
          10960,
          11770,
          11100,
          13410,
          12770,
          18970,
          15600,
          14360,
          12970,
          12010,
          11840,
          10460,
          12750,
          11670,
          12310,
          13740,
          13060,
          20060,
          15450,
          13070,
          12920,
          11020,
          11610,
          10860,
          12610,
          12510,
          12250,
          12450,
          11990,
          18000,
          18460,
          14380,
          13450,
          11630,
          11890,
          12590,
          12460,
          12610,
          12610,
          13640,
          14120,
          19280,
          15720,
          15240,
          15140,
          13410,
          13080,
          12980,
          13930,
          15020,
          14130,
          15930,
          18460,
          21240,
          20200,
          17230,
          20400,
          15200,
          16460,
          16570,
          16330,
          17390,
          16260,
          17410,
          18810,
          20430,
          22470,
          19150,
          17110,
          15920,
          15320,
          14060,
          16150,
          15820,
          13630,
          14910,
          14480,
          16200,
          19310,
          15360,
          12780,
          12040,
          10970,
          11100,
          12150,
          11640,
          10420,
          10960,
          11490,
          15350,
          15370,
          14640,
          11300,
          10240,
          10060,
          11660,
          12020,
          12610,
          12190,
          12550,
          13340,
          17560,
          16440,
          15930,
          14170,
          11690,
          11740,
          13020,
          13160,
          14000,
          13710,
          14340,
          15360,
          18990,
          19280,
          17540,
          16820,
          13790,
          14120,
          15290,
          16140,
          15940,
          15090,
          16200,
          16920,
          19570,
          20290,
          19550,
          17260,
          15660,
          15860,
          15990,
          17650,
          18180,
          18350,
          19140,
          20900,
          22780,
          27050,
          22170,
          20590,
          19320,
          17490,
          18630,
          21220,
          20690,
          20600,
          20550,
          21190,
          24380,
          26030,
          22640,
          19240,
          18310,
          16240,
          18800,
          20020,
          19330,
          18140,
          17580,
          19230,
          22490,
          23990,
          23250,
          17080,
          18050,
          15230,
          17540,
          20830,
          19540,
          18340,
          18300,
          18650,
          23260,
          24670,
          24370,
          19450,
          14900,
          15780,
          18320,
          22450,
          19580,
          18070,
          18170,
          18470,
          23010,
          24840,
          27450,
          16000,
          16600,
          14470,
          15070,
          20680,
          16290,
          15410,
          15800,
          16020,
          21840,
          21620,
          23730,
          13940,
          13470,
          11850,
          13130,
          19520,
          15230,
          14580,
          15120,
          15640,
          20100,
          23440,
          24760,
          15280,
          14610,
          13100,
          16000,
          22700,
          16680,
          17200,
          17520,
          17830,
          22810,
          26800,
          29600,
          16930,
          18450,
          14720,
          17290,
          26840,
          18330,
          18790,
          19990,
          20080,
          26130,
          30670,
          31840,
          20150,
          17700,
          14370,
          17830,
          27360,
          18550,
          18450,
          20130,
          19580,
          24700,
          30090,
          32550,
          20080,
          17300,
          15140,
          17090,
          28240,
          18390,
          18480,
          19560,
          18830,
          24480,
          30020,
          34310,
          19080,
          19030,
          16210,
          18810,
          29250,
          19380,
          19000,
          20490,
          18870,
          23930,
          31910,
          33080,
          20440,
          19040,
          17710,
          18850,
          32160,
          21310,
          21780,
          23250,
          23040,
          27300,
          35150,
          37880,
          20830,
          22320,
          19120,
          20980,
          34720,
          23570,
          21950,
          25460,
          23840,
          31740,
          42650,
          47660,
          25790,
          25810,
          22620,
          22760,
          39030,
          24790,
          24940,
          25660,
          23350,
          31360,
          40820,
          43730,
          29400,
          24030,
          21460,
          24810,
          40950,
          27370,
          25250,
          27450,
          25500,
          31230,
          41170,
          49670,
          31140,
          25350,
          21910,
          26810,
          44790,
          29390,
          27510,
          29620,
          27980,
          33110,
          44080,
          54420,
          30420,
          28250,
          24120,
          27630,
          53320,
          32760,
          31330,
          34090,
          30810,
          37610,
          53530,
          58040,
          38460,
          32950,
          28100,
          32100,
          54810,
          35450,
          34420,
          37160,
          33860,
          40900,
          54550,
          64990,
          38190,
          35230,
          30280,
          35170,
          58530,
          40190,
          38800,
          41130,
          39340,
          43660,
          63000,
          68010,
          48720,
          41270,
          35320,
          43620,
          63800,
          46050,
          41150,
          43090,
          43170,
          48440,
          71820,
          79810,
          57020,
          48200,
          43630,
          50430,
          72720,
          56240,
          52340,
          57140,
          53650,
          55540,
          85510,
          90600,
          58740,
          54730,
          44620,
          49860,
          79530,
          52970,
          47150,
          52060,
          44090,
          51020,
          78430,
          83710,
          54800,
          45240,
          37980,
          43720,
          67870,
          47480,
          45480,
          47770,
          43570,
          49850,
          76530,
          84370,
          53390,
          47430,
          44740,
          45830,
          70810,
          51050,
          51680,
          54170,
          50870,
          56060,
          84260,
          91480,
          59220,
          55140,
          45750,
          54630,
          76100,
          57100,
          56880,
          55550,
          51520,
          59810,
          90350,
          85680,
          64930,
          55970,
          47240,
          54980,
          78070,
          59330,
          56130,
          56340,
          50410,
          55500,
          84380,
          88650,
          56910,
          51020,
          45470,
          48770,
          73860,
          56480,
          50810,
          53080,
          47060,
          54780,
          82670,
          82610,
          62640,
          51650,
          44500,
          47530,
          77390,
          54940,
          50010,
          53330,
          47800,
          55120,
          81430,
          93380,
          58400,
          50670,
          44260,
          49900,
          88720,
          57060,
          56530,
          58310,
          52360,
          59540,
          81980,
          105080,
          60020,
          55840,
          46020,
          51940,
          91950,
          57490,
          56390,
          59570,
          51990,
          59310,
          91160,
          105610,
          69240,
          59480,
          48700,
          57640,
          101900,
          60670,
          57820,
          61960,
          55490,
          62890,
          93910,
          115100,
          70280,
          57590,
          53320,
          59840,
          95810,
          62500,
          58320,
          59190,
          56210,
          61910,
          93270,
          97840,
          51700,
          1870,
          2290,
          3960,
          3450,
          3830,
          4320,
          6470,
          8760,
          11550,
          11820,
          10560,
          14420,
          14310,
          15970,
          15220,
          14310,
          10320,
          8380,
          7150,
          25490,
          70040,
          52930,
          63950,
          58040,
          55840,
          58430,
          64210,
          84880,
          71310,
          65890,
          60520,
          72570,
          81600,
          97700,
          135230,
          95510,
          75380,
          76940,
          86060,
          122690,
          82810,
          79040,
          73580,
          78000,
          88270,
          125410,
          153080,
          86670,
          77180,
          69710,
          73900,
          119950,
          80770,
          81680,
          76950,
          79140,
          84740,
          128410,
          159610,
          87330,
          77720,
          78280,
          79500,
          120080
         ],
         "yaxis": "y2"
        },
        {
         "mode": "lines",
         "name": "Number of movements ;  Permanent Arrivals ;",
         "type": "scatter",
         "x": [
          "1976-01-01T00:00:00",
          "1976-02-01T00:00:00",
          "1976-03-01T00:00:00",
          "1976-04-01T00:00:00",
          "1976-05-01T00:00:00",
          "1976-06-01T00:00:00",
          "1976-07-01T00:00:00",
          "1976-08-01T00:00:00",
          "1976-09-01T00:00:00",
          "1976-10-01T00:00:00",
          "1976-11-01T00:00:00",
          "1976-12-01T00:00:00",
          "1977-01-01T00:00:00",
          "1977-02-01T00:00:00",
          "1977-03-01T00:00:00",
          "1977-04-01T00:00:00",
          "1977-05-01T00:00:00",
          "1977-06-01T00:00:00",
          "1977-07-01T00:00:00",
          "1977-08-01T00:00:00",
          "1977-09-01T00:00:00",
          "1977-10-01T00:00:00",
          "1977-11-01T00:00:00",
          "1977-12-01T00:00:00",
          "1978-01-01T00:00:00",
          "1978-02-01T00:00:00",
          "1978-03-01T00:00:00",
          "1978-04-01T00:00:00",
          "1978-05-01T00:00:00",
          "1978-06-01T00:00:00",
          "1978-07-01T00:00:00",
          "1978-08-01T00:00:00",
          "1978-09-01T00:00:00",
          "1978-10-01T00:00:00",
          "1978-11-01T00:00:00",
          "1978-12-01T00:00:00",
          "1979-01-01T00:00:00",
          "1979-02-01T00:00:00",
          "1979-03-01T00:00:00",
          "1979-04-01T00:00:00",
          "1979-05-01T00:00:00",
          "1979-06-01T00:00:00",
          "1979-07-01T00:00:00",
          "1979-08-01T00:00:00",
          "1979-09-01T00:00:00",
          "1979-10-01T00:00:00",
          "1979-11-01T00:00:00",
          "1979-12-01T00:00:00",
          "1980-01-01T00:00:00",
          "1980-02-01T00:00:00",
          "1980-03-01T00:00:00",
          "1980-04-01T00:00:00",
          "1980-05-01T00:00:00",
          "1980-06-01T00:00:00",
          "1980-07-01T00:00:00",
          "1980-08-01T00:00:00",
          "1980-09-01T00:00:00",
          "1980-10-01T00:00:00",
          "1980-11-01T00:00:00",
          "1980-12-01T00:00:00",
          "1981-01-01T00:00:00",
          "1981-02-01T00:00:00",
          "1981-03-01T00:00:00",
          "1981-04-01T00:00:00",
          "1981-05-01T00:00:00",
          "1981-06-01T00:00:00",
          "1981-07-01T00:00:00",
          "1981-08-01T00:00:00",
          "1981-09-01T00:00:00",
          "1981-10-01T00:00:00",
          "1981-11-01T00:00:00",
          "1981-12-01T00:00:00",
          "1982-01-01T00:00:00",
          "1982-02-01T00:00:00",
          "1982-03-01T00:00:00",
          "1982-04-01T00:00:00",
          "1982-05-01T00:00:00",
          "1982-06-01T00:00:00",
          "1982-07-01T00:00:00",
          "1982-08-01T00:00:00",
          "1982-09-01T00:00:00",
          "1982-10-01T00:00:00",
          "1982-11-01T00:00:00",
          "1982-12-01T00:00:00",
          "1983-01-01T00:00:00",
          "1983-02-01T00:00:00",
          "1983-03-01T00:00:00",
          "1983-04-01T00:00:00",
          "1983-05-01T00:00:00",
          "1983-06-01T00:00:00",
          "1983-07-01T00:00:00",
          "1983-08-01T00:00:00",
          "1983-09-01T00:00:00",
          "1983-10-01T00:00:00",
          "1983-11-01T00:00:00",
          "1983-12-01T00:00:00",
          "1984-01-01T00:00:00",
          "1984-02-01T00:00:00",
          "1984-03-01T00:00:00",
          "1984-04-01T00:00:00",
          "1984-05-01T00:00:00",
          "1984-06-01T00:00:00",
          "1984-07-01T00:00:00",
          "1984-08-01T00:00:00",
          "1984-09-01T00:00:00",
          "1984-10-01T00:00:00",
          "1984-11-01T00:00:00",
          "1984-12-01T00:00:00",
          "1985-01-01T00:00:00",
          "1985-02-01T00:00:00",
          "1985-03-01T00:00:00",
          "1985-04-01T00:00:00",
          "1985-05-01T00:00:00",
          "1985-06-01T00:00:00",
          "1985-07-01T00:00:00",
          "1985-08-01T00:00:00",
          "1985-09-01T00:00:00",
          "1985-10-01T00:00:00",
          "1985-11-01T00:00:00",
          "1985-12-01T00:00:00",
          "1986-01-01T00:00:00",
          "1986-02-01T00:00:00",
          "1986-03-01T00:00:00",
          "1986-04-01T00:00:00",
          "1986-05-01T00:00:00",
          "1986-06-01T00:00:00",
          "1986-07-01T00:00:00",
          "1986-08-01T00:00:00",
          "1986-09-01T00:00:00",
          "1986-10-01T00:00:00",
          "1986-11-01T00:00:00",
          "1986-12-01T00:00:00",
          "1987-01-01T00:00:00",
          "1987-02-01T00:00:00",
          "1987-03-01T00:00:00",
          "1987-04-01T00:00:00",
          "1987-05-01T00:00:00",
          "1987-06-01T00:00:00",
          "1987-07-01T00:00:00",
          "1987-08-01T00:00:00",
          "1987-09-01T00:00:00",
          "1987-10-01T00:00:00",
          "1987-11-01T00:00:00",
          "1987-12-01T00:00:00",
          "1988-01-01T00:00:00",
          "1988-02-01T00:00:00",
          "1988-03-01T00:00:00",
          "1988-04-01T00:00:00",
          "1988-05-01T00:00:00",
          "1988-06-01T00:00:00",
          "1988-07-01T00:00:00",
          "1988-08-01T00:00:00",
          "1988-09-01T00:00:00",
          "1988-10-01T00:00:00",
          "1988-11-01T00:00:00",
          "1988-12-01T00:00:00",
          "1989-01-01T00:00:00",
          "1989-02-01T00:00:00",
          "1989-03-01T00:00:00",
          "1989-04-01T00:00:00",
          "1989-05-01T00:00:00",
          "1989-06-01T00:00:00",
          "1989-07-01T00:00:00",
          "1989-08-01T00:00:00",
          "1989-09-01T00:00:00",
          "1989-10-01T00:00:00",
          "1989-11-01T00:00:00",
          "1989-12-01T00:00:00",
          "1990-01-01T00:00:00",
          "1990-02-01T00:00:00",
          "1990-03-01T00:00:00",
          "1990-04-01T00:00:00",
          "1990-05-01T00:00:00",
          "1990-06-01T00:00:00",
          "1990-07-01T00:00:00",
          "1990-08-01T00:00:00",
          "1990-09-01T00:00:00",
          "1990-10-01T00:00:00",
          "1990-11-01T00:00:00",
          "1990-12-01T00:00:00",
          "1991-01-01T00:00:00",
          "1991-02-01T00:00:00",
          "1991-03-01T00:00:00",
          "1991-04-01T00:00:00",
          "1991-05-01T00:00:00",
          "1991-06-01T00:00:00",
          "1991-07-01T00:00:00",
          "1991-08-01T00:00:00",
          "1991-09-01T00:00:00",
          "1991-10-01T00:00:00",
          "1991-11-01T00:00:00",
          "1991-12-01T00:00:00",
          "1992-01-01T00:00:00",
          "1992-02-01T00:00:00",
          "1992-03-01T00:00:00",
          "1992-04-01T00:00:00",
          "1992-05-01T00:00:00",
          "1992-06-01T00:00:00",
          "1992-07-01T00:00:00",
          "1992-08-01T00:00:00",
          "1992-09-01T00:00:00",
          "1992-10-01T00:00:00",
          "1992-11-01T00:00:00",
          "1992-12-01T00:00:00",
          "1993-01-01T00:00:00",
          "1993-02-01T00:00:00",
          "1993-03-01T00:00:00",
          "1993-04-01T00:00:00",
          "1993-05-01T00:00:00",
          "1993-06-01T00:00:00",
          "1993-07-01T00:00:00",
          "1993-08-01T00:00:00",
          "1993-09-01T00:00:00",
          "1993-10-01T00:00:00",
          "1993-11-01T00:00:00",
          "1993-12-01T00:00:00",
          "1994-01-01T00:00:00",
          "1994-02-01T00:00:00",
          "1994-03-01T00:00:00",
          "1994-04-01T00:00:00",
          "1994-05-01T00:00:00",
          "1994-06-01T00:00:00",
          "1994-07-01T00:00:00",
          "1994-08-01T00:00:00",
          "1994-09-01T00:00:00",
          "1994-10-01T00:00:00",
          "1994-11-01T00:00:00",
          "1994-12-01T00:00:00",
          "1995-01-01T00:00:00",
          "1995-02-01T00:00:00",
          "1995-03-01T00:00:00",
          "1995-04-01T00:00:00",
          "1995-05-01T00:00:00",
          "1995-06-01T00:00:00",
          "1995-07-01T00:00:00",
          "1995-08-01T00:00:00",
          "1995-09-01T00:00:00",
          "1995-10-01T00:00:00",
          "1995-11-01T00:00:00",
          "1995-12-01T00:00:00",
          "1996-01-01T00:00:00",
          "1996-02-01T00:00:00",
          "1996-03-01T00:00:00",
          "1996-04-01T00:00:00",
          "1996-05-01T00:00:00",
          "1996-06-01T00:00:00",
          "1996-07-01T00:00:00",
          "1996-08-01T00:00:00",
          "1996-09-01T00:00:00",
          "1996-10-01T00:00:00",
          "1996-11-01T00:00:00",
          "1996-12-01T00:00:00",
          "1997-01-01T00:00:00",
          "1997-02-01T00:00:00",
          "1997-03-01T00:00:00",
          "1997-04-01T00:00:00",
          "1997-05-01T00:00:00",
          "1997-06-01T00:00:00",
          "1997-07-01T00:00:00",
          "1997-08-01T00:00:00",
          "1997-09-01T00:00:00",
          "1997-10-01T00:00:00",
          "1997-11-01T00:00:00",
          "1997-12-01T00:00:00",
          "1998-01-01T00:00:00",
          "1998-02-01T00:00:00",
          "1998-03-01T00:00:00",
          "1998-04-01T00:00:00",
          "1998-05-01T00:00:00",
          "1998-06-01T00:00:00",
          "1998-07-01T00:00:00",
          "1998-08-01T00:00:00",
          "1998-09-01T00:00:00",
          "1998-10-01T00:00:00",
          "1998-11-01T00:00:00",
          "1998-12-01T00:00:00",
          "1999-01-01T00:00:00",
          "1999-02-01T00:00:00",
          "1999-03-01T00:00:00",
          "1999-04-01T00:00:00",
          "1999-05-01T00:00:00",
          "1999-06-01T00:00:00",
          "1999-07-01T00:00:00",
          "1999-08-01T00:00:00",
          "1999-09-01T00:00:00",
          "1999-10-01T00:00:00",
          "1999-11-01T00:00:00",
          "1999-12-01T00:00:00",
          "2000-01-01T00:00:00",
          "2000-02-01T00:00:00",
          "2000-03-01T00:00:00",
          "2000-04-01T00:00:00",
          "2000-05-01T00:00:00",
          "2000-06-01T00:00:00",
          "2000-07-01T00:00:00",
          "2000-08-01T00:00:00",
          "2000-09-01T00:00:00",
          "2000-10-01T00:00:00",
          "2000-11-01T00:00:00",
          "2000-12-01T00:00:00",
          "2001-01-01T00:00:00",
          "2001-02-01T00:00:00",
          "2001-03-01T00:00:00",
          "2001-04-01T00:00:00",
          "2001-05-01T00:00:00",
          "2001-06-01T00:00:00",
          "2001-07-01T00:00:00",
          "2001-08-01T00:00:00",
          "2001-09-01T00:00:00",
          "2001-10-01T00:00:00",
          "2001-11-01T00:00:00",
          "2001-12-01T00:00:00",
          "2002-01-01T00:00:00",
          "2002-02-01T00:00:00",
          "2002-03-01T00:00:00",
          "2002-04-01T00:00:00",
          "2002-05-01T00:00:00",
          "2002-06-01T00:00:00",
          "2002-07-01T00:00:00",
          "2002-08-01T00:00:00",
          "2002-09-01T00:00:00",
          "2002-10-01T00:00:00",
          "2002-11-01T00:00:00",
          "2002-12-01T00:00:00",
          "2003-01-01T00:00:00",
          "2003-02-01T00:00:00",
          "2003-03-01T00:00:00",
          "2003-04-01T00:00:00",
          "2003-05-01T00:00:00",
          "2003-06-01T00:00:00",
          "2003-07-01T00:00:00",
          "2003-08-01T00:00:00",
          "2003-09-01T00:00:00",
          "2003-10-01T00:00:00",
          "2003-11-01T00:00:00",
          "2003-12-01T00:00:00",
          "2004-01-01T00:00:00",
          "2004-02-01T00:00:00",
          "2004-03-01T00:00:00",
          "2004-04-01T00:00:00",
          "2004-05-01T00:00:00",
          "2004-06-01T00:00:00",
          "2004-07-01T00:00:00",
          "2004-08-01T00:00:00",
          "2004-09-01T00:00:00",
          "2004-10-01T00:00:00",
          "2004-11-01T00:00:00",
          "2004-12-01T00:00:00",
          "2005-01-01T00:00:00",
          "2005-02-01T00:00:00",
          "2005-03-01T00:00:00",
          "2005-04-01T00:00:00",
          "2005-05-01T00:00:00",
          "2005-06-01T00:00:00",
          "2005-07-01T00:00:00",
          "2005-08-01T00:00:00",
          "2005-09-01T00:00:00",
          "2005-10-01T00:00:00",
          "2005-11-01T00:00:00",
          "2005-12-01T00:00:00",
          "2006-01-01T00:00:00",
          "2006-02-01T00:00:00",
          "2006-03-01T00:00:00",
          "2006-04-01T00:00:00",
          "2006-05-01T00:00:00",
          "2006-06-01T00:00:00",
          "2006-07-01T00:00:00",
          "2006-08-01T00:00:00",
          "2006-09-01T00:00:00",
          "2006-10-01T00:00:00",
          "2006-11-01T00:00:00",
          "2006-12-01T00:00:00",
          "2007-01-01T00:00:00",
          "2007-02-01T00:00:00",
          "2007-03-01T00:00:00",
          "2007-04-01T00:00:00",
          "2007-05-01T00:00:00",
          "2007-06-01T00:00:00",
          "2007-07-01T00:00:00",
          "2007-08-01T00:00:00",
          "2007-09-01T00:00:00",
          "2007-10-01T00:00:00",
          "2007-11-01T00:00:00",
          "2007-12-01T00:00:00",
          "2008-01-01T00:00:00",
          "2008-02-01T00:00:00",
          "2008-03-01T00:00:00",
          "2008-04-01T00:00:00",
          "2008-05-01T00:00:00",
          "2008-06-01T00:00:00",
          "2008-07-01T00:00:00",
          "2008-08-01T00:00:00",
          "2008-09-01T00:00:00",
          "2008-10-01T00:00:00",
          "2008-11-01T00:00:00",
          "2008-12-01T00:00:00",
          "2009-01-01T00:00:00",
          "2009-02-01T00:00:00",
          "2009-03-01T00:00:00",
          "2009-04-01T00:00:00",
          "2009-05-01T00:00:00",
          "2009-06-01T00:00:00",
          "2009-07-01T00:00:00",
          "2009-08-01T00:00:00",
          "2009-09-01T00:00:00",
          "2009-10-01T00:00:00",
          "2009-11-01T00:00:00",
          "2009-12-01T00:00:00",
          "2010-01-01T00:00:00",
          "2010-02-01T00:00:00",
          "2010-03-01T00:00:00",
          "2010-04-01T00:00:00",
          "2010-05-01T00:00:00",
          "2010-06-01T00:00:00",
          "2010-07-01T00:00:00",
          "2010-08-01T00:00:00",
          "2010-09-01T00:00:00",
          "2010-10-01T00:00:00",
          "2010-11-01T00:00:00",
          "2010-12-01T00:00:00",
          "2011-01-01T00:00:00",
          "2011-02-01T00:00:00",
          "2011-03-01T00:00:00",
          "2011-04-01T00:00:00",
          "2011-05-01T00:00:00",
          "2011-06-01T00:00:00",
          "2011-07-01T00:00:00",
          "2011-08-01T00:00:00",
          "2011-09-01T00:00:00",
          "2011-10-01T00:00:00",
          "2011-11-01T00:00:00",
          "2011-12-01T00:00:00",
          "2012-01-01T00:00:00",
          "2012-02-01T00:00:00",
          "2012-03-01T00:00:00",
          "2012-04-01T00:00:00",
          "2012-05-01T00:00:00",
          "2012-06-01T00:00:00",
          "2012-07-01T00:00:00",
          "2012-08-01T00:00:00",
          "2012-09-01T00:00:00",
          "2012-10-01T00:00:00",
          "2012-11-01T00:00:00",
          "2012-12-01T00:00:00",
          "2013-01-01T00:00:00",
          "2013-02-01T00:00:00",
          "2013-03-01T00:00:00",
          "2013-04-01T00:00:00",
          "2013-05-01T00:00:00",
          "2013-06-01T00:00:00",
          "2013-07-01T00:00:00",
          "2013-08-01T00:00:00",
          "2013-09-01T00:00:00",
          "2013-10-01T00:00:00",
          "2013-11-01T00:00:00",
          "2013-12-01T00:00:00",
          "2014-01-01T00:00:00",
          "2014-02-01T00:00:00",
          "2014-03-01T00:00:00",
          "2014-04-01T00:00:00",
          "2014-05-01T00:00:00",
          "2014-06-01T00:00:00",
          "2014-07-01T00:00:00",
          "2014-08-01T00:00:00",
          "2014-09-01T00:00:00",
          "2014-10-01T00:00:00",
          "2014-11-01T00:00:00",
          "2014-12-01T00:00:00",
          "2015-01-01T00:00:00",
          "2015-02-01T00:00:00",
          "2015-03-01T00:00:00",
          "2015-04-01T00:00:00",
          "2015-05-01T00:00:00",
          "2015-06-01T00:00:00",
          "2015-07-01T00:00:00",
          "2015-08-01T00:00:00",
          "2015-09-01T00:00:00",
          "2015-10-01T00:00:00",
          "2015-11-01T00:00:00",
          "2015-12-01T00:00:00",
          "2016-01-01T00:00:00",
          "2016-02-01T00:00:00",
          "2016-03-01T00:00:00",
          "2016-04-01T00:00:00",
          "2016-05-01T00:00:00",
          "2016-06-01T00:00:00",
          "2016-07-01T00:00:00",
          "2016-08-01T00:00:00",
          "2016-09-01T00:00:00",
          "2016-10-01T00:00:00",
          "2016-11-01T00:00:00",
          "2016-12-01T00:00:00",
          "2017-01-01T00:00:00",
          "2017-02-01T00:00:00",
          "2017-03-01T00:00:00",
          "2017-04-01T00:00:00",
          "2017-05-01T00:00:00",
          "2017-06-01T00:00:00",
          "2017-07-01T00:00:00",
          "2017-08-01T00:00:00",
          "2017-09-01T00:00:00",
          "2017-10-01T00:00:00",
          "2017-11-01T00:00:00",
          "2017-12-01T00:00:00",
          "2018-01-01T00:00:00",
          "2018-02-01T00:00:00",
          "2018-03-01T00:00:00",
          "2018-04-01T00:00:00",
          "2018-05-01T00:00:00",
          "2018-06-01T00:00:00",
          "2018-07-01T00:00:00",
          "2018-08-01T00:00:00",
          "2018-09-01T00:00:00",
          "2018-10-01T00:00:00",
          "2018-11-01T00:00:00",
          "2018-12-01T00:00:00",
          "2019-01-01T00:00:00",
          "2019-02-01T00:00:00",
          "2019-03-01T00:00:00",
          "2019-04-01T00:00:00",
          "2019-05-01T00:00:00",
          "2019-06-01T00:00:00",
          "2019-07-01T00:00:00",
          "2019-08-01T00:00:00",
          "2019-09-01T00:00:00",
          "2019-10-01T00:00:00",
          "2019-11-01T00:00:00",
          "2019-12-01T00:00:00",
          "2020-01-01T00:00:00",
          "2020-02-01T00:00:00",
          "2020-03-01T00:00:00",
          "2020-04-01T00:00:00",
          "2020-05-01T00:00:00",
          "2020-06-01T00:00:00",
          "2020-07-01T00:00:00",
          "2020-08-01T00:00:00",
          "2020-09-01T00:00:00",
          "2020-10-01T00:00:00",
          "2020-11-01T00:00:00",
          "2020-12-01T00:00:00",
          "2021-01-01T00:00:00",
          "2021-02-01T00:00:00",
          "2021-03-01T00:00:00",
          "2021-04-01T00:00:00",
          "2021-05-01T00:00:00",
          "2021-06-01T00:00:00",
          "2021-07-01T00:00:00",
          "2021-08-01T00:00:00",
          "2021-09-01T00:00:00",
          "2021-10-01T00:00:00",
          "2021-11-01T00:00:00",
          "2021-12-01T00:00:00",
          "2022-01-01T00:00:00",
          "2022-02-01T00:00:00",
          "2022-03-01T00:00:00",
          "2022-04-01T00:00:00",
          "2022-05-01T00:00:00",
          "2022-06-01T00:00:00",
          "2022-07-01T00:00:00",
          "2022-08-01T00:00:00",
          "2022-09-01T00:00:00",
          "2022-10-01T00:00:00",
          "2022-11-01T00:00:00",
          "2022-12-01T00:00:00",
          "2023-01-01T00:00:00",
          "2023-02-01T00:00:00",
          "2023-03-01T00:00:00",
          "2023-04-01T00:00:00",
          "2023-05-01T00:00:00",
          "2023-06-01T00:00:00",
          "2023-07-01T00:00:00",
          "2023-08-01T00:00:00",
          "2023-09-01T00:00:00",
          "2023-10-01T00:00:00",
          "2023-11-01T00:00:00",
          "2023-12-01T00:00:00",
          "2024-01-01T00:00:00",
          "2024-02-01T00:00:00",
          "2024-03-01T00:00:00",
          "2024-04-01T00:00:00",
          "2024-05-01T00:00:00",
          "2024-06-01T00:00:00",
          "2024-07-01T00:00:00",
          "2024-08-01T00:00:00",
          "2024-09-01T00:00:00",
          "2024-10-01T00:00:00",
          "2024-11-01T00:00:00",
          "2024-12-01T00:00:00",
          "2025-01-01T00:00:00",
          "2025-02-01T00:00:00",
          "2025-03-01T00:00:00",
          "2025-04-01T00:00:00",
          "2025-05-01T00:00:00",
          "2025-06-01T00:00:00",
          "2025-07-01T00:00:00"
         ],
         "xaxis": "x",
         "y": [
          3780,
          3900,
          4790,
          3790,
          4680,
          3720,
          4600,
          4750,
          4470,
          6070,
          6080,
          7660,
          6200,
          6580,
          6560,
          6370,
          6280,
          5260,
          6030,
          4870,
          5670,
          6900,
          5950,
          8970,
          6280,
          5670,
          6080,
          5400,
          5970,
          5390,
          5840,
          5420,
          5560,
          5510,
          5020,
          6270,
          5050,
          5340,
          5860,
          5300,
          5620,
          6390,
          5410,
          6220,
          5940,
          6540,
          6790,
          7780,
          6410,
          6420,
          7360,
          7480,
          7360,
          7040,
          7420,
          8080,
          8020,
          9200,
          10080,
          9630,
          9990,
          7930,
          11850,
          9060,
          9680,
          9740,
          9510,
          10240,
          9720,
          10700,
          10860,
          9430,
          11420,
          9160,
          9610,
          9790,
          9320,
          8250,
          9250,
          9290,
          7660,
          8480,
          8170,
          6760,
          9100,
          6870,
          6950,
          7310,
          6710,
          6460,
          6280,
          6130,
          5250,
          5660,
          5810,
          5880,
          5720,
          5170,
          5760,
          5570,
          5300,
          6300,
          5950,
          6630,
          6410,
          6390,
          6560,
          7350,
          5870,
          6400,
          6930,
          6280,
          6230,
          6500,
          6120,
          7040,
          6930,
          7550,
          7770,
          8380,
          8120,
          7220,
          8890,
          7880,
          8130,
          8560,
          8910,
          9190,
          8520,
          9480,
          9620,
          8800,
          9750,
          9220,
          10400,
          9530,
          10190,
          9930,
          9930,
          11110,
          11860,
          11540,
          12970,
          11860,
          14160,
          11840,
          12780,
          12580,
          11470,
          11380,
          12490,
          13560,
          12780,
          12660,
          13010,
          12860,
          12600,
          10790,
          11650,
          11350,
          10180,
          11400,
          10740,
          11500,
          10620,
          9740,
          10770,
          9730,
          9890,
          9220,
          9610,
          10250,
          9060,
          10100,
          10390,
          11320,
          10390,
          9990,
          10650,
          10700,
          9680,
          9690,
          10890,
          8050,
          9410,
          10530,
          11290,
          10900,
          9440,
          9010,
          8740,
          9010,
          8410,
          8740,
          7600,
          8480,
          7770,
          7990,
          8320,
          7940,
          7050,
          6830,
          7080,
          8030,
          5460,
          5020,
          5440,
          4980,
          5160,
          5030,
          5880,
          5950,
          5700,
          5500,
          5780,
          5790,
          5670,
          5390,
          5750,
          5480,
          5840,
          7040,
          6690,
          6970,
          7220,
          6930,
          7360,
          7610,
          7660,
          7110,
          7320,
          7790,
          6890,
          7900,
          8420,
          8210,
          8250,
          8660,
          8960,
          9800,
          9400,
          8200,
          8420,
          7170,
          6330,
          7300,
          7530,
          7740,
          7420,
          7510,
          7640,
          7830,
          7290,
          6640,
          7350,
          6460,
          6140,
          6220,
          6520,
          6460,
          6250,
          6040,
          6230,
          6660,
          7040,
          6170,
          6400,
          6410,
          6160,
          7010,
          7430,
          6940,
          6680,
          6920,
          6550,
          7380,
          7930,
          6930,
          7100,
          6650,
          6920,
          6730,
          7580,
          7840,
          7600,
          7500,
          7260,
          7980,
          9990,
          7240,
          7170,
          7800,
          7010,
          7310,
          8240,
          8650,
          7260,
          8280,
          8100,
          10120,
          11740,
          11760,
          7920,
          8540,
          9540,
          7210,
          7900,
          7580,
          7350,
          7020,
          6760,
          7570,
          7980,
          6880,
          7310,
          7080,
          7300,
          8180,
          7590,
          8230,
          7570,
          6780,
          7210,
          7250,
          7870,
          7310,
          8410,
          8230,
          8000,
          9470,
          9750,
          9930,
          9010,
          8100,
          8740,
          9080,
          9650,
          8820,
          9330,
          9440,
          9690,
          10060,
          10200,
          10680,
          10180,
          9700,
          9470,
          10280,
          10890,
          9780,
          11690,
          10670,
          9940,
          9970,
          9970,
          11500,
          11140,
          11050,
          10800,
          11360,
          11370,
          10960,
          11010,
          11100,
          10600,
          10740,
          10300,
          12160,
          11700,
          11470,
          11460,
          11010,
          11780,
          11040,
          12940,
          11180,
          11440,
          13670,
          10010,
          12830,
          11400,
          10860,
          12520,
          12040,
          12970,
          13440,
          14670,
          12490,
          13190,
          13090,
          11500,
          15470,
          13940,
          13710,
          14020,
          13220,
          14210,
          13960,
          13670,
          12060,
          11440,
          10970,
          11180,
          13260,
          12550,
          11610,
          11610,
          11960,
          11470,
          12320,
          12890,
          10790,
          10550,
          10480,
          9710,
          11580,
          10840,
          9370,
          9480,
          10040,
          10510,
          10550,
          11610,
          11210,
          11030,
          11700,
          11550,
          12890,
          12730,
          12380,
          12970,
          13920,
          14250,
          14550,
          14680,
          13340,
          12650,
          13470,
          11750,
          13220,
          12490,
          11950,
          11570,
          12950,
          12380,
          12690,
          14110,
          12820,
          13180,
          13580,
          11780,
          13600,
          12210,
          12030,
          11370,
          11930,
          11600,
          11700,
          11720,
          10800,
          11580,
          10380,
          9620,
          11790,
          10450,
          10280,
          10310,
          11850,
          11270,
          12000,
          13330,
          11690,
          11950,
          10580,
          9370,
          11740,
          10140,
          9370,
          9560,
          10390,
          10070,
          10830,
          12070,
          11310,
          11710,
          10930,
          10570,
          13430,
          11680,
          11090,
          11170,
          11710,
          9680,
          11960,
          11690,
          10820,
          10560,
          9330,
          8260,
          10250,
          9990,
          8800,
          9140,
          9280,
          9120,
          9350,
          10990,
          9390,
          9360,
          8970,
          8310,
          10420,
          8490,
          7710,
          7410,
          8150,
          7990,
          8600,
          9280,
          7780,
          9690,
          9060,
          7720,
          9660,
          7520,
          7280,
          7670,
          7810,
          7810,
          7780,
          6270,
          410,
          680,
          980,
          620,
          780,
          920,
          1490,
          1900,
          2890,
          2260,
          2240,
          3060,
          3140,
          3700,
          3680,
          3640,
          2820,
          2290,
          1900,
          6640,
          11470,
          8090,
          7680,
          7960,
          8010,
          8610,
          9720,
          8830,
          9700,
          8690,
          8350,
          10810,
          11370,
          11320,
          12180,
          14580,
          11820,
          12220,
          12590,
          10400,
          13230,
          11850,
          11030,
          13940,
          14880,
          15540,
          16400,
          16120,
          12370,
          12680,
          11920,
          10190,
          12490,
          12160,
          12320,
          14900,
          14250,
          13460,
          14750,
          13540,
          10440,
          11740,
          9840,
          9730
         ],
         "yaxis": "y2"
        },
        {
         "mode": "lines",
         "name": "Number of movements ;  Permanent and Long-term Arrivals ; (1)",
         "type": "scatter",
         "x": [
          "1976-01-01T00:00:00",
          "1976-02-01T00:00:00",
          "1976-03-01T00:00:00",
          "1976-04-01T00:00:00",
          "1976-05-01T00:00:00",
          "1976-06-01T00:00:00",
          "1976-07-01T00:00:00",
          "1976-08-01T00:00:00",
          "1976-09-01T00:00:00",
          "1976-10-01T00:00:00",
          "1976-11-01T00:00:00",
          "1976-12-01T00:00:00",
          "1977-01-01T00:00:00",
          "1977-02-01T00:00:00",
          "1977-03-01T00:00:00",
          "1977-04-01T00:00:00",
          "1977-05-01T00:00:00",
          "1977-06-01T00:00:00",
          "1977-07-01T00:00:00",
          "1977-08-01T00:00:00",
          "1977-09-01T00:00:00",
          "1977-10-01T00:00:00",
          "1977-11-01T00:00:00",
          "1977-12-01T00:00:00",
          "1978-01-01T00:00:00",
          "1978-02-01T00:00:00",
          "1978-03-01T00:00:00",
          "1978-04-01T00:00:00",
          "1978-05-01T00:00:00",
          "1978-06-01T00:00:00",
          "1978-07-01T00:00:00",
          "1978-08-01T00:00:00",
          "1978-09-01T00:00:00",
          "1978-10-01T00:00:00",
          "1978-11-01T00:00:00",
          "1978-12-01T00:00:00",
          "1979-01-01T00:00:00",
          "1979-02-01T00:00:00",
          "1979-03-01T00:00:00",
          "1979-04-01T00:00:00",
          "1979-05-01T00:00:00",
          "1979-06-01T00:00:00",
          "1979-07-01T00:00:00",
          "1979-08-01T00:00:00",
          "1979-09-01T00:00:00",
          "1979-10-01T00:00:00",
          "1979-11-01T00:00:00",
          "1979-12-01T00:00:00",
          "1980-01-01T00:00:00",
          "1980-02-01T00:00:00",
          "1980-03-01T00:00:00",
          "1980-04-01T00:00:00",
          "1980-05-01T00:00:00",
          "1980-06-01T00:00:00",
          "1980-07-01T00:00:00",
          "1980-08-01T00:00:00",
          "1980-09-01T00:00:00",
          "1980-10-01T00:00:00",
          "1980-11-01T00:00:00",
          "1980-12-01T00:00:00",
          "1981-01-01T00:00:00",
          "1981-02-01T00:00:00",
          "1981-03-01T00:00:00",
          "1981-04-01T00:00:00",
          "1981-05-01T00:00:00",
          "1981-06-01T00:00:00",
          "1981-07-01T00:00:00",
          "1981-08-01T00:00:00",
          "1981-09-01T00:00:00",
          "1981-10-01T00:00:00",
          "1981-11-01T00:00:00",
          "1981-12-01T00:00:00",
          "1982-01-01T00:00:00",
          "1982-02-01T00:00:00",
          "1982-03-01T00:00:00",
          "1982-04-01T00:00:00",
          "1982-05-01T00:00:00",
          "1982-06-01T00:00:00",
          "1982-07-01T00:00:00",
          "1982-08-01T00:00:00",
          "1982-09-01T00:00:00",
          "1982-10-01T00:00:00",
          "1982-11-01T00:00:00",
          "1982-12-01T00:00:00",
          "1983-01-01T00:00:00",
          "1983-02-01T00:00:00",
          "1983-03-01T00:00:00",
          "1983-04-01T00:00:00",
          "1983-05-01T00:00:00",
          "1983-06-01T00:00:00",
          "1983-07-01T00:00:00",
          "1983-08-01T00:00:00",
          "1983-09-01T00:00:00",
          "1983-10-01T00:00:00",
          "1983-11-01T00:00:00",
          "1983-12-01T00:00:00",
          "1984-01-01T00:00:00",
          "1984-02-01T00:00:00",
          "1984-03-01T00:00:00",
          "1984-04-01T00:00:00",
          "1984-05-01T00:00:00",
          "1984-06-01T00:00:00",
          "1984-07-01T00:00:00",
          "1984-08-01T00:00:00",
          "1984-09-01T00:00:00",
          "1984-10-01T00:00:00",
          "1984-11-01T00:00:00",
          "1984-12-01T00:00:00",
          "1985-01-01T00:00:00",
          "1985-02-01T00:00:00",
          "1985-03-01T00:00:00",
          "1985-04-01T00:00:00",
          "1985-05-01T00:00:00",
          "1985-06-01T00:00:00",
          "1985-07-01T00:00:00",
          "1985-08-01T00:00:00",
          "1985-09-01T00:00:00",
          "1985-10-01T00:00:00",
          "1985-11-01T00:00:00",
          "1985-12-01T00:00:00",
          "1986-01-01T00:00:00",
          "1986-02-01T00:00:00",
          "1986-03-01T00:00:00",
          "1986-04-01T00:00:00",
          "1986-05-01T00:00:00",
          "1986-06-01T00:00:00",
          "1986-07-01T00:00:00",
          "1986-08-01T00:00:00",
          "1986-09-01T00:00:00",
          "1986-10-01T00:00:00",
          "1986-11-01T00:00:00",
          "1986-12-01T00:00:00",
          "1987-01-01T00:00:00",
          "1987-02-01T00:00:00",
          "1987-03-01T00:00:00",
          "1987-04-01T00:00:00",
          "1987-05-01T00:00:00",
          "1987-06-01T00:00:00",
          "1987-07-01T00:00:00",
          "1987-08-01T00:00:00",
          "1987-09-01T00:00:00",
          "1987-10-01T00:00:00",
          "1987-11-01T00:00:00",
          "1987-12-01T00:00:00",
          "1988-01-01T00:00:00",
          "1988-02-01T00:00:00",
          "1988-03-01T00:00:00",
          "1988-04-01T00:00:00",
          "1988-05-01T00:00:00",
          "1988-06-01T00:00:00",
          "1988-07-01T00:00:00",
          "1988-08-01T00:00:00",
          "1988-09-01T00:00:00",
          "1988-10-01T00:00:00",
          "1988-11-01T00:00:00",
          "1988-12-01T00:00:00",
          "1989-01-01T00:00:00",
          "1989-02-01T00:00:00",
          "1989-03-01T00:00:00",
          "1989-04-01T00:00:00",
          "1989-05-01T00:00:00",
          "1989-06-01T00:00:00",
          "1989-07-01T00:00:00",
          "1989-08-01T00:00:00",
          "1989-09-01T00:00:00",
          "1989-10-01T00:00:00",
          "1989-11-01T00:00:00",
          "1989-12-01T00:00:00",
          "1990-01-01T00:00:00",
          "1990-02-01T00:00:00",
          "1990-03-01T00:00:00",
          "1990-04-01T00:00:00",
          "1990-05-01T00:00:00",
          "1990-06-01T00:00:00",
          "1990-07-01T00:00:00",
          "1990-08-01T00:00:00",
          "1990-09-01T00:00:00",
          "1990-10-01T00:00:00",
          "1990-11-01T00:00:00",
          "1990-12-01T00:00:00",
          "1991-01-01T00:00:00",
          "1991-02-01T00:00:00",
          "1991-03-01T00:00:00",
          "1991-04-01T00:00:00",
          "1991-05-01T00:00:00",
          "1991-06-01T00:00:00",
          "1991-07-01T00:00:00",
          "1991-08-01T00:00:00",
          "1991-09-01T00:00:00",
          "1991-10-01T00:00:00",
          "1991-11-01T00:00:00",
          "1991-12-01T00:00:00",
          "1992-01-01T00:00:00",
          "1992-02-01T00:00:00",
          "1992-03-01T00:00:00",
          "1992-04-01T00:00:00",
          "1992-05-01T00:00:00",
          "1992-06-01T00:00:00",
          "1992-07-01T00:00:00",
          "1992-08-01T00:00:00",
          "1992-09-01T00:00:00",
          "1992-10-01T00:00:00",
          "1992-11-01T00:00:00",
          "1992-12-01T00:00:00",
          "1993-01-01T00:00:00",
          "1993-02-01T00:00:00",
          "1993-03-01T00:00:00",
          "1993-04-01T00:00:00",
          "1993-05-01T00:00:00",
          "1993-06-01T00:00:00",
          "1993-07-01T00:00:00",
          "1993-08-01T00:00:00",
          "1993-09-01T00:00:00",
          "1993-10-01T00:00:00",
          "1993-11-01T00:00:00",
          "1993-12-01T00:00:00",
          "1994-01-01T00:00:00",
          "1994-02-01T00:00:00",
          "1994-03-01T00:00:00",
          "1994-04-01T00:00:00",
          "1994-05-01T00:00:00",
          "1994-06-01T00:00:00",
          "1994-07-01T00:00:00",
          "1994-08-01T00:00:00",
          "1994-09-01T00:00:00",
          "1994-10-01T00:00:00",
          "1994-11-01T00:00:00",
          "1994-12-01T00:00:00",
          "1995-01-01T00:00:00",
          "1995-02-01T00:00:00",
          "1995-03-01T00:00:00",
          "1995-04-01T00:00:00",
          "1995-05-01T00:00:00",
          "1995-06-01T00:00:00",
          "1995-07-01T00:00:00",
          "1995-08-01T00:00:00",
          "1995-09-01T00:00:00",
          "1995-10-01T00:00:00",
          "1995-11-01T00:00:00",
          "1995-12-01T00:00:00",
          "1996-01-01T00:00:00",
          "1996-02-01T00:00:00",
          "1996-03-01T00:00:00",
          "1996-04-01T00:00:00",
          "1996-05-01T00:00:00",
          "1996-06-01T00:00:00",
          "1996-07-01T00:00:00",
          "1996-08-01T00:00:00",
          "1996-09-01T00:00:00",
          "1996-10-01T00:00:00",
          "1996-11-01T00:00:00",
          "1996-12-01T00:00:00",
          "1997-01-01T00:00:00",
          "1997-02-01T00:00:00",
          "1997-03-01T00:00:00",
          "1997-04-01T00:00:00",
          "1997-05-01T00:00:00",
          "1997-06-01T00:00:00",
          "1997-07-01T00:00:00",
          "1997-08-01T00:00:00",
          "1997-09-01T00:00:00",
          "1997-10-01T00:00:00",
          "1997-11-01T00:00:00",
          "1997-12-01T00:00:00",
          "1998-01-01T00:00:00",
          "1998-02-01T00:00:00",
          "1998-03-01T00:00:00",
          "1998-04-01T00:00:00",
          "1998-05-01T00:00:00",
          "1998-06-01T00:00:00",
          "1998-07-01T00:00:00",
          "1998-08-01T00:00:00",
          "1998-09-01T00:00:00",
          "1998-10-01T00:00:00",
          "1998-11-01T00:00:00",
          "1998-12-01T00:00:00",
          "1999-01-01T00:00:00",
          "1999-02-01T00:00:00",
          "1999-03-01T00:00:00",
          "1999-04-01T00:00:00",
          "1999-05-01T00:00:00",
          "1999-06-01T00:00:00",
          "1999-07-01T00:00:00",
          "1999-08-01T00:00:00",
          "1999-09-01T00:00:00",
          "1999-10-01T00:00:00",
          "1999-11-01T00:00:00",
          "1999-12-01T00:00:00",
          "2000-01-01T00:00:00",
          "2000-02-01T00:00:00",
          "2000-03-01T00:00:00",
          "2000-04-01T00:00:00",
          "2000-05-01T00:00:00",
          "2000-06-01T00:00:00",
          "2000-07-01T00:00:00",
          "2000-08-01T00:00:00",
          "2000-09-01T00:00:00",
          "2000-10-01T00:00:00",
          "2000-11-01T00:00:00",
          "2000-12-01T00:00:00",
          "2001-01-01T00:00:00",
          "2001-02-01T00:00:00",
          "2001-03-01T00:00:00",
          "2001-04-01T00:00:00",
          "2001-05-01T00:00:00",
          "2001-06-01T00:00:00",
          "2001-07-01T00:00:00",
          "2001-08-01T00:00:00",
          "2001-09-01T00:00:00",
          "2001-10-01T00:00:00",
          "2001-11-01T00:00:00",
          "2001-12-01T00:00:00",
          "2002-01-01T00:00:00",
          "2002-02-01T00:00:00",
          "2002-03-01T00:00:00",
          "2002-04-01T00:00:00",
          "2002-05-01T00:00:00",
          "2002-06-01T00:00:00",
          "2002-07-01T00:00:00",
          "2002-08-01T00:00:00",
          "2002-09-01T00:00:00",
          "2002-10-01T00:00:00",
          "2002-11-01T00:00:00",
          "2002-12-01T00:00:00",
          "2003-01-01T00:00:00",
          "2003-02-01T00:00:00",
          "2003-03-01T00:00:00",
          "2003-04-01T00:00:00",
          "2003-05-01T00:00:00",
          "2003-06-01T00:00:00",
          "2003-07-01T00:00:00",
          "2003-08-01T00:00:00",
          "2003-09-01T00:00:00",
          "2003-10-01T00:00:00",
          "2003-11-01T00:00:00",
          "2003-12-01T00:00:00",
          "2004-01-01T00:00:00",
          "2004-02-01T00:00:00",
          "2004-03-01T00:00:00",
          "2004-04-01T00:00:00",
          "2004-05-01T00:00:00",
          "2004-06-01T00:00:00",
          "2004-07-01T00:00:00",
          "2004-08-01T00:00:00",
          "2004-09-01T00:00:00",
          "2004-10-01T00:00:00",
          "2004-11-01T00:00:00",
          "2004-12-01T00:00:00",
          "2005-01-01T00:00:00",
          "2005-02-01T00:00:00",
          "2005-03-01T00:00:00",
          "2005-04-01T00:00:00",
          "2005-05-01T00:00:00",
          "2005-06-01T00:00:00",
          "2005-07-01T00:00:00",
          "2005-08-01T00:00:00",
          "2005-09-01T00:00:00",
          "2005-10-01T00:00:00",
          "2005-11-01T00:00:00",
          "2005-12-01T00:00:00",
          "2006-01-01T00:00:00",
          "2006-02-01T00:00:00",
          "2006-03-01T00:00:00",
          "2006-04-01T00:00:00",
          "2006-05-01T00:00:00",
          "2006-06-01T00:00:00",
          "2006-07-01T00:00:00",
          "2006-08-01T00:00:00",
          "2006-09-01T00:00:00",
          "2006-10-01T00:00:00",
          "2006-11-01T00:00:00",
          "2006-12-01T00:00:00",
          "2007-01-01T00:00:00",
          "2007-02-01T00:00:00",
          "2007-03-01T00:00:00",
          "2007-04-01T00:00:00",
          "2007-05-01T00:00:00",
          "2007-06-01T00:00:00",
          "2007-07-01T00:00:00",
          "2007-08-01T00:00:00",
          "2007-09-01T00:00:00",
          "2007-10-01T00:00:00",
          "2007-11-01T00:00:00",
          "2007-12-01T00:00:00",
          "2008-01-01T00:00:00",
          "2008-02-01T00:00:00",
          "2008-03-01T00:00:00",
          "2008-04-01T00:00:00",
          "2008-05-01T00:00:00",
          "2008-06-01T00:00:00",
          "2008-07-01T00:00:00",
          "2008-08-01T00:00:00",
          "2008-09-01T00:00:00",
          "2008-10-01T00:00:00",
          "2008-11-01T00:00:00",
          "2008-12-01T00:00:00",
          "2009-01-01T00:00:00",
          "2009-02-01T00:00:00",
          "2009-03-01T00:00:00",
          "2009-04-01T00:00:00",
          "2009-05-01T00:00:00",
          "2009-06-01T00:00:00",
          "2009-07-01T00:00:00",
          "2009-08-01T00:00:00",
          "2009-09-01T00:00:00",
          "2009-10-01T00:00:00",
          "2009-11-01T00:00:00",
          "2009-12-01T00:00:00",
          "2010-01-01T00:00:00",
          "2010-02-01T00:00:00",
          "2010-03-01T00:00:00",
          "2010-04-01T00:00:00",
          "2010-05-01T00:00:00",
          "2010-06-01T00:00:00",
          "2010-07-01T00:00:00",
          "2010-08-01T00:00:00",
          "2010-09-01T00:00:00",
          "2010-10-01T00:00:00",
          "2010-11-01T00:00:00",
          "2010-12-01T00:00:00",
          "2011-01-01T00:00:00",
          "2011-02-01T00:00:00",
          "2011-03-01T00:00:00",
          "2011-04-01T00:00:00",
          "2011-05-01T00:00:00",
          "2011-06-01T00:00:00",
          "2011-07-01T00:00:00",
          "2011-08-01T00:00:00",
          "2011-09-01T00:00:00",
          "2011-10-01T00:00:00",
          "2011-11-01T00:00:00",
          "2011-12-01T00:00:00",
          "2012-01-01T00:00:00",
          "2012-02-01T00:00:00",
          "2012-03-01T00:00:00",
          "2012-04-01T00:00:00",
          "2012-05-01T00:00:00",
          "2012-06-01T00:00:00",
          "2012-07-01T00:00:00",
          "2012-08-01T00:00:00",
          "2012-09-01T00:00:00",
          "2012-10-01T00:00:00",
          "2012-11-01T00:00:00",
          "2012-12-01T00:00:00",
          "2013-01-01T00:00:00",
          "2013-02-01T00:00:00",
          "2013-03-01T00:00:00",
          "2013-04-01T00:00:00",
          "2013-05-01T00:00:00",
          "2013-06-01T00:00:00",
          "2013-07-01T00:00:00",
          "2013-08-01T00:00:00",
          "2013-09-01T00:00:00",
          "2013-10-01T00:00:00",
          "2013-11-01T00:00:00",
          "2013-12-01T00:00:00",
          "2014-01-01T00:00:00",
          "2014-02-01T00:00:00",
          "2014-03-01T00:00:00",
          "2014-04-01T00:00:00",
          "2014-05-01T00:00:00",
          "2014-06-01T00:00:00",
          "2014-07-01T00:00:00",
          "2014-08-01T00:00:00",
          "2014-09-01T00:00:00",
          "2014-10-01T00:00:00",
          "2014-11-01T00:00:00",
          "2014-12-01T00:00:00",
          "2015-01-01T00:00:00",
          "2015-02-01T00:00:00",
          "2015-03-01T00:00:00",
          "2015-04-01T00:00:00",
          "2015-05-01T00:00:00",
          "2015-06-01T00:00:00",
          "2015-07-01T00:00:00",
          "2015-08-01T00:00:00",
          "2015-09-01T00:00:00",
          "2015-10-01T00:00:00",
          "2015-11-01T00:00:00",
          "2015-12-01T00:00:00",
          "2016-01-01T00:00:00",
          "2016-02-01T00:00:00",
          "2016-03-01T00:00:00",
          "2016-04-01T00:00:00",
          "2016-05-01T00:00:00",
          "2016-06-01T00:00:00",
          "2016-07-01T00:00:00",
          "2016-08-01T00:00:00",
          "2016-09-01T00:00:00",
          "2016-10-01T00:00:00",
          "2016-11-01T00:00:00",
          "2016-12-01T00:00:00",
          "2017-01-01T00:00:00",
          "2017-02-01T00:00:00",
          "2017-03-01T00:00:00",
          "2017-04-01T00:00:00",
          "2017-05-01T00:00:00",
          "2017-06-01T00:00:00",
          "2017-07-01T00:00:00",
          "2017-08-01T00:00:00",
          "2017-09-01T00:00:00",
          "2017-10-01T00:00:00",
          "2017-11-01T00:00:00",
          "2017-12-01T00:00:00",
          "2018-01-01T00:00:00",
          "2018-02-01T00:00:00",
          "2018-03-01T00:00:00",
          "2018-04-01T00:00:00",
          "2018-05-01T00:00:00",
          "2018-06-01T00:00:00",
          "2018-07-01T00:00:00",
          "2018-08-01T00:00:00",
          "2018-09-01T00:00:00",
          "2018-10-01T00:00:00",
          "2018-11-01T00:00:00",
          "2018-12-01T00:00:00",
          "2019-01-01T00:00:00",
          "2019-02-01T00:00:00",
          "2019-03-01T00:00:00",
          "2019-04-01T00:00:00",
          "2019-05-01T00:00:00",
          "2019-06-01T00:00:00",
          "2019-07-01T00:00:00",
          "2019-08-01T00:00:00",
          "2019-09-01T00:00:00",
          "2019-10-01T00:00:00",
          "2019-11-01T00:00:00",
          "2019-12-01T00:00:00",
          "2020-01-01T00:00:00",
          "2020-02-01T00:00:00",
          "2020-03-01T00:00:00",
          "2020-04-01T00:00:00",
          "2020-05-01T00:00:00",
          "2020-06-01T00:00:00",
          "2020-07-01T00:00:00",
          "2020-08-01T00:00:00",
          "2020-09-01T00:00:00",
          "2020-10-01T00:00:00",
          "2020-11-01T00:00:00",
          "2020-12-01T00:00:00",
          "2021-01-01T00:00:00",
          "2021-02-01T00:00:00",
          "2021-03-01T00:00:00",
          "2021-04-01T00:00:00",
          "2021-05-01T00:00:00",
          "2021-06-01T00:00:00",
          "2021-07-01T00:00:00",
          "2021-08-01T00:00:00",
          "2021-09-01T00:00:00",
          "2021-10-01T00:00:00",
          "2021-11-01T00:00:00",
          "2021-12-01T00:00:00",
          "2022-01-01T00:00:00",
          "2022-02-01T00:00:00",
          "2022-03-01T00:00:00",
          "2022-04-01T00:00:00",
          "2022-05-01T00:00:00",
          "2022-06-01T00:00:00",
          "2022-07-01T00:00:00",
          "2022-08-01T00:00:00",
          "2022-09-01T00:00:00",
          "2022-10-01T00:00:00",
          "2022-11-01T00:00:00",
          "2022-12-01T00:00:00",
          "2023-01-01T00:00:00",
          "2023-02-01T00:00:00",
          "2023-03-01T00:00:00",
          "2023-04-01T00:00:00",
          "2023-05-01T00:00:00",
          "2023-06-01T00:00:00",
          "2023-07-01T00:00:00",
          "2023-08-01T00:00:00",
          "2023-09-01T00:00:00",
          "2023-10-01T00:00:00",
          "2023-11-01T00:00:00",
          "2023-12-01T00:00:00",
          "2024-01-01T00:00:00",
          "2024-02-01T00:00:00",
          "2024-03-01T00:00:00",
          "2024-04-01T00:00:00",
          "2024-05-01T00:00:00",
          "2024-06-01T00:00:00",
          "2024-07-01T00:00:00",
          "2024-08-01T00:00:00",
          "2024-09-01T00:00:00",
          "2024-10-01T00:00:00",
          "2024-11-01T00:00:00",
          "2024-12-01T00:00:00",
          "2025-01-01T00:00:00",
          "2025-02-01T00:00:00",
          "2025-03-01T00:00:00",
          "2025-04-01T00:00:00",
          "2025-05-01T00:00:00",
          "2025-06-01T00:00:00",
          "2025-07-01T00:00:00"
         ],
         "xaxis": "x",
         "y": [
          null,
          null,
          null,
          null,
          null,
          null,
          null,
          null,
          null,
          null,
          null,
          11790,
          12097.5,
          12392.5,
          12558.333333333334,
          12817.5,
          12907.5,
          13018.333333333334,
          13167.5,
          13159.166666666666,
          13260,
          13287.5,
          13311.666666666666,
          13402.5,
          13390,
          13282.5,
          13278.333333333334,
          13195.833333333334,
          13176.666666666666,
          13210,
          13198.333333333334,
          13268.333333333334,
          13263.333333333334,
          13155.833333333334,
          13066.666666666666,
          12895,
          13145.833333333334,
          13255,
          13299.166666666666,
          13350,
          13373.333333333334,
          13517.5,
          13505,
          13513.333333333334,
          13543.333333333334,
          13642.5,
          13820,
          13926.666666666666,
          13698.333333333334,
          13770,
          13910.833333333334,
          14059.166666666666,
          14158.333333333334,
          14190.833333333334,
          14313.333333333334,
          14514.166666666666,
          14640.833333333334,
          14831.666666666666,
          15193.333333333334,
          15356.666666666666,
          15730,
          15895.833333333334,
          16334.166666666666,
          16483.333333333332,
          16765,
          17064.166666666668,
          17264.166666666668,
          17461.666666666668,
          17639.166666666668,
          17762.5,
          17791.666666666668,
          17724.166666666668,
          17913.333333333332,
          18073.333333333332,
          17799.166666666668,
          17859.166666666668,
          17764.166666666668,
          17555,
          17540,
          17409.166666666668,
          17190,
          16981.666666666668,
          16620.833333333332,
          16268.333333333334,
          16005,
          15689.166666666666,
          15328.333333333334,
          15005,
          14642.5,
          14395.833333333334,
          14062.5,
          13714.166666666666,
          13446.666666666666,
          13117.5,
          12868.333333333334,
          12797.5,
          12469.166666666666,
          12409.166666666666,
          12285.833333333334,
          12135.833333333334,
          12060,
          12106.666666666666,
          12095.833333333334,
          12176.666666666666,
          12324.166666666666,
          12456.666666666666,
          12610.833333333334,
          12795,
          12884.166666666666,
          12991.666666666666,
          13230.833333333334,
          13351.666666666666,
          13491.666666666666,
          13605,
          13700,
          13815.833333333334,
          13942.5,
          14091.666666666666,
          14260,
          14379.166666666666,
          14615.833333333334,
          14750,
          14970.833333333334,
          15145.833333333334,
          15344.166666666666,
          15533.333333333334,
          15781.666666666666,
          15943.333333333334,
          16058.333333333334,
          16213.333333333334,
          16343.333333333334,
          16391.666666666668,
          16475.833333333332,
          16643.333333333332,
          16680,
          16835.833333333332,
          16980.833333333332,
          17039.166666666668,
          17165,
          17351.666666666668,
          17623.333333333332,
          17868.333333333332,
          18200,
          18467.5,
          19030.833333333332,
          19249.166666666668,
          19526.666666666668,
          19831.666666666668,
          19967.5,
          20187.5,
          20485,
          20694.166666666668,
          20881.666666666668,
          20999.166666666668,
          21023.333333333332,
          21156.666666666668,
          21071.666666666668,
          21110.833333333332,
          20998.333333333332,
          20914.166666666668,
          20810,
          20824.166666666668,
          20724.166666666668,
          20610.833333333332,
          20405.833333333332,
          20158.333333333332,
          19995,
          19837.5,
          19667.5,
          19718.333333333332,
          19538.333333333332,
          19516.666666666668,
          19432.5,
          19327.5,
          19395,
          19412.5,
          19429.166666666668,
          19489.166666666668,
          19440.833333333332,
          19505,
          19561.666666666668,
          19655,
          19852.5,
          19590,
          19635.833333333332,
          19700.833333333332,
          19835.833333333332,
          19839.166666666668,
          19816.666666666668,
          19805.833333333332,
          19790.833333333332,
          19770,
          19784.166666666668,
          20040.833333333332,
          19753.333333333332,
          19895,
          19785.833333333332,
          19515,
          19367.5,
          19093.333333333332,
          18871.666666666668,
          18674.166666666668,
          18470,
          18372.5,
          18104.166666666668,
          17794.166666666668,
          17622.5,
          17361.666666666668,
          17143.333333333332,
          16981.666666666668,
          16885,
          16796.666666666668,
          16727.5,
          16670.833333333332,
          16639.166666666668,
          16494.166666666668,
          16645.833333333332,
          16731.666666666668,
          16843.333333333332,
          16938.333333333332,
          17042.5,
          17281.666666666668,
          17546.666666666668,
          17667.5,
          17885.833333333332,
          18085.833333333332,
          18268.333333333332,
          18494.166666666668,
          18774.166666666668,
          19177.5,
          19315,
          19635,
          19770,
          19877.5,
          20222.5,
          20360,
          20492.5,
          20698.333333333332,
          20885.833333333332,
          21162.5,
          21485,
          21671.666666666668,
          21940,
          21877.5,
          21848.333333333332,
          21893.333333333332,
          21936.666666666668,
          21955,
          21926.666666666668,
          21938.333333333332,
          21896.666666666668,
          21777.5,
          21729.166666666668,
          21788.333333333332,
          21782.5,
          21749.166666666668,
          21813.333333333332,
          21751.666666666668,
          21825,
          21811.666666666668,
          21814.166666666668,
          21766.666666666668,
          21704.166666666668,
          21685.833333333332,
          21680,
          21826.666666666668,
          21743.333333333332,
          21887.5,
          21976.666666666668,
          22120,
          22204.166666666668,
          22286.666666666668,
          22330,
          22407.5,
          22410.833333333332,
          22365,
          22522.5,
          22420,
          22533.333333333332,
          22534.166666666668,
          22659.166666666668,
          22662.5,
          22905,
          23065.833333333332,
          23297.5,
          23527.5,
          23875,
          24155.833333333332,
          24425.833333333332,
          24825.833333333332,
          24858.333333333332,
          25131.666666666668,
          25249.166666666668,
          25426.666666666668,
          25640,
          25828.333333333332,
          25842.5,
          26026.666666666668,
          26093.333333333332,
          26463.333333333332,
          27088.333333333332,
          27903.333333333332,
          28316.666666666668,
          28607.5,
          28899.166666666668,
          29047.5,
          29406.666666666668,
          29508.333333333332,
          29757.5,
          29774.166666666668,
          29733.333333333332,
          29701.666666666668,
          29549.166666666668,
          29221.666666666668,
          29522.5,
          29374.166666666668,
          29277.5,
          29448.333333333332,
          29608.333333333332,
          29823.333333333332,
          29849.166666666668,
          29998.333333333332,
          30177.5,
          30166.666666666668,
          30195.833333333332,
          30690.833333333332,
          30835.833333333332,
          30945.833333333332,
          30983.333333333332,
          31150,
          31470,
          31638.333333333332,
          31826.666666666668,
          32007.5,
          32214.166666666668,
          32370.833333333332,
          32613.333333333332,
          33009.166666666664,
          32949.166666666664,
          33190.833333333336,
          33375,
          33443.333333333336,
          34154.166666666664,
          34435,
          34753.333333333336,
          35125.833333333336,
          35361.666666666664,
          35736.666666666664,
          36524.166666666664,
          36825.833333333336,
          37495.833333333336,
          37887.5,
          38219.166666666664,
          38591.666666666664,
          38715.833333333336,
          38940,
          39197.5,
          39453.333333333336,
          39707.5,
          39981.666666666664,
          40066.666666666664,
          40645.833333333336,
          40623.333333333336,
          40813.333333333336,
          40995,
          41250.833333333336,
          41560.833333333336,
          41955.833333333336,
          42320.833333333336,
          42651.666666666664,
          43108.333333333336,
          43338.333333333336,
          44042.5,
          44294.166666666664,
          45171.666666666664,
          45675,
          46095,
          46799.166666666664,
          47238.333333333336,
          47726.666666666664,
          47922.5,
          48085.833333333336,
          48405,
          48803.333333333336,
          49538.333333333336,
          50521.666666666664,
          51213.333333333336,
          51790.833333333336,
          52483.333333333336,
          53050.833333333336,
          53794.166666666664,
          54643.333333333336,
          55575.833333333336,
          56746.666666666664,
          57620,
          58211.666666666664,
          59352.5,
          60251.666666666664,
          60395,
          60939.166666666664,
          61021.666666666664,
          60974.166666666664,
          61541.666666666664,
          61269.166666666664,
          60836.666666666664,
          60413.333333333336,
          59616.666666666664,
          59240,
          58650,
          58075.833333333336,
          57747.5,
          56956.666666666664,
          56403.333333333336,
          55891.666666666664,
          54920,
          54462.5,
          54323.333333333336,
          53965.833333333336,
          53922.5,
          53825,
          53666.666666666664,
          53721.666666666664,
          53604.166666666664,
          53786.666666666664,
          54350,
          54525.833333333336,
          54770.833333333336,
          55068.333333333336,
          55585,
          56118.333333333336,
          56726.666666666664,
          57244.166666666664,
          57888.333333333336,
          58480.833333333336,
          58966.666666666664,
          59609.166666666664,
          59693.333333333336,
          60426.666666666664,
          60867.5,
          61371.666666666664,
          61805,
          61920,
          61974.166666666664,
          62286.666666666664,
          62794.166666666664,
          62310.833333333336,
          62786.666666666664,
          62855.833333333336,
          62980,
          63009.166666666664,
          63173.333333333336,
          63359.166666666664,
          63296.666666666664,
          63362.5,
          63270,
          62910.833333333336,
          62413.333333333336,
          62660.833333333336,
          61992.5,
          61580,
          61432.5,
          60915,
          60564.166666666664,
          60326.666666666664,
          59883.333333333336,
          59611.666666666664,
          59332.5,
          59272.5,
          59130,
          58626.666666666664,
          59104.166666666664,
          59156.666666666664,
          59075.833333333336,
          58972.5,
          59266.666666666664,
          59138.333333333336,
          59071.666666666664,
          59092.5,
          59154.166666666664,
          59182.5,
          59079.166666666664,
          59976.666666666664,
          59623.333333333336,
          59541.666666666664,
          59521.666666666664,
          59719.166666666664,
          60663.333333333336,
          60840,
          61383.333333333336,
          61798.333333333336,
          62178.333333333336,
          62546.666666666664,
          62592.5,
          63567.5,
          63702.5,
          64133.333333333336,
          64280,
          64450,
          64719.166666666664,
          64755,
          64743.333333333336,
          64848.333333333336,
          64817.5,
          64798.333333333336,
          65563.33333333333,
          65607.5,
          66375.83333333333,
          66679.16666666667,
          66902.5,
          67377.5,
          68206.66666666667,
          68471.66666666667,
          68590.83333333333,
          68790,
          69081.66666666667,
          69380,
          69609.16666666667,
          70400,
          70486.66666666667,
          70329.16666666667,
          70714.16666666667,
          70897.5,
          70390,
          70542.5,
          70584.16666666667,
          70353.33333333333,
          70413.33333333333,
          70331.66666666667,
          70278.33333333333,
          68840,
          67291.66666666667,
          62648.333333333336,
          58395.833333333336,
          53739.166666666664,
          46042.5,
          41153.333333333336,
          36653.333333333336,
          32260,
          28305.833333333332,
          24109.166666666668,
          17321.666666666668,
          10048.333333333334,
          6941.666666666667,
          7978.333333333333,
          9118.333333333334,
          10056.666666666666,
          10961.666666666666,
          11502.5,
          11840.833333333334,
          11897.5,
          13291.666666666666,
          18165.833333333332,
          21591.666666666668,
          26040.833333333332,
          29675.833333333332,
          33136.666666666664,
          36675,
          40757.5,
          46638.333333333336,
          51720.833333333336,
          56513.333333333336,
          60960.833333333336,
          64884.166666666664,
          65847.5,
          69578.33333333333,
          75518.33333333333,
          78640.83333333333,
          80269.16666666667,
          81811.66666666667,
          83632.5,
          86783.33333333333,
          87741.66666666667,
          88837.5,
          89925.83333333333,
          90378.33333333333,
          90934.16666666667,
          93243.33333333333,
          94730.83333333333,
          93994.16666666667,
          94144.16666666667,
          93541.66666666667,
          92528.33333333333,
          92300,
          92130,
          92350,
          92630.83333333333,
          92725.83333333333,
          92431.66666666667,
          92681.66666666667,
          93225.83333333333,
          93280.83333333333,
          93325.83333333333,
          94040,
          94506.66666666667,
          94517.5
         ],
         "yaxis": "y2"
        }
       ],
       "layout": {
        "annotations": [
         {
          "align": "left",
          "bgcolor": "white",
          "bordercolor": "black",
          "borderwidth": 1,
          "font": {
           "color": "black",
           "size": 12
          },
          "showarrow": false,
          "text": "Source: ABS",
          "x": 0,
          "xref": "paper",
          "y": -0.14,
          "yref": "paper"
         }
        ],
        "font": {
         "color": "black",
         "family": "Arial, sans-serif",
         "size": 14
        },
        "height": 660,
        "hovermode": "x unified",
        "legend": {
         "bgcolor": "rgba(255,255,255,0)",
         "bordercolor": "rgba(255,255,255,0)",
         "orientation": "h",
         "x": 0.5,
         "xanchor": "center",
         "y": -0.1,
         "yanchor": "top"
        },
        "margin": {
         "b": 40,
         "l": 70,
         "r": 10,
         "t": 60
        },
        "template": {
         "data": {
          "bar": [
           {
            "error_x": {
             "color": "#2a3f5f"
            },
            "error_y": {
             "color": "#2a3f5f"
            },
            "marker": {
             "line": {
              "color": "white",
              "width": 0.5
             },
             "pattern": {
              "fillmode": "overlay",
              "size": 10,
              "solidity": 0.2
             }
            },
            "type": "bar"
           }
          ],
          "barpolar": [
           {
            "marker": {
             "line": {
              "color": "white",
              "width": 0.5
             },
             "pattern": {
              "fillmode": "overlay",
              "size": 10,
              "solidity": 0.2
             }
            },
            "type": "barpolar"
           }
          ],
          "carpet": [
           {
            "aaxis": {
             "endlinecolor": "#2a3f5f",
             "gridcolor": "#C8D4E3",
             "linecolor": "#C8D4E3",
             "minorgridcolor": "#C8D4E3",
             "startlinecolor": "#2a3f5f"
            },
            "baxis": {
             "endlinecolor": "#2a3f5f",
             "gridcolor": "#C8D4E3",
             "linecolor": "#C8D4E3",
             "minorgridcolor": "#C8D4E3",
             "startlinecolor": "#2a3f5f"
            },
            "type": "carpet"
           }
          ],
          "choropleth": [
           {
            "colorbar": {
             "outlinewidth": 0,
             "ticks": ""
            },
            "type": "choropleth"
           }
          ],
          "contour": [
           {
            "colorbar": {
             "outlinewidth": 0,
             "ticks": ""
            },
            "colorscale": [
             [
              0,
              "#0d0887"
             ],
             [
              0.1111111111111111,
              "#46039f"
             ],
             [
              0.2222222222222222,
              "#7201a8"
             ],
             [
              0.3333333333333333,
              "#9c179e"
             ],
             [
              0.4444444444444444,
              "#bd3786"
             ],
             [
              0.5555555555555556,
              "#d8576b"
             ],
             [
              0.6666666666666666,
              "#ed7953"
             ],
             [
              0.7777777777777778,
              "#fb9f3a"
             ],
             [
              0.8888888888888888,
              "#fdca26"
             ],
             [
              1,
              "#f0f921"
             ]
            ],
            "type": "contour"
           }
          ],
          "contourcarpet": [
           {
            "colorbar": {
             "outlinewidth": 0,
             "ticks": ""
            },
            "type": "contourcarpet"
           }
          ],
          "heatmap": [
           {
            "colorbar": {
             "outlinewidth": 0,
             "ticks": ""
            },
            "colorscale": [
             [
              0,
              "#0d0887"
             ],
             [
              0.1111111111111111,
              "#46039f"
             ],
             [
              0.2222222222222222,
              "#7201a8"
             ],
             [
              0.3333333333333333,
              "#9c179e"
             ],
             [
              0.4444444444444444,
              "#bd3786"
             ],
             [
              0.5555555555555556,
              "#d8576b"
             ],
             [
              0.6666666666666666,
              "#ed7953"
             ],
             [
              0.7777777777777778,
              "#fb9f3a"
             ],
             [
              0.8888888888888888,
              "#fdca26"
             ],
             [
              1,
              "#f0f921"
             ]
            ],
            "type": "heatmap"
           }
          ],
          "heatmapgl": [
           {
            "colorbar": {
             "outlinewidth": 0,
             "ticks": ""
            },
            "colorscale": [
             [
              0,
              "#0d0887"
             ],
             [
              0.1111111111111111,
              "#46039f"
             ],
             [
              0.2222222222222222,
              "#7201a8"
             ],
             [
              0.3333333333333333,
              "#9c179e"
             ],
             [
              0.4444444444444444,
              "#bd3786"
             ],
             [
              0.5555555555555556,
              "#d8576b"
             ],
             [
              0.6666666666666666,
              "#ed7953"
             ],
             [
              0.7777777777777778,
              "#fb9f3a"
             ],
             [
              0.8888888888888888,
              "#fdca26"
             ],
             [
              1,
              "#f0f921"
             ]
            ],
            "type": "heatmapgl"
           }
          ],
          "histogram": [
           {
            "marker": {
             "pattern": {
              "fillmode": "overlay",
              "size": 10,
              "solidity": 0.2
             }
            },
            "type": "histogram"
           }
          ],
          "histogram2d": [
           {
            "colorbar": {
             "outlinewidth": 0,
             "ticks": ""
            },
            "colorscale": [
             [
              0,
              "#0d0887"
             ],
             [
              0.1111111111111111,
              "#46039f"
             ],
             [
              0.2222222222222222,
              "#7201a8"
             ],
             [
              0.3333333333333333,
              "#9c179e"
             ],
             [
              0.4444444444444444,
              "#bd3786"
             ],
             [
              0.5555555555555556,
              "#d8576b"
             ],
             [
              0.6666666666666666,
              "#ed7953"
             ],
             [
              0.7777777777777778,
              "#fb9f3a"
             ],
             [
              0.8888888888888888,
              "#fdca26"
             ],
             [
              1,
              "#f0f921"
             ]
            ],
            "type": "histogram2d"
           }
          ],
          "histogram2dcontour": [
           {
            "colorbar": {
             "outlinewidth": 0,
             "ticks": ""
            },
            "colorscale": [
             [
              0,
              "#0d0887"
             ],
             [
              0.1111111111111111,
              "#46039f"
             ],
             [
              0.2222222222222222,
              "#7201a8"
             ],
             [
              0.3333333333333333,
              "#9c179e"
             ],
             [
              0.4444444444444444,
              "#bd3786"
             ],
             [
              0.5555555555555556,
              "#d8576b"
             ],
             [
              0.6666666666666666,
              "#ed7953"
             ],
             [
              0.7777777777777778,
              "#fb9f3a"
             ],
             [
              0.8888888888888888,
              "#fdca26"
             ],
             [
              1,
              "#f0f921"
             ]
            ],
            "type": "histogram2dcontour"
           }
          ],
          "mesh3d": [
           {
            "colorbar": {
             "outlinewidth": 0,
             "ticks": ""
            },
            "type": "mesh3d"
           }
          ],
          "parcoords": [
           {
            "line": {
             "colorbar": {
              "outlinewidth": 0,
              "ticks": ""
             }
            },
            "type": "parcoords"
           }
          ],
          "pie": [
           {
            "automargin": true,
            "type": "pie"
           }
          ],
          "scatter": [
           {
            "fillpattern": {
             "fillmode": "overlay",
             "size": 10,
             "solidity": 0.2
            },
            "type": "scatter"
           }
          ],
          "scatter3d": [
           {
            "line": {
             "colorbar": {
              "outlinewidth": 0,
              "ticks": ""
             }
            },
            "marker": {
             "colorbar": {
              "outlinewidth": 0,
              "ticks": ""
             }
            },
            "type": "scatter3d"
           }
          ],
          "scattercarpet": [
           {
            "marker": {
             "colorbar": {
              "outlinewidth": 0,
              "ticks": ""
             }
            },
            "type": "scattercarpet"
           }
          ],
          "scattergeo": [
           {
            "marker": {
             "colorbar": {
              "outlinewidth": 0,
              "ticks": ""
             }
            },
            "type": "scattergeo"
           }
          ],
          "scattergl": [
           {
            "marker": {
             "colorbar": {
              "outlinewidth": 0,
              "ticks": ""
             }
            },
            "type": "scattergl"
           }
          ],
          "scattermapbox": [
           {
            "marker": {
             "colorbar": {
              "outlinewidth": 0,
              "ticks": ""
             }
            },
            "type": "scattermapbox"
           }
          ],
          "scatterpolar": [
           {
            "marker": {
             "colorbar": {
              "outlinewidth": 0,
              "ticks": ""
             }
            },
            "type": "scatterpolar"
           }
          ],
          "scatterpolargl": [
           {
            "marker": {
             "colorbar": {
              "outlinewidth": 0,
              "ticks": ""
             }
            },
            "type": "scatterpolargl"
           }
          ],
          "scatterternary": [
           {
            "marker": {
             "colorbar": {
              "outlinewidth": 0,
              "ticks": ""
             }
            },
            "type": "scatterternary"
           }
          ],
          "surface": [
           {
            "colorbar": {
             "outlinewidth": 0,
             "ticks": ""
            },
            "colorscale": [
             [
              0,
              "#0d0887"
             ],
             [
              0.1111111111111111,
              "#46039f"
             ],
             [
              0.2222222222222222,
              "#7201a8"
             ],
             [
              0.3333333333333333,
              "#9c179e"
             ],
             [
              0.4444444444444444,
              "#bd3786"
             ],
             [
              0.5555555555555556,
              "#d8576b"
             ],
             [
              0.6666666666666666,
              "#ed7953"
             ],
             [
              0.7777777777777778,
              "#fb9f3a"
             ],
             [
              0.8888888888888888,
              "#fdca26"
             ],
             [
              1,
              "#f0f921"
             ]
            ],
            "type": "surface"
           }
          ],
          "table": [
           {
            "cells": {
             "fill": {
              "color": "#EBF0F8"
             },
             "line": {
              "color": "white"
             }
            },
            "header": {
             "fill": {
              "color": "#C8D4E3"
             },
             "line": {
              "color": "white"
             }
            },
            "type": "table"
           }
          ]
         },
         "layout": {
          "annotationdefaults": {
           "arrowcolor": "#2a3f5f",
           "arrowhead": 0,
           "arrowwidth": 1
          },
          "autotypenumbers": "strict",
          "coloraxis": {
           "colorbar": {
            "outlinewidth": 0,
            "ticks": ""
           }
          },
          "colorscale": {
           "diverging": [
            [
             0,
             "#8e0152"
            ],
            [
             0.1,
             "#c51b7d"
            ],
            [
             0.2,
             "#de77ae"
            ],
            [
             0.3,
             "#f1b6da"
            ],
            [
             0.4,
             "#fde0ef"
            ],
            [
             0.5,
             "#f7f7f7"
            ],
            [
             0.6,
             "#e6f5d0"
            ],
            [
             0.7,
             "#b8e186"
            ],
            [
             0.8,
             "#7fbc41"
            ],
            [
             0.9,
             "#4d9221"
            ],
            [
             1,
             "#276419"
            ]
           ],
           "sequential": [
            [
             0,
             "#0d0887"
            ],
            [
             0.1111111111111111,
             "#46039f"
            ],
            [
             0.2222222222222222,
             "#7201a8"
            ],
            [
             0.3333333333333333,
             "#9c179e"
            ],
            [
             0.4444444444444444,
             "#bd3786"
            ],
            [
             0.5555555555555556,
             "#d8576b"
            ],
            [
             0.6666666666666666,
             "#ed7953"
            ],
            [
             0.7777777777777778,
             "#fb9f3a"
            ],
            [
             0.8888888888888888,
             "#fdca26"
            ],
            [
             1,
             "#f0f921"
            ]
           ],
           "sequentialminus": [
            [
             0,
             "#0d0887"
            ],
            [
             0.1111111111111111,
             "#46039f"
            ],
            [
             0.2222222222222222,
             "#7201a8"
            ],
            [
             0.3333333333333333,
             "#9c179e"
            ],
            [
             0.4444444444444444,
             "#bd3786"
            ],
            [
             0.5555555555555556,
             "#d8576b"
            ],
            [
             0.6666666666666666,
             "#ed7953"
            ],
            [
             0.7777777777777778,
             "#fb9f3a"
            ],
            [
             0.8888888888888888,
             "#fdca26"
            ],
            [
             1,
             "#f0f921"
            ]
           ]
          },
          "colorway": [
           "#636efa",
           "#EF553B",
           "#00cc96",
           "#ab63fa",
           "#FFA15A",
           "#19d3f3",
           "#FF6692",
           "#B6E880",
           "#FF97FF",
           "#FECB52"
          ],
          "font": {
           "color": "#2a3f5f"
          },
          "geo": {
           "bgcolor": "white",
           "lakecolor": "white",
           "landcolor": "white",
           "showlakes": true,
           "showland": true,
           "subunitcolor": "#C8D4E3"
          },
          "hoverlabel": {
           "align": "left"
          },
          "hovermode": "closest",
          "mapbox": {
           "style": "light"
          },
          "paper_bgcolor": "white",
          "plot_bgcolor": "white",
          "polar": {
           "angularaxis": {
            "gridcolor": "#EBF0F8",
            "linecolor": "#EBF0F8",
            "ticks": ""
           },
           "bgcolor": "white",
           "radialaxis": {
            "gridcolor": "#EBF0F8",
            "linecolor": "#EBF0F8",
            "ticks": ""
           }
          },
          "scene": {
           "xaxis": {
            "backgroundcolor": "white",
            "gridcolor": "#DFE8F3",
            "gridwidth": 2,
            "linecolor": "#EBF0F8",
            "showbackground": true,
            "ticks": "",
            "zerolinecolor": "#EBF0F8"
           },
           "yaxis": {
            "backgroundcolor": "white",
            "gridcolor": "#DFE8F3",
            "gridwidth": 2,
            "linecolor": "#EBF0F8",
            "showbackground": true,
            "ticks": "",
            "zerolinecolor": "#EBF0F8"
           },
           "zaxis": {
            "backgroundcolor": "white",
            "gridcolor": "#DFE8F3",
            "gridwidth": 2,
            "linecolor": "#EBF0F8",
            "showbackground": true,
            "ticks": "",
            "zerolinecolor": "#EBF0F8"
           }
          },
          "shapedefaults": {
           "line": {
            "color": "#2a3f5f"
           }
          },
          "ternary": {
           "aaxis": {
            "gridcolor": "#DFE8F3",
            "linecolor": "#A2B1C6",
            "ticks": ""
           },
           "baxis": {
            "gridcolor": "#DFE8F3",
            "linecolor": "#A2B1C6",
            "ticks": ""
           },
           "bgcolor": "white",
           "caxis": {
            "gridcolor": "#DFE8F3",
            "linecolor": "#A2B1C6",
            "ticks": ""
           }
          },
          "title": {
           "x": 0.05
          },
          "xaxis": {
           "automargin": true,
           "gridcolor": "#EBF0F8",
           "linecolor": "#EBF0F8",
           "ticks": "",
           "title": {
            "standoff": 15
           },
           "zerolinecolor": "#EBF0F8",
           "zerolinewidth": 2
          },
          "yaxis": {
           "automargin": true,
           "gridcolor": "#EBF0F8",
           "linecolor": "#EBF0F8",
           "ticks": "",
           "title": {
            "standoff": 15
           },
           "zerolinecolor": "#EBF0F8",
           "zerolinewidth": 2
          }
         }
        },
        "title": {
         "text": "Immigration to Australia"
        },
        "width": 1320,
        "xaxis": {
         "anchor": "y",
         "domain": [
          0,
          0.94
         ]
        },
        "yaxis": {
         "anchor": "x",
         "domain": [
          0,
          1
         ],
         "title": {
          "text": "000"
         },
         "type": "linear"
        },
        "yaxis2": {
         "anchor": "x",
         "overlaying": "y",
         "showgrid": false,
         "side": "right",
         "title": {
          "text": "Unknown"
         },
         "type": "linear"
        }
       }
      }
     },
     "metadata": {},
     "output_type": "display_data"
    }
   ],
   "source": [
    "figga = watchlist.plot_watchlist(['A2133251W', \"A2133253A\"], ['A85232568L', \"A85232567K\"], other_series={\"right\":[ arrivals_ma]}, template=\"plotly_white\", plot_title=\"Immigration to Australia\")\n",
    "figga.show()"
   ]
  },
  {
   "cell_type": "code",
   "execution_count": 29,
   "metadata": {},
   "outputs": [
    {
     "data": {
      "application/vnd.plotly.v1+json": {
       "config": {
        "plotlyServerURL": "https://plot.ly"
       },
       "data": [
        {
         "mode": "lines",
         "name": "Net Permanent and Long Term Movement ;  Australia ;",
         "type": "scatter",
         "x": [
          "1981-06-01T00:00:00",
          "1981-09-01T00:00:00",
          "1981-12-01T00:00:00",
          "1982-03-01T00:00:00",
          "1982-06-01T00:00:00",
          "1982-09-01T00:00:00",
          "1982-12-01T00:00:00",
          "1983-03-01T00:00:00",
          "1983-06-01T00:00:00",
          "1983-09-01T00:00:00",
          "1983-12-01T00:00:00",
          "1984-03-01T00:00:00",
          "1984-06-01T00:00:00",
          "1984-09-01T00:00:00",
          "1984-12-01T00:00:00",
          "1985-03-01T00:00:00",
          "1985-06-01T00:00:00",
          "1985-09-01T00:00:00",
          "1985-12-01T00:00:00",
          "1986-03-01T00:00:00",
          "1986-06-01T00:00:00",
          "1986-09-01T00:00:00",
          "1986-12-01T00:00:00",
          "1987-03-01T00:00:00",
          "1987-06-01T00:00:00",
          "1987-09-01T00:00:00",
          "1987-12-01T00:00:00",
          "1988-03-01T00:00:00",
          "1988-06-01T00:00:00",
          "1988-09-01T00:00:00",
          "1988-12-01T00:00:00",
          "1989-03-01T00:00:00",
          "1989-06-01T00:00:00",
          "1989-09-01T00:00:00",
          "1989-12-01T00:00:00",
          "1990-03-01T00:00:00",
          "1990-06-01T00:00:00",
          "1990-09-01T00:00:00",
          "1990-12-01T00:00:00",
          "1991-03-01T00:00:00",
          "1991-06-01T00:00:00",
          "1991-09-01T00:00:00",
          "1991-12-01T00:00:00",
          "1992-03-01T00:00:00",
          "1992-06-01T00:00:00",
          "1992-09-01T00:00:00",
          "1992-12-01T00:00:00",
          "1993-03-01T00:00:00",
          "1993-06-01T00:00:00",
          "1993-09-01T00:00:00",
          "1993-12-01T00:00:00",
          "1994-03-01T00:00:00",
          "1994-06-01T00:00:00",
          "1994-09-01T00:00:00",
          "1994-12-01T00:00:00",
          "1995-03-01T00:00:00",
          "1995-06-01T00:00:00",
          "1995-09-01T00:00:00",
          "1995-12-01T00:00:00",
          "1996-03-01T00:00:00",
          "1996-06-01T00:00:00",
          "1996-09-01T00:00:00",
          "1996-12-01T00:00:00",
          "1997-03-01T00:00:00",
          "1997-06-01T00:00:00",
          "1997-09-01T00:00:00",
          "1997-12-01T00:00:00",
          "1998-03-01T00:00:00",
          "1998-06-01T00:00:00",
          "1998-09-01T00:00:00",
          "1998-12-01T00:00:00",
          "1999-03-01T00:00:00",
          "1999-06-01T00:00:00",
          "1999-09-01T00:00:00",
          "1999-12-01T00:00:00",
          "2000-03-01T00:00:00",
          "2000-06-01T00:00:00",
          "2000-09-01T00:00:00",
          "2000-12-01T00:00:00",
          "2001-03-01T00:00:00",
          "2001-06-01T00:00:00",
          "2001-09-01T00:00:00",
          "2001-12-01T00:00:00",
          "2002-03-01T00:00:00",
          "2002-06-01T00:00:00",
          "2002-09-01T00:00:00",
          "2002-12-01T00:00:00",
          "2003-03-01T00:00:00",
          "2003-06-01T00:00:00",
          "2003-09-01T00:00:00",
          "2003-12-01T00:00:00",
          "2004-03-01T00:00:00",
          "2004-06-01T00:00:00",
          "2004-09-01T00:00:00",
          "2004-12-01T00:00:00",
          "2005-03-01T00:00:00",
          "2005-06-01T00:00:00",
          "2005-09-01T00:00:00",
          "2005-12-01T00:00:00",
          "2006-03-01T00:00:00",
          "2006-06-01T00:00:00",
          "2006-09-01T00:00:00",
          "2006-12-01T00:00:00",
          "2007-03-01T00:00:00",
          "2007-06-01T00:00:00",
          "2007-09-01T00:00:00",
          "2007-12-01T00:00:00",
          "2008-03-01T00:00:00",
          "2008-06-01T00:00:00",
          "2008-09-01T00:00:00",
          "2008-12-01T00:00:00",
          "2009-03-01T00:00:00",
          "2009-06-01T00:00:00",
          "2009-09-01T00:00:00",
          "2009-12-01T00:00:00",
          "2010-03-01T00:00:00",
          "2010-06-01T00:00:00",
          "2010-09-01T00:00:00",
          "2010-12-01T00:00:00",
          "2011-03-01T00:00:00",
          "2011-06-01T00:00:00",
          "2011-09-01T00:00:00",
          "2011-12-01T00:00:00",
          "2012-03-01T00:00:00",
          "2012-06-01T00:00:00",
          "2012-09-01T00:00:00",
          "2012-12-01T00:00:00",
          "2013-03-01T00:00:00",
          "2013-06-01T00:00:00",
          "2013-09-01T00:00:00",
          "2013-12-01T00:00:00",
          "2014-03-01T00:00:00",
          "2014-06-01T00:00:00",
          "2014-09-01T00:00:00",
          "2014-12-01T00:00:00",
          "2015-03-01T00:00:00",
          "2015-06-01T00:00:00",
          "2015-09-01T00:00:00",
          "2015-12-01T00:00:00",
          "2016-03-01T00:00:00",
          "2016-06-01T00:00:00",
          "2016-09-01T00:00:00",
          "2016-12-01T00:00:00",
          "2017-03-01T00:00:00",
          "2017-06-01T00:00:00",
          "2017-09-01T00:00:00",
          "2017-12-01T00:00:00",
          "2018-03-01T00:00:00",
          "2018-06-01T00:00:00",
          "2018-09-01T00:00:00",
          "2018-12-01T00:00:00",
          "2019-03-01T00:00:00",
          "2019-06-01T00:00:00",
          "2019-09-01T00:00:00",
          "2019-12-01T00:00:00",
          "2020-03-01T00:00:00",
          "2020-06-01T00:00:00",
          "2020-09-01T00:00:00",
          "2020-12-01T00:00:00",
          "2021-03-01T00:00:00",
          "2021-06-01T00:00:00",
          "2021-09-01T00:00:00",
          "2021-12-01T00:00:00",
          "2022-03-01T00:00:00",
          "2022-06-01T00:00:00",
          "2022-09-01T00:00:00",
          "2022-12-01T00:00:00",
          "2023-03-01T00:00:00",
          "2023-06-01T00:00:00",
          "2023-09-01T00:00:00",
          "2023-12-01T00:00:00",
          "2024-03-01T00:00:00",
          "2024-06-01T00:00:00",
          "2024-09-01T00:00:00",
          "2024-12-01T00:00:00",
          "2025-03-01T00:00:00"
         ],
         "xaxis": "x",
         "y": [
          29.1,
          30.8,
          35,
          32.4,
          24.8,
          24.4,
          21.3,
          18.1,
          11.6,
          10.3,
          13,
          14.3,
          9,
          14.9,
          19.1,
          20.1,
          13.9,
          19.5,
          25.6,
          27.5,
          21.4,
          25.9,
          29.4,
          28.9,
          24.9,
          31.3,
          38.8,
          41.8,
          31.4,
          37.7,
          38.3,
          35.3,
          26,
          29.3,
          27.4,
          28.4,
          18.8,
          26.1,
          23.3,
          28.5,
          16.8,
          26.6,
          21.6,
          28.1,
          13.6,
          19.1,
          16,
          20.5,
          7.1,
          16.3,
          13.6,
          25.7,
          11.7,
          23.5,
          19.3,
          32.5,
          17.7,
          28.9,
          25.4,
          39.6,
          15.7,
          27.7,
          20.1,
          36.1,
          10.6,
          22.9,
          14,
          33.7,
          8.5,
          26.5,
          20.1,
          35.1,
          14.8,
          29.7,
          24.6,
          37.4,
          15.5,
          31.9,
          26.6,
          54.8,
          22.4,
          35.7,
          27.5,
          50.6,
          20,
          39.9,
          28.5,
          60.4,
          25.4,
          47.4,
          30.4,
          62.9,
          23.9,
          50.7,
          31.3,
          68.8,
          27.1,
          55.2,
          39.4,
          73.7,
          31,
          null,
          null,
          null,
          null,
          null,
          null,
          null,
          null,
          null,
          null,
          null,
          null,
          null,
          null,
          null,
          null,
          null,
          null,
          null,
          null,
          null,
          null,
          null,
          null,
          null,
          null,
          null,
          null,
          null,
          null,
          null,
          null,
          null,
          null,
          null,
          null,
          null,
          null,
          null,
          null,
          null,
          null,
          null,
          null,
          null,
          null,
          null,
          null,
          null,
          null,
          null,
          null,
          null,
          null,
          null,
          null,
          null,
          null,
          null,
          null,
          null,
          null,
          null,
          null,
          null,
          null,
          null,
          null,
          null,
          null,
          null,
          null,
          null,
          null,
          null
         ],
         "yaxis": "y"
        },
        {
         "mode": "lines",
         "name": "Number of movements ;  Total Arrivals ;",
         "type": "scatter",
         "x": [
          "1976-01-01T00:00:00",
          "1976-02-01T00:00:00",
          "1976-03-01T00:00:00",
          "1976-04-01T00:00:00",
          "1976-05-01T00:00:00",
          "1976-06-01T00:00:00",
          "1976-07-01T00:00:00",
          "1976-08-01T00:00:00",
          "1976-09-01T00:00:00",
          "1976-10-01T00:00:00",
          "1976-11-01T00:00:00",
          "1976-12-01T00:00:00",
          "1977-01-01T00:00:00",
          "1977-02-01T00:00:00",
          "1977-03-01T00:00:00",
          "1977-04-01T00:00:00",
          "1977-05-01T00:00:00",
          "1977-06-01T00:00:00",
          "1977-07-01T00:00:00",
          "1977-08-01T00:00:00",
          "1977-09-01T00:00:00",
          "1977-10-01T00:00:00",
          "1977-11-01T00:00:00",
          "1977-12-01T00:00:00",
          "1978-01-01T00:00:00",
          "1978-02-01T00:00:00",
          "1978-03-01T00:00:00",
          "1978-04-01T00:00:00",
          "1978-05-01T00:00:00",
          "1978-06-01T00:00:00",
          "1978-07-01T00:00:00",
          "1978-08-01T00:00:00",
          "1978-09-01T00:00:00",
          "1978-10-01T00:00:00",
          "1978-11-01T00:00:00",
          "1978-12-01T00:00:00",
          "1979-01-01T00:00:00",
          "1979-02-01T00:00:00",
          "1979-03-01T00:00:00",
          "1979-04-01T00:00:00",
          "1979-05-01T00:00:00",
          "1979-06-01T00:00:00",
          "1979-07-01T00:00:00",
          "1979-08-01T00:00:00",
          "1979-09-01T00:00:00",
          "1979-10-01T00:00:00",
          "1979-11-01T00:00:00",
          "1979-12-01T00:00:00",
          "1980-01-01T00:00:00",
          "1980-02-01T00:00:00",
          "1980-03-01T00:00:00",
          "1980-04-01T00:00:00",
          "1980-05-01T00:00:00",
          "1980-06-01T00:00:00",
          "1980-07-01T00:00:00",
          "1980-08-01T00:00:00",
          "1980-09-01T00:00:00",
          "1980-10-01T00:00:00",
          "1980-11-01T00:00:00",
          "1980-12-01T00:00:00",
          "1981-01-01T00:00:00",
          "1981-02-01T00:00:00",
          "1981-03-01T00:00:00",
          "1981-04-01T00:00:00",
          "1981-05-01T00:00:00",
          "1981-06-01T00:00:00",
          "1981-07-01T00:00:00",
          "1981-08-01T00:00:00",
          "1981-09-01T00:00:00",
          "1981-10-01T00:00:00",
          "1981-11-01T00:00:00",
          "1981-12-01T00:00:00",
          "1982-01-01T00:00:00",
          "1982-02-01T00:00:00",
          "1982-03-01T00:00:00",
          "1982-04-01T00:00:00",
          "1982-05-01T00:00:00",
          "1982-06-01T00:00:00",
          "1982-07-01T00:00:00",
          "1982-08-01T00:00:00",
          "1982-09-01T00:00:00",
          "1982-10-01T00:00:00",
          "1982-11-01T00:00:00",
          "1982-12-01T00:00:00",
          "1983-01-01T00:00:00",
          "1983-02-01T00:00:00",
          "1983-03-01T00:00:00",
          "1983-04-01T00:00:00",
          "1983-05-01T00:00:00",
          "1983-06-01T00:00:00",
          "1983-07-01T00:00:00",
          "1983-08-01T00:00:00",
          "1983-09-01T00:00:00",
          "1983-10-01T00:00:00",
          "1983-11-01T00:00:00",
          "1983-12-01T00:00:00",
          "1984-01-01T00:00:00",
          "1984-02-01T00:00:00",
          "1984-03-01T00:00:00",
          "1984-04-01T00:00:00",
          "1984-05-01T00:00:00",
          "1984-06-01T00:00:00",
          "1984-07-01T00:00:00",
          "1984-08-01T00:00:00",
          "1984-09-01T00:00:00",
          "1984-10-01T00:00:00",
          "1984-11-01T00:00:00",
          "1984-12-01T00:00:00",
          "1985-01-01T00:00:00",
          "1985-02-01T00:00:00",
          "1985-03-01T00:00:00",
          "1985-04-01T00:00:00",
          "1985-05-01T00:00:00",
          "1985-06-01T00:00:00",
          "1985-07-01T00:00:00",
          "1985-08-01T00:00:00",
          "1985-09-01T00:00:00",
          "1985-10-01T00:00:00",
          "1985-11-01T00:00:00",
          "1985-12-01T00:00:00",
          "1986-01-01T00:00:00",
          "1986-02-01T00:00:00",
          "1986-03-01T00:00:00",
          "1986-04-01T00:00:00",
          "1986-05-01T00:00:00",
          "1986-06-01T00:00:00",
          "1986-07-01T00:00:00",
          "1986-08-01T00:00:00",
          "1986-09-01T00:00:00",
          "1986-10-01T00:00:00",
          "1986-11-01T00:00:00",
          "1986-12-01T00:00:00",
          "1987-01-01T00:00:00",
          "1987-02-01T00:00:00",
          "1987-03-01T00:00:00",
          "1987-04-01T00:00:00",
          "1987-05-01T00:00:00",
          "1987-06-01T00:00:00",
          "1987-07-01T00:00:00",
          "1987-08-01T00:00:00",
          "1987-09-01T00:00:00",
          "1987-10-01T00:00:00",
          "1987-11-01T00:00:00",
          "1987-12-01T00:00:00",
          "1988-01-01T00:00:00",
          "1988-02-01T00:00:00",
          "1988-03-01T00:00:00",
          "1988-04-01T00:00:00",
          "1988-05-01T00:00:00",
          "1988-06-01T00:00:00",
          "1988-07-01T00:00:00",
          "1988-08-01T00:00:00",
          "1988-09-01T00:00:00",
          "1988-10-01T00:00:00",
          "1988-11-01T00:00:00",
          "1988-12-01T00:00:00",
          "1989-01-01T00:00:00",
          "1989-02-01T00:00:00",
          "1989-03-01T00:00:00",
          "1989-04-01T00:00:00",
          "1989-05-01T00:00:00",
          "1989-06-01T00:00:00",
          "1989-07-01T00:00:00",
          "1989-08-01T00:00:00",
          "1989-09-01T00:00:00",
          "1989-10-01T00:00:00",
          "1989-11-01T00:00:00",
          "1989-12-01T00:00:00",
          "1990-01-01T00:00:00",
          "1990-02-01T00:00:00",
          "1990-03-01T00:00:00",
          "1990-04-01T00:00:00",
          "1990-05-01T00:00:00",
          "1990-06-01T00:00:00",
          "1990-07-01T00:00:00",
          "1990-08-01T00:00:00",
          "1990-09-01T00:00:00",
          "1990-10-01T00:00:00",
          "1990-11-01T00:00:00",
          "1990-12-01T00:00:00",
          "1991-01-01T00:00:00",
          "1991-02-01T00:00:00",
          "1991-03-01T00:00:00",
          "1991-04-01T00:00:00",
          "1991-05-01T00:00:00",
          "1991-06-01T00:00:00",
          "1991-07-01T00:00:00",
          "1991-08-01T00:00:00",
          "1991-09-01T00:00:00",
          "1991-10-01T00:00:00",
          "1991-11-01T00:00:00",
          "1991-12-01T00:00:00",
          "1992-01-01T00:00:00",
          "1992-02-01T00:00:00",
          "1992-03-01T00:00:00",
          "1992-04-01T00:00:00",
          "1992-05-01T00:00:00",
          "1992-06-01T00:00:00",
          "1992-07-01T00:00:00",
          "1992-08-01T00:00:00",
          "1992-09-01T00:00:00",
          "1992-10-01T00:00:00",
          "1992-11-01T00:00:00",
          "1992-12-01T00:00:00",
          "1993-01-01T00:00:00",
          "1993-02-01T00:00:00",
          "1993-03-01T00:00:00",
          "1993-04-01T00:00:00",
          "1993-05-01T00:00:00",
          "1993-06-01T00:00:00",
          "1993-07-01T00:00:00",
          "1993-08-01T00:00:00",
          "1993-09-01T00:00:00",
          "1993-10-01T00:00:00",
          "1993-11-01T00:00:00",
          "1993-12-01T00:00:00",
          "1994-01-01T00:00:00",
          "1994-02-01T00:00:00",
          "1994-03-01T00:00:00",
          "1994-04-01T00:00:00",
          "1994-05-01T00:00:00",
          "1994-06-01T00:00:00",
          "1994-07-01T00:00:00",
          "1994-08-01T00:00:00",
          "1994-09-01T00:00:00",
          "1994-10-01T00:00:00",
          "1994-11-01T00:00:00",
          "1994-12-01T00:00:00",
          "1995-01-01T00:00:00",
          "1995-02-01T00:00:00",
          "1995-03-01T00:00:00",
          "1995-04-01T00:00:00",
          "1995-05-01T00:00:00",
          "1995-06-01T00:00:00",
          "1995-07-01T00:00:00",
          "1995-08-01T00:00:00",
          "1995-09-01T00:00:00",
          "1995-10-01T00:00:00",
          "1995-11-01T00:00:00",
          "1995-12-01T00:00:00",
          "1996-01-01T00:00:00",
          "1996-02-01T00:00:00",
          "1996-03-01T00:00:00",
          "1996-04-01T00:00:00",
          "1996-05-01T00:00:00",
          "1996-06-01T00:00:00",
          "1996-07-01T00:00:00",
          "1996-08-01T00:00:00",
          "1996-09-01T00:00:00",
          "1996-10-01T00:00:00",
          "1996-11-01T00:00:00",
          "1996-12-01T00:00:00",
          "1997-01-01T00:00:00",
          "1997-02-01T00:00:00",
          "1997-03-01T00:00:00",
          "1997-04-01T00:00:00",
          "1997-05-01T00:00:00",
          "1997-06-01T00:00:00",
          "1997-07-01T00:00:00",
          "1997-08-01T00:00:00",
          "1997-09-01T00:00:00",
          "1997-10-01T00:00:00",
          "1997-11-01T00:00:00",
          "1997-12-01T00:00:00",
          "1998-01-01T00:00:00",
          "1998-02-01T00:00:00",
          "1998-03-01T00:00:00",
          "1998-04-01T00:00:00",
          "1998-05-01T00:00:00",
          "1998-06-01T00:00:00",
          "1998-07-01T00:00:00",
          "1998-08-01T00:00:00",
          "1998-09-01T00:00:00",
          "1998-10-01T00:00:00",
          "1998-11-01T00:00:00",
          "1998-12-01T00:00:00",
          "1999-01-01T00:00:00",
          "1999-02-01T00:00:00",
          "1999-03-01T00:00:00",
          "1999-04-01T00:00:00",
          "1999-05-01T00:00:00",
          "1999-06-01T00:00:00",
          "1999-07-01T00:00:00",
          "1999-08-01T00:00:00",
          "1999-09-01T00:00:00",
          "1999-10-01T00:00:00",
          "1999-11-01T00:00:00",
          "1999-12-01T00:00:00",
          "2000-01-01T00:00:00",
          "2000-02-01T00:00:00",
          "2000-03-01T00:00:00",
          "2000-04-01T00:00:00",
          "2000-05-01T00:00:00",
          "2000-06-01T00:00:00",
          "2000-07-01T00:00:00",
          "2000-08-01T00:00:00",
          "2000-09-01T00:00:00",
          "2000-10-01T00:00:00",
          "2000-11-01T00:00:00",
          "2000-12-01T00:00:00",
          "2001-01-01T00:00:00",
          "2001-02-01T00:00:00",
          "2001-03-01T00:00:00",
          "2001-04-01T00:00:00",
          "2001-05-01T00:00:00",
          "2001-06-01T00:00:00",
          "2001-07-01T00:00:00",
          "2001-08-01T00:00:00",
          "2001-09-01T00:00:00",
          "2001-10-01T00:00:00",
          "2001-11-01T00:00:00",
          "2001-12-01T00:00:00",
          "2002-01-01T00:00:00",
          "2002-02-01T00:00:00",
          "2002-03-01T00:00:00",
          "2002-04-01T00:00:00",
          "2002-05-01T00:00:00",
          "2002-06-01T00:00:00",
          "2002-07-01T00:00:00",
          "2002-08-01T00:00:00",
          "2002-09-01T00:00:00",
          "2002-10-01T00:00:00",
          "2002-11-01T00:00:00",
          "2002-12-01T00:00:00",
          "2003-01-01T00:00:00",
          "2003-02-01T00:00:00",
          "2003-03-01T00:00:00",
          "2003-04-01T00:00:00",
          "2003-05-01T00:00:00",
          "2003-06-01T00:00:00",
          "2003-07-01T00:00:00",
          "2003-08-01T00:00:00",
          "2003-09-01T00:00:00",
          "2003-10-01T00:00:00",
          "2003-11-01T00:00:00",
          "2003-12-01T00:00:00",
          "2004-01-01T00:00:00",
          "2004-02-01T00:00:00",
          "2004-03-01T00:00:00",
          "2004-04-01T00:00:00",
          "2004-05-01T00:00:00",
          "2004-06-01T00:00:00",
          "2004-07-01T00:00:00",
          "2004-08-01T00:00:00",
          "2004-09-01T00:00:00",
          "2004-10-01T00:00:00",
          "2004-11-01T00:00:00",
          "2004-12-01T00:00:00",
          "2005-01-01T00:00:00",
          "2005-02-01T00:00:00",
          "2005-03-01T00:00:00",
          "2005-04-01T00:00:00",
          "2005-05-01T00:00:00",
          "2005-06-01T00:00:00",
          "2005-07-01T00:00:00",
          "2005-08-01T00:00:00",
          "2005-09-01T00:00:00",
          "2005-10-01T00:00:00",
          "2005-11-01T00:00:00",
          "2005-12-01T00:00:00",
          "2006-01-01T00:00:00",
          "2006-02-01T00:00:00",
          "2006-03-01T00:00:00",
          "2006-04-01T00:00:00",
          "2006-05-01T00:00:00",
          "2006-06-01T00:00:00",
          "2006-07-01T00:00:00",
          "2006-08-01T00:00:00",
          "2006-09-01T00:00:00",
          "2006-10-01T00:00:00",
          "2006-11-01T00:00:00",
          "2006-12-01T00:00:00",
          "2007-01-01T00:00:00",
          "2007-02-01T00:00:00",
          "2007-03-01T00:00:00",
          "2007-04-01T00:00:00",
          "2007-05-01T00:00:00",
          "2007-06-01T00:00:00",
          "2007-07-01T00:00:00",
          "2007-08-01T00:00:00",
          "2007-09-01T00:00:00",
          "2007-10-01T00:00:00",
          "2007-11-01T00:00:00",
          "2007-12-01T00:00:00",
          "2008-01-01T00:00:00",
          "2008-02-01T00:00:00",
          "2008-03-01T00:00:00",
          "2008-04-01T00:00:00",
          "2008-05-01T00:00:00",
          "2008-06-01T00:00:00",
          "2008-07-01T00:00:00",
          "2008-08-01T00:00:00",
          "2008-09-01T00:00:00",
          "2008-10-01T00:00:00",
          "2008-11-01T00:00:00",
          "2008-12-01T00:00:00",
          "2009-01-01T00:00:00",
          "2009-02-01T00:00:00",
          "2009-03-01T00:00:00",
          "2009-04-01T00:00:00",
          "2009-05-01T00:00:00",
          "2009-06-01T00:00:00",
          "2009-07-01T00:00:00",
          "2009-08-01T00:00:00",
          "2009-09-01T00:00:00",
          "2009-10-01T00:00:00",
          "2009-11-01T00:00:00",
          "2009-12-01T00:00:00",
          "2010-01-01T00:00:00",
          "2010-02-01T00:00:00",
          "2010-03-01T00:00:00",
          "2010-04-01T00:00:00",
          "2010-05-01T00:00:00",
          "2010-06-01T00:00:00",
          "2010-07-01T00:00:00",
          "2010-08-01T00:00:00",
          "2010-09-01T00:00:00",
          "2010-10-01T00:00:00",
          "2010-11-01T00:00:00",
          "2010-12-01T00:00:00",
          "2011-01-01T00:00:00",
          "2011-02-01T00:00:00",
          "2011-03-01T00:00:00",
          "2011-04-01T00:00:00",
          "2011-05-01T00:00:00",
          "2011-06-01T00:00:00",
          "2011-07-01T00:00:00",
          "2011-08-01T00:00:00",
          "2011-09-01T00:00:00",
          "2011-10-01T00:00:00",
          "2011-11-01T00:00:00",
          "2011-12-01T00:00:00",
          "2012-01-01T00:00:00",
          "2012-02-01T00:00:00",
          "2012-03-01T00:00:00",
          "2012-04-01T00:00:00",
          "2012-05-01T00:00:00",
          "2012-06-01T00:00:00",
          "2012-07-01T00:00:00",
          "2012-08-01T00:00:00",
          "2012-09-01T00:00:00",
          "2012-10-01T00:00:00",
          "2012-11-01T00:00:00",
          "2012-12-01T00:00:00",
          "2013-01-01T00:00:00",
          "2013-02-01T00:00:00",
          "2013-03-01T00:00:00",
          "2013-04-01T00:00:00",
          "2013-05-01T00:00:00",
          "2013-06-01T00:00:00",
          "2013-07-01T00:00:00",
          "2013-08-01T00:00:00",
          "2013-09-01T00:00:00",
          "2013-10-01T00:00:00",
          "2013-11-01T00:00:00",
          "2013-12-01T00:00:00",
          "2014-01-01T00:00:00",
          "2014-02-01T00:00:00",
          "2014-03-01T00:00:00",
          "2014-04-01T00:00:00",
          "2014-05-01T00:00:00",
          "2014-06-01T00:00:00",
          "2014-07-01T00:00:00",
          "2014-08-01T00:00:00",
          "2014-09-01T00:00:00",
          "2014-10-01T00:00:00",
          "2014-11-01T00:00:00",
          "2014-12-01T00:00:00",
          "2015-01-01T00:00:00",
          "2015-02-01T00:00:00",
          "2015-03-01T00:00:00",
          "2015-04-01T00:00:00",
          "2015-05-01T00:00:00",
          "2015-06-01T00:00:00",
          "2015-07-01T00:00:00",
          "2015-08-01T00:00:00",
          "2015-09-01T00:00:00",
          "2015-10-01T00:00:00",
          "2015-11-01T00:00:00",
          "2015-12-01T00:00:00",
          "2016-01-01T00:00:00",
          "2016-02-01T00:00:00",
          "2016-03-01T00:00:00",
          "2016-04-01T00:00:00",
          "2016-05-01T00:00:00",
          "2016-06-01T00:00:00",
          "2016-07-01T00:00:00",
          "2016-08-01T00:00:00",
          "2016-09-01T00:00:00",
          "2016-10-01T00:00:00",
          "2016-11-01T00:00:00",
          "2016-12-01T00:00:00",
          "2017-01-01T00:00:00",
          "2017-02-01T00:00:00",
          "2017-03-01T00:00:00",
          "2017-04-01T00:00:00",
          "2017-05-01T00:00:00",
          "2017-06-01T00:00:00",
          "2017-07-01T00:00:00",
          "2017-08-01T00:00:00",
          "2017-09-01T00:00:00",
          "2017-10-01T00:00:00",
          "2017-11-01T00:00:00",
          "2017-12-01T00:00:00",
          "2018-01-01T00:00:00",
          "2018-02-01T00:00:00",
          "2018-03-01T00:00:00",
          "2018-04-01T00:00:00",
          "2018-05-01T00:00:00",
          "2018-06-01T00:00:00",
          "2018-07-01T00:00:00",
          "2018-08-01T00:00:00",
          "2018-09-01T00:00:00",
          "2018-10-01T00:00:00",
          "2018-11-01T00:00:00",
          "2018-12-01T00:00:00",
          "2019-01-01T00:00:00",
          "2019-02-01T00:00:00",
          "2019-03-01T00:00:00",
          "2019-04-01T00:00:00",
          "2019-05-01T00:00:00",
          "2019-06-01T00:00:00",
          "2019-07-01T00:00:00",
          "2019-08-01T00:00:00",
          "2019-09-01T00:00:00",
          "2019-10-01T00:00:00",
          "2019-11-01T00:00:00",
          "2019-12-01T00:00:00",
          "2020-01-01T00:00:00",
          "2020-02-01T00:00:00",
          "2020-03-01T00:00:00",
          "2020-04-01T00:00:00",
          "2020-05-01T00:00:00",
          "2020-06-01T00:00:00",
          "2020-07-01T00:00:00",
          "2020-08-01T00:00:00",
          "2020-09-01T00:00:00",
          "2020-10-01T00:00:00",
          "2020-11-01T00:00:00",
          "2020-12-01T00:00:00",
          "2021-01-01T00:00:00",
          "2021-02-01T00:00:00",
          "2021-03-01T00:00:00",
          "2021-04-01T00:00:00",
          "2021-05-01T00:00:00",
          "2021-06-01T00:00:00",
          "2021-07-01T00:00:00",
          "2021-08-01T00:00:00",
          "2021-09-01T00:00:00",
          "2021-10-01T00:00:00",
          "2021-11-01T00:00:00",
          "2021-12-01T00:00:00",
          "2022-01-01T00:00:00",
          "2022-02-01T00:00:00",
          "2022-03-01T00:00:00",
          "2022-04-01T00:00:00",
          "2022-05-01T00:00:00",
          "2022-06-01T00:00:00",
          "2022-07-01T00:00:00",
          "2022-08-01T00:00:00",
          "2022-09-01T00:00:00",
          "2022-10-01T00:00:00",
          "2022-11-01T00:00:00",
          "2022-12-01T00:00:00",
          "2023-01-01T00:00:00",
          "2023-02-01T00:00:00",
          "2023-03-01T00:00:00",
          "2023-04-01T00:00:00",
          "2023-05-01T00:00:00",
          "2023-06-01T00:00:00",
          "2023-07-01T00:00:00",
          "2023-08-01T00:00:00",
          "2023-09-01T00:00:00",
          "2023-10-01T00:00:00",
          "2023-11-01T00:00:00",
          "2023-12-01T00:00:00",
          "2024-01-01T00:00:00",
          "2024-02-01T00:00:00",
          "2024-03-01T00:00:00",
          "2024-04-01T00:00:00",
          "2024-05-01T00:00:00",
          "2024-06-01T00:00:00",
          "2024-07-01T00:00:00",
          "2024-08-01T00:00:00",
          "2024-09-01T00:00:00",
          "2024-10-01T00:00:00",
          "2024-11-01T00:00:00",
          "2024-12-01T00:00:00",
          "2025-01-01T00:00:00",
          "2025-02-01T00:00:00",
          "2025-03-01T00:00:00",
          "2025-04-01T00:00:00",
          "2025-05-01T00:00:00",
          "2025-06-01T00:00:00",
          "2025-07-01T00:00:00"
         ],
         "xaxis": "x",
         "y": [
          202990,
          137040,
          118980,
          102120,
          128970,
          100200,
          116730,
          144180,
          160610,
          157690,
          132050,
          139950,
          219630,
          133490,
          120820,
          110320,
          115870,
          108990,
          131380,
          140200,
          166860,
          150540,
          152570,
          147100,
          208540,
          134730,
          128600,
          115760,
          135990,
          116160,
          141710,
          152780,
          184050,
          164770,
          163060,
          168650,
          228010,
          151130,
          150950,
          140470,
          163610,
          154220,
          172080,
          177370,
          201120,
          185200,
          187150,
          193490,
          232240,
          185560,
          192860,
          157710,
          173470,
          177880,
          185450,
          184760,
          193290,
          198500,
          201150,
          200730,
          233160,
          180110,
          194800,
          169790,
          177800,
          186400,
          190900,
          188480,
          192640,
          209340,
          204570,
          202800,
          252320,
          185060,
          190960,
          190450,
          178630,
          176190,
          211870,
          200800,
          210590,
          213350,
          200420,
          198870,
          251190,
          178340,
          173620,
          170350,
          167410,
          167110,
          198990,
          192030,
          200000,
          217940,
          194530,
          205590,
          254240,
          187860,
          177690,
          187640,
          195520,
          186630,
          213010,
          206270,
          239410,
          239110,
          224260,
          231660,
          281040,
          221240,
          220080,
          195590,
          209530,
          205040,
          221880,
          229630,
          258870,
          266990,
          249320,
          250650,
          303750,
          237500,
          242350,
          224870,
          224870,
          224660,
          254460,
          269260,
          277740,
          294420,
          291160,
          294240,
          346710,
          277550,
          264880,
          259680,
          247290,
          240400,
          316200,
          307690,
          303130,
          368610,
          326610,
          334110,
          384800,
          314770,
          313380,
          300790,
          278610,
          301210,
          386910,
          354430,
          360810,
          416180,
          357820,
          371370,
          417160,
          342770,
          331370,
          319520,
          273980,
          301200,
          393340,
          339770,
          355370,
          409620,
          363310,
          383620,
          452820,
          371630,
          343680,
          357690,
          309910,
          324620,
          417790,
          379690,
          386910,
          439720,
          374430,
          399410,
          462080,
          350090,
          349970,
          306940,
          308760,
          342200,
          427590,
          387990,
          400080,
          459600,
          406660,
          415330,
          477800,
          412270,
          375660,
          379300,
          341990,
          342030,
          462380,
          403510,
          408210,
          491610,
          440730,
          454560,
          538170,
          430970,
          415040,
          405630,
          379360,
          377660,
          491930,
          437710,
          439160,
          534730,
          464410,
          494540,
          548980,
          488610,
          480920,
          440430,
          385850,
          414640,
          545960,
          472530,
          485960,
          573290,
          501920,
          547100,
          615700,
          523840,
          498110,
          499280,
          434660,
          462410,
          603750,
          525500,
          520050,
          613300,
          550600,
          603410,
          660750,
          609000,
          571570,
          559260,
          455620,
          525410,
          646890,
          574070,
          578680,
          672550,
          609270,
          658620,
          703800,
          635280,
          619190,
          552390,
          501710,
          547250,
          710680,
          593040,
          619970,
          710200,
          633830,
          647930,
          712230,
          611750,
          574840,
          597840,
          532880,
          560350,
          696680,
          614090,
          628740,
          731040,
          638220,
          680870,
          754350,
          653350,
          635700,
          601850,
          550000,
          566700,
          734920,
          645450,
          674170,
          776210,
          686390,
          696410,
          753440,
          708940,
          663510,
          707500,
          594550,
          615350,
          794190,
          679450,
          753310,
          821590,
          759550,
          820560,
          874790,
          733150,
          707640,
          719340,
          603030,
          656320,
          835280,
          697870,
          705910,
          750270,
          625250,
          753250,
          787590,
          708130,
          729840,
          649940,
          598300,
          625020,
          801980,
          691630,
          692100,
          828820,
          714940,
          769760,
          838900,
          720640,
          672780,
          574090,
          487890,
          545910,
          771510,
          675570,
          727000,
          839260,
          774060,
          837530,
          930230,
          815130,
          754000,
          770580,
          671220,
          705690,
          952560,
          785000,
          812710,
          951720,
          838150,
          919500,
          1073840,
          879130,
          882640,
          809610,
          708680,
          763400,
          1031850,
          847750,
          892970,
          989370,
          842190,
          944670,
          1092420,
          892920,
          845850,
          849430,
          722640,
          779630,
          1036240,
          845420,
          909060,
          1035540,
          893840,
          1007590,
          1135590,
          929580,
          945260,
          909670,
          779980,
          841640,
          1085800,
          926260,
          956610,
          1107580,
          964140,
          1031710,
          1208080,
          1039480,
          998160,
          929810,
          845990,
          881290,
          1163830,
          964100,
          959240,
          1129070,
          962240,
          1033260,
          1238640,
          998940,
          954240,
          982110,
          857170,
          862650,
          1155030,
          1009820,
          1045330,
          1219110,
          1033140,
          1138540,
          1352000,
          1099660,
          1063910,
          1035820,
          905910,
          964870,
          1309700,
          1090010,
          1151000,
          1308330,
          1098810,
          1192680,
          1459720,
          1166430,
          1067910,
          1102930,
          1034900,
          996710,
          1382310,
          1154950,
          1178760,
          1389340,
          1157950,
          1233230,
          1538040,
          1234500,
          1156120,
          1194630,
          1014810,
          1097420,
          1429310,
          1203720,
          1252460,
          1454320,
          1222060,
          1323140,
          1578440,
          1261420,
          1239490,
          1226840,
          1097850,
          1161650,
          1511220,
          1304740,
          1325700,
          1532780,
          1283830,
          1422260,
          1744890,
          1339050,
          1280150,
          1331230,
          1187550,
          1179420,
          1594110,
          1362450,
          1381030,
          1574500,
          1342800,
          1455550,
          1780350,
          1415950,
          1388160,
          1365370,
          1215090,
          1233570,
          1646140,
          1419480,
          1456880,
          1650380,
          1424700,
          1584200,
          1908270,
          1560130,
          1479930,
          1473700,
          1304820,
          1326820,
          1829100,
          1511510,
          1587330,
          1778870,
          1512920,
          1716250,
          2066340,
          1631360,
          1522680,
          1649770,
          1401070,
          1421130,
          1909100,
          1623620,
          1666150,
          1879610,
          1602190,
          1755130,
          2130700,
          1729160,
          1682320,
          1668310,
          1480380,
          1513000,
          2009860,
          1718580,
          1721970,
          1963730,
          1667980,
          1853600,
          2217890,
          1788430,
          1660140,
          1674400,
          1587870,
          1562130,
          2008780,
          1782670,
          1746100,
          1979190,
          1721900,
          1889300,
          2257280,
          1568650,
          921950,
          21170,
          19120,
          25120,
          17260,
          14940,
          16200,
          23710,
          29330,
          34670,
          31160,
          25210,
          31990,
          53910,
          114520,
          102480,
          74860,
          27020,
          18850,
          16630,
          72260,
          196170,
          265260,
          271280,
          374630,
          573930,
          650520,
          730400,
          1081610,
          1027700,
          1071520,
          1212850,
          1189920,
          1260550,
          1608010,
          1375520,
          1344580,
          1370470,
          1296710,
          1357680,
          1743390,
          1544700,
          1602720,
          1742840,
          1562520,
          1704730,
          2122070,
          1786650,
          1614830,
          1634580,
          1478410,
          1525610,
          1925260,
          1656470,
          1733340,
          1939260,
          1706490,
          1853030,
          2383330,
          1870730,
          1688650,
          1763390,
          1659520,
          1618090,
          2068460
         ],
         "yaxis": "y"
        },
        {
         "mode": "lines",
         "name": "Net Overseas Migration ;  Australia ;",
         "type": "scatter",
         "x": [
          "1981-06-01T00:00:00",
          "1981-09-01T00:00:00",
          "1981-12-01T00:00:00",
          "1982-03-01T00:00:00",
          "1982-06-01T00:00:00",
          "1982-09-01T00:00:00",
          "1982-12-01T00:00:00",
          "1983-03-01T00:00:00",
          "1983-06-01T00:00:00",
          "1983-09-01T00:00:00",
          "1983-12-01T00:00:00",
          "1984-03-01T00:00:00",
          "1984-06-01T00:00:00",
          "1984-09-01T00:00:00",
          "1984-12-01T00:00:00",
          "1985-03-01T00:00:00",
          "1985-06-01T00:00:00",
          "1985-09-01T00:00:00",
          "1985-12-01T00:00:00",
          "1986-03-01T00:00:00",
          "1986-06-01T00:00:00",
          "1986-09-01T00:00:00",
          "1986-12-01T00:00:00",
          "1987-03-01T00:00:00",
          "1987-06-01T00:00:00",
          "1987-09-01T00:00:00",
          "1987-12-01T00:00:00",
          "1988-03-01T00:00:00",
          "1988-06-01T00:00:00",
          "1988-09-01T00:00:00",
          "1988-12-01T00:00:00",
          "1989-03-01T00:00:00",
          "1989-06-01T00:00:00",
          "1989-09-01T00:00:00",
          "1989-12-01T00:00:00",
          "1990-03-01T00:00:00",
          "1990-06-01T00:00:00",
          "1990-09-01T00:00:00",
          "1990-12-01T00:00:00",
          "1991-03-01T00:00:00",
          "1991-06-01T00:00:00",
          "1991-09-01T00:00:00",
          "1991-12-01T00:00:00",
          "1992-03-01T00:00:00",
          "1992-06-01T00:00:00",
          "1992-09-01T00:00:00",
          "1992-12-01T00:00:00",
          "1993-03-01T00:00:00",
          "1993-06-01T00:00:00",
          "1993-09-01T00:00:00",
          "1993-12-01T00:00:00",
          "1994-03-01T00:00:00",
          "1994-06-01T00:00:00",
          "1994-09-01T00:00:00",
          "1994-12-01T00:00:00",
          "1995-03-01T00:00:00",
          "1995-06-01T00:00:00",
          "1995-09-01T00:00:00",
          "1995-12-01T00:00:00",
          "1996-03-01T00:00:00",
          "1996-06-01T00:00:00",
          "1996-09-01T00:00:00",
          "1996-12-01T00:00:00",
          "1997-03-01T00:00:00",
          "1997-06-01T00:00:00",
          "1997-09-01T00:00:00",
          "1997-12-01T00:00:00",
          "1998-03-01T00:00:00",
          "1998-06-01T00:00:00",
          "1998-09-01T00:00:00",
          "1998-12-01T00:00:00",
          "1999-03-01T00:00:00",
          "1999-06-01T00:00:00",
          "1999-09-01T00:00:00",
          "1999-12-01T00:00:00",
          "2000-03-01T00:00:00",
          "2000-06-01T00:00:00",
          "2000-09-01T00:00:00",
          "2000-12-01T00:00:00",
          "2001-03-01T00:00:00",
          "2001-06-01T00:00:00",
          "2001-09-01T00:00:00",
          "2001-12-01T00:00:00",
          "2002-03-01T00:00:00",
          "2002-06-01T00:00:00",
          "2002-09-01T00:00:00",
          "2002-12-01T00:00:00",
          "2003-03-01T00:00:00",
          "2003-06-01T00:00:00",
          "2003-09-01T00:00:00",
          "2003-12-01T00:00:00",
          "2004-03-01T00:00:00",
          "2004-06-01T00:00:00",
          "2004-09-01T00:00:00",
          "2004-12-01T00:00:00",
          "2005-03-01T00:00:00",
          "2005-06-01T00:00:00",
          "2005-09-01T00:00:00",
          "2005-12-01T00:00:00",
          "2006-03-01T00:00:00",
          "2006-06-01T00:00:00",
          "2006-09-01T00:00:00",
          "2006-12-01T00:00:00",
          "2007-03-01T00:00:00",
          "2007-06-01T00:00:00",
          "2007-09-01T00:00:00",
          "2007-12-01T00:00:00",
          "2008-03-01T00:00:00",
          "2008-06-01T00:00:00",
          "2008-09-01T00:00:00",
          "2008-12-01T00:00:00",
          "2009-03-01T00:00:00",
          "2009-06-01T00:00:00",
          "2009-09-01T00:00:00",
          "2009-12-01T00:00:00",
          "2010-03-01T00:00:00",
          "2010-06-01T00:00:00",
          "2010-09-01T00:00:00",
          "2010-12-01T00:00:00",
          "2011-03-01T00:00:00",
          "2011-06-01T00:00:00",
          "2011-09-01T00:00:00",
          "2011-12-01T00:00:00",
          "2012-03-01T00:00:00",
          "2012-06-01T00:00:00",
          "2012-09-01T00:00:00",
          "2012-12-01T00:00:00",
          "2013-03-01T00:00:00",
          "2013-06-01T00:00:00",
          "2013-09-01T00:00:00",
          "2013-12-01T00:00:00",
          "2014-03-01T00:00:00",
          "2014-06-01T00:00:00",
          "2014-09-01T00:00:00",
          "2014-12-01T00:00:00",
          "2015-03-01T00:00:00",
          "2015-06-01T00:00:00",
          "2015-09-01T00:00:00",
          "2015-12-01T00:00:00",
          "2016-03-01T00:00:00",
          "2016-06-01T00:00:00",
          "2016-09-01T00:00:00",
          "2016-12-01T00:00:00",
          "2017-03-01T00:00:00",
          "2017-06-01T00:00:00",
          "2017-09-01T00:00:00",
          "2017-12-01T00:00:00",
          "2018-03-01T00:00:00",
          "2018-06-01T00:00:00",
          "2018-09-01T00:00:00",
          "2018-12-01T00:00:00",
          "2019-03-01T00:00:00",
          "2019-06-01T00:00:00",
          "2019-09-01T00:00:00",
          "2019-12-01T00:00:00",
          "2020-03-01T00:00:00",
          "2020-06-01T00:00:00",
          "2020-09-01T00:00:00",
          "2020-12-01T00:00:00",
          "2021-03-01T00:00:00",
          "2021-06-01T00:00:00",
          "2021-09-01T00:00:00",
          "2021-12-01T00:00:00",
          "2022-03-01T00:00:00",
          "2022-06-01T00:00:00",
          "2022-09-01T00:00:00",
          "2022-12-01T00:00:00",
          "2023-03-01T00:00:00",
          "2023-06-01T00:00:00",
          "2023-09-01T00:00:00",
          "2023-12-01T00:00:00",
          "2024-03-01T00:00:00",
          "2024-06-01T00:00:00",
          "2024-09-01T00:00:00",
          "2024-12-01T00:00:00",
          "2025-03-01T00:00:00"
         ],
         "xaxis": "x",
         "y": [
          25575,
          34141,
          34482,
          31376,
          28118,
          26893,
          16321,
          19214,
          10867,
          13644,
          11270,
          11017,
          13167,
          18471,
          17168,
          21859,
          16210,
          23574,
          27678,
          25750,
          23357,
          29592,
          31964,
          35058,
          29116,
          37434,
          34452,
          47262,
          30193,
          53587,
          41752,
          42988,
          19109,
          34188,
          33193,
          34650,
          22616,
          24856,
          15009,
          33117,
          13450,
          25812,
          9290,
          27072,
          6406,
          15093,
          2787,
          18502,
          -6340,
          17801,
          4859,
          19539,
          4350,
          27767,
          3850,
          24696,
          23812,
          29142,
          29214,
          25142,
          20639,
          32287,
          19376,
          29354,
          6062,
          22942,
          14044,
          33708,
          8468,
          26536,
          20069,
          35083,
          14795,
          29714,
          24618,
          37425,
          15518,
          31895,
          26603,
          54780,
          22395,
          27712,
          31189,
          36355,
          15300,
          29889,
          28931,
          41574,
          16104,
          27224,
          25202,
          35472,
          12068,
          30393,
          28492,
          47067,
          17811,
          37449,
          34682,
          53211,
          21411,
          56949,
          50625,
          76048,
          49174,
          62813,
          55995,
          93462,
          65068,
          84123,
          73034,
          88696,
          54013,
          62516,
          41675,
          59859,
          32008,
          41776,
          38395,
          60970,
          39231,
          55444,
          50595,
          74006,
          51902,
          63345,
          50995,
          71220,
          44769,
          54230,
          38160,
          65032,
          30356,
          50187,
          36770,
          63767,
          33309,
          50381,
          39273,
          73013,
          43566,
          73657,
          53593,
          88769,
          47332,
          69732,
          35828,
          85105,
          47559,
          73828,
          45728,
          83554,
          38228,
          74525,
          51313,
          75179,
          -8314,
          -42551,
          -29271,
          -14190,
          1082,
          -12999,
          35411,
          107524,
          77976,
          127718,
          124639,
          165500,
          120484,
          145175,
          99461,
          128703,
          55327,
          84483,
          66052,
          110062
         ],
         "yaxis": "y2"
        }
       ],
       "layout": {
        "annotations": [
         {
          "align": "left",
          "bgcolor": "white",
          "bordercolor": "black",
          "borderwidth": 1,
          "font": {
           "color": "black",
           "size": 12
          },
          "showarrow": false,
          "text": "Source: ABS",
          "x": 0,
          "xref": "paper",
          "y": -0.14,
          "yref": "paper"
         }
        ],
        "font": {
         "color": "black",
         "family": "Arial, sans-serif",
         "size": 14
        },
        "height": 660,
        "hovermode": "x unified",
        "legend": {
         "bgcolor": "rgba(255,255,255,0)",
         "bordercolor": "rgba(255,255,255,0)",
         "orientation": "h",
         "x": 0.5,
         "xanchor": "center",
         "y": -0.1,
         "yanchor": "top"
        },
        "margin": {
         "b": 40,
         "l": 70,
         "r": 10,
         "t": 60
        },
        "template": {
         "data": {
          "bar": [
           {
            "error_x": {
             "color": "#2a3f5f"
            },
            "error_y": {
             "color": "#2a3f5f"
            },
            "marker": {
             "line": {
              "color": "white",
              "width": 0.5
             },
             "pattern": {
              "fillmode": "overlay",
              "size": 10,
              "solidity": 0.2
             }
            },
            "type": "bar"
           }
          ],
          "barpolar": [
           {
            "marker": {
             "line": {
              "color": "white",
              "width": 0.5
             },
             "pattern": {
              "fillmode": "overlay",
              "size": 10,
              "solidity": 0.2
             }
            },
            "type": "barpolar"
           }
          ],
          "carpet": [
           {
            "aaxis": {
             "endlinecolor": "#2a3f5f",
             "gridcolor": "#C8D4E3",
             "linecolor": "#C8D4E3",
             "minorgridcolor": "#C8D4E3",
             "startlinecolor": "#2a3f5f"
            },
            "baxis": {
             "endlinecolor": "#2a3f5f",
             "gridcolor": "#C8D4E3",
             "linecolor": "#C8D4E3",
             "minorgridcolor": "#C8D4E3",
             "startlinecolor": "#2a3f5f"
            },
            "type": "carpet"
           }
          ],
          "choropleth": [
           {
            "colorbar": {
             "outlinewidth": 0,
             "ticks": ""
            },
            "type": "choropleth"
           }
          ],
          "contour": [
           {
            "colorbar": {
             "outlinewidth": 0,
             "ticks": ""
            },
            "colorscale": [
             [
              0,
              "#0d0887"
             ],
             [
              0.1111111111111111,
              "#46039f"
             ],
             [
              0.2222222222222222,
              "#7201a8"
             ],
             [
              0.3333333333333333,
              "#9c179e"
             ],
             [
              0.4444444444444444,
              "#bd3786"
             ],
             [
              0.5555555555555556,
              "#d8576b"
             ],
             [
              0.6666666666666666,
              "#ed7953"
             ],
             [
              0.7777777777777778,
              "#fb9f3a"
             ],
             [
              0.8888888888888888,
              "#fdca26"
             ],
             [
              1,
              "#f0f921"
             ]
            ],
            "type": "contour"
           }
          ],
          "contourcarpet": [
           {
            "colorbar": {
             "outlinewidth": 0,
             "ticks": ""
            },
            "type": "contourcarpet"
           }
          ],
          "heatmap": [
           {
            "colorbar": {
             "outlinewidth": 0,
             "ticks": ""
            },
            "colorscale": [
             [
              0,
              "#0d0887"
             ],
             [
              0.1111111111111111,
              "#46039f"
             ],
             [
              0.2222222222222222,
              "#7201a8"
             ],
             [
              0.3333333333333333,
              "#9c179e"
             ],
             [
              0.4444444444444444,
              "#bd3786"
             ],
             [
              0.5555555555555556,
              "#d8576b"
             ],
             [
              0.6666666666666666,
              "#ed7953"
             ],
             [
              0.7777777777777778,
              "#fb9f3a"
             ],
             [
              0.8888888888888888,
              "#fdca26"
             ],
             [
              1,
              "#f0f921"
             ]
            ],
            "type": "heatmap"
           }
          ],
          "heatmapgl": [
           {
            "colorbar": {
             "outlinewidth": 0,
             "ticks": ""
            },
            "colorscale": [
             [
              0,
              "#0d0887"
             ],
             [
              0.1111111111111111,
              "#46039f"
             ],
             [
              0.2222222222222222,
              "#7201a8"
             ],
             [
              0.3333333333333333,
              "#9c179e"
             ],
             [
              0.4444444444444444,
              "#bd3786"
             ],
             [
              0.5555555555555556,
              "#d8576b"
             ],
             [
              0.6666666666666666,
              "#ed7953"
             ],
             [
              0.7777777777777778,
              "#fb9f3a"
             ],
             [
              0.8888888888888888,
              "#fdca26"
             ],
             [
              1,
              "#f0f921"
             ]
            ],
            "type": "heatmapgl"
           }
          ],
          "histogram": [
           {
            "marker": {
             "pattern": {
              "fillmode": "overlay",
              "size": 10,
              "solidity": 0.2
             }
            },
            "type": "histogram"
           }
          ],
          "histogram2d": [
           {
            "colorbar": {
             "outlinewidth": 0,
             "ticks": ""
            },
            "colorscale": [
             [
              0,
              "#0d0887"
             ],
             [
              0.1111111111111111,
              "#46039f"
             ],
             [
              0.2222222222222222,
              "#7201a8"
             ],
             [
              0.3333333333333333,
              "#9c179e"
             ],
             [
              0.4444444444444444,
              "#bd3786"
             ],
             [
              0.5555555555555556,
              "#d8576b"
             ],
             [
              0.6666666666666666,
              "#ed7953"
             ],
             [
              0.7777777777777778,
              "#fb9f3a"
             ],
             [
              0.8888888888888888,
              "#fdca26"
             ],
             [
              1,
              "#f0f921"
             ]
            ],
            "type": "histogram2d"
           }
          ],
          "histogram2dcontour": [
           {
            "colorbar": {
             "outlinewidth": 0,
             "ticks": ""
            },
            "colorscale": [
             [
              0,
              "#0d0887"
             ],
             [
              0.1111111111111111,
              "#46039f"
             ],
             [
              0.2222222222222222,
              "#7201a8"
             ],
             [
              0.3333333333333333,
              "#9c179e"
             ],
             [
              0.4444444444444444,
              "#bd3786"
             ],
             [
              0.5555555555555556,
              "#d8576b"
             ],
             [
              0.6666666666666666,
              "#ed7953"
             ],
             [
              0.7777777777777778,
              "#fb9f3a"
             ],
             [
              0.8888888888888888,
              "#fdca26"
             ],
             [
              1,
              "#f0f921"
             ]
            ],
            "type": "histogram2dcontour"
           }
          ],
          "mesh3d": [
           {
            "colorbar": {
             "outlinewidth": 0,
             "ticks": ""
            },
            "type": "mesh3d"
           }
          ],
          "parcoords": [
           {
            "line": {
             "colorbar": {
              "outlinewidth": 0,
              "ticks": ""
             }
            },
            "type": "parcoords"
           }
          ],
          "pie": [
           {
            "automargin": true,
            "type": "pie"
           }
          ],
          "scatter": [
           {
            "fillpattern": {
             "fillmode": "overlay",
             "size": 10,
             "solidity": 0.2
            },
            "type": "scatter"
           }
          ],
          "scatter3d": [
           {
            "line": {
             "colorbar": {
              "outlinewidth": 0,
              "ticks": ""
             }
            },
            "marker": {
             "colorbar": {
              "outlinewidth": 0,
              "ticks": ""
             }
            },
            "type": "scatter3d"
           }
          ],
          "scattercarpet": [
           {
            "marker": {
             "colorbar": {
              "outlinewidth": 0,
              "ticks": ""
             }
            },
            "type": "scattercarpet"
           }
          ],
          "scattergeo": [
           {
            "marker": {
             "colorbar": {
              "outlinewidth": 0,
              "ticks": ""
             }
            },
            "type": "scattergeo"
           }
          ],
          "scattergl": [
           {
            "marker": {
             "colorbar": {
              "outlinewidth": 0,
              "ticks": ""
             }
            },
            "type": "scattergl"
           }
          ],
          "scattermapbox": [
           {
            "marker": {
             "colorbar": {
              "outlinewidth": 0,
              "ticks": ""
             }
            },
            "type": "scattermapbox"
           }
          ],
          "scatterpolar": [
           {
            "marker": {
             "colorbar": {
              "outlinewidth": 0,
              "ticks": ""
             }
            },
            "type": "scatterpolar"
           }
          ],
          "scatterpolargl": [
           {
            "marker": {
             "colorbar": {
              "outlinewidth": 0,
              "ticks": ""
             }
            },
            "type": "scatterpolargl"
           }
          ],
          "scatterternary": [
           {
            "marker": {
             "colorbar": {
              "outlinewidth": 0,
              "ticks": ""
             }
            },
            "type": "scatterternary"
           }
          ],
          "surface": [
           {
            "colorbar": {
             "outlinewidth": 0,
             "ticks": ""
            },
            "colorscale": [
             [
              0,
              "#0d0887"
             ],
             [
              0.1111111111111111,
              "#46039f"
             ],
             [
              0.2222222222222222,
              "#7201a8"
             ],
             [
              0.3333333333333333,
              "#9c179e"
             ],
             [
              0.4444444444444444,
              "#bd3786"
             ],
             [
              0.5555555555555556,
              "#d8576b"
             ],
             [
              0.6666666666666666,
              "#ed7953"
             ],
             [
              0.7777777777777778,
              "#fb9f3a"
             ],
             [
              0.8888888888888888,
              "#fdca26"
             ],
             [
              1,
              "#f0f921"
             ]
            ],
            "type": "surface"
           }
          ],
          "table": [
           {
            "cells": {
             "fill": {
              "color": "#EBF0F8"
             },
             "line": {
              "color": "white"
             }
            },
            "header": {
             "fill": {
              "color": "#C8D4E3"
             },
             "line": {
              "color": "white"
             }
            },
            "type": "table"
           }
          ]
         },
         "layout": {
          "annotationdefaults": {
           "arrowcolor": "#2a3f5f",
           "arrowhead": 0,
           "arrowwidth": 1
          },
          "autotypenumbers": "strict",
          "coloraxis": {
           "colorbar": {
            "outlinewidth": 0,
            "ticks": ""
           }
          },
          "colorscale": {
           "diverging": [
            [
             0,
             "#8e0152"
            ],
            [
             0.1,
             "#c51b7d"
            ],
            [
             0.2,
             "#de77ae"
            ],
            [
             0.3,
             "#f1b6da"
            ],
            [
             0.4,
             "#fde0ef"
            ],
            [
             0.5,
             "#f7f7f7"
            ],
            [
             0.6,
             "#e6f5d0"
            ],
            [
             0.7,
             "#b8e186"
            ],
            [
             0.8,
             "#7fbc41"
            ],
            [
             0.9,
             "#4d9221"
            ],
            [
             1,
             "#276419"
            ]
           ],
           "sequential": [
            [
             0,
             "#0d0887"
            ],
            [
             0.1111111111111111,
             "#46039f"
            ],
            [
             0.2222222222222222,
             "#7201a8"
            ],
            [
             0.3333333333333333,
             "#9c179e"
            ],
            [
             0.4444444444444444,
             "#bd3786"
            ],
            [
             0.5555555555555556,
             "#d8576b"
            ],
            [
             0.6666666666666666,
             "#ed7953"
            ],
            [
             0.7777777777777778,
             "#fb9f3a"
            ],
            [
             0.8888888888888888,
             "#fdca26"
            ],
            [
             1,
             "#f0f921"
            ]
           ],
           "sequentialminus": [
            [
             0,
             "#0d0887"
            ],
            [
             0.1111111111111111,
             "#46039f"
            ],
            [
             0.2222222222222222,
             "#7201a8"
            ],
            [
             0.3333333333333333,
             "#9c179e"
            ],
            [
             0.4444444444444444,
             "#bd3786"
            ],
            [
             0.5555555555555556,
             "#d8576b"
            ],
            [
             0.6666666666666666,
             "#ed7953"
            ],
            [
             0.7777777777777778,
             "#fb9f3a"
            ],
            [
             0.8888888888888888,
             "#fdca26"
            ],
            [
             1,
             "#f0f921"
            ]
           ]
          },
          "colorway": [
           "#636efa",
           "#EF553B",
           "#00cc96",
           "#ab63fa",
           "#FFA15A",
           "#19d3f3",
           "#FF6692",
           "#B6E880",
           "#FF97FF",
           "#FECB52"
          ],
          "font": {
           "color": "#2a3f5f"
          },
          "geo": {
           "bgcolor": "white",
           "lakecolor": "white",
           "landcolor": "white",
           "showlakes": true,
           "showland": true,
           "subunitcolor": "#C8D4E3"
          },
          "hoverlabel": {
           "align": "left"
          },
          "hovermode": "closest",
          "mapbox": {
           "style": "light"
          },
          "paper_bgcolor": "white",
          "plot_bgcolor": "white",
          "polar": {
           "angularaxis": {
            "gridcolor": "#EBF0F8",
            "linecolor": "#EBF0F8",
            "ticks": ""
           },
           "bgcolor": "white",
           "radialaxis": {
            "gridcolor": "#EBF0F8",
            "linecolor": "#EBF0F8",
            "ticks": ""
           }
          },
          "scene": {
           "xaxis": {
            "backgroundcolor": "white",
            "gridcolor": "#DFE8F3",
            "gridwidth": 2,
            "linecolor": "#EBF0F8",
            "showbackground": true,
            "ticks": "",
            "zerolinecolor": "#EBF0F8"
           },
           "yaxis": {
            "backgroundcolor": "white",
            "gridcolor": "#DFE8F3",
            "gridwidth": 2,
            "linecolor": "#EBF0F8",
            "showbackground": true,
            "ticks": "",
            "zerolinecolor": "#EBF0F8"
           },
           "zaxis": {
            "backgroundcolor": "white",
            "gridcolor": "#DFE8F3",
            "gridwidth": 2,
            "linecolor": "#EBF0F8",
            "showbackground": true,
            "ticks": "",
            "zerolinecolor": "#EBF0F8"
           }
          },
          "shapedefaults": {
           "line": {
            "color": "#2a3f5f"
           }
          },
          "ternary": {
           "aaxis": {
            "gridcolor": "#DFE8F3",
            "linecolor": "#A2B1C6",
            "ticks": ""
           },
           "baxis": {
            "gridcolor": "#DFE8F3",
            "linecolor": "#A2B1C6",
            "ticks": ""
           },
           "bgcolor": "white",
           "caxis": {
            "gridcolor": "#DFE8F3",
            "linecolor": "#A2B1C6",
            "ticks": ""
           }
          },
          "title": {
           "x": 0.05
          },
          "xaxis": {
           "automargin": true,
           "gridcolor": "#EBF0F8",
           "linecolor": "#EBF0F8",
           "ticks": "",
           "title": {
            "standoff": 15
           },
           "zerolinecolor": "#EBF0F8",
           "zerolinewidth": 2
          },
          "yaxis": {
           "automargin": true,
           "gridcolor": "#EBF0F8",
           "linecolor": "#EBF0F8",
           "ticks": "",
           "title": {
            "standoff": 15
           },
           "zerolinecolor": "#EBF0F8",
           "zerolinewidth": 2
          }
         }
        },
        "title": {
         "text": "Net Immigration to Australia"
        },
        "width": 1320,
        "xaxis": {
         "anchor": "y",
         "domain": [
          0,
          0.94
         ]
        },
        "yaxis": {
         "anchor": "x",
         "domain": [
          0,
          1
         ],
         "title": {
          "text": "000"
         },
         "type": "linear"
        },
        "yaxis2": {
         "anchor": "x",
         "overlaying": "y",
         "showgrid": false,
         "side": "right",
         "title": {
          "text": "Unknown"
         },
         "type": "linear"
        }
       }
      }
     },
     "metadata": {},
     "output_type": "display_data"
    }
   ],
   "source": [
    "fic = watchlist.plot_watchlist(['A2133253A', \"A85232561W\"], ['A2060785W'], \n",
    "                               #other_series={\"left\":[ net_moves]}, \n",
    "                               template=\"plotly_white\", plot_title=\"Net Immigration to Australia\")\n",
    "fic.show()"
   ]
  },
  {
   "cell_type": "code",
   "execution_count": 57,
   "metadata": {},
   "outputs": [],
   "source": [
    "im_prop_ofNat = watchlist[\"watchlist_datasets\"][\"A2060785W\"]/watchlist[\"watchlist_datasets\"][\"A2060784V\"]"
   ]
  },
  {
   "cell_type": "code",
   "execution_count": 59,
   "metadata": {},
   "outputs": [
    {
     "data": {
      "application/vnd.plotly.v1+json": {
       "config": {
        "plotlyServerURL": "https://plot.ly"
       },
       "data": [
        {
         "mode": "lines",
         "name": "Net Overseas Migration ;  Australia ;",
         "type": "scatter",
         "x": [
          "1981-06-01T00:00:00",
          "1981-09-01T00:00:00",
          "1981-12-01T00:00:00",
          "1982-03-01T00:00:00",
          "1982-06-01T00:00:00",
          "1982-09-01T00:00:00",
          "1982-12-01T00:00:00",
          "1983-03-01T00:00:00",
          "1983-06-01T00:00:00",
          "1983-09-01T00:00:00",
          "1983-12-01T00:00:00",
          "1984-03-01T00:00:00",
          "1984-06-01T00:00:00",
          "1984-09-01T00:00:00",
          "1984-12-01T00:00:00",
          "1985-03-01T00:00:00",
          "1985-06-01T00:00:00",
          "1985-09-01T00:00:00",
          "1985-12-01T00:00:00",
          "1986-03-01T00:00:00",
          "1986-06-01T00:00:00",
          "1986-09-01T00:00:00",
          "1986-12-01T00:00:00",
          "1987-03-01T00:00:00",
          "1987-06-01T00:00:00",
          "1987-09-01T00:00:00",
          "1987-12-01T00:00:00",
          "1988-03-01T00:00:00",
          "1988-06-01T00:00:00",
          "1988-09-01T00:00:00",
          "1988-12-01T00:00:00",
          "1989-03-01T00:00:00",
          "1989-06-01T00:00:00",
          "1989-09-01T00:00:00",
          "1989-12-01T00:00:00",
          "1990-03-01T00:00:00",
          "1990-06-01T00:00:00",
          "1990-09-01T00:00:00",
          "1990-12-01T00:00:00",
          "1991-03-01T00:00:00",
          "1991-06-01T00:00:00",
          "1991-09-01T00:00:00",
          "1991-12-01T00:00:00",
          "1992-03-01T00:00:00",
          "1992-06-01T00:00:00",
          "1992-09-01T00:00:00",
          "1992-12-01T00:00:00",
          "1993-03-01T00:00:00",
          "1993-06-01T00:00:00",
          "1993-09-01T00:00:00",
          "1993-12-01T00:00:00",
          "1994-03-01T00:00:00",
          "1994-06-01T00:00:00",
          "1994-09-01T00:00:00",
          "1994-12-01T00:00:00",
          "1995-03-01T00:00:00",
          "1995-06-01T00:00:00",
          "1995-09-01T00:00:00",
          "1995-12-01T00:00:00",
          "1996-03-01T00:00:00",
          "1996-06-01T00:00:00",
          "1996-09-01T00:00:00",
          "1996-12-01T00:00:00",
          "1997-03-01T00:00:00",
          "1997-06-01T00:00:00",
          "1997-09-01T00:00:00",
          "1997-12-01T00:00:00",
          "1998-03-01T00:00:00",
          "1998-06-01T00:00:00",
          "1998-09-01T00:00:00",
          "1998-12-01T00:00:00",
          "1999-03-01T00:00:00",
          "1999-06-01T00:00:00",
          "1999-09-01T00:00:00",
          "1999-12-01T00:00:00",
          "2000-03-01T00:00:00",
          "2000-06-01T00:00:00",
          "2000-09-01T00:00:00",
          "2000-12-01T00:00:00",
          "2001-03-01T00:00:00",
          "2001-06-01T00:00:00",
          "2001-09-01T00:00:00",
          "2001-12-01T00:00:00",
          "2002-03-01T00:00:00",
          "2002-06-01T00:00:00",
          "2002-09-01T00:00:00",
          "2002-12-01T00:00:00",
          "2003-03-01T00:00:00",
          "2003-06-01T00:00:00",
          "2003-09-01T00:00:00",
          "2003-12-01T00:00:00",
          "2004-03-01T00:00:00",
          "2004-06-01T00:00:00",
          "2004-09-01T00:00:00",
          "2004-12-01T00:00:00",
          "2005-03-01T00:00:00",
          "2005-06-01T00:00:00",
          "2005-09-01T00:00:00",
          "2005-12-01T00:00:00",
          "2006-03-01T00:00:00",
          "2006-06-01T00:00:00",
          "2006-09-01T00:00:00",
          "2006-12-01T00:00:00",
          "2007-03-01T00:00:00",
          "2007-06-01T00:00:00",
          "2007-09-01T00:00:00",
          "2007-12-01T00:00:00",
          "2008-03-01T00:00:00",
          "2008-06-01T00:00:00",
          "2008-09-01T00:00:00",
          "2008-12-01T00:00:00",
          "2009-03-01T00:00:00",
          "2009-06-01T00:00:00",
          "2009-09-01T00:00:00",
          "2009-12-01T00:00:00",
          "2010-03-01T00:00:00",
          "2010-06-01T00:00:00",
          "2010-09-01T00:00:00",
          "2010-12-01T00:00:00",
          "2011-03-01T00:00:00",
          "2011-06-01T00:00:00",
          "2011-09-01T00:00:00",
          "2011-12-01T00:00:00",
          "2012-03-01T00:00:00",
          "2012-06-01T00:00:00",
          "2012-09-01T00:00:00",
          "2012-12-01T00:00:00",
          "2013-03-01T00:00:00",
          "2013-06-01T00:00:00",
          "2013-09-01T00:00:00",
          "2013-12-01T00:00:00",
          "2014-03-01T00:00:00",
          "2014-06-01T00:00:00",
          "2014-09-01T00:00:00",
          "2014-12-01T00:00:00",
          "2015-03-01T00:00:00",
          "2015-06-01T00:00:00",
          "2015-09-01T00:00:00",
          "2015-12-01T00:00:00",
          "2016-03-01T00:00:00",
          "2016-06-01T00:00:00",
          "2016-09-01T00:00:00",
          "2016-12-01T00:00:00",
          "2017-03-01T00:00:00",
          "2017-06-01T00:00:00",
          "2017-09-01T00:00:00",
          "2017-12-01T00:00:00",
          "2018-03-01T00:00:00",
          "2018-06-01T00:00:00",
          "2018-09-01T00:00:00",
          "2018-12-01T00:00:00",
          "2019-03-01T00:00:00",
          "2019-06-01T00:00:00",
          "2019-09-01T00:00:00",
          "2019-12-01T00:00:00",
          "2020-03-01T00:00:00",
          "2020-06-01T00:00:00",
          "2020-09-01T00:00:00",
          "2020-12-01T00:00:00",
          "2021-03-01T00:00:00",
          "2021-06-01T00:00:00",
          "2021-09-01T00:00:00",
          "2021-12-01T00:00:00",
          "2022-03-01T00:00:00",
          "2022-06-01T00:00:00",
          "2022-09-01T00:00:00",
          "2022-12-01T00:00:00",
          "2023-03-01T00:00:00",
          "2023-06-01T00:00:00",
          "2023-09-01T00:00:00",
          "2023-12-01T00:00:00",
          "2024-03-01T00:00:00",
          "2024-06-01T00:00:00",
          "2024-09-01T00:00:00",
          "2024-12-01T00:00:00",
          "2025-03-01T00:00:00"
         ],
         "xaxis": "x",
         "y": [
          25575,
          34141,
          34482,
          31376,
          28118,
          26893,
          16321,
          19214,
          10867,
          13644,
          11270,
          11017,
          13167,
          18471,
          17168,
          21859,
          16210,
          23574,
          27678,
          25750,
          23357,
          29592,
          31964,
          35058,
          29116,
          37434,
          34452,
          47262,
          30193,
          53587,
          41752,
          42988,
          19109,
          34188,
          33193,
          34650,
          22616,
          24856,
          15009,
          33117,
          13450,
          25812,
          9290,
          27072,
          6406,
          15093,
          2787,
          18502,
          -6340,
          17801,
          4859,
          19539,
          4350,
          27767,
          3850,
          24696,
          23812,
          29142,
          29214,
          25142,
          20639,
          32287,
          19376,
          29354,
          6062,
          22942,
          14044,
          33708,
          8468,
          26536,
          20069,
          35083,
          14795,
          29714,
          24618,
          37425,
          15518,
          31895,
          26603,
          54780,
          22395,
          27712,
          31189,
          36355,
          15300,
          29889,
          28931,
          41574,
          16104,
          27224,
          25202,
          35472,
          12068,
          30393,
          28492,
          47067,
          17811,
          37449,
          34682,
          53211,
          21411,
          56949,
          50625,
          76048,
          49174,
          62813,
          55995,
          93462,
          65068,
          84123,
          73034,
          88696,
          54013,
          62516,
          41675,
          59859,
          32008,
          41776,
          38395,
          60970,
          39231,
          55444,
          50595,
          74006,
          51902,
          63345,
          50995,
          71220,
          44769,
          54230,
          38160,
          65032,
          30356,
          50187,
          36770,
          63767,
          33309,
          50381,
          39273,
          73013,
          43566,
          73657,
          53593,
          88769,
          47332,
          69732,
          35828,
          85105,
          47559,
          73828,
          45728,
          83554,
          38228,
          74525,
          51313,
          75179,
          -8314,
          -42551,
          -29271,
          -14190,
          1082,
          -12999,
          35411,
          107524,
          77976,
          127718,
          124639,
          165500,
          120484,
          145175,
          99461,
          128703,
          55327,
          84483,
          66052,
          110062
         ],
         "yaxis": "y"
        },
        {
         "mode": "lines",
         "name": "Natural Increase ;  Australia ;",
         "type": "scatter",
         "x": [
          "1981-06-01T00:00:00",
          "1981-09-01T00:00:00",
          "1981-12-01T00:00:00",
          "1982-03-01T00:00:00",
          "1982-06-01T00:00:00",
          "1982-09-01T00:00:00",
          "1982-12-01T00:00:00",
          "1983-03-01T00:00:00",
          "1983-06-01T00:00:00",
          "1983-09-01T00:00:00",
          "1983-12-01T00:00:00",
          "1984-03-01T00:00:00",
          "1984-06-01T00:00:00",
          "1984-09-01T00:00:00",
          "1984-12-01T00:00:00",
          "1985-03-01T00:00:00",
          "1985-06-01T00:00:00",
          "1985-09-01T00:00:00",
          "1985-12-01T00:00:00",
          "1986-03-01T00:00:00",
          "1986-06-01T00:00:00",
          "1986-09-01T00:00:00",
          "1986-12-01T00:00:00",
          "1987-03-01T00:00:00",
          "1987-06-01T00:00:00",
          "1987-09-01T00:00:00",
          "1987-12-01T00:00:00",
          "1988-03-01T00:00:00",
          "1988-06-01T00:00:00",
          "1988-09-01T00:00:00",
          "1988-12-01T00:00:00",
          "1989-03-01T00:00:00",
          "1989-06-01T00:00:00",
          "1989-09-01T00:00:00",
          "1989-12-01T00:00:00",
          "1990-03-01T00:00:00",
          "1990-06-01T00:00:00",
          "1990-09-01T00:00:00",
          "1990-12-01T00:00:00",
          "1991-03-01T00:00:00",
          "1991-06-01T00:00:00",
          "1991-09-01T00:00:00",
          "1991-12-01T00:00:00",
          "1992-03-01T00:00:00",
          "1992-06-01T00:00:00",
          "1992-09-01T00:00:00",
          "1992-12-01T00:00:00",
          "1993-03-01T00:00:00",
          "1993-06-01T00:00:00",
          "1993-09-01T00:00:00",
          "1993-12-01T00:00:00",
          "1994-03-01T00:00:00",
          "1994-06-01T00:00:00",
          "1994-09-01T00:00:00",
          "1994-12-01T00:00:00",
          "1995-03-01T00:00:00",
          "1995-06-01T00:00:00",
          "1995-09-01T00:00:00",
          "1995-12-01T00:00:00",
          "1996-03-01T00:00:00",
          "1996-06-01T00:00:00",
          "1996-09-01T00:00:00",
          "1996-12-01T00:00:00",
          "1997-03-01T00:00:00",
          "1997-06-01T00:00:00",
          "1997-09-01T00:00:00",
          "1997-12-01T00:00:00",
          "1998-03-01T00:00:00",
          "1998-06-01T00:00:00",
          "1998-09-01T00:00:00",
          "1998-12-01T00:00:00",
          "1999-03-01T00:00:00",
          "1999-06-01T00:00:00",
          "1999-09-01T00:00:00",
          "1999-12-01T00:00:00",
          "2000-03-01T00:00:00",
          "2000-06-01T00:00:00",
          "2000-09-01T00:00:00",
          "2000-12-01T00:00:00",
          "2001-03-01T00:00:00",
          "2001-06-01T00:00:00",
          "2001-09-01T00:00:00",
          "2001-12-01T00:00:00",
          "2002-03-01T00:00:00",
          "2002-06-01T00:00:00",
          "2002-09-01T00:00:00",
          "2002-12-01T00:00:00",
          "2003-03-01T00:00:00",
          "2003-06-01T00:00:00",
          "2003-09-01T00:00:00",
          "2003-12-01T00:00:00",
          "2004-03-01T00:00:00",
          "2004-06-01T00:00:00",
          "2004-09-01T00:00:00",
          "2004-12-01T00:00:00",
          "2005-03-01T00:00:00",
          "2005-06-01T00:00:00",
          "2005-09-01T00:00:00",
          "2005-12-01T00:00:00",
          "2006-03-01T00:00:00",
          "2006-06-01T00:00:00",
          "2006-09-01T00:00:00",
          "2006-12-01T00:00:00",
          "2007-03-01T00:00:00",
          "2007-06-01T00:00:00",
          "2007-09-01T00:00:00",
          "2007-12-01T00:00:00",
          "2008-03-01T00:00:00",
          "2008-06-01T00:00:00",
          "2008-09-01T00:00:00",
          "2008-12-01T00:00:00",
          "2009-03-01T00:00:00",
          "2009-06-01T00:00:00",
          "2009-09-01T00:00:00",
          "2009-12-01T00:00:00",
          "2010-03-01T00:00:00",
          "2010-06-01T00:00:00",
          "2010-09-01T00:00:00",
          "2010-12-01T00:00:00",
          "2011-03-01T00:00:00",
          "2011-06-01T00:00:00",
          "2011-09-01T00:00:00",
          "2011-12-01T00:00:00",
          "2012-03-01T00:00:00",
          "2012-06-01T00:00:00",
          "2012-09-01T00:00:00",
          "2012-12-01T00:00:00",
          "2013-03-01T00:00:00",
          "2013-06-01T00:00:00",
          "2013-09-01T00:00:00",
          "2013-12-01T00:00:00",
          "2014-03-01T00:00:00",
          "2014-06-01T00:00:00",
          "2014-09-01T00:00:00",
          "2014-12-01T00:00:00",
          "2015-03-01T00:00:00",
          "2015-06-01T00:00:00",
          "2015-09-01T00:00:00",
          "2015-12-01T00:00:00",
          "2016-03-01T00:00:00",
          "2016-06-01T00:00:00",
          "2016-09-01T00:00:00",
          "2016-12-01T00:00:00",
          "2017-03-01T00:00:00",
          "2017-06-01T00:00:00",
          "2017-09-01T00:00:00",
          "2017-12-01T00:00:00",
          "2018-03-01T00:00:00",
          "2018-06-01T00:00:00",
          "2018-09-01T00:00:00",
          "2018-12-01T00:00:00",
          "2019-03-01T00:00:00",
          "2019-06-01T00:00:00",
          "2019-09-01T00:00:00",
          "2019-12-01T00:00:00",
          "2020-03-01T00:00:00",
          "2020-06-01T00:00:00",
          "2020-09-01T00:00:00",
          "2020-12-01T00:00:00",
          "2021-03-01T00:00:00",
          "2021-06-01T00:00:00",
          "2021-09-01T00:00:00",
          "2021-12-01T00:00:00",
          "2022-03-01T00:00:00",
          "2022-06-01T00:00:00",
          "2022-09-01T00:00:00",
          "2022-12-01T00:00:00",
          "2023-03-01T00:00:00",
          "2023-06-01T00:00:00",
          "2023-09-01T00:00:00",
          "2023-12-01T00:00:00",
          "2024-03-01T00:00:00",
          "2024-06-01T00:00:00",
          "2024-09-01T00:00:00",
          "2024-12-01T00:00:00",
          "2025-03-01T00:00:00"
         ],
         "xaxis": "x",
         "y": [
          33604,
          29580,
          29262,
          34509,
          32735,
          26367,
          31521,
          36366,
          34592,
          30098,
          31430,
          35237,
          32892,
          28787,
          29667,
          35625,
          33538,
          25772,
          31142,
          33138,
          32994,
          28815,
          33480,
          31930,
          32433,
          29255,
          33020,
          31561,
          31901,
          28531,
          34334,
          35615,
          32908,
          25020,
          33078,
          35849,
          38462,
          32898,
          35377,
          36289,
          37022,
          32211,
          34032,
          38433,
          34141,
          32830,
          34299,
          37173,
          34854,
          32506,
          33806,
          36734,
          32321,
          29292,
          33598,
          36697,
          32796,
          30339,
          30412,
          33412,
          30321,
          28198,
          33309,
          33205,
          32194,
          26527,
          31030,
          32491,
          30486,
          27817,
          30727,
          33387,
          30511,
          28904,
          30113,
          33281,
          29779,
          27862,
          30909,
          31885,
          29650,
          28986,
          28457,
          32825,
          28852,
          25740,
          29607,
          31580,
          29972,
          27168,
          30224,
          33177,
          28248,
          28216,
          29492,
          35142,
          34144,
          31584,
          33286,
          34529,
          32574,
          36206,
          36484,
          41063,
          37472,
          36276,
          38516,
          41891,
          37749,
          36164,
          39990,
          40790,
          39399,
          38549,
          40499,
          43244,
          40274,
          37829,
          36631,
          42269,
          38985,
          36633,
          38163,
          44073,
          39953,
          36519,
          42519,
          43162,
          39758,
          37172,
          38699,
          42676,
          38429,
          35914,
          39546,
          40396,
          35923,
          34757,
          37909,
          42678,
          39007,
          35289,
          36238,
          39902,
          36173,
          30290,
          35640,
          40176,
          36498,
          33184,
          35863,
          38122,
          34550,
          31996,
          34335,
          35563,
          32925,
          31234,
          31204,
          41105,
          35936,
          32361,
          33610,
          31658,
          27768,
          22875,
          26332,
          28517,
          25136,
          26034,
          26068,
          28154,
          24946,
          25221,
          23090,
          34176
         ],
         "yaxis": "y"
        },
        {
         "mode": "lines",
         "name": "Other Right Series 1",
         "type": "scatter",
         "x": [
          "1981-06-01T00:00:00",
          "1981-09-01T00:00:00",
          "1981-12-01T00:00:00",
          "1982-03-01T00:00:00",
          "1982-06-01T00:00:00",
          "1982-09-01T00:00:00",
          "1982-12-01T00:00:00",
          "1983-03-01T00:00:00",
          "1983-06-01T00:00:00",
          "1983-09-01T00:00:00",
          "1983-12-01T00:00:00",
          "1984-03-01T00:00:00",
          "1984-06-01T00:00:00",
          "1984-09-01T00:00:00",
          "1984-12-01T00:00:00",
          "1985-03-01T00:00:00",
          "1985-06-01T00:00:00",
          "1985-09-01T00:00:00",
          "1985-12-01T00:00:00",
          "1986-03-01T00:00:00",
          "1986-06-01T00:00:00",
          "1986-09-01T00:00:00",
          "1986-12-01T00:00:00",
          "1987-03-01T00:00:00",
          "1987-06-01T00:00:00",
          "1987-09-01T00:00:00",
          "1987-12-01T00:00:00",
          "1988-03-01T00:00:00",
          "1988-06-01T00:00:00",
          "1988-09-01T00:00:00",
          "1988-12-01T00:00:00",
          "1989-03-01T00:00:00",
          "1989-06-01T00:00:00",
          "1989-09-01T00:00:00",
          "1989-12-01T00:00:00",
          "1990-03-01T00:00:00",
          "1990-06-01T00:00:00",
          "1990-09-01T00:00:00",
          "1990-12-01T00:00:00",
          "1991-03-01T00:00:00",
          "1991-06-01T00:00:00",
          "1991-09-01T00:00:00",
          "1991-12-01T00:00:00",
          "1992-03-01T00:00:00",
          "1992-06-01T00:00:00",
          "1992-09-01T00:00:00",
          "1992-12-01T00:00:00",
          "1993-03-01T00:00:00",
          "1993-06-01T00:00:00",
          "1993-09-01T00:00:00",
          "1993-12-01T00:00:00",
          "1994-03-01T00:00:00",
          "1994-06-01T00:00:00",
          "1994-09-01T00:00:00",
          "1994-12-01T00:00:00",
          "1995-03-01T00:00:00",
          "1995-06-01T00:00:00",
          "1995-09-01T00:00:00",
          "1995-12-01T00:00:00",
          "1996-03-01T00:00:00",
          "1996-06-01T00:00:00",
          "1996-09-01T00:00:00",
          "1996-12-01T00:00:00",
          "1997-03-01T00:00:00",
          "1997-06-01T00:00:00",
          "1997-09-01T00:00:00",
          "1997-12-01T00:00:00",
          "1998-03-01T00:00:00",
          "1998-06-01T00:00:00",
          "1998-09-01T00:00:00",
          "1998-12-01T00:00:00",
          "1999-03-01T00:00:00",
          "1999-06-01T00:00:00",
          "1999-09-01T00:00:00",
          "1999-12-01T00:00:00",
          "2000-03-01T00:00:00",
          "2000-06-01T00:00:00",
          "2000-09-01T00:00:00",
          "2000-12-01T00:00:00",
          "2001-03-01T00:00:00",
          "2001-06-01T00:00:00",
          "2001-09-01T00:00:00",
          "2001-12-01T00:00:00",
          "2002-03-01T00:00:00",
          "2002-06-01T00:00:00",
          "2002-09-01T00:00:00",
          "2002-12-01T00:00:00",
          "2003-03-01T00:00:00",
          "2003-06-01T00:00:00",
          "2003-09-01T00:00:00",
          "2003-12-01T00:00:00",
          "2004-03-01T00:00:00",
          "2004-06-01T00:00:00",
          "2004-09-01T00:00:00",
          "2004-12-01T00:00:00",
          "2005-03-01T00:00:00",
          "2005-06-01T00:00:00",
          "2005-09-01T00:00:00",
          "2005-12-01T00:00:00",
          "2006-03-01T00:00:00",
          "2006-06-01T00:00:00",
          "2006-09-01T00:00:00",
          "2006-12-01T00:00:00",
          "2007-03-01T00:00:00",
          "2007-06-01T00:00:00",
          "2007-09-01T00:00:00",
          "2007-12-01T00:00:00",
          "2008-03-01T00:00:00",
          "2008-06-01T00:00:00",
          "2008-09-01T00:00:00",
          "2008-12-01T00:00:00",
          "2009-03-01T00:00:00",
          "2009-06-01T00:00:00",
          "2009-09-01T00:00:00",
          "2009-12-01T00:00:00",
          "2010-03-01T00:00:00",
          "2010-06-01T00:00:00",
          "2010-09-01T00:00:00",
          "2010-12-01T00:00:00",
          "2011-03-01T00:00:00",
          "2011-06-01T00:00:00",
          "2011-09-01T00:00:00",
          "2011-12-01T00:00:00",
          "2012-03-01T00:00:00",
          "2012-06-01T00:00:00",
          "2012-09-01T00:00:00",
          "2012-12-01T00:00:00",
          "2013-03-01T00:00:00",
          "2013-06-01T00:00:00",
          "2013-09-01T00:00:00",
          "2013-12-01T00:00:00",
          "2014-03-01T00:00:00",
          "2014-06-01T00:00:00",
          "2014-09-01T00:00:00",
          "2014-12-01T00:00:00",
          "2015-03-01T00:00:00",
          "2015-06-01T00:00:00",
          "2015-09-01T00:00:00",
          "2015-12-01T00:00:00",
          "2016-03-01T00:00:00",
          "2016-06-01T00:00:00",
          "2016-09-01T00:00:00",
          "2016-12-01T00:00:00",
          "2017-03-01T00:00:00",
          "2017-06-01T00:00:00",
          "2017-09-01T00:00:00",
          "2017-12-01T00:00:00",
          "2018-03-01T00:00:00",
          "2018-06-01T00:00:00",
          "2018-09-01T00:00:00",
          "2018-12-01T00:00:00",
          "2019-03-01T00:00:00",
          "2019-06-01T00:00:00",
          "2019-09-01T00:00:00",
          "2019-12-01T00:00:00",
          "2020-03-01T00:00:00",
          "2020-06-01T00:00:00",
          "2020-09-01T00:00:00",
          "2020-12-01T00:00:00",
          "2021-03-01T00:00:00",
          "2021-06-01T00:00:00",
          "2021-09-01T00:00:00",
          "2021-12-01T00:00:00",
          "2022-03-01T00:00:00",
          "2022-06-01T00:00:00",
          "2022-09-01T00:00:00",
          "2022-12-01T00:00:00",
          "2023-03-01T00:00:00",
          "2023-06-01T00:00:00",
          "2023-09-01T00:00:00",
          "2023-12-01T00:00:00",
          "2024-03-01T00:00:00",
          "2024-06-01T00:00:00",
          "2024-09-01T00:00:00",
          "2024-12-01T00:00:00",
          "2025-03-01T00:00:00"
         ],
         "xaxis": "x",
         "y": [
          0.761070110701107,
          1.1541920216362407,
          1.1783883534960016,
          0.9092120895998146,
          0.8589583015121429,
          1.0199491788978647,
          0.517781796262809,
          0.5283506572072816,
          0.3141477798334875,
          0.4533191574190976,
          0.3585746102449889,
          0.31265431222862333,
          0.4003101058008026,
          0.6416437975475041,
          0.5786901270772239,
          0.6135859649122807,
          0.4833323394358638,
          0.9147136427130219,
          0.8887675807591034,
          0.7770535337075261,
          0.7079165908953143,
          1.0269651223321188,
          0.9547192353643966,
          1.0979642968994676,
          0.897727623099929,
          1.2795761408306272,
          1.0433676559660812,
          1.4974810684072115,
          0.946459358640795,
          1.8782026567593144,
          1.2160540572027727,
          1.2070195142496138,
          0.5806794700376808,
          1.3664268585131893,
          1.0034766309934096,
          0.9665541577170911,
          0.5880089438926733,
          0.7555474496929905,
          0.4242586991548181,
          0.9125905921904709,
          0.3632974987845065,
          0.8013411567476949,
          0.27297837329572167,
          0.704394660838342,
          0.18763363697606983,
          0.45973195248248555,
          0.08125601329484824,
          0.49772684475291207,
          -0.18190164686979973,
          0.5476219774810804,
          0.14373188191445305,
          0.531905047095334,
          0.13458741994368986,
          0.9479380035504574,
          0.1145901541758438,
          0.6729705425511622,
          0.7260641541651421,
          0.9605458320973005,
          0.9606076548730764,
          0.7524841374356519,
          0.680683354770621,
          1.1450102844173347,
          0.581704644390405,
          0.8840234904381871,
          0.18829595576815555,
          0.8648546763674746,
          0.45259426361585564,
          1.0374565264227016,
          0.2777668437971528,
          0.9539490239781429,
          0.6531389331857975,
          1.0507982148740527,
          0.4849070826914883,
          1.02802380293385,
          0.8175206721349583,
          1.1245154893182296,
          0.5211054770140031,
          1.1447491206661402,
          0.8606878255524281,
          1.7180492394542888,
          0.7553119730185498,
          0.9560477471882978,
          1.0960044980145482,
          1.1075399847677074,
          0.5302925273811174,
          1.1611888111888111,
          0.9771675617252676,
          1.3164661177960735,
          0.5373014813826238,
          1.0020612485276796,
          0.8338406564319746,
          1.0691744280676372,
          0.4272160860945908,
          1.0771548057839524,
          0.966092499660925,
          1.3393375448181664,
          0.5216436269915652,
          1.1856952887537995,
          1.041939554166917,
          1.5410524486663384,
          0.6573033707865169,
          1.572916091255593,
          1.3875945619997807,
          1.8519835374911722,
          1.3122865072587533,
          1.7315304884772302,
          1.4538114030532765,
          2.2310758874221195,
          1.7237012901004,
          2.326153080411459,
          1.826306576644161,
          2.174454523167443,
          1.370923119876139,
          1.6217281900957223,
          1.0290377540186177,
          1.3842151512348533,
          0.794755921934747,
          1.1043379417906898,
          1.048155933498949,
          1.4424282571151434,
          1.0063101192766448,
          1.5134987579504817,
          1.325760553415612,
          1.6791686520091667,
          1.2990764147873752,
          1.7345765218105644,
          1.1993461746513323,
          1.6500625550252537,
          1.1260375270385834,
          1.458893791025503,
          0.9860719915243288,
          1.5238541569031774,
          0.7899242759374431,
          1.3974216183104082,
          0.9298032670813736,
          1.5785473809288049,
          0.9272332488934666,
          1.4495209598066576,
          1.0359809016328576,
          1.7107877595013825,
          1.1168764580716282,
          2.0872509847261185,
          1.4789171587835974,
          2.2246754548644176,
          1.3084897575539767,
          2.302145922746781,
          1.0052749719416385,
          2.118304460374353,
          1.303057701791879,
          2.224807135969142,
          1.275074589409698,
          2.1917527936624523,
          1.1064544138929089,
          2.3291973996749595,
          1.4944808504441531,
          2.113966763208953,
          -0.2525132877752468,
          -1.3623295127105077,
          -0.9380528137418279,
          -0.3452134776791145,
          0.030109082813891363,
          -0.4016872160934458,
          1.0535852424873549,
          3.396424284541032,
          2.808124459809853,
          5.583300546448087,
          4.733366246392222,
          5.803555773748992,
          4.7932845321451305,
          5.5763616808788505,
          3.8154442228019025,
          4.571393052496981,
          2.217870600497074,
          3.349708576186511,
          2.8606323083585967,
          3.220447097378277
         ],
         "yaxis": "y2"
        }
       ],
       "layout": {
        "annotations": [
         {
          "align": "left",
          "bgcolor": "white",
          "bordercolor": "black",
          "borderwidth": 1,
          "font": {
           "color": "black",
           "size": 12
          },
          "showarrow": false,
          "text": "Source: ABS",
          "x": 0,
          "xref": "paper",
          "y": -0.14,
          "yref": "paper"
         }
        ],
        "font": {
         "color": "black",
         "family": "Arial, sans-serif",
         "size": 14
        },
        "height": 660,
        "hovermode": "x unified",
        "legend": {
         "bgcolor": "rgba(255,255,255,0)",
         "bordercolor": "rgba(255,255,255,0)",
         "orientation": "h",
         "x": 0.5,
         "xanchor": "center",
         "y": -0.1,
         "yanchor": "top"
        },
        "margin": {
         "b": 40,
         "l": 70,
         "r": 10,
         "t": 60
        },
        "template": {
         "data": {
          "bar": [
           {
            "error_x": {
             "color": "#2a3f5f"
            },
            "error_y": {
             "color": "#2a3f5f"
            },
            "marker": {
             "line": {
              "color": "white",
              "width": 0.5
             },
             "pattern": {
              "fillmode": "overlay",
              "size": 10,
              "solidity": 0.2
             }
            },
            "type": "bar"
           }
          ],
          "barpolar": [
           {
            "marker": {
             "line": {
              "color": "white",
              "width": 0.5
             },
             "pattern": {
              "fillmode": "overlay",
              "size": 10,
              "solidity": 0.2
             }
            },
            "type": "barpolar"
           }
          ],
          "carpet": [
           {
            "aaxis": {
             "endlinecolor": "#2a3f5f",
             "gridcolor": "#C8D4E3",
             "linecolor": "#C8D4E3",
             "minorgridcolor": "#C8D4E3",
             "startlinecolor": "#2a3f5f"
            },
            "baxis": {
             "endlinecolor": "#2a3f5f",
             "gridcolor": "#C8D4E3",
             "linecolor": "#C8D4E3",
             "minorgridcolor": "#C8D4E3",
             "startlinecolor": "#2a3f5f"
            },
            "type": "carpet"
           }
          ],
          "choropleth": [
           {
            "colorbar": {
             "outlinewidth": 0,
             "ticks": ""
            },
            "type": "choropleth"
           }
          ],
          "contour": [
           {
            "colorbar": {
             "outlinewidth": 0,
             "ticks": ""
            },
            "colorscale": [
             [
              0,
              "#0d0887"
             ],
             [
              0.1111111111111111,
              "#46039f"
             ],
             [
              0.2222222222222222,
              "#7201a8"
             ],
             [
              0.3333333333333333,
              "#9c179e"
             ],
             [
              0.4444444444444444,
              "#bd3786"
             ],
             [
              0.5555555555555556,
              "#d8576b"
             ],
             [
              0.6666666666666666,
              "#ed7953"
             ],
             [
              0.7777777777777778,
              "#fb9f3a"
             ],
             [
              0.8888888888888888,
              "#fdca26"
             ],
             [
              1,
              "#f0f921"
             ]
            ],
            "type": "contour"
           }
          ],
          "contourcarpet": [
           {
            "colorbar": {
             "outlinewidth": 0,
             "ticks": ""
            },
            "type": "contourcarpet"
           }
          ],
          "heatmap": [
           {
            "colorbar": {
             "outlinewidth": 0,
             "ticks": ""
            },
            "colorscale": [
             [
              0,
              "#0d0887"
             ],
             [
              0.1111111111111111,
              "#46039f"
             ],
             [
              0.2222222222222222,
              "#7201a8"
             ],
             [
              0.3333333333333333,
              "#9c179e"
             ],
             [
              0.4444444444444444,
              "#bd3786"
             ],
             [
              0.5555555555555556,
              "#d8576b"
             ],
             [
              0.6666666666666666,
              "#ed7953"
             ],
             [
              0.7777777777777778,
              "#fb9f3a"
             ],
             [
              0.8888888888888888,
              "#fdca26"
             ],
             [
              1,
              "#f0f921"
             ]
            ],
            "type": "heatmap"
           }
          ],
          "heatmapgl": [
           {
            "colorbar": {
             "outlinewidth": 0,
             "ticks": ""
            },
            "colorscale": [
             [
              0,
              "#0d0887"
             ],
             [
              0.1111111111111111,
              "#46039f"
             ],
             [
              0.2222222222222222,
              "#7201a8"
             ],
             [
              0.3333333333333333,
              "#9c179e"
             ],
             [
              0.4444444444444444,
              "#bd3786"
             ],
             [
              0.5555555555555556,
              "#d8576b"
             ],
             [
              0.6666666666666666,
              "#ed7953"
             ],
             [
              0.7777777777777778,
              "#fb9f3a"
             ],
             [
              0.8888888888888888,
              "#fdca26"
             ],
             [
              1,
              "#f0f921"
             ]
            ],
            "type": "heatmapgl"
           }
          ],
          "histogram": [
           {
            "marker": {
             "pattern": {
              "fillmode": "overlay",
              "size": 10,
              "solidity": 0.2
             }
            },
            "type": "histogram"
           }
          ],
          "histogram2d": [
           {
            "colorbar": {
             "outlinewidth": 0,
             "ticks": ""
            },
            "colorscale": [
             [
              0,
              "#0d0887"
             ],
             [
              0.1111111111111111,
              "#46039f"
             ],
             [
              0.2222222222222222,
              "#7201a8"
             ],
             [
              0.3333333333333333,
              "#9c179e"
             ],
             [
              0.4444444444444444,
              "#bd3786"
             ],
             [
              0.5555555555555556,
              "#d8576b"
             ],
             [
              0.6666666666666666,
              "#ed7953"
             ],
             [
              0.7777777777777778,
              "#fb9f3a"
             ],
             [
              0.8888888888888888,
              "#fdca26"
             ],
             [
              1,
              "#f0f921"
             ]
            ],
            "type": "histogram2d"
           }
          ],
          "histogram2dcontour": [
           {
            "colorbar": {
             "outlinewidth": 0,
             "ticks": ""
            },
            "colorscale": [
             [
              0,
              "#0d0887"
             ],
             [
              0.1111111111111111,
              "#46039f"
             ],
             [
              0.2222222222222222,
              "#7201a8"
             ],
             [
              0.3333333333333333,
              "#9c179e"
             ],
             [
              0.4444444444444444,
              "#bd3786"
             ],
             [
              0.5555555555555556,
              "#d8576b"
             ],
             [
              0.6666666666666666,
              "#ed7953"
             ],
             [
              0.7777777777777778,
              "#fb9f3a"
             ],
             [
              0.8888888888888888,
              "#fdca26"
             ],
             [
              1,
              "#f0f921"
             ]
            ],
            "type": "histogram2dcontour"
           }
          ],
          "mesh3d": [
           {
            "colorbar": {
             "outlinewidth": 0,
             "ticks": ""
            },
            "type": "mesh3d"
           }
          ],
          "parcoords": [
           {
            "line": {
             "colorbar": {
              "outlinewidth": 0,
              "ticks": ""
             }
            },
            "type": "parcoords"
           }
          ],
          "pie": [
           {
            "automargin": true,
            "type": "pie"
           }
          ],
          "scatter": [
           {
            "fillpattern": {
             "fillmode": "overlay",
             "size": 10,
             "solidity": 0.2
            },
            "type": "scatter"
           }
          ],
          "scatter3d": [
           {
            "line": {
             "colorbar": {
              "outlinewidth": 0,
              "ticks": ""
             }
            },
            "marker": {
             "colorbar": {
              "outlinewidth": 0,
              "ticks": ""
             }
            },
            "type": "scatter3d"
           }
          ],
          "scattercarpet": [
           {
            "marker": {
             "colorbar": {
              "outlinewidth": 0,
              "ticks": ""
             }
            },
            "type": "scattercarpet"
           }
          ],
          "scattergeo": [
           {
            "marker": {
             "colorbar": {
              "outlinewidth": 0,
              "ticks": ""
             }
            },
            "type": "scattergeo"
           }
          ],
          "scattergl": [
           {
            "marker": {
             "colorbar": {
              "outlinewidth": 0,
              "ticks": ""
             }
            },
            "type": "scattergl"
           }
          ],
          "scattermapbox": [
           {
            "marker": {
             "colorbar": {
              "outlinewidth": 0,
              "ticks": ""
             }
            },
            "type": "scattermapbox"
           }
          ],
          "scatterpolar": [
           {
            "marker": {
             "colorbar": {
              "outlinewidth": 0,
              "ticks": ""
             }
            },
            "type": "scatterpolar"
           }
          ],
          "scatterpolargl": [
           {
            "marker": {
             "colorbar": {
              "outlinewidth": 0,
              "ticks": ""
             }
            },
            "type": "scatterpolargl"
           }
          ],
          "scatterternary": [
           {
            "marker": {
             "colorbar": {
              "outlinewidth": 0,
              "ticks": ""
             }
            },
            "type": "scatterternary"
           }
          ],
          "surface": [
           {
            "colorbar": {
             "outlinewidth": 0,
             "ticks": ""
            },
            "colorscale": [
             [
              0,
              "#0d0887"
             ],
             [
              0.1111111111111111,
              "#46039f"
             ],
             [
              0.2222222222222222,
              "#7201a8"
             ],
             [
              0.3333333333333333,
              "#9c179e"
             ],
             [
              0.4444444444444444,
              "#bd3786"
             ],
             [
              0.5555555555555556,
              "#d8576b"
             ],
             [
              0.6666666666666666,
              "#ed7953"
             ],
             [
              0.7777777777777778,
              "#fb9f3a"
             ],
             [
              0.8888888888888888,
              "#fdca26"
             ],
             [
              1,
              "#f0f921"
             ]
            ],
            "type": "surface"
           }
          ],
          "table": [
           {
            "cells": {
             "fill": {
              "color": "#EBF0F8"
             },
             "line": {
              "color": "white"
             }
            },
            "header": {
             "fill": {
              "color": "#C8D4E3"
             },
             "line": {
              "color": "white"
             }
            },
            "type": "table"
           }
          ]
         },
         "layout": {
          "annotationdefaults": {
           "arrowcolor": "#2a3f5f",
           "arrowhead": 0,
           "arrowwidth": 1
          },
          "autotypenumbers": "strict",
          "coloraxis": {
           "colorbar": {
            "outlinewidth": 0,
            "ticks": ""
           }
          },
          "colorscale": {
           "diverging": [
            [
             0,
             "#8e0152"
            ],
            [
             0.1,
             "#c51b7d"
            ],
            [
             0.2,
             "#de77ae"
            ],
            [
             0.3,
             "#f1b6da"
            ],
            [
             0.4,
             "#fde0ef"
            ],
            [
             0.5,
             "#f7f7f7"
            ],
            [
             0.6,
             "#e6f5d0"
            ],
            [
             0.7,
             "#b8e186"
            ],
            [
             0.8,
             "#7fbc41"
            ],
            [
             0.9,
             "#4d9221"
            ],
            [
             1,
             "#276419"
            ]
           ],
           "sequential": [
            [
             0,
             "#0d0887"
            ],
            [
             0.1111111111111111,
             "#46039f"
            ],
            [
             0.2222222222222222,
             "#7201a8"
            ],
            [
             0.3333333333333333,
             "#9c179e"
            ],
            [
             0.4444444444444444,
             "#bd3786"
            ],
            [
             0.5555555555555556,
             "#d8576b"
            ],
            [
             0.6666666666666666,
             "#ed7953"
            ],
            [
             0.7777777777777778,
             "#fb9f3a"
            ],
            [
             0.8888888888888888,
             "#fdca26"
            ],
            [
             1,
             "#f0f921"
            ]
           ],
           "sequentialminus": [
            [
             0,
             "#0d0887"
            ],
            [
             0.1111111111111111,
             "#46039f"
            ],
            [
             0.2222222222222222,
             "#7201a8"
            ],
            [
             0.3333333333333333,
             "#9c179e"
            ],
            [
             0.4444444444444444,
             "#bd3786"
            ],
            [
             0.5555555555555556,
             "#d8576b"
            ],
            [
             0.6666666666666666,
             "#ed7953"
            ],
            [
             0.7777777777777778,
             "#fb9f3a"
            ],
            [
             0.8888888888888888,
             "#fdca26"
            ],
            [
             1,
             "#f0f921"
            ]
           ]
          },
          "colorway": [
           "#636efa",
           "#EF553B",
           "#00cc96",
           "#ab63fa",
           "#FFA15A",
           "#19d3f3",
           "#FF6692",
           "#B6E880",
           "#FF97FF",
           "#FECB52"
          ],
          "font": {
           "color": "#2a3f5f"
          },
          "geo": {
           "bgcolor": "white",
           "lakecolor": "white",
           "landcolor": "white",
           "showlakes": true,
           "showland": true,
           "subunitcolor": "#C8D4E3"
          },
          "hoverlabel": {
           "align": "left"
          },
          "hovermode": "closest",
          "mapbox": {
           "style": "light"
          },
          "paper_bgcolor": "white",
          "plot_bgcolor": "white",
          "polar": {
           "angularaxis": {
            "gridcolor": "#EBF0F8",
            "linecolor": "#EBF0F8",
            "ticks": ""
           },
           "bgcolor": "white",
           "radialaxis": {
            "gridcolor": "#EBF0F8",
            "linecolor": "#EBF0F8",
            "ticks": ""
           }
          },
          "scene": {
           "xaxis": {
            "backgroundcolor": "white",
            "gridcolor": "#DFE8F3",
            "gridwidth": 2,
            "linecolor": "#EBF0F8",
            "showbackground": true,
            "ticks": "",
            "zerolinecolor": "#EBF0F8"
           },
           "yaxis": {
            "backgroundcolor": "white",
            "gridcolor": "#DFE8F3",
            "gridwidth": 2,
            "linecolor": "#EBF0F8",
            "showbackground": true,
            "ticks": "",
            "zerolinecolor": "#EBF0F8"
           },
           "zaxis": {
            "backgroundcolor": "white",
            "gridcolor": "#DFE8F3",
            "gridwidth": 2,
            "linecolor": "#EBF0F8",
            "showbackground": true,
            "ticks": "",
            "zerolinecolor": "#EBF0F8"
           }
          },
          "shapedefaults": {
           "line": {
            "color": "#2a3f5f"
           }
          },
          "ternary": {
           "aaxis": {
            "gridcolor": "#DFE8F3",
            "linecolor": "#A2B1C6",
            "ticks": ""
           },
           "baxis": {
            "gridcolor": "#DFE8F3",
            "linecolor": "#A2B1C6",
            "ticks": ""
           },
           "bgcolor": "white",
           "caxis": {
            "gridcolor": "#DFE8F3",
            "linecolor": "#A2B1C6",
            "ticks": ""
           }
          },
          "title": {
           "x": 0.05
          },
          "xaxis": {
           "automargin": true,
           "gridcolor": "#EBF0F8",
           "linecolor": "#EBF0F8",
           "ticks": "",
           "title": {
            "standoff": 15
           },
           "zerolinecolor": "#EBF0F8",
           "zerolinewidth": 2
          },
          "yaxis": {
           "automargin": true,
           "gridcolor": "#EBF0F8",
           "linecolor": "#EBF0F8",
           "ticks": "",
           "title": {
            "standoff": 15
           },
           "zerolinecolor": "#EBF0F8",
           "zerolinewidth": 2
          }
         }
        },
        "title": {
         "text": "Immigration to Australia"
        },
        "width": 1320,
        "xaxis": {
         "anchor": "y",
         "domain": [
          0,
          0.94
         ]
        },
        "yaxis": {
         "anchor": "x",
         "domain": [
          0,
          1
         ],
         "title": {
          "text": "Unknown"
         },
         "type": "linear"
        },
        "yaxis2": {
         "anchor": "x",
         "overlaying": "y",
         "showgrid": false,
         "side": "right",
         "title": {
          "text": "Secondary Axis"
         },
         "type": "linear"
        }
       }
      }
     },
     "metadata": {},
     "output_type": "display_data"
    }
   ],
   "source": [
    "fugga = watchlist.plot_watchlist([\"A2060785W\", \"A2060784V\"], [], other_series={\"right\":[ im_prop_ofNat]}, template=\"plotly_white\", plot_title=\"Immigration to Australia\")\n",
    "fugga.show()"
   ]
  },
  {
   "cell_type": "code",
   "execution_count": 26,
   "metadata": {},
   "outputs": [],
   "source": [
    "fig.write_image(\"/Users/jamesbishop/Documents/Financial/Investment/MACRO_STUDIES/Aus_Economy/immigration.png\", scale = 3)\n",
    "fig.write_html(\"/Users/jamesbishop/Documents/Financial/Investment/MACRO_STUDIES/Aus_Economy/immigration.html\")\n"
   ]
  }
 ],
 "metadata": {
  "kernelspec": {
   "display_name": "bm",
   "language": "python",
   "name": "python3"
  },
  "language_info": {
   "codemirror_mode": {
    "name": "ipython",
    "version": 3
   },
   "file_extension": ".py",
   "mimetype": "text/x-python",
   "name": "python",
   "nbconvert_exporter": "python",
   "pygments_lexer": "ipython3",
   "version": "3.11.11"
  }
 },
 "nbformat": 4,
 "nbformat_minor": 2
}
