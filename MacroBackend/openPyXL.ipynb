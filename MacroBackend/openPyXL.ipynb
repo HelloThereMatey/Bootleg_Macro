{
 "cells": [
  {
   "cell_type": "code",
   "execution_count": 1,
   "metadata": {},
   "outputs": [],
   "source": [
    "import openpyxl\n",
    "import pandas as pd\n",
    "import os\n",
    "wd = %pwd\n",
    "parent = os.path.dirname(wd); grampa = os.path.dirname(parent)\n",
    "fdel = os.path.sep\n",
    "\n",
    "template_file = parent + fdel + 'Macro_Chartist' + fdel + 'Control.xlsm'\n",
    "name, ext = os.path.splitext(template_file)\n",
    "out_name = parent + fdel + \"User_Data\" + fdel + \"Chartist\" + fdel + \"TestCunt\" + \".xlsm\"\n",
    "template = openpyxl.load_workbook(template_file, keep_vba=True, keep_links=True, rich_text=True)\n",
    "\n",
    " # Create the workbook and worksheet we'll be working with\n",
    "sheet = template[\"Input_Template\"]\n",
    "# Create a new sheet that is a copy of Input_Template and rename it\n",
    "new_sheet = template.copy_worksheet(sheet)\n",
    "new_sheet.title = \"new_sheet\"\n",
    "\n"
   ]
  },
  {
   "cell_type": "code",
   "execution_count": 2,
   "metadata": {},
   "outputs": [
    {
     "data": {
      "text/plain": [
       "<openpyxl.worksheet.datavalidation.DataValidationList object>\n",
       "Parameters:\n",
       "disablePrompts=None, xWindow=None, yWindow=None, count=9, dataValidation=[<openpyxl.worksheet.datavalidation.DataValidation object>\n",
       "Parameters:\n",
       "sqref=<MultiCellRange [B40 B45]>, showDropDown=False, showInputMessage=True, showErrorMessage=True, allowBlank=False, errorTitle=None, error=None, promptTitle=None, prompt=None, type='list', errorStyle=None, imeMode=None, operator='equal', formula1='\"yes,no\"', formula2=None, <openpyxl.worksheet.datavalidation.DataValidation object>\n",
       "Parameters:\n",
       "sqref=<MultiCellRange [D2:D11]>, showDropDown=False, showInputMessage=True, showErrorMessage=True, allowBlank=False, errorTitle=None, error=None, promptTitle=None, prompt=None, type='list', errorStyle=None, imeMode=None, operator=None, formula1='$P$4:$P$14', formula2=None, <openpyxl.worksheet.datavalidation.DataValidation object>\n",
       "Parameters:\n",
       "sqref=<MultiCellRange [E2:E11]>, showDropDown=False, showInputMessage=True, showErrorMessage=True, allowBlank=False, errorTitle=None, error=None, promptTitle=None, prompt=None, type='list', errorStyle=None, imeMode=None, operator=None, formula1='$Q$4:$Q$151', formula2=None, <openpyxl.worksheet.datavalidation.DataValidation object>\n",
       "Parameters:\n",
       "sqref=<MultiCellRange [F2:F11]>, showDropDown=False, showInputMessage=True, showErrorMessage=True, allowBlank=False, errorTitle=None, error=None, promptTitle=None, prompt=None, type='list', errorStyle=None, imeMode=None, operator=None, formula1='$S$4:$S$5', formula2=None, <openpyxl.worksheet.datavalidation.DataValidation object>\n",
       "Parameters:\n",
       "sqref=<MultiCellRange [J2:J11]>, showDropDown=False, showInputMessage=True, showErrorMessage=True, allowBlank=False, errorTitle=None, error=None, promptTitle=None, prompt=None, type='list', errorStyle=None, imeMode=None, operator=None, formula1='$T$3:$T$5', formula2=None, <openpyxl.worksheet.datavalidation.DataValidation object>\n",
       "Parameters:\n",
       "sqref=<MultiCellRange [B50:B51]>, showDropDown=False, showInputMessage=True, showErrorMessage=True, allowBlank=False, errorTitle=None, error=None, promptTitle=None, prompt=None, type='list', errorStyle=None, imeMode=None, operator=None, formula1='\"yes,no\"', formula2=None, <openpyxl.worksheet.datavalidation.DataValidation object>\n",
       "Parameters:\n",
       "sqref=<MultiCellRange [B53:E53]>, showDropDown=False, showInputMessage=True, showErrorMessage=True, allowBlank=False, errorTitle=None, error=None, promptTitle=None, prompt=None, type='list', errorStyle=None, imeMode=None, operator=None, formula1='$U$3:$U$63', formula2=None, <openpyxl.worksheet.datavalidation.DataValidation object>\n",
       "Parameters:\n",
       "sqref=<MultiCellRange [I2:I11]>, showDropDown=False, showInputMessage=True, showErrorMessage=True, allowBlank=False, errorTitle=None, error=None, promptTitle=None, prompt=None, type='list', errorStyle=None, imeMode=None, operator=None, formula1='$R$3:$R$10', formula2=None, <openpyxl.worksheet.datavalidation.DataValidation object>\n",
       "Parameters:\n",
       "sqref=<MultiCellRange [C2:C11]>, showDropDown=False, showInputMessage=True, showErrorMessage=True, allowBlank=False, errorTitle=None, error=None, promptTitle=None, prompt=None, type='list', errorStyle=None, imeMode=None, operator=None, formula1='$O$3:$O$45', formula2=None]"
      ]
     },
     "execution_count": 2,
     "metadata": {},
     "output_type": "execute_result"
    }
   ],
   "source": [
    "sheet.data_validations"
   ]
  },
  {
   "cell_type": "code",
   "execution_count": 4,
   "metadata": {},
   "outputs": [
    {
     "data": {
      "text/plain": [
       "<openpyxl.worksheet.datavalidation.DataValidationList object>\n",
       "Parameters:\n",
       "disablePrompts=None, xWindow=None, yWindow=None, count=9, dataValidation=[<openpyxl.worksheet.datavalidation.DataValidation object>\n",
       "Parameters:\n",
       "sqref=<MultiCellRange [B40 B45]>, showDropDown=False, showInputMessage=True, showErrorMessage=True, allowBlank=False, errorTitle=None, error=None, promptTitle=None, prompt=None, type='list', errorStyle=None, imeMode=None, operator='equal', formula1='\"yes,no\"', formula2=None, <openpyxl.worksheet.datavalidation.DataValidation object>\n",
       "Parameters:\n",
       "sqref=<MultiCellRange [D2:D11]>, showDropDown=False, showInputMessage=True, showErrorMessage=True, allowBlank=False, errorTitle=None, error=None, promptTitle=None, prompt=None, type='list', errorStyle=None, imeMode=None, operator=None, formula1='$P$4:$P$14', formula2=None, <openpyxl.worksheet.datavalidation.DataValidation object>\n",
       "Parameters:\n",
       "sqref=<MultiCellRange [E2:E11]>, showDropDown=False, showInputMessage=True, showErrorMessage=True, allowBlank=False, errorTitle=None, error=None, promptTitle=None, prompt=None, type='list', errorStyle=None, imeMode=None, operator=None, formula1='$Q$4:$Q$151', formula2=None, <openpyxl.worksheet.datavalidation.DataValidation object>\n",
       "Parameters:\n",
       "sqref=<MultiCellRange [F2:F11]>, showDropDown=False, showInputMessage=True, showErrorMessage=True, allowBlank=False, errorTitle=None, error=None, promptTitle=None, prompt=None, type='list', errorStyle=None, imeMode=None, operator=None, formula1='$S$4:$S$5', formula2=None, <openpyxl.worksheet.datavalidation.DataValidation object>\n",
       "Parameters:\n",
       "sqref=<MultiCellRange [J2:J11]>, showDropDown=False, showInputMessage=True, showErrorMessage=True, allowBlank=False, errorTitle=None, error=None, promptTitle=None, prompt=None, type='list', errorStyle=None, imeMode=None, operator=None, formula1='$T$3:$T$5', formula2=None, <openpyxl.worksheet.datavalidation.DataValidation object>\n",
       "Parameters:\n",
       "sqref=<MultiCellRange [B50:B51]>, showDropDown=False, showInputMessage=True, showErrorMessage=True, allowBlank=False, errorTitle=None, error=None, promptTitle=None, prompt=None, type='list', errorStyle=None, imeMode=None, operator=None, formula1='\"yes,no\"', formula2=None, <openpyxl.worksheet.datavalidation.DataValidation object>\n",
       "Parameters:\n",
       "sqref=<MultiCellRange [B53:E53]>, showDropDown=False, showInputMessage=True, showErrorMessage=True, allowBlank=False, errorTitle=None, error=None, promptTitle=None, prompt=None, type='list', errorStyle=None, imeMode=None, operator=None, formula1='$U$3:$U$63', formula2=None, <openpyxl.worksheet.datavalidation.DataValidation object>\n",
       "Parameters:\n",
       "sqref=<MultiCellRange [I2:I11]>, showDropDown=False, showInputMessage=True, showErrorMessage=True, allowBlank=False, errorTitle=None, error=None, promptTitle=None, prompt=None, type='list', errorStyle=None, imeMode=None, operator=None, formula1='$R$3:$R$10', formula2=None, <openpyxl.worksheet.datavalidation.DataValidation object>\n",
       "Parameters:\n",
       "sqref=<MultiCellRange [C2:C11]>, showDropDown=False, showInputMessage=True, showErrorMessage=True, allowBlank=False, errorTitle=None, error=None, promptTitle=None, prompt=None, type='list', errorStyle=None, imeMode=None, operator=None, formula1='$O$3:$O$45', formula2=None]"
      ]
     },
     "execution_count": 4,
     "metadata": {},
     "output_type": "execute_result"
    }
   ],
   "source": [
    "new_sheet.data_validations = sheet.data_validations\n",
    "new_sheet.data_validations"
   ]
  },
  {
   "cell_type": "code",
   "execution_count": 8,
   "metadata": {},
   "outputs": [
    {
     "data": {
      "text/plain": [
       "'CPI and Unemployment USA and Australia'"
      ]
     },
     "execution_count": 8,
     "metadata": {},
     "output_type": "execute_result"
    }
   ],
   "source": [
    "new_sheet.cell(row = 39, column = 2).value"
   ]
  },
  {
   "cell_type": "code",
   "execution_count": null,
   "metadata": {},
   "outputs": [],
   "source": []
  }
 ],
 "metadata": {
  "kernelspec": {
   "display_name": "financial",
   "language": "python",
   "name": "python3"
  },
  "language_info": {
   "codemirror_mode": {
    "name": "ipython",
    "version": 3
   },
   "file_extension": ".py",
   "mimetype": "text/x-python",
   "name": "python",
   "nbconvert_exporter": "python",
   "pygments_lexer": "ipython3",
   "version": "3.12.2"
  }
 },
 "nbformat": 4,
 "nbformat_minor": 2
}
