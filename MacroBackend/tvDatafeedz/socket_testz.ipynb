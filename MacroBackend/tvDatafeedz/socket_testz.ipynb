{
 "cells": [
  {
   "cell_type": "code",
   "execution_count": 5,
   "metadata": {},
   "outputs": [
    {
     "data": {
      "text/plain": [
       "101"
      ]
     },
     "execution_count": 5,
     "metadata": {},
     "output_type": "execute_result"
    }
   ],
   "source": [
    "import websockets as wst\n",
    "from websocketer import create_connection\n",
    "import json\n",
    "from tvDataFeedz import TvDatafeed\n",
    "\n",
    "def make_connection():\n",
    "\n",
    "    sign_in_url = 'https://www.tradingview.com/accounts/signin/'\n",
    "    search_url = 'https://symbol-search.tradingview.com/symbol_search/?text={}&hl=1&exchange={}&lang=en&type=&domain=production'\n",
    "    ws_headers = json.dumps({\"Origin\": \"https://data.tradingview.com\"})\n",
    "    signin_headers = {'Referer': 'https://www.tradingview.com'}\n",
    "    ws_timeout = 5\n",
    " \n",
    "    ws = create_connection(\n",
    "        \"wss://data.tradingview.com/socket.io/websocket\", headers = ws_headers, timeout= ws_timeout)\n",
    "    return ws\n",
    "\n",
    "# ws = make_connection()\n",
    "# ws.getstatus()\n",
    "\n",
    "tv = TvDatafeed()\n",
    "tv.get_hist(\"BTCUSD\", exchange=\"INDEX\", interval=)\n",
    "\n"
   ]
  },
  {
   "cell_type": "code",
   "execution_count": null,
   "metadata": {},
   "outputs": [],
   "source": []
  }
 ],
 "metadata": {
  "kernelspec": {
   "display_name": "lwcharts",
   "language": "python",
   "name": "python3"
  },
  "language_info": {
   "codemirror_mode": {
    "name": "ipython",
    "version": 3
   },
   "file_extension": ".py",
   "mimetype": "text/x-python",
   "name": "python",
   "nbconvert_exporter": "python",
   "pygments_lexer": "ipython3",
   "version": "3.9.18"
  }
 },
 "nbformat": 4,
 "nbformat_minor": 2
}
