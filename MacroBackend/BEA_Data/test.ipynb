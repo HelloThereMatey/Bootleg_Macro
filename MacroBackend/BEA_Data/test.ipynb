{
 "cells": [
  {
   "cell_type": "code",
   "execution_count": 14,
   "metadata": {},
   "outputs": [
    {
     "name": "stdout",
     "output_type": "stream",
     "text": [
      "{'_internal.classic_mode': False, 'agg.path.chunksize': 0, 'animation.avconv_args': [], 'animation.avconv_path': 'avconv', 'animation.bitrate': -1, 'animation.codec': 'h264', 'animation.convert_args': [], 'animation.convert_path': 'convert', 'animation.embed_limit': 20.0, 'animation.ffmpeg_args': [], 'animation.ffmpeg_path': 'ffmpeg', 'animation.frame_format': 'png', 'animation.html': 'none', 'animation.html_args': [], 'animation.writer': 'ffmpeg', 'axes.autolimit_mode': 'data', 'axes.axisbelow': 'line', 'axes.edgecolor': 'black', 'axes.facecolor': 'white', 'axes.formatter.limits': [-5, 6], 'axes.formatter.min_exponent': 0, 'axes.formatter.offset_threshold': 4, 'axes.formatter.use_locale': False, 'axes.formatter.use_mathtext': False, 'axes.formatter.useoffset': True, 'axes.grid': False, 'axes.grid.axis': 'both', 'axes.grid.which': 'major', 'axes.labelcolor': 'black', 'axes.labelpad': 4.0, 'axes.labelsize': 'medium', 'axes.labelweight': 'normal', 'axes.linewidth': 0.8, 'axes.prop_cycle': 5}\n",
      "{'_internal.classic_mode': False, 'agg.path.chunksize': 0, 'animation.bitrate': -1, 'animation.codec': 'h264', 'animation.convert_args': ['-layers', 'OptimizePlus'], 'animation.convert_path': 'convert', 'animation.embed_limit': 20.0, 'animation.ffmpeg_args': [], 'animation.ffmpeg_path': 'ffmpeg', 'animation.frame_format': 'png', 'animation.html': 'none', 'animation.writer': 'ffmpeg', 'axes.autolimit_mode': 'data', 'axes.axisbelow': 'line', 'axes.edgecolor': 'black', 'axes.facecolor': 'white', 'axes.formatter.limits': [-5, 6], 'axes.formatter.min_exponent': 0, 'axes.formatter.offset_threshold': 4, 'axes.formatter.use_locale': False, 'axes.formatter.use_mathtext': False, 'axes.formatter.useoffset': True, 'axes.grid': False, 'axes.grid.axis': 'both', 'axes.grid.which': 'major', 'axes.labelcolor': 'black', 'axes.labelpad': 4.0, 'axes.labelsize': 'medium', 'axes.labelweight': 'normal', 'axes.linewidth': 0.8, 'axes.prop_cycle': 4}\n",
      "Difference in 'animation.avconv_args': '[]' (env1) vs 'Not present in second file' (env2)\n",
      "Difference in 'animation.avconv_path': 'avconv' (env1) vs 'Not present in second file' (env2)\n",
      "Difference in 'animation.convert_args': '[]' (env1) vs '['-layers', 'OptimizePlus']' (env2)\n",
      "Difference in 'animation.html_args': '[]' (env1) vs 'Not present in second file' (env2)\n",
      "Difference in 'axes.prop_cycle': '5' (env1) vs '4' (env2)\n"
     ]
    }
   ],
   "source": [
    "import os\n",
    "import json\n",
    "from pprint import pprint\n",
    "###### Determine what OS this is running on and get appropriate path delimiter. #########\n",
    "FDel = os.path.sep\n",
    "wd = \"/Users/jamesbishop/Documents/Python/TempVenv/Plebs_Macro/MacroBackend/BEA_Data\"\n",
    "\n",
    "def load_rcparams_from_file(filename):\n",
    "    rcparams = {}\n",
    "    envPars = open(wd+filename)\n",
    "    envPars_dict = dict(json.load(envPars))\n",
    "            \n",
    "    return envPars_dict\n",
    "\n",
    "def compare_rcparams(file1, file2):\n",
    "    rcparams1 = load_rcparams_from_file(file1)\n",
    "    rcparams2 = load_rcparams_from_file(file2)\n",
    "\n",
    "    differences = {}\n",
    "    for key in rcparams1:\n",
    "        if rcparams1[key] != rcparams2.get(key, None):\n",
    "            differences[key] = (rcparams1[key], rcparams2.get(key, 'Not present in second file'))\n",
    "\n",
    "    return differences\n",
    "\n",
    "# Specify the filenames\n",
    "file1 = \"/Env1_pars.json\"\n",
    "file2 = \"/Env2_pars.json\"\n",
    "\n",
    "#Compare and print differences\n",
    "differences = compare_rcparams(file1, file2)\n",
    "for key, (val1, val2) in differences.items():\n",
    "    print(f\"Difference in '{key}': '{val1}' (env1) vs '{val2}' (env2)\")\n",
    "\n",
    "if not differences:\n",
    "    print(\"No differences found.\")\n"
   ]
  },
  {
   "cell_type": "code",
   "execution_count": null,
   "metadata": {},
   "outputs": [],
   "source": [
    "import EU_BEA_GUI"
   ]
  }
 ],
 "metadata": {
  "kernelspec": {
   "display_name": "Python 3",
   "language": "python",
   "name": "python3"
  },
  "language_info": {
   "codemirror_mode": {
    "name": "ipython",
    "version": 3
   },
   "file_extension": ".py",
   "mimetype": "text/x-python",
   "name": "python",
   "nbconvert_exporter": "python",
   "pygments_lexer": "ipython3",
   "version": "3.9.6"
  }
 },
 "nbformat": 4,
 "nbformat_minor": 2
}
