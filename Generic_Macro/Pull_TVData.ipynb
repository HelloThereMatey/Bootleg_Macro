{
 "cells": [
  {
   "cell_type": "code",
   "execution_count": 4,
   "metadata": {},
   "outputs": [
    {
     "name": "stderr",
     "output_type": "stream",
     "text": [
      "you are using nologin method, data you access may be limited\n"
     ]
    },
    {
     "name": "stdout",
     "output_type": "stream",
     "text": [
      "[{'symbol': 'CNLIVRR', 'description': 'China Liquidity Injections Via Reverse Repo', 'type': 'economic', 'exchange': 'ECONOMICS', 'currency_code': 'CNY', 'logoid': 'country/CN', 'provider_id': 'economics', 'economic_category': {'id': 'mny', 'name': 'Money'}, 'source2': {'id': 'CNCB', 'name': 'CB, China', 'description': 'Central Bank'}, 'source_id': 'CNCB', 'country': 'CN', 'params': ['eod']}]\n"
     ]
    }
   ],
   "source": [
    "import sys; sys.path.append(\"/Users/jamesbishop/Documents/Python/TempVenv/Plebs_Macro/MacroBackend\")\n",
    "from tvDatafeedz import TvDatafeed, Interval\n",
    "\n",
    "cat = TvDatafeed()\n",
    "ticker = cat.search_symbol(\"CNLIVRR\")\n",
    "print(ticker)\n"
   ]
  },
  {
   "cell_type": "code",
   "execution_count": null,
   "metadata": {},
   "outputs": [],
   "source": []
  },
  {
   "cell_type": "code",
   "execution_count": null,
   "metadata": {},
   "outputs": [],
   "source": []
  }
 ],
 "metadata": {
  "kernelspec": {
   "display_name": "Python 3",
   "language": "python",
   "name": "python3"
  },
  "language_info": {
   "codemirror_mode": {
    "name": "ipython",
    "version": 3
   },
   "file_extension": ".py",
   "mimetype": "text/x-python",
   "name": "python",
   "nbconvert_exporter": "python",
   "pygments_lexer": "ipython3",
   "version": "3.9.6"
  }
 },
 "nbformat": 4,
 "nbformat_minor": 2
}
